{
 "cells": [
  {
   "cell_type": "markdown",
   "id": "c4d198e6",
   "metadata": {},
   "source": [
    "# SQL Databases"
   ]
  },
  {
   "cell_type": "markdown",
   "id": "402ba12c",
   "metadata": {},
   "source": [
    "## SQL Create Databases\n",
    "\n",
    "In SQL, the 'Create Database' statement is a first step for storing the structured data in the database.\n",
    "\n",
    "The database developers and the users use this statement in SQL for creating the new database in the database systems.\n",
    "\n",
    "It creates the database with the name which has been specified in the Create Database statement.\n",
    "\n",
    "#### Syntax of Create Database statement in SQL\n",
    ">CREATE DATABASE Database_Name;  \n",
    "\n",
    "In this syntax, Database_Name specifies the name of the database which we want to create in the system. We have to type the database name in query just after the 'Create Database' keyword.\n",
    "\n",
    "**Following are the most important points which are required to learn while creating a database:**\n",
    "\n",
    "- The database we want to create should be a simple and unique name, which can be easily identified.\n",
    "- Database name should be no more than 128 characters."
   ]
  },
  {
   "cell_type": "markdown",
   "id": "b601f13c",
   "metadata": {},
   "source": [
    "## SQL DROP Database\n",
    "The SQL Drop Database statement deletes the existing database permanently from the database system. This statement deletes all the views and tables if stored in the database, so be careful while using this query in SQL.\n",
    "\n",
    "**Following are the most important points which are required to learn before removing the database from the database system:**\n",
    "\n",
    "- This statement deletes all the data from the database. If you want to restore the deleted data in the future, you should keep the backup of data of that database which you want to delete.\n",
    "- Another most important point is that you cannot delete that database from the system which is currently in use by another database user. If you do so, then the drop statement shows the following error on screen:\n",
    "- Cannot drop database \"name_of_the_database\" because it is currently in use.  \n",
    "\n",
    "**Syntax of Drop Database Statement in SQL**\n",
    "> DROP DATABASE Database_Name;  \n",
    "\n",
    "In this SQL syntax, we have to specify the name of that database which we want to delete permanently from the database system. We have to write the name of the database after the DROP DATABASE keyword in every example.\n",
    "\n",
    "We can also delete multiple databases easily by using the single DROP syntax:\n",
    "\n",
    "> DROP DATABASE Database_Name1, [ Database_Name2, ......., Database_NameN ] ;"
   ]
  },
  {
   "cell_type": "markdown",
   "id": "8eb0e0eb",
   "metadata": {},
   "source": [
    "## SQL RENAME Database\n",
    "In some situations, database users and administrators want to change the name of the database for some technical reasons. So, the Rename Database statement in SQL is used to change the name of the existing database.\n",
    "\n",
    "Sometimes, the Rename Database statement is used because the developers think that the original name is not more relevant to the data of the database, or they want to give a temporary name to that database.\n",
    "\n",
    "**Syntax of Rename Database in SQL**\n",
    ">ALTER DATABASE old_database_name MODIFY NAME = new_database_name;  \n",
    "EXEC sp_renamedb'old_database_name' , 'new_database_name'  \n",
    "\n",
    "**Syntax of Rename Database in MySQL**\n",
    ">RENAME DATABASE old_database_name TO new_database_name;   \n",
    "\n",
    "This syntax is used when we want to change the name of the database in MySQL."
   ]
  },
  {
   "cell_type": "markdown",
   "id": "d00ed3d2",
   "metadata": {},
   "source": [
    "## SQL SELECT Database\n",
    "Suppose database users and administrators want to perform some operations on tables, views, and indexes on the specific existing database in SQL. Firstly, they have to select the database on which they want to run the database queries.\n",
    "\n",
    "Any database user and administrator can easily select the particular database from the current database server using the USE statement in SQL.\n",
    "\n",
    "**Syntax of USE statement in SQL**\n",
    "> USE database_name;   \n",
    "\n",
    "In this syntax, we have to define the name of the database after the USE keyword and the name of the database must be unique."
   ]
  }
 ],
 "metadata": {
  "kernelspec": {
   "display_name": "Python 3",
   "language": "python",
   "name": "python3"
  },
  "language_info": {
   "codemirror_mode": {
    "name": "ipython",
    "version": 3
   },
   "file_extension": ".py",
   "mimetype": "text/x-python",
   "name": "python",
   "nbconvert_exporter": "python",
   "pygments_lexer": "ipython3",
   "version": "3.8.8"
  }
 },
 "nbformat": 4,
 "nbformat_minor": 5
}
