{
 "cells": [
  {
   "cell_type": "markdown",
   "id": "25b0f550",
   "metadata": {},
   "source": [
    "# Recurrent Neural Networks"
   ]
  },
  {
   "cell_type": "markdown",
   "id": "20f6967c",
   "metadata": {},
   "source": [
    "Recurrent Neural Network is a sequence model, used mainly for Natural Language Processing task.\n",
    "\n",
    "In overall CNN was typically used for image classification data While RNN is mainly used in NLP.\n",
    "\n",
    "RNN are typically used in NLP related domains, some of them are listed for your reference:-\n",
    "\n",
    "**1) Machine Translation:** Google Translator is one of the applications build using RNN\n",
    "\n",
    "**2) Speech Recognition:** Alexa, Google Duo, Siri\n",
    "\n",
    "**3) Sentiment Analysis:** Predict a sentence whether it is positive or negative.\n",
    "\n",
    "**4) Text Auto Completion:** Gmail."
   ]
  },
  {
   "cell_type": "markdown",
   "id": "686de001",
   "metadata": {},
   "source": [
    "## Types of RNN:-\n",
    "\n",
    "**1) One to One:** Number of input is 1 and the number of output is 1,\n",
    "\n",
    "**2) One to Many:** Number of input is 1 and number of output more than 1,\n",
    "\n",
    "**3) Many to One:** Number of input is more than 1 and output is 1,\n",
    "\n",
    "**4) Many to Many:** Number of input is more than 1 and number of output is more than 1."
   ]
  },
  {
   "cell_type": "markdown",
   "id": "606b0185",
   "metadata": {},
   "source": [
    "<img src='https://static.javatpoint.com/tutorial/tensorflow/images/tensorflow-types-of-rnn.png'>"
   ]
  },
  {
   "cell_type": "markdown",
   "id": "bcf9f5ea",
   "metadata": {},
   "source": [
    "## Example:- Monthly Milk Production"
   ]
  },
  {
   "cell_type": "code",
   "execution_count": 1,
   "id": "9fe4f6ee",
   "metadata": {},
   "outputs": [],
   "source": [
    "import numpy as np\n",
    "import pandas as pd\n",
    "import matplotlib.pyplot as plt"
   ]
  },
  {
   "cell_type": "code",
   "execution_count": 2,
   "id": "b0de0c72",
   "metadata": {},
   "outputs": [
    {
     "data": {
      "text/html": [
       "<div>\n",
       "<style scoped>\n",
       "    .dataframe tbody tr th:only-of-type {\n",
       "        vertical-align: middle;\n",
       "    }\n",
       "\n",
       "    .dataframe tbody tr th {\n",
       "        vertical-align: top;\n",
       "    }\n",
       "\n",
       "    .dataframe thead th {\n",
       "        text-align: right;\n",
       "    }\n",
       "</style>\n",
       "<table border=\"1\" class=\"dataframe\">\n",
       "  <thead>\n",
       "    <tr style=\"text-align: right;\">\n",
       "      <th></th>\n",
       "      <th>Date</th>\n",
       "      <th>Production</th>\n",
       "    </tr>\n",
       "  </thead>\n",
       "  <tbody>\n",
       "    <tr>\n",
       "      <th>0</th>\n",
       "      <td>1962-01</td>\n",
       "      <td>589</td>\n",
       "    </tr>\n",
       "    <tr>\n",
       "      <th>1</th>\n",
       "      <td>1962-02</td>\n",
       "      <td>561</td>\n",
       "    </tr>\n",
       "    <tr>\n",
       "      <th>2</th>\n",
       "      <td>1962-03</td>\n",
       "      <td>640</td>\n",
       "    </tr>\n",
       "    <tr>\n",
       "      <th>3</th>\n",
       "      <td>1962-04</td>\n",
       "      <td>656</td>\n",
       "    </tr>\n",
       "    <tr>\n",
       "      <th>4</th>\n",
       "      <td>1962-05</td>\n",
       "      <td>727</td>\n",
       "    </tr>\n",
       "    <tr>\n",
       "      <th>...</th>\n",
       "      <td>...</td>\n",
       "      <td>...</td>\n",
       "    </tr>\n",
       "    <tr>\n",
       "      <th>163</th>\n",
       "      <td>1975-08</td>\n",
       "      <td>858</td>\n",
       "    </tr>\n",
       "    <tr>\n",
       "      <th>164</th>\n",
       "      <td>1975-09</td>\n",
       "      <td>817</td>\n",
       "    </tr>\n",
       "    <tr>\n",
       "      <th>165</th>\n",
       "      <td>1975-10</td>\n",
       "      <td>827</td>\n",
       "    </tr>\n",
       "    <tr>\n",
       "      <th>166</th>\n",
       "      <td>1975-11</td>\n",
       "      <td>797</td>\n",
       "    </tr>\n",
       "    <tr>\n",
       "      <th>167</th>\n",
       "      <td>1975-12</td>\n",
       "      <td>843</td>\n",
       "    </tr>\n",
       "  </tbody>\n",
       "</table>\n",
       "<p>168 rows × 2 columns</p>\n",
       "</div>"
      ],
      "text/plain": [
       "        Date  Production\n",
       "0    1962-01         589\n",
       "1    1962-02         561\n",
       "2    1962-03         640\n",
       "3    1962-04         656\n",
       "4    1962-05         727\n",
       "..       ...         ...\n",
       "163  1975-08         858\n",
       "164  1975-09         817\n",
       "165  1975-10         827\n",
       "166  1975-11         797\n",
       "167  1975-12         843\n",
       "\n",
       "[168 rows x 2 columns]"
      ]
     },
     "execution_count": 2,
     "metadata": {},
     "output_type": "execute_result"
    }
   ],
   "source": [
    "pd.read_csv('datasets/monthly_milk_production.csv')"
   ]
  },
  {
   "cell_type": "code",
   "execution_count": 3,
   "id": "be6eb765",
   "metadata": {},
   "outputs": [],
   "source": [
    "milk_df = pd.read_csv('datasets/monthly_milk_production.csv', index_col='Date', parse_dates=True)"
   ]
  },
  {
   "cell_type": "code",
   "execution_count": 4,
   "id": "7ec7bf3e",
   "metadata": {},
   "outputs": [
    {
     "data": {
      "text/html": [
       "<div>\n",
       "<style scoped>\n",
       "    .dataframe tbody tr th:only-of-type {\n",
       "        vertical-align: middle;\n",
       "    }\n",
       "\n",
       "    .dataframe tbody tr th {\n",
       "        vertical-align: top;\n",
       "    }\n",
       "\n",
       "    .dataframe thead th {\n",
       "        text-align: right;\n",
       "    }\n",
       "</style>\n",
       "<table border=\"1\" class=\"dataframe\">\n",
       "  <thead>\n",
       "    <tr style=\"text-align: right;\">\n",
       "      <th></th>\n",
       "      <th>Production</th>\n",
       "    </tr>\n",
       "    <tr>\n",
       "      <th>Date</th>\n",
       "      <th></th>\n",
       "    </tr>\n",
       "  </thead>\n",
       "  <tbody>\n",
       "    <tr>\n",
       "      <th>1962-01-01</th>\n",
       "      <td>589</td>\n",
       "    </tr>\n",
       "    <tr>\n",
       "      <th>1962-02-01</th>\n",
       "      <td>561</td>\n",
       "    </tr>\n",
       "    <tr>\n",
       "      <th>1962-03-01</th>\n",
       "      <td>640</td>\n",
       "    </tr>\n",
       "    <tr>\n",
       "      <th>1962-04-01</th>\n",
       "      <td>656</td>\n",
       "    </tr>\n",
       "    <tr>\n",
       "      <th>1962-05-01</th>\n",
       "      <td>727</td>\n",
       "    </tr>\n",
       "    <tr>\n",
       "      <th>...</th>\n",
       "      <td>...</td>\n",
       "    </tr>\n",
       "    <tr>\n",
       "      <th>1975-08-01</th>\n",
       "      <td>858</td>\n",
       "    </tr>\n",
       "    <tr>\n",
       "      <th>1975-09-01</th>\n",
       "      <td>817</td>\n",
       "    </tr>\n",
       "    <tr>\n",
       "      <th>1975-10-01</th>\n",
       "      <td>827</td>\n",
       "    </tr>\n",
       "    <tr>\n",
       "      <th>1975-11-01</th>\n",
       "      <td>797</td>\n",
       "    </tr>\n",
       "    <tr>\n",
       "      <th>1975-12-01</th>\n",
       "      <td>843</td>\n",
       "    </tr>\n",
       "  </tbody>\n",
       "</table>\n",
       "<p>168 rows × 1 columns</p>\n",
       "</div>"
      ],
      "text/plain": [
       "            Production\n",
       "Date                  \n",
       "1962-01-01         589\n",
       "1962-02-01         561\n",
       "1962-03-01         640\n",
       "1962-04-01         656\n",
       "1962-05-01         727\n",
       "...                ...\n",
       "1975-08-01         858\n",
       "1975-09-01         817\n",
       "1975-10-01         827\n",
       "1975-11-01         797\n",
       "1975-12-01         843\n",
       "\n",
       "[168 rows x 1 columns]"
      ]
     },
     "execution_count": 4,
     "metadata": {},
     "output_type": "execute_result"
    }
   ],
   "source": [
    "milk_df"
   ]
  },
  {
   "cell_type": "code",
   "execution_count": 5,
   "id": "ed8f4fc9",
   "metadata": {},
   "outputs": [
    {
     "data": {
      "text/plain": [
       "<AxesSubplot:xlabel='Date'>"
      ]
     },
     "execution_count": 5,
     "metadata": {},
     "output_type": "execute_result"
    },
    {
     "data": {
      "image/png": "[encoded data removed]",
      "text/plain": [
       "<Figure size 864x432 with 1 Axes>"
      ]
     },
     "metadata": {
      "needs_background": "light"
     },
     "output_type": "display_data"
    }
   ],
   "source": [
    "milk_df.plot(figsize=(12,6))"
   ]
  },
  {
   "cell_type": "markdown",
   "id": "c7807967",
   "metadata": {},
   "source": [
    "### Production Seasonality"
   ]
  },
  {
   "cell_type": "code",
   "execution_count": 6,
   "id": "6b044986",
   "metadata": {},
   "outputs": [],
   "source": [
    "from statsmodels.tsa.seasonal import seasonal_decompose"
   ]
  },
  {
   "cell_type": "code",
   "execution_count": 7,
   "id": "ac4d58dd",
   "metadata": {},
   "outputs": [],
   "source": [
    "result = seasonal_decompose(milk_df['Production'])"
   ]
  },
  {
   "cell_type": "code",
   "execution_count": 8,
   "id": "db307746",
   "metadata": {},
   "outputs": [
    {
     "data": {
      "text/plain": [
       "<statsmodels.tsa.seasonal.DecomposeResult at 0x8024de46a0>"
      ]
     },
     "execution_count": 8,
     "metadata": {},
     "output_type": "execute_result"
    }
   ],
   "source": [
    "result"
   ]
  },
  {
   "cell_type": "code",
   "execution_count": 13,
   "id": "2b09530f",
   "metadata": {},
   "outputs": [
    {
     "data": {
      "image/png": "[encoded data removed]",
      "text/plain": [
       "<Figure size 432x288 with 4 Axes>"
      ]
     },
     "metadata": {
      "needs_background": "light"
     },
     "output_type": "display_data"
    }
   ],
   "source": [
    "result.plot()\n",
    "plt.show()"
   ]
  },
  {
   "cell_type": "code",
   "execution_count": 14,
   "id": "c24cb95c",
   "metadata": {},
   "outputs": [
    {
     "data": {
      "text/plain": [
       "(168, 1)"
      ]
     },
     "execution_count": 14,
     "metadata": {},
     "output_type": "execute_result"
    }
   ],
   "source": [
    "milk_df.shape"
   ]
  },
  {
   "cell_type": "markdown",
   "id": "332f818f",
   "metadata": {},
   "source": [
    "### Training & Tesing Data"
   ]
  },
  {
   "cell_type": "code",
   "execution_count": 24,
   "id": "66b1ea93",
   "metadata": {},
   "outputs": [],
   "source": [
    "train_df = milk_df.iloc[:156]"
   ]
  },
  {
   "cell_type": "code",
   "execution_count": 25,
   "id": "181674da",
   "metadata": {},
   "outputs": [],
   "source": [
    "test_df = milk_df.iloc[156:]"
   ]
  },
  {
   "cell_type": "code",
   "execution_count": 26,
   "id": "98fe2c90",
   "metadata": {},
   "outputs": [
    {
     "data": {
      "text/plain": [
       "(156, 1)"
      ]
     },
     "execution_count": 26,
     "metadata": {},
     "output_type": "execute_result"
    }
   ],
   "source": [
    "train_df.shape"
   ]
  },
  {
   "cell_type": "code",
   "execution_count": 27,
   "id": "ccb5d50b",
   "metadata": {},
   "outputs": [
    {
     "data": {
      "text/plain": [
       "(12, 1)"
      ]
     },
     "execution_count": 27,
     "metadata": {},
     "output_type": "execute_result"
    }
   ],
   "source": [
    "test_df.shape"
   ]
  },
  {
   "cell_type": "markdown",
   "id": "40acbb9f",
   "metadata": {},
   "source": [
    "### Preprocessing"
   ]
  },
  {
   "cell_type": "code",
   "execution_count": 28,
   "id": "a056e8f8",
   "metadata": {},
   "outputs": [],
   "source": [
    "from sklearn.preprocessing import MinMaxScaler"
   ]
  },
  {
   "cell_type": "code",
   "execution_count": 29,
   "id": "996f2c8f",
   "metadata": {},
   "outputs": [],
   "source": [
    "scaler = MinMaxScaler()"
   ]
  },
  {
   "cell_type": "code",
   "execution_count": 30,
   "id": "c3c676fb",
   "metadata": {},
   "outputs": [
    {
     "data": {
      "text/plain": [
       "MinMaxScaler()"
      ]
     },
     "execution_count": 30,
     "metadata": {},
     "output_type": "execute_result"
    }
   ],
   "source": [
    "scaler.fit(train_df)"
   ]
  },
  {
   "cell_type": "code",
   "execution_count": 31,
   "id": "9388516b",
   "metadata": {},
   "outputs": [],
   "source": [
    "scaled_train_df = scaler.transform(train_df)"
   ]
  },
  {
   "cell_type": "code",
   "execution_count": 32,
   "id": "935438d7",
   "metadata": {},
   "outputs": [],
   "source": [
    "scaled_test_df = scaler.transform(test_df)"
   ]
  },
  {
   "cell_type": "code",
   "execution_count": 35,
   "id": "175894af",
   "metadata": {},
   "outputs": [
    {
     "data": {
      "text/plain": [
       "array([[0.08653846],\n",
       "       [0.01923077],\n",
       "       [0.20913462],\n",
       "       [0.24759615],\n",
       "       [0.41826923]])"
      ]
     },
     "execution_count": 35,
     "metadata": {},
     "output_type": "execute_result"
    }
   ],
   "source": [
    "scaled_train_df[:5]"
   ]
  },
  {
   "cell_type": "code",
   "execution_count": 36,
   "id": "839b11c8",
   "metadata": {},
   "outputs": [
    {
     "data": {
      "text/plain": [
       "array([[0.67548077],\n",
       "       [0.55048077],\n",
       "       [0.81490385],\n",
       "       [0.84134615],\n",
       "       [0.99278846]])"
      ]
     },
     "execution_count": 36,
     "metadata": {},
     "output_type": "execute_result"
    }
   ],
   "source": [
    "scaled_test_df[:5]"
   ]
  },
  {
   "cell_type": "markdown",
   "id": "b6948d00",
   "metadata": {},
   "source": [
    "### Time Series Generator"
   ]
  },
  {
   "cell_type": "code",
   "execution_count": 37,
   "id": "6ccf9b29",
   "metadata": {},
   "outputs": [],
   "source": [
    "from keras.preprocessing.sequence import TimeseriesGenerator"
   ]
  },
  {
   "cell_type": "code",
   "execution_count": 38,
   "id": "f10a0dc5",
   "metadata": {},
   "outputs": [],
   "source": [
    "#lenght 3 months\n",
    "time_ser_gen = TimeseriesGenerator(data=scaled_train_df, targets=scaled_train_df, length=3, batch_size=1)"
   ]
  },
  {
   "cell_type": "code",
   "execution_count": 39,
   "id": "dc35ec70",
   "metadata": {},
   "outputs": [
    {
     "data": {
      "text/plain": [
       "156"
      ]
     },
     "execution_count": 39,
     "metadata": {},
     "output_type": "execute_result"
    }
   ],
   "source": [
    "len(scaled_train_df)"
   ]
  },
  {
   "cell_type": "code",
   "execution_count": 40,
   "id": "fddceff5",
   "metadata": {},
   "outputs": [
    {
     "data": {
      "text/plain": [
       "153"
      ]
     },
     "execution_count": 40,
     "metadata": {},
     "output_type": "execute_result"
    }
   ],
   "source": [
    "len(time_ser_gen)"
   ]
  },
  {
   "cell_type": "code",
   "execution_count": 45,
   "id": "b74751e3",
   "metadata": {},
   "outputs": [],
   "source": [
    "X, y = time_ser_gen[0]"
   ]
  },
  {
   "cell_type": "code",
   "execution_count": 46,
   "id": "fa4bf2d0",
   "metadata": {},
   "outputs": [
    {
     "data": {
      "text/plain": [
       "array([[[0.08653846],\n",
       "        [0.01923077],\n",
       "        [0.20913462]]])"
      ]
     },
     "execution_count": 46,
     "metadata": {},
     "output_type": "execute_result"
    }
   ],
   "source": [
    "X"
   ]
  },
  {
   "cell_type": "code",
   "execution_count": 47,
   "id": "00251a14",
   "metadata": {},
   "outputs": [
    {
     "data": {
      "text/plain": [
       "array([[0.24759615]])"
      ]
     },
     "execution_count": 47,
     "metadata": {},
     "output_type": "execute_result"
    }
   ],
   "source": [
    "y"
   ]
  },
  {
   "cell_type": "code",
   "execution_count": 54,
   "id": "e1704eac",
   "metadata": {},
   "outputs": [
    {
     "name": "stdout",
     "output_type": "stream",
     "text": [
      "Given Array is: [0.08653846 0.01923077 0.20913462]\n",
      "Predicted Array is: [0.24759615]\n"
     ]
    }
   ],
   "source": [
    "print(f'Given Array is: {X.flatten()}')\n",
    "print(f'Predicted Array is: {y.flatten()}')"
   ]
  },
  {
   "cell_type": "code",
   "execution_count": 55,
   "id": "89029531",
   "metadata": {},
   "outputs": [
    {
     "data": {
      "text/plain": [
       "(1, 3, 1)"
      ]
     },
     "execution_count": 55,
     "metadata": {},
     "output_type": "execute_result"
    }
   ],
   "source": [
    "X.shape"
   ]
  },
  {
   "cell_type": "code",
   "execution_count": 56,
   "id": "bddc9d15",
   "metadata": {},
   "outputs": [
    {
     "data": {
      "text/plain": [
       "(1, 1)"
      ]
     },
     "execution_count": 56,
     "metadata": {},
     "output_type": "execute_result"
    }
   ],
   "source": [
    "y.shape"
   ]
  },
  {
   "cell_type": "code",
   "execution_count": 57,
   "id": "281db52a",
   "metadata": {},
   "outputs": [],
   "source": [
    "#lenght 12 months\n",
    "\n",
    "time_ser_gen2 = TimeseriesGenerator(\n",
    "    data=scaled_train_df,\n",
    "    targets=scaled_train_df,\n",
    "    length=12,\n",
    "    batch_size=1\n",
    ")"
   ]
  },
  {
   "cell_type": "code",
   "execution_count": 58,
   "id": "02727338",
   "metadata": {},
   "outputs": [],
   "source": [
    "X2,y2 = time_ser_gen2[0]"
   ]
  },
  {
   "cell_type": "code",
   "execution_count": 60,
   "id": "714f74cf",
   "metadata": {},
   "outputs": [
    {
     "name": "stdout",
     "output_type": "stream",
     "text": [
      "Given Array is:\n",
      " [0.08653846 0.01923077 0.20913462 0.24759615 0.41826923 0.34615385\n",
      " 0.20913462 0.11057692 0.03605769 0.05769231 0.         0.06971154]\n",
      "Predicted Array is: [0.11298077]\n"
     ]
    }
   ],
   "source": [
    "print(f'Given Array is:\\n {X2.flatten()}')\n",
    "print(f'Predicted Array is: {y2.flatten()}')"
   ]
  },
  {
   "cell_type": "markdown",
   "id": "c1016581",
   "metadata": {},
   "source": [
    "### Building RNN Model"
   ]
  },
  {
   "cell_type": "code",
   "execution_count": 61,
   "id": "79ddfb7b",
   "metadata": {},
   "outputs": [],
   "source": [
    "from keras.models import Sequential\n",
    "from keras.layers import Dense, LSTM"
   ]
  },
  {
   "cell_type": "code",
   "execution_count": 64,
   "id": "65df798d",
   "metadata": {},
   "outputs": [],
   "source": [
    "rnn_model = Sequential()"
   ]
  },
  {
   "cell_type": "code",
   "execution_count": 65,
   "id": "260b80ef",
   "metadata": {},
   "outputs": [],
   "source": [
    "rnn_model.add(LSTM(100, activation='relu', input_shape=(12,1)))\n",
    "rnn_model.add(Dense(1))"
   ]
  },
  {
   "cell_type": "code",
   "execution_count": 66,
   "id": "09a23dc8",
   "metadata": {},
   "outputs": [],
   "source": [
    "rnn_model.compile(optimizer='adam', loss='mse')"
   ]
  },
  {
   "cell_type": "code",
   "execution_count": 67,
   "id": "144379eb",
   "metadata": {},
   "outputs": [
    {
     "name": "stdout",
     "output_type": "stream",
     "text": [
      "Model: \"sequential_1\"\n",
      "_________________________________________________________________\n",
      " Layer (type)                Output Shape              Param #   \n",
      "=================================================================\n",
      " lstm_1 (LSTM)               (None, 100)               40800     \n",
      "                                                                 \n",
      " dense (Dense)               (None, 1)                 101       \n",
      "                                                                 \n",
      "=================================================================\n",
      "Total params: 40,901\n",
      "Trainable params: 40,901\n",
      "Non-trainable params: 0\n",
      "_________________________________________________________________\n"
     ]
    }
   ],
   "source": [
    "rnn_model.summary()"
   ]
  },
  {
   "cell_type": "code",
   "execution_count": 68,
   "id": "e83239f2",
   "metadata": {},
   "outputs": [
    {
     "name": "stdout",
     "output_type": "stream",
     "text": [
      "Epoch 1/50\n",
      "144/144 [==============================] - 142s 14ms/step - loss: 0.0431\n",
      "Epoch 2/50\n",
      "144/144 [==============================] - 1s 8ms/step - loss: 0.0228\n",
      "Epoch 3/50\n",
      "144/144 [==============================] - 2s 11ms/step - loss: 0.0224\n",
      "Epoch 4/50\n",
      "144/144 [==============================] - 1s 6ms/step - loss: 0.0218\n",
      "Epoch 5/50\n",
      "144/144 [==============================] - 1s 6ms/step - loss: 0.0173\n",
      "Epoch 6/50\n",
      "144/144 [==============================] - 1s 6ms/step - loss: 0.0179\n",
      "Epoch 7/50\n",
      "144/144 [==============================] - 2s 10ms/step - loss: 0.0097\n",
      "Epoch 8/50\n",
      "144/144 [==============================] - 1s 7ms/step - loss: 0.0082A: 0s \n",
      "Epoch 9/50\n",
      "144/144 [==============================] - 1s 6ms/step - loss: 0.0075\n",
      "Epoch 10/50\n",
      "144/144 [==============================] - 1s 6ms/step - loss: 0.0047\n",
      "Epoch 11/50\n",
      "144/144 [==============================] - 1s 6ms/step - loss: 0.0037\n",
      "Epoch 12/50\n",
      "144/144 [==============================] - 1s 6ms/step - loss: 0.0036\n",
      "Epoch 13/50\n",
      "144/144 [==============================] - 1s 6ms/step - loss: 0.0039\n",
      "Epoch 14/50\n",
      "144/144 [==============================] - 1s 6ms/step - loss: 0.0036\n",
      "Epoch 15/50\n",
      "144/144 [==============================] - 1s 6ms/step - loss: 0.0039\n",
      "Epoch 16/50\n",
      "144/144 [==============================] - 1s 7ms/step - loss: 0.0031\n",
      "Epoch 17/50\n",
      "144/144 [==============================] - 1s 7ms/step - loss: 0.0037A: 0s - lo\n",
      "Epoch 18/50\n",
      "144/144 [==============================] - 1s 6ms/step - loss: 0.0031\n",
      "Epoch 19/50\n",
      "144/144 [==============================] - 1s 6ms/step - loss: 0.0031\n",
      "Epoch 20/50\n",
      "144/144 [==============================] - 1s 7ms/step - loss: 0.0037\n",
      "Epoch 21/50\n",
      "144/144 [==============================] - 1s 6ms/step - loss: 0.0033\n",
      "Epoch 22/50\n",
      "144/144 [==============================] - 1s 6ms/step - loss: 0.0037\n",
      "Epoch 23/50\n",
      "144/144 [==============================] - 1s 6ms/step - loss: 0.0030\n",
      "Epoch 24/50\n",
      "144/144 [==============================] - 1s 6ms/step - loss: 0.0032\n",
      "Epoch 25/50\n",
      "144/144 [==============================] - 1s 6ms/step - loss: 0.0031\n",
      "Epoch 26/50\n",
      "144/144 [==============================] - 1s 6ms/step - loss: 0.0048\n",
      "Epoch 27/50\n",
      "144/144 [==============================] - 1s 6ms/step - loss: 0.0028\n",
      "Epoch 28/50\n",
      "144/144 [==============================] - 1s 6ms/step - loss: 0.0033\n",
      "Epoch 29/50\n",
      "144/144 [==============================] - 1s 6ms/step - loss: 0.0028\n",
      "Epoch 30/50\n",
      "144/144 [==============================] - 1s 6ms/step - loss: 0.0028\n",
      "Epoch 31/50\n",
      "144/144 [==============================] - 1s 6ms/step - loss: 0.0027\n",
      "Epoch 32/50\n",
      "144/144 [==============================] - 1s 6ms/step - loss: 0.0029\n",
      "Epoch 33/50\n",
      "144/144 [==============================] - 1s 6ms/step - loss: 0.0025\n",
      "Epoch 34/50\n",
      "144/144 [==============================] - 1s 6ms/step - loss: 0.0031\n",
      "Epoch 35/50\n",
      "144/144 [==============================] - 1s 6ms/step - loss: 0.0027\n",
      "Epoch 36/50\n",
      "144/144 [==============================] - ETA: 0s - loss: 0.002 - 1s 6ms/step - loss: 0.0026\n",
      "Epoch 37/50\n",
      "144/144 [==============================] - 1s 7ms/step - loss: 0.0028\n",
      "Epoch 38/50\n",
      "144/144 [==============================] - 1s 6ms/step - loss: 0.0023\n",
      "Epoch 39/50\n",
      "144/144 [==============================] - 1s 6ms/step - loss: 0.0024\n",
      "Epoch 40/50\n",
      "144/144 [==============================] - 1s 7ms/step - loss: 0.0028\n",
      "Epoch 41/50\n",
      "144/144 [==============================] - 1s 6ms/step - loss: 0.0027\n",
      "Epoch 42/50\n",
      "144/144 [==============================] - 1s 7ms/step - loss: 0.0029\n",
      "Epoch 43/50\n",
      "144/144 [==============================] - 1s 7ms/step - loss: 0.0021\n",
      "Epoch 44/50\n",
      "144/144 [==============================] - 1s 7ms/step - loss: 0.0022\n",
      "Epoch 45/50\n",
      "144/144 [==============================] - 1s 7ms/step - loss: 0.0022\n",
      "Epoch 46/50\n",
      "144/144 [==============================] - 1s 7ms/step - loss: 0.0023\n",
      "Epoch 47/50\n",
      "144/144 [==============================] - 1s 7ms/step - loss: 0.0029\n",
      "Epoch 48/50\n",
      "144/144 [==============================] - 1s 7ms/step - loss: 0.0026\n",
      "Epoch 49/50\n",
      "144/144 [==============================] - 1s 7ms/step - loss: 0.0027\n",
      "Epoch 50/50\n",
      "144/144 [==============================] - 1s 7ms/step - loss: 0.0023\n"
     ]
    },
    {
     "data": {
      "text/plain": [
       "<keras.callbacks.History at 0x803177ce20>"
      ]
     },
     "execution_count": 68,
     "metadata": {},
     "output_type": "execute_result"
    }
   ],
   "source": [
    "rnn_model.fit(time_ser_gen2, epochs=50)"
   ]
  },
  {
   "cell_type": "code",
   "execution_count": 73,
   "id": "dd6d111b",
   "metadata": {},
   "outputs": [],
   "source": [
    "loss_per_epoch = rnn_model.history.history['loss']"
   ]
  },
  {
   "cell_type": "code",
   "execution_count": 80,
   "id": "e1abec2a",
   "metadata": {},
   "outputs": [
    {
     "data": {
      "image/png": "[encoded data removed]",
      "text/plain": [
       "<Figure size 864x576 with 1 Axes>"
      ]
     },
     "metadata": {
      "needs_background": "light"
     },
     "output_type": "display_data"
    }
   ],
   "source": [
    "plt.figure(figsize=(12,8))\n",
    "plt.plot(range(len(loss_per_epoch)), loss_per_epoch)\n",
    "plt.title('Loss/Epochs History')\n",
    "plt.xlabel('No. of Epochs')\n",
    "plt.ylabel('Loss(%)')\n",
    "plt.show()"
   ]
  },
  {
   "cell_type": "markdown",
   "id": "af060d45",
   "metadata": {},
   "source": [
    "### Model Prediction"
   ]
  },
  {
   "cell_type": "code",
   "execution_count": 81,
   "id": "0cd654c7",
   "metadata": {},
   "outputs": [],
   "source": [
    "#last 12 months train batch\n",
    "last_train_batch = scaled_train_df[-12:]"
   ]
  },
  {
   "cell_type": "code",
   "execution_count": 82,
   "id": "3c442af9",
   "metadata": {},
   "outputs": [
    {
     "data": {
      "text/plain": [
       "array([[0.66105769],\n",
       "       [0.54086538],\n",
       "       [0.80769231],\n",
       "       [0.83894231],\n",
       "       [1.        ],\n",
       "       [0.94711538],\n",
       "       [0.85336538],\n",
       "       [0.75480769],\n",
       "       [0.62980769],\n",
       "       [0.62259615],\n",
       "       [0.52884615],\n",
       "       [0.625     ]])"
      ]
     },
     "execution_count": 82,
     "metadata": {},
     "output_type": "execute_result"
    }
   ],
   "source": [
    "last_train_batch"
   ]
  },
  {
   "cell_type": "code",
   "execution_count": 83,
   "id": "0a3cddb7",
   "metadata": {},
   "outputs": [],
   "source": [
    "last_train_batch = last_train_batch.reshape(1, 12, 1)"
   ]
  },
  {
   "cell_type": "code",
   "execution_count": 84,
   "id": "606eac54",
   "metadata": {},
   "outputs": [
    {
     "data": {
      "text/plain": [
       "(1, 12, 1)"
      ]
     },
     "execution_count": 84,
     "metadata": {},
     "output_type": "execute_result"
    }
   ],
   "source": [
    "last_train_batch.shape"
   ]
  },
  {
   "cell_type": "code",
   "execution_count": 88,
   "id": "4e27c671",
   "metadata": {},
   "outputs": [],
   "source": [
    "predict = rnn_model.predict(last_train_batch)"
   ]
  },
  {
   "cell_type": "code",
   "execution_count": 93,
   "id": "e5dd0af2",
   "metadata": {},
   "outputs": [
    {
     "name": "stdout",
     "output_type": "stream",
     "text": [
      "Predicted Value: [0.6616218]\n"
     ]
    }
   ],
   "source": [
    "print(f'Predicted Value: {predict.flatten()}')"
   ]
  },
  {
   "cell_type": "code",
   "execution_count": 94,
   "id": "0b374e10",
   "metadata": {},
   "outputs": [
    {
     "name": "stdout",
     "output_type": "stream",
     "text": [
      "Production Value: [0.67548077]\n"
     ]
    }
   ],
   "source": [
    "print(f'Production Value: {scaled_test_df[0]}')"
   ]
  },
  {
   "cell_type": "markdown",
   "id": "39464151",
   "metadata": {},
   "source": [
    "### Test Prediction"
   ]
  },
  {
   "cell_type": "code",
   "execution_count": 102,
   "id": "9d1a900f",
   "metadata": {},
   "outputs": [],
   "source": [
    "first_eval_batch = scaled_train_df[-12:]\n",
    "current_batch = first_eval_batch.reshape(1, 12, 1)"
   ]
  },
  {
   "cell_type": "code",
   "execution_count": 103,
   "id": "dfb84d9c",
   "metadata": {},
   "outputs": [
    {
     "data": {
      "text/plain": [
       "array([[[0.66105769],\n",
       "        [0.54086538],\n",
       "        [0.80769231],\n",
       "        [0.83894231],\n",
       "        [1.        ],\n",
       "        [0.94711538],\n",
       "        [0.85336538],\n",
       "        [0.75480769],\n",
       "        [0.62980769],\n",
       "        [0.62259615],\n",
       "        [0.52884615],\n",
       "        [0.625     ]]])"
      ]
     },
     "execution_count": 103,
     "metadata": {},
     "output_type": "execute_result"
    }
   ],
   "source": [
    "current_batch"
   ]
  },
  {
   "cell_type": "code",
   "execution_count": 104,
   "id": "c007273b",
   "metadata": {},
   "outputs": [
    {
     "data": {
      "text/plain": [
       "array([[[0.54086538],\n",
       "        [0.80769231],\n",
       "        [0.83894231],\n",
       "        [1.        ],\n",
       "        [0.94711538],\n",
       "        [0.85336538],\n",
       "        [0.75480769],\n",
       "        [0.62980769],\n",
       "        [0.62259615],\n",
       "        [0.52884615],\n",
       "        [0.625     ]]])"
      ]
     },
     "execution_count": 104,
     "metadata": {},
     "output_type": "execute_result"
    }
   ],
   "source": [
    "current_batch[:,1:,:]"
   ]
  },
  {
   "cell_type": "code",
   "execution_count": 105,
   "id": "8f67765e",
   "metadata": {},
   "outputs": [],
   "source": [
    "test_pred = []\n",
    "for i in range(len(test_df)):\n",
    "    current_pred = rnn_model.predict(current_batch)[0]\n",
    "    test_pred.append(current_pred)\n",
    "    current_batch = np.append(current_batch[:,1:,:], [[current_pred]], axis=1)"
   ]
  },
  {
   "cell_type": "code",
   "execution_count": 106,
   "id": "190ff059",
   "metadata": {},
   "outputs": [
    {
     "data": {
      "text/plain": [
       "[array([0.6616218], dtype=float32),\n",
       " array([0.65060294], dtype=float32),\n",
       " array([0.8377253], dtype=float32),\n",
       " array([0.9208919], dtype=float32),\n",
       " array([1.0244389], dtype=float32),\n",
       " array([1.0042673], dtype=float32),\n",
       " array([0.9286181], dtype=float32),\n",
       " array([0.8250617], dtype=float32),\n",
       " array([0.7137722], dtype=float32),\n",
       " array([0.6632582], dtype=float32),\n",
       " array([0.6089144], dtype=float32),\n",
       " array([0.65742517], dtype=float32)]"
      ]
     },
     "execution_count": 106,
     "metadata": {},
     "output_type": "execute_result"
    }
   ],
   "source": [
    "test_pred"
   ]
  },
  {
   "cell_type": "code",
   "execution_count": 107,
   "id": "d52b3049",
   "metadata": {},
   "outputs": [
    {
     "data": {
      "text/html": [
       "<div>\n",
       "<style scoped>\n",
       "    .dataframe tbody tr th:only-of-type {\n",
       "        vertical-align: middle;\n",
       "    }\n",
       "\n",
       "    .dataframe tbody tr th {\n",
       "        vertical-align: top;\n",
       "    }\n",
       "\n",
       "    .dataframe thead th {\n",
       "        text-align: right;\n",
       "    }\n",
       "</style>\n",
       "<table border=\"1\" class=\"dataframe\">\n",
       "  <thead>\n",
       "    <tr style=\"text-align: right;\">\n",
       "      <th></th>\n",
       "      <th>Production</th>\n",
       "    </tr>\n",
       "    <tr>\n",
       "      <th>Date</th>\n",
       "      <th></th>\n",
       "    </tr>\n",
       "  </thead>\n",
       "  <tbody>\n",
       "    <tr>\n",
       "      <th>1975-01-01</th>\n",
       "      <td>834</td>\n",
       "    </tr>\n",
       "    <tr>\n",
       "      <th>1975-02-01</th>\n",
       "      <td>782</td>\n",
       "    </tr>\n",
       "    <tr>\n",
       "      <th>1975-03-01</th>\n",
       "      <td>892</td>\n",
       "    </tr>\n",
       "    <tr>\n",
       "      <th>1975-04-01</th>\n",
       "      <td>903</td>\n",
       "    </tr>\n",
       "    <tr>\n",
       "      <th>1975-05-01</th>\n",
       "      <td>966</td>\n",
       "    </tr>\n",
       "  </tbody>\n",
       "</table>\n",
       "</div>"
      ],
      "text/plain": [
       "            Production\n",
       "Date                  \n",
       "1975-01-01         834\n",
       "1975-02-01         782\n",
       "1975-03-01         892\n",
       "1975-04-01         903\n",
       "1975-05-01         966"
      ]
     },
     "execution_count": 107,
     "metadata": {},
     "output_type": "execute_result"
    }
   ],
   "source": [
    "test_df.head()"
   ]
  },
  {
   "cell_type": "code",
   "execution_count": 108,
   "id": "85f88464",
   "metadata": {},
   "outputs": [],
   "source": [
    "#inverse transform for actual values\n",
    "test_pred_inv = scaler.inverse_transform(test_pred)"
   ]
  },
  {
   "cell_type": "code",
   "execution_count": 109,
   "id": "2868e22f",
   "metadata": {},
   "outputs": [
    {
     "data": {
      "text/plain": [
       "array([[828.23467255],\n",
       "       [823.65082169],\n",
       "       [901.49371719],\n",
       "       [936.09102249],\n",
       "       [979.16656494],\n",
       "       [970.77521133],\n",
       "       [939.30511856],\n",
       "       [896.22565842],\n",
       "       [849.92922592],\n",
       "       [828.91540909],\n",
       "       [806.30838013],\n",
       "       [826.48886871]])"
      ]
     },
     "execution_count": 109,
     "metadata": {},
     "output_type": "execute_result"
    }
   ],
   "source": [
    "test_pred_inv"
   ]
  },
  {
   "cell_type": "code",
   "execution_count": 117,
   "id": "20291473",
   "metadata": {},
   "outputs": [
    {
     "name": "stderr",
     "output_type": "stream",
     "text": [
      "<ipython-input-117-3aaa49b8e362>:1: SettingWithCopyWarning: \n",
      "A value is trying to be set on a copy of a slice from a DataFrame.\n",
      "Try using .loc[row_indexer,col_indexer] = value instead\n",
      "\n",
      "See the caveats in the documentation: https://pandas.pydata.org/pandas-docs/stable/user_guide/indexing.html#returning-a-view-versus-a-copy\n",
      "  test_df['Prediction'] = test_pred_inv\n"
     ]
    }
   ],
   "source": [
    "test_df['Prediction'] = test_pred_inv"
   ]
  },
  {
   "cell_type": "code",
   "execution_count": 118,
   "id": "342dbb78",
   "metadata": {},
   "outputs": [
    {
     "data": {
      "text/html": [
       "<div>\n",
       "<style scoped>\n",
       "    .dataframe tbody tr th:only-of-type {\n",
       "        vertical-align: middle;\n",
       "    }\n",
       "\n",
       "    .dataframe tbody tr th {\n",
       "        vertical-align: top;\n",
       "    }\n",
       "\n",
       "    .dataframe thead th {\n",
       "        text-align: right;\n",
       "    }\n",
       "</style>\n",
       "<table border=\"1\" class=\"dataframe\">\n",
       "  <thead>\n",
       "    <tr style=\"text-align: right;\">\n",
       "      <th></th>\n",
       "      <th>Production</th>\n",
       "      <th>Prediction</th>\n",
       "    </tr>\n",
       "    <tr>\n",
       "      <th>Date</th>\n",
       "      <th></th>\n",
       "      <th></th>\n",
       "    </tr>\n",
       "  </thead>\n",
       "  <tbody>\n",
       "    <tr>\n",
       "      <th>1975-01-01</th>\n",
       "      <td>834</td>\n",
       "      <td>828.234673</td>\n",
       "    </tr>\n",
       "    <tr>\n",
       "      <th>1975-02-01</th>\n",
       "      <td>782</td>\n",
       "      <td>823.650822</td>\n",
       "    </tr>\n",
       "    <tr>\n",
       "      <th>1975-03-01</th>\n",
       "      <td>892</td>\n",
       "      <td>901.493717</td>\n",
       "    </tr>\n",
       "    <tr>\n",
       "      <th>1975-04-01</th>\n",
       "      <td>903</td>\n",
       "      <td>936.091022</td>\n",
       "    </tr>\n",
       "    <tr>\n",
       "      <th>1975-05-01</th>\n",
       "      <td>966</td>\n",
       "      <td>979.166565</td>\n",
       "    </tr>\n",
       "    <tr>\n",
       "      <th>1975-06-01</th>\n",
       "      <td>937</td>\n",
       "      <td>970.775211</td>\n",
       "    </tr>\n",
       "    <tr>\n",
       "      <th>1975-07-01</th>\n",
       "      <td>896</td>\n",
       "      <td>939.305119</td>\n",
       "    </tr>\n",
       "    <tr>\n",
       "      <th>1975-08-01</th>\n",
       "      <td>858</td>\n",
       "      <td>896.225658</td>\n",
       "    </tr>\n",
       "    <tr>\n",
       "      <th>1975-09-01</th>\n",
       "      <td>817</td>\n",
       "      <td>849.929226</td>\n",
       "    </tr>\n",
       "    <tr>\n",
       "      <th>1975-10-01</th>\n",
       "      <td>827</td>\n",
       "      <td>828.915409</td>\n",
       "    </tr>\n",
       "    <tr>\n",
       "      <th>1975-11-01</th>\n",
       "      <td>797</td>\n",
       "      <td>806.308380</td>\n",
       "    </tr>\n",
       "    <tr>\n",
       "      <th>1975-12-01</th>\n",
       "      <td>843</td>\n",
       "      <td>826.488869</td>\n",
       "    </tr>\n",
       "  </tbody>\n",
       "</table>\n",
       "</div>"
      ],
      "text/plain": [
       "            Production  Prediction\n",
       "Date                              \n",
       "1975-01-01         834  828.234673\n",
       "1975-02-01         782  823.650822\n",
       "1975-03-01         892  901.493717\n",
       "1975-04-01         903  936.091022\n",
       "1975-05-01         966  979.166565\n",
       "1975-06-01         937  970.775211\n",
       "1975-07-01         896  939.305119\n",
       "1975-08-01         858  896.225658\n",
       "1975-09-01         817  849.929226\n",
       "1975-10-01         827  828.915409\n",
       "1975-11-01         797  806.308380\n",
       "1975-12-01         843  826.488869"
      ]
     },
     "execution_count": 118,
     "metadata": {},
     "output_type": "execute_result"
    }
   ],
   "source": [
    "test_df"
   ]
  },
  {
   "cell_type": "code",
   "execution_count": 120,
   "id": "9eff3b69",
   "metadata": {
    "scrolled": false
   },
   "outputs": [
    {
     "data": {
      "text/plain": [
       "<AxesSubplot:xlabel='Date'>"
      ]
     },
     "execution_count": 120,
     "metadata": {},
     "output_type": "execute_result"
    },
    {
     "data": {
      "image/png": "[encoded data removed]",
      "text/plain": [
       "<Figure size 1008x432 with 1 Axes>"
      ]
     },
     "metadata": {
      "needs_background": "light"
     },
     "output_type": "display_data"
    }
   ],
   "source": [
    "test_df.plot(figsize=(14,6))"
   ]
  }
 ],
 "metadata": {
  "kernelspec": {
   "display_name": "Python 3",
   "language": "python",
   "name": "python3"
  },
  "language_info": {
   "codemirror_mode": {
    "name": "ipython",
    "version": 3
   },
   "file_extension": ".py",
   "mimetype": "text/x-python",
   "name": "python",
   "nbconvert_exporter": "python",
   "pygments_lexer": "ipython3",
   "version": "3.8.8"
  }
 },
 "nbformat": 4,
 "nbformat_minor": 5
}
