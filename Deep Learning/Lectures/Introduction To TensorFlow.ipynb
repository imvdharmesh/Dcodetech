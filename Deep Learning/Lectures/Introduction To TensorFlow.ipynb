{
 "cells": [
  {
   "cell_type": "raw",
   "id": "0bbd5c3c",
   "metadata": {},
   "source": [
    "Date - 18/11/2021  11:00 AM to 01:00 PM"
   ]
  },
  {
   "cell_type": "markdown",
   "id": "a556d2df",
   "metadata": {},
   "source": [
    "# Introduction To TensorFlow\n",
    "\n",
    "Tensorflow is an open source library developed by Google, it is primarily used for deep learning applications. It also supports traditional machine learning models as well.\n",
    "\n",
    "It was originally developed for large numerical computation without keeping deep learning in mind.\n",
    "\n",
    "Tensorflow accepts data in the form of multi-dimensional array of higher dimensions called **Tensors**.\n",
    "\n",
    "Multi-dimensional arrays are very useful in handling large amount of data."
   ]
  },
  {
   "cell_type": "raw",
   "id": "76006497",
   "metadata": {},
   "source": [
    "Date - 02/12/2021  11:00 AM to 01:00 PM"
   ]
  },
  {
   "cell_type": "markdown",
   "id": "9798d9e3",
   "metadata": {},
   "source": [
    "## Tensor 1.0 vs Tensor 2.0"
   ]
  },
  {
   "cell_type": "markdown",
   "id": "ee16028e",
   "metadata": {},
   "source": [
    "### Tensor 1.0\n",
    "\n",
    "- Tensor 1.0 was initially built to work on data related to textual format (structured data).\n",
    "- In tensor 1.0 the execution flow was very complex, seperate layer had to be built for modeling and seperate layer had to be built for testing.\n",
    "- There was no tight integration of Keras as a library that can be used in TensorFlow 1.0.\n",
    "- There was no high level API integrated for keras library in TensorFlow 1.0.\n",
    "- Once the training for model is completed the deployment in production would be a seperate step in TensorFlow 1.0."
   ]
  },
  {
   "cell_type": "markdown",
   "id": "1df58cf6",
   "metadata": {},
   "source": [
    "### Tensor 2.0\n",
    "\n",
    "- In Tensor 2.0 the data source was opened to take variety of input such  as(text,images,videos, json,etc).\n",
    "- In tensor 2.0 the execution flow was simplified for the users, where  different layer was not needed for building models and testing.\n",
    "- In TensorFlow 2.0 features such as tight integration of keras was introduced which made TensorFlow more efficient and powerful.\n",
    "- In TensorFlow 2.0 google incorporated keras as high level API to train Machine Learning models.\n",
    "- In TensorFlow 2.0 once the model training is completed it can be deployed directly in production.\n",
    "- Versions such as TensorFlow.js (java script library), TensorFlowLite (mobile version) was introduced in TensorFlow 2.0."
   ]
  },
  {
   "cell_type": "code",
   "execution_count": 1,
   "id": "8eb51caa",
   "metadata": {},
   "outputs": [],
   "source": [
    "import tensorflow as tf"
   ]
  },
  {
   "cell_type": "code",
   "execution_count": 2,
   "id": "6d0adcb1",
   "metadata": {},
   "outputs": [
    {
     "data": {
      "text/plain": [
       "'2.7.0'"
      ]
     },
     "execution_count": 2,
     "metadata": {},
     "output_type": "execute_result"
    }
   ],
   "source": [
    "tf.__version__"
   ]
  },
  {
   "cell_type": "code",
   "execution_count": 5,
   "id": "3cf386b3",
   "metadata": {},
   "outputs": [],
   "source": [
    "x1 = tf.constant([1,2,3,4,5])\n",
    "x2 = tf.constant([5,6,7,8,9])"
   ]
  },
  {
   "cell_type": "code",
   "execution_count": 6,
   "id": "c59468fd",
   "metadata": {},
   "outputs": [
    {
     "data": {
      "text/plain": [
       "<tf.Tensor: shape=(5,), dtype=int32, numpy=array([1, 2, 3, 4, 5])>"
      ]
     },
     "execution_count": 6,
     "metadata": {},
     "output_type": "execute_result"
    }
   ],
   "source": [
    "x1"
   ]
  },
  {
   "cell_type": "code",
   "execution_count": 7,
   "id": "b1645d64",
   "metadata": {},
   "outputs": [
    {
     "data": {
      "text/plain": [
       "<tf.Tensor: shape=(5,), dtype=int32, numpy=array([5, 6, 7, 8, 9])>"
      ]
     },
     "execution_count": 7,
     "metadata": {},
     "output_type": "execute_result"
    }
   ],
   "source": [
    "x2"
   ]
  },
  {
   "cell_type": "code",
   "execution_count": 8,
   "id": "6a5d9c2b",
   "metadata": {},
   "outputs": [
    {
     "data": {
      "text/plain": [
       "<tf.Tensor: shape=(5,), dtype=int32, numpy=array([ 5, 12, 21, 32, 45])>"
      ]
     },
     "execution_count": 8,
     "metadata": {},
     "output_type": "execute_result"
    }
   ],
   "source": [
    "tf.multiply(x1, x2)"
   ]
  },
  {
   "cell_type": "code",
   "execution_count": 9,
   "id": "ffc565cd",
   "metadata": {},
   "outputs": [
    {
     "data": {
      "text/plain": [
       "<tf.Tensor: shape=(5,), dtype=int32, numpy=array([ 6,  8, 10, 12, 14])>"
      ]
     },
     "execution_count": 9,
     "metadata": {},
     "output_type": "execute_result"
    }
   ],
   "source": [
    "tf.add(x1, x2)"
   ]
  },
  {
   "cell_type": "markdown",
   "id": "3d28e209",
   "metadata": {},
   "source": [
    "## Components of TensorFlow\n",
    "\n",
    "### 1. Graph:\n",
    "\n",
    "    Graph is fundamental in TensorFlow, all mathematical operations are performed inside a graph.\n",
    "\n",
    "### 2. Tensor:\n",
    "\n",
    "    A Tensor represents the data that progress between operation.\n",
    "\n",
    "### 3. Session:\n",
    "\n",
    "    A session will execute the operation from the graph.\n",
    "    \n",
    "    To feed the graph with values of a tensor you need to open a session, inside the session you must run operator to\n",
    "    create an output."
   ]
  },
  {
   "cell_type": "code",
   "execution_count": 10,
   "id": "758b12b6",
   "metadata": {},
   "outputs": [
    {
     "name": "stdout",
     "output_type": "stream",
     "text": [
      "tf.Tensor([ 5 12 21 32 45], shape=(5,), dtype=int32)\n"
     ]
    }
   ],
   "source": [
    "mul = tf.multiply(x1, x2)\n",
    "print(mul)"
   ]
  },
  {
   "cell_type": "code",
   "execution_count": 13,
   "id": "48d95af9",
   "metadata": {},
   "outputs": [
    {
     "data": {
      "text/plain": [
       "<tf.Tensor: shape=(2, 2), dtype=int32, numpy=\n",
       "array([[4, 3],\n",
       "       [6, 1]])>"
      ]
     },
     "execution_count": 13,
     "metadata": {},
     "output_type": "execute_result"
    }
   ],
   "source": [
    "A = tf.constant([\n",
    "    [4,3],\n",
    "    [6,1]\n",
    "])\n",
    "A"
   ]
  },
  {
   "cell_type": "code",
   "execution_count": 14,
   "id": "82187337",
   "metadata": {},
   "outputs": [
    {
     "data": {
      "text/plain": [
       "<tf.Tensor: shape=(2, 2), dtype=int32, numpy=\n",
       "array([[7, 8],\n",
       "       [4, 5]])>"
      ]
     },
     "execution_count": 14,
     "metadata": {},
     "output_type": "execute_result"
    }
   ],
   "source": [
    "B = tf.constant([\n",
    "    [7,8],\n",
    "    [4,5]\n",
    "])\n",
    "B"
   ]
  },
  {
   "cell_type": "code",
   "execution_count": 16,
   "id": "f4f6a1eb",
   "metadata": {},
   "outputs": [
    {
     "data": {
      "text/plain": [
       "<tf.Tensor: shape=(2, 4), dtype=int32, numpy=\n",
       "array([[4, 3, 7, 8],\n",
       "       [6, 1, 4, 5]])>"
      ]
     },
     "execution_count": 16,
     "metadata": {},
     "output_type": "execute_result"
    }
   ],
   "source": [
    "tf.concat(values=[A,B], axis=1)"
   ]
  },
  {
   "cell_type": "code",
   "execution_count": 17,
   "id": "4ee05ec6",
   "metadata": {},
   "outputs": [
    {
     "data": {
      "text/plain": [
       "<tf.Tensor: shape=(3, 4), dtype=float32, numpy=\n",
       "array([[0., 0., 0., 0.],\n",
       "       [0., 0., 0., 0.],\n",
       "       [0., 0., 0., 0.]], dtype=float32)>"
      ]
     },
     "execution_count": 17,
     "metadata": {},
     "output_type": "execute_result"
    }
   ],
   "source": [
    "tf.zeros(shape=[3,4], dtype=tf.float32)"
   ]
  },
  {
   "cell_type": "code",
   "execution_count": 18,
   "id": "d9f1e3c0",
   "metadata": {},
   "outputs": [
    {
     "data": {
      "text/plain": [
       "<tf.Tensor: shape=(5,), dtype=int32, numpy=array([1, 2, 3, 4, 5])>"
      ]
     },
     "execution_count": 18,
     "metadata": {},
     "output_type": "execute_result"
    }
   ],
   "source": [
    "x1"
   ]
  },
  {
   "cell_type": "code",
   "execution_count": 19,
   "id": "853a92dd",
   "metadata": {},
   "outputs": [
    {
     "data": {
      "text/plain": [
       "<tf.Tensor: shape=(5,), dtype=int32, numpy=array([5, 6, 7, 8, 9])>"
      ]
     },
     "execution_count": 19,
     "metadata": {},
     "output_type": "execute_result"
    }
   ],
   "source": [
    "x2"
   ]
  },
  {
   "cell_type": "code",
   "execution_count": 20,
   "id": "295e1495",
   "metadata": {},
   "outputs": [
    {
     "data": {
      "text/plain": [
       "<tf.Tensor: shape=(), dtype=int64, numpy=4>"
      ]
     },
     "execution_count": 20,
     "metadata": {},
     "output_type": "execute_result"
    }
   ],
   "source": [
    "tf.argmax(x1)"
   ]
  },
  {
   "cell_type": "code",
   "execution_count": 21,
   "id": "60600139",
   "metadata": {},
   "outputs": [
    {
     "data": {
      "text/plain": [
       "<tf.Tensor: shape=(), dtype=int64, numpy=0>"
      ]
     },
     "execution_count": 21,
     "metadata": {},
     "output_type": "execute_result"
    }
   ],
   "source": [
    "tf.argmin(x1)"
   ]
  },
  {
   "cell_type": "markdown",
   "id": "85b34c89",
   "metadata": {},
   "source": [
    "## Example"
   ]
  },
  {
   "cell_type": "code",
   "execution_count": 31,
   "id": "a4504b9d",
   "metadata": {},
   "outputs": [],
   "source": [
    "import numpy as np\n",
    "import pandas as pd\n",
    "import matplotlib.pyplot as plt"
   ]
  },
  {
   "cell_type": "code",
   "execution_count": 32,
   "id": "0fef2eaa",
   "metadata": {},
   "outputs": [],
   "source": [
    "np.random.seed(42)"
   ]
  },
  {
   "cell_type": "code",
   "execution_count": 33,
   "id": "8a2098a3",
   "metadata": {},
   "outputs": [],
   "source": [
    "x = np.linspace(0, 20, 50)\n",
    "y = np.linspace(20, 0, 50)"
   ]
  },
  {
   "cell_type": "code",
   "execution_count": 34,
   "id": "2ad88e68",
   "metadata": {},
   "outputs": [],
   "source": [
    "x = x + np.random.uniform(-2, 2, 50)\n",
    "y = y + np.random.uniform(-2, 2, 50)"
   ]
  },
  {
   "cell_type": "code",
   "execution_count": 35,
   "id": "40172e30",
   "metadata": {},
   "outputs": [
    {
     "data": {
      "text/plain": [
       "array([-0.50183952,  2.21102049,  1.7443023 ,  1.61912373,  0.25672762,\n",
       "        0.66479441,  0.68131404,  4.32184744,  3.66976617,  4.5057597 ,\n",
       "        2.16397063,  6.36943533,  6.22772975,  4.15547889,  4.44158558,\n",
       "        4.85606702,  5.74758122,  7.03780124,  7.07471885,  6.9200186 ,\n",
       "        8.61067689,  7.12940401,  8.14817043,  8.85320248,  9.6201983 ,\n",
       "       11.34478548,  9.41094003, 11.07734592, 11.7982297 , 10.02253634,\n",
       "       12.67507737, 11.33515772, 11.32143086, 15.2649299 , 15.74007915,\n",
       "       15.51930368, 13.91233263, 13.49272927, 16.24713619, 15.67897732,\n",
       "       14.81468355, 16.71540152, 15.28041123, 19.18830202, 16.9943036 ,\n",
       "       19.01743608, 18.02235451, 19.26394555, 19.77867785, 18.73941782])"
      ]
     },
     "execution_count": 35,
     "metadata": {},
     "output_type": "execute_result"
    }
   ],
   "source": [
    "x"
   ]
  },
  {
   "cell_type": "code",
   "execution_count": 36,
   "id": "558b1b91",
   "metadata": {},
   "outputs": [
    {
     "data": {
      "text/plain": [
       "array([21.87833851, 20.69236803, 20.94166924, 20.35481961, 18.75894685,\n",
       "       19.64668061, 15.90499042, 15.92678859, 14.91560303, 15.62785194,\n",
       "       15.47307651, 14.59560021, 16.41699085, 14.12089086, 13.40945232,\n",
       "       14.04833535, 12.03308466, 14.27001241, 10.9512638 , 14.19244571,\n",
       "       12.92571377, 10.22343415,  9.04249663, 11.87409061, 11.03151101,\n",
       "       10.71194704, 10.47283649,  7.27577044,  8.00529149,  6.62674154,\n",
       "        9.20751574,  7.84013128,  6.26236761,  4.78484565,  5.36637827,\n",
       "        5.015019  ,  6.22454716,  5.44818907,  6.03864689,  3.97049235,\n",
       "        2.15184637,  4.11828527,  3.90028305,  2.69408838,  3.12468505,\n",
       "        1.60783545,  1.31542111,  0.5264906 , -1.49016023, -1.56843429])"
      ]
     },
     "execution_count": 36,
     "metadata": {},
     "output_type": "execute_result"
    }
   ],
   "source": [
    "y"
   ]
  },
  {
   "cell_type": "code",
   "execution_count": 37,
   "id": "3a19aa8a",
   "metadata": {
    "scrolled": true
   },
   "outputs": [
    {
     "data": {
      "text/plain": [
       "[<matplotlib.lines.Line2D at 0xb43c974730>]"
      ]
     },
     "execution_count": 37,
     "metadata": {},
     "output_type": "execute_result"
    },
    {
     "data": {
      "image/png": "[encoded data removed]",
      "text/plain": [
       "<Figure size 432x288 with 1 Axes>"
      ]
     },
     "metadata": {
      "needs_background": "light"
     },
     "output_type": "display_data"
    }
   ],
   "source": [
    "plt.plot(x,y,'.')"
   ]
  }
 ],
 "metadata": {
  "kernelspec": {
   "display_name": "Python 3",
   "language": "python",
   "name": "python3"
  },
  "language_info": {
   "codemirror_mode": {
    "name": "ipython",
    "version": 3
   },
   "file_extension": ".py",
   "mimetype": "text/x-python",
   "name": "python",
   "nbconvert_exporter": "python",
   "pygments_lexer": "ipython3",
   "version": "3.8.8"
  }
 },
 "nbformat": 4,
 "nbformat_minor": 5
}
