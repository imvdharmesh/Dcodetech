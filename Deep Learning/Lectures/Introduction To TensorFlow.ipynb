{
 "cells": [
  {
   "cell_type": "raw",
   "id": "0bbd5c3c",
   "metadata": {},
   "source": [
    "Date - 18/11/2021  11:00 AM to 01:00 PM"
   ]
  },
  {
   "cell_type": "markdown",
   "id": "a556d2df",
   "metadata": {},
   "source": [
    "# Introduction To TensorFlow\n",
    "\n",
    "Tensorflow is an open source library developed by Google, it is primarily used for deep learning applications. It also supports traditional machine learning models as well.\n",
    "\n",
    "It was originally developed for large numerical computation without keeping deep learning in mind.\n",
    "\n",
    "Tensorflow accepts data in the form of multi-dimensional array of higher dimensions called **Tensors**.\n",
    "\n",
    "Multi-dimensional arrays are very useful in handling large amount of data."
   ]
  },
  {
   "cell_type": "raw",
   "id": "76006497",
   "metadata": {},
   "source": [
    "Date - 02/12/2021  11:00 AM to 01:00 PM"
   ]
  },
  {
   "cell_type": "markdown",
   "id": "9798d9e3",
   "metadata": {},
   "source": [
    "## Tensor 1.0 vs Tensor 2.0"
   ]
  },
  {
   "cell_type": "markdown",
   "id": "ee16028e",
   "metadata": {},
   "source": [
    "### Tensor 1.0\n",
    "\n",
    "- Tensor 1.0 was initially built to work on data related to textual format (structured data).\n",
    "- In tensor 1.0 the execution flow was very complex, seperate layer had to be built for modeling and seperate layer had to be built for testing.\n",
    "- There was no tight integration of Keras as a library that can be used in TensorFlow 1.0.\n",
    "- There was no high level API integrated for keras library in TensorFlow 1.0.\n",
    "- Once the training for model is completed the deployment in production would be a seperate step in TensorFlow 1.0."
   ]
  },
  {
   "cell_type": "markdown",
   "id": "1df58cf6",
   "metadata": {},
   "source": [
    "### Tensor 2.0\n",
    "\n",
    "- In Tensor 2.0 the data source was opened to take variety of input such  as(text,images,videos, json,etc).\n",
    "- In tensor 2.0 the execution flow was simplified for the users, where  different layer was not needed for building models and testing.\n",
    "- In TensorFlow 2.0 features such as tight integration of keras was introduced which made TensorFlow more efficient and powerful.\n",
    "- In TensorFlow 2.0 google incorporated keras as high level API to train Machine Learning models.\n",
    "- In TensorFlow 2.0 once the model training is completed it can be deployed directly in production.\n",
    "- Versions such as TensorFlow.js (java script library), TensorFlowLite (mobile version) was introduced in TensorFlow 2.0."
   ]
  },
  {
   "cell_type": "code",
   "execution_count": 1,
   "id": "8eb51caa",
   "metadata": {},
   "outputs": [],
   "source": [
    "import tensorflow as tf"
   ]
  },
  {
   "cell_type": "code",
   "execution_count": 2,
   "id": "6d0adcb1",
   "metadata": {},
   "outputs": [
    {
     "data": {
      "text/plain": [
       "'2.7.0'"
      ]
     },
     "execution_count": 2,
     "metadata": {},
     "output_type": "execute_result"
    }
   ],
   "source": [
    "tf.__version__"
   ]
  },
  {
   "cell_type": "code",
   "execution_count": 3,
   "id": "3cf386b3",
   "metadata": {},
   "outputs": [],
   "source": [
    "x1 = tf.constant([1,2,3,4,5])\n",
    "x2 = tf.constant([5,6,7,8,9])"
   ]
  },
  {
   "cell_type": "code",
   "execution_count": 4,
   "id": "c59468fd",
   "metadata": {},
   "outputs": [
    {
     "data": {
      "text/plain": [
       "<tf.Tensor: shape=(5,), dtype=int32, numpy=array([1, 2, 3, 4, 5])>"
      ]
     },
     "execution_count": 4,
     "metadata": {},
     "output_type": "execute_result"
    }
   ],
   "source": [
    "x1"
   ]
  },
  {
   "cell_type": "code",
   "execution_count": 5,
   "id": "b1645d64",
   "metadata": {},
   "outputs": [
    {
     "data": {
      "text/plain": [
       "<tf.Tensor: shape=(5,), dtype=int32, numpy=array([5, 6, 7, 8, 9])>"
      ]
     },
     "execution_count": 5,
     "metadata": {},
     "output_type": "execute_result"
    }
   ],
   "source": [
    "x2"
   ]
  },
  {
   "cell_type": "code",
   "execution_count": 6,
   "id": "6a5d9c2b",
   "metadata": {},
   "outputs": [
    {
     "data": {
      "text/plain": [
       "<tf.Tensor: shape=(5,), dtype=int32, numpy=array([ 5, 12, 21, 32, 45])>"
      ]
     },
     "execution_count": 6,
     "metadata": {},
     "output_type": "execute_result"
    }
   ],
   "source": [
    "tf.multiply(x1, x2)"
   ]
  },
  {
   "cell_type": "code",
   "execution_count": 7,
   "id": "ffc565cd",
   "metadata": {},
   "outputs": [
    {
     "data": {
      "text/plain": [
       "<tf.Tensor: shape=(5,), dtype=int32, numpy=array([ 6,  8, 10, 12, 14])>"
      ]
     },
     "execution_count": 7,
     "metadata": {},
     "output_type": "execute_result"
    }
   ],
   "source": [
    "tf.add(x1, x2)"
   ]
  },
  {
   "cell_type": "markdown",
   "id": "3d28e209",
   "metadata": {},
   "source": [
    "## Components of TensorFlow\n",
    "\n",
    "### 1. Graph:\n",
    "\n",
    "    Graph is fundamental in TensorFlow, all mathematical operations are performed inside a graph.\n",
    "\n",
    "### 2. Tensor:\n",
    "\n",
    "    A Tensor represents the data that progress between operation.\n",
    "\n",
    "### 3. Session:\n",
    "\n",
    "    A session will execute the operation from the graph.\n",
    "    \n",
    "    To feed the graph with values of a tensor you need to open a session, inside the session you must run operator to\n",
    "    create an output."
   ]
  },
  {
   "cell_type": "code",
   "execution_count": 8,
   "id": "758b12b6",
   "metadata": {},
   "outputs": [
    {
     "name": "stdout",
     "output_type": "stream",
     "text": [
      "tf.Tensor([ 5 12 21 32 45], shape=(5,), dtype=int32)\n"
     ]
    }
   ],
   "source": [
    "mul = tf.multiply(x1, x2)\n",
    "print(mul)"
   ]
  },
  {
   "cell_type": "code",
   "execution_count": 9,
   "id": "48d95af9",
   "metadata": {},
   "outputs": [
    {
     "data": {
      "text/plain": [
       "<tf.Tensor: shape=(2, 2), dtype=int32, numpy=\n",
       "array([[4, 3],\n",
       "       [6, 1]])>"
      ]
     },
     "execution_count": 9,
     "metadata": {},
     "output_type": "execute_result"
    }
   ],
   "source": [
    "A = tf.constant([\n",
    "    [4,3],\n",
    "    [6,1]\n",
    "])\n",
    "A"
   ]
  },
  {
   "cell_type": "code",
   "execution_count": 10,
   "id": "82187337",
   "metadata": {},
   "outputs": [
    {
     "data": {
      "text/plain": [
       "<tf.Tensor: shape=(2, 2), dtype=int32, numpy=\n",
       "array([[7, 8],\n",
       "       [4, 5]])>"
      ]
     },
     "execution_count": 10,
     "metadata": {},
     "output_type": "execute_result"
    }
   ],
   "source": [
    "B = tf.constant([\n",
    "    [7,8],\n",
    "    [4,5]\n",
    "])\n",
    "B"
   ]
  },
  {
   "cell_type": "code",
   "execution_count": 11,
   "id": "f4f6a1eb",
   "metadata": {},
   "outputs": [
    {
     "data": {
      "text/plain": [
       "<tf.Tensor: shape=(2, 4), dtype=int32, numpy=\n",
       "array([[4, 3, 7, 8],\n",
       "       [6, 1, 4, 5]])>"
      ]
     },
     "execution_count": 11,
     "metadata": {},
     "output_type": "execute_result"
    }
   ],
   "source": [
    "tf.concat(values=[A,B], axis=1)"
   ]
  },
  {
   "cell_type": "code",
   "execution_count": 12,
   "id": "4ee05ec6",
   "metadata": {},
   "outputs": [
    {
     "data": {
      "text/plain": [
       "<tf.Tensor: shape=(3, 4), dtype=float32, numpy=\n",
       "array([[0., 0., 0., 0.],\n",
       "       [0., 0., 0., 0.],\n",
       "       [0., 0., 0., 0.]], dtype=float32)>"
      ]
     },
     "execution_count": 12,
     "metadata": {},
     "output_type": "execute_result"
    }
   ],
   "source": [
    "tf.zeros(shape=[3,4], dtype=tf.float32)"
   ]
  },
  {
   "cell_type": "code",
   "execution_count": 13,
   "id": "d9f1e3c0",
   "metadata": {},
   "outputs": [
    {
     "data": {
      "text/plain": [
       "<tf.Tensor: shape=(5,), dtype=int32, numpy=array([1, 2, 3, 4, 5])>"
      ]
     },
     "execution_count": 13,
     "metadata": {},
     "output_type": "execute_result"
    }
   ],
   "source": [
    "x1"
   ]
  },
  {
   "cell_type": "code",
   "execution_count": 14,
   "id": "853a92dd",
   "metadata": {},
   "outputs": [
    {
     "data": {
      "text/plain": [
       "<tf.Tensor: shape=(5,), dtype=int32, numpy=array([5, 6, 7, 8, 9])>"
      ]
     },
     "execution_count": 14,
     "metadata": {},
     "output_type": "execute_result"
    }
   ],
   "source": [
    "x2"
   ]
  },
  {
   "cell_type": "code",
   "execution_count": 15,
   "id": "295e1495",
   "metadata": {},
   "outputs": [
    {
     "data": {
      "text/plain": [
       "<tf.Tensor: shape=(), dtype=int64, numpy=4>"
      ]
     },
     "execution_count": 15,
     "metadata": {},
     "output_type": "execute_result"
    }
   ],
   "source": [
    "tf.argmax(x1)"
   ]
  },
  {
   "cell_type": "code",
   "execution_count": 16,
   "id": "60600139",
   "metadata": {},
   "outputs": [
    {
     "data": {
      "text/plain": [
       "<tf.Tensor: shape=(), dtype=int64, numpy=0>"
      ]
     },
     "execution_count": 16,
     "metadata": {},
     "output_type": "execute_result"
    }
   ],
   "source": [
    "tf.argmin(x1)"
   ]
  },
  {
   "cell_type": "markdown",
   "id": "85b34c89",
   "metadata": {},
   "source": [
    "## Example"
   ]
  },
  {
   "cell_type": "code",
   "execution_count": 17,
   "id": "a4504b9d",
   "metadata": {},
   "outputs": [],
   "source": [
    "import numpy as np\n",
    "import pandas as pd\n",
    "import matplotlib.pyplot as plt"
   ]
  },
  {
   "cell_type": "code",
   "execution_count": 18,
   "id": "0fef2eaa",
   "metadata": {},
   "outputs": [],
   "source": [
    "np.random.seed(42)"
   ]
  },
  {
   "cell_type": "code",
   "execution_count": 19,
   "id": "8a2098a3",
   "metadata": {},
   "outputs": [],
   "source": [
    "x = np.linspace(0, 20, 50)\n",
    "y = np.linspace(20, 0, 50)"
   ]
  },
  {
   "cell_type": "code",
   "execution_count": 20,
   "id": "2ad88e68",
   "metadata": {},
   "outputs": [],
   "source": [
    "x = x + np.random.uniform(-2, 2, 50)\n",
    "y = y + np.random.uniform(-2, 2, 50)"
   ]
  },
  {
   "cell_type": "code",
   "execution_count": 21,
   "id": "40172e30",
   "metadata": {},
   "outputs": [
    {
     "data": {
      "text/plain": [
       "array([-0.50183952,  2.21102049,  1.7443023 ,  1.61912373,  0.25672762,\n",
       "        0.66479441,  0.68131404,  4.32184744,  3.66976617,  4.5057597 ,\n",
       "        2.16397063,  6.36943533,  6.22772975,  4.15547889,  4.44158558,\n",
       "        4.85606702,  5.74758122,  7.03780124,  7.07471885,  6.9200186 ,\n",
       "        8.61067689,  7.12940401,  8.14817043,  8.85320248,  9.6201983 ,\n",
       "       11.34478548,  9.41094003, 11.07734592, 11.7982297 , 10.02253634,\n",
       "       12.67507737, 11.33515772, 11.32143086, 15.2649299 , 15.74007915,\n",
       "       15.51930368, 13.91233263, 13.49272927, 16.24713619, 15.67897732,\n",
       "       14.81468355, 16.71540152, 15.28041123, 19.18830202, 16.9943036 ,\n",
       "       19.01743608, 18.02235451, 19.26394555, 19.77867785, 18.73941782])"
      ]
     },
     "execution_count": 21,
     "metadata": {},
     "output_type": "execute_result"
    }
   ],
   "source": [
    "x"
   ]
  },
  {
   "cell_type": "code",
   "execution_count": 22,
   "id": "558b1b91",
   "metadata": {},
   "outputs": [
    {
     "data": {
      "text/plain": [
       "array([21.87833851, 20.69236803, 20.94166924, 20.35481961, 18.75894685,\n",
       "       19.64668061, 15.90499042, 15.92678859, 14.91560303, 15.62785194,\n",
       "       15.47307651, 14.59560021, 16.41699085, 14.12089086, 13.40945232,\n",
       "       14.04833535, 12.03308466, 14.27001241, 10.9512638 , 14.19244571,\n",
       "       12.92571377, 10.22343415,  9.04249663, 11.87409061, 11.03151101,\n",
       "       10.71194704, 10.47283649,  7.27577044,  8.00529149,  6.62674154,\n",
       "        9.20751574,  7.84013128,  6.26236761,  4.78484565,  5.36637827,\n",
       "        5.015019  ,  6.22454716,  5.44818907,  6.03864689,  3.97049235,\n",
       "        2.15184637,  4.11828527,  3.90028305,  2.69408838,  3.12468505,\n",
       "        1.60783545,  1.31542111,  0.5264906 , -1.49016023, -1.56843429])"
      ]
     },
     "execution_count": 22,
     "metadata": {},
     "output_type": "execute_result"
    }
   ],
   "source": [
    "y"
   ]
  },
  {
   "cell_type": "code",
   "execution_count": 23,
   "id": "3a19aa8a",
   "metadata": {
    "scrolled": true
   },
   "outputs": [
    {
     "data": {
      "text/plain": [
       "[<matplotlib.lines.Line2D at 0xfcebb37c0>]"
      ]
     },
     "execution_count": 23,
     "metadata": {},
     "output_type": "execute_result"
    },
    {
     "data": {
      "image/png": "[encoded data removed]",
      "text/plain": [
       "<Figure size 432x288 with 1 Axes>"
      ]
     },
     "metadata": {
      "needs_background": "light"
     },
     "output_type": "display_data"
    }
   ],
   "source": [
    "plt.plot(x,y,'.')"
   ]
  },
  {
   "cell_type": "markdown",
   "id": "fbc3b114",
   "metadata": {},
   "source": [
    "### Equation of Line for Linear Regression\n",
    "\n",
    "$y = mx+b$\n",
    "\n",
    "    Where, x => Independent variable,\n",
    "           w => Weight of regression line,\n",
    "           b => Bias,\n",
    "           y => Dependent variable\n",
    "\n",
    "$m(slope) = \\frac{(y2-y2)}{(x2-x1)}$\n",
    "\n",
    "$m = \\frac{\\bar{x} \\bar{y} - \\overline{xy}} {\\overline{x} ^ 2 - \\overline{x^2}}$\n",
    "\n",
    "$b = \\bar{y} - m \\bar{x}$"
   ]
  },
  {
   "cell_type": "code",
   "execution_count": 25,
   "id": "1e8dd360",
   "metadata": {},
   "outputs": [],
   "source": [
    "m = ((np.mean(x)*np.mean(y)) - np.mean(x*y)) / ((np.mean(x)**2) - np.mean(x**2))"
   ]
  },
  {
   "cell_type": "code",
   "execution_count": 26,
   "id": "4e126f69",
   "metadata": {},
   "outputs": [],
   "source": [
    "b = np.mean(y) - (m*np.mean(x))"
   ]
  },
  {
   "cell_type": "code",
   "execution_count": 27,
   "id": "991f7939",
   "metadata": {},
   "outputs": [],
   "source": [
    "reg_line = [(m*i)+b for i in x]"
   ]
  },
  {
   "cell_type": "code",
   "execution_count": 28,
   "id": "d2185af9",
   "metadata": {},
   "outputs": [
    {
     "data": {
      "text/plain": [
       "[<matplotlib.lines.Line2D at 0xfcfb4eca0>]"
      ]
     },
     "execution_count": 28,
     "metadata": {},
     "output_type": "execute_result"
    },
    {
     "data": {
      "image/png": "[encoded data removed]",
      "text/plain": [
       "<Figure size 432x288 with 1 Axes>"
      ]
     },
     "metadata": {
      "needs_background": "light"
     },
     "output_type": "display_data"
    }
   ],
   "source": [
    "plt.plot(x, y, '.')\n",
    "plt.plot(x, reg_line_line)"
   ]
  },
  {
   "cell_type": "markdown",
   "id": "68bf3ef4",
   "metadata": {},
   "source": [
    "## Using TensorFlow Library"
   ]
  },
  {
   "cell_type": "code",
   "execution_count": 29,
   "id": "c851aec9",
   "metadata": {},
   "outputs": [],
   "source": [
    "import numpy as np\n",
    "import pandas as pd\n",
    "import matplotlib.pyplot as plt\n",
    "import tensorflow as tf"
   ]
  },
  {
   "cell_type": "code",
   "execution_count": 30,
   "id": "1129c296",
   "metadata": {},
   "outputs": [],
   "source": [
    "df = pd.read_csv('datasets/data.csv')"
   ]
  },
  {
   "cell_type": "code",
   "execution_count": 31,
   "id": "f1f1bbd1",
   "metadata": {},
   "outputs": [
    {
     "data": {
      "text/html": [
       "<div>\n",
       "<style scoped>\n",
       "    .dataframe tbody tr th:only-of-type {\n",
       "        vertical-align: middle;\n",
       "    }\n",
       "\n",
       "    .dataframe tbody tr th {\n",
       "        vertical-align: top;\n",
       "    }\n",
       "\n",
       "    .dataframe thead th {\n",
       "        text-align: right;\n",
       "    }\n",
       "</style>\n",
       "<table border=\"1\" class=\"dataframe\">\n",
       "  <thead>\n",
       "    <tr style=\"text-align: right;\">\n",
       "      <th></th>\n",
       "      <th>X</th>\n",
       "      <th>y</th>\n",
       "    </tr>\n",
       "  </thead>\n",
       "  <tbody>\n",
       "    <tr>\n",
       "      <th>0</th>\n",
       "      <td>230.1</td>\n",
       "      <td>22.1</td>\n",
       "    </tr>\n",
       "    <tr>\n",
       "      <th>1</th>\n",
       "      <td>44.5</td>\n",
       "      <td>10.4</td>\n",
       "    </tr>\n",
       "    <tr>\n",
       "      <th>2</th>\n",
       "      <td>17.2</td>\n",
       "      <td>9.3</td>\n",
       "    </tr>\n",
       "    <tr>\n",
       "      <th>3</th>\n",
       "      <td>151.5</td>\n",
       "      <td>18.5</td>\n",
       "    </tr>\n",
       "    <tr>\n",
       "      <th>4</th>\n",
       "      <td>180.8</td>\n",
       "      <td>12.9</td>\n",
       "    </tr>\n",
       "    <tr>\n",
       "      <th>...</th>\n",
       "      <td>...</td>\n",
       "      <td>...</td>\n",
       "    </tr>\n",
       "    <tr>\n",
       "      <th>195</th>\n",
       "      <td>38.2</td>\n",
       "      <td>7.6</td>\n",
       "    </tr>\n",
       "    <tr>\n",
       "      <th>196</th>\n",
       "      <td>94.2</td>\n",
       "      <td>9.7</td>\n",
       "    </tr>\n",
       "    <tr>\n",
       "      <th>197</th>\n",
       "      <td>177.0</td>\n",
       "      <td>12.8</td>\n",
       "    </tr>\n",
       "    <tr>\n",
       "      <th>198</th>\n",
       "      <td>283.6</td>\n",
       "      <td>25.5</td>\n",
       "    </tr>\n",
       "    <tr>\n",
       "      <th>199</th>\n",
       "      <td>232.1</td>\n",
       "      <td>13.4</td>\n",
       "    </tr>\n",
       "  </tbody>\n",
       "</table>\n",
       "<p>200 rows × 2 columns</p>\n",
       "</div>"
      ],
      "text/plain": [
       "         X     y\n",
       "0    230.1  22.1\n",
       "1     44.5  10.4\n",
       "2     17.2   9.3\n",
       "3    151.5  18.5\n",
       "4    180.8  12.9\n",
       "..     ...   ...\n",
       "195   38.2   7.6\n",
       "196   94.2   9.7\n",
       "197  177.0  12.8\n",
       "198  283.6  25.5\n",
       "199  232.1  13.4\n",
       "\n",
       "[200 rows x 2 columns]"
      ]
     },
     "execution_count": 31,
     "metadata": {},
     "output_type": "execute_result"
    }
   ],
   "source": [
    "df"
   ]
  },
  {
   "cell_type": "code",
   "execution_count": 34,
   "id": "0a44f000",
   "metadata": {},
   "outputs": [
    {
     "data": {
      "image/png": "[encoded data removed]",
      "text/plain": [
       "<Figure size 720x576 with 1 Axes>"
      ]
     },
     "metadata": {
      "needs_background": "light"
     },
     "output_type": "display_data"
    }
   ],
   "source": [
    "plt.figure(figsize=(10,8))\n",
    "plt.scatter(df['X'], df['y'])\n",
    "plt.xlabel('X-Axis')\n",
    "plt.ylabel('Y-Axis')\n",
    "plt.show()"
   ]
  },
  {
   "cell_type": "markdown",
   "id": "8b36022f",
   "metadata": {},
   "source": [
    "### Input & Output Data"
   ]
  },
  {
   "cell_type": "code",
   "execution_count": 35,
   "id": "2524a01f",
   "metadata": {},
   "outputs": [],
   "source": [
    "input_df = df['X']\n",
    "output_df = df['y']"
   ]
  },
  {
   "cell_type": "markdown",
   "id": "018bfaf9",
   "metadata": {},
   "source": [
    "### Model"
   ]
  },
  {
   "cell_type": "code",
   "execution_count": 36,
   "id": "253ba730",
   "metadata": {},
   "outputs": [],
   "source": [
    "model = tf.keras.Sequential()"
   ]
  },
  {
   "cell_type": "code",
   "execution_count": 37,
   "id": "ef372684",
   "metadata": {},
   "outputs": [],
   "source": [
    "# adding the layer\n",
    "model.add(tf.keras.layers.Dense(1, input_shape=[1]))"
   ]
  },
  {
   "cell_type": "code",
   "execution_count": 38,
   "id": "635f542c",
   "metadata": {},
   "outputs": [],
   "source": [
    "model.compile(loss='mean_squared_error', optimizer=tf.keras.optimizers.Adam(0.01))"
   ]
  },
  {
   "cell_type": "code",
   "execution_count": 39,
   "id": "92e3fc33",
   "metadata": {},
   "outputs": [
    {
     "name": "stdout",
     "output_type": "stream",
     "text": [
      "Model: \"sequential\"\n",
      "_________________________________________________________________\n",
      " Layer (type)                Output Shape              Param #   \n",
      "=================================================================\n",
      " dense (Dense)               (None, 1)                 2         \n",
      "                                                                 \n",
      "=================================================================\n",
      "Total params: 2\n",
      "Trainable params: 2\n",
      "Non-trainable params: 0\n",
      "_________________________________________________________________\n"
     ]
    }
   ],
   "source": [
    "model.summary()"
   ]
  },
  {
   "cell_type": "code",
   "execution_count": 40,
   "id": "e09233bf",
   "metadata": {},
   "outputs": [
    {
     "name": "stdout",
     "output_type": "stream",
     "text": [
      "Epoch 1/300\n",
      "7/7 [==============================] - 10s 42ms/step - loss: 199.7950\n",
      "Epoch 2/300\n",
      "7/7 [==============================] - 0s 4ms/step - loss: 35.2551\n",
      "Epoch 3/300\n",
      "7/7 [==============================] - 0s 5ms/step - loss: 42.2401\n",
      "Epoch 4/300\n",
      "7/7 [==============================] - 0s 3ms/step - loss: 39.0041\n",
      "Epoch 5/300\n",
      "7/7 [==============================] - 0s 3ms/step - loss: 24.3104\n",
      "Epoch 6/300\n",
      "7/7 [==============================] - 0s 2ms/step - loss: 27.4638\n",
      "Epoch 7/300\n",
      "7/7 [==============================] - 0s 3ms/step - loss: 25.5602\n",
      "Epoch 8/300\n",
      "7/7 [==============================] - 0s 6ms/step - loss: 23.6036\n",
      "Epoch 9/300\n",
      "7/7 [==============================] - 0s 3ms/step - loss: 23.2797\n",
      "Epoch 10/300\n",
      "7/7 [==============================] - 0s 2ms/step - loss: 22.7636\n",
      "Epoch 11/300\n",
      "7/7 [==============================] - 0s 7ms/step - loss: 22.9003\n",
      "Epoch 12/300\n",
      "7/7 [==============================] - 0s 2ms/step - loss: 22.6686\n",
      "Epoch 13/300\n",
      "7/7 [==============================] - 0s 3ms/step - loss: 22.5140\n",
      "Epoch 14/300\n",
      "7/7 [==============================] - 0s 3ms/step - loss: 22.4107\n",
      "Epoch 15/300\n",
      "7/7 [==============================] - 0s 3ms/step - loss: 22.2875\n",
      "Epoch 16/300\n",
      "7/7 [==============================] - 0s 2ms/step - loss: 22.1388\n",
      "Epoch 17/300\n",
      "7/7 [==============================] - 0s 3ms/step - loss: 22.3844\n",
      "Epoch 18/300\n",
      "7/7 [==============================] - 0s 2ms/step - loss: 21.7172\n",
      "Epoch 19/300\n",
      "7/7 [==============================] - 0s 3ms/step - loss: 22.0258\n",
      "Epoch 20/300\n",
      "7/7 [==============================] - 0s 3ms/step - loss: 21.6920\n",
      "Epoch 21/300\n",
      "7/7 [==============================] - 0s 3ms/step - loss: 21.6275\n",
      "Epoch 22/300\n",
      "7/7 [==============================] - 0s 3ms/step - loss: 21.5118\n",
      "Epoch 23/300\n",
      "7/7 [==============================] - 0s 4ms/step - loss: 21.3526\n",
      "Epoch 24/300\n",
      "7/7 [==============================] - 0s 3ms/step - loss: 21.2954\n",
      "Epoch 25/300\n",
      "7/7 [==============================] - 0s 3ms/step - loss: 21.5539\n",
      "Epoch 26/300\n",
      "7/7 [==============================] - 0s 3ms/step - loss: 20.9117\n",
      "Epoch 27/300\n",
      "7/7 [==============================] - 0s 3ms/step - loss: 21.3319\n",
      "Epoch 28/300\n",
      "7/7 [==============================] - 0s 3ms/step - loss: 21.0263\n",
      "Epoch 29/300\n",
      "7/7 [==============================] - 0s 3ms/step - loss: 20.8300\n",
      "Epoch 30/300\n",
      "7/7 [==============================] - 0s 41ms/step - loss: 20.7179\n",
      "Epoch 31/300\n",
      "7/7 [==============================] - 0s 3ms/step - loss: 20.6633\n",
      "Epoch 32/300\n",
      "7/7 [==============================] - 0s 3ms/step - loss: 20.3538\n",
      "Epoch 33/300\n",
      "7/7 [==============================] - 0s 3ms/step - loss: 20.2639\n",
      "Epoch 34/300\n",
      "7/7 [==============================] - 0s 3ms/step - loss: 20.0418\n",
      "Epoch 35/300\n",
      "7/7 [==============================] - 0s 3ms/step - loss: 19.8774\n",
      "Epoch 36/300\n",
      "7/7 [==============================] - 0s 2ms/step - loss: 19.7870\n",
      "Epoch 37/300\n",
      "7/7 [==============================] - 0s 1ms/step - loss: 19.8324\n",
      "Epoch 38/300\n",
      "7/7 [==============================] - 0s 2ms/step - loss: 19.7928\n",
      "Epoch 39/300\n",
      "7/7 [==============================] - 0s 2ms/step - loss: 19.4562\n",
      "Epoch 40/300\n",
      "7/7 [==============================] - 0s 2ms/step - loss: 19.2508\n",
      "Epoch 41/300\n",
      "7/7 [==============================] - 0s 1ms/step - loss: 19.4695\n",
      "Epoch 42/300\n",
      "7/7 [==============================] - 0s 55ms/step - loss: 19.2509\n",
      "Epoch 43/300\n",
      "7/7 [==============================] - 0s 4ms/step - loss: 18.7535\n",
      "Epoch 44/300\n",
      "7/7 [==============================] - 0s 2ms/step - loss: 19.0836\n",
      "Epoch 45/300\n",
      "7/7 [==============================] - 0s 2ms/step - loss: 19.4038\n",
      "Epoch 46/300\n",
      "7/7 [==============================] - 0s 2ms/step - loss: 18.2938\n",
      "Epoch 47/300\n",
      "7/7 [==============================] - 0s 2ms/step - loss: 19.2330\n",
      "Epoch 48/300\n",
      "7/7 [==============================] - 0s 2ms/step - loss: 18.7910\n",
      "Epoch 49/300\n",
      "7/7 [==============================] - 0s 2ms/step - loss: 18.2667\n",
      "Epoch 50/300\n",
      "7/7 [==============================] - 0s 2ms/step - loss: 18.1857\n",
      "Epoch 51/300\n",
      "7/7 [==============================] - 0s 2ms/step - loss: 17.9723\n",
      "Epoch 52/300\n",
      "7/7 [==============================] - 0s 2ms/step - loss: 18.0939\n",
      "Epoch 53/300\n",
      "7/7 [==============================] - 0s 2ms/step - loss: 17.7358\n",
      "Epoch 54/300\n",
      "7/7 [==============================] - 0s 2ms/step - loss: 17.6941\n",
      "Epoch 55/300\n",
      "7/7 [==============================] - 0s 2ms/step - loss: 17.5121\n",
      "Epoch 56/300\n",
      "7/7 [==============================] - 0s 2ms/step - loss: 17.5861\n",
      "Epoch 57/300\n",
      "7/7 [==============================] - 0s 2ms/step - loss: 17.3102\n",
      "Epoch 58/300\n",
      "7/7 [==============================] - 0s 1ms/step - loss: 17.2633\n",
      "Epoch 59/300\n",
      "7/7 [==============================] - 0s 2ms/step - loss: 17.1557\n",
      "Epoch 60/300\n",
      "7/7 [==============================] - 0s 2ms/step - loss: 16.9722\n",
      "Epoch 61/300\n",
      "7/7 [==============================] - 0s 2ms/step - loss: 16.9016\n",
      "Epoch 62/300\n",
      "7/7 [==============================] - 0s 2ms/step - loss: 16.8130\n",
      "Epoch 63/300\n",
      "7/7 [==============================] - 0s 2ms/step - loss: 16.7600\n",
      "Epoch 64/300\n",
      "7/7 [==============================] - 0s 2ms/step - loss: 17.2032\n",
      "Epoch 65/300\n",
      "7/7 [==============================] - 0s 2ms/step - loss: 17.4072\n",
      "Epoch 66/300\n",
      "7/7 [==============================] - 0s 2ms/step - loss: 17.0022\n",
      "Epoch 67/300\n",
      "7/7 [==============================] - 0s 6ms/step - loss: 16.8256\n",
      "Epoch 68/300\n",
      "7/7 [==============================] - 0s 2ms/step - loss: 16.4910\n",
      "Epoch 69/300\n",
      "7/7 [==============================] - 0s 3ms/step - loss: 16.0932\n",
      "Epoch 70/300\n",
      "7/7 [==============================] - 0s 2ms/step - loss: 16.0919\n",
      "Epoch 71/300\n",
      "7/7 [==============================] - 0s 2ms/step - loss: 15.9416\n",
      "Epoch 72/300\n",
      "7/7 [==============================] - 0s 2ms/step - loss: 15.8983\n",
      "Epoch 73/300\n",
      "7/7 [==============================] - 0s 2ms/step - loss: 15.8388\n",
      "Epoch 74/300\n",
      "7/7 [==============================] - 0s 2ms/step - loss: 15.7943\n",
      "Epoch 75/300\n",
      "7/7 [==============================] - 0s 2ms/step - loss: 15.6131\n",
      "Epoch 76/300\n",
      "7/7 [==============================] - 0s 2ms/step - loss: 15.7014\n",
      "Epoch 77/300\n",
      "7/7 [==============================] - 0s 2ms/step - loss: 15.4354\n",
      "Epoch 78/300\n",
      "7/7 [==============================] - 0s 2ms/step - loss: 15.3890\n",
      "Epoch 79/300\n",
      "7/7 [==============================] - 0s 3ms/step - loss: 15.3161\n",
      "Epoch 80/300\n",
      "7/7 [==============================] - 0s 2ms/step - loss: 15.2499\n",
      "Epoch 81/300\n",
      "7/7 [==============================] - 0s 3ms/step - loss: 15.4165\n",
      "Epoch 82/300\n",
      "7/7 [==============================] - 0s 2ms/step - loss: 16.0356\n",
      "Epoch 83/300\n",
      "7/7 [==============================] - 0s 2ms/step - loss: 15.3492\n",
      "Epoch 84/300\n",
      "7/7 [==============================] - 0s 2ms/step - loss: 15.2236\n",
      "Epoch 85/300\n",
      "7/7 [==============================] - 0s 31ms/step - loss: 14.8311\n",
      "Epoch 86/300\n",
      "7/7 [==============================] - 0s 2ms/step - loss: 14.9305\n",
      "Epoch 87/300\n",
      "7/7 [==============================] - 0s 2ms/step - loss: 14.6797\n",
      "Epoch 88/300\n",
      "7/7 [==============================] - 0s 2ms/step - loss: 14.5984\n",
      "Epoch 89/300\n",
      "7/7 [==============================] - 0s 2ms/step - loss: 14.8669\n",
      "Epoch 90/300\n",
      "7/7 [==============================] - 0s 2ms/step - loss: 14.6323\n",
      "Epoch 91/300\n",
      "7/7 [==============================] - 0s 2ms/step - loss: 14.3106\n",
      "Epoch 92/300\n",
      "7/7 [==============================] - 0s 2ms/step - loss: 14.2082\n",
      "Epoch 93/300\n",
      "7/7 [==============================] - 0s 2ms/step - loss: 14.6996\n",
      "Epoch 94/300\n",
      "7/7 [==============================] - 0s 2ms/step - loss: 15.6824\n",
      "Epoch 95/300\n",
      "7/7 [==============================] - 0s 2ms/step - loss: 14.6434\n",
      "Epoch 96/300\n",
      "7/7 [==============================] - 0s 2ms/step - loss: 14.1638\n",
      "Epoch 97/300\n",
      "7/7 [==============================] - 0s 3ms/step - loss: 14.7933\n",
      "Epoch 98/300\n",
      "7/7 [==============================] - 0s 2ms/step - loss: 13.8071\n",
      "Epoch 99/300\n",
      "7/7 [==============================] - 0s 4ms/step - loss: 14.3369\n",
      "Epoch 100/300\n",
      "7/7 [==============================] - 0s 2ms/step - loss: 13.9259\n",
      "Epoch 101/300\n",
      "7/7 [==============================] - 0s 2ms/step - loss: 13.9767\n",
      "Epoch 102/300\n",
      "7/7 [==============================] - 0s 2ms/step - loss: 14.2308\n",
      "Epoch 103/300\n"
     ]
    },
    {
     "name": "stdout",
     "output_type": "stream",
     "text": [
      "7/7 [==============================] - 0s 2ms/step - loss: 13.4085\n",
      "Epoch 104/300\n",
      "7/7 [==============================] - 0s 2ms/step - loss: 14.8145\n",
      "Epoch 105/300\n",
      "7/7 [==============================] - 0s 2ms/step - loss: 14.2529\n",
      "Epoch 106/300\n",
      "7/7 [==============================] - 0s 2ms/step - loss: 14.0103\n",
      "Epoch 107/300\n",
      "7/7 [==============================] - 0s 3ms/step - loss: 13.4121\n",
      "Epoch 108/300\n",
      "7/7 [==============================] - 0s 20ms/step - loss: 13.3228\n",
      "Epoch 109/300\n",
      "7/7 [==============================] - 0s 3ms/step - loss: 13.3436\n",
      "Epoch 110/300\n",
      "7/7 [==============================] - 0s 2ms/step - loss: 13.1642\n",
      "Epoch 111/300\n",
      "7/7 [==============================] - 0s 2ms/step - loss: 13.1977\n",
      "Epoch 112/300\n",
      "7/7 [==============================] - 0s 2ms/step - loss: 13.2376\n",
      "Epoch 113/300\n",
      "7/7 [==============================] - 0s 2ms/step - loss: 13.1142\n",
      "Epoch 114/300\n",
      "7/7 [==============================] - 0s 2ms/step - loss: 13.2755\n",
      "Epoch 115/300\n",
      "7/7 [==============================] - 0s 2ms/step - loss: 13.1876\n",
      "Epoch 116/300\n",
      "7/7 [==============================] - 0s 2ms/step - loss: 13.2756\n",
      "Epoch 117/300\n",
      "7/7 [==============================] - 0s 2ms/step - loss: 13.0148\n",
      "Epoch 118/300\n",
      "7/7 [==============================] - 0s 2ms/step - loss: 13.0533\n",
      "Epoch 119/300\n",
      "7/7 [==============================] - 0s 2ms/step - loss: 12.7961\n",
      "Epoch 120/300\n",
      "7/7 [==============================] - 0s 2ms/step - loss: 13.3595\n",
      "Epoch 121/300\n",
      "7/7 [==============================] - 0s 2ms/step - loss: 12.7723\n",
      "Epoch 122/300\n",
      "7/7 [==============================] - 0s 2ms/step - loss: 12.9358\n",
      "Epoch 123/300\n",
      "7/7 [==============================] - 0s 3ms/step - loss: 13.4842\n",
      "Epoch 124/300\n",
      "7/7 [==============================] - 0s 2ms/step - loss: 13.2567\n",
      "Epoch 125/300\n",
      "7/7 [==============================] - 0s 2ms/step - loss: 12.4661\n",
      "Epoch 126/300\n",
      "7/7 [==============================] - 0s 2ms/step - loss: 12.5595\n",
      "Epoch 127/300\n",
      "7/7 [==============================] - 0s 2ms/step - loss: 12.6680\n",
      "Epoch 128/300\n",
      "7/7 [==============================] - 0s 2ms/step - loss: 12.5367\n",
      "Epoch 129/300\n",
      "7/7 [==============================] - 0s 2ms/step - loss: 12.5658\n",
      "Epoch 130/300\n",
      "7/7 [==============================] - 0s 2ms/step - loss: 12.4371\n",
      "Epoch 131/300\n",
      "7/7 [==============================] - 0s 2ms/step - loss: 12.7184\n",
      "Epoch 132/300\n",
      "7/7 [==============================] - 0s 2ms/step - loss: 12.3903\n",
      "Epoch 133/300\n",
      "7/7 [==============================] - ETA: 0s - loss: 11.96 - 0s 3ms/step - loss: 12.1523\n",
      "Epoch 134/300\n",
      "7/7 [==============================] - 0s 2ms/step - loss: 12.4115\n",
      "Epoch 135/300\n",
      "7/7 [==============================] - 0s 2ms/step - loss: 12.2597\n",
      "Epoch 136/300\n",
      "7/7 [==============================] - 0s 2ms/step - loss: 12.1087\n",
      "Epoch 137/300\n",
      "7/7 [==============================] - 0s 2ms/step - loss: 12.0501\n",
      "Epoch 138/300\n",
      "7/7 [==============================] - 0s 2ms/step - loss: 12.3188\n",
      "Epoch 139/300\n",
      "7/7 [==============================] - 0s 3ms/step - loss: 12.2320\n",
      "Epoch 140/300\n",
      "7/7 [==============================] - 0s 2ms/step - loss: 12.1237\n",
      "Epoch 141/300\n",
      "7/7 [==============================] - 0s 5ms/step - loss: 11.9917\n",
      "Epoch 142/300\n",
      "7/7 [==============================] - 0s 8ms/step - loss: 11.9653\n",
      "Epoch 143/300\n",
      "7/7 [==============================] - 0s 2ms/step - loss: 12.8876\n",
      "Epoch 144/300\n",
      "7/7 [==============================] - 0s 2ms/step - loss: 11.9445\n",
      "Epoch 145/300\n",
      "7/7 [==============================] - 0s 2ms/step - loss: 11.6986\n",
      "Epoch 146/300\n",
      "7/7 [==============================] - 0s 2ms/step - loss: 12.6053\n",
      "Epoch 147/300\n",
      "7/7 [==============================] - 0s 2ms/step - loss: 11.8512\n",
      "Epoch 148/300\n",
      "7/7 [==============================] - 0s 2ms/step - loss: 11.8987\n",
      "Epoch 149/300\n",
      "7/7 [==============================] - 0s 2ms/step - loss: 11.7074\n",
      "Epoch 150/300\n",
      "7/7 [==============================] - 0s 2ms/step - loss: 11.9231\n",
      "Epoch 151/300\n",
      "7/7 [==============================] - 0s 2ms/step - loss: 12.8451\n",
      "Epoch 152/300\n",
      "7/7 [==============================] - 0s 2ms/step - loss: 11.6329\n",
      "Epoch 153/300\n",
      "7/7 [==============================] - 0s 2ms/step - loss: 11.9134\n",
      "Epoch 154/300\n",
      "7/7 [==============================] - 0s 2ms/step - loss: 12.0668\n",
      "Epoch 155/300\n",
      "7/7 [==============================] - 0s 2ms/step - loss: 11.9369\n",
      "Epoch 156/300\n",
      "7/7 [==============================] - 0s 2ms/step - loss: 11.5756\n",
      "Epoch 157/300\n",
      "7/7 [==============================] - 0s 2ms/step - loss: 11.8483\n",
      "Epoch 158/300\n",
      "7/7 [==============================] - 0s 2ms/step - loss: 11.4580\n",
      "Epoch 159/300\n",
      "7/7 [==============================] - 0s 2ms/step - loss: 11.8895\n",
      "Epoch 160/300\n",
      "7/7 [==============================] - 0s 2ms/step - loss: 11.6604\n",
      "Epoch 161/300\n",
      "7/7 [==============================] - 0s 2ms/step - loss: 11.6809\n",
      "Epoch 162/300\n",
      "7/7 [==============================] - 0s 2ms/step - loss: 11.7231\n",
      "Epoch 163/300\n",
      "7/7 [==============================] - 0s 2ms/step - loss: 11.8890\n",
      "Epoch 164/300\n",
      "7/7 [==============================] - 0s 2ms/step - loss: 12.1641\n",
      "Epoch 165/300\n",
      "7/7 [==============================] - 0s 2ms/step - loss: 12.2688\n",
      "Epoch 166/300\n",
      "7/7 [==============================] - 0s 2ms/step - loss: 11.2088\n",
      "Epoch 167/300\n",
      "7/7 [==============================] - 0s 2ms/step - loss: 11.7647\n",
      "Epoch 168/300\n",
      "7/7 [==============================] - 0s 2ms/step - loss: 11.3938\n",
      "Epoch 169/300\n",
      "7/7 [==============================] - 0s 2ms/step - loss: 11.2646\n",
      "Epoch 170/300\n",
      "7/7 [==============================] - 0s 2ms/step - loss: 11.4095\n",
      "Epoch 171/300\n",
      "7/7 [==============================] - 0s 2ms/step - loss: 11.1873\n",
      "Epoch 172/300\n",
      "7/7 [==============================] - 0s 2ms/step - loss: 11.2920\n",
      "Epoch 173/300\n",
      "7/7 [==============================] - 0s 2ms/step - loss: 11.9782\n",
      "Epoch 174/300\n",
      "7/7 [==============================] - 0s 2ms/step - loss: 11.3951\n",
      "Epoch 175/300\n",
      "7/7 [==============================] - 0s 2ms/step - loss: 11.5649\n",
      "Epoch 176/300\n",
      "7/7 [==============================] - 0s 2ms/step - loss: 12.6587\n",
      "Epoch 177/300\n",
      "7/7 [==============================] - 0s 2ms/step - loss: 11.8283\n",
      "Epoch 178/300\n",
      "7/7 [==============================] - 0s 2ms/step - loss: 10.7749\n",
      "Epoch 179/300\n",
      "7/7 [==============================] - 0s 2ms/step - loss: 11.4902\n",
      "Epoch 180/300\n",
      "7/7 [==============================] - 0s 2ms/step - loss: 11.1730\n",
      "Epoch 181/300\n",
      "7/7 [==============================] - 0s 2ms/step - loss: 11.3495\n",
      "Epoch 182/300\n",
      "7/7 [==============================] - 0s 2ms/step - loss: 11.6614\n",
      "Epoch 183/300\n",
      "7/7 [==============================] - 0s 2ms/step - loss: 11.6347\n",
      "Epoch 184/300\n",
      "7/7 [==============================] - 0s 2ms/step - loss: 11.3736\n",
      "Epoch 185/300\n",
      "7/7 [==============================] - 0s 2ms/step - loss: 11.3660\n",
      "Epoch 186/300\n",
      "7/7 [==============================] - 0s 2ms/step - loss: 11.6318\n",
      "Epoch 187/300\n",
      "7/7 [==============================] - 0s 2ms/step - loss: 11.2109\n",
      "Epoch 188/300\n",
      "7/7 [==============================] - 0s 2ms/step - loss: 11.0662\n",
      "Epoch 189/300\n",
      "7/7 [==============================] - 0s 2ms/step - loss: 11.1100\n",
      "Epoch 190/300\n",
      "7/7 [==============================] - 0s 2ms/step - loss: 11.2373\n",
      "Epoch 191/300\n",
      "7/7 [==============================] - ETA: 0s - loss: 12.35 - 0s 2ms/step - loss: 11.0633\n",
      "Epoch 192/300\n",
      "7/7 [==============================] - 0s 2ms/step - loss: 11.1347\n",
      "Epoch 193/300\n",
      "7/7 [==============================] - 0s 2ms/step - loss: 10.9775\n",
      "Epoch 194/300\n",
      "7/7 [==============================] - 0s 2ms/step - loss: 11.2573\n",
      "Epoch 195/300\n",
      "7/7 [==============================] - 0s 2ms/step - loss: 10.9733\n",
      "Epoch 196/300\n",
      "7/7 [==============================] - 0s 2ms/step - loss: 10.9828\n",
      "Epoch 197/300\n",
      "7/7 [==============================] - 0s 2ms/step - loss: 10.9549\n",
      "Epoch 198/300\n",
      "7/7 [==============================] - 0s 2ms/step - loss: 11.0397\n",
      "Epoch 199/300\n",
      "7/7 [==============================] - 0s 2ms/step - loss: 10.9379\n",
      "Epoch 200/300\n",
      "7/7 [==============================] - 0s 2ms/step - loss: 11.0807\n",
      "Epoch 201/300\n",
      "7/7 [==============================] - 0s 2ms/step - loss: 11.1239\n",
      "Epoch 202/300\n",
      "7/7 [==============================] - 0s 2ms/step - loss: 11.0763\n",
      "Epoch 203/300\n"
     ]
    },
    {
     "name": "stdout",
     "output_type": "stream",
     "text": [
      "7/7 [==============================] - 0s 3ms/step - loss: 10.8958\n",
      "Epoch 204/300\n",
      "7/7 [==============================] - 0s 3ms/step - loss: 10.9381\n",
      "Epoch 205/300\n",
      "7/7 [==============================] - 0s 2ms/step - loss: 11.0932\n",
      "Epoch 206/300\n",
      "7/7 [==============================] - 0s 2ms/step - loss: 10.8592\n",
      "Epoch 207/300\n",
      "7/7 [==============================] - 0s 3ms/step - loss: 11.1492\n",
      "Epoch 208/300\n",
      "7/7 [==============================] - 0s 2ms/step - loss: 12.8232\n",
      "Epoch 209/300\n",
      "7/7 [==============================] - 0s 2ms/step - loss: 13.3278\n",
      "Epoch 210/300\n",
      "7/7 [==============================] - 0s 2ms/step - loss: 12.0364\n",
      "Epoch 211/300\n",
      "7/7 [==============================] - 0s 3ms/step - loss: 11.4197\n",
      "Epoch 212/300\n",
      "7/7 [==============================] - 0s 2ms/step - loss: 11.3179\n",
      "Epoch 213/300\n",
      "7/7 [==============================] - 0s 2ms/step - loss: 11.3219\n",
      "Epoch 214/300\n",
      "7/7 [==============================] - 0s 2ms/step - loss: 11.1538\n",
      "Epoch 215/300\n",
      "7/7 [==============================] - 0s 2ms/step - loss: 11.1867\n",
      "Epoch 216/300\n",
      "7/7 [==============================] - 0s 2ms/step - loss: 11.0521\n",
      "Epoch 217/300\n",
      "7/7 [==============================] - 0s 2ms/step - loss: 10.9239\n",
      "Epoch 218/300\n",
      "7/7 [==============================] - 0s 3ms/step - loss: 10.7933\n",
      "Epoch 219/300\n",
      "7/7 [==============================] - 0s 2ms/step - loss: 10.8744\n",
      "Epoch 220/300\n",
      "7/7 [==============================] - 0s 3ms/step - loss: 10.9269\n",
      "Epoch 221/300\n",
      "7/7 [==============================] - 0s 3ms/step - loss: 10.6900\n",
      "Epoch 222/300\n",
      "7/7 [==============================] - 0s 3ms/step - loss: 10.9230\n",
      "Epoch 223/300\n",
      "7/7 [==============================] - 0s 3ms/step - loss: 11.2094\n",
      "Epoch 224/300\n",
      "7/7 [==============================] - 0s 3ms/step - loss: 10.8270\n",
      "Epoch 225/300\n",
      "7/7 [==============================] - 0s 3ms/step - loss: 11.1826\n",
      "Epoch 226/300\n",
      "7/7 [==============================] - 0s 26ms/step - loss: 10.8819\n",
      "Epoch 227/300\n",
      "7/7 [==============================] - 0s 2ms/step - loss: 10.8344\n",
      "Epoch 228/300\n",
      "7/7 [==============================] - 0s 3ms/step - loss: 10.7170\n",
      "Epoch 229/300\n",
      "7/7 [==============================] - 0s 3ms/step - loss: 11.0223\n",
      "Epoch 230/300\n",
      "7/7 [==============================] - 0s 3ms/step - loss: 10.8483\n",
      "Epoch 231/300\n",
      "7/7 [==============================] - 0s 2ms/step - loss: 10.8291\n",
      "Epoch 232/300\n",
      "7/7 [==============================] - 0s 3ms/step - loss: 11.3494\n",
      "Epoch 233/300\n",
      "7/7 [==============================] - 0s 2ms/step - loss: 10.8004\n",
      "Epoch 234/300\n",
      "7/7 [==============================] - 0s 2ms/step - loss: 10.7861\n",
      "Epoch 235/300\n",
      "7/7 [==============================] - 0s 3ms/step - loss: 11.1934\n",
      "Epoch 236/300\n",
      "7/7 [==============================] - 0s 4ms/step - loss: 12.6012\n",
      "Epoch 237/300\n",
      "7/7 [==============================] - 0s 10ms/step - loss: 12.2148\n",
      "Epoch 238/300\n",
      "7/7 [==============================] - 0s 2ms/step - loss: 10.6527\n",
      "Epoch 239/300\n",
      "7/7 [==============================] - 0s 2ms/step - loss: 11.5379\n",
      "Epoch 240/300\n",
      "7/7 [==============================] - 0s 2ms/step - loss: 11.7244\n",
      "Epoch 241/300\n",
      "7/7 [==============================] - 0s 2ms/step - loss: 11.1686\n",
      "Epoch 242/300\n",
      "7/7 [==============================] - 0s 2ms/step - loss: 10.3980\n",
      "Epoch 243/300\n",
      "7/7 [==============================] - 0s 2ms/step - loss: 11.6022\n",
      "Epoch 244/300\n",
      "7/7 [==============================] - 0s 3ms/step - loss: 11.3468\n",
      "Epoch 245/300\n",
      "7/7 [==============================] - 0s 2ms/step - loss: 12.2875\n",
      "Epoch 246/300\n",
      "7/7 [==============================] - 0s 2ms/step - loss: 10.9321\n",
      "Epoch 247/300\n",
      "7/7 [==============================] - 0s 2ms/step - loss: 10.8181\n",
      "Epoch 248/300\n",
      "7/7 [==============================] - 0s 2ms/step - loss: 10.8561\n",
      "Epoch 249/300\n",
      "7/7 [==============================] - 0s 2ms/step - loss: 10.7729\n",
      "Epoch 250/300\n",
      "7/7 [==============================] - 0s 2ms/step - loss: 10.7822\n",
      "Epoch 251/300\n",
      "7/7 [==============================] - 0s 2ms/step - loss: 10.6434\n",
      "Epoch 252/300\n",
      "7/7 [==============================] - 0s 3ms/step - loss: 10.7465\n",
      "Epoch 253/300\n",
      "7/7 [==============================] - 0s 2ms/step - loss: 10.6003\n",
      "Epoch 254/300\n",
      "7/7 [==============================] - 0s 2ms/step - loss: 10.9108\n",
      "Epoch 255/300\n",
      "7/7 [==============================] - 0s 3ms/step - loss: 10.7863\n",
      "Epoch 256/300\n",
      "7/7 [==============================] - 0s 3ms/step - loss: 10.6203\n",
      "Epoch 257/300\n",
      "7/7 [==============================] - 0s 2ms/step - loss: 10.7641\n",
      "Epoch 258/300\n",
      "7/7 [==============================] - 0s 2ms/step - loss: 10.6925\n",
      "Epoch 259/300\n",
      "7/7 [==============================] - 0s 3ms/step - loss: 11.1645\n",
      "Epoch 260/300\n",
      "7/7 [==============================] - 0s 2ms/step - loss: 10.8041\n",
      "Epoch 261/300\n",
      "7/7 [==============================] - 0s 3ms/step - loss: 11.0371\n",
      "Epoch 262/300\n",
      "7/7 [==============================] - 0s 2ms/step - loss: 11.5814\n",
      "Epoch 263/300\n",
      "7/7 [==============================] - 0s 2ms/step - loss: 11.1675\n",
      "Epoch 264/300\n",
      "7/7 [==============================] - 0s 3ms/step - loss: 11.5127\n",
      "Epoch 265/300\n",
      "7/7 [==============================] - 0s 2ms/step - loss: 10.7999\n",
      "Epoch 266/300\n",
      "7/7 [==============================] - 0s 2ms/step - loss: 11.2806\n",
      "Epoch 267/300\n",
      "7/7 [==============================] - ETA: 0s - loss: 11.92 - 0s 2ms/step - loss: 10.8327\n",
      "Epoch 268/300\n",
      "7/7 [==============================] - 0s 2ms/step - loss: 10.5685\n",
      "Epoch 269/300\n",
      "7/7 [==============================] - 0s 2ms/step - loss: 10.9023\n",
      "Epoch 270/300\n",
      "7/7 [==============================] - 0s 2ms/step - loss: 11.9309\n",
      "Epoch 271/300\n",
      "7/7 [==============================] - 0s 2ms/step - loss: 10.7885\n",
      "Epoch 272/300\n",
      "7/7 [==============================] - 0s 3ms/step - loss: 10.6870\n",
      "Epoch 273/300\n",
      "7/7 [==============================] - 0s 2ms/step - loss: 11.0078\n",
      "Epoch 274/300\n",
      "7/7 [==============================] - 0s 2ms/step - loss: 11.0095\n",
      "Epoch 275/300\n",
      "7/7 [==============================] - 0s 2ms/step - loss: 12.4195\n",
      "Epoch 276/300\n",
      "7/7 [==============================] - 0s 3ms/step - loss: 10.7539\n",
      "Epoch 277/300\n",
      "7/7 [==============================] - 0s 3ms/step - loss: 10.7898\n",
      "Epoch 278/300\n",
      "7/7 [==============================] - 0s 2ms/step - loss: 10.7984\n",
      "Epoch 279/300\n",
      "7/7 [==============================] - 0s 2ms/step - loss: 10.8514\n",
      "Epoch 280/300\n",
      "7/7 [==============================] - 0s 2ms/step - loss: 10.7895\n",
      "Epoch 281/300\n",
      "7/7 [==============================] - 0s 3ms/step - loss: 10.6240\n",
      "Epoch 282/300\n",
      "7/7 [==============================] - 0s 3ms/step - loss: 11.0150\n",
      "Epoch 283/300\n",
      "7/7 [==============================] - 0s 2ms/step - loss: 10.6840\n",
      "Epoch 284/300\n",
      "7/7 [==============================] - 0s 2ms/step - loss: 10.7802\n",
      "Epoch 285/300\n",
      "7/7 [==============================] - 0s 2ms/step - loss: 10.5557\n",
      "Epoch 286/300\n",
      "7/7 [==============================] - 0s 2ms/step - loss: 10.7075\n",
      "Epoch 287/300\n",
      "7/7 [==============================] - 0s 3ms/step - loss: 12.5835\n",
      "Epoch 288/300\n",
      "7/7 [==============================] - 0s 2ms/step - loss: 12.4229\n",
      "Epoch 289/300\n",
      "7/7 [==============================] - 0s 2ms/step - loss: 11.4703\n",
      "Epoch 290/300\n",
      "7/7 [==============================] - 0s 2ms/step - loss: 10.6803\n",
      "Epoch 291/300\n",
      "7/7 [==============================] - 0s 2ms/step - loss: 10.5945\n",
      "Epoch 292/300\n",
      "7/7 [==============================] - 0s 3ms/step - loss: 11.1047\n",
      "Epoch 293/300\n",
      "7/7 [==============================] - 0s 2ms/step - loss: 10.7492\n",
      "Epoch 294/300\n",
      "7/7 [==============================] - 0s 3ms/step - loss: 10.7503\n",
      "Epoch 295/300\n",
      "7/7 [==============================] - 0s 2ms/step - loss: 10.6223\n",
      "Epoch 296/300\n",
      "7/7 [==============================] - 0s 2ms/step - loss: 10.7579\n",
      "Epoch 297/300\n",
      "7/7 [==============================] - 0s 2ms/step - loss: 10.8317\n",
      "Epoch 298/300\n",
      "7/7 [==============================] - 0s 2ms/step - loss: 10.5925\n",
      "Epoch 299/300\n",
      "7/7 [==============================] - 0s 2ms/step - loss: 10.9118\n",
      "Epoch 300/300\n",
      "7/7 [==============================] - 0s 2ms/step - loss: 10.5827\n"
     ]
    }
   ],
   "source": [
    "pred = model.fit(input_df, output_df, epochs=300)"
   ]
  },
  {
   "cell_type": "code",
   "execution_count": 41,
   "id": "ff5a834d",
   "metadata": {},
   "outputs": [
    {
     "data": {
      "image/png": "[encoded data removed]",
      "text/plain": [
       "<Figure size 720x576 with 1 Axes>"
      ]
     },
     "metadata": {
      "needs_background": "light"
     },
     "output_type": "display_data"
    }
   ],
   "source": [
    "plt.figure(figsize=(10,8))\n",
    "plt.plot(pred.history['loss'])\n",
    "plt.show()"
   ]
  },
  {
   "cell_type": "code",
   "execution_count": 42,
   "id": "deb43cef",
   "metadata": {},
   "outputs": [],
   "source": [
    "df['prediction'] = model.predict(input_df)"
   ]
  },
  {
   "cell_type": "code",
   "execution_count": 43,
   "id": "702f9d1d",
   "metadata": {},
   "outputs": [
    {
     "data": {
      "image/png": "[encoded data removed]",
      "text/plain": [
       "<Figure size 720x576 with 1 Axes>"
      ]
     },
     "metadata": {
      "needs_background": "light"
     },
     "output_type": "display_data"
    }
   ],
   "source": [
    "plt.figure(figsize=(10,8))\n",
    "plt.scatter(input_df, output_df)\n",
    "plt.plot(input_df, df['prediction'], color='r')\n",
    "plt.show()"
   ]
  }
 ],
 "metadata": {
  "kernelspec": {
   "display_name": "Python 3",
   "language": "python",
   "name": "python3"
  },
  "language_info": {
   "codemirror_mode": {
    "name": "ipython",
    "version": 3
   },
   "file_extension": ".py",
   "mimetype": "text/x-python",
   "name": "python",
   "nbconvert_exporter": "python",
   "pygments_lexer": "ipython3",
   "version": "3.8.8"
  }
 },
 "nbformat": 4,
 "nbformat_minor": 5
}
