{
 "cells": [
  {
   "cell_type": "raw",
   "id": "0bbd5c3c",
   "metadata": {},
   "source": [
    "Date - 18/11/2021  11:00 AM to 01:00 PM"
   ]
  },
  {
   "cell_type": "markdown",
   "id": "a556d2df",
   "metadata": {},
   "source": [
    "# Introduction To TensorFlow\n",
    "\n",
    "Tensorflow is an open source library developed by Google, it is primarily used for deep learning applications. It also supports traditional machine learning models as well.\n",
    "\n",
    "It was originally developed for large numerical computation without keeping deep learning in mind.\n",
    "\n",
    "Tensorflow accepts data in the form of multi-dimensional array of higher dimensions called **Tensors**.\n",
    "\n",
    "Multi-dimensional arrays are very useful in handling large amount of data."
   ]
  },
  {
   "cell_type": "code",
   "execution_count": null,
   "id": "2b5ea21c",
   "metadata": {},
   "outputs": [],
   "source": []
  },
  {
   "cell_type": "code",
   "execution_count": null,
   "id": "d81c0474",
   "metadata": {},
   "outputs": [],
   "source": []
  },
  {
   "cell_type": "code",
   "execution_count": null,
   "id": "7b48b182",
   "metadata": {},
   "outputs": [],
   "source": []
  },
  {
   "cell_type": "markdown",
   "id": "d348c355",
   "metadata": {},
   "source": [
    "## Activation Functions"
   ]
  },
  {
   "cell_type": "markdown",
   "id": "badf1ac9",
   "metadata": {},
   "source": [
    "### Sigmoid Function:\n",
    "\n",
    "    - Sigmoid Function used for binary classification in logistic regression model.\n",
    "    - The probabilities sum need not be 1.\n",
    "    - Used as activation function while building neural networks.\n",
    "    - The high value will have the high probability but not the higher probability.\n",
    "    \n",
    "**Formula:**\n",
    "\n",
    "$S(x)= \\frac {1}{1+e^{-x}}$\n",
    "\n",
    "$Where,$\n",
    "\n",
    "$S(x)$\t= Sigmoid function\n",
    "\n",
    "$e$\t= Euler's number"
   ]
  },
  {
   "cell_type": "markdown",
   "id": "99d50367",
   "metadata": {},
   "source": [
    "### Rectified Linear Unit (RELU):\n",
    "\n",
    "    - The rectified linear unit or RELU is a placewise linear function that will output the input directly if it is\n",
    "      positive ortherwise it will output zero.\n",
    "\n",
    "    - It has become the default activation function for many type of neural network because a model that uses it is easier\n",
    "      to train and often achieve better performance.\n",
    "\n",
    "**Formula:**\n",
    "\n",
    "$f(x) = max(0,x)$\n",
    "\n",
    "The function returns 0 if it recieves any negetive number(input) but for any positive value x it will return that value."
   ]
  },
  {
   "cell_type": "code",
   "execution_count": 1,
   "id": "5cf60927",
   "metadata": {},
   "outputs": [],
   "source": [
    "def RELU(x):\n",
    "    if x > 0:\n",
    "        return x\n",
    "    else:\n",
    "        return 0"
   ]
  },
  {
   "cell_type": "code",
   "execution_count": 2,
   "id": "fd608b4e",
   "metadata": {},
   "outputs": [],
   "source": [
    "from matplotlib import pyplot as plt"
   ]
  },
  {
   "cell_type": "code",
   "execution_count": 6,
   "id": "ac64d1e7",
   "metadata": {},
   "outputs": [
    {
     "name": "stdout",
     "output_type": "stream",
     "text": [
      "[-19, -18, -17, -16, -15, -14, -13, -12, -11, -10, -9, -8, -7, -6, -5, -4, -3, -2, -1, 0, 1, 2, 3, 4, 5, 6, 7, 8, 9, 10, 11, 12, 13, 14, 15, 16, 17, 18]\n",
      "[0, 0, 0, 0, 0, 0, 0, 0, 0, 0, 0, 0, 0, 0, 0, 0, 0, 0, 0, 0, 1, 2, 3, 4, 5, 6, 7, 8, 9, 10, 11, 12, 13, 14, 15, 16, 17, 18]\n"
     ]
    },
    {
     "data": {
      "image/png": "[encoded data removed]",
      "text/plain": [
       "<Figure size 720x360 with 1 Axes>"
      ]
     },
     "metadata": {
      "needs_background": "light"
     },
     "output_type": "display_data"
    }
   ],
   "source": [
    "plt.figure(figsize=(10,5))\n",
    "inp_series = [x for x in range(-19,19)]\n",
    "out_series = [RELU(x) for x in inp_series]\n",
    "print(inp_series)\n",
    "print(out_series)\n",
    "plt.plot(inp_series, out_series)\n",
    "plt.show()"
   ]
  },
  {
   "cell_type": "markdown",
   "id": "f1505473",
   "metadata": {},
   "source": [
    "### SoftMax Function:\n",
    "\n",
    "    - Softmax function used for multi-classification in logistic regression model.\n",
    "    - The probabilities sum will be 1.\n",
    "    - Used in the different layers of neural networks.\n",
    "    - The high value will have the higher probability than other values.\n",
    "\n",
    "**Formula:**\n",
    "\n",
    "$\\sigma(\\vec{z})_{i}=\\frac{e^{z_{i}}}{\\sum_{j=1}^{K} e^{z_{j}}}$\n",
    "\n",
    "$Where,$\n",
    "\n",
    "$\\sigma$ = Softmax,\n",
    "\n",
    "$\\vec{z}$ =\tInput vector,\n",
    "\n",
    "$e^{z_{i}}$\t= Standard exponential function for input vector,\n",
    "\n",
    "$K$ = Number of classes in the multi-class classifier,\n",
    "\n",
    "$e^{z_{j}}$\t= Standard exponential function for output vector"
   ]
  }
 ],
 "metadata": {
  "kernelspec": {
   "display_name": "Python 3",
   "language": "python",
   "name": "python3"
  },
  "language_info": {
   "codemirror_mode": {
    "name": "ipython",
    "version": 3
   },
   "file_extension": ".py",
   "mimetype": "text/x-python",
   "name": "python",
   "nbconvert_exporter": "python",
   "pygments_lexer": "ipython3",
   "version": "3.8.8"
  }
 },
 "nbformat": 4,
 "nbformat_minor": 5
}
