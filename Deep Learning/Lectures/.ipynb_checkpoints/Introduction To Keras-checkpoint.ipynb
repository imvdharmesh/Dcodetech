{
 "cells": [
  {
   "cell_type": "raw",
   "id": "afbea427",
   "metadata": {},
   "source": [
    "Date - 06/12/2021  11:00 AM to 01:00 PM"
   ]
  },
  {
   "cell_type": "markdown",
   "id": "69ca1b45",
   "metadata": {},
   "source": [
    "## Keras\n",
    "\n",
    "Keras is a high level library used for building complex neural network models. It is typically used in the domain of deep learning where complex problems are being solved. Because of its fast execution and ability to interact with low level libraries such as TensorFlow and Theano. It is widely used to solve complex deep learning problems."
   ]
  },
  {
   "cell_type": "markdown",
   "id": "9b1907a5",
   "metadata": {},
   "source": [
    "### Advantages\n",
    "\n",
    "    1) As compared to Theano, TensorFlow, Keras gives better user experience.\n",
    "    2) It is closely related to python, it is very much simple to use (syntactically).\n",
    "    3) Easily bundled with low level libraries.\n",
    "    \n",
    "### Disadvantages\n",
    "\n",
    "    1) Having dependency on low level libraries, because you cannot fully use all the features of keras in tensorflow or\n",
    "       keras.\n",
    "    2) Keras does not support GPU (apart from Nvidia).\n",
    "    3) Difficult to built custom operations."
   ]
  },
  {
   "cell_type": "markdown",
   "id": "5e708087",
   "metadata": {},
   "source": [
    "### Different Type of Layers in Keras\n",
    "\n",
    "    1) Dense Layer\n",
    "    2) Flattend Layer\n",
    "    3) Droupout Layer\n",
    "    4) Reshape layer\n",
    "    5) Premute Layer\n",
    "    6) Repeat Vector Layer\n",
    "    7) Lambda Layer\n",
    "    8) Pooling Layer\n",
    "    9) Locally Connected Layer"
   ]
  },
  {
   "cell_type": "markdown",
   "id": "54657588",
   "metadata": {},
   "source": [
    "### 1) Dense layer :\n",
    "\n",
    "It is widely used keras layer for creating deeply connected layer in the neural network where each of the neurons of the dense layer recieves the input from all neurons of the previous layer. As its core, it performs dot product of all input values along with the weight for obtaining the output.\n",
    "\n",
    "### 2) Flatten Layer :\n",
    "\n",
    "Flatten layer is used for flattenning the input: for eg.: if we have a input shape as (3,3) after applying the flatten layer the output shape is changed to 9.\n",
    "\n",
    "### 3) Dropout Layer :\n",
    "\n",
    "The dropout layer is one of the most important layer for reducing over-fitting in neural network models. Intutively, the main purpose of dropout layer is to remove the noise that may be present in the input of the neurons. This indirectly prevents overfitting of the model.\n",
    "\n",
    "**It typically has 3 arguments listed below:**\n",
    "\n",
    "**1) rate :** This argument tells the layer how much of the input data has to be dropped.The range of the value is from 0 to 1.\n",
    "\n",
    "**2) noise_shape :** This argument will specify the dimensions of the shape for applying the dropout layer.\n",
    "\n",
    "**3) seed :** The seed argument specifies in providing random values to the layers.\n",
    "\n",
    "### 4) Reshape layer :\n",
    "\n",
    "Reshape layer is used to change the shape of the input. for eg: if reshape with argument (2,3) is applied to the layer having their input shape (3,2) then the output shape of the layer will be (2,3)\n",
    "\n",
    "### 5) Premute layer :\n",
    "\n",
    "Premute is also used to change the shape of the input using pattern. for eg: If premute with an argument (2,1) is applied to layer having input shape as (3,2) then the output shape of the layer will be (2,3)\n",
    "\n",
    "### 6) Repeat Vector Layer :\n",
    "\n",
    "Repeat vector is used to repeat the input for set of number 'n' times. for eg: if repeat vector with argument 16 is applied to layer having input shape of (32) then the output will be (16,32)\n",
    "\n",
    "### 7) Lambda Layer :\n",
    "\n",
    "Lambda layer is used to transform the input data using an expression or function. For example if lambda with expression lambda x : x^2 is applied to a layer then it's input data will be squared before processing\n",
    "\n",
    "### 8) Pooling Layer :\n",
    "\n",
    "It is used to preform max pooling operation on temporal data. here max pooling technique is a operation that calculates the maximum value for a given set or shape of data\n",
    "\n",
    "### 9) Locally Connected Layer :\n",
    "\n",
    "Locally connected layer are similar to 1D- Neural Network, but the difference is in 1D-Neural Network the weights are shared, but in locally connected layer the weights are unshared."
   ]
  }
 ],
 "metadata": {
  "kernelspec": {
   "display_name": "Python 3",
   "language": "python",
   "name": "python3"
  },
  "language_info": {
   "codemirror_mode": {
    "name": "ipython",
    "version": 3
   },
   "file_extension": ".py",
   "mimetype": "text/x-python",
   "name": "python",
   "nbconvert_exporter": "python",
   "pygments_lexer": "ipython3",
   "version": "3.8.8"
  }
 },
 "nbformat": 4,
 "nbformat_minor": 5
}
