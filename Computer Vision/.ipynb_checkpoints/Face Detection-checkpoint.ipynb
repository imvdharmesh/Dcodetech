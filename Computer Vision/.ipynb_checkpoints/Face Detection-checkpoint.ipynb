{
 "cells": [
  {
   "cell_type": "markdown",
   "id": "934821e0",
   "metadata": {},
   "source": [
    "## Face Detection"
   ]
  },
  {
   "cell_type": "code",
   "execution_count": 1,
   "id": "e696cd3e",
   "metadata": {},
   "outputs": [],
   "source": [
    "import cv2"
   ]
  },
  {
   "cell_type": "code",
   "execution_count": 2,
   "id": "d40e0f38",
   "metadata": {},
   "outputs": [],
   "source": [
    "# face_data = cv2.CascadeClassifier(cv2.data.haarcascades+'files/haarcascade_frontalface_default.xml')\n",
    "# eyes_data = cv2.CascadeClassifier(cv2.data.haarcascades+'files/haarcascade_eye.xml')\n",
    "# smile_data = cv2.CascadeClassifier(cv2.data.haarcascades+'files/haarcascade_smile.xml')\n",
    "\n",
    "face_data = cv2.CascadeClassifier('files/haarcascade_frontalface_default.xml')\n",
    "eyes_data = cv2.CascadeClassifier('files/haarcascade_eye.xml')\n",
    "smile_data = cv2.CascadeClassifier('files/haarcascade_smile.xml')"
   ]
  },
  {
   "cell_type": "code",
   "execution_count": 10,
   "id": "6ce1a19e",
   "metadata": {},
   "outputs": [],
   "source": [
    "def detect_face(gray, frame):\n",
    "    faces = face_data.detectMultiScale(gray, 1.1,5)\n",
    "    for (x,y,w,h) in faces:\n",
    "        cv2.rectangle(frame, (x,y), ((x+w, y+h)), (255,0,0),2)\n",
    "        \n",
    "        roi_gray = gray[y:y+h, x:x+w]\n",
    "        roi_color = frame[y:y+h, x:x+w]\n",
    "        \n",
    "        smile_detect = smile_data.detectMultiScale(roi_gray, 1.3, 20)\n",
    "        for (sx, sy, sw, sh) in smile_detect:\n",
    "            cv2.rectangle(roi_color, (sx,sy), ((sx+sw), (sy+sh)), (0,0,255), 2)\n",
    "\n",
    "# by webcam\n",
    "# video_capture_data = cv2.VideoCapture(0)\n",
    "\n",
    "# by video\n",
    "video_capture_data = cv2.VideoCapture('dataset/video.mp4')\n",
    "\n",
    "while video_capture_data.isOpened():\n",
    "    res, frame = video_capture_data.read()\n",
    "    \n",
    "    gray = cv2.cvtColor(frame, cv2.COLOR_BGR2GRAY)\n",
    "    canvas = detect_face(gray, frame)\n",
    "    cv2.imshow('Video', frame)\n",
    "    \n",
    "    if cv2.waitKey(1) & 0xff == ord('q'):\n",
    "        break\n",
    "        \n",
    "video_capture_data.release()\n",
    "cv2.destroyAllWindows()"
   ]
  }
 ],
 "metadata": {
  "kernelspec": {
   "display_name": "Python 3",
   "language": "python",
   "name": "python3"
  },
  "language_info": {
   "codemirror_mode": {
    "name": "ipython",
    "version": 3
   },
   "file_extension": ".py",
   "mimetype": "text/x-python",
   "name": "python",
   "nbconvert_exporter": "python",
   "pygments_lexer": "ipython3",
   "version": "3.8.8"
  }
 },
 "nbformat": 4,
 "nbformat_minor": 5
}
