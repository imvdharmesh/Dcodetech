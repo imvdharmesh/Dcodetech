{
 "cells": [
  {
   "cell_type": "markdown",
   "id": "6f405ae1",
   "metadata": {},
   "source": [
    "<video src = 'dataset/video.mp4' type='video/mp4' height = 540 controls>\n",
    "</video>"
   ]
  },
  {
   "cell_type": "markdown",
   "id": "934821e0",
   "metadata": {},
   "source": [
    "## Face Detection"
   ]
  },
  {
   "cell_type": "code",
   "execution_count": 1,
   "id": "e696cd3e",
   "metadata": {},
   "outputs": [],
   "source": [
    "import cv2"
   ]
  },
  {
   "cell_type": "code",
   "execution_count": 2,
   "id": "d40e0f38",
   "metadata": {},
   "outputs": [],
   "source": [
    "# face_data = cv2.CascadeClassifier(cv2.data.haarcascades+'files/haarcascade_frontalface_default.xml')\n",
    "# eyes_data = cv2.CascadeClassifier(cv2.data.haarcascades+'files/haarcascade_eye.xml')\n",
    "# smile_data = cv2.CascadeClassifier(cv2.data.haarcascades+'files/haarcascade_smile.xml')\n",
    "\n",
    "face_data = cv2.CascadeClassifier('files/haarcascade_frontalface_default.xml')\n",
    "eyes_data = cv2.CascadeClassifier('files/haarcascade_eye.xml')\n",
    "smile_data = cv2.CascadeClassifier('files/haarcascade_smile.xml')"
   ]
  },
  {
   "cell_type": "code",
   "execution_count": 3,
   "id": "6ce1a19e",
   "metadata": {},
   "outputs": [],
   "source": [
    "def detect_face(gray, frame):\n",
    "    faces = face_data.detectMultiScale(gray, 1.1,5)\n",
    "    for (x,y,w,h) in faces:\n",
    "        cv2.rectangle(frame, (x,y), ((x+w, y+h)), (255,0,0),2)\n",
    "        \n",
    "        roi_gray = gray[y:y+h, x:x+w]\n",
    "        roi_color = frame[y:y+h, x:x+w]\n",
    "        \n",
    "        smile_detect = smile_data.detectMultiScale(roi_gray, 1.3, 20)\n",
    "        for (sx, sy, sw, sh) in smile_detect:\n",
    "            cv2.rectangle(roi_color, (sx,sy), ((sx+sw), (sy+sh)), (0,0,255), 2)\n",
    "\n",
    "# by webcam\n",
    "# video_capture_data = cv2.VideoCapture(0)\n",
    "\n",
    "# by video\n",
    "video_capture_data = cv2.VideoCapture('dataset/video.mp4')\n",
    "\n",
    "while video_capture_data.isOpened():\n",
    "    res, frame = video_capture_data.read()\n",
    "    \n",
    "    gray = cv2.cvtColor(frame, cv2.COLOR_BGR2GRAY)\n",
    "    canvas = detect_face(gray, frame)\n",
    "    cv2.imshow('Video', frame)\n",
    "    \n",
    "    if cv2.waitKey(1) & 0xff == ord('q'):\n",
    "        break\n",
    "        \n",
    "video_capture_data.release()\n",
    "cv2.destroyAllWindows()"
   ]
  },
  {
   "cell_type": "markdown",
   "id": "3a6852ea",
   "metadata": {},
   "source": [
    "## Face Capturing"
   ]
  },
  {
   "cell_type": "markdown",
   "id": "6a25edbb",
   "metadata": {},
   "source": [
    "<video src = 'dataset/smile.mp4' type = 'video/mp4' width = 950 height = 500 controls>\n",
    "</video>"
   ]
  },
  {
   "cell_type": "code",
   "execution_count": 5,
   "id": "4f193da6",
   "metadata": {},
   "outputs": [],
   "source": [
    "import cv2\n",
    "import os"
   ]
  },
  {
   "cell_type": "code",
   "execution_count": 9,
   "id": "f4793144",
   "metadata": {},
   "outputs": [],
   "source": [
    "face_file = 'files/haarcascade_frontalface_default.xml'\n",
    "\n",
    "data_dir = 'images/faces'\n",
    "current_dir = os.curdir\n",
    "path = os.path.join(current_dir, data_dir)\n",
    "\n",
    "if not os.path.isdir(path):\n",
    "    os.makedirs(path)\n",
    "    \n",
    "(width, height) = (150,120)\n",
    "\n",
    "face_cascade = cv2.CascadeClassifier(face_file)\n",
    "\n",
    "#web_cam =cv2.VideoCapture(0)\n",
    "local_video = cv2.VideoCapture('dataset/smile.mp4')\n",
    "\n",
    "count = 0\n",
    "\n",
    "while count < 50:\n",
    "    (res, frame) = local_video.read()\n",
    "    gray = cv2.cvtColor(frame, cv2.COLOR_BGR2GRAY)\n",
    "    faces = face_cascade.detectMultiScale(gray, 1.1, 5)\n",
    "    \n",
    "    for (x,y,w,h) in faces:\n",
    "        cv2.rectangle(frame, (x,y), (x+w,y+h), (255,0,0),2)\n",
    "        face = gray[y:y+h, x:x+w]\n",
    "        face_resize = cv2.resize(face, (width,height))\n",
    "        cv2.imwrite('% s/% s.png' %(path, count), face_resize)\n",
    "    count += 1\n",
    "    \n",
    "    cv2.imshow('Video', frame)\n",
    "    if cv2.waitKey(1) & 0xff == ord('q'):\n",
    "        break\n",
    "        \n",
    "local_video.release()\n",
    "cv2.destroyAllWindows()"
   ]
  }
 ],
 "metadata": {
  "kernelspec": {
   "display_name": "Python 3",
   "language": "python",
   "name": "python3"
  },
  "language_info": {
   "codemirror_mode": {
    "name": "ipython",
    "version": 3
   },
   "file_extension": ".py",
   "mimetype": "text/x-python",
   "name": "python",
   "nbconvert_exporter": "python",
   "pygments_lexer": "ipython3",
   "version": "3.8.8"
  }
 },
 "nbformat": 4,
 "nbformat_minor": 5
}
