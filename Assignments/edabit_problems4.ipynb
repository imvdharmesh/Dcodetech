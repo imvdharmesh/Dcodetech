{
 "cells": [
  {
   "cell_type": "markdown",
   "id": "30275636",
   "metadata": {},
   "source": [
    "# Dharmesh Vishwakarma"
   ]
  },
  {
   "cell_type": "markdown",
   "id": "1a6e821f",
   "metadata": {},
   "source": [
    "### Q.1 : Write a function that takes a string, breaks it up and returns it with vowels first, consonants second. For any character that's not a vowel (like special characters or spaces), treat them like consonants.\n",
    "\n",
    ">[Source](https://edabit.com/challenge/r8jXYt5dQ3puspQfJ)"
   ]
  },
  {
   "cell_type": "code",
   "execution_count": 1,
   "id": "58962c50",
   "metadata": {},
   "outputs": [],
   "source": [
    "def is_vowel(val):\n",
    "    if val in \"aeiou\":\n",
    "        return True\n",
    "    else:\n",
    "        return False\n",
    "\n",
    "def split(txt):\n",
    "    vowel = \"\"\n",
    "    const = \"\"\n",
    "    for data in txt:\n",
    "        if is_vowel(data):\n",
    "            vowel += data\n",
    "        else:\n",
    "            const += data\n",
    "    return vowel+const"
   ]
  },
  {
   "cell_type": "code",
   "execution_count": 2,
   "id": "c82fd71f",
   "metadata": {},
   "outputs": [
    {
     "data": {
      "text/plain": [
       "'aebcd'"
      ]
     },
     "execution_count": 2,
     "metadata": {},
     "output_type": "execute_result"
    }
   ],
   "source": [
    "split(\"abcde\")"
   ]
  },
  {
   "cell_type": "code",
   "execution_count": 3,
   "id": "946c0c99",
   "metadata": {},
   "outputs": [
    {
     "data": {
      "text/plain": [
       "'eoHll!'"
      ]
     },
     "execution_count": 3,
     "metadata": {},
     "output_type": "execute_result"
    }
   ],
   "source": [
    "split(\"Hello!\")"
   ]
  },
  {
   "cell_type": "code",
   "execution_count": 4,
   "id": "f6c4881e",
   "metadata": {},
   "outputs": [
    {
     "data": {
      "text/plain": [
       "\"aeieWht's th tm?\""
      ]
     },
     "execution_count": 4,
     "metadata": {},
     "output_type": "execute_result"
    }
   ],
   "source": [
    "split(\"What's the time?\")"
   ]
  },
  {
   "cell_type": "code",
   "execution_count": null,
   "id": "a7ccf511",
   "metadata": {},
   "outputs": [],
   "source": []
  },
  {
   "cell_type": "markdown",
   "id": "9209d562",
   "metadata": {},
   "source": [
    "### Q.2 : Luke Skywalker has family and friends. Help him remind them who is who. Given a string with a name, return the relation of that person to Luke.\n",
    ">[Source](https://edabit.com/challenge/8pDH2SRutPoaQghgc)"
   ]
  },
  {
   "cell_type": "code",
   "execution_count": 5,
   "id": "1efef545",
   "metadata": {},
   "outputs": [],
   "source": [
    "def relation_to_luke(name):\n",
    "    fam = {'father':'Darth Vader','sister':'Leia','brother in law':'Han','R2D2':'droid'}\n",
    "    for key,val in fam.items():\n",
    "        if val == name:\n",
    "            return \"Luke, I am your \"+key+\".\""
   ]
  },
  {
   "cell_type": "code",
   "execution_count": 6,
   "id": "80d81f24",
   "metadata": {},
   "outputs": [
    {
     "data": {
      "text/plain": [
       "'Luke, I am your father.'"
      ]
     },
     "execution_count": 6,
     "metadata": {},
     "output_type": "execute_result"
    }
   ],
   "source": [
    "relation_to_luke(\"Darth Vader\")"
   ]
  },
  {
   "cell_type": "code",
   "execution_count": 7,
   "id": "45ebaa78",
   "metadata": {},
   "outputs": [
    {
     "data": {
      "text/plain": [
       "'Luke, I am your sister.'"
      ]
     },
     "execution_count": 7,
     "metadata": {},
     "output_type": "execute_result"
    }
   ],
   "source": [
    "relation_to_luke(\"Leia\")"
   ]
  },
  {
   "cell_type": "code",
   "execution_count": 8,
   "id": "58714e45",
   "metadata": {},
   "outputs": [
    {
     "data": {
      "text/plain": [
       "'Luke, I am your brother in law.'"
      ]
     },
     "execution_count": 8,
     "metadata": {},
     "output_type": "execute_result"
    }
   ],
   "source": [
    "relation_to_luke(\"Han\")"
   ]
  },
  {
   "cell_type": "code",
   "execution_count": null,
   "id": "a35bc37d",
   "metadata": {},
   "outputs": [],
   "source": []
  },
  {
   "cell_type": "markdown",
   "id": "09f35d9d",
   "metadata": {},
   "source": [
    "### Q.3 : Create a method in the Person class which returns how another person's age compares. Given the objects p1, p2 and p3, which will be initialised with the attributes name and age, return a sentence in the following format:\n",
    "#### {other_person} is {older than / younger than / the same age as} me.\n",
    ">[Source](https://edabit.com/challenge/JFLADuABfkeoz8mqN)"
   ]
  },
  {
   "cell_type": "code",
   "execution_count": 9,
   "id": "61a665ec",
   "metadata": {},
   "outputs": [],
   "source": [
    "class Person:\n",
    "    def __init__(self, name, age):\n",
    "        self.name = name\n",
    "        self.age = age\n",
    "\n",
    "    def compare_age(self, other):\n",
    "        if other.age > self.age:\n",
    "            cmp_age = \"older than\"\n",
    "        elif other.age < self.age:\n",
    "            cmp_age = \"younger than\"\n",
    "        else:\n",
    "            cmp_age = \"the same age as\"\n",
    "        return \"{} is {} me.\".format(other.name, cmp_age)"
   ]
  },
  {
   "cell_type": "code",
   "execution_count": 10,
   "id": "dbec81af",
   "metadata": {},
   "outputs": [],
   "source": [
    "p1 = Person(\"Samuel\", 24)\n",
    "p2 = Person(\"Joel\", 36)\n",
    "p3 = Person(\"Lily\", 24)"
   ]
  },
  {
   "cell_type": "code",
   "execution_count": 11,
   "id": "bd443210",
   "metadata": {},
   "outputs": [
    {
     "data": {
      "text/plain": [
       "'Joel is older than me.'"
      ]
     },
     "execution_count": 11,
     "metadata": {},
     "output_type": "execute_result"
    }
   ],
   "source": [
    "p1.compare_age(p2)"
   ]
  },
  {
   "cell_type": "code",
   "execution_count": 12,
   "id": "d1159cc2",
   "metadata": {},
   "outputs": [
    {
     "data": {
      "text/plain": [
       "'Samuel is younger than me.'"
      ]
     },
     "execution_count": 12,
     "metadata": {},
     "output_type": "execute_result"
    }
   ],
   "source": [
    "p2.compare_age(p1)"
   ]
  },
  {
   "cell_type": "code",
   "execution_count": 13,
   "id": "708bc97d",
   "metadata": {},
   "outputs": [
    {
     "data": {
      "text/plain": [
       "'Lily is the same age as me.'"
      ]
     },
     "execution_count": 13,
     "metadata": {},
     "output_type": "execute_result"
    }
   ],
   "source": [
    "p1.compare_age(p3)"
   ]
  },
  {
   "cell_type": "code",
   "execution_count": null,
   "id": "4575b968",
   "metadata": {},
   "outputs": [],
   "source": []
  },
  {
   "cell_type": "markdown",
   "id": "340a08ae",
   "metadata": {},
   "source": [
    "### Q.4 : A list is special if every even index contains an even number and every odd index contains an odd number. Create a function that returns True if an array is special, and False otherwise.\n",
    ">[Source](https://edabit.com/challenge/BmZ6PGMJiLWMzgvos)"
   ]
  },
  {
   "cell_type": "code",
   "execution_count": 14,
   "id": "a5ca941d",
   "metadata": {},
   "outputs": [],
   "source": [
    "def is_special_array(lst):\n",
    "    even = all(i%2==0 for i in lst[0::2])\n",
    "    odd = all(j%2!=0 for j in lst[1::2])\n",
    "    if even and odd is True:\n",
    "        return True\n",
    "    else:\n",
    "        return False"
   ]
  },
  {
   "cell_type": "code",
   "execution_count": 15,
   "id": "84460aba",
   "metadata": {},
   "outputs": [
    {
     "data": {
      "text/plain": [
       "True"
      ]
     },
     "execution_count": 15,
     "metadata": {},
     "output_type": "execute_result"
    }
   ],
   "source": [
    "is_special_array([2, 7, 4, 9, 6, 1, 6, 3])"
   ]
  },
  {
   "cell_type": "code",
   "execution_count": 16,
   "id": "0761840a",
   "metadata": {},
   "outputs": [
    {
     "data": {
      "text/plain": [
       "False"
      ]
     },
     "execution_count": 16,
     "metadata": {},
     "output_type": "execute_result"
    }
   ],
   "source": [
    "is_special_array([2, 7, 9, 1, 6, 1, 6, 3])"
   ]
  },
  {
   "cell_type": "code",
   "execution_count": 17,
   "id": "65b0f405",
   "metadata": {},
   "outputs": [
    {
     "data": {
      "text/plain": [
       "False"
      ]
     },
     "execution_count": 17,
     "metadata": {},
     "output_type": "execute_result"
    }
   ],
   "source": [
    "is_special_array([2, 7, 8, 8, 6, 1, 6, 3])"
   ]
  },
  {
   "cell_type": "code",
   "execution_count": null,
   "id": "f99dd836",
   "metadata": {},
   "outputs": [],
   "source": []
  },
  {
   "cell_type": "markdown",
   "id": "53ddf092",
   "metadata": {},
   "source": [
    "### Q.5 : Create the function that takes a list of dictionaries and returns the sum of people's budgets.\n",
    ">[Source](https://edabit.com/challenge/ff2R7SymbB6PfjpPm)"
   ]
  },
  {
   "cell_type": "code",
   "execution_count": 18,
   "id": "69c74509",
   "metadata": {},
   "outputs": [],
   "source": [
    "def get_budgets(lst):\n",
    "    sum_of_budgets = 0\n",
    "    for data in lst:\n",
    "        sum_of_budgets += data['budget']\n",
    "    return sum_of_budgets"
   ]
  },
  {
   "cell_type": "code",
   "execution_count": 19,
   "id": "2dd96016",
   "metadata": {},
   "outputs": [
    {
     "data": {
      "text/plain": [
       "65700"
      ]
     },
     "execution_count": 19,
     "metadata": {},
     "output_type": "execute_result"
    }
   ],
   "source": [
    "get_budgets([\n",
    "  { \"name\": \"John\", \"age\": 21, \"budget\": 23000 },\n",
    "  { \"name\": \"Steve\",  \"age\": 32, \"budget\": 40000 },\n",
    "  { \"name\": \"Martin\",  \"age\": 16, \"budget\": 2700 }\n",
    "])"
   ]
  },
  {
   "cell_type": "code",
   "execution_count": 20,
   "id": "25c04a4e",
   "metadata": {},
   "outputs": [
    {
     "data": {
      "text/plain": [
       "62600"
      ]
     },
     "execution_count": 20,
     "metadata": {},
     "output_type": "execute_result"
    }
   ],
   "source": [
    "get_budgets([\n",
    "  { \"name\": \"John\",  \"age\": 21, \"budget\": 29000 },\n",
    "  { \"name\": \"Steve\",  \"age\": 32, \"budget\": 32000 },\n",
    "  { \"name\": \"Martin\",  \"age\": 16, \"budget\": 1600 }\n",
    "])"
   ]
  },
  {
   "cell_type": "code",
   "execution_count": null,
   "id": "9061d0f2",
   "metadata": {},
   "outputs": [],
   "source": []
  },
  {
   "cell_type": "markdown",
   "id": "2af7d12f",
   "metadata": {},
   "source": [
    "### Q.6 : Create a function that takes a list of numbers and return the number that's unique.\n",
    ">[Source](https://edabit.com/challenge/GaXXfmpM72yCHag9T)"
   ]
  },
  {
   "cell_type": "code",
   "execution_count": 21,
   "id": "cb9a73cf",
   "metadata": {},
   "outputs": [],
   "source": [
    "def unique(lst):\n",
    "    for i in lst:\n",
    "        if lst.count(i) == 1:\n",
    "            return i"
   ]
  },
  {
   "cell_type": "code",
   "execution_count": 22,
   "id": "ce661aa3",
   "metadata": {},
   "outputs": [
    {
     "data": {
      "text/plain": [
       "7"
      ]
     },
     "execution_count": 22,
     "metadata": {},
     "output_type": "execute_result"
    }
   ],
   "source": [
    "unique([3, 3, 3, 7, 3, 3])"
   ]
  },
  {
   "cell_type": "code",
   "execution_count": 23,
   "id": "4237ee29",
   "metadata": {},
   "outputs": [
    {
     "data": {
      "text/plain": [
       "0.77"
      ]
     },
     "execution_count": 23,
     "metadata": {},
     "output_type": "execute_result"
    }
   ],
   "source": [
    "unique([0, 0, 0.77, 0, 0])"
   ]
  },
  {
   "cell_type": "code",
   "execution_count": 24,
   "id": "29116cf6",
   "metadata": {},
   "outputs": [
    {
     "data": {
      "text/plain": [
       "0"
      ]
     },
     "execution_count": 24,
     "metadata": {},
     "output_type": "execute_result"
    }
   ],
   "source": [
    "unique([0, 1, 1, 1, 1, 1, 1, 1])"
   ]
  },
  {
   "cell_type": "code",
   "execution_count": null,
   "id": "1c968d35",
   "metadata": {},
   "outputs": [],
   "source": []
  },
  {
   "cell_type": "markdown",
   "id": "8794f51e",
   "metadata": {},
   "source": [
    "### Q.7 : Create a function that applies a discount d to every number in the list.\n",
    ">[Source](https://edabit.com/challenge/YGhrwfg6k6zHnmeDh)"
   ]
  },
  {
   "cell_type": "code",
   "execution_count": 25,
   "id": "612c30f7",
   "metadata": {},
   "outputs": [],
   "source": [
    "def get_discounts(nums, d):\n",
    "    ans = []\n",
    "    for num in nums:\n",
    "        dis = num*int(d[:-1])/100\n",
    "        ans.append(dis)\n",
    "    return ans"
   ]
  },
  {
   "cell_type": "code",
   "execution_count": 26,
   "id": "47d449c3",
   "metadata": {},
   "outputs": [
    {
     "data": {
      "text/plain": [
       "[1.0, 2.0, 3.0, 5.5]"
      ]
     },
     "execution_count": 26,
     "metadata": {},
     "output_type": "execute_result"
    }
   ],
   "source": [
    "get_discounts([2, 4, 6, 11], \"50%\")"
   ]
  },
  {
   "cell_type": "code",
   "execution_count": 27,
   "id": "815823cb",
   "metadata": {},
   "outputs": [
    {
     "data": {
      "text/plain": [
       "[7.5, 15.0, 30.0, 60.0]"
      ]
     },
     "execution_count": 27,
     "metadata": {},
     "output_type": "execute_result"
    }
   ],
   "source": [
    "get_discounts([10, 20, 40, 80], \"75%\")"
   ]
  },
  {
   "cell_type": "code",
   "execution_count": 28,
   "id": "5dfd980b",
   "metadata": {},
   "outputs": [
    {
     "data": {
      "text/plain": [
       "[45.0]"
      ]
     },
     "execution_count": 28,
     "metadata": {},
     "output_type": "execute_result"
    }
   ],
   "source": [
    "get_discounts([100], \"45%\")"
   ]
  },
  {
   "cell_type": "code",
   "execution_count": null,
   "id": "bf7b173d",
   "metadata": {},
   "outputs": [],
   "source": []
  },
  {
   "cell_type": "markdown",
   "id": "bc966eb3",
   "metadata": {},
   "source": [
    "### Q.8 : Given a list, create a function that returns a dictionary detailing how many times each element was repeated.\n",
    ">[Source](https://edabit.com/challenge/gDtHS9cAy8Fs2X7pH)"
   ]
  },
  {
   "cell_type": "code",
   "execution_count": 29,
   "id": "e66f309d",
   "metadata": {},
   "outputs": [],
   "source": [
    "def count_repetitions(lst):\n",
    "    temp = {}\n",
    "    for data in lst:\n",
    "        if data not in temp.keys():\n",
    "            temp[data] = lst.count(data)\n",
    "    ans = {k: v for k, v in sorted(temp.items(), key=lambda item: item[1], reverse = True)}\n",
    "    return ans"
   ]
  },
  {
   "cell_type": "code",
   "execution_count": 30,
   "id": "42952dde",
   "metadata": {},
   "outputs": [
    {
     "data": {
      "text/plain": [
       "{'cow': 3, 'cat': 2, 'dog': 1}"
      ]
     },
     "execution_count": 30,
     "metadata": {},
     "output_type": "execute_result"
    }
   ],
   "source": [
    "count_repetitions([\"cat\", \"dog\", \"cat\", \"cow\", \"cow\", \"cow\"])"
   ]
  },
  {
   "cell_type": "code",
   "execution_count": 31,
   "id": "0b6359eb",
   "metadata": {},
   "outputs": [
    {
     "data": {
      "text/plain": [
       "{0: 6, 5: 3, 12: 2, 1: 1}"
      ]
     },
     "execution_count": 31,
     "metadata": {},
     "output_type": "execute_result"
    }
   ],
   "source": [
    "count_repetitions([1, 5, 5, 5, 12, 12, 0, 0, 0, 0, 0, 0])"
   ]
  },
  {
   "cell_type": "code",
   "execution_count": 32,
   "id": "dac910f5",
   "metadata": {},
   "outputs": [
    {
     "data": {
      "text/plain": [
       "{'null': 3, 'Infinity': 2}"
      ]
     },
     "execution_count": 32,
     "metadata": {},
     "output_type": "execute_result"
    }
   ],
   "source": [
    "count_repetitions([\"Infinity\", \"null\", \"Infinity\", \"null\", \"null\"])"
   ]
  },
  {
   "cell_type": "code",
   "execution_count": null,
   "id": "35f84d6a",
   "metadata": {},
   "outputs": [],
   "source": []
  },
  {
   "cell_type": "markdown",
   "id": "56fb6365",
   "metadata": {},
   "source": [
    "### Q.9 : Write a function that takes a list of hours and returns the total weekly salary.\n",
    "\n",
    "* The input list hours is listed sequentially, ordered from Monday to Sunday.\n",
    "* A worker earns `$10` an hour for the first 8 hours.\n",
    "* For every overtime hour, he earns `$15`.\n",
    "* On weekends, the employer pays double the usual rate, regardless how many hours were worked previously that week. For instance, 10 hours worked on a weekday would pay `80+30 = $110`, but on a weekend it would pay `160+60 = $220`.\n",
    ">[Source](https://edabit.com/challenge/5uMJmbN2uihcyEu75)"
   ]
  },
  {
   "cell_type": "code",
   "execution_count": 33,
   "id": "6d0bb2c2",
   "metadata": {},
   "outputs": [],
   "source": [
    "def weekly_salary(hours):\n",
    "    total_sal = 0\n",
    "    for i in range(0,len(hours)):\n",
    "        if i == 5 or i == 6:\n",
    "            if hours[i] <= 8:\n",
    "                total_sal += (hours[i]*10*2)\n",
    "            else:\n",
    "                total_sal += (8*10*2+(hours[i]-8)*15*2)\n",
    "        else:\n",
    "            if hours[i] <= 8:\n",
    "                total_sal += (hours[i]*10)\n",
    "            else:\n",
    "                total_sal += (8*10+(hours[i]-8)*15)\n",
    "    return total_sal"
   ]
  },
  {
   "cell_type": "code",
   "execution_count": 34,
   "id": "53ae618a",
   "metadata": {},
   "outputs": [
    {
     "data": {
      "text/plain": [
       "400"
      ]
     },
     "execution_count": 34,
     "metadata": {},
     "output_type": "execute_result"
    }
   ],
   "source": [
    "weekly_salary([8, 8, 8, 8, 8, 0, 0])"
   ]
  },
  {
   "cell_type": "code",
   "execution_count": 35,
   "id": "4283036f",
   "metadata": {},
   "outputs": [
    {
     "data": {
      "text/plain": [
       "410"
      ]
     },
     "execution_count": 35,
     "metadata": {},
     "output_type": "execute_result"
    }
   ],
   "source": [
    "weekly_salary([10, 10, 10, 0, 8, 0, 0])"
   ]
  },
  {
   "cell_type": "code",
   "execution_count": 36,
   "id": "ca2bd83f",
   "metadata": {},
   "outputs": [
    {
     "data": {
      "text/plain": [
       "280"
      ]
     },
     "execution_count": 36,
     "metadata": {},
     "output_type": "execute_result"
    }
   ],
   "source": [
    "weekly_salary([0, 0, 0, 0, 0, 12, 0])"
   ]
  },
  {
   "cell_type": "code",
   "execution_count": null,
   "id": "4c610a9d",
   "metadata": {},
   "outputs": [],
   "source": []
  },
  {
   "cell_type": "markdown",
   "id": "3ce0afa1",
   "metadata": {},
   "source": [
    "### Q.10 : Create a function that takes number of units consumed by the customer and returns calculated Electricity Bill as per following conditions:\n",
    "\n",
    "* First 100 Units will be charged at `$1/unit`.\n",
    "* Next 100 Units will be charged at `$2/unit`.\n",
    "* Next 100 Units will be charged at `$3/unit`.\n",
    "* Next 200 Units will be charged at `$4/unit`.\n",
    "* Next Units will be charged at `$5/unit`.\n",
    "* `10%` tax to be added in final amount.\n",
    "* Extra `$15` to be added for Meter Charge.\n",
    ">[Source](https://edabit.com/challenge/3JyZjPzJKrPYBjP6a)"
   ]
  },
  {
   "cell_type": "code",
   "execution_count": 37,
   "id": "10fc415f",
   "metadata": {},
   "outputs": [],
   "source": [
    "def electricity_bill(units):\n",
    "    ut1 = units // 100\n",
    "    ut2 = units % 100\n",
    "    if units > 0:\n",
    "        if units < 100:\n",
    "            res = ut2\n",
    "        elif units >= 100 and units < 200:\n",
    "            res = ut1*100 + ut2*2\n",
    "        elif units >= 200 and units < 300:\n",
    "            res = 100 + ut1*100 + ut2*3\n",
    "        elif units >= 300  and units < 500:\n",
    "            res = 300 + ut1*100 + ut2*4\n",
    "        else:\n",
    "            res = 300 + ut1*100 + ut2*5\n",
    "        return res + res*10/100 + 15"
   ]
  },
  {
   "cell_type": "code",
   "execution_count": 38,
   "id": "3c50fc9c",
   "metadata": {},
   "outputs": [
    {
     "data": {
      "text/plain": [
       "125.0"
      ]
     },
     "execution_count": 38,
     "metadata": {},
     "output_type": "execute_result"
    }
   ],
   "source": [
    "electricity_bill(100)"
   ]
  },
  {
   "cell_type": "code",
   "execution_count": 39,
   "id": "a3ceca51",
   "metadata": {},
   "outputs": [
    {
     "data": {
      "text/plain": [
       "427.5"
      ]
     },
     "execution_count": 39,
     "metadata": {},
     "output_type": "execute_result"
    }
   ],
   "source": [
    "electricity_bill(225)"
   ]
  },
  {
   "cell_type": "code",
   "execution_count": 40,
   "id": "3475a6c4",
   "metadata": {},
   "outputs": [
    {
     "data": {
      "text/plain": [
       "675.0"
      ]
     },
     "execution_count": 40,
     "metadata": {},
     "output_type": "execute_result"
    }
   ],
   "source": [
    "electricity_bill(300)"
   ]
  },
  {
   "cell_type": "code",
   "execution_count": null,
   "id": "b7171ea1",
   "metadata": {},
   "outputs": [],
   "source": []
  }
 ],
 "metadata": {
  "kernelspec": {
   "display_name": "Python 3",
   "language": "python",
   "name": "python3"
  },
  "language_info": {
   "codemirror_mode": {
    "name": "ipython",
    "version": 3
   },
   "file_extension": ".py",
   "mimetype": "text/x-python",
   "name": "python",
   "nbconvert_exporter": "python",
   "pygments_lexer": "ipython3",
   "version": "3.8.8"
  }
 },
 "nbformat": 4,
 "nbformat_minor": 5
}
