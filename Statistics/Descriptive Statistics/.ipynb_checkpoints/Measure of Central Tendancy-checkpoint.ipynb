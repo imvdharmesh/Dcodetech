{
 "cells": [
  {
   "cell_type": "raw",
   "id": "1ce84d6e",
   "metadata": {},
   "source": [
    "Date - 06/06/2021  09:15 AM to 11:30 AM"
   ]
  },
  {
   "cell_type": "markdown",
   "id": "da8517de",
   "metadata": {},
   "source": [
    "# Measure Of Central Tendancy"
   ]
  },
  {
   "cell_type": "raw",
   "id": "c7766734",
   "metadata": {},
   "source": [
    "Measure of central tendancy is also known as summary statistics that is used to represent the central point of a particular value of data set or a sample set.\n",
    "\n",
    "In statistics, there are 3 common measure of central tendancy :\n",
    "- Mean\n",
    "- Median\n",
    "- Mode"
   ]
  },
  {
   "cell_type": "markdown",
   "id": "51f40056",
   "metadata": {},
   "source": [
    "## Mean:"
   ]
  },
  {
   "cell_type": "raw",
   "id": "fe8bfdff",
   "metadata": {},
   "source": [
    "Mean is also known as average.\n",
    "\n",
    "Formula : Sum of all the terms / Total number of terms"
   ]
  },
  {
   "cell_type": "markdown",
   "id": "0c36e3b9",
   "metadata": {},
   "source": [
    "### Example:"
   ]
  },
  {
   "cell_type": "code",
   "execution_count": 1,
   "id": "7539d2f1",
   "metadata": {},
   "outputs": [
    {
     "name": "stdout",
     "output_type": "stream",
     "text": [
      "[21.3, 20.8, 18, 15]\n"
     ]
    }
   ],
   "source": [
    "data = [21.3, 20.8, 18, 15]\n",
    "print(data)"
   ]
  },
  {
   "cell_type": "code",
   "execution_count": 2,
   "id": "e6d10ce5",
   "metadata": {},
   "outputs": [
    {
     "data": {
      "text/plain": [
       "75.1"
      ]
     },
     "execution_count": 2,
     "metadata": {},
     "output_type": "execute_result"
    }
   ],
   "source": [
    "# sum of all the terms\n",
    "\n",
    "sum_of_terms = 0\n",
    "for number in data:\n",
    "    sum_of_terms += number\n",
    "sum_of_terms"
   ]
  },
  {
   "cell_type": "code",
   "execution_count": 3,
   "id": "abdd6dda",
   "metadata": {},
   "outputs": [
    {
     "data": {
      "text/plain": [
       "4"
      ]
     },
     "execution_count": 3,
     "metadata": {},
     "output_type": "execute_result"
    }
   ],
   "source": [
    "# total number of terms\n",
    "\n",
    "total_terms = len(data)\n",
    "total_terms"
   ]
  },
  {
   "cell_type": "code",
   "execution_count": 4,
   "id": "73c162c2",
   "metadata": {},
   "outputs": [
    {
     "data": {
      "text/plain": [
       "18.775"
      ]
     },
     "execution_count": 4,
     "metadata": {},
     "output_type": "execute_result"
    }
   ],
   "source": [
    "# find the mean\n",
    "\n",
    "mean = sum_of_terms / total_terms\n",
    "mean"
   ]
  },
  {
   "cell_type": "code",
   "execution_count": 3,
   "id": "d76957b1",
   "metadata": {},
   "outputs": [],
   "source": [
    "def mean(data):\n",
    "    total_terms = len(data)\n",
    "    sum_of_terms = sum(data)\n",
    "    res = sum_of_terms / total_terms\n",
    "    return res"
   ]
  },
  {
   "cell_type": "code",
   "execution_count": 4,
   "id": "53f0c961",
   "metadata": {},
   "outputs": [
    {
     "data": {
      "text/plain": [
       "18.775"
      ]
     },
     "execution_count": 4,
     "metadata": {},
     "output_type": "execute_result"
    }
   ],
   "source": [
    "data = [21.3, 20.8, 18, 15]\n",
    "mean(data)"
   ]
  },
  {
   "cell_type": "markdown",
   "id": "e0f94b86",
   "metadata": {},
   "source": [
    "## Median:"
   ]
  },
  {
   "cell_type": "raw",
   "id": "fc6cfdb0",
   "metadata": {},
   "source": [
    "Median is the mid point of the sample data.\n",
    "\n",
    "Step 1. arrange the samples into lowest to highest order\n",
    "Step 2. Check sample data is even or odd.\n",
    "\n",
    "=> In case of even number of sample data:\n",
    "\n",
    "Step 3. Find the mid value & mid+1 th value.\n",
    "Step 4. Sum of these values and devide by 2.\n",
    "\n",
    "Formula: [(n/2)th + (n/2+1)th ]/2\n",
    "\n",
    "=> In case of odd number of sample data:\n",
    "\n",
    "Step 3. Find the mid value\n",
    "\n",
    "Formula: (n/2)th value"
   ]
  },
  {
   "cell_type": "markdown",
   "id": "f9102ebe",
   "metadata": {},
   "source": [
    "### Example: 1"
   ]
  },
  {
   "cell_type": "code",
   "execution_count": 5,
   "id": "b337d4f3",
   "metadata": {},
   "outputs": [],
   "source": [
    "data = [15, 18, 20.8, 21.3]"
   ]
  },
  {
   "cell_type": "code",
   "execution_count": 6,
   "id": "02124f6a",
   "metadata": {},
   "outputs": [
    {
     "data": {
      "text/plain": [
       "[15, 18, 20.8, 21.3]"
      ]
     },
     "execution_count": 6,
     "metadata": {},
     "output_type": "execute_result"
    }
   ],
   "source": [
    "# arrange the sample data\n",
    "data.sort()\n",
    "data"
   ]
  },
  {
   "cell_type": "code",
   "execution_count": 7,
   "id": "a337102f",
   "metadata": {},
   "outputs": [
    {
     "name": "stdout",
     "output_type": "stream",
     "text": [
      "4 is even.\n"
     ]
    }
   ],
   "source": [
    "# check size of data is odd or even\n",
    "size = len(data)\n",
    "if size%2 ==0:\n",
    "    print(size,\"is even.\")\n",
    "else:\n",
    "    print(size,\"is odd.\")"
   ]
  },
  {
   "cell_type": "code",
   "execution_count": 8,
   "id": "1361d388",
   "metadata": {},
   "outputs": [],
   "source": [
    "# for even numbers\n",
    "\n",
    "mid = int(size/2)\n",
    "mid_1 = int(mid+1)"
   ]
  },
  {
   "cell_type": "code",
   "execution_count": 9,
   "id": "dde4e363",
   "metadata": {},
   "outputs": [
    {
     "data": {
      "text/plain": [
       "(18, 20.8)"
      ]
     },
     "execution_count": 9,
     "metadata": {},
     "output_type": "execute_result"
    }
   ],
   "source": [
    "#find the values\n",
    "mid_value = data[mid-1]\n",
    "mid_1_value = data[mid_1-1]\n",
    "\n",
    "mid_value, mid_1_value"
   ]
  },
  {
   "cell_type": "code",
   "execution_count": 10,
   "id": "4f0d9325",
   "metadata": {},
   "outputs": [
    {
     "data": {
      "text/plain": [
       "38.8"
      ]
     },
     "execution_count": 10,
     "metadata": {},
     "output_type": "execute_result"
    }
   ],
   "source": [
    "# sum of these values\n",
    "\n",
    "sum_val = mid_value + mid_1_value\n",
    "sum_val"
   ]
  },
  {
   "cell_type": "code",
   "execution_count": 11,
   "id": "493b1fd5",
   "metadata": {},
   "outputs": [
    {
     "data": {
      "text/plain": [
       "19.4"
      ]
     },
     "execution_count": 11,
     "metadata": {},
     "output_type": "execute_result"
    }
   ],
   "source": [
    "# devide by 2\n",
    "\n",
    "median = sum_val/2\n",
    "median"
   ]
  },
  {
   "cell_type": "markdown",
   "id": "5aab99ee",
   "metadata": {},
   "source": [
    "### Example: 2"
   ]
  },
  {
   "cell_type": "code",
   "execution_count": 12,
   "id": "030f1fb9",
   "metadata": {},
   "outputs": [],
   "source": [
    "data = [15, 18, 20.8, 21.3, 19.5]"
   ]
  },
  {
   "cell_type": "code",
   "execution_count": 13,
   "id": "50cf6a97",
   "metadata": {},
   "outputs": [
    {
     "data": {
      "text/plain": [
       "[15, 18, 19.5, 20.8, 21.3]"
      ]
     },
     "execution_count": 13,
     "metadata": {},
     "output_type": "execute_result"
    }
   ],
   "source": [
    "#arrange the values\n",
    "data.sort()\n",
    "data"
   ]
  },
  {
   "cell_type": "code",
   "execution_count": 14,
   "id": "4dca4881",
   "metadata": {},
   "outputs": [
    {
     "name": "stdout",
     "output_type": "stream",
     "text": [
      "5 is odd\n"
     ]
    }
   ],
   "source": [
    "# check the size\n",
    "\n",
    "size = len(data)\n",
    "if size%2 ==0:\n",
    "    print(size,'is even')\n",
    "else:\n",
    "    print(size,'is odd')"
   ]
  },
  {
   "cell_type": "code",
   "execution_count": 15,
   "id": "f97700b9",
   "metadata": {},
   "outputs": [],
   "source": [
    "# odd number of size\n",
    "\n",
    "mid = int(size/2)"
   ]
  },
  {
   "cell_type": "code",
   "execution_count": 16,
   "id": "a41650e9",
   "metadata": {},
   "outputs": [
    {
     "data": {
      "text/plain": [
       "19.5"
      ]
     },
     "execution_count": 16,
     "metadata": {},
     "output_type": "execute_result"
    }
   ],
   "source": [
    "median = data[(mid+1)-1]\n",
    "median"
   ]
  },
  {
   "cell_type": "code",
   "execution_count": 5,
   "id": "08baac33",
   "metadata": {},
   "outputs": [],
   "source": [
    "def median(data):\n",
    "    data.sort()\n",
    "    size = len(data)\n",
    "    if size%2 ==0:\n",
    "        mid = int(size/2)\n",
    "        mid_1 = int(mid+1)\n",
    "        mid_value = data[mid-1]\n",
    "        mid_1_value = data[mid_1-1]\n",
    "        sum_val = mid_value + mid_1_value\n",
    "        res = sum_val/2  \n",
    "    else:\n",
    "        mid = int(size/2)\n",
    "        res = data[(mid+1)-1]\n",
    "    return res"
   ]
  },
  {
   "cell_type": "code",
   "execution_count": 6,
   "id": "9adc5267",
   "metadata": {},
   "outputs": [
    {
     "data": {
      "text/plain": [
       "19.4"
      ]
     },
     "execution_count": 6,
     "metadata": {},
     "output_type": "execute_result"
    }
   ],
   "source": [
    "data = [15, 18, 20.8, 21.3]\n",
    "median(data)"
   ]
  },
  {
   "cell_type": "code",
   "execution_count": 7,
   "id": "b92aec60",
   "metadata": {},
   "outputs": [
    {
     "data": {
      "text/plain": [
       "19.8"
      ]
     },
     "execution_count": 7,
     "metadata": {},
     "output_type": "execute_result"
    }
   ],
   "source": [
    "data = [15, 18, 20.8, 21.3, 19.8]\n",
    "median(data)"
   ]
  },
  {
   "cell_type": "markdown",
   "id": "56a393be",
   "metadata": {},
   "source": [
    "## Mode"
   ]
  },
  {
   "cell_type": "raw",
   "id": "55680eb5",
   "metadata": {},
   "source": [
    "Mode is the most repeatative value of the dataset.\n",
    "\n",
    "Step 1. Arrange the dataset lowest to highest order.\n",
    "Step 2. Count the most repeatative value."
   ]
  },
  {
   "cell_type": "markdown",
   "id": "73c43722",
   "metadata": {},
   "source": [
    "### Example"
   ]
  },
  {
   "cell_type": "code",
   "execution_count": 22,
   "id": "de2bb806",
   "metadata": {},
   "outputs": [],
   "source": [
    "sample = [10, 2, 3, 4, 2, 6, 4, 2, 7, 7, 2]"
   ]
  },
  {
   "cell_type": "code",
   "execution_count": 23,
   "id": "28225897",
   "metadata": {},
   "outputs": [
    {
     "data": {
      "text/plain": [
       "[2, 2, 2, 2, 3, 4, 4, 6, 7, 7, 10]"
      ]
     },
     "execution_count": 23,
     "metadata": {},
     "output_type": "execute_result"
    }
   ],
   "source": [
    "# arrange the values\n",
    "sample.sort()\n",
    "sample"
   ]
  },
  {
   "cell_type": "code",
   "execution_count": 36,
   "id": "7689ec9d",
   "metadata": {},
   "outputs": [
    {
     "data": {
      "text/plain": [
       "{2: 5, 3: 1, 4: 1, 1: 2, 7: 2}"
      ]
     },
     "execution_count": 36,
     "metadata": {},
     "output_type": "execute_result"
    }
   ],
   "source": [
    "# count the most repeatative value\n",
    "\n",
    "sample_data = {}\n",
    "for data in sample:\n",
    "    if data not in sample_data.keys():\n",
    "        sample_data[data] = sample.count(data)\n",
    "sample_data"
   ]
  },
  {
   "cell_type": "code",
   "execution_count": 37,
   "id": "9eec9ef2",
   "metadata": {},
   "outputs": [
    {
     "data": {
      "text/plain": [
       "2"
      ]
     },
     "execution_count": 37,
     "metadata": {},
     "output_type": "execute_result"
    }
   ],
   "source": [
    "# find the most repeatative value\n",
    "\n",
    "mode = max(sample_data, key = sample_data.get)\n",
    "mode"
   ]
  },
  {
   "cell_type": "code",
   "execution_count": 8,
   "id": "78cc0557",
   "metadata": {},
   "outputs": [],
   "source": [
    "def mode(data):\n",
    "    data.sort()\n",
    "    sample_data = {}\n",
    "    for val in data:\n",
    "        if val not in sample_data.keys():\n",
    "            sample_data[val] = sample.count(val)\n",
    "    ans = max(sample_data, key = sample_data.get)\n",
    "    return ans"
   ]
  },
  {
   "cell_type": "code",
   "execution_count": 9,
   "id": "a30c58b3",
   "metadata": {},
   "outputs": [
    {
     "data": {
      "text/plain": [
       "2"
      ]
     },
     "execution_count": 9,
     "metadata": {},
     "output_type": "execute_result"
    }
   ],
   "source": [
    "sample = [10, 2, 3, 4, 2, 6, 4, 2, 7, 7, 2]\n",
    "mode(sample)"
   ]
  },
  {
   "cell_type": "code",
   "execution_count": null,
   "id": "5d3e5c63",
   "metadata": {},
   "outputs": [],
   "source": []
  }
 ],
 "metadata": {
  "kernelspec": {
   "display_name": "Python 3",
   "language": "python",
   "name": "python3"
  },
  "language_info": {
   "codemirror_mode": {
    "name": "ipython",
    "version": 3
   },
   "file_extension": ".py",
   "mimetype": "text/x-python",
   "name": "python",
   "nbconvert_exporter": "python",
   "pygments_lexer": "ipython3",
   "version": "3.8.8"
  }
 },
 "nbformat": 4,
 "nbformat_minor": 5
}
