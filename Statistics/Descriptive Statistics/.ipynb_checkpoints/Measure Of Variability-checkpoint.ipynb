{
 "cells": [
  {
   "cell_type": "raw",
   "id": "0b212d8f",
   "metadata": {},
   "source": [
    "Date - 12/06/2021  10:00 AM to 12:30 PM"
   ]
  },
  {
   "cell_type": "markdown",
   "id": "bbdb5315",
   "metadata": {},
   "source": [
    "# Measure Of Variability"
   ]
  },
  {
   "cell_type": "raw",
   "id": "657c624a",
   "metadata": {},
   "source": [
    "- It describes how far apart data points lie from each other and from a center of distribution.\n",
    "- Variability is also reffered as Spread or Scatter or Dispersion.\n",
    "\n",
    "In statistics, there are 3 common measure of measure of variability :\n",
    "- Range\n",
    "- IQR (Inter Quartile Range)\n",
    "- Standard Deviation"
   ]
  },
  {
   "cell_type": "markdown",
   "id": "4385261a",
   "metadata": {},
   "source": [
    "## Range:"
   ]
  },
  {
   "cell_type": "raw",
   "id": "45b1641e",
   "metadata": {},
   "source": [
    "- It shows the spread of the data from the lowest to highest value in distribution.\n",
    "- It is the easiest way of finding the measure of variability.\n",
    "\n",
    "Formula: Highest Value - Lowest Value"
   ]
  },
  {
   "cell_type": "markdown",
   "id": "099797ba",
   "metadata": {},
   "source": [
    "### Example:"
   ]
  },
  {
   "cell_type": "code",
   "execution_count": 3,
   "id": "196ad5cf",
   "metadata": {},
   "outputs": [],
   "source": [
    "data = [72, 110, 134, 190, 238, 287, 305, 324]"
   ]
  },
  {
   "cell_type": "code",
   "execution_count": 2,
   "id": "a0fb94b6",
   "metadata": {},
   "outputs": [
    {
     "data": {
      "text/plain": [
       "(324, 72)"
      ]
     },
     "execution_count": 2,
     "metadata": {},
     "output_type": "execute_result"
    }
   ],
   "source": [
    "# highest and lowest value\n",
    "\n",
    "highest_val = max(data)\n",
    "lowest_val = min(data)\n",
    "highest_val, lowest_val"
   ]
  },
  {
   "cell_type": "code",
   "execution_count": 3,
   "id": "cfcd8ccc",
   "metadata": {},
   "outputs": [
    {
     "data": {
      "text/plain": [
       "252"
      ]
     },
     "execution_count": 3,
     "metadata": {},
     "output_type": "execute_result"
    }
   ],
   "source": [
    "# range of the sample data\n",
    "\n",
    "range_of_data = highest_val - lowest_val\n",
    "range_of_data"
   ]
  },
  {
   "cell_type": "raw",
   "id": "77203811",
   "metadata": {},
   "source": [
    "It does not give any information about the distribution of value."
   ]
  },
  {
   "cell_type": "code",
   "execution_count": 1,
   "id": "4f49bd33",
   "metadata": {},
   "outputs": [],
   "source": [
    "def range_of_data(data):\n",
    "    highest_val = max(data)\n",
    "    lowest_val = min(data)\n",
    "    res = highest_val - lowest_val\n",
    "    return res"
   ]
  },
  {
   "cell_type": "code",
   "execution_count": 4,
   "id": "8c4739b4",
   "metadata": {},
   "outputs": [
    {
     "data": {
      "text/plain": [
       "252"
      ]
     },
     "execution_count": 4,
     "metadata": {},
     "output_type": "execute_result"
    }
   ],
   "source": [
    "data = [72, 110, 134, 190, 238, 287, 305, 324]\n",
    "range_of_data(data)"
   ]
  },
  {
   "cell_type": "markdown",
   "id": "f4ca9b1d",
   "metadata": {},
   "source": [
    "## IQR (Inter Quartile Range):"
   ]
  },
  {
   "cell_type": "raw",
   "id": "5f032b1d",
   "metadata": {},
   "source": [
    "It gives you the spread of the data from middle of your distribution.\n",
    "\n",
    "Q1 => Quartile 1 => 25 % of the value from data => median of 1st half\n",
    "Q2 => Quartile 2 => mid value (Median)\n",
    "Q3 => Quartile 3 => 75 % of the value from data => median of 2nd half\n",
    "Q4 => Quartile 4 => Highest value\n",
    "\n",
    "Step 1. Arrange the sample lowest to highest order\n",
    "Step 2. Find the median\n",
    "Step 3. Find the Q1 and Q3 value of the data\n",
    "Step 4. Subtract the Q1 from Q3\n",
    "\n",
    "Formula: IQR = Q3 - Q1"
   ]
  },
  {
   "cell_type": "markdown",
   "id": "b25349c4",
   "metadata": {},
   "source": [
    "### Example"
   ]
  },
  {
   "cell_type": "code",
   "execution_count": 17,
   "id": "d8493e0c",
   "metadata": {},
   "outputs": [],
   "source": [
    "data = [1, 3, 3, 3, 4, 4, 4, 6, 6]"
   ]
  },
  {
   "cell_type": "code",
   "execution_count": 18,
   "id": "f9b6e89d",
   "metadata": {},
   "outputs": [
    {
     "data": {
      "text/plain": [
       "[1, 3, 3, 3, 4, 4, 4, 6, 6]"
      ]
     },
     "execution_count": 18,
     "metadata": {},
     "output_type": "execute_result"
    }
   ],
   "source": [
    "data"
   ]
  },
  {
   "cell_type": "markdown",
   "id": "c0b92988",
   "metadata": {},
   "source": [
    "#### To Calculate IQR"
   ]
  },
  {
   "cell_type": "code",
   "execution_count": 19,
   "id": "aec27482",
   "metadata": {},
   "outputs": [
    {
     "data": {
      "text/plain": [
       "[1, 3, 3, 3, 4, 4, 4, 6, 6]"
      ]
     },
     "execution_count": 19,
     "metadata": {},
     "output_type": "execute_result"
    }
   ],
   "source": [
    "# arrange the data\n",
    "\n",
    "data.sort()\n",
    "data"
   ]
  },
  {
   "cell_type": "code",
   "execution_count": 20,
   "id": "a48075cf",
   "metadata": {},
   "outputs": [],
   "source": [
    "def median(data):\n",
    "    data.sort()\n",
    "    size = len(data)\n",
    "    if size%2 ==0:\n",
    "        mid = int(size/2)\n",
    "        mid_1 = int(mid+1)\n",
    "        mid_value = data[mid-1]\n",
    "        mid_1_value = data[mid_1-1]\n",
    "        sum_val = mid_value + mid_1_value\n",
    "        res = sum_val/2  \n",
    "    else:\n",
    "        mid = int(size/2)\n",
    "        res = data[(mid+1)-1]\n",
    "    return res"
   ]
  },
  {
   "cell_type": "code",
   "execution_count": 32,
   "id": "a9a8b5af",
   "metadata": {},
   "outputs": [
    {
     "data": {
      "text/plain": [
       "([1, 3, 3, 3], [4, 4, 6, 6])"
      ]
     },
     "execution_count": 32,
     "metadata": {},
     "output_type": "execute_result"
    }
   ],
   "source": [
    "# calculate Q1 & Q3\n",
    "\n",
    "q1 = data[:int(len(data)/2)]\n",
    "q3 = data[-int(len(data)/2):]\n",
    "\n",
    "q1,q3"
   ]
  },
  {
   "cell_type": "code",
   "execution_count": 33,
   "id": "602c4dc9",
   "metadata": {},
   "outputs": [
    {
     "data": {
      "text/plain": [
       "(3.0, 5.0)"
      ]
     },
     "execution_count": 33,
     "metadata": {},
     "output_type": "execute_result"
    }
   ],
   "source": [
    "Q1 = median(q1)\n",
    "Q3 = median(q3)\n",
    "Q1,Q3"
   ]
  },
  {
   "cell_type": "code",
   "execution_count": 34,
   "id": "e34ba4b1",
   "metadata": {},
   "outputs": [
    {
     "data": {
      "text/plain": [
       "2.0"
      ]
     },
     "execution_count": 34,
     "metadata": {},
     "output_type": "execute_result"
    }
   ],
   "source": [
    "# find the IQR\n",
    "\n",
    "IQR = Q3 - Q1\n",
    "IQR"
   ]
  },
  {
   "cell_type": "code",
   "execution_count": 35,
   "id": "9d448e73",
   "metadata": {},
   "outputs": [],
   "source": [
    "def median(data):\n",
    "    data.sort()\n",
    "    size = len(data)\n",
    "    if size%2 ==0:\n",
    "        mid = int(size/2)\n",
    "        mid_1 = int(mid+1)\n",
    "        mid_value = data[mid-1]\n",
    "        mid_1_value = data[mid_1-1]\n",
    "        sum_val = mid_value + mid_1_value\n",
    "        res = sum_val/2  \n",
    "    else:\n",
    "        mid = int(size/2)\n",
    "        res = data[(mid+1)-1]\n",
    "    return res\n",
    "\n",
    "def iqr(data):\n",
    "    data.sort()\n",
    "    q1 = data[:int(len(data)/2)]\n",
    "    q3 = data[-int(len(data)/2):]\n",
    "    Q1 = median(q1)\n",
    "    Q3 = median(q3)\n",
    "    res = Q3 - Q1\n",
    "    return res"
   ]
  },
  {
   "cell_type": "code",
   "execution_count": 41,
   "id": "661ef426",
   "metadata": {},
   "outputs": [
    {
     "data": {
      "text/plain": [
       "11.0"
      ]
     },
     "execution_count": 41,
     "metadata": {},
     "output_type": "execute_result"
    }
   ],
   "source": [
    "data = [4, 17, 7, 14, 18, 12, 3, 16, 10, 4, 4, 11]\n",
    "iqr(data)"
   ]
  },
  {
   "cell_type": "markdown",
   "id": "bc29d0c7",
   "metadata": {},
   "source": [
    "## Standard Deviation:"
   ]
  },
  {
   "cell_type": "raw",
   "id": "e0cecfec",
   "metadata": {},
   "source": [
    "- It finds out the average of variability in your dataset.\n",
    "- It tells you on average how far each score lies from the mean.\n",
    "- The larger standard deviation, the move variance the dataset is.\n",
    "\n",
    "Step 1: list each score & find out the mean value.\n",
    "Step 2: substract mean value from each data, to got the deviation from the mean.\n",
    "Step 3: square each of the those deviation.\n",
    "Step 4: add up all the squared deviations.\n",
    "Step 5: devide the sum of squared deviations by (n-1), where n is the sample size.\n",
    "Step 6: find the square root of the number."
   ]
  },
  {
   "cell_type": "markdown",
   "id": "c93c1ff8",
   "metadata": {},
   "source": [
    "### Example:"
   ]
  },
  {
   "cell_type": "code",
   "execution_count": 13,
   "id": "362625bb",
   "metadata": {},
   "outputs": [
    {
     "data": {
      "text/plain": [
       "[72, 110, 134, 190, 238, 287, 305, 324]"
      ]
     },
     "execution_count": 13,
     "metadata": {},
     "output_type": "execute_result"
    }
   ],
   "source": [
    "data"
   ]
  },
  {
   "cell_type": "code",
   "execution_count": 15,
   "id": "aa2e198c",
   "metadata": {},
   "outputs": [
    {
     "data": {
      "text/plain": [
       "207.5"
      ]
     },
     "execution_count": 15,
     "metadata": {},
     "output_type": "execute_result"
    }
   ],
   "source": [
    "# step 1\n",
    "\n",
    "mean = sum(data)/len(data)\n",
    "mean"
   ]
  },
  {
   "cell_type": "code",
   "execution_count": 16,
   "id": "5d4f262a",
   "metadata": {},
   "outputs": [
    {
     "data": {
      "text/plain": [
       "[-135.5, -97.5, -73.5, -17.5, 30.5, 79.5, 97.5, 116.5]"
      ]
     },
     "execution_count": 16,
     "metadata": {},
     "output_type": "execute_result"
    }
   ],
   "source": [
    "# step 2\n",
    "\n",
    "deviation = []\n",
    "for num in data:\n",
    "    deviation.append(num-mean)\n",
    "deviation"
   ]
  },
  {
   "cell_type": "code",
   "execution_count": 17,
   "id": "ecf0a9d6",
   "metadata": {},
   "outputs": [
    {
     "data": {
      "text/plain": [
       "[18360.25, 9506.25, 5402.25, 306.25, 930.25, 6320.25, 9506.25, 13572.25]"
      ]
     },
     "execution_count": 17,
     "metadata": {},
     "output_type": "execute_result"
    }
   ],
   "source": [
    "# step 3\n",
    "\n",
    "square_deviation = []\n",
    "for dev in deviation:\n",
    "    square_deviation.append(dev**2)\n",
    "square_deviation"
   ]
  },
  {
   "cell_type": "code",
   "execution_count": 18,
   "id": "6c4640ce",
   "metadata": {},
   "outputs": [
    {
     "data": {
      "text/plain": [
       "63904.0"
      ]
     },
     "execution_count": 18,
     "metadata": {},
     "output_type": "execute_result"
    }
   ],
   "source": [
    "# step 4\n",
    "\n",
    "sum_square_deviation = sum(square_deviation)\n",
    "sum_square_deviation"
   ]
  },
  {
   "cell_type": "code",
   "execution_count": 28,
   "id": "3feba316",
   "metadata": {},
   "outputs": [
    {
     "data": {
      "text/plain": [
       "9129.142857142857"
      ]
     },
     "execution_count": 28,
     "metadata": {},
     "output_type": "execute_result"
    }
   ],
   "source": [
    "# step 5\n",
    "\n",
    "var = sum_square_deviation / (len(data)-1)\n",
    "var"
   ]
  },
  {
   "cell_type": "code",
   "execution_count": 30,
   "id": "53e35a37",
   "metadata": {},
   "outputs": [
    {
     "data": {
      "text/plain": [
       "95.54654811735931"
      ]
     },
     "execution_count": 30,
     "metadata": {},
     "output_type": "execute_result"
    }
   ],
   "source": [
    "# step 6\n",
    "\n",
    "standard_deviation = (var)**(1/2)\n",
    "standard_deviation"
   ]
  },
  {
   "cell_type": "code",
   "execution_count": 9,
   "id": "acaa2306",
   "metadata": {},
   "outputs": [],
   "source": [
    "def std(data):\n",
    "    mean = sum(data)/len(data)\n",
    "    \n",
    "    deviation = []\n",
    "    for num in data:\n",
    "        deviation.append(num-mean)\n",
    "        \n",
    "    square_deviation = []\n",
    "    for dev in deviation:\n",
    "        square_deviation.append(dev**2)\n",
    "        \n",
    "    sum_square_deviation = sum(square_deviation)\n",
    "    var = sum_square_deviation / (len(data)-1)\n",
    "    res = (var)**(1/2)\n",
    "    return res"
   ]
  },
  {
   "cell_type": "code",
   "execution_count": 10,
   "id": "d4e1f543",
   "metadata": {},
   "outputs": [
    {
     "data": {
      "text/plain": [
       "95.54654811735931"
      ]
     },
     "execution_count": 10,
     "metadata": {},
     "output_type": "execute_result"
    }
   ],
   "source": [
    "std(data)"
   ]
  },
  {
   "cell_type": "code",
   "execution_count": null,
   "id": "a1eb514e",
   "metadata": {},
   "outputs": [],
   "source": []
  }
 ],
 "metadata": {
  "kernelspec": {
   "display_name": "Python 3",
   "language": "python",
   "name": "python3"
  },
  "language_info": {
   "codemirror_mode": {
    "name": "ipython",
    "version": 3
   },
   "file_extension": ".py",
   "mimetype": "text/x-python",
   "name": "python",
   "nbconvert_exporter": "python",
   "pygments_lexer": "ipython3",
   "version": "3.8.8"
  }
 },
 "nbformat": 4,
 "nbformat_minor": 5
}
