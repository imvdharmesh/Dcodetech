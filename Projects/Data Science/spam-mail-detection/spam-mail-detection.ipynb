{
 "cells": [
  {
   "cell_type": "markdown",
   "id": "3cdb147c",
   "metadata": {},
   "source": [
    "## Spam Mail Detection"
   ]
  },
  {
   "cell_type": "code",
   "execution_count": 1,
   "id": "0b451ece",
   "metadata": {},
   "outputs": [],
   "source": [
    "import numpy as np\n",
    "import pandas as pd\n",
    "import matplotlib.pyplot as plt\n",
    "import seaborn as sns\n",
    "\n",
    "import warnings\n",
    "warnings.filterwarnings('ignore')"
   ]
  },
  {
   "cell_type": "code",
   "execution_count": 2,
   "id": "9f9f333a",
   "metadata": {},
   "outputs": [],
   "source": [
    "_df = pd.read_csv('mail_data.csv')"
   ]
  },
  {
   "cell_type": "code",
   "execution_count": 3,
   "id": "fff25334",
   "metadata": {},
   "outputs": [
    {
     "data": {
      "text/html": [
       "<div>\n",
       "<style scoped>\n",
       "    .dataframe tbody tr th:only-of-type {\n",
       "        vertical-align: middle;\n",
       "    }\n",
       "\n",
       "    .dataframe tbody tr th {\n",
       "        vertical-align: top;\n",
       "    }\n",
       "\n",
       "    .dataframe thead th {\n",
       "        text-align: right;\n",
       "    }\n",
       "</style>\n",
       "<table border=\"1\" class=\"dataframe\">\n",
       "  <thead>\n",
       "    <tr style=\"text-align: right;\">\n",
       "      <th></th>\n",
       "      <th>Category</th>\n",
       "      <th>Message</th>\n",
       "    </tr>\n",
       "  </thead>\n",
       "  <tbody>\n",
       "    <tr>\n",
       "      <th>0</th>\n",
       "      <td>ham</td>\n",
       "      <td>Go until jurong point, crazy.. Available only ...</td>\n",
       "    </tr>\n",
       "    <tr>\n",
       "      <th>1</th>\n",
       "      <td>ham</td>\n",
       "      <td>Ok lar... Joking wif u oni...</td>\n",
       "    </tr>\n",
       "    <tr>\n",
       "      <th>2</th>\n",
       "      <td>spam</td>\n",
       "      <td>Free entry in 2 a wkly comp to win FA Cup fina...</td>\n",
       "    </tr>\n",
       "    <tr>\n",
       "      <th>3</th>\n",
       "      <td>ham</td>\n",
       "      <td>U dun say so early hor... U c already then say...</td>\n",
       "    </tr>\n",
       "    <tr>\n",
       "      <th>4</th>\n",
       "      <td>ham</td>\n",
       "      <td>Nah I don't think he goes to usf, he lives aro...</td>\n",
       "    </tr>\n",
       "    <tr>\n",
       "      <th>...</th>\n",
       "      <td>...</td>\n",
       "      <td>...</td>\n",
       "    </tr>\n",
       "    <tr>\n",
       "      <th>5567</th>\n",
       "      <td>spam</td>\n",
       "      <td>This is the 2nd time we have tried 2 contact u...</td>\n",
       "    </tr>\n",
       "    <tr>\n",
       "      <th>5568</th>\n",
       "      <td>ham</td>\n",
       "      <td>Will ü b going to esplanade fr home?</td>\n",
       "    </tr>\n",
       "    <tr>\n",
       "      <th>5569</th>\n",
       "      <td>ham</td>\n",
       "      <td>Pity, * was in mood for that. So...any other s...</td>\n",
       "    </tr>\n",
       "    <tr>\n",
       "      <th>5570</th>\n",
       "      <td>ham</td>\n",
       "      <td>The guy did some bitching but I acted like i'd...</td>\n",
       "    </tr>\n",
       "    <tr>\n",
       "      <th>5571</th>\n",
       "      <td>ham</td>\n",
       "      <td>Rofl. Its true to its name</td>\n",
       "    </tr>\n",
       "  </tbody>\n",
       "</table>\n",
       "<p>5572 rows × 2 columns</p>\n",
       "</div>"
      ],
      "text/plain": [
       "     Category                                            Message\n",
       "0         ham  Go until jurong point, crazy.. Available only ...\n",
       "1         ham                      Ok lar... Joking wif u oni...\n",
       "2        spam  Free entry in 2 a wkly comp to win FA Cup fina...\n",
       "3         ham  U dun say so early hor... U c already then say...\n",
       "4         ham  Nah I don't think he goes to usf, he lives aro...\n",
       "...       ...                                                ...\n",
       "5567     spam  This is the 2nd time we have tried 2 contact u...\n",
       "5568      ham               Will ü b going to esplanade fr home?\n",
       "5569      ham  Pity, * was in mood for that. So...any other s...\n",
       "5570      ham  The guy did some bitching but I acted like i'd...\n",
       "5571      ham                         Rofl. Its true to its name\n",
       "\n",
       "[5572 rows x 2 columns]"
      ]
     },
     "execution_count": 3,
     "metadata": {},
     "output_type": "execute_result"
    }
   ],
   "source": [
    "_df"
   ]
  },
  {
   "cell_type": "code",
   "execution_count": 4,
   "id": "1d9722d3",
   "metadata": {},
   "outputs": [],
   "source": [
    "df = _df.copy()"
   ]
  },
  {
   "cell_type": "code",
   "execution_count": 5,
   "id": "28f5121c",
   "metadata": {},
   "outputs": [
    {
     "data": {
      "text/plain": [
       "Category    0\n",
       "Message     0\n",
       "dtype: int64"
      ]
     },
     "execution_count": 5,
     "metadata": {},
     "output_type": "execute_result"
    }
   ],
   "source": [
    "df.isna().sum()"
   ]
  },
  {
   "cell_type": "code",
   "execution_count": 6,
   "id": "8dd3eea9",
   "metadata": {},
   "outputs": [
    {
     "data": {
      "text/plain": [
       "ham     4825\n",
       "spam     747\n",
       "Name: Category, dtype: int64"
      ]
     },
     "execution_count": 6,
     "metadata": {},
     "output_type": "execute_result"
    }
   ],
   "source": [
    "df['Category'].value_counts()"
   ]
  },
  {
   "cell_type": "code",
   "execution_count": 7,
   "id": "1459d439",
   "metadata": {},
   "outputs": [
    {
     "data": {
      "text/plain": [
       "<AxesSubplot:xlabel='Category', ylabel='count'>"
      ]
     },
     "execution_count": 7,
     "metadata": {},
     "output_type": "execute_result"
    },
    {
     "data": {
      "image/png": "[encoded data removed]",
      "text/plain": [
       "<Figure size 432x288 with 1 Axes>"
      ]
     },
     "metadata": {
      "needs_background": "light"
     },
     "output_type": "display_data"
    }
   ],
   "source": [
    "sns.countplot(df['Category'])"
   ]
  },
  {
   "cell_type": "markdown",
   "id": "b1a38773",
   "metadata": {},
   "source": [
    "### Input and Target Variable"
   ]
  },
  {
   "cell_type": "code",
   "execution_count": 8,
   "id": "1e1914a0",
   "metadata": {},
   "outputs": [],
   "source": [
    "x = df['Message']\n",
    "y = df['Category']"
   ]
  },
  {
   "cell_type": "code",
   "execution_count": 9,
   "id": "87cdcb68",
   "metadata": {},
   "outputs": [
    {
     "data": {
      "text/plain": [
       "0       Go until jurong point, crazy.. Available only ...\n",
       "1                           Ok lar... Joking wif u oni...\n",
       "2       Free entry in 2 a wkly comp to win FA Cup fina...\n",
       "3       U dun say so early hor... U c already then say...\n",
       "4       Nah I don't think he goes to usf, he lives aro...\n",
       "                              ...                        \n",
       "5567    This is the 2nd time we have tried 2 contact u...\n",
       "5568                 Will ü b going to esplanade fr home?\n",
       "5569    Pity, * was in mood for that. So...any other s...\n",
       "5570    The guy did some bitching but I acted like i'd...\n",
       "5571                           Rofl. Its true to its name\n",
       "Name: Message, Length: 5572, dtype: object"
      ]
     },
     "execution_count": 9,
     "metadata": {},
     "output_type": "execute_result"
    }
   ],
   "source": [
    "x"
   ]
  },
  {
   "cell_type": "code",
   "execution_count": 10,
   "id": "713e22f1",
   "metadata": {},
   "outputs": [
    {
     "data": {
      "text/plain": [
       "0        ham\n",
       "1        ham\n",
       "2       spam\n",
       "3        ham\n",
       "4        ham\n",
       "        ... \n",
       "5567    spam\n",
       "5568     ham\n",
       "5569     ham\n",
       "5570     ham\n",
       "5571     ham\n",
       "Name: Category, Length: 5572, dtype: object"
      ]
     },
     "execution_count": 10,
     "metadata": {},
     "output_type": "execute_result"
    }
   ],
   "source": [
    "y"
   ]
  },
  {
   "cell_type": "markdown",
   "id": "389dba61",
   "metadata": {},
   "source": [
    "### Label Encoding"
   ]
  },
  {
   "cell_type": "code",
   "execution_count": 11,
   "id": "d856b213",
   "metadata": {},
   "outputs": [],
   "source": [
    "y.replace({'ham':0,'spam':1}, inplace=True)"
   ]
  },
  {
   "cell_type": "code",
   "execution_count": 12,
   "id": "9144205c",
   "metadata": {},
   "outputs": [
    {
     "data": {
      "text/plain": [
       "0       0\n",
       "1       0\n",
       "2       1\n",
       "3       0\n",
       "4       0\n",
       "       ..\n",
       "5567    1\n",
       "5568    0\n",
       "5569    0\n",
       "5570    0\n",
       "5571    0\n",
       "Name: Category, Length: 5572, dtype: int64"
      ]
     },
     "execution_count": 12,
     "metadata": {},
     "output_type": "execute_result"
    }
   ],
   "source": [
    "y"
   ]
  },
  {
   "cell_type": "markdown",
   "id": "402f6507",
   "metadata": {},
   "source": [
    "### Training and Testing Split"
   ]
  },
  {
   "cell_type": "code",
   "execution_count": 13,
   "id": "fc8c653c",
   "metadata": {},
   "outputs": [],
   "source": [
    "from sklearn.model_selection import train_test_split"
   ]
  },
  {
   "cell_type": "code",
   "execution_count": 14,
   "id": "b9b0bdcc",
   "metadata": {},
   "outputs": [],
   "source": [
    "x_train, x_test, y_train, y_test = train_test_split(x, y, test_size=0.3)"
   ]
  },
  {
   "cell_type": "code",
   "execution_count": 15,
   "id": "1e482031",
   "metadata": {},
   "outputs": [
    {
     "data": {
      "text/plain": [
       "2811                 Mm so you asked me not to call radio\n",
       "2971                              U should make a fb list\n",
       "2889    I take it we didn't have the phone callon Frid...\n",
       "5226        Prabha..i'm soryda..realy..frm heart i'm sory\n",
       "1193    I was up all night too worrying about this app...\n",
       "Name: Message, dtype: object"
      ]
     },
     "execution_count": 15,
     "metadata": {},
     "output_type": "execute_result"
    }
   ],
   "source": [
    "x_train.head()"
   ]
  },
  {
   "cell_type": "code",
   "execution_count": 16,
   "id": "6a992be2",
   "metadata": {},
   "outputs": [
    {
     "data": {
      "text/plain": [
       "2811    0\n",
       "2971    0\n",
       "2889    0\n",
       "5226    0\n",
       "1193    0\n",
       "Name: Category, dtype: int64"
      ]
     },
     "execution_count": 16,
     "metadata": {},
     "output_type": "execute_result"
    }
   ],
   "source": [
    "y_train.head()"
   ]
  },
  {
   "cell_type": "markdown",
   "id": "c4a8179c",
   "metadata": {},
   "source": [
    "### Feature Extraction"
   ]
  },
  {
   "cell_type": "code",
   "execution_count": 17,
   "id": "66518564",
   "metadata": {},
   "outputs": [],
   "source": [
    "from sklearn.feature_extraction.text import TfidfVectorizer"
   ]
  },
  {
   "cell_type": "code",
   "execution_count": 18,
   "id": "38219138",
   "metadata": {},
   "outputs": [],
   "source": [
    "tfidf = TfidfVectorizer(min_df=1, stop_words='english', lowercase=True)"
   ]
  },
  {
   "cell_type": "code",
   "execution_count": 19,
   "id": "5b81879f",
   "metadata": {},
   "outputs": [],
   "source": [
    "x_train_features = tfidf.fit_transform(x_train)\n",
    "x_test_features = tfidf.transform(x_test)"
   ]
  },
  {
   "cell_type": "code",
   "execution_count": 20,
   "id": "a427b30b",
   "metadata": {},
   "outputs": [
    {
     "name": "stdout",
     "output_type": "stream",
     "text": [
      "  (0, 5032)\t0.6343913154217343\n",
      "  (0, 998)\t0.5044729420236036\n",
      "  (0, 4140)\t0.5857087242679005\n",
      "  (1, 3780)\t0.6408943560812337\n",
      "  (1, 2559)\t0.6408943560812337\n",
      "  (1, 3951)\t0.42250307535737763\n",
      "  (2, 6967)\t0.33214110208814573\n",
      "  (2, 6865)\t0.29646822298852943\n",
      "  (2, 1011)\t0.4725567826662109\n",
      "  (2, 2742)\t0.3834607900855668\n",
      "  (2, 1471)\t0.49600800312747667\n",
      "  (2, 4704)\t0.2833787637311408\n",
      "  (2, 2106)\t0.3242056874647811\n",
      "  (3, 5747)\t0.44460948423986535\n",
      "  (3, 3106)\t0.3270962648198983\n",
      "  (3, 2751)\t0.3848260118786359\n",
      "  (3, 5093)\t0.40689031275534876\n",
      "  (3, 5748)\t0.44460948423986535\n",
      "  (3, 4856)\t0.4289546136320617\n",
      "  (4, 3031)\t0.26619715144164063\n",
      "  (4, 2199)\t0.21135943813635008\n",
      "  (4, 4815)\t0.33479018656372933\n",
      "  (4, 5026)\t0.35140456765265765\n",
      "  (4, 2878)\t0.2688416886993556\n",
      "  (4, 4121)\t0.2716687478873878\n",
      "  :\t:\n",
      "  (3898, 2938)\t0.24137422819783766\n",
      "  (3898, 3400)\t0.2598195906240184\n",
      "  (3898, 1814)\t0.22360849317607154\n",
      "  (3898, 4217)\t0.16233777440162106\n",
      "  (3898, 4152)\t0.15647131410134027\n",
      "  (3898, 6427)\t0.19452427400179137\n",
      "  (3898, 5470)\t0.35863594578145075\n",
      "  (3898, 6526)\t0.3823096453251543\n",
      "  (3898, 6724)\t0.16320521292008455\n",
      "  (3899, 846)\t0.3008280954816525\n",
      "  (3899, 6444)\t0.28201981774637563\n",
      "  (3899, 5760)\t0.26963112191329297\n",
      "  (3899, 503)\t0.2083265847248485\n",
      "  (3899, 617)\t0.2753068528562673\n",
      "  (3899, 904)\t0.28201981774637563\n",
      "  (3899, 1864)\t0.26963112191329297\n",
      "  (3899, 2294)\t0.26963112191329297\n",
      "  (3899, 6852)\t0.24683848814740358\n",
      "  (3899, 5025)\t0.24978561023088214\n",
      "  (3899, 6006)\t0.26037788294861064\n",
      "  (3899, 4755)\t0.25298931432952293\n",
      "  (3899, 5730)\t0.26037788294861064\n",
      "  (3899, 6434)\t0.16350283720973807\n",
      "  (3899, 6814)\t0.20031014317781617\n",
      "  (3899, 3623)\t0.15283699929236602\n"
     ]
    }
   ],
   "source": [
    "print(x_train_features)"
   ]
  },
  {
   "cell_type": "markdown",
   "id": "b525c291",
   "metadata": {},
   "source": [
    "## Training The Model"
   ]
  },
  {
   "cell_type": "markdown",
   "id": "e024ae31",
   "metadata": {},
   "source": [
    "### Logistic Regression"
   ]
  },
  {
   "cell_type": "code",
   "execution_count": 21,
   "id": "f18b987c",
   "metadata": {},
   "outputs": [],
   "source": [
    "from sklearn.linear_model import LogisticRegression"
   ]
  },
  {
   "cell_type": "code",
   "execution_count": 22,
   "id": "d3be4a20",
   "metadata": {},
   "outputs": [],
   "source": [
    "model = LogisticRegression()"
   ]
  },
  {
   "cell_type": "code",
   "execution_count": 23,
   "id": "880bd124",
   "metadata": {},
   "outputs": [
    {
     "data": {
      "text/plain": [
       "LogisticRegression()"
      ]
     },
     "execution_count": 23,
     "metadata": {},
     "output_type": "execute_result"
    }
   ],
   "source": [
    "model.fit(x_train_features, y_train)"
   ]
  },
  {
   "cell_type": "markdown",
   "id": "abd489ab",
   "metadata": {},
   "source": [
    "### Evaluating Model"
   ]
  },
  {
   "cell_type": "code",
   "execution_count": 24,
   "id": "c3773ea9",
   "metadata": {},
   "outputs": [],
   "source": [
    "from sklearn.metrics import accuracy_score"
   ]
  },
  {
   "cell_type": "code",
   "execution_count": 25,
   "id": "0d7a3d27",
   "metadata": {},
   "outputs": [],
   "source": [
    "pred_train = model.predict(x_train_features)\n",
    "acc_train = accuracy_score(y_train, pred_train)"
   ]
  },
  {
   "cell_type": "code",
   "execution_count": 26,
   "id": "dea53110",
   "metadata": {},
   "outputs": [
    {
     "name": "stdout",
     "output_type": "stream",
     "text": [
      "Accuracy on Training Data: 0.9625641025641025\n"
     ]
    }
   ],
   "source": [
    "print(\"Accuracy on Training Data:\",acc_train)"
   ]
  },
  {
   "cell_type": "code",
   "execution_count": 27,
   "id": "19f87864",
   "metadata": {},
   "outputs": [],
   "source": [
    "pred_test = model.predict(x_test_features)\n",
    "acc_test = accuracy_score(y_test, pred_test)"
   ]
  },
  {
   "cell_type": "code",
   "execution_count": 28,
   "id": "6477d963",
   "metadata": {},
   "outputs": [
    {
     "name": "stdout",
     "output_type": "stream",
     "text": [
      "Accuracy on Testing Data: 0.9617224880382775\n"
     ]
    }
   ],
   "source": [
    "print(\"Accuracy on Testing Data:\",acc_test)"
   ]
  },
  {
   "cell_type": "code",
   "execution_count": 30,
   "id": "397e2c21",
   "metadata": {},
   "outputs": [],
   "source": [
    "prob_train = model.predict_proba(x_train_features)\n",
    "prob_test = model.predict_proba(x_test_features)"
   ]
  },
  {
   "cell_type": "code",
   "execution_count": 31,
   "id": "fe9c8eb7",
   "metadata": {
    "scrolled": true
   },
   "outputs": [
    {
     "data": {
      "text/plain": [
       "array([[0.91923568, 0.08076432],\n",
       "       [0.93830641, 0.06169359],\n",
       "       [0.87800415, 0.12199585],\n",
       "       ...,\n",
       "       [0.95539191, 0.04460809],\n",
       "       [0.29520043, 0.70479957],\n",
       "       [0.34081217, 0.65918783]])"
      ]
     },
     "execution_count": 31,
     "metadata": {},
     "output_type": "execute_result"
    }
   ],
   "source": [
    "prob_train"
   ]
  },
  {
   "cell_type": "code",
   "execution_count": 32,
   "id": "eb125913",
   "metadata": {},
   "outputs": [
    {
     "data": {
      "text/plain": [
       "array([[0.22223078, 0.77776922],\n",
       "       [0.83153464, 0.16846536],\n",
       "       [0.973004  , 0.026996  ],\n",
       "       ...,\n",
       "       [0.95022733, 0.04977267],\n",
       "       [0.98274884, 0.01725116],\n",
       "       [0.90273553, 0.09726447]])"
      ]
     },
     "execution_count": 32,
     "metadata": {},
     "output_type": "execute_result"
    }
   ],
   "source": [
    "prob_test"
   ]
  },
  {
   "cell_type": "markdown",
   "id": "523be33e",
   "metadata": {},
   "source": [
    "### Confusion Metrics"
   ]
  },
  {
   "cell_type": "code",
   "execution_count": 33,
   "id": "1075f3fe",
   "metadata": {},
   "outputs": [],
   "source": [
    "from sklearn.metrics import confusion_matrix"
   ]
  },
  {
   "cell_type": "code",
   "execution_count": 34,
   "id": "280b377b",
   "metadata": {},
   "outputs": [
    {
     "data": {
      "text/plain": [
       "array([[3364,    3],\n",
       "       [ 143,  390]], dtype=int64)"
      ]
     },
     "execution_count": 34,
     "metadata": {},
     "output_type": "execute_result"
    }
   ],
   "source": [
    "conf_train = confusion_matrix(y_train, pred_train)\n",
    "conf_train"
   ]
  },
  {
   "cell_type": "code",
   "execution_count": 35,
   "id": "4705a7be",
   "metadata": {
    "scrolled": true
   },
   "outputs": [
    {
     "data": {
      "text/plain": [
       "array([[1457,    1],\n",
       "       [  63,  151]], dtype=int64)"
      ]
     },
     "execution_count": 35,
     "metadata": {},
     "output_type": "execute_result"
    }
   ],
   "source": [
    "conf_test = confusion_matrix(y_test, pred_test)\n",
    "conf_test"
   ]
  },
  {
   "cell_type": "markdown",
   "id": "34c8807b",
   "metadata": {},
   "source": [
    "### Building a Predictive System"
   ]
  },
  {
   "cell_type": "code",
   "execution_count": 36,
   "id": "13a9236f",
   "metadata": {},
   "outputs": [],
   "source": [
    "def mail_detector(input_mail):\n",
    "    mail_features = tfidf.transform(input_mail)\n",
    "    mail_prection = model.predict(mail_features)\n",
    "    \n",
    "    if mail_prection[0] == 1:\n",
    "        return 'spam mail'\n",
    "    else:\n",
    "        return 'ham mail'"
   ]
  },
  {
   "cell_type": "code",
   "execution_count": 38,
   "id": "7b4e4dd7",
   "metadata": {},
   "outputs": [
    {
     "name": "stdout",
     "output_type": "stream",
     "text": [
      "1 Label: ham\t Prediction: ham mail\t Result: Correct\n",
      "2 Label: ham\t Prediction: ham mail\t Result: Correct\n",
      "3 Label: spam\t Prediction: spam mail\t Result: Correct\n",
      "4 Label: ham\t Prediction: ham mail\t Result: Correct\n",
      "5 Label: ham\t Prediction: ham mail\t Result: Correct\n",
      "6 Label: spam\t Prediction: ham mail\t Result: Incorrect\n",
      "7 Label: ham\t Prediction: ham mail\t Result: Correct\n",
      "8 Label: ham\t Prediction: ham mail\t Result: Correct\n",
      "9 Label: spam\t Prediction: spam mail\t Result: Correct\n",
      "10 Label: spam\t Prediction: spam mail\t Result: Correct\n",
      "11 Label: ham\t Prediction: ham mail\t Result: Correct\n",
      "12 Label: spam\t Prediction: spam mail\t Result: Correct\n",
      "13 Label: spam\t Prediction: spam mail\t Result: Correct\n",
      "14 Label: ham\t Prediction: ham mail\t Result: Correct\n",
      "15 Label: ham\t Prediction: ham mail\t Result: Correct\n",
      "16 Label: spam\t Prediction: ham mail\t Result: Incorrect\n",
      "17 Label: ham\t Prediction: ham mail\t Result: Correct\n",
      "18 Label: ham\t Prediction: ham mail\t Result: Correct\n",
      "19 Label: ham\t Prediction: ham mail\t Result: Correct\n",
      "20 Label: spam\t Prediction: ham mail\t Result: Incorrect\n",
      "21 Label: ham\t Prediction: ham mail\t Result: Correct\n",
      "22 Label: ham\t Prediction: ham mail\t Result: Correct\n",
      "23 Label: ham\t Prediction: ham mail\t Result: Correct\n",
      "24 Label: ham\t Prediction: ham mail\t Result: Correct\n",
      "25 Label: ham\t Prediction: ham mail\t Result: Correct\n",
      "26 Label: ham\t Prediction: ham mail\t Result: Correct\n",
      "27 Label: ham\t Prediction: ham mail\t Result: Correct\n",
      "28 Label: ham\t Prediction: ham mail\t Result: Correct\n",
      "29 Label: ham\t Prediction: ham mail\t Result: Correct\n",
      "30 Label: ham\t Prediction: ham mail\t Result: Correct\n",
      "31 Label: ham\t Prediction: ham mail\t Result: Correct\n",
      "32 Label: ham\t Prediction: ham mail\t Result: Correct\n",
      "33 Label: ham\t Prediction: ham mail\t Result: Correct\n",
      "34 Label: ham\t Prediction: ham mail\t Result: Correct\n",
      "35 Label: spam\t Prediction: spam mail\t Result: Correct\n",
      "36 Label: ham\t Prediction: ham mail\t Result: Correct\n",
      "37 Label: ham\t Prediction: ham mail\t Result: Correct\n",
      "38 Label: ham\t Prediction: ham mail\t Result: Correct\n",
      "39 Label: ham\t Prediction: ham mail\t Result: Correct\n",
      "40 Label: ham\t Prediction: ham mail\t Result: Correct\n",
      "41 Label: ham\t Prediction: ham mail\t Result: Correct\n",
      "42 Label: ham\t Prediction: ham mail\t Result: Correct\n",
      "43 Label: spam\t Prediction: spam mail\t Result: Correct\n",
      "44 Label: ham\t Prediction: ham mail\t Result: Correct\n",
      "45 Label: ham\t Prediction: ham mail\t Result: Correct\n",
      "46 Label: ham\t Prediction: ham mail\t Result: Correct\n",
      "47 Label: ham\t Prediction: ham mail\t Result: Correct\n",
      "48 Label: ham\t Prediction: ham mail\t Result: Correct\n",
      "49 Label: ham\t Prediction: ham mail\t Result: Correct\n",
      "50 Label: ham\t Prediction: ham mail\t Result: Correct\n",
      "51 Label: ham\t Prediction: ham mail\t Result: Correct\n",
      "52 Label: ham\t Prediction: ham mail\t Result: Correct\n",
      "53 Label: ham\t Prediction: ham mail\t Result: Correct\n",
      "54 Label: ham\t Prediction: ham mail\t Result: Correct\n",
      "55 Label: spam\t Prediction: ham mail\t Result: Incorrect\n",
      "56 Label: ham\t Prediction: ham mail\t Result: Correct\n",
      "57 Label: spam\t Prediction: ham mail\t Result: Incorrect\n",
      "58 Label: ham\t Prediction: ham mail\t Result: Correct\n",
      "59 Label: ham\t Prediction: ham mail\t Result: Correct\n",
      "60 Label: ham\t Prediction: ham mail\t Result: Correct\n",
      "61 Label: ham\t Prediction: ham mail\t Result: Correct\n",
      "62 Label: ham\t Prediction: ham mail\t Result: Correct\n",
      "63 Label: ham\t Prediction: ham mail\t Result: Correct\n",
      "64 Label: ham\t Prediction: ham mail\t Result: Correct\n",
      "65 Label: ham\t Prediction: ham mail\t Result: Correct\n",
      "66 Label: spam\t Prediction: ham mail\t Result: Incorrect\n",
      "67 Label: ham\t Prediction: ham mail\t Result: Correct\n",
      "68 Label: spam\t Prediction: spam mail\t Result: Correct\n",
      "69 Label: spam\t Prediction: ham mail\t Result: Incorrect\n",
      "70 Label: ham\t Prediction: ham mail\t Result: Correct\n",
      "71 Label: ham\t Prediction: ham mail\t Result: Correct\n",
      "72 Label: ham\t Prediction: ham mail\t Result: Correct\n",
      "73 Label: ham\t Prediction: ham mail\t Result: Correct\n",
      "74 Label: ham\t Prediction: ham mail\t Result: Correct\n",
      "75 Label: ham\t Prediction: ham mail\t Result: Correct\n",
      "76 Label: ham\t Prediction: ham mail\t Result: Correct\n",
      "77 Label: ham\t Prediction: ham mail\t Result: Correct\n",
      "78 Label: ham\t Prediction: ham mail\t Result: Correct\n",
      "79 Label: ham\t Prediction: ham mail\t Result: Correct\n",
      "80 Label: ham\t Prediction: ham mail\t Result: Correct\n",
      "81 Label: ham\t Prediction: ham mail\t Result: Correct\n",
      "82 Label: ham\t Prediction: ham mail\t Result: Correct\n",
      "83 Label: ham\t Prediction: ham mail\t Result: Correct\n",
      "84 Label: ham\t Prediction: ham mail\t Result: Correct\n",
      "85 Label: ham\t Prediction: ham mail\t Result: Correct\n",
      "86 Label: ham\t Prediction: ham mail\t Result: Correct\n",
      "87 Label: ham\t Prediction: ham mail\t Result: Correct\n",
      "88 Label: ham\t Prediction: ham mail\t Result: Correct\n",
      "89 Label: ham\t Prediction: ham mail\t Result: Correct\n",
      "90 Label: ham\t Prediction: ham mail\t Result: Correct\n",
      "91 Label: ham\t Prediction: ham mail\t Result: Correct\n",
      "92 Label: ham\t Prediction: ham mail\t Result: Correct\n",
      "93 Label: ham\t Prediction: ham mail\t Result: Correct\n",
      "94 Label: spam\t Prediction: spam mail\t Result: Correct\n",
      "95 Label: ham\t Prediction: ham mail\t Result: Correct\n",
      "96 Label: spam\t Prediction: spam mail\t Result: Correct\n",
      "97 Label: ham\t Prediction: ham mail\t Result: Correct\n",
      "98 Label: ham\t Prediction: ham mail\t Result: Correct\n",
      "99 Label: ham\t Prediction: ham mail\t Result: Correct\n",
      "100 Label: ham\t Prediction: ham mail\t Result: Correct\n",
      "\n",
      " 93 Correct :: 7 Incorrect :: 93.0 Score\n"
     ]
    }
   ],
   "source": [
    "corr = 0\n",
    "incorr = 0\n",
    "for i in np.arange(0,100):\n",
    "    label = _df.loc[i][0]\n",
    "    pred = mail_detector([_df.loc[i][1]])\n",
    "    \n",
    "    if _df.loc[i][0] in mail_detector([_df.loc[i][1]]):\n",
    "        res = \"Correct\"\n",
    "        corr += 1\n",
    "    else:\n",
    "        res = \"Incorrect\"\n",
    "        incorr += 1\n",
    "    print(f'{i+1} Label: {label}\\t Prediction: {pred}\\t Result: {res}')\n",
    "print(f'\\n {corr} Correct :: {incorr} Incorrect :: {corr/(corr+incorr)*100} Score')"
   ]
  }
 ],
 "metadata": {
  "kernelspec": {
   "display_name": "Python 3",
   "language": "python",
   "name": "python3"
  },
  "language_info": {
   "codemirror_mode": {
    "name": "ipython",
    "version": 3
   },
   "file_extension": ".py",
   "mimetype": "text/x-python",
   "name": "python",
   "nbconvert_exporter": "python",
   "pygments_lexer": "ipython3",
   "version": "3.8.8"
  }
 },
 "nbformat": 4,
 "nbformat_minor": 5
}
