{
 "cells": [
  {
   "cell_type": "markdown",
   "id": "b5f3e4fa",
   "metadata": {},
   "source": [
    "# Project - 01"
   ]
  },
  {
   "cell_type": "markdown",
   "id": "dd4d7eed",
   "metadata": {},
   "source": [
    "    The mobile number screen should take 2 inputs from the user, i.e name and mobile number. There should be a button\n",
    "    available to insert the data. The data should be stored in a text file. Please note no duplicate mobile number should\n",
    "    be allowed to store.\n",
    "\n",
    "<b>Note: There should be validation done for mobile number as well as for email id (you are free to use regex as a logic in this case.</b>\n",
    "\n",
    "    Once the data is inserted successfully, The application should also have the option of viewing the data which is\n",
    "    available in the file."
   ]
  },
  {
   "cell_type": "markdown",
   "id": "6bc01bfa",
   "metadata": {},
   "source": [
    "### Program :"
   ]
  },
  {
   "cell_type": "code",
   "execution_count": 2,
   "id": "2953db2a",
   "metadata": {},
   "outputs": [],
   "source": [
    "import tkinter as tk\n",
    "from tkinter import *\n",
    "from tkinter import messagebox\n",
    "import re\n",
    "\n",
    "win = tk.Tk()\n",
    "win.geometry(\"600x400\")\n",
    "win.title(\"\")\n",
    "\n",
    "head_lbl = Label(win, text=\"ENTER YOUR INFORMATION HERE\")\n",
    "head_lbl.place(x=50,y=10)\n",
    "\n",
    "name_lbl = Label(win, text=\"Enter Name\")\n",
    "name_lbl.place(x=30,y=50)\n",
    "name = StringVar()\n",
    "name_tb = Entry(win, textvariable=name, width=25)\n",
    "name_tb.place(x=150,y=50)\n",
    "mobile = StringVar()\n",
    "number_lbl = Label(win, text=\"Enter Number\")\n",
    "number_lbl.place(x=30,y=90)\n",
    "number_tb = Entry(win, textvariable=mobile, width=25)\n",
    "number_tb.place(x=150,y=90)\n",
    "\n",
    "def insert_data():\n",
    "    if name.get() !=\"\" and mobile.get() !=\"\":\n",
    "        cmp = re.compile(r\"\\d{10}\")\n",
    "        if re.match(cmp,mobile.get()):\n",
    "            f1 = open('mobile_data.txt','a+')\n",
    "            f1.seek(0)\n",
    "            if mobile.get() not in f1.read():\n",
    "                f1.write(\"\\n\"+name.get()+\",\"+mobile.get())\n",
    "                f1.close()\n",
    "                name.set(\"\")\n",
    "                mobile.set(\"\")\n",
    "            else:\n",
    "                messagebox.showwarning(\"\",\"Mobile number already exist\")\n",
    "        else:\n",
    "            messagebox.showinfo(\"\",\"Incorrect mobile number\")\n",
    "    else:\n",
    "        messagebox.showinfo(\"\",\"Please fill the info\")\n",
    "\n",
    "def check_data():\n",
    "    info_tb.delete(\"1.0\",\"end\")\n",
    "    f2 = open('mobile_data.txt','r')\n",
    "    for data in f2:\n",
    "        info_tb.insert(END,data)\n",
    "    f2.close()\n",
    "\n",
    "\n",
    "insert_btn = Button(win, text=\"Insert\", width=10, command=insert_data)\n",
    "insert_btn.place(x=120,y=130)\n",
    "\n",
    "info_lbl = Label(win, text=\"View Your Information\")\n",
    "info_lbl.place(x=80,y=170)\n",
    "info_tb = Text(win, height=8, width=50)\n",
    "info_tb.place(x=30, y=200)\n",
    "\n",
    "check_tn = Button(win, text=\"Check\", width=10, command=check_data)\n",
    "check_tn.place(x=300,y=340)\n",
    "\n",
    "def clear():\n",
    "    name_tb.delete(0,END)\n",
    "    number_tb.delete(0,END)\n",
    "    info_tb.delete('1.0',END)\n",
    "    \n",
    "clr_btn = Button(win, text=\"Clear\", width=10, command=clear)\n",
    "clr_btn.place(x=380,y=340)\n",
    "\n",
    "win.mainloop()"
   ]
  },
  {
   "cell_type": "code",
   "execution_count": null,
   "id": "765b3c3c",
   "metadata": {},
   "outputs": [],
   "source": []
  }
 ],
 "metadata": {
  "kernelspec": {
   "display_name": "Python 3",
   "language": "python",
   "name": "python3"
  },
  "language_info": {
   "codemirror_mode": {
    "name": "ipython",
    "version": 3
   },
   "file_extension": ".py",
   "mimetype": "text/x-python",
   "name": "python",
   "nbconvert_exporter": "python",
   "pygments_lexer": "ipython3",
   "version": "3.8.8"
  }
 },
 "nbformat": 4,
 "nbformat_minor": 5
}
