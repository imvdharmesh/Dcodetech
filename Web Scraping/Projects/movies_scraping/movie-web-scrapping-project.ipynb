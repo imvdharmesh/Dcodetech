{
 "cells": [
  {
   "cell_type": "markdown",
   "id": "15613265",
   "metadata": {},
   "source": [
    "## Task:\n",
    "\n",
    "1) In this project your task is to do web scrapping for the below link provided, and store the data in the CSV file.\n",
    "\n",
    "2) After scrapping the data You are required to load the data in pandas and do some EDA and provide some useful graphical information.\n",
    "\n",
    "Link to scrap data: https://www.themoviedb.org/movie\n",
    "\n",
    "### Data\n",
    "\n",
    "1. Name\n",
    "2. Rating\n",
    "3. Genre\n",
    "4. Release date\n",
    "5. Runtime\n",
    "6. Director\n",
    "7. Url"
   ]
  },
  {
   "cell_type": "markdown",
   "id": "4c001d7d",
   "metadata": {},
   "source": [
    "# Task 1 : Scraping"
   ]
  },
  {
   "cell_type": "code",
   "execution_count": 1,
   "id": "a9c5872f",
   "metadata": {},
   "outputs": [],
   "source": [
    "import requests\n",
    "from bs4 import BeautifulSoup\n",
    "import pandas as pd"
   ]
  },
  {
   "cell_type": "code",
   "execution_count": 2,
   "id": "4cfc8f9b",
   "metadata": {},
   "outputs": [],
   "source": [
    "url = 'https://www.themoviedb.org'"
   ]
  },
  {
   "cell_type": "code",
   "execution_count": 3,
   "id": "9c18936e",
   "metadata": {},
   "outputs": [],
   "source": [
    "header = {'User-Agent': 'Mozilla/5.0 (Windows NT 6.3; Win64; x64) AppleWebKit/537.36 (KHTML, like Gecko) Chrome/99.0.4844.51 Safari/537.36'}"
   ]
  },
  {
   "cell_type": "code",
   "execution_count": 4,
   "id": "bee8c8e8",
   "metadata": {},
   "outputs": [],
   "source": [
    "response = requests.get(url+'/movie', headers = header)"
   ]
  },
  {
   "cell_type": "code",
   "execution_count": 5,
   "id": "ff94cdbf",
   "metadata": {},
   "outputs": [
    {
     "data": {
      "text/plain": [
       "200"
      ]
     },
     "execution_count": 5,
     "metadata": {},
     "output_type": "execute_result"
    }
   ],
   "source": [
    "response.status_code"
   ]
  },
  {
   "cell_type": "markdown",
   "id": "54e78fb2",
   "metadata": {},
   "source": [
    "# Page Urls"
   ]
  },
  {
   "cell_type": "code",
   "execution_count": 6,
   "id": "553a7cbd",
   "metadata": {},
   "outputs": [],
   "source": [
    "urls = []\n",
    "for i in range(1,501):\n",
    "    urls.append(url+'/movie?page='+str(i))"
   ]
  },
  {
   "cell_type": "code",
   "execution_count": 7,
   "id": "3a4215d6",
   "metadata": {},
   "outputs": [
    {
     "data": {
      "text/plain": [
       "500"
      ]
     },
     "execution_count": 7,
     "metadata": {},
     "output_type": "execute_result"
    }
   ],
   "source": [
    "len(urls)"
   ]
  },
  {
   "cell_type": "code",
   "execution_count": 8,
   "id": "9d77bdc7",
   "metadata": {},
   "outputs": [
    {
     "data": {
      "text/plain": [
       "'https://www.themoviedb.org/movie?page=1'"
      ]
     },
     "execution_count": 8,
     "metadata": {},
     "output_type": "execute_result"
    }
   ],
   "source": [
    "urls[0]"
   ]
  },
  {
   "cell_type": "code",
   "execution_count": 9,
   "id": "bade2563",
   "metadata": {},
   "outputs": [],
   "source": [
    "url_response = requests.get(urls[0], headers=header)\n",
    "url_html = url_response.text\n",
    "url_soup = BeautifulSoup(url_html, 'lxml')"
   ]
  },
  {
   "cell_type": "code",
   "execution_count": 10,
   "id": "0a1892bd",
   "metadata": {},
   "outputs": [],
   "source": [
    "movies_links = []\n",
    "for url_link in urls:\n",
    "    url_response = requests.get(url_link, headers=header)\n",
    "    url_html = url_response.text\n",
    "    url_soup = BeautifulSoup(url_html, 'lxml')\n",
    "    \n",
    "    for link in url_soup.find('div', class_='page_wrapper').find_all('h2'):\n",
    "        movies_links.append(url+link.a['href'])"
   ]
  },
  {
   "cell_type": "code",
   "execution_count": 11,
   "id": "a161e045",
   "metadata": {},
   "outputs": [
    {
     "data": {
      "text/plain": [
       "10000"
      ]
     },
     "execution_count": 11,
     "metadata": {},
     "output_type": "execute_result"
    }
   ],
   "source": [
    "len(movies_links)"
   ]
  },
  {
   "cell_type": "markdown",
   "id": "bf24233a",
   "metadata": {},
   "source": [
    "## Sample Movie"
   ]
  },
  {
   "cell_type": "code",
   "execution_count": 12,
   "id": "2085b937",
   "metadata": {},
   "outputs": [
    {
     "data": {
      "text/plain": [
       "'https://www.themoviedb.org/movie/634649'"
      ]
     },
     "execution_count": 12,
     "metadata": {},
     "output_type": "execute_result"
    }
   ],
   "source": [
    "movies_links[0]"
   ]
  },
  {
   "cell_type": "code",
   "execution_count": 13,
   "id": "f1f7c6b4",
   "metadata": {},
   "outputs": [],
   "source": [
    "response2 = requests.get(movies_links[0], headers=header)"
   ]
  },
  {
   "cell_type": "code",
   "execution_count": 14,
   "id": "30ec8dec",
   "metadata": {},
   "outputs": [
    {
     "data": {
      "text/plain": [
       "200"
      ]
     },
     "execution_count": 14,
     "metadata": {},
     "output_type": "execute_result"
    }
   ],
   "source": [
    "response2.status_code"
   ]
  },
  {
   "cell_type": "code",
   "execution_count": 15,
   "id": "ec71182d",
   "metadata": {},
   "outputs": [],
   "source": [
    "response_html2 = response2.text"
   ]
  },
  {
   "cell_type": "code",
   "execution_count": 16,
   "id": "0e232fc6",
   "metadata": {},
   "outputs": [],
   "source": [
    "soup2 = BeautifulSoup(response_html2, 'lxml')"
   ]
  },
  {
   "cell_type": "markdown",
   "id": "fa723693",
   "metadata": {},
   "source": [
    "### Name"
   ]
  },
  {
   "cell_type": "code",
   "execution_count": 17,
   "id": "db024f6d",
   "metadata": {},
   "outputs": [
    {
     "data": {
      "text/plain": [
       "'Spider-Man: No Way Home'"
      ]
     },
     "execution_count": 17,
     "metadata": {},
     "output_type": "execute_result"
    }
   ],
   "source": [
    "soup2.find('h2').a.text"
   ]
  },
  {
   "cell_type": "markdown",
   "id": "95b96629",
   "metadata": {},
   "source": [
    "### Rating"
   ]
  },
  {
   "cell_type": "code",
   "execution_count": 18,
   "id": "0cf9c146",
   "metadata": {},
   "outputs": [
    {
     "data": {
      "text/plain": [
       "'83'"
      ]
     },
     "execution_count": 18,
     "metadata": {},
     "output_type": "execute_result"
    }
   ],
   "source": [
    "soup2.find('div', class_='percent').span['class'][-1].replace('icon-r','')"
   ]
  },
  {
   "cell_type": "markdown",
   "id": "caf97960",
   "metadata": {},
   "source": [
    "### Genre"
   ]
  },
  {
   "cell_type": "code",
   "execution_count": 19,
   "id": "0520a2f8",
   "metadata": {},
   "outputs": [
    {
     "data": {
      "text/plain": [
       "'Action,Adventure,Science Fiction'"
      ]
     },
     "execution_count": 19,
     "metadata": {},
     "output_type": "execute_result"
    }
   ],
   "source": [
    "soup2.find('span', class_='genres').text.strip().replace('\\xa0','')"
   ]
  },
  {
   "cell_type": "markdown",
   "id": "53503c09",
   "metadata": {},
   "source": [
    "### Release date"
   ]
  },
  {
   "cell_type": "code",
   "execution_count": 20,
   "id": "f67177ce",
   "metadata": {},
   "outputs": [
    {
     "data": {
      "text/plain": [
       "'12/17/2021'"
      ]
     },
     "execution_count": 20,
     "metadata": {},
     "output_type": "execute_result"
    }
   ],
   "source": [
    "soup2.find('span', class_='release').text.strip().split()[0]"
   ]
  },
  {
   "cell_type": "markdown",
   "id": "f7f18b08",
   "metadata": {},
   "source": [
    "### Runtime"
   ]
  },
  {
   "cell_type": "code",
   "execution_count": 21,
   "id": "e4e889f7",
   "metadata": {},
   "outputs": [
    {
     "name": "stdout",
     "output_type": "stream",
     "text": [
      "2h 28m\n"
     ]
    }
   ],
   "source": [
    "try:\n",
    "    r = soup2.find('span', class_='runtime').text.strip()\n",
    "except:\n",
    "    r = 0\n",
    "print(r)"
   ]
  },
  {
   "cell_type": "markdown",
   "id": "d614f7b5",
   "metadata": {},
   "source": [
    "### Director"
   ]
  },
  {
   "cell_type": "code",
   "execution_count": 22,
   "id": "b4fabf19",
   "metadata": {},
   "outputs": [
    {
     "data": {
      "text/plain": [
       "'Jon Watts'"
      ]
     },
     "execution_count": 22,
     "metadata": {},
     "output_type": "execute_result"
    }
   ],
   "source": [
    "for profile in soup2.find_all('li', class_='profile'):\n",
    "    if 'Director' in profile.text:\n",
    "        director = profile.a.text\n",
    "director"
   ]
  },
  {
   "cell_type": "markdown",
   "id": "21d582c2",
   "metadata": {},
   "source": [
    "### Url"
   ]
  },
  {
   "cell_type": "code",
   "execution_count": 23,
   "id": "3991a9a7",
   "metadata": {},
   "outputs": [
    {
     "data": {
      "text/plain": [
       "'https://www.themoviedb.org/movie/634649'"
      ]
     },
     "execution_count": 23,
     "metadata": {},
     "output_type": "execute_result"
    }
   ],
   "source": [
    "movies_links[0]"
   ]
  },
  {
   "cell_type": "markdown",
   "id": "c9898af7",
   "metadata": {},
   "source": [
    "# Final Code"
   ]
  },
  {
   "cell_type": "code",
   "execution_count": 33,
   "id": "50f58a11",
   "metadata": {},
   "outputs": [],
   "source": [
    "movie_list = []\n",
    "def movies_scrape():\n",
    "    url = 'https://www.themoviedb.org'\n",
    "    header = {'User-Agent': 'Mozilla/5.0 (Windows NT 6.3; Win64; x64) AppleWebKit/537.36 (KHTML, like Gecko) Chrome/99.0.4844.51 Safari/537.36'}\n",
    "    page_response = requests.get(url+'/movie', headers = header)\n",
    "    page_html = page_response.text\n",
    "    page_soup = BeautifulSoup(page_html, 'lxml')\n",
    "    \n",
    "    c = 0\n",
    "    for link in movies_links:\n",
    "        movie_url = link\n",
    "        print(c,end = ' ')\n",
    "        c+=1\n",
    "        movie_response = requests.get(movie_url, headers = header)\n",
    "        movie_html = movie_response.text\n",
    "        movie_soup = BeautifulSoup(movie_html, 'lxml')\n",
    "        \n",
    "        name = movie_soup.find('h2').a.text #name\n",
    "\n",
    "        rating = movie_soup.find('div', class_='percent').span['class'][-1].replace('icon-r','') #rating\n",
    "        \n",
    "        genre = movie_soup.find('span', class_='genres').text.strip().replace('\\xa0','') #genre\n",
    "        \n",
    "        release_date = movie_soup.find('span', class_='release').text.strip().split()[0] #release_date\n",
    "        \n",
    "        try:\n",
    "            runtime = movie_soup.find('span', class_='runtime').text.strip() #runtime\n",
    "        except:\n",
    "            runtime = 0\n",
    "            \n",
    "        for profile in movie_soup.find_all('li', class_='profile'): #director\n",
    "            if 'Director' in profile.text:\n",
    "                director = profile.a.text\n",
    "        \n",
    "        movie_dict = {\n",
    "            'Name':name,\n",
    "            'Rating':rating,\n",
    "            'Genre':genre,\n",
    "            'Release Date':release_date,\n",
    "            'Runtime':runtime,\n",
    "            'Url':movie_url\n",
    "        }\n",
    "        movie_list.append(movie_dict)"
   ]
  },
  {
   "cell_type": "code",
   "execution_count": 38,
   "id": "26078b31",
   "metadata": {
    "scrolled": false
   },
   "outputs": [],
   "source": [
    "# movies_scrape()"
   ]
  },
  {
   "cell_type": "code",
   "execution_count": 39,
   "id": "aeef0e78",
   "metadata": {},
   "outputs": [
    {
     "data": {
      "text/plain": [
       "10000"
      ]
     },
     "execution_count": 39,
     "metadata": {},
     "output_type": "execute_result"
    }
   ],
   "source": [
    "len(movie_list)"
   ]
  },
  {
   "cell_type": "code",
   "execution_count": 40,
   "id": "de84d323",
   "metadata": {},
   "outputs": [],
   "source": [
    "movies_df = pd.DataFrame(movie_list)"
   ]
  },
  {
   "cell_type": "code",
   "execution_count": 41,
   "id": "6ccd9178",
   "metadata": {},
   "outputs": [
    {
     "data": {
      "text/html": [
       "<div>\n",
       "<style scoped>\n",
       "    .dataframe tbody tr th:only-of-type {\n",
       "        vertical-align: middle;\n",
       "    }\n",
       "\n",
       "    .dataframe tbody tr th {\n",
       "        vertical-align: top;\n",
       "    }\n",
       "\n",
       "    .dataframe thead th {\n",
       "        text-align: right;\n",
       "    }\n",
       "</style>\n",
       "<table border=\"1\" class=\"dataframe\">\n",
       "  <thead>\n",
       "    <tr style=\"text-align: right;\">\n",
       "      <th></th>\n",
       "      <th>Name</th>\n",
       "      <th>Rating</th>\n",
       "      <th>Genre</th>\n",
       "      <th>Release Date</th>\n",
       "      <th>Runtime</th>\n",
       "      <th>Url</th>\n",
       "    </tr>\n",
       "  </thead>\n",
       "  <tbody>\n",
       "    <tr>\n",
       "      <th>0</th>\n",
       "      <td>Spider-Man: No Way Home</td>\n",
       "      <td>83</td>\n",
       "      <td>Action,Adventure,Science Fiction</td>\n",
       "      <td>12/17/2021</td>\n",
       "      <td>2h 28m</td>\n",
       "      <td>https://www.themoviedb.org/movie/634649</td>\n",
       "    </tr>\n",
       "    <tr>\n",
       "      <th>1</th>\n",
       "      <td>Turning Red</td>\n",
       "      <td>75</td>\n",
       "      <td>Animation,Family,Comedy,Fantasy</td>\n",
       "      <td>03/10/2022</td>\n",
       "      <td>1h 40m</td>\n",
       "      <td>https://www.themoviedb.org/movie/508947</td>\n",
       "    </tr>\n",
       "    <tr>\n",
       "      <th>2</th>\n",
       "      <td>Blacklight</td>\n",
       "      <td>55</td>\n",
       "      <td>Action,Thriller</td>\n",
       "      <td>02/10/2022</td>\n",
       "      <td>1h 44m</td>\n",
       "      <td>https://www.themoviedb.org/movie/823625</td>\n",
       "    </tr>\n",
       "    <tr>\n",
       "      <th>3</th>\n",
       "      <td>The Batman</td>\n",
       "      <td>80</td>\n",
       "      <td>Crime,Mystery,Thriller</td>\n",
       "      <td>03/04/2022</td>\n",
       "      <td>2h 56m</td>\n",
       "      <td>https://www.themoviedb.org/movie/414906</td>\n",
       "    </tr>\n",
       "    <tr>\n",
       "      <th>4</th>\n",
       "      <td>Encanto</td>\n",
       "      <td>77</td>\n",
       "      <td>Animation,Comedy,Family,Fantasy</td>\n",
       "      <td>11/24/2021</td>\n",
       "      <td>1h 42m</td>\n",
       "      <td>https://www.themoviedb.org/movie/568124</td>\n",
       "    </tr>\n",
       "    <tr>\n",
       "      <th>...</th>\n",
       "      <td>...</td>\n",
       "      <td>...</td>\n",
       "      <td>...</td>\n",
       "      <td>...</td>\n",
       "      <td>...</td>\n",
       "      <td>...</td>\n",
       "    </tr>\n",
       "    <tr>\n",
       "      <th>9995</th>\n",
       "      <td>Flyboys</td>\n",
       "      <td>65</td>\n",
       "      <td>Action,Adventure,Drama,History,Romance,War</td>\n",
       "      <td>09/22/2006</td>\n",
       "      <td>2h 18m</td>\n",
       "      <td>https://www.themoviedb.org/movie/9664</td>\n",
       "    </tr>\n",
       "    <tr>\n",
       "      <th>9996</th>\n",
       "      <td>K-PAX</td>\n",
       "      <td>72</td>\n",
       "      <td>Science Fiction,Drama</td>\n",
       "      <td>10/22/2001</td>\n",
       "      <td>2h</td>\n",
       "      <td>https://www.themoviedb.org/movie/167</td>\n",
       "    </tr>\n",
       "    <tr>\n",
       "      <th>9997</th>\n",
       "      <td>Seberg</td>\n",
       "      <td>60</td>\n",
       "      <td>Thriller,Drama</td>\n",
       "      <td>01/10/2020</td>\n",
       "      <td>1h 43m</td>\n",
       "      <td>https://www.themoviedb.org/movie/510298</td>\n",
       "    </tr>\n",
       "    <tr>\n",
       "      <th>9998</th>\n",
       "      <td>How to Steal a Million</td>\n",
       "      <td>75</td>\n",
       "      <td>Comedy,Crime</td>\n",
       "      <td>07/13/1966</td>\n",
       "      <td>2h 3m</td>\n",
       "      <td>https://www.themoviedb.org/movie/3001</td>\n",
       "    </tr>\n",
       "    <tr>\n",
       "      <th>9999</th>\n",
       "      <td>Castle Falls</td>\n",
       "      <td>55</td>\n",
       "      <td>Action,Thriller</td>\n",
       "      <td>03/17/2022</td>\n",
       "      <td>1h 29m</td>\n",
       "      <td>https://www.themoviedb.org/movie/683311</td>\n",
       "    </tr>\n",
       "  </tbody>\n",
       "</table>\n",
       "<p>10000 rows × 6 columns</p>\n",
       "</div>"
      ],
      "text/plain": [
       "                         Name Rating  \\\n",
       "0     Spider-Man: No Way Home     83   \n",
       "1                 Turning Red     75   \n",
       "2                  Blacklight     55   \n",
       "3                  The Batman     80   \n",
       "4                     Encanto     77   \n",
       "...                       ...    ...   \n",
       "9995                  Flyboys     65   \n",
       "9996                    K-PAX     72   \n",
       "9997                   Seberg     60   \n",
       "9998   How to Steal a Million     75   \n",
       "9999             Castle Falls     55   \n",
       "\n",
       "                                           Genre Release Date Runtime  \\\n",
       "0               Action,Adventure,Science Fiction   12/17/2021  2h 28m   \n",
       "1                Animation,Family,Comedy,Fantasy   03/10/2022  1h 40m   \n",
       "2                                Action,Thriller   02/10/2022  1h 44m   \n",
       "3                         Crime,Mystery,Thriller   03/04/2022  2h 56m   \n",
       "4                Animation,Comedy,Family,Fantasy   11/24/2021  1h 42m   \n",
       "...                                          ...          ...     ...   \n",
       "9995  Action,Adventure,Drama,History,Romance,War   09/22/2006  2h 18m   \n",
       "9996                       Science Fiction,Drama   10/22/2001      2h   \n",
       "9997                              Thriller,Drama   01/10/2020  1h 43m   \n",
       "9998                                Comedy,Crime   07/13/1966   2h 3m   \n",
       "9999                             Action,Thriller   03/17/2022  1h 29m   \n",
       "\n",
       "                                          Url  \n",
       "0     https://www.themoviedb.org/movie/634649  \n",
       "1     https://www.themoviedb.org/movie/508947  \n",
       "2     https://www.themoviedb.org/movie/823625  \n",
       "3     https://www.themoviedb.org/movie/414906  \n",
       "4     https://www.themoviedb.org/movie/568124  \n",
       "...                                       ...  \n",
       "9995    https://www.themoviedb.org/movie/9664  \n",
       "9996     https://www.themoviedb.org/movie/167  \n",
       "9997  https://www.themoviedb.org/movie/510298  \n",
       "9998    https://www.themoviedb.org/movie/3001  \n",
       "9999  https://www.themoviedb.org/movie/683311  \n",
       "\n",
       "[10000 rows x 6 columns]"
      ]
     },
     "execution_count": 41,
     "metadata": {},
     "output_type": "execute_result"
    }
   ],
   "source": [
    "movies_df"
   ]
  },
  {
   "cell_type": "markdown",
   "id": "0edd476f",
   "metadata": {},
   "source": [
    "### Save in csv file"
   ]
  },
  {
   "cell_type": "code",
   "execution_count": 44,
   "id": "c8876f94",
   "metadata": {},
   "outputs": [],
   "source": [
    "movies_df.to_csv('movies_data.csv', index=None)"
   ]
  }
 ],
 "metadata": {
  "kernelspec": {
   "display_name": "Python 3",
   "language": "python",
   "name": "python3"
  },
  "language_info": {
   "codemirror_mode": {
    "name": "ipython",
    "version": 3
   },
   "file_extension": ".py",
   "mimetype": "text/x-python",
   "name": "python",
   "nbconvert_exporter": "python",
   "pygments_lexer": "ipython3",
   "version": "3.8.8"
  }
 },
 "nbformat": 4,
 "nbformat_minor": 5
}
