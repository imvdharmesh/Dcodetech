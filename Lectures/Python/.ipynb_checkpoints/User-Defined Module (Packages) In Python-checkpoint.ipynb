{
 "cells": [
  {
   "cell_type": "raw",
   "id": "c1525e40",
   "metadata": {},
   "source": [
    "Date - 21/05/2021  04:30 PM to 06:15 PM"
   ]
  },
  {
   "cell_type": "markdown",
   "id": "32bd44ba",
   "metadata": {},
   "source": [
    "## Importing package from same directory"
   ]
  },
  {
   "cell_type": "code",
   "execution_count": 1,
   "id": "d4e31b8c",
   "metadata": {},
   "outputs": [
    {
     "data": {
      "text/plain": [
       "'Welcome Dharmesh'"
      ]
     },
     "execution_count": 1,
     "metadata": {},
     "output_type": "execute_result"
    }
   ],
   "source": [
    "import mypackage\n",
    "mypackage.greet(\"Dharmesh\")"
   ]
  },
  {
   "cell_type": "markdown",
   "id": "7172382f",
   "metadata": {},
   "source": [
    "## Import package from other directory"
   ]
  },
  {
   "cell_type": "code",
   "execution_count": 2,
   "id": "290b2c56",
   "metadata": {},
   "outputs": [
    {
     "data": {
      "text/plain": [
       "(30, 5, 20, 3.0)"
      ]
     },
     "execution_count": 2,
     "metadata": {},
     "output_type": "execute_result"
    }
   ],
   "source": [
    "from MyPackages import calculator as cal\n",
    "cal.add(10,20), cal.sub(10,5), cal.mul(4,5), cal.div(15,5)"
   ]
  },
  {
   "cell_type": "code",
   "execution_count": 3,
   "id": "d507beae",
   "metadata": {},
   "outputs": [
    {
     "data": {
      "text/plain": [
       "(30, 5, 20, 3.0)"
      ]
     },
     "execution_count": 3,
     "metadata": {},
     "output_type": "execute_result"
    }
   ],
   "source": [
    "from MyPackages.calculator import *\n",
    "add(10,20), sub(10,5), mul(4,5), div(15,5)"
   ]
  },
  {
   "cell_type": "code",
   "execution_count": 4,
   "id": "45bfe4d9",
   "metadata": {},
   "outputs": [
    {
     "data": {
      "text/plain": [
       "(24, 4.5)"
      ]
     },
     "execution_count": 4,
     "metadata": {},
     "output_type": "execute_result"
    }
   ],
   "source": [
    "from MyPackages.calculator import add,div\n",
    "add(4,20), div(9,2)"
   ]
  },
  {
   "cell_type": "code",
   "execution_count": null,
   "id": "fc4df2c2",
   "metadata": {},
   "outputs": [],
   "source": []
  }
 ],
 "metadata": {
  "kernelspec": {
   "display_name": "Python 3",
   "language": "python",
   "name": "python3"
  },
  "language_info": {
   "codemirror_mode": {
    "name": "ipython",
    "version": 3
   },
   "file_extension": ".py",
   "mimetype": "text/x-python",
   "name": "python",
   "nbconvert_exporter": "python",
   "pygments_lexer": "ipython3",
   "version": "3.8.8"
  }
 },
 "nbformat": 4,
 "nbformat_minor": 5
}
