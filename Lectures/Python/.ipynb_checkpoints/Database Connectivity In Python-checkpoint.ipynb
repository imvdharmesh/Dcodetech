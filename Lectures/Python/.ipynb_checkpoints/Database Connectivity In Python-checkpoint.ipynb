{
 "cells": [
  {
   "cell_type": "raw",
   "id": "026f638f",
   "metadata": {},
   "source": [
    "Date - 18/05/2021  04:30 PM to 06:00 PM"
   ]
  },
  {
   "cell_type": "markdown",
   "id": "152faa62",
   "metadata": {},
   "source": [
    "# Database Connectivity"
   ]
  },
  {
   "cell_type": "raw",
   "id": "5a8f85f1",
   "metadata": {},
   "source": [
    "- MySQL Connector Python\n",
    "- PyMySQL"
   ]
  },
  {
   "cell_type": "raw",
   "id": "091cb0d2",
   "metadata": {},
   "source": [
    "- Install the MySQL Connector Library\n",
    "- Import MySQL Connector Library\n",
    "- Use the connect() method with the required arguments\n",
    "- Use the cursor() method to create cursor object that performs various SQL operations\n",
    "- Use the execute() or executemany() or executeall() method that runs the SQL Query\n",
    "- Extract the result using the fetchall() or fetchone() or fetchmany() to read the query\n",
    "- close the cursor and connection objects"
   ]
  },
  {
   "cell_type": "markdown",
   "id": "4950e7f8",
   "metadata": {},
   "source": [
    "## Installing & Importing MySQL Connector"
   ]
  },
  {
   "cell_type": "code",
   "execution_count": 1,
   "id": "70ae5686",
   "metadata": {},
   "outputs": [
    {
     "name": "stdout",
     "output_type": "stream",
     "text": [
      "Requirement already satisfied: mysql-connector-python in f:\\anaconda3\\lib\\site-packages (8.0.25)\n",
      "Requirement already satisfied: protobuf>=3.0.0 in f:\\anaconda3\\lib\\site-packages (from mysql-connector-python) (3.17.0)\n",
      "Requirement already satisfied: six>=1.9 in f:\\anaconda3\\lib\\site-packages (from protobuf>=3.0.0->mysql-connector-python) (1.15.0)\n"
     ]
    }
   ],
   "source": [
    "!pip install mysql-connector-python"
   ]
  },
  {
   "cell_type": "code",
   "execution_count": 2,
   "id": "60fdfa3c",
   "metadata": {},
   "outputs": [],
   "source": []
  },
  {
   "cell_type": "code",
   "execution_count": 2,
   "id": "7acefc61",
   "metadata": {},
   "outputs": [],
   "source": [
    "import mysql.connector"
   ]
  },
  {
   "cell_type": "markdown",
   "id": "a9e5062c",
   "metadata": {},
   "source": [
    "## Code to connect to MySQL DB in Python"
   ]
  },
  {
   "cell_type": "code",
   "execution_count": 7,
   "id": "0a5cc1a2",
   "metadata": {},
   "outputs": [
    {
     "name": "stdout",
     "output_type": "stream",
     "text": [
      "Connected to MySQL Server, version is 8.0.25\n",
      "Databases : [('information_schema',), ('mysql',), ('performance_schema',), ('sakila',), ('sys',), ('world',)]\n",
      "Connection is closed...\n"
     ]
    }
   ],
   "source": [
    "import mysql.connector\n",
    "from mysql.connector import Error  # this is for knowing the error if occured in connectivity\n",
    "\n",
    "try:\n",
    "    con = mysql.connector.connect(host = \"localhost\", user = \"root\", password = \"root\")\n",
    "    \n",
    "    if con.is_connected():\n",
    "        db_info = con.get_server_info()\n",
    "        print(\"Connected to MySQL Server, version is\",db_info)\n",
    "        cur = con.cursor()\n",
    "        cur.execute(\"SHOW DATABASES;\")\n",
    "        record = cur.fetchall()\n",
    "        print(\"Databases :\",record)\n",
    "\n",
    "except Error as e:\n",
    "    print(\"Error while connecting\",e)\n",
    "    \n",
    "finally:\n",
    "    if con.is_connected():\n",
    "        cur.close()\n",
    "        con.close()\n",
    "        print(\"Connection is closed...\")"
   ]
  },
  {
   "cell_type": "markdown",
   "id": "dfd1a629",
   "metadata": {},
   "source": [
    "## Create MySQL Database from Python"
   ]
  },
  {
   "cell_type": "code",
   "execution_count": 8,
   "id": "677184e0",
   "metadata": {},
   "outputs": [
    {
     "name": "stdout",
     "output_type": "stream",
     "text": [
      "Connected to MySQL Server, version is 8.0.25\n",
      "Database created successfully\n",
      "Connection is closed...\n"
     ]
    }
   ],
   "source": [
    "import mysql.connector\n",
    "from mysql.connector import Error  # this is for knowing the error if occured in connectivity\n",
    "\n",
    "try:\n",
    "    con = mysql.connector.connect(host = \"localhost\", user = \"root\", password = \"root\")\n",
    "    \n",
    "    if con.is_connected():\n",
    "        db_info = con.get_server_info()\n",
    "        print(\"Connected to MySQL Server, version is\",db_info)\n",
    "        cur = con.cursor()\n",
    "        cur.execute(\"CREATE DATABASE mywork;\")\n",
    "        print(\"Database created successfully\")\n",
    "\n",
    "except Error as e:\n",
    "    print(\"Error while connecting\",e)\n",
    "    \n",
    "finally:\n",
    "    if con.is_connected():\n",
    "        cur.close()\n",
    "        con.close()\n",
    "        print(\"Connection is closed...\")"
   ]
  },
  {
   "cell_type": "markdown",
   "id": "7bfef003",
   "metadata": {},
   "source": [
    "## Create MySQL Table from Python"
   ]
  },
  {
   "cell_type": "code",
   "execution_count": 10,
   "id": "cc4c6b32",
   "metadata": {
    "scrolled": true
   },
   "outputs": [
    {
     "name": "stdout",
     "output_type": "stream",
     "text": [
      "Table created successfully\n",
      "MySQL Connection is Closed\n"
     ]
    }
   ],
   "source": [
    "import mysql.connector\n",
    "from mysql.connector import Error\n",
    "\n",
    "try:\n",
    "    con = mysql.connector.connect(host = \"localhost\", database = \"mywork\", user = \"root\", password = \"root\")\n",
    "    cur = con.cursor()\n",
    "    \n",
    "    create_table = \"\"\"CREATE TABLE mytbl(\n",
    "    ID int(10) NOT NULL,\n",
    "    name varchar(250) NOT NULL,\n",
    "    DOB Date NOT NULL,\n",
    "    age int(10) NOT NULL,\n",
    "    PRIMARY KEY(id))\"\"\"\n",
    "    \n",
    "    cur.execute(create_table)\n",
    "    print(\"Table created successfully\")\n",
    "\n",
    "except Error as e:\n",
    "    print(\"Failed to create Table\",e)\n",
    "\n",
    "finally:\n",
    "    if con.is_connected():\n",
    "        cur.close()\n",
    "        con.close()\n",
    "        print(\"MySQL Connection is Closed\")"
   ]
  },
  {
   "cell_type": "markdown",
   "id": "deda6dcd",
   "metadata": {},
   "source": [
    "## Inserting Data Into Database"
   ]
  },
  {
   "cell_type": "code",
   "execution_count": 11,
   "id": "3707aa9f",
   "metadata": {},
   "outputs": [
    {
     "name": "stdout",
     "output_type": "stream",
     "text": [
      "1 Record inserted successfully\n",
      "MySQL Server Connection is Closed\n"
     ]
    }
   ],
   "source": [
    "import mysql.connector\n",
    "from mysql.connector import Error\n",
    "\n",
    "try:\n",
    "    con = mysql.connector.connect(host = 'localhost', database = 'mywork', user = 'root', password = 'root')\n",
    "    cur = con.cursor()\n",
    "    \n",
    "    insert_data = \"\"\"INSERT INTO mytbl(ID, name, DOB, age)\n",
    "    VALUES(101, \"Abhay Kumar\", '1990-09-05', 31)\n",
    "    \"\"\"\n",
    "    cur.execute(insert_data)\n",
    "    con.commit()\n",
    "    print(cur.rowcount,\"Record inserted successfully\")\n",
    "    \n",
    "except Error as e:\n",
    "    print(\"Failed to Insert data\",e)\n",
    "    \n",
    "finally:\n",
    "    if con.is_connected():\n",
    "        cur.close()\n",
    "        con.close()\n",
    "        print(\"MySQL Server Connection is Closed\")"
   ]
  },
  {
   "cell_type": "markdown",
   "id": "5fc32a48",
   "metadata": {},
   "source": [
    "## Insert Multiple Values In Database"
   ]
  },
  {
   "cell_type": "code",
   "execution_count": 12,
   "id": "0870e187",
   "metadata": {},
   "outputs": [
    {
     "name": "stdout",
     "output_type": "stream",
     "text": [
      "3 Data inserted successfully\n",
      "MySQL conncetion is closed\n"
     ]
    }
   ],
   "source": [
    "import mysql.connector\n",
    "from mysql.connector import Error\n",
    "\n",
    "try:\n",
    "    con = mysql.connector.connect(host = 'localhost', database = 'mywork', user = 'root', password = 'root')\n",
    "    cur = con.cursor()\n",
    "    \n",
    "    insert_query = \"\"\"INSERT INTO mytbl(ID, name, DOB, age)\n",
    "    VALUES(%s, %s, %s, %s)\"\"\"\n",
    "    \n",
    "    insert_data = [\n",
    "        (102, \"Devesh Mehta\", \"1999-03-06\", 22),\n",
    "        (103, \"Rakesh Pal\", \"1998-05-02\", 23),\n",
    "        (104, \"Umesh Yadav\", \"1997-12-21\",24)\n",
    "    ]\n",
    "    \n",
    "    cur.executemany(insert_query, insert_data)\n",
    "    con.commit()\n",
    "    print(cur.rowcount,\"Data inserted successfully\")\n",
    "    \n",
    "except Error as e:\n",
    "    print(\"Failed to insert\",e)\n",
    "    \n",
    "finally:\n",
    "    if con.is_connected():\n",
    "        cur.close()\n",
    "        con.close()\n",
    "        print(\"MySQL conncetion is closed\")"
   ]
  },
  {
   "cell_type": "markdown",
   "id": "1a6ac4aa",
   "metadata": {},
   "source": [
    "## Fetch Data From Database In Python"
   ]
  },
  {
   "cell_type": "markdown",
   "id": "a6b6836d",
   "metadata": {},
   "source": [
    "### fetchall()"
   ]
  },
  {
   "cell_type": "code",
   "execution_count": 13,
   "id": "c5333971",
   "metadata": {},
   "outputs": [
    {
     "name": "stdout",
     "output_type": "stream",
     "text": [
      "Total number of record is: 4\n",
      "-------------\n",
      "\n",
      "ID : 101\n",
      "Name : Abhay Kumar\n",
      "DOB : 1990-09-05\n",
      "Age : 31\n",
      "\n",
      "ID : 102\n",
      "Name : Devesh Mehta\n",
      "DOB : 1999-03-06\n",
      "Age : 22\n",
      "\n",
      "ID : 103\n",
      "Name : Rakesh Pal\n",
      "DOB : 1998-05-02\n",
      "Age : 23\n",
      "\n",
      "ID : 104\n",
      "Name : Umesh Yadav\n",
      "DOB : 1997-12-21\n",
      "Age : 24\n",
      "\n",
      "MySQL Connection Closed\n"
     ]
    }
   ],
   "source": [
    "import mysql.connector\n",
    "from mysql.connector import Error\n",
    "\n",
    "try:\n",
    "    con = mysql.connector.connect(host = 'localhost',\n",
    "                                 database = 'mywork',\n",
    "                                 user = 'root',\n",
    "                                 password = 'root')\n",
    "    \n",
    "    cur = con.cursor()\n",
    "    query = \"SELECT * FROM mytbl\"\n",
    "    cur.execute(query)\n",
    "    res = cur.fetchall()\n",
    "    print(\"Total number of record is:\",cur.rowcount)\n",
    "    print(\"-------------\\n\")\n",
    "    \n",
    "    for data in res:\n",
    "        print(\"ID :\",data[0])\n",
    "        print(\"Name :\",data[1])\n",
    "        print(\"DOB :\",data[2])\n",
    "        print(\"Age :\",data[3])\n",
    "        print(\"\")\n",
    "    \n",
    "except Error as e:\n",
    "    print(\"Error while fetching data\",e)\n",
    "    \n",
    "finally:\n",
    "    if con.is_connected():\n",
    "        cur.close()\n",
    "        con.close()\n",
    "        print(\"MySQL Connection Closed\")"
   ]
  },
  {
   "cell_type": "markdown",
   "id": "d88fe938",
   "metadata": {},
   "source": [
    "### fetchone()"
   ]
  },
  {
   "cell_type": "code",
   "execution_count": 14,
   "id": "aaee3665",
   "metadata": {},
   "outputs": [
    {
     "name": "stdout",
     "output_type": "stream",
     "text": [
      "Toal number of records : 1\n",
      "----------\n",
      "\n",
      "Table data is: (101, 'Abhay Kumar', datetime.date(1990, 9, 5), 31)\n",
      "----------\n",
      "\n",
      "ID : 101\n",
      "Name : Abhay Kumar\n",
      "DOB : 1990-09-05\n",
      "Age : 31\n"
     ]
    }
   ],
   "source": [
    "import mysql.connector\n",
    "from mysql.connector import Error\n",
    "\n",
    "try:\n",
    "    con = mysql.connector.connect(host = 'localhost',\n",
    "                                 database = 'mywork',\n",
    "                                 user = 'root',\n",
    "                                 password = 'root')\n",
    "    cur = con.cursor()\n",
    "    query =\"SELECT * FROM mytbl\"\n",
    "    cur.execute(query)\n",
    "    res = cur.fetchone()\n",
    "    print(\"Toal number of records :\",cur.rowcount)\n",
    "    print(\"----------\\n\")\n",
    "    print(\"Table data is:\",res)\n",
    "    print(\"----------\\n\")\n",
    "    print(\"ID :\",res[0])\n",
    "    print(\"Name :\",res[1])\n",
    "    print(\"DOB :\",res[2])\n",
    "    print(\"Age :\",res[3])\n",
    "        \n",
    "except Error as e:\n",
    "    print(\"Error while fetching data\",e)\n",
    "    \n",
    "finally:\n",
    "    if con.is_connected():\n",
    "        cur.close()\n",
    "        con.close()\n",
    "        print(\"MySQL Conncetion Closed\")"
   ]
  },
  {
   "cell_type": "markdown",
   "id": "3168624c",
   "metadata": {},
   "source": [
    "### fetchmany()"
   ]
  },
  {
   "cell_type": "code",
   "execution_count": 15,
   "id": "1b639279",
   "metadata": {},
   "outputs": [
    {
     "name": "stdout",
     "output_type": "stream",
     "text": [
      "Total number of records : 3\n",
      "\n",
      "---------------\n",
      "\n",
      "(101, 'Abhay Kumar', datetime.date(1990, 9, 5), 31)\n",
      "ID : 101\n",
      "Name : Abhay Kumar\n",
      "DOB : 1990-09-05\n",
      "Age : 31\n",
      "\n",
      "----------\n",
      "\n",
      "(102, 'Devesh Mehta', datetime.date(1999, 3, 6), 22)\n",
      "ID : 102\n",
      "Name : Devesh Mehta\n",
      "DOB : 1999-03-06\n",
      "Age : 22\n",
      "\n",
      "----------\n",
      "\n",
      "(103, 'Rakesh Pal', datetime.date(1998, 5, 2), 23)\n",
      "ID : 103\n",
      "Name : Rakesh Pal\n",
      "DOB : 1998-05-02\n",
      "Age : 23\n",
      "\n",
      "----------\n",
      "\n"
     ]
    }
   ],
   "source": [
    "import mysql.connector\n",
    "from mysql.connector import Error\n",
    "\n",
    "try:\n",
    "    con = mysql.connector.connect(host = 'localhost',\n",
    "                                 database = 'mywork',\n",
    "                                 user = 'root',\n",
    "                                 password = 'root')\n",
    "    cur = con.cursor()\n",
    "    query = \"SELECT * FROM mytbl\"\n",
    "    cur.execute(query)\n",
    "    res = cur.fetchmany(3)\n",
    "    print(\"Total number of records :\",cur.rowcount)\n",
    "    print(\"\\n---------------\\n\")\n",
    "    \n",
    "    for data in res:\n",
    "        print(data)\n",
    "        print(\"ID :\",data[0])\n",
    "        print(\"Name :\",data[1])\n",
    "        print(\"DOB :\",data[2])\n",
    "        print(\"Age :\",data[3])\n",
    "        print(\"\\n----------\\n\")\n",
    "        \n",
    "except Error as e:\n",
    "    print(\"Error while fetching data\",e)\n",
    "\n",
    "finally:\n",
    "    if con.is_connected():\n",
    "        cur.close()\n",
    "        con.close()\n",
    "        print(\"MySQL Connection Closed\")"
   ]
  },
  {
   "cell_type": "markdown",
   "id": "c525cb46",
   "metadata": {},
   "source": [
    "## Update Data In Database In Python"
   ]
  },
  {
   "cell_type": "code",
   "execution_count": 16,
   "id": "c8f8683e",
   "metadata": {},
   "outputs": [
    {
     "name": "stdout",
     "output_type": "stream",
     "text": [
      "(101, 'Abhay Kumar', datetime.date(1990, 9, 5), 31)\n",
      "\n",
      "------------\n",
      "\n",
      "Record updated successfully\n",
      "\n",
      "------------\n",
      "\n",
      "(101, 'Abhay Kumar', datetime.date(1990, 9, 5), 30)\n",
      "\n",
      "------------\n",
      "\n",
      "MySQL Connection Closed\n"
     ]
    }
   ],
   "source": [
    "import mysql.connector\n",
    "from mysql.connector import Error\n",
    "\n",
    "try:\n",
    "    con = mysql.connector.connect(host = 'localhost',\n",
    "                                  database = 'mywork',\n",
    "                                  user = 'root',\n",
    "                                  password = 'root')\n",
    "    cur = con.cursor()\n",
    "    select_query = \"SELECT * FROM mytbl WHERE ID = 101\"\n",
    "    cur.execute(select_query)\n",
    "    res1 = cur.fetchall()\n",
    "    for data in res1:\n",
    "        print(data)\n",
    "    print(\"\\n------------\\n\")\n",
    "    \n",
    "    update_query = \"UPDATE mytbl SET age = 30 WHERE ID = 101\"\n",
    "    cur.execute(update_query)\n",
    "    con.commit()\n",
    "    print(\"Record updated successfully\")\n",
    "    \n",
    "    print(\"\\n------------\\n\")\n",
    "    cur.execute(select_query)\n",
    "    res2 = cur.fetchall()\n",
    "    for rec in res2:\n",
    "        print(rec)\n",
    "    print(\"\\n------------\\n\")\n",
    "\n",
    "except Error as e:\n",
    "    print(\"Error while updating record\",e)\n",
    "\n",
    "finally:\n",
    "    if con.is_connected():\n",
    "        cur.close()\n",
    "        con.close()\n",
    "        print(\"MySQL Connection Closed\")"
   ]
  },
  {
   "cell_type": "markdown",
   "id": "032f3223",
   "metadata": {},
   "source": [
    "## Delete Data In Database In Python"
   ]
  },
  {
   "cell_type": "code",
   "execution_count": 17,
   "id": "7325a1bc",
   "metadata": {},
   "outputs": [
    {
     "name": "stdout",
     "output_type": "stream",
     "text": [
      "Total records 4\n",
      "(101, 'Abhay Kumar', datetime.date(1990, 9, 5), 30)\n",
      "(102, 'Devesh Mehta', datetime.date(1999, 3, 6), 22)\n",
      "(103, 'Rakesh Pal', datetime.date(1998, 5, 2), 23)\n",
      "(104, 'Umesh Yadav', datetime.date(1997, 12, 21), 24)\n",
      "\n",
      "----------\n",
      "\n",
      "Number of records deleted 1\n",
      "(101, 'Abhay Kumar', datetime.date(1990, 9, 5), 30)\n",
      "(102, 'Devesh Mehta', datetime.date(1999, 3, 6), 22)\n",
      "(104, 'Umesh Yadav', datetime.date(1997, 12, 21), 24)\n",
      "MySQL Connection Closed\n"
     ]
    }
   ],
   "source": [
    "import mysql.connector\n",
    "from mysql.connector import Error\n",
    "\n",
    "try:\n",
    "    con = mysql.connector.connect(host = \"localhost\", database = 'mywork', user = 'root', password = \"root\")\n",
    "    cur = con.cursor()\n",
    "    select_query = \"SELECT * FROM mytbl\"\n",
    "    cur.execute(select_query)\n",
    "    res1 = cur.fetchall()\n",
    "    print(\"Total records\",cur.rowcount)\n",
    "    for data in res1:\n",
    "        print(data)\n",
    "    print(\"\\n----------\\n\")\n",
    "    \n",
    "    delete_query = \"DELETE FROM mytbl WHERE name = 'Rakesh Pal'\"\n",
    "    cur.execute(delete_query)\n",
    "    con.commit()\n",
    "    print(\"Number of records deleted\",cur.rowcount)\n",
    "    \n",
    "    cur.execute(select_query)\n",
    "    res2 = cur.fetchall()\n",
    "    for data in res2:\n",
    "        print(data)\n",
    "        \n",
    "except Error as e:\n",
    "    print(\"Error while deleting\",e)\n",
    "    \n",
    "finally:\n",
    "    if con.is_connected():\n",
    "        cur.close()\n",
    "        con.close()\n",
    "        print(\"MySQL Connection Closed\")"
   ]
  },
  {
   "cell_type": "code",
   "execution_count": null,
   "id": "77e62b60",
   "metadata": {},
   "outputs": [],
   "source": []
  }
 ],
 "metadata": {
  "kernelspec": {
   "display_name": "Python 3",
   "language": "python",
   "name": "python3"
  }
 },
 "nbformat": 4,
 "nbformat_minor": 5
}
