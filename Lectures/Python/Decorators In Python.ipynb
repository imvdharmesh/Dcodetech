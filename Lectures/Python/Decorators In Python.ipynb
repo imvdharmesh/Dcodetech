{
 "cells": [
  {
   "cell_type": "raw",
   "metadata": {},
   "source": [
    "Date - 16/05/2021  09:30 AM to 11:30 AM"
   ]
  },
  {
   "cell_type": "markdown",
   "metadata": {},
   "source": [
    "## Decorators"
   ]
  },
  {
   "cell_type": "code",
   "execution_count": 4,
   "metadata": {},
   "outputs": [],
   "source": [
    "def summ(fun):\n",
    "    a = 9\n",
    "    b = 6\n",
    "    print(a+b)\n",
    "    fun()"
   ]
  },
  {
   "cell_type": "code",
   "execution_count": 7,
   "metadata": {},
   "outputs": [
    {
     "name": "stdout",
     "output_type": "stream",
     "text": [
      "15\n",
      "2\n"
     ]
    }
   ],
   "source": [
    "@summ\n",
    "def subb():\n",
    "    a = 9\n",
    "    b = 7\n",
    "    print(a-b)"
   ]
  },
  {
   "cell_type": "code",
   "execution_count": 13,
   "metadata": {},
   "outputs": [],
   "source": [
    "def calc(func):\n",
    "    def calc_data(num1, num2):\n",
    "        add = num1 + num2\n",
    "        sub = num1 - num2\n",
    "        mul = num1 * num2\n",
    "        print(\"Addition is\",add)\n",
    "        print(\"Subtraction is\",sub)\n",
    "        print(\"Multiplication is\",mul)\n",
    "        func(num1, num2)\n",
    "    return calc_data\n",
    "\n",
    "@calc\n",
    "def div_calc(n1, n2):\n",
    "    print(\"Division is\",n1/n2)"
   ]
  },
  {
   "cell_type": "code",
   "execution_count": 14,
   "metadata": {},
   "outputs": [
    {
     "name": "stdout",
     "output_type": "stream",
     "text": [
      "Addition is 18\n",
      "Subtraction is 6\n",
      "Multiplication is 72\n",
      "Division is 2.0\n"
     ]
    }
   ],
   "source": [
    "div_calc(12, 6)"
   ]
  },
  {
   "cell_type": "markdown",
   "metadata": {},
   "source": [
    "## Using Decorators In Multiple Arguments"
   ]
  },
  {
   "cell_type": "code",
   "execution_count": 15,
   "metadata": {},
   "outputs": [],
   "source": [
    "def decorator_exp(function):\n",
    "    def wrapper_func(*args, **kwargs):\n",
    "        print(\"Entered Arguments are: {} {}\".format(args[0], args[1]))\n",
    "        function(*args, **kwargs)\n",
    "    return wrapper_func\n",
    "\n",
    "@decorator_exp\n",
    "def cities(c1, c2):\n",
    "    print(\"Cities i like is: {} {}\".format(c1, c2))"
   ]
  },
  {
   "cell_type": "code",
   "execution_count": 16,
   "metadata": {},
   "outputs": [
    {
     "name": "stdout",
     "output_type": "stream",
     "text": [
      "Entered Arguments are: Mumbai Pune\n",
      "Cities i like is: Mumbai Pune\n"
     ]
    }
   ],
   "source": [
    "cities(\"Mumbai\", \"Pune\")"
   ]
  },
  {
   "cell_type": "code",
   "execution_count": null,
   "metadata": {},
   "outputs": [],
   "source": []
  },
  {
   "cell_type": "markdown",
   "metadata": {},
   "source": [
    "## Multiple Decorators"
   ]
  },
  {
   "cell_type": "code",
   "execution_count": 17,
   "metadata": {},
   "outputs": [],
   "source": [
    "def star(func):\n",
    "    def inner(*args,**kwargs):\n",
    "        print(\"*\" * 20)\n",
    "        func(*args,**kwargs)\n",
    "        print(\"*\" * 20)\n",
    "    return inner\n",
    "\n",
    "def percentage(func):\n",
    "    def inner(*args,**kwargs):\n",
    "        print(\"%\" * 20)\n",
    "        func(*args,**kwargs)\n",
    "        print(\"%\" * 20)\n",
    "    return inner\n",
    "\n",
    "@percentage\n",
    "def printer1(msg):\n",
    "    print(msg)\n",
    "\n",
    "@star\n",
    "def printer2(message):\n",
    " print(message)"
   ]
  },
  {
   "cell_type": "code",
   "execution_count": 18,
   "metadata": {},
   "outputs": [
    {
     "name": "stdout",
     "output_type": "stream",
     "text": [
      "********************\n",
      "Hello Python\n",
      "********************\n"
     ]
    }
   ],
   "source": [
    "printer2(\"Hello Python\")"
   ]
  },
  {
   "cell_type": "code",
   "execution_count": 19,
   "metadata": {},
   "outputs": [
    {
     "name": "stdout",
     "output_type": "stream",
     "text": [
      "%%%%%%%%%%%%%%%%%%%%\n",
      "Hello Python\n",
      "%%%%%%%%%%%%%%%%%%%%\n"
     ]
    }
   ],
   "source": [
    "printer1(\"Hello Python\")"
   ]
  },
  {
   "cell_type": "code",
   "execution_count": null,
   "metadata": {},
   "outputs": [],
   "source": []
  },
  {
   "cell_type": "markdown",
   "metadata": {},
   "source": [
    "## Using Multiple Decorators with Multiple functions"
   ]
  },
  {
   "cell_type": "code",
   "execution_count": 23,
   "metadata": {},
   "outputs": [],
   "source": [
    "def decor1(func):\n",
    "    def inner():\n",
    "        res = func()\n",
    "        return res * res\n",
    "    return inner\n",
    "\n",
    "def decor2(func):\n",
    "    def inner():\n",
    "        res = func()\n",
    "        return res*2\n",
    "    return inner"
   ]
  },
  {
   "cell_type": "code",
   "execution_count": 24,
   "metadata": {},
   "outputs": [],
   "source": [
    "@decor1\n",
    "@decor2\n",
    "def number():\n",
    "    return 10"
   ]
  },
  {
   "cell_type": "code",
   "execution_count": 25,
   "metadata": {},
   "outputs": [
    {
     "data": {
      "text/plain": [
       "400"
      ]
     },
     "execution_count": 25,
     "metadata": {},
     "output_type": "execute_result"
    }
   ],
   "source": [
    "number()"
   ]
  },
  {
   "cell_type": "code",
   "execution_count": 29,
   "metadata": {},
   "outputs": [],
   "source": [
    "def d1(func):\n",
    "    def wrap():\n",
    "        print(\"$$$$$$$$$$$$$$$\")\n",
    "        func()\n",
    "        print(\"$$$$$$$$$$$$$$$\")\n",
    "    return wrap\n",
    "\n",
    "def d2(func):\n",
    "    def wrap():\n",
    "        print(\"################\")\n",
    "        func()\n",
    "        print(\"################\")\n",
    "    return wrap"
   ]
  },
  {
   "cell_type": "code",
   "execution_count": 30,
   "metadata": {},
   "outputs": [],
   "source": [
    "@d1\n",
    "@d2\n",
    "def hello():\n",
    "    print(\"Welcome to Python\")"
   ]
  },
  {
   "cell_type": "code",
   "execution_count": 31,
   "metadata": {},
   "outputs": [
    {
     "name": "stdout",
     "output_type": "stream",
     "text": [
      "$$$$$$$$$$$$$$$\n",
      "################\n",
      "Welcome to Python\n",
      "################\n",
      "$$$$$$$$$$$$$$$\n"
     ]
    }
   ],
   "source": [
    "hello()"
   ]
  },
  {
   "cell_type": "code",
   "execution_count": null,
   "metadata": {},
   "outputs": [],
   "source": []
  }
 ],
 "metadata": {
  "kernelspec": {
   "display_name": "Python 3",
   "language": "python",
   "name": "python3"
  },
  "language_info": {
   "codemirror_mode": {
    "name": "ipython",
    "version": 3
   },
   "file_extension": ".py",
   "mimetype": "text/x-python",
   "name": "python",
   "nbconvert_exporter": "python",
   "pygments_lexer": "ipython3",
   "version": "3.8.8"
  }
 },
 "nbformat": 4,
 "nbformat_minor": 4
}
