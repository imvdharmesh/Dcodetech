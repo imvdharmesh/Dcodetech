{
 "cells": [
  {
   "cell_type": "raw",
   "id": "5cee290d",
   "metadata": {},
   "source": [
    "Date - 26/10/2021  11:00 AM to 01:00 PM"
   ]
  },
  {
   "cell_type": "markdown",
   "id": "fd8758c0",
   "metadata": {},
   "source": [
    "## Stop Words:\n",
    "\n",
    "    - Stop words are words which are filtered out before or after processing of the text.\n",
    "    - When applying machine learning to text these words can add a lot of noise. hence we want to remove those irrelevant\n",
    "      words.\n",
    "    - Stop words are usually reffered to the most common words such as \"and\",\"the\",\"a\" in a language, but there is no\n",
    "      single universal list of stop words available.\n",
    "    - The list of stop words can change depending on your application you work on.\n",
    "    - NLTK tool has a predefined list of stopwords that refers to the most common word.\n",
    "    \n",
    "    If you use it in your code for the 1st time you need to download it using the command below.:"
   ]
  },
  {
   "cell_type": "code",
   "execution_count": 1,
   "id": "bcaad429",
   "metadata": {},
   "outputs": [],
   "source": [
    "import nltk"
   ]
  },
  {
   "cell_type": "code",
   "execution_count": 2,
   "id": "1e817ce7",
   "metadata": {},
   "outputs": [
    {
     "name": "stderr",
     "output_type": "stream",
     "text": [
      "[nltk_data] Error loading stopwords: <urlopen error [Errno 11001]\n",
      "[nltk_data]     getaddrinfo failed>\n"
     ]
    },
    {
     "data": {
      "text/plain": [
       "False"
      ]
     },
     "execution_count": 2,
     "metadata": {},
     "output_type": "execute_result"
    }
   ],
   "source": [
    "nltk.download('stopwords')"
   ]
  },
  {
   "cell_type": "code",
   "execution_count": 3,
   "id": "8bbc2234",
   "metadata": {},
   "outputs": [],
   "source": [
    "from nltk.corpus import stopwords"
   ]
  },
  {
   "cell_type": "code",
   "execution_count": 4,
   "id": "df858b15",
   "metadata": {},
   "outputs": [
    {
     "name": "stdout",
     "output_type": "stream",
     "text": [
      "['i', 'me', 'my', 'myself', 'we', 'our', 'ours', 'ourselves', 'you', \"you're\", \"you've\", \"you'll\", \"you'd\", 'your', 'yours', 'yourself', 'yourselves', 'he', 'him', 'his', 'himself', 'she', \"she's\", 'her', 'hers', 'herself', 'it', \"it's\", 'its', 'itself', 'they', 'them', 'their', 'theirs', 'themselves', 'what', 'which', 'who', 'whom', 'this', 'that', \"that'll\", 'these', 'those', 'am', 'is', 'are', 'was', 'were', 'be', 'been', 'being', 'have', 'has', 'had', 'having', 'do', 'does', 'did', 'doing', 'a', 'an', 'the', 'and', 'but', 'if', 'or', 'because', 'as', 'until', 'while', 'of', 'at', 'by', 'for', 'with', 'about', 'against', 'between', 'into', 'through', 'during', 'before', 'after', 'above', 'below', 'to', 'from', 'up', 'down', 'in', 'out', 'on', 'off', 'over', 'under', 'again', 'further', 'then', 'once', 'here', 'there', 'when', 'where', 'why', 'how', 'all', 'any', 'both', 'each', 'few', 'more', 'most', 'other', 'some', 'such', 'no', 'nor', 'not', 'only', 'own', 'same', 'so', 'than', 'too', 'very', 's', 't', 'can', 'will', 'just', 'don', \"don't\", 'should', \"should've\", 'now', 'd', 'll', 'm', 'o', 're', 've', 'y', 'ain', 'aren', \"aren't\", 'couldn', \"couldn't\", 'didn', \"didn't\", 'doesn', \"doesn't\", 'hadn', \"hadn't\", 'hasn', \"hasn't\", 'haven', \"haven't\", 'isn', \"isn't\", 'ma', 'mightn', \"mightn't\", 'mustn', \"mustn't\", 'needn', \"needn't\", 'shan', \"shan't\", 'shouldn', \"shouldn't\", 'wasn', \"wasn't\", 'weren', \"weren't\", 'won', \"won't\", 'wouldn', \"wouldn't\"]\n"
     ]
    }
   ],
   "source": [
    "print(stopwords.words('english'))"
   ]
  },
  {
   "cell_type": "code",
   "execution_count": 5,
   "id": "78578040",
   "metadata": {},
   "outputs": [],
   "source": [
    "stop_words = set(stopwords.words('english'))"
   ]
  },
  {
   "cell_type": "code",
   "execution_count": 6,
   "id": "2d804b12",
   "metadata": {},
   "outputs": [],
   "source": [
    "sentence = \"Cricket is one of the most common games followed in india\""
   ]
  },
  {
   "cell_type": "code",
   "execution_count": 7,
   "id": "31c67163",
   "metadata": {},
   "outputs": [],
   "source": [
    "words = sentence.split()"
   ]
  },
  {
   "cell_type": "code",
   "execution_count": 8,
   "id": "287ca995",
   "metadata": {},
   "outputs": [],
   "source": [
    "cleaned_data = [word for word in words if word not in stop_words]"
   ]
  },
  {
   "cell_type": "code",
   "execution_count": 9,
   "id": "2f9bdc28",
   "metadata": {},
   "outputs": [
    {
     "data": {
      "text/plain": [
       "['Cricket', 'one', 'common', 'games', 'followed', 'india']"
      ]
     },
     "execution_count": 9,
     "metadata": {},
     "output_type": "execute_result"
    }
   ],
   "source": [
    "cleaned_data"
   ]
  },
  {
   "cell_type": "code",
   "execution_count": 10,
   "id": "5fb121e4",
   "metadata": {},
   "outputs": [
    {
     "data": {
      "text/plain": [
       "'Cricket is one of the most common games followed in india'"
      ]
     },
     "execution_count": 10,
     "metadata": {},
     "output_type": "execute_result"
    }
   ],
   "source": [
    "sentence"
   ]
  },
  {
   "cell_type": "markdown",
   "id": "21064739",
   "metadata": {},
   "source": [
    "## Bag of Words:\n",
    "\n",
    "    - Machine Learning algorithm can not work with raw text directly, we need to convert the text into vector of numbers.\n",
    "    - Thus particular process is called as feature extraction.\n",
    "    - The bag of words model is a popular and simple feature extraction technique used when we work with text.\n",
    "    - It describes the occurnace of each word with in a document.\n",
    "    \n",
    "    Steps to use :\n",
    "        1) Design the vocabulary of known words (called as tokens)\n",
    "        2) Choose a measure of the presence of known words.\n",
    "    \n",
    "    - Any Information about the order or structure of words is discarded. Thats why it is called as bag of words.\n",
    "    - The model is trying to understand whether a known word occur in a document, but we don't know where is that word in\n",
    "      the document."
   ]
  },
  {
   "cell_type": "code",
   "execution_count": 11,
   "id": "a2f383b6",
   "metadata": {},
   "outputs": [
    {
     "name": "stdout",
     "output_type": "stream",
     "text": [
      "['i am a python developer,', \"i like this movie, it's funny\", 'this was awesome! i like it', 'nice one i love it.']\n"
     ]
    }
   ],
   "source": [
    "with open('data.txt','r') as data:\n",
    "    raw_data = data.read().splitlines()\n",
    "print(raw_data)"
   ]
  },
  {
   "cell_type": "markdown",
   "id": "0f011cee",
   "metadata": {},
   "source": [
    "### Design the Vocabulary\n",
    "\n",
    "    To get all the unique words from the four loaded sentence ignoring the case, punctuation and one character token."
   ]
  },
  {
   "cell_type": "code",
   "execution_count": 12,
   "id": "d75a6b2e",
   "metadata": {},
   "outputs": [],
   "source": [
    "import pandas as pd\n",
    "from sklearn.feature_extraction.text import CountVectorizer"
   ]
  },
  {
   "cell_type": "code",
   "execution_count": 13,
   "id": "642cc773",
   "metadata": {},
   "outputs": [],
   "source": [
    "CV = CountVectorizer()"
   ]
  },
  {
   "cell_type": "code",
   "execution_count": 14,
   "id": "78120531",
   "metadata": {},
   "outputs": [],
   "source": [
    "# to create a bag of vector model\n",
    "\n",
    "bag_of_words = CV.fit_transform(raw_data)"
   ]
  },
  {
   "cell_type": "code",
   "execution_count": 15,
   "id": "f92c9f14",
   "metadata": {},
   "outputs": [],
   "source": [
    "# show bag of words model\n",
    "\n",
    "feature_name = CV.get_feature_names()"
   ]
  },
  {
   "cell_type": "code",
   "execution_count": 16,
   "id": "6827208b",
   "metadata": {},
   "outputs": [],
   "source": [
    "df = pd.DataFrame(bag_of_words.toarray(), columns=feature_name)"
   ]
  },
  {
   "cell_type": "code",
   "execution_count": 17,
   "id": "12337136",
   "metadata": {},
   "outputs": [
    {
     "data": {
      "text/html": [
       "<div>\n",
       "<style scoped>\n",
       "    .dataframe tbody tr th:only-of-type {\n",
       "        vertical-align: middle;\n",
       "    }\n",
       "\n",
       "    .dataframe tbody tr th {\n",
       "        vertical-align: top;\n",
       "    }\n",
       "\n",
       "    .dataframe thead th {\n",
       "        text-align: right;\n",
       "    }\n",
       "</style>\n",
       "<table border=\"1\" class=\"dataframe\">\n",
       "  <thead>\n",
       "    <tr style=\"text-align: right;\">\n",
       "      <th></th>\n",
       "      <th>am</th>\n",
       "      <th>awesome</th>\n",
       "      <th>developer</th>\n",
       "      <th>funny</th>\n",
       "      <th>it</th>\n",
       "      <th>like</th>\n",
       "      <th>love</th>\n",
       "      <th>movie</th>\n",
       "      <th>nice</th>\n",
       "      <th>one</th>\n",
       "      <th>python</th>\n",
       "      <th>this</th>\n",
       "      <th>was</th>\n",
       "    </tr>\n",
       "  </thead>\n",
       "  <tbody>\n",
       "    <tr>\n",
       "      <th>0</th>\n",
       "      <td>1</td>\n",
       "      <td>0</td>\n",
       "      <td>1</td>\n",
       "      <td>0</td>\n",
       "      <td>0</td>\n",
       "      <td>0</td>\n",
       "      <td>0</td>\n",
       "      <td>0</td>\n",
       "      <td>0</td>\n",
       "      <td>0</td>\n",
       "      <td>1</td>\n",
       "      <td>0</td>\n",
       "      <td>0</td>\n",
       "    </tr>\n",
       "    <tr>\n",
       "      <th>1</th>\n",
       "      <td>0</td>\n",
       "      <td>0</td>\n",
       "      <td>0</td>\n",
       "      <td>1</td>\n",
       "      <td>1</td>\n",
       "      <td>1</td>\n",
       "      <td>0</td>\n",
       "      <td>1</td>\n",
       "      <td>0</td>\n",
       "      <td>0</td>\n",
       "      <td>0</td>\n",
       "      <td>1</td>\n",
       "      <td>0</td>\n",
       "    </tr>\n",
       "    <tr>\n",
       "      <th>2</th>\n",
       "      <td>0</td>\n",
       "      <td>1</td>\n",
       "      <td>0</td>\n",
       "      <td>0</td>\n",
       "      <td>1</td>\n",
       "      <td>1</td>\n",
       "      <td>0</td>\n",
       "      <td>0</td>\n",
       "      <td>0</td>\n",
       "      <td>0</td>\n",
       "      <td>0</td>\n",
       "      <td>1</td>\n",
       "      <td>1</td>\n",
       "    </tr>\n",
       "    <tr>\n",
       "      <th>3</th>\n",
       "      <td>0</td>\n",
       "      <td>0</td>\n",
       "      <td>0</td>\n",
       "      <td>0</td>\n",
       "      <td>1</td>\n",
       "      <td>0</td>\n",
       "      <td>1</td>\n",
       "      <td>0</td>\n",
       "      <td>1</td>\n",
       "      <td>1</td>\n",
       "      <td>0</td>\n",
       "      <td>0</td>\n",
       "      <td>0</td>\n",
       "    </tr>\n",
       "  </tbody>\n",
       "</table>\n",
       "</div>"
      ],
      "text/plain": [
       "   am  awesome  developer  funny  it  like  love  movie  nice  one  python  \\\n",
       "0   1        0          1      0   0     0     0      0     0    0       1   \n",
       "1   0        0          0      1   1     1     0      1     0    0       0   \n",
       "2   0        1          0      0   1     1     0      0     0    0       0   \n",
       "3   0        0          0      0   1     0     1      0     1    1       0   \n",
       "\n",
       "   this  was  \n",
       "0     0    0  \n",
       "1     1    0  \n",
       "2     1    1  \n",
       "3     0    0  "
      ]
     },
     "execution_count": 17,
     "metadata": {},
     "output_type": "execute_result"
    }
   ],
   "source": [
    "df"
   ]
  },
  {
   "cell_type": "code",
   "execution_count": 18,
   "id": "2beef6f8",
   "metadata": {},
   "outputs": [
    {
     "name": "stdout",
     "output_type": "stream",
     "text": [
      "['i am a python developer,', \"i like this movie, it's funny\", 'this was awesome! i like it', 'nice one i love it.']\n"
     ]
    }
   ],
   "source": [
    "print(raw_data)"
   ]
  },
  {
   "cell_type": "code",
   "execution_count": 19,
   "id": "ae669c8a",
   "metadata": {},
   "outputs": [
    {
     "data": {
      "text/plain": [
       "am           1\n",
       "awesome      0\n",
       "developer    1\n",
       "funny        0\n",
       "it           0\n",
       "like         0\n",
       "love         0\n",
       "movie        0\n",
       "nice         0\n",
       "one          0\n",
       "python       1\n",
       "this         0\n",
       "was          0\n",
       "Name: 0, dtype: int64"
      ]
     },
     "execution_count": 19,
     "metadata": {},
     "output_type": "execute_result"
    }
   ],
   "source": [
    "df.iloc[0]"
   ]
  },
  {
   "cell_type": "markdown",
   "id": "d2302b79",
   "metadata": {},
   "source": [
    "## Term Frenquency - Inverse Document Frenquency:\n",
    "\n",
    "    - One of the problem with scoring word frequency is that the most frequent word in the document start to have the\n",
    "      highest score.\n",
    "    - These frequent words may or may not contain much information to the model compared with some other domain related\n",
    "      specific words.\n",
    "    - One of the technique to fix the problem is to penalize words that are frequent across all the document.\n",
    "    - This approach is called as TF-IDF.\n",
    "    - TF-IDF (also called as \"Term Frequency - Inverse Document Frequency\") is a statistical measure, which is used to\n",
    "      evaluate the importance of a word in a document.\n",
    "    - The TF-IDF scoring value increases proportionaly to the number of time a word appear in a document.\n",
    "\n",
    "**Formula:**\n",
    "\n",
    "    Term Frequency TF(t,d) = number of times term 't' appears in document 'd' / total number of words in document 'd'\n",
    "\n",
    "    Inverse Document Frequency IDF(t) = log(total number of document / number of document with term in it)\n",
    "                                     \n",
    "                                      = log(N/df + 1)\n",
    "\n",
    "    TFIDF = TF(t,d) x IDF(t)\n",
    "    \n",
    "    tf-idf(t,d) = tf(t,d) x log(N/(df + 1))"
   ]
  },
  {
   "cell_type": "code",
   "execution_count": 20,
   "id": "6b11591f",
   "metadata": {},
   "outputs": [],
   "source": [
    "from sklearn.feature_extraction.text import TfidfVectorizer"
   ]
  },
  {
   "cell_type": "code",
   "execution_count": 21,
   "id": "e0bfba28",
   "metadata": {},
   "outputs": [],
   "source": [
    "tfid = TfidfVectorizer()"
   ]
  },
  {
   "cell_type": "code",
   "execution_count": 22,
   "id": "993ba3bf",
   "metadata": {},
   "outputs": [],
   "source": [
    "values = tfid.fit_transform(raw_data)"
   ]
  },
  {
   "cell_type": "code",
   "execution_count": 23,
   "id": "364c853b",
   "metadata": {},
   "outputs": [],
   "source": [
    "feature_name = tfid.get_feature_names()"
   ]
  },
  {
   "cell_type": "code",
   "execution_count": 24,
   "id": "bf8ce37a",
   "metadata": {},
   "outputs": [],
   "source": [
    "df = pd.DataFrame(values.toarray(), columns=feature_name)"
   ]
  },
  {
   "cell_type": "code",
   "execution_count": 25,
   "id": "fedf0af1",
   "metadata": {},
   "outputs": [
    {
     "data": {
      "text/html": [
       "<div>\n",
       "<style scoped>\n",
       "    .dataframe tbody tr th:only-of-type {\n",
       "        vertical-align: middle;\n",
       "    }\n",
       "\n",
       "    .dataframe tbody tr th {\n",
       "        vertical-align: top;\n",
       "    }\n",
       "\n",
       "    .dataframe thead th {\n",
       "        text-align: right;\n",
       "    }\n",
       "</style>\n",
       "<table border=\"1\" class=\"dataframe\">\n",
       "  <thead>\n",
       "    <tr style=\"text-align: right;\">\n",
       "      <th></th>\n",
       "      <th>am</th>\n",
       "      <th>awesome</th>\n",
       "      <th>developer</th>\n",
       "      <th>funny</th>\n",
       "      <th>it</th>\n",
       "      <th>like</th>\n",
       "      <th>love</th>\n",
       "      <th>movie</th>\n",
       "      <th>nice</th>\n",
       "      <th>one</th>\n",
       "      <th>python</th>\n",
       "      <th>this</th>\n",
       "      <th>was</th>\n",
       "    </tr>\n",
       "  </thead>\n",
       "  <tbody>\n",
       "    <tr>\n",
       "      <th>0</th>\n",
       "      <td>0.57735</td>\n",
       "      <td>0.000000</td>\n",
       "      <td>0.57735</td>\n",
       "      <td>0.000000</td>\n",
       "      <td>0.000000</td>\n",
       "      <td>0.00000</td>\n",
       "      <td>0.000000</td>\n",
       "      <td>0.000000</td>\n",
       "      <td>0.000000</td>\n",
       "      <td>0.000000</td>\n",
       "      <td>0.57735</td>\n",
       "      <td>0.00000</td>\n",
       "      <td>0.000000</td>\n",
       "    </tr>\n",
       "    <tr>\n",
       "      <th>1</th>\n",
       "      <td>0.00000</td>\n",
       "      <td>0.000000</td>\n",
       "      <td>0.00000</td>\n",
       "      <td>0.523381</td>\n",
       "      <td>0.334067</td>\n",
       "      <td>0.41264</td>\n",
       "      <td>0.000000</td>\n",
       "      <td>0.523381</td>\n",
       "      <td>0.000000</td>\n",
       "      <td>0.000000</td>\n",
       "      <td>0.00000</td>\n",
       "      <td>0.41264</td>\n",
       "      <td>0.000000</td>\n",
       "    </tr>\n",
       "    <tr>\n",
       "      <th>2</th>\n",
       "      <td>0.00000</td>\n",
       "      <td>0.523381</td>\n",
       "      <td>0.00000</td>\n",
       "      <td>0.000000</td>\n",
       "      <td>0.334067</td>\n",
       "      <td>0.41264</td>\n",
       "      <td>0.000000</td>\n",
       "      <td>0.000000</td>\n",
       "      <td>0.000000</td>\n",
       "      <td>0.000000</td>\n",
       "      <td>0.00000</td>\n",
       "      <td>0.41264</td>\n",
       "      <td>0.523381</td>\n",
       "    </tr>\n",
       "    <tr>\n",
       "      <th>3</th>\n",
       "      <td>0.00000</td>\n",
       "      <td>0.000000</td>\n",
       "      <td>0.00000</td>\n",
       "      <td>0.000000</td>\n",
       "      <td>0.345783</td>\n",
       "      <td>0.00000</td>\n",
       "      <td>0.541736</td>\n",
       "      <td>0.000000</td>\n",
       "      <td>0.541736</td>\n",
       "      <td>0.541736</td>\n",
       "      <td>0.00000</td>\n",
       "      <td>0.00000</td>\n",
       "      <td>0.000000</td>\n",
       "    </tr>\n",
       "  </tbody>\n",
       "</table>\n",
       "</div>"
      ],
      "text/plain": [
       "        am   awesome  developer     funny        it     like      love  \\\n",
       "0  0.57735  0.000000    0.57735  0.000000  0.000000  0.00000  0.000000   \n",
       "1  0.00000  0.000000    0.00000  0.523381  0.334067  0.41264  0.000000   \n",
       "2  0.00000  0.523381    0.00000  0.000000  0.334067  0.41264  0.000000   \n",
       "3  0.00000  0.000000    0.00000  0.000000  0.345783  0.00000  0.541736   \n",
       "\n",
       "      movie      nice       one   python     this       was  \n",
       "0  0.000000  0.000000  0.000000  0.57735  0.00000  0.000000  \n",
       "1  0.523381  0.000000  0.000000  0.00000  0.41264  0.000000  \n",
       "2  0.000000  0.000000  0.000000  0.00000  0.41264  0.523381  \n",
       "3  0.000000  0.541736  0.541736  0.00000  0.00000  0.000000  "
      ]
     },
     "execution_count": 25,
     "metadata": {},
     "output_type": "execute_result"
    }
   ],
   "source": [
    "df"
   ]
  },
  {
   "cell_type": "code",
   "execution_count": 26,
   "id": "1a9bea4b",
   "metadata": {},
   "outputs": [
    {
     "data": {
      "text/plain": [
       "['i am a python developer,',\n",
       " \"i like this movie, it's funny\",\n",
       " 'this was awesome! i like it',\n",
       " 'nice one i love it.']"
      ]
     },
     "execution_count": 26,
     "metadata": {},
     "output_type": "execute_result"
    }
   ],
   "source": [
    "raw_data"
   ]
  }
 ],
 "metadata": {
  "kernelspec": {
   "display_name": "Python 3",
   "language": "python",
   "name": "python3"
  },
  "language_info": {
   "codemirror_mode": {
    "name": "ipython",
    "version": 3
   },
   "file_extension": ".py",
   "mimetype": "text/x-python",
   "name": "python",
   "nbconvert_exporter": "python",
   "pygments_lexer": "ipython3",
   "version": "3.8.8"
  }
 },
 "nbformat": 4,
 "nbformat_minor": 5
}
