{
 "cells": [
  {
   "cell_type": "raw",
   "id": "23242be6",
   "metadata": {},
   "source": [
    "Date - 27/10/2021  11:00 AM to 01:00 PM"
   ]
  },
  {
   "cell_type": "markdown",
   "id": "2db1a1d1",
   "metadata": {},
   "source": [
    "# NLP Corpous"
   ]
  },
  {
   "cell_type": "markdown",
   "id": "3568096b",
   "metadata": {},
   "source": [
    "## What is Corpous?\n",
    "\n",
    "    Corpous is a collction of written texts and (corpora) is the plural of corpous.\n",
    "\n",
    "    In corpous a large and structured set of machine readable text are available, They can be delivered in different ways\n",
    "    like (text,transcript of spoken language, optical character recognition (OCR)).\n"
   ]
  },
  {
   "cell_type": "code",
   "execution_count": 1,
   "id": "c775ab15",
   "metadata": {},
   "outputs": [],
   "source": [
    "# code"
   ]
  },
  {
   "cell_type": "markdown",
   "id": "87d6264d",
   "metadata": {},
   "source": [
    "## Name Entity Recongnition\n",
    "\n",
    "    NER seeks to extract a real world entity from the text and sorts it into predefined categories such as name of a\n",
    "    person, organization, location etc."
   ]
  },
  {
   "cell_type": "code",
   "execution_count": 2,
   "id": "220c0820",
   "metadata": {},
   "outputs": [],
   "source": [
    "# code"
   ]
  },
  {
   "cell_type": "markdown",
   "id": "b1387f93",
   "metadata": {},
   "source": [
    "    CC - cordinating conjunction\n",
    "    CD - cardinal digit\n",
    "    DT - determiner\n",
    "    EX - Existenital there (\"there is\", \"there exists\")\n",
    "    FW - Foreign Word\n",
    "    IN - preposition\n",
    "    JJ - adjective (big)\n",
    "    JJR - adjective + comparitive (bigger)\n",
    "    JJS - adjective + superlative ('biggest','strongest','tallest')\n",
    "    MD - modal (could, will)\n",
    "    NN - Noun singular (book)\n",
    "    NNS - Noun Plural (books)\n",
    "    NNP - proper noun singular ('Harrison')\n",
    "    NNPS - proper noun plural ('Indians','Americans','Africans')\n",
    "    PDT - predeterminer ('all the boys')\n",
    "    POS - possessive ending (parent's, children's)\n",
    "    PRP - Personal Pronoun (I, He, She)\n",
    "    $PRP$ - possessive pronoun (my, his,hers, theirs)\n",
    "    RB - Adverb comparitve (better)\n",
    "    RBS - Adverb superlative ('best')\n",
    "    RP - particle give up\n",
    "    TO - to go ('to school')\n",
    "    VB - Verb\n",
    "    VBD - verb past tense\n",
    "    VBG - verb present participle\n",
    "    VBN - verb past participle\n",
    "    VBP - verb (present)\n",
    "    VBZ - verb (represent 3rd person)\n",
    "    WDT - wh- determiner (what,which)\n",
    "    WP - wh-pronoun (who)    \n",
    "    $WP$ - possessive wh (whose)\n",
    "    WRB - wh-adverb (where,when)"
   ]
  },
  {
   "cell_type": "code",
   "execution_count": 3,
   "id": "73f21030",
   "metadata": {},
   "outputs": [],
   "source": [
    "# code"
   ]
  },
  {
   "cell_type": "code",
   "execution_count": null,
   "id": "54703df3",
   "metadata": {},
   "outputs": [],
   "source": []
  }
 ],
 "metadata": {
  "kernelspec": {
   "display_name": "Python 3",
   "language": "python",
   "name": "python3"
  },
  "language_info": {
   "codemirror_mode": {
    "name": "ipython",
    "version": 3
   },
   "file_extension": ".py",
   "mimetype": "text/x-python",
   "name": "python",
   "nbconvert_exporter": "python",
   "pygments_lexer": "ipython3",
   "version": "3.8.8"
  }
 },
 "nbformat": 4,
 "nbformat_minor": 5
}
