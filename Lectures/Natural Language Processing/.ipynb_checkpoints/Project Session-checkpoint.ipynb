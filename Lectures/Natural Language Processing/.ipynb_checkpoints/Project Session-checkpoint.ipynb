{
 "cells": [
  {
   "cell_type": "raw",
   "id": "941a6ab9",
   "metadata": {},
   "source": [
    "Date - 09/11/2021  11:00 AM to 01:30 PM"
   ]
  },
  {
   "cell_type": "markdown",
   "id": "d1dc92e7",
   "metadata": {},
   "source": [
    "## Naive Baye's Classifier\n",
    "\n",
    "    The Naive Bayes Classifier is a simple classifier that classifies based on probabilities of events. It is the applied\n",
    "    commonly to text classification.\n",
    "\n",
    "### Text Classification:\n",
    "\n",
    "    - Text classification is used in segregation of (movie reviews, hotel reviews, news data, customer support emails,\n",
    "      complains, product review etc).\n",
    "    - For many real life cases training a custom text model classification model proves to be much more accurate."
   ]
  },
  {
   "cell_type": "code",
   "execution_count": null,
   "id": "53b63d6e",
   "metadata": {},
   "outputs": [],
   "source": []
  }
 ],
 "metadata": {
  "kernelspec": {
   "display_name": "Python 3",
   "language": "python",
   "name": "python3"
  },
  "language_info": {
   "codemirror_mode": {
    "name": "ipython",
    "version": 3
   },
   "file_extension": ".py",
   "mimetype": "text/x-python",
   "name": "python",
   "nbconvert_exporter": "python",
   "pygments_lexer": "ipython3",
   "version": "3.8.8"
  }
 },
 "nbformat": 4,
 "nbformat_minor": 5
}
