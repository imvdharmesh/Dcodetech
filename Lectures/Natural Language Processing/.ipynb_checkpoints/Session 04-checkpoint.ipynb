{
 "cells": [
  {
   "cell_type": "raw",
   "id": "23242be6",
   "metadata": {},
   "source": [
    "Date - 27/10/2021  11:00 AM to 01:00 PM"
   ]
  },
  {
   "cell_type": "markdown",
   "id": "2db1a1d1",
   "metadata": {},
   "source": [
    "# NLP Corpous"
   ]
  },
  {
   "cell_type": "markdown",
   "id": "3568096b",
   "metadata": {},
   "source": [
    "## What is Corpous?\n",
    "\n",
    "    Corpous is a collction of written texts and \"Corpora\" is the plural of corpous.\n",
    "\n",
    "    In corpous a large and structured set of machine readable text are available, They can be delivered in different ways\n",
    "    like (text,transcript of spoken language, optical character recognition (OCR)).\n",
    "    \n",
    "**NLTK Corpus :-**\n",
    "    \n",
    "    'gutenberg', 'indian', 'brown'"
   ]
  },
  {
   "cell_type": "markdown",
   "id": "e05c1646",
   "metadata": {},
   "source": [
    "### gutenberg"
   ]
  },
  {
   "cell_type": "code",
   "execution_count": 1,
   "id": "c775ab15",
   "metadata": {},
   "outputs": [],
   "source": [
    "import nltk"
   ]
  },
  {
   "cell_type": "code",
   "execution_count": 2,
   "id": "1bd4e891",
   "metadata": {},
   "outputs": [],
   "source": [
    "from nltk.corpus import gutenberg"
   ]
  },
  {
   "cell_type": "code",
   "execution_count": 3,
   "id": "225234a6",
   "metadata": {},
   "outputs": [
    {
     "name": "stderr",
     "output_type": "stream",
     "text": [
      "[nltk_data] Error loading gutenberg: <urlopen error [Errno 11001]\n",
      "[nltk_data]     getaddrinfo failed>\n"
     ]
    },
    {
     "data": {
      "text/plain": [
       "False"
      ]
     },
     "execution_count": 3,
     "metadata": {},
     "output_type": "execute_result"
    }
   ],
   "source": [
    "nltk.download('gutenberg')"
   ]
  },
  {
   "cell_type": "code",
   "execution_count": 4,
   "id": "f80b6147",
   "metadata": {},
   "outputs": [
    {
     "data": {
      "text/plain": [
       "['austen-emma.txt',\n",
       " 'austen-persuasion.txt',\n",
       " 'austen-sense.txt',\n",
       " 'bible-kjv.txt',\n",
       " 'blake-poems.txt',\n",
       " 'bryant-stories.txt',\n",
       " 'burgess-busterbrown.txt',\n",
       " 'carroll-alice.txt',\n",
       " 'chesterton-ball.txt',\n",
       " 'chesterton-brown.txt',\n",
       " 'chesterton-thursday.txt',\n",
       " 'edgeworth-parents.txt',\n",
       " 'melville-moby_dick.txt',\n",
       " 'milton-paradise.txt',\n",
       " 'shakespeare-caesar.txt',\n",
       " 'shakespeare-hamlet.txt',\n",
       " 'shakespeare-macbeth.txt',\n",
       " 'whitman-leaves.txt']"
      ]
     },
     "execution_count": 4,
     "metadata": {},
     "output_type": "execute_result"
    }
   ],
   "source": [
    "gutenberg.fileids()"
   ]
  },
  {
   "cell_type": "code",
   "execution_count": 5,
   "id": "b9b91714",
   "metadata": {},
   "outputs": [],
   "source": [
    "caeser_sent = gutenberg.sents('shakespeare-caesar.txt')"
   ]
  },
  {
   "cell_type": "code",
   "execution_count": 6,
   "id": "7d179276",
   "metadata": {},
   "outputs": [
    {
     "data": {
      "text/plain": [
       "[['[', 'The', 'Tragedie', 'of', 'Julius', 'Caesar', 'by', 'William', 'Shakespeare', '1599', ']'], ['Actus', 'Primus', '.'], ...]"
      ]
     },
     "execution_count": 6,
     "metadata": {},
     "output_type": "execute_result"
    }
   ],
   "source": [
    "caeser_sent"
   ]
  },
  {
   "cell_type": "code",
   "execution_count": 7,
   "id": "2bf676ca",
   "metadata": {},
   "outputs": [
    {
     "data": {
      "text/plain": [
       "2163"
      ]
     },
     "execution_count": 7,
     "metadata": {},
     "output_type": "execute_result"
    }
   ],
   "source": [
    "len(caeser_sent)"
   ]
  },
  {
   "cell_type": "code",
   "execution_count": 8,
   "id": "7496623a",
   "metadata": {},
   "outputs": [],
   "source": [
    "caeser_words = gutenberg.words('shakespeare-caesar.txt')"
   ]
  },
  {
   "cell_type": "code",
   "execution_count": 9,
   "id": "9a7a2f63",
   "metadata": {},
   "outputs": [
    {
     "data": {
      "text/plain": [
       "['[', 'The', 'Tragedie', 'of', 'Julius', 'Caesar', ...]"
      ]
     },
     "execution_count": 9,
     "metadata": {},
     "output_type": "execute_result"
    }
   ],
   "source": [
    "caeser_words"
   ]
  },
  {
   "cell_type": "code",
   "execution_count": 10,
   "id": "d65c6a00",
   "metadata": {},
   "outputs": [
    {
     "data": {
      "text/plain": [
       "25833"
      ]
     },
     "execution_count": 10,
     "metadata": {},
     "output_type": "execute_result"
    }
   ],
   "source": [
    "len(caeser_words)"
   ]
  },
  {
   "cell_type": "markdown",
   "id": "65488213",
   "metadata": {},
   "source": [
    "### indian"
   ]
  },
  {
   "cell_type": "code",
   "execution_count": 11,
   "id": "bad08267",
   "metadata": {},
   "outputs": [],
   "source": [
    "from nltk.corpus import indian"
   ]
  },
  {
   "cell_type": "code",
   "execution_count": 12,
   "id": "51ab78b7",
   "metadata": {},
   "outputs": [
    {
     "name": "stderr",
     "output_type": "stream",
     "text": [
      "[nltk_data] Error loading indian: <urlopen error [Errno 11001]\n",
      "[nltk_data]     getaddrinfo failed>\n"
     ]
    },
    {
     "data": {
      "text/plain": [
       "False"
      ]
     },
     "execution_count": 12,
     "metadata": {},
     "output_type": "execute_result"
    }
   ],
   "source": [
    "nltk.download('indian')"
   ]
  },
  {
   "cell_type": "code",
   "execution_count": 13,
   "id": "d1738ee4",
   "metadata": {},
   "outputs": [
    {
     "data": {
      "text/plain": [
       "['bangla.pos', 'hindi.pos', 'marathi.pos', 'telugu.pos']"
      ]
     },
     "execution_count": 13,
     "metadata": {},
     "output_type": "execute_result"
    }
   ],
   "source": [
    "indian.fileids()"
   ]
  },
  {
   "cell_type": "code",
   "execution_count": 14,
   "id": "6a2a7d7a",
   "metadata": {},
   "outputs": [],
   "source": [
    "hindi_sents = indian.sents('hindi.pos')"
   ]
  },
  {
   "cell_type": "code",
   "execution_count": 15,
   "id": "a01fba75",
   "metadata": {},
   "outputs": [
    {
     "data": {
      "text/plain": [
       "[['पूर्ण', 'प्रतिबंध', 'हटाओ', ':', 'इराक'], ['संयुक्त', 'राष्ट्र', '।'], ...]"
      ]
     },
     "execution_count": 15,
     "metadata": {},
     "output_type": "execute_result"
    }
   ],
   "source": [
    "hindi_sents"
   ]
  },
  {
   "cell_type": "code",
   "execution_count": 16,
   "id": "10a025e7",
   "metadata": {},
   "outputs": [
    {
     "data": {
      "text/plain": [
       "540"
      ]
     },
     "execution_count": 16,
     "metadata": {},
     "output_type": "execute_result"
    }
   ],
   "source": [
    "len(hindi_sents)"
   ]
  },
  {
   "cell_type": "code",
   "execution_count": 17,
   "id": "585e7f68",
   "metadata": {},
   "outputs": [],
   "source": [
    "hindi_words = indian.words('hindi.pos')"
   ]
  },
  {
   "cell_type": "code",
   "execution_count": 18,
   "id": "91a49c5e",
   "metadata": {},
   "outputs": [
    {
     "data": {
      "text/plain": [
       "['पूर्ण', 'प्रतिबंध', 'हटाओ', ':', 'इराक', 'संयुक्त', ...]"
      ]
     },
     "execution_count": 18,
     "metadata": {},
     "output_type": "execute_result"
    }
   ],
   "source": [
    "hindi_words"
   ]
  },
  {
   "cell_type": "code",
   "execution_count": 19,
   "id": "f6a82ceb",
   "metadata": {},
   "outputs": [
    {
     "data": {
      "text/plain": [
       "9408"
      ]
     },
     "execution_count": 19,
     "metadata": {},
     "output_type": "execute_result"
    }
   ],
   "source": [
    "len(hindi_words)"
   ]
  },
  {
   "cell_type": "markdown",
   "id": "74398472",
   "metadata": {},
   "source": [
    "### brown"
   ]
  },
  {
   "cell_type": "code",
   "execution_count": 20,
   "id": "ea080d68",
   "metadata": {},
   "outputs": [],
   "source": [
    "from nltk.corpus import brown"
   ]
  },
  {
   "cell_type": "code",
   "execution_count": 21,
   "id": "681b8448",
   "metadata": {},
   "outputs": [
    {
     "name": "stderr",
     "output_type": "stream",
     "text": [
      "[nltk_data] Error loading brown: <urlopen error [Errno 11001]\n",
      "[nltk_data]     getaddrinfo failed>\n"
     ]
    },
    {
     "data": {
      "text/plain": [
       "False"
      ]
     },
     "execution_count": 21,
     "metadata": {},
     "output_type": "execute_result"
    }
   ],
   "source": [
    "nltk.download('brown')"
   ]
  },
  {
   "cell_type": "code",
   "execution_count": 22,
   "id": "b948b723",
   "metadata": {},
   "outputs": [
    {
     "data": {
      "text/plain": [
       "['adventure',\n",
       " 'belles_lettres',\n",
       " 'editorial',\n",
       " 'fiction',\n",
       " 'government',\n",
       " 'hobbies',\n",
       " 'humor',\n",
       " 'learned',\n",
       " 'lore',\n",
       " 'mystery',\n",
       " 'news',\n",
       " 'religion',\n",
       " 'reviews',\n",
       " 'romance',\n",
       " 'science_fiction']"
      ]
     },
     "execution_count": 22,
     "metadata": {},
     "output_type": "execute_result"
    }
   ],
   "source": [
    "brown.categories()"
   ]
  },
  {
   "cell_type": "code",
   "execution_count": 23,
   "id": "4abbfad4",
   "metadata": {},
   "outputs": [],
   "source": [
    "romance_sents = brown.sents(categories='romance')"
   ]
  },
  {
   "cell_type": "code",
   "execution_count": 24,
   "id": "31518ed0",
   "metadata": {},
   "outputs": [
    {
     "data": {
      "text/plain": [
       "[['They', 'neither', 'liked', 'nor', 'disliked', 'the', 'Old', 'Man', '.'], ['To', 'them', 'he', 'could', 'have', 'been', 'the', 'broken', 'bell', 'in', 'the', 'church', 'tower', 'which', 'rang', 'before', 'and', 'after', 'Mass', ',', 'and', 'at', 'noon', ',', 'and', 'at', 'six', 'each', 'evening', '--', 'its', 'tone', ',', 'repetitive', ',', 'monotonous', ',', 'never', 'breaking', 'the', 'boredom', 'of', 'the', 'streets', '.'], ...]"
      ]
     },
     "execution_count": 24,
     "metadata": {},
     "output_type": "execute_result"
    }
   ],
   "source": [
    "romance_sents"
   ]
  },
  {
   "cell_type": "code",
   "execution_count": 25,
   "id": "632aadb8",
   "metadata": {},
   "outputs": [],
   "source": [
    "romance_words = brown.words(categories='romance')"
   ]
  },
  {
   "cell_type": "code",
   "execution_count": 26,
   "id": "144fb47b",
   "metadata": {},
   "outputs": [
    {
     "data": {
      "text/plain": [
       "['They', 'neither', 'liked', 'nor', 'disliked', 'the', ...]"
      ]
     },
     "execution_count": 26,
     "metadata": {},
     "output_type": "execute_result"
    }
   ],
   "source": [
    "romance_words"
   ]
  },
  {
   "cell_type": "markdown",
   "id": "87d6264d",
   "metadata": {},
   "source": [
    "## Name Entity Recognition\n",
    "\n",
    "    Name Entity Recognition (NER) seeks to extract a real world entity from the text and sorts it into predefined categories\n",
    "    such as name of a person, organization, location etc."
   ]
  },
  {
   "cell_type": "markdown",
   "id": "b1387f93",
   "metadata": {},
   "source": [
    "### Parts Of Speech (POS) Tagging\n",
    "\n",
    "        Tags             Description\n",
    "\n",
    "        CC         -   Coordinating Conjunction\n",
    "        CD         -   Cardinal Digit\n",
    "        DT         -   Determiner\n",
    "        EX         -   Existential there (\"there is\", \"there exists\")\n",
    "        FW         -   Foreign Word\n",
    "        IN         -   Preposition\n",
    "        JJ         -   Adjective (big)\n",
    "        JJR        -   Adjective, Comparitive (bigger)\n",
    "        JJS        -   Adjective, Superlative ('biggest','strongest','tallest')\n",
    "        LS         -   List item marker\n",
    "        MD         -   Modal (could, will)\n",
    "        NN         -   Noun Singular (book)\n",
    "        NNS        -   Noun Plural (books)\n",
    "        NNP        -   Proper Noun Singular ('Harrison')\n",
    "        NNPS       -   Proper Noun Plural ('Indians','Americans','Africans')\n",
    "        PDT        -   Predeterminer ('all the boys')\n",
    "        POS        -   Possessive Ending (parent's, children's)\n",
    "        PRP        -   Personal Pronoun (I, He, She)\n",
    "        PRP$       -   Possessive Pronoun (my, his,hers, theirs)\n",
    "        RB     -   Adverb\n",
    "        RBR    -   Adverb Comparitve (better)\n",
    "        RBS    -   Adverb Superlative ('best')\n",
    "        RP     -   Particle ('give up')\n",
    "        SYM    -   Symbol\n",
    "        TO     -   to go ('to school')\n",
    "        UH     -   Interjection\n",
    "        VB     -   Verb\n",
    "        VBD    -   Verb past tense\n",
    "        VBG    -   Verb present participle\n",
    "        VBN    -   Verb past participle\n",
    "        VBP    -   Verb (present)\n",
    "        VBZ    -   Verb (represent 3rd person)\n",
    "        WDT    -   Wh-determiner (what,which)\n",
    "        WP     -   Wh-pronoun (who)    \n",
    "        WP$    -   Possessive wh-pronoun (whose)\n",
    "        WRB        -   Wh-adverb (where,when)"
   ]
  },
  {
   "cell_type": "markdown",
   "id": "0e900f15",
   "metadata": {},
   "source": [
    "### Information Extraction:"
   ]
  },
  {
   "cell_type": "code",
   "execution_count": 27,
   "id": "220c0820",
   "metadata": {},
   "outputs": [],
   "source": [
    "txt = '''Google is an American multinational technology company that specializes in service and products include online advertising technology, search engines, cloud computing and hardware. It was founded in 1 Larry Page and Sergey Brin while they were doing Ph.D. at Stanford University in California'''"
   ]
  },
  {
   "cell_type": "code",
   "execution_count": 28,
   "id": "cef60b1a",
   "metadata": {},
   "outputs": [],
   "source": [
    "import nltk"
   ]
  },
  {
   "cell_type": "code",
   "execution_count": 29,
   "id": "da4498a4",
   "metadata": {},
   "outputs": [],
   "source": [
    "from nltk.tokenize import word_tokenize"
   ]
  },
  {
   "cell_type": "code",
   "execution_count": 30,
   "id": "1a5369c2",
   "metadata": {},
   "outputs": [],
   "source": [
    "tokenize_words = word_tokenize(txt)"
   ]
  },
  {
   "cell_type": "code",
   "execution_count": 31,
   "id": "8e5dad14",
   "metadata": {},
   "outputs": [
    {
     "name": "stderr",
     "output_type": "stream",
     "text": [
      "[nltk_data] Error loading averaged_perceptron_tagger: <urlopen error\n",
      "[nltk_data]     [Errno 11001] getaddrinfo failed>\n"
     ]
    },
    {
     "data": {
      "text/plain": [
       "False"
      ]
     },
     "execution_count": 31,
     "metadata": {},
     "output_type": "execute_result"
    }
   ],
   "source": [
    "nltk.download('averaged_perceptron_tagger')"
   ]
  },
  {
   "cell_type": "code",
   "execution_count": 32,
   "id": "1c7ee9a4",
   "metadata": {},
   "outputs": [],
   "source": [
    "tagged_words = nltk.pos_tag(tokenize_words)"
   ]
  },
  {
   "cell_type": "code",
   "execution_count": 33,
   "id": "b23d7eff",
   "metadata": {},
   "outputs": [
    {
     "data": {
      "text/plain": [
       "[('Google', 'NNP'),\n",
       " ('is', 'VBZ'),\n",
       " ('an', 'DT'),\n",
       " ('American', 'JJ'),\n",
       " ('multinational', 'NN'),\n",
       " ('technology', 'NN'),\n",
       " ('company', 'NN'),\n",
       " ('that', 'WDT'),\n",
       " ('specializes', 'VBZ'),\n",
       " ('in', 'IN'),\n",
       " ('service', 'NN'),\n",
       " ('and', 'CC'),\n",
       " ('products', 'NNS'),\n",
       " ('include', 'VBP'),\n",
       " ('online', 'JJ'),\n",
       " ('advertising', 'NN'),\n",
       " ('technology', 'NN'),\n",
       " (',', ','),\n",
       " ('search', 'NN'),\n",
       " ('engines', 'NNS'),\n",
       " (',', ','),\n",
       " ('cloud', 'VBP'),\n",
       " ('computing', 'VBG'),\n",
       " ('and', 'CC'),\n",
       " ('hardware', 'NN'),\n",
       " ('.', '.'),\n",
       " ('It', 'PRP'),\n",
       " ('was', 'VBD'),\n",
       " ('founded', 'VBN'),\n",
       " ('in', 'IN'),\n",
       " ('1', 'CD'),\n",
       " ('Larry', 'NNP'),\n",
       " ('Page', 'NNP'),\n",
       " ('and', 'CC'),\n",
       " ('Sergey', 'NNP'),\n",
       " ('Brin', 'NNP'),\n",
       " ('while', 'IN'),\n",
       " ('they', 'PRP'),\n",
       " ('were', 'VBD'),\n",
       " ('doing', 'VBG'),\n",
       " ('Ph.D.', 'NNP'),\n",
       " ('at', 'IN'),\n",
       " ('Stanford', 'NNP'),\n",
       " ('University', 'NNP'),\n",
       " ('in', 'IN'),\n",
       " ('California', 'NNP')]"
      ]
     },
     "execution_count": 33,
     "metadata": {},
     "output_type": "execute_result"
    }
   ],
   "source": [
    "tagged_words"
   ]
  },
  {
   "cell_type": "code",
   "execution_count": 34,
   "id": "73f21030",
   "metadata": {},
   "outputs": [],
   "source": [
    "from nltk.tokenize import sent_tokenize"
   ]
  },
  {
   "cell_type": "code",
   "execution_count": 35,
   "id": "8f45e50b",
   "metadata": {},
   "outputs": [],
   "source": [
    "tokenize_sents = sent_tokenize(txt)"
   ]
  },
  {
   "cell_type": "code",
   "execution_count": 36,
   "id": "bce892e1",
   "metadata": {},
   "outputs": [
    {
     "data": {
      "text/plain": [
       "['Google is an American multinational technology company that specializes in service and products include online advertising technology, search engines, cloud computing and hardware.',\n",
       " 'It was founded in 1 Larry Page and Sergey Brin while they were doing Ph.D. at Stanford University in California']"
      ]
     },
     "execution_count": 36,
     "metadata": {},
     "output_type": "execute_result"
    }
   ],
   "source": [
    "tokenize_sents"
   ]
  },
  {
   "cell_type": "code",
   "execution_count": 37,
   "id": "55ae94a8",
   "metadata": {},
   "outputs": [],
   "source": [
    "tagged_sents = nltk.pos_tag(tokenize_sents)"
   ]
  },
  {
   "cell_type": "code",
   "execution_count": 38,
   "id": "13fd515e",
   "metadata": {},
   "outputs": [
    {
     "data": {
      "text/plain": [
       "[('Google is an American multinational technology company that specializes in service and products include online advertising technology, search engines, cloud computing and hardware.',\n",
       "  'NNP'),\n",
       " ('It was founded in 1 Larry Page and Sergey Brin while they were doing Ph.D. at Stanford University in California',\n",
       "  'NNP')]"
      ]
     },
     "execution_count": 38,
     "metadata": {},
     "output_type": "execute_result"
    }
   ],
   "source": [
    "tagged_sents"
   ]
  },
  {
   "cell_type": "markdown",
   "id": "574d1a23",
   "metadata": {},
   "source": [
    "### Chunking :"
   ]
  },
  {
   "cell_type": "code",
   "execution_count": 39,
   "id": "9b62089a",
   "metadata": {},
   "outputs": [
    {
     "name": "stderr",
     "output_type": "stream",
     "text": [
      "[nltk_data] Error loading maxent_ne_chunker: <urlopen error [Errno\n",
      "[nltk_data]     11001] getaddrinfo failed>\n"
     ]
    },
    {
     "data": {
      "text/plain": [
       "False"
      ]
     },
     "execution_count": 39,
     "metadata": {},
     "output_type": "execute_result"
    }
   ],
   "source": [
    "nltk.download('maxent_ne_chunker')"
   ]
  },
  {
   "cell_type": "code",
   "execution_count": 40,
   "id": "bbc1be9a",
   "metadata": {},
   "outputs": [
    {
     "name": "stderr",
     "output_type": "stream",
     "text": [
      "[nltk_data] Error loading words: <urlopen error [Errno 11001]\n",
      "[nltk_data]     getaddrinfo failed>\n"
     ]
    },
    {
     "data": {
      "text/plain": [
       "False"
      ]
     },
     "execution_count": 40,
     "metadata": {},
     "output_type": "execute_result"
    }
   ],
   "source": [
    "nltk.download('words')"
   ]
  },
  {
   "cell_type": "code",
   "execution_count": 41,
   "id": "fd235819",
   "metadata": {},
   "outputs": [],
   "source": [
    "ne_chunked_words = nltk.ne_chunk(tagged_words)"
   ]
  },
  {
   "cell_type": "code",
   "execution_count": 42,
   "id": "35430228",
   "metadata": {},
   "outputs": [
    {
     "name": "stdout",
     "output_type": "stream",
     "text": [
      "(S\n",
      "  (GPE Google/NNP)\n",
      "  is/VBZ\n",
      "  an/DT\n",
      "  (GPE American/JJ)\n",
      "  multinational/NN\n",
      "  technology/NN\n",
      "  company/NN\n",
      "  that/WDT\n",
      "  specializes/VBZ\n",
      "  in/IN\n",
      "  service/NN\n",
      "  and/CC\n",
      "  products/NNS\n",
      "  include/VBP\n",
      "  online/JJ\n",
      "  advertising/NN\n",
      "  technology/NN\n",
      "  ,/,\n",
      "  search/NN\n",
      "  engines/NNS\n",
      "  ,/,\n",
      "  cloud/VBP\n",
      "  computing/VBG\n",
      "  and/CC\n",
      "  hardware/NN\n",
      "  ./.\n",
      "  It/PRP\n",
      "  was/VBD\n",
      "  founded/VBN\n",
      "  in/IN\n",
      "  1/CD\n",
      "  (PERSON Larry/NNP Page/NNP)\n",
      "  and/CC\n",
      "  (PERSON Sergey/NNP Brin/NNP)\n",
      "  while/IN\n",
      "  they/PRP\n",
      "  were/VBD\n",
      "  doing/VBG\n",
      "  Ph.D./NNP\n",
      "  at/IN\n",
      "  (ORGANIZATION Stanford/NNP University/NNP)\n",
      "  in/IN\n",
      "  (GPE California/NNP))\n"
     ]
    }
   ],
   "source": [
    "ne_chunked_words.pprint()"
   ]
  },
  {
   "cell_type": "code",
   "execution_count": 43,
   "id": "7ea3aef2",
   "metadata": {},
   "outputs": [],
   "source": [
    "ne_chunked_sents = nltk.ne_chunk(tagged_sents)"
   ]
  },
  {
   "cell_type": "code",
   "execution_count": 44,
   "id": "afb0a695",
   "metadata": {},
   "outputs": [
    {
     "name": "stdout",
     "output_type": "stream",
     "text": [
      "(S\n",
      "  Google is an American multinational technology company that specializes in service and products include online advertising technology, search engines, cloud computing and hardware./NNP\n",
      "  It was founded in 1 Larry Page and Sergey Brin while they were doing Ph.D. at Stanford University in California/NNP)\n"
     ]
    }
   ],
   "source": [
    "ne_chunked_sents.pprint()"
   ]
  },
  {
   "cell_type": "code",
   "execution_count": 45,
   "id": "2ba13cde",
   "metadata": {},
   "outputs": [
    {
     "name": "stdout",
     "output_type": "stream",
     "text": [
      "[('Google', 'GPE'), ('American', 'GPE'), ('Larry Page', 'PERSON'), ('Sergey Brin', 'PERSON'), ('Stanford University', 'ORGANIZATION'), ('California', 'GPE')]\n"
     ]
    }
   ],
   "source": [
    "name_entities = []\n",
    "for item in ne_chunked_words:\n",
    "    if hasattr(item, 'label'):\n",
    "        en_name = ' '.join(c[0] for c in item.leaves())\n",
    "        en_type = item.label()\n",
    "        name_entities.append((en_name, en_type))\n",
    "print(name_entities)"
   ]
  }
 ],
 "metadata": {
  "kernelspec": {
   "display_name": "Python 3",
   "language": "python",
   "name": "python3"
  },
  "language_info": {
   "codemirror_mode": {
    "name": "ipython",
    "version": 3
   },
   "file_extension": ".py",
   "mimetype": "text/x-python",
   "name": "python",
   "nbconvert_exporter": "python",
   "pygments_lexer": "ipython3",
   "version": "3.8.8"
  }
 },
 "nbformat": 4,
 "nbformat_minor": 5
}
