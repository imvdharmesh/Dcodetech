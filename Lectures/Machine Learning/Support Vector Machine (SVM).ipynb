{
 "cells": [
  {
   "cell_type": "raw",
   "id": "091dcdf8",
   "metadata": {},
   "source": [
    "Date - 06/10/2021  11:15 AM to 01:30 PM"
   ]
  },
  {
   "cell_type": "markdown",
   "id": "5d6c0223",
   "metadata": {},
   "source": [
    "# Support Vectore Machine\n",
    "\n",
    "    - Support Vector Machines (SVM) are supervised machine learning agorithm that are used for classification and\n",
    "      regression.\n",
    "    - SVM are typically used for classification, regression & outlier detection purpose.\n",
    "    - An SVM builds a model that assigns new data point to one of the given categories.\n",
    "    - SVM can be used for linear classification purpose."
   ]
  },
  {
   "cell_type": "markdown",
   "id": "051cb60a",
   "metadata": {},
   "source": [
    "## SVM Terminology\n",
    "\n",
    "### Hyperplane:\n",
    "\n",
    "    - A hyperplane is a decision boundary which seperates given set of data points having different class labels.\n",
    "    - The SVM classifier seperates the data point using a hyperplane with maximum amount of margin.\n",
    "    - This hyperplane is known as the maximum margin hyperplane and the linear classifier it defines is known as the\n",
    "      maximum margin classfier.\n",
    "      \n",
    "### Margin:\n",
    "    \n",
    "    - A margin is a seperation gap between two lines on the closest data point.\n",
    "    - It is calculated as the perpendicular distance from the line to closest data point.\n",
    "    - In SVM we try to maximize this seperation gap so that we get maximum margin.\n",
    "\n",
    "<img src='https://miro.medium.com/max/1400/1*06GSco3ItM3gwW2scY6Tmg.png' height=500, width=600/>"
   ]
  },
  {
   "cell_type": "markdown",
   "id": "d25e19b5",
   "metadata": {},
   "source": [
    "<b>\n",
    "    In SVM our main objective is to select a hyperplane with the maximum possible margin between SVM in the given dataset.</br>\n",
    "    SVM searches for the maximum margin hyperplane in the following 2 step process:-\n",
    "</b>\n",
    "    \n",
    "    1. Generate hyperplane which segregates the classes in the best possible way.There are many hyperplane that might\n",
    "       classify the data. We should look for the best hyperplane that represent the largest seperation or margin between\n",
    "       two classes.\n",
    "    \n",
    "    2. We choose the hyperplane so that the distance from it to the support vector on each side is maximized. If such a\n",
    "       hyperplane exists it is known as maximum margin hyperplane and its classifier is known as maximum margin classifier."
   ]
  },
  {
   "cell_type": "markdown",
   "id": "7c62ec46",
   "metadata": {},
   "source": [
    "<h3>Problems With Dispersed Data</h3>\n",
    "    \n",
    "    - Quite Often the data points are dispersed so that it is not possible to seperate them using a linear hyperplane.   \n",
    "    - In such situation SVM uses a kernel trick to transform the input space to a higher dimensional space, It uses a\n",
    "      mapping function to transform the 2-D input space into 3-D input space.      \n",
    "    - We can easily segregate the data points using linear speration."
   ]
  },
  {
   "cell_type": "markdown",
   "id": "5242ff7e",
   "metadata": {},
   "source": [
    "<h2>Kernel Trick</h2>\n",
    "\n",
    "    - SVM algorithm is implemented using a kernel, It uses a technique called kernel trick.\n",
    "    - In simple words a kernel is just a function that maps the data to a higher dimesnion where data is seperable.\n",
    "    - A kernel transforms a low dimensional input data space into a higher dimensional space. So it converts non linear\n",
    "      seperable problem into a linear seperable problem by adding more dimensions into it.\n",
    "    - Hence the kernel trick helps us to build a more accurate classifier. It is useful in seperation problems.\n",
    "\n",
    "<b>Different Type of Kernel Tricks:-</b>\n",
    "    \n",
    "    1) Linear Kernel\n",
    "    2) Polynomial Kernel\n",
    "    3) Radial Basis Function (RBF) or Gaussian Kernel\n",
    "    4) Sigmoid Kernel"
   ]
  },
  {
   "cell_type": "markdown",
   "id": "f8cd1cae",
   "metadata": {},
   "source": [
    "### Linear Kernel Tricks:\n",
    "\n",
    "${Formula: k(x,y) = x^T.y}$\n",
    "\n",
    "    - Linear kernel is used when the data is linearly seperated.\n",
    "    - It means the data can be seperated using a single line.\n",
    "    - It is one of the most common used type of kernel tricks, mostly used when there are large number of features in a\n",
    "      data set.\n",
    "    - Linear kernel is often used for text classification purpose.\n",
    "    - Training with linear kernel is usually faster because we need to optimize the regularization parameters.\n",
    "\n",
    "\n",
    "### Polynomial Kernel Tricks:\n",
    "\n",
    "${Formula: k(x,y) = (x^T.y + r)^d}$\n",
    "\n",
    "    - Polynomial kernel represents the similarity of vectors (training sample) in a feature space over polynomials of the\n",
    "      original variables.\n",
    "    - The polynomial kernles looks not only at the given feature of input samples to determine their similarity but also\n",
    "      combination of input samples.\n",
    "    - It is typically used in NLP (Natural Language Processing).\n",
    "\n",
    "\n",
    "### Radial Basis Function(RBF) or Gaussian Kernel Tricks:\n",
    "\n",
    "${Formula: k(x,y) = exp(-\\frac{(||x-y||)^2}{\\alpha^2})}$\n",
    "\n",
    "    - RBF is a general purpose kernel,it is used when we have no prior knowledge about the data.\n",
    "\n",
    "\n",
    "### Sigmoid Kernel Tricks:\n",
    "\n",
    "${Formula: k(x,y) = tanh(a.x^T.y+c)}$\n",
    "\n",
    "    - Sigmoid kernel has its origin to neural networks, we can use it as a proxy for neural networks."
   ]
  },
  {
   "cell_type": "markdown",
   "id": "f2daa31c",
   "metadata": {},
   "source": [
    "## Problem :- Pulsor Star Dataset\n",
    "\n",
    "    Pulsor star are a type of Neuron Star, that produces radio emisiion detectable on earth."
   ]
  },
  {
   "cell_type": "code",
   "execution_count": 1,
   "id": "65d6b777",
   "metadata": {},
   "outputs": [],
   "source": [
    "import numpy as np\n",
    "import pandas as pd\n",
    "import matplotlib.pyplot as plt\n",
    "import seaborn as sns\n",
    "\n",
    "import warnings\n",
    "warnings.filterwarnings('ignore')"
   ]
  },
  {
   "cell_type": "code",
   "execution_count": 2,
   "id": "e3293e7c",
   "metadata": {},
   "outputs": [],
   "source": [
    "data = pd.read_csv('pulsar_stars.csv')"
   ]
  },
  {
   "cell_type": "code",
   "execution_count": 3,
   "id": "e65677de",
   "metadata": {},
   "outputs": [
    {
     "data": {
      "text/html": [
       "<div>\n",
       "<style scoped>\n",
       "    .dataframe tbody tr th:only-of-type {\n",
       "        vertical-align: middle;\n",
       "    }\n",
       "\n",
       "    .dataframe tbody tr th {\n",
       "        vertical-align: top;\n",
       "    }\n",
       "\n",
       "    .dataframe thead th {\n",
       "        text-align: right;\n",
       "    }\n",
       "</style>\n",
       "<table border=\"1\" class=\"dataframe\">\n",
       "  <thead>\n",
       "    <tr style=\"text-align: right;\">\n",
       "      <th></th>\n",
       "      <th>Mean of the integrated profile</th>\n",
       "      <th>Standard deviation of the integrated profile</th>\n",
       "      <th>Excess kurtosis of the integrated profile</th>\n",
       "      <th>Skewness of the integrated profile</th>\n",
       "      <th>Mean of the DM-SNR curve</th>\n",
       "      <th>Standard deviation of the DM-SNR curve</th>\n",
       "      <th>Excess kurtosis of the DM-SNR curve</th>\n",
       "      <th>Skewness of the DM-SNR curve</th>\n",
       "      <th>target_class</th>\n",
       "    </tr>\n",
       "  </thead>\n",
       "  <tbody>\n",
       "    <tr>\n",
       "      <th>0</th>\n",
       "      <td>140.562500</td>\n",
       "      <td>55.683782</td>\n",
       "      <td>-0.234571</td>\n",
       "      <td>-0.699648</td>\n",
       "      <td>3.199833</td>\n",
       "      <td>19.110426</td>\n",
       "      <td>7.975532</td>\n",
       "      <td>74.242225</td>\n",
       "      <td>0</td>\n",
       "    </tr>\n",
       "    <tr>\n",
       "      <th>1</th>\n",
       "      <td>102.507812</td>\n",
       "      <td>58.882430</td>\n",
       "      <td>0.465318</td>\n",
       "      <td>-0.515088</td>\n",
       "      <td>1.677258</td>\n",
       "      <td>14.860146</td>\n",
       "      <td>10.576487</td>\n",
       "      <td>127.393580</td>\n",
       "      <td>0</td>\n",
       "    </tr>\n",
       "    <tr>\n",
       "      <th>2</th>\n",
       "      <td>103.015625</td>\n",
       "      <td>39.341649</td>\n",
       "      <td>0.323328</td>\n",
       "      <td>1.051164</td>\n",
       "      <td>3.121237</td>\n",
       "      <td>21.744669</td>\n",
       "      <td>7.735822</td>\n",
       "      <td>63.171909</td>\n",
       "      <td>0</td>\n",
       "    </tr>\n",
       "    <tr>\n",
       "      <th>3</th>\n",
       "      <td>136.750000</td>\n",
       "      <td>57.178449</td>\n",
       "      <td>-0.068415</td>\n",
       "      <td>-0.636238</td>\n",
       "      <td>3.642977</td>\n",
       "      <td>20.959280</td>\n",
       "      <td>6.896499</td>\n",
       "      <td>53.593661</td>\n",
       "      <td>0</td>\n",
       "    </tr>\n",
       "    <tr>\n",
       "      <th>4</th>\n",
       "      <td>88.726562</td>\n",
       "      <td>40.672225</td>\n",
       "      <td>0.600866</td>\n",
       "      <td>1.123492</td>\n",
       "      <td>1.178930</td>\n",
       "      <td>11.468720</td>\n",
       "      <td>14.269573</td>\n",
       "      <td>252.567306</td>\n",
       "      <td>0</td>\n",
       "    </tr>\n",
       "  </tbody>\n",
       "</table>\n",
       "</div>"
      ],
      "text/plain": [
       "    Mean of the integrated profile  \\\n",
       "0                       140.562500   \n",
       "1                       102.507812   \n",
       "2                       103.015625   \n",
       "3                       136.750000   \n",
       "4                        88.726562   \n",
       "\n",
       "    Standard deviation of the integrated profile  \\\n",
       "0                                      55.683782   \n",
       "1                                      58.882430   \n",
       "2                                      39.341649   \n",
       "3                                      57.178449   \n",
       "4                                      40.672225   \n",
       "\n",
       "    Excess kurtosis of the integrated profile  \\\n",
       "0                                   -0.234571   \n",
       "1                                    0.465318   \n",
       "2                                    0.323328   \n",
       "3                                   -0.068415   \n",
       "4                                    0.600866   \n",
       "\n",
       "    Skewness of the integrated profile   Mean of the DM-SNR curve  \\\n",
       "0                            -0.699648                   3.199833   \n",
       "1                            -0.515088                   1.677258   \n",
       "2                             1.051164                   3.121237   \n",
       "3                            -0.636238                   3.642977   \n",
       "4                             1.123492                   1.178930   \n",
       "\n",
       "    Standard deviation of the DM-SNR curve  \\\n",
       "0                                19.110426   \n",
       "1                                14.860146   \n",
       "2                                21.744669   \n",
       "3                                20.959280   \n",
       "4                                11.468720   \n",
       "\n",
       "    Excess kurtosis of the DM-SNR curve   Skewness of the DM-SNR curve  \\\n",
       "0                              7.975532                      74.242225   \n",
       "1                             10.576487                     127.393580   \n",
       "2                              7.735822                      63.171909   \n",
       "3                              6.896499                      53.593661   \n",
       "4                             14.269573                     252.567306   \n",
       "\n",
       "   target_class  \n",
       "0             0  \n",
       "1             0  \n",
       "2             0  \n",
       "3             0  \n",
       "4             0  "
      ]
     },
     "execution_count": 3,
     "metadata": {},
     "output_type": "execute_result"
    }
   ],
   "source": [
    "data.head()"
   ]
  },
  {
   "cell_type": "markdown",
   "id": "cdc8902d",
   "metadata": {},
   "source": [
    "### Dataset Description:\n",
    "\n",
    "    - Mean of the integrated profile,\n",
    "    - Standard deviation of the integrated profile,\n",
    "    - Excess kurtosis of the integrated profile,\n",
    "    - Skewness of the integrated profile,\n",
    "    - Mean of the DM-SNR curve,\n",
    "    - Standard deviation of the DM-SNR curve,\n",
    "    - Excess kurtosis of the DM-SNR curve,\n",
    "    - Skewness of the DM-SNR curve,\n",
    "    - target_class"
   ]
  },
  {
   "cell_type": "code",
   "execution_count": 4,
   "id": "daa4f7b3",
   "metadata": {},
   "outputs": [],
   "source": [
    "data.columns = ['IP Mean', 'IP Std', 'IP Kurtosis', 'IP Skewness',\n",
    "                'DM-SNR Mean', 'DM-SNR Std', 'DM-SNR Kurtosis', 'DM-SNR Skewness',\n",
    "                'Target Class']"
   ]
  },
  {
   "cell_type": "code",
   "execution_count": 5,
   "id": "13cb571a",
   "metadata": {},
   "outputs": [
    {
     "data": {
      "text/html": [
       "<div>\n",
       "<style scoped>\n",
       "    .dataframe tbody tr th:only-of-type {\n",
       "        vertical-align: middle;\n",
       "    }\n",
       "\n",
       "    .dataframe tbody tr th {\n",
       "        vertical-align: top;\n",
       "    }\n",
       "\n",
       "    .dataframe thead th {\n",
       "        text-align: right;\n",
       "    }\n",
       "</style>\n",
       "<table border=\"1\" class=\"dataframe\">\n",
       "  <thead>\n",
       "    <tr style=\"text-align: right;\">\n",
       "      <th></th>\n",
       "      <th>IP Mean</th>\n",
       "      <th>IP Std</th>\n",
       "      <th>IP Kurtosis</th>\n",
       "      <th>IP Skewness</th>\n",
       "      <th>DM-SNR Mean</th>\n",
       "      <th>DM-SNR Std</th>\n",
       "      <th>DM-SNR Kurtosis</th>\n",
       "      <th>DM-SNR Skewness</th>\n",
       "      <th>Target Class</th>\n",
       "    </tr>\n",
       "  </thead>\n",
       "  <tbody>\n",
       "    <tr>\n",
       "      <th>0</th>\n",
       "      <td>140.562500</td>\n",
       "      <td>55.683782</td>\n",
       "      <td>-0.234571</td>\n",
       "      <td>-0.699648</td>\n",
       "      <td>3.199833</td>\n",
       "      <td>19.110426</td>\n",
       "      <td>7.975532</td>\n",
       "      <td>74.242225</td>\n",
       "      <td>0</td>\n",
       "    </tr>\n",
       "    <tr>\n",
       "      <th>1</th>\n",
       "      <td>102.507812</td>\n",
       "      <td>58.882430</td>\n",
       "      <td>0.465318</td>\n",
       "      <td>-0.515088</td>\n",
       "      <td>1.677258</td>\n",
       "      <td>14.860146</td>\n",
       "      <td>10.576487</td>\n",
       "      <td>127.393580</td>\n",
       "      <td>0</td>\n",
       "    </tr>\n",
       "    <tr>\n",
       "      <th>2</th>\n",
       "      <td>103.015625</td>\n",
       "      <td>39.341649</td>\n",
       "      <td>0.323328</td>\n",
       "      <td>1.051164</td>\n",
       "      <td>3.121237</td>\n",
       "      <td>21.744669</td>\n",
       "      <td>7.735822</td>\n",
       "      <td>63.171909</td>\n",
       "      <td>0</td>\n",
       "    </tr>\n",
       "    <tr>\n",
       "      <th>3</th>\n",
       "      <td>136.750000</td>\n",
       "      <td>57.178449</td>\n",
       "      <td>-0.068415</td>\n",
       "      <td>-0.636238</td>\n",
       "      <td>3.642977</td>\n",
       "      <td>20.959280</td>\n",
       "      <td>6.896499</td>\n",
       "      <td>53.593661</td>\n",
       "      <td>0</td>\n",
       "    </tr>\n",
       "    <tr>\n",
       "      <th>4</th>\n",
       "      <td>88.726562</td>\n",
       "      <td>40.672225</td>\n",
       "      <td>0.600866</td>\n",
       "      <td>1.123492</td>\n",
       "      <td>1.178930</td>\n",
       "      <td>11.468720</td>\n",
       "      <td>14.269573</td>\n",
       "      <td>252.567306</td>\n",
       "      <td>0</td>\n",
       "    </tr>\n",
       "  </tbody>\n",
       "</table>\n",
       "</div>"
      ],
      "text/plain": [
       "      IP Mean     IP Std  IP Kurtosis  IP Skewness  DM-SNR Mean  DM-SNR Std  \\\n",
       "0  140.562500  55.683782    -0.234571    -0.699648     3.199833   19.110426   \n",
       "1  102.507812  58.882430     0.465318    -0.515088     1.677258   14.860146   \n",
       "2  103.015625  39.341649     0.323328     1.051164     3.121237   21.744669   \n",
       "3  136.750000  57.178449    -0.068415    -0.636238     3.642977   20.959280   \n",
       "4   88.726562  40.672225     0.600866     1.123492     1.178930   11.468720   \n",
       "\n",
       "   DM-SNR Kurtosis  DM-SNR Skewness  Target Class  \n",
       "0         7.975532        74.242225             0  \n",
       "1        10.576487       127.393580             0  \n",
       "2         7.735822        63.171909             0  \n",
       "3         6.896499        53.593661             0  \n",
       "4        14.269573       252.567306             0  "
      ]
     },
     "execution_count": 5,
     "metadata": {},
     "output_type": "execute_result"
    }
   ],
   "source": [
    "data.head()"
   ]
  },
  {
   "cell_type": "code",
   "execution_count": 6,
   "id": "0041a63e",
   "metadata": {},
   "outputs": [
    {
     "data": {
      "text/plain": [
       "0    16259\n",
       "1     1639\n",
       "Name: Target Class, dtype: int64"
      ]
     },
     "execution_count": 6,
     "metadata": {},
     "output_type": "execute_result"
    }
   ],
   "source": [
    "data['Target Class'].value_counts()"
   ]
  },
  {
   "cell_type": "code",
   "execution_count": 7,
   "id": "89e23317",
   "metadata": {},
   "outputs": [
    {
     "data": {
      "text/plain": [
       "0    0.908426\n",
       "1    0.091574\n",
       "Name: Target Class, dtype: float64"
      ]
     },
     "execution_count": 7,
     "metadata": {},
     "output_type": "execute_result"
    }
   ],
   "source": [
    "data['Target Class'].value_counts() / np.float(len(data))"
   ]
  },
  {
   "cell_type": "code",
   "execution_count": 8,
   "id": "52795249",
   "metadata": {},
   "outputs": [
    {
     "name": "stdout",
     "output_type": "stream",
     "text": [
      "<class 'pandas.core.frame.DataFrame'>\n",
      "RangeIndex: 17898 entries, 0 to 17897\n",
      "Data columns (total 9 columns):\n",
      " #   Column           Non-Null Count  Dtype  \n",
      "---  ------           --------------  -----  \n",
      " 0   IP Mean          17898 non-null  float64\n",
      " 1   IP Std           17898 non-null  float64\n",
      " 2   IP Kurtosis      17898 non-null  float64\n",
      " 3   IP Skewness      17898 non-null  float64\n",
      " 4   DM-SNR Mean      17898 non-null  float64\n",
      " 5   DM-SNR Std       17898 non-null  float64\n",
      " 6   DM-SNR Kurtosis  17898 non-null  float64\n",
      " 7   DM-SNR Skewness  17898 non-null  float64\n",
      " 8   Target Class     17898 non-null  int64  \n",
      "dtypes: float64(8), int64(1)\n",
      "memory usage: 1.2 MB\n"
     ]
    }
   ],
   "source": [
    "data.info()"
   ]
  },
  {
   "cell_type": "code",
   "execution_count": 9,
   "id": "7092ddb1",
   "metadata": {},
   "outputs": [
    {
     "data": {
      "text/plain": [
       "IP Mean            0\n",
       "IP Std             0\n",
       "IP Kurtosis        0\n",
       "IP Skewness        0\n",
       "DM-SNR Mean        0\n",
       "DM-SNR Std         0\n",
       "DM-SNR Kurtosis    0\n",
       "DM-SNR Skewness    0\n",
       "Target Class       0\n",
       "dtype: int64"
      ]
     },
     "execution_count": 9,
     "metadata": {},
     "output_type": "execute_result"
    }
   ],
   "source": [
    "data.isnull().sum()"
   ]
  },
  {
   "cell_type": "markdown",
   "id": "e9902937",
   "metadata": {},
   "source": [
    "### Summary:\n",
    "\n",
    "    1) There are 9 numerical variables in this dataset,\n",
    "    2) 8 columns are continuous & 1 column is descrete,\n",
    "    3) Descrete variable is \"Target Class\" (Target Variable).\n",
    "    4) There are no missing values in this dataset till now."
   ]
  },
  {
   "cell_type": "code",
   "execution_count": 10,
   "id": "fc553b12",
   "metadata": {},
   "outputs": [
    {
     "data": {
      "text/html": [
       "<div>\n",
       "<style scoped>\n",
       "    .dataframe tbody tr th:only-of-type {\n",
       "        vertical-align: middle;\n",
       "    }\n",
       "\n",
       "    .dataframe tbody tr th {\n",
       "        vertical-align: top;\n",
       "    }\n",
       "\n",
       "    .dataframe thead th {\n",
       "        text-align: right;\n",
       "    }\n",
       "</style>\n",
       "<table border=\"1\" class=\"dataframe\">\n",
       "  <thead>\n",
       "    <tr style=\"text-align: right;\">\n",
       "      <th></th>\n",
       "      <th>IP Mean</th>\n",
       "      <th>IP Std</th>\n",
       "      <th>IP Kurtosis</th>\n",
       "      <th>IP Skewness</th>\n",
       "      <th>DM-SNR Mean</th>\n",
       "      <th>DM-SNR Std</th>\n",
       "      <th>DM-SNR Kurtosis</th>\n",
       "      <th>DM-SNR Skewness</th>\n",
       "      <th>Target Class</th>\n",
       "    </tr>\n",
       "  </thead>\n",
       "  <tbody>\n",
       "    <tr>\n",
       "      <th>count</th>\n",
       "      <td>17898.000000</td>\n",
       "      <td>17898.000000</td>\n",
       "      <td>17898.000000</td>\n",
       "      <td>17898.000000</td>\n",
       "      <td>17898.000000</td>\n",
       "      <td>17898.000000</td>\n",
       "      <td>17898.000000</td>\n",
       "      <td>17898.000000</td>\n",
       "      <td>17898.000000</td>\n",
       "    </tr>\n",
       "    <tr>\n",
       "      <th>mean</th>\n",
       "      <td>111.079968</td>\n",
       "      <td>46.549532</td>\n",
       "      <td>0.477857</td>\n",
       "      <td>1.770279</td>\n",
       "      <td>12.614400</td>\n",
       "      <td>26.326515</td>\n",
       "      <td>8.303556</td>\n",
       "      <td>104.857709</td>\n",
       "      <td>0.091574</td>\n",
       "    </tr>\n",
       "    <tr>\n",
       "      <th>std</th>\n",
       "      <td>25.652935</td>\n",
       "      <td>6.843189</td>\n",
       "      <td>1.064040</td>\n",
       "      <td>6.167913</td>\n",
       "      <td>29.472897</td>\n",
       "      <td>19.470572</td>\n",
       "      <td>4.506092</td>\n",
       "      <td>106.514540</td>\n",
       "      <td>0.288432</td>\n",
       "    </tr>\n",
       "    <tr>\n",
       "      <th>min</th>\n",
       "      <td>5.812500</td>\n",
       "      <td>24.772042</td>\n",
       "      <td>-1.876011</td>\n",
       "      <td>-1.791886</td>\n",
       "      <td>0.213211</td>\n",
       "      <td>7.370432</td>\n",
       "      <td>-3.139270</td>\n",
       "      <td>-1.976976</td>\n",
       "      <td>0.000000</td>\n",
       "    </tr>\n",
       "    <tr>\n",
       "      <th>25%</th>\n",
       "      <td>100.929688</td>\n",
       "      <td>42.376018</td>\n",
       "      <td>0.027098</td>\n",
       "      <td>-0.188572</td>\n",
       "      <td>1.923077</td>\n",
       "      <td>14.437332</td>\n",
       "      <td>5.781506</td>\n",
       "      <td>34.960504</td>\n",
       "      <td>0.000000</td>\n",
       "    </tr>\n",
       "    <tr>\n",
       "      <th>50%</th>\n",
       "      <td>115.078125</td>\n",
       "      <td>46.947479</td>\n",
       "      <td>0.223240</td>\n",
       "      <td>0.198710</td>\n",
       "      <td>2.801839</td>\n",
       "      <td>18.461316</td>\n",
       "      <td>8.433515</td>\n",
       "      <td>83.064556</td>\n",
       "      <td>0.000000</td>\n",
       "    </tr>\n",
       "    <tr>\n",
       "      <th>75%</th>\n",
       "      <td>127.085938</td>\n",
       "      <td>51.023202</td>\n",
       "      <td>0.473325</td>\n",
       "      <td>0.927783</td>\n",
       "      <td>5.464256</td>\n",
       "      <td>28.428104</td>\n",
       "      <td>10.702959</td>\n",
       "      <td>139.309330</td>\n",
       "      <td>0.000000</td>\n",
       "    </tr>\n",
       "    <tr>\n",
       "      <th>max</th>\n",
       "      <td>192.617188</td>\n",
       "      <td>98.778911</td>\n",
       "      <td>8.069522</td>\n",
       "      <td>68.101622</td>\n",
       "      <td>223.392141</td>\n",
       "      <td>110.642211</td>\n",
       "      <td>34.539844</td>\n",
       "      <td>1191.000837</td>\n",
       "      <td>1.000000</td>\n",
       "    </tr>\n",
       "  </tbody>\n",
       "</table>\n",
       "</div>"
      ],
      "text/plain": [
       "            IP Mean        IP Std   IP Kurtosis   IP Skewness   DM-SNR Mean  \\\n",
       "count  17898.000000  17898.000000  17898.000000  17898.000000  17898.000000   \n",
       "mean     111.079968     46.549532      0.477857      1.770279     12.614400   \n",
       "std       25.652935      6.843189      1.064040      6.167913     29.472897   \n",
       "min        5.812500     24.772042     -1.876011     -1.791886      0.213211   \n",
       "25%      100.929688     42.376018      0.027098     -0.188572      1.923077   \n",
       "50%      115.078125     46.947479      0.223240      0.198710      2.801839   \n",
       "75%      127.085938     51.023202      0.473325      0.927783      5.464256   \n",
       "max      192.617188     98.778911      8.069522     68.101622    223.392141   \n",
       "\n",
       "         DM-SNR Std  DM-SNR Kurtosis  DM-SNR Skewness  Target Class  \n",
       "count  17898.000000     17898.000000     17898.000000  17898.000000  \n",
       "mean      26.326515         8.303556       104.857709      0.091574  \n",
       "std       19.470572         4.506092       106.514540      0.288432  \n",
       "min        7.370432        -3.139270        -1.976976      0.000000  \n",
       "25%       14.437332         5.781506        34.960504      0.000000  \n",
       "50%       18.461316         8.433515        83.064556      0.000000  \n",
       "75%       28.428104        10.702959       139.309330      0.000000  \n",
       "max      110.642211        34.539844      1191.000837      1.000000  "
      ]
     },
     "execution_count": 10,
     "metadata": {},
     "output_type": "execute_result"
    }
   ],
   "source": [
    "data.describe()"
   ]
  },
  {
   "cell_type": "code",
   "execution_count": 11,
   "id": "4e613bf7",
   "metadata": {},
   "outputs": [],
   "source": [
    "sns.set_style('darkgrid')\n",
    "sns.set_context('notebook')"
   ]
  },
  {
   "cell_type": "markdown",
   "id": "22e59b20",
   "metadata": {},
   "source": [
    "### Checking the Outliers of Variables"
   ]
  },
  {
   "cell_type": "code",
   "execution_count": 12,
   "id": "ce30080d",
   "metadata": {},
   "outputs": [
    {
     "data": {
      "text/plain": [
       "<AxesSubplot:ylabel='IP Mean'>"
      ]
     },
     "execution_count": 12,
     "metadata": {},
     "output_type": "execute_result"
    },
    {
     "data": {
      "image/png": "[encoded data removed]",
      "text/plain": [
       "<Figure size 432x288 with 1 Axes>"
      ]
     },
     "metadata": {},
     "output_type": "display_data"
    }
   ],
   "source": [
    "sns.boxplot(y='IP Mean', data=data)"
   ]
  },
  {
   "cell_type": "code",
   "execution_count": 13,
   "id": "4bd1e8e2",
   "metadata": {},
   "outputs": [
    {
     "data": {
      "text/plain": [
       "<AxesSubplot:ylabel='IP Std'>"
      ]
     },
     "execution_count": 13,
     "metadata": {},
     "output_type": "execute_result"
    },
    {
     "data": {
      "image/png": "[encoded data removed]",
      "text/plain": [
       "<Figure size 432x288 with 1 Axes>"
      ]
     },
     "metadata": {},
     "output_type": "display_data"
    }
   ],
   "source": [
    "sns.boxplot(y='IP Std', data=data)"
   ]
  },
  {
   "cell_type": "code",
   "execution_count": 14,
   "id": "34250473",
   "metadata": {},
   "outputs": [
    {
     "data": {
      "text/plain": [
       "<AxesSubplot:ylabel='IP Kurtosis'>"
      ]
     },
     "execution_count": 14,
     "metadata": {},
     "output_type": "execute_result"
    },
    {
     "data": {
      "image/png": "[encoded data removed]",
      "text/plain": [
       "<Figure size 432x288 with 1 Axes>"
      ]
     },
     "metadata": {},
     "output_type": "display_data"
    }
   ],
   "source": [
    "sns.boxplot(y='IP Kurtosis', data=data)"
   ]
  },
  {
   "cell_type": "code",
   "execution_count": 15,
   "id": "28f38f01",
   "metadata": {},
   "outputs": [
    {
     "data": {
      "text/plain": [
       "<AxesSubplot:ylabel='IP Skewness'>"
      ]
     },
     "execution_count": 15,
     "metadata": {},
     "output_type": "execute_result"
    },
    {
     "data": {
      "image/png": "[encoded data removed]",
      "text/plain": [
       "<Figure size 432x288 with 1 Axes>"
      ]
     },
     "metadata": {},
     "output_type": "display_data"
    }
   ],
   "source": [
    "sns.boxplot(y='IP Skewness', data=data)"
   ]
  },
  {
   "cell_type": "code",
   "execution_count": 16,
   "id": "e6ec520c",
   "metadata": {},
   "outputs": [
    {
     "data": {
      "text/plain": [
       "<AxesSubplot:ylabel='DM-SNR Mean'>"
      ]
     },
     "execution_count": 16,
     "metadata": {},
     "output_type": "execute_result"
    },
    {
     "data": {
      "image/png": "[encoded data removed]",
      "text/plain": [
       "<Figure size 432x288 with 1 Axes>"
      ]
     },
     "metadata": {},
     "output_type": "display_data"
    }
   ],
   "source": [
    "sns.boxplot(y='DM-SNR Mean', data=data)"
   ]
  },
  {
   "cell_type": "code",
   "execution_count": 17,
   "id": "53212153",
   "metadata": {},
   "outputs": [
    {
     "data": {
      "text/plain": [
       "<AxesSubplot:ylabel='DM-SNR Std'>"
      ]
     },
     "execution_count": 17,
     "metadata": {},
     "output_type": "execute_result"
    },
    {
     "data": {
      "image/png": "[encoded data removed]",
      "text/plain": [
       "<Figure size 432x288 with 1 Axes>"
      ]
     },
     "metadata": {},
     "output_type": "display_data"
    }
   ],
   "source": [
    "sns.boxplot(y='DM-SNR Std', data=data)"
   ]
  },
  {
   "cell_type": "code",
   "execution_count": 18,
   "id": "8025d103",
   "metadata": {},
   "outputs": [
    {
     "data": {
      "text/plain": [
       "<AxesSubplot:ylabel='DM-SNR Kurtosis'>"
      ]
     },
     "execution_count": 18,
     "metadata": {},
     "output_type": "execute_result"
    },
    {
     "data": {
      "image/png": "[encoded data removed]",
      "text/plain": [
       "<Figure size 432x288 with 1 Axes>"
      ]
     },
     "metadata": {},
     "output_type": "display_data"
    }
   ],
   "source": [
    "sns.boxplot(y='DM-SNR Kurtosis', data=data)"
   ]
  },
  {
   "cell_type": "code",
   "execution_count": 19,
   "id": "587dafe0",
   "metadata": {},
   "outputs": [
    {
     "data": {
      "text/plain": [
       "<AxesSubplot:ylabel='DM-SNR Skewness'>"
      ]
     },
     "execution_count": 19,
     "metadata": {},
     "output_type": "execute_result"
    },
    {
     "data": {
      "image/png": "[encoded data removed]",
      "text/plain": [
       "<Figure size 432x288 with 1 Axes>"
      ]
     },
     "metadata": {},
     "output_type": "display_data"
    }
   ],
   "source": [
    "sns.boxplot(y='DM-SNR Skewness', data=data)"
   ]
  },
  {
   "cell_type": "code",
   "execution_count": 20,
   "id": "ba4b5385",
   "metadata": {},
   "outputs": [
    {
     "data": {
      "text/plain": [
       "<AxesSubplot:xlabel='Target Class', ylabel='count'>"
      ]
     },
     "execution_count": 20,
     "metadata": {},
     "output_type": "execute_result"
    },
    {
     "data": {
      "image/png": "[encoded data removed]",
      "text/plain": [
       "<Figure size 432x288 with 1 Axes>"
      ]
     },
     "metadata": {},
     "output_type": "display_data"
    }
   ],
   "source": [
    "sns.countplot(x='Target Class', data=data)"
   ]
  },
  {
   "cell_type": "markdown",
   "id": "5859ac74",
   "metadata": {},
   "source": [
    "## Handling Outliers With SVM\n",
    "\n",
    "    There are 2 variants of SVM :-\n",
    "    \n",
    "    1) Hard-Margin Variant,\n",
    "    2) Soft-Margin Variant\n",
    "    \n",
    "    \n",
    "    - The Hard-Margin variant of SVM does not deal with outliers. In this case we want to find the Hyperplane with maximum\n",
    "      Margin such that every training point is correctly classified with margin at least 1. This technique handles Outliers\n",
    "      very well.\n",
    "    \n",
    "    - Soft-Margin variant of SVM, in this case we have a few points incorrectly classified or classified with Margin less\n",
    "      than 1. But for every such point we have to pay a penalty in the form of C parameter, which controls the outlier.\n",
    "    \n",
    "        - Lower C values implies we are allowing more outliers & higher C values implies less outliers.\n",
    "        - The conclusion for this dataset is that, since the dataset contains outliers the value of C should be high while\n",
    "          training the model."
   ]
  },
  {
   "cell_type": "markdown",
   "id": "1e24b417",
   "metadata": {},
   "source": [
    "### Checking the Distribution of Variables"
   ]
  },
  {
   "cell_type": "code",
   "execution_count": 21,
   "id": "09b590aa",
   "metadata": {},
   "outputs": [
    {
     "data": {
      "text/plain": [
       "<AxesSubplot:xlabel='IP Mean', ylabel='Density'>"
      ]
     },
     "execution_count": 21,
     "metadata": {},
     "output_type": "execute_result"
    },
    {
     "data": {
      "image/png": "[encoded data removed]",
      "text/plain": [
       "<Figure size 432x288 with 1 Axes>"
      ]
     },
     "metadata": {},
     "output_type": "display_data"
    }
   ],
   "source": [
    "sns.distplot(data['IP Mean'], bins=20)"
   ]
  },
  {
   "cell_type": "code",
   "execution_count": 22,
   "id": "c17ff4a5",
   "metadata": {},
   "outputs": [
    {
     "data": {
      "text/plain": [
       "<AxesSubplot:xlabel='IP Std', ylabel='Density'>"
      ]
     },
     "execution_count": 22,
     "metadata": {},
     "output_type": "execute_result"
    },
    {
     "data": {
      "image/png": "[encoded data removed]",
      "text/plain": [
       "<Figure size 432x288 with 1 Axes>"
      ]
     },
     "metadata": {},
     "output_type": "display_data"
    }
   ],
   "source": [
    "sns.distplot(data['IP Std'], bins=20)"
   ]
  },
  {
   "cell_type": "code",
   "execution_count": 23,
   "id": "0756acef",
   "metadata": {},
   "outputs": [
    {
     "data": {
      "text/plain": [
       "<AxesSubplot:xlabel='IP Kurtosis', ylabel='Density'>"
      ]
     },
     "execution_count": 23,
     "metadata": {},
     "output_type": "execute_result"
    },
    {
     "data": {
      "image/png": "[encoded data removed]",
      "text/plain": [
       "<Figure size 432x288 with 1 Axes>"
      ]
     },
     "metadata": {},
     "output_type": "display_data"
    }
   ],
   "source": [
    "sns.distplot(data['IP Kurtosis'], bins=20)"
   ]
  },
  {
   "cell_type": "code",
   "execution_count": 24,
   "id": "639a463e",
   "metadata": {},
   "outputs": [
    {
     "data": {
      "text/plain": [
       "<AxesSubplot:xlabel='IP Skewness', ylabel='Density'>"
      ]
     },
     "execution_count": 24,
     "metadata": {},
     "output_type": "execute_result"
    },
    {
     "data": {
      "image/png": "[encoded data removed]",
      "text/plain": [
       "<Figure size 432x288 with 1 Axes>"
      ]
     },
     "metadata": {},
     "output_type": "display_data"
    }
   ],
   "source": [
    "sns.distplot(data['IP Skewness'], bins=20)"
   ]
  },
  {
   "cell_type": "code",
   "execution_count": 25,
   "id": "8344f063",
   "metadata": {},
   "outputs": [
    {
     "data": {
      "text/plain": [
       "<AxesSubplot:xlabel='DM-SNR Mean', ylabel='Density'>"
      ]
     },
     "execution_count": 25,
     "metadata": {},
     "output_type": "execute_result"
    },
    {
     "data": {
      "image/png": "[encoded data removed]",
      "text/plain": [
       "<Figure size 432x288 with 1 Axes>"
      ]
     },
     "metadata": {},
     "output_type": "display_data"
    }
   ],
   "source": [
    "sns.distplot(data['DM-SNR Mean'], bins=20)"
   ]
  },
  {
   "cell_type": "code",
   "execution_count": 26,
   "id": "579375c0",
   "metadata": {},
   "outputs": [
    {
     "data": {
      "text/plain": [
       "<AxesSubplot:xlabel='DM-SNR Std', ylabel='Density'>"
      ]
     },
     "execution_count": 26,
     "metadata": {},
     "output_type": "execute_result"
    },
    {
     "data": {
      "image/png": "[encoded data removed]",
      "text/plain": [
       "<Figure size 432x288 with 1 Axes>"
      ]
     },
     "metadata": {},
     "output_type": "display_data"
    }
   ],
   "source": [
    "sns.distplot(data['DM-SNR Std'], bins=20)"
   ]
  },
  {
   "cell_type": "code",
   "execution_count": 27,
   "id": "faa8b767",
   "metadata": {},
   "outputs": [
    {
     "data": {
      "text/plain": [
       "<AxesSubplot:xlabel='DM-SNR Kurtosis', ylabel='Density'>"
      ]
     },
     "execution_count": 27,
     "metadata": {},
     "output_type": "execute_result"
    },
    {
     "data": {
      "image/png": "[encoded data removed]",
      "text/plain": [
       "<Figure size 432x288 with 1 Axes>"
      ]
     },
     "metadata": {},
     "output_type": "display_data"
    }
   ],
   "source": [
    "sns.distplot(data['DM-SNR Kurtosis'], bins=20)"
   ]
  },
  {
   "cell_type": "code",
   "execution_count": 28,
   "id": "e6f2da2a",
   "metadata": {},
   "outputs": [
    {
     "data": {
      "text/plain": [
       "<AxesSubplot:xlabel='DM-SNR Skewness', ylabel='Density'>"
      ]
     },
     "execution_count": 28,
     "metadata": {},
     "output_type": "execute_result"
    },
    {
     "data": {
      "image/png": "[encoded data removed]",
      "text/plain": [
       "<Figure size 432x288 with 1 Axes>"
      ]
     },
     "metadata": {},
     "output_type": "display_data"
    }
   ],
   "source": [
    "sns.distplot(data['DM-SNR Skewness'], bins=20)"
   ]
  },
  {
   "cell_type": "markdown",
   "id": "31348e97",
   "metadata": {},
   "source": [
    "### Input & Target Columns"
   ]
  },
  {
   "cell_type": "code",
   "execution_count": 29,
   "id": "97b330ef",
   "metadata": {},
   "outputs": [],
   "source": [
    "X = data.drop(['Target Class'], axis=1)"
   ]
  },
  {
   "cell_type": "code",
   "execution_count": 30,
   "id": "05919ce4",
   "metadata": {},
   "outputs": [],
   "source": [
    "Y = data['Target Class']"
   ]
  },
  {
   "cell_type": "markdown",
   "id": "3a4e262b",
   "metadata": {},
   "source": [
    "### Splitting Data Into Training & Testing Data"
   ]
  },
  {
   "cell_type": "code",
   "execution_count": 31,
   "id": "e999c464",
   "metadata": {},
   "outputs": [],
   "source": [
    "from sklearn.model_selection import train_test_split"
   ]
  },
  {
   "cell_type": "code",
   "execution_count": 32,
   "id": "06050a39",
   "metadata": {},
   "outputs": [],
   "source": [
    "X_train, X_test, Y_train, Y_test = train_test_split(X, Y, test_size=0.2, random_state=0)"
   ]
  },
  {
   "cell_type": "code",
   "execution_count": 34,
   "id": "6f0e0e32",
   "metadata": {},
   "outputs": [
    {
     "data": {
      "text/plain": [
       "((14318, 8), (14318,))"
      ]
     },
     "execution_count": 34,
     "metadata": {},
     "output_type": "execute_result"
    }
   ],
   "source": [
    "X_train.shape, Y_train.shape"
   ]
  },
  {
   "cell_type": "code",
   "execution_count": 35,
   "id": "8106c249",
   "metadata": {},
   "outputs": [
    {
     "data": {
      "text/plain": [
       "((3580, 8), (3580,))"
      ]
     },
     "execution_count": 35,
     "metadata": {},
     "output_type": "execute_result"
    }
   ],
   "source": [
    "X_test.shape, Y_test.shape"
   ]
  },
  {
   "cell_type": "markdown",
   "id": "0d054df8",
   "metadata": {},
   "source": [
    "### Scaling"
   ]
  },
  {
   "cell_type": "code",
   "execution_count": 36,
   "id": "668b3004",
   "metadata": {},
   "outputs": [],
   "source": [
    "cols = X_train.columns"
   ]
  },
  {
   "cell_type": "code",
   "execution_count": 37,
   "id": "45ebc02c",
   "metadata": {},
   "outputs": [],
   "source": [
    "from sklearn.preprocessing import StandardScaler"
   ]
  },
  {
   "cell_type": "code",
   "execution_count": 38,
   "id": "bf7f73c4",
   "metadata": {},
   "outputs": [],
   "source": [
    "scaler = StandardScaler()"
   ]
  },
  {
   "cell_type": "code",
   "execution_count": 39,
   "id": "72de46fa",
   "metadata": {},
   "outputs": [],
   "source": [
    "X_train = scaler.fit_transform(X_train)\n",
    "X_test = scaler.fit_transform(X_test)"
   ]
  },
  {
   "cell_type": "code",
   "execution_count": 41,
   "id": "be4c7fea",
   "metadata": {},
   "outputs": [],
   "source": [
    "X_train = pd.DataFrame(X_train, columns=cols)\n",
    "X_test = pd.DataFrame(X_test, columns=cols)"
   ]
  },
  {
   "cell_type": "markdown",
   "id": "6b633285",
   "metadata": {},
   "source": [
    "### SVM Model"
   ]
  },
  {
   "cell_type": "code",
   "execution_count": 43,
   "id": "b73efefd",
   "metadata": {},
   "outputs": [],
   "source": [
    "from sklearn.svm import SVC\n",
    "from sklearn.metrics import accuracy_score, classification_report"
   ]
  },
  {
   "cell_type": "code",
   "execution_count": 44,
   "id": "001307a9",
   "metadata": {},
   "outputs": [],
   "source": [
    "svc = SVC()"
   ]
  },
  {
   "cell_type": "code",
   "execution_count": 45,
   "id": "bf819eb2",
   "metadata": {},
   "outputs": [
    {
     "data": {
      "text/plain": [
       "SVC()"
      ]
     },
     "execution_count": 45,
     "metadata": {},
     "output_type": "execute_result"
    }
   ],
   "source": [
    "svc.fit(X_train, Y_train)"
   ]
  },
  {
   "cell_type": "code",
   "execution_count": 46,
   "id": "99a591a9",
   "metadata": {},
   "outputs": [],
   "source": [
    "y_pred = svc.predict(X_test)"
   ]
  },
  {
   "cell_type": "code",
   "execution_count": 47,
   "id": "92f3aaa4",
   "metadata": {},
   "outputs": [
    {
     "name": "stdout",
     "output_type": "stream",
     "text": [
      "Model Accuracy Score : 0.9829608938547486\n"
     ]
    }
   ],
   "source": [
    "print('Model Accuracy Score :', accuracy_score(Y_test, y_pred))"
   ]
  },
  {
   "cell_type": "markdown",
   "id": "d5fef284",
   "metadata": {},
   "source": [
    "### Handling Outlier with \"C\""
   ]
  },
  {
   "cell_type": "code",
   "execution_count": 48,
   "id": "5630ea67",
   "metadata": {},
   "outputs": [],
   "source": [
    "svc1 = SVC(C=100.0)"
   ]
  },
  {
   "cell_type": "code",
   "execution_count": 49,
   "id": "48b79f32",
   "metadata": {},
   "outputs": [
    {
     "data": {
      "text/plain": [
       "SVC(C=100.0)"
      ]
     },
     "execution_count": 49,
     "metadata": {},
     "output_type": "execute_result"
    }
   ],
   "source": [
    "svc1.fit(X_train, Y_train)"
   ]
  },
  {
   "cell_type": "code",
   "execution_count": 50,
   "id": "dede1d4b",
   "metadata": {},
   "outputs": [],
   "source": [
    "y_pred1 = svc1.predict(X_test)"
   ]
  },
  {
   "cell_type": "code",
   "execution_count": 51,
   "id": "7585a209",
   "metadata": {},
   "outputs": [
    {
     "name": "stdout",
     "output_type": "stream",
     "text": [
      "Model Accuracy Score : 0.9846368715083799\n"
     ]
    }
   ],
   "source": [
    "print(\"Model Accuracy Score :\", accuracy_score(Y_test, y_pred1))"
   ]
  },
  {
   "cell_type": "code",
   "execution_count": 52,
   "id": "433186ee",
   "metadata": {},
   "outputs": [
    {
     "name": "stdout",
     "output_type": "stream",
     "text": [
      "Classification Report\n",
      "\n",
      "              precision    recall  f1-score   support\n",
      "\n",
      "           0       0.99      0.99      0.99      3306\n",
      "           1       0.92      0.88      0.90       274\n",
      "\n",
      "    accuracy                           0.98      3580\n",
      "   macro avg       0.95      0.94      0.94      3580\n",
      "weighted avg       0.98      0.98      0.98      3580\n",
      "\n"
     ]
    }
   ],
   "source": [
    "print(\"Classification Report\\n\")\n",
    "print(classification_report(Y_test, y_pred1))"
   ]
  },
  {
   "cell_type": "code",
   "execution_count": 54,
   "id": "a5508049",
   "metadata": {},
   "outputs": [
    {
     "name": "stdout",
     "output_type": "stream",
     "text": [
      "Model Accuracy Score : 0.9815642458100559\n",
      "\n",
      "Classification Report\n",
      "\n",
      "              precision    recall  f1-score   support\n",
      "\n",
      "           0       0.99      0.99      0.99      3306\n",
      "           1       0.90      0.86      0.88       274\n",
      "\n",
      "    accuracy                           0.98      3580\n",
      "   macro avg       0.94      0.92      0.93      3580\n",
      "weighted avg       0.98      0.98      0.98      3580\n",
      "\n"
     ]
    }
   ],
   "source": [
    "svc2 = SVC(C=1000.0)\n",
    "svc2.fit(X_train, Y_train)\n",
    "y_pred2 = svc2.predict(X_test)\n",
    "print(\"Model Accuracy Score :\", accuracy_score(Y_test, y_pred2))\n",
    "print(\"\\nClassification Report\\n\")\n",
    "print(classification_report(Y_test, y_pred2))"
   ]
  },
  {
   "cell_type": "markdown",
   "id": "6225d42f",
   "metadata": {},
   "source": [
    "### Confusion Matrix"
   ]
  },
  {
   "cell_type": "code",
   "execution_count": 72,
   "id": "5539e7fc",
   "metadata": {},
   "outputs": [],
   "source": [
    "from sklearn.metrics import confusion_matrix"
   ]
  },
  {
   "cell_type": "code",
   "execution_count": 73,
   "id": "e402853a",
   "metadata": {},
   "outputs": [],
   "source": [
    "cm = confusion_matrix(Y_test, y_pred2)"
   ]
  },
  {
   "cell_type": "code",
   "execution_count": 74,
   "id": "478d3b98",
   "metadata": {},
   "outputs": [
    {
     "data": {
      "text/plain": [
       "array([[3279,   27],\n",
       "       [  39,  235]], dtype=int64)"
      ]
     },
     "execution_count": 74,
     "metadata": {},
     "output_type": "execute_result"
    }
   ],
   "source": [
    "cm"
   ]
  },
  {
   "cell_type": "code",
   "execution_count": 75,
   "id": "fe32a805",
   "metadata": {},
   "outputs": [
    {
     "name": "stdout",
     "output_type": "stream",
     "text": [
      "True Positive: 3279\n",
      "True Negative: 235\n",
      "False Positive: 27\n",
      "False Negative: 39\n"
     ]
    }
   ],
   "source": [
    "print('True Positive:',cm[0,0])\n",
    "print('True Negative:',cm[1,1])\n",
    "print('False Positive:',cm[0,1])\n",
    "print('False Negative:',cm[1,0])"
   ]
  },
  {
   "cell_type": "markdown",
   "id": "61dc89dd",
   "metadata": {},
   "source": [
    "### Checking for Overfitting & Underfitting"
   ]
  },
  {
   "cell_type": "code",
   "execution_count": 70,
   "id": "9b7bf045",
   "metadata": {},
   "outputs": [
    {
     "name": "stdout",
     "output_type": "stream",
     "text": [
      "Training Score : 0.9849839363039531\n",
      "Testing Score : 0.9815642458100559\n"
     ]
    }
   ],
   "source": [
    "print(\"Training Score :\", svc2.score(X_train, Y_train))\n",
    "print(\"Testing Score :\", svc2.score(X_test, Y_test))"
   ]
  },
  {
   "cell_type": "markdown",
   "id": "5d057c1f",
   "metadata": {},
   "source": [
    "### SVM with Different Kernel & C"
   ]
  },
  {
   "cell_type": "code",
   "execution_count": 71,
   "id": "a1183d7f",
   "metadata": {
    "scrolled": false
   },
   "outputs": [
    {
     "name": "stdout",
     "output_type": "stream",
     "text": [
      "Kernal: linear & C: 1.0\n",
      "Accuracy: 0.9849162011173185\n",
      "Classification Report:\n",
      "              precision    recall  f1-score   support\n",
      "\n",
      "           0       0.99      0.99      0.99      3306\n",
      "           1       0.93      0.86      0.90       274\n",
      "\n",
      "    accuracy                           0.98      3580\n",
      "   macro avg       0.96      0.93      0.94      3580\n",
      "weighted avg       0.98      0.98      0.98      3580\n",
      "\n",
      "===========================\n",
      "Kernal: linear & C: 100.0\n",
      "Accuracy: 0.9843575418994414\n",
      "Classification Report:\n",
      "              precision    recall  f1-score   support\n",
      "\n",
      "           0       0.99      0.99      0.99      3306\n",
      "           1       0.93      0.86      0.89       274\n",
      "\n",
      "    accuracy                           0.98      3580\n",
      "   macro avg       0.96      0.93      0.94      3580\n",
      "weighted avg       0.98      0.98      0.98      3580\n",
      "\n",
      "===========================\n",
      "Kernal: linear & C: 1000.0\n",
      "Accuracy: 0.9843575418994414\n",
      "Classification Report:\n",
      "              precision    recall  f1-score   support\n",
      "\n",
      "           0       0.99      0.99      0.99      3306\n",
      "           1       0.93      0.86      0.89       274\n",
      "\n",
      "    accuracy                           0.98      3580\n",
      "   macro avg       0.96      0.93      0.94      3580\n",
      "weighted avg       0.98      0.98      0.98      3580\n",
      "\n",
      "===========================\n",
      "Kernal: poly & C: 1.0\n",
      "Accuracy: 0.9826815642458101\n",
      "Classification Report:\n",
      "              precision    recall  f1-score   support\n",
      "\n",
      "           0       0.99      0.99      0.99      3306\n",
      "           1       0.92      0.85      0.88       274\n",
      "\n",
      "    accuracy                           0.98      3580\n",
      "   macro avg       0.95      0.92      0.94      3580\n",
      "weighted avg       0.98      0.98      0.98      3580\n",
      "\n",
      "===========================\n",
      "Kernal: poly & C: 100.0\n",
      "Accuracy: 0.9832402234636871\n",
      "Classification Report:\n",
      "              precision    recall  f1-score   support\n",
      "\n",
      "           0       0.99      0.99      0.99      3306\n",
      "           1       0.91      0.86      0.89       274\n",
      "\n",
      "    accuracy                           0.98      3580\n",
      "   macro avg       0.95      0.93      0.94      3580\n",
      "weighted avg       0.98      0.98      0.98      3580\n",
      "\n",
      "===========================\n",
      "Kernal: poly & C: 1000.0\n",
      "Accuracy: 0.9846368715083799\n",
      "Classification Report:\n",
      "              precision    recall  f1-score   support\n",
      "\n",
      "           0       0.99      0.99      0.99      3306\n",
      "           1       0.92      0.88      0.90       274\n",
      "\n",
      "    accuracy                           0.98      3580\n",
      "   macro avg       0.95      0.93      0.94      3580\n",
      "weighted avg       0.98      0.98      0.98      3580\n",
      "\n",
      "===========================\n",
      "Kernal: rbf & C: 1.0\n",
      "Accuracy: 0.9829608938547486\n",
      "Classification Report:\n",
      "              precision    recall  f1-score   support\n",
      "\n",
      "           0       0.99      0.99      0.99      3306\n",
      "           1       0.92      0.85      0.88       274\n",
      "\n",
      "    accuracy                           0.98      3580\n",
      "   macro avg       0.95      0.92      0.94      3580\n",
      "weighted avg       0.98      0.98      0.98      3580\n",
      "\n",
      "===========================\n",
      "Kernal: rbf & C: 100.0\n",
      "Accuracy: 0.9846368715083799\n",
      "Classification Report:\n",
      "              precision    recall  f1-score   support\n",
      "\n",
      "           0       0.99      0.99      0.99      3306\n",
      "           1       0.92      0.88      0.90       274\n",
      "\n",
      "    accuracy                           0.98      3580\n",
      "   macro avg       0.95      0.94      0.94      3580\n",
      "weighted avg       0.98      0.98      0.98      3580\n",
      "\n",
      "===========================\n",
      "Kernal: rbf & C: 1000.0\n",
      "Accuracy: 0.9815642458100559\n",
      "Classification Report:\n",
      "              precision    recall  f1-score   support\n",
      "\n",
      "           0       0.99      0.99      0.99      3306\n",
      "           1       0.90      0.86      0.88       274\n",
      "\n",
      "    accuracy                           0.98      3580\n",
      "   macro avg       0.94      0.92      0.93      3580\n",
      "weighted avg       0.98      0.98      0.98      3580\n",
      "\n",
      "===========================\n",
      "Kernal: sigmoid & C: 1.0\n",
      "Accuracy: 0.8667597765363129\n",
      "Classification Report:\n",
      "              precision    recall  f1-score   support\n",
      "\n",
      "           0       0.94      0.91      0.93      3306\n",
      "           1       0.23      0.31      0.27       274\n",
      "\n",
      "    accuracy                           0.87      3580\n",
      "   macro avg       0.59      0.61      0.60      3580\n",
      "weighted avg       0.89      0.87      0.88      3580\n",
      "\n",
      "===========================\n",
      "Kernal: sigmoid & C: 100.0\n",
      "Accuracy: 0.8656424581005586\n",
      "Classification Report:\n",
      "              precision    recall  f1-score   support\n",
      "\n",
      "           0       0.94      0.91      0.93      3306\n",
      "           1       0.23      0.31      0.26       274\n",
      "\n",
      "    accuracy                           0.87      3580\n",
      "   macro avg       0.58      0.61      0.59      3580\n",
      "weighted avg       0.89      0.87      0.88      3580\n",
      "\n",
      "===========================\n",
      "Kernal: sigmoid & C: 1000.0\n",
      "Accuracy: 0.8656424581005586\n",
      "Classification Report:\n",
      "              precision    recall  f1-score   support\n",
      "\n",
      "           0       0.94      0.91      0.93      3306\n",
      "           1       0.23      0.31      0.26       274\n",
      "\n",
      "    accuracy                           0.87      3580\n",
      "   macro avg       0.58      0.61      0.59      3580\n",
      "weighted avg       0.89      0.87      0.88      3580\n",
      "\n",
      "===========================\n"
     ]
    }
   ],
   "source": [
    "kernals = ['linear', 'poly', 'rbf', 'sigmoid']\n",
    "c_vals = [1.0, 100.0, 1000.0]\n",
    "\n",
    "for k in kernals:\n",
    "    for c in c_vals:\n",
    "        svc = SVC(kernel=k, C=c)\n",
    "        svc.fit(X_train, Y_train)\n",
    "        Y_pred = svc.predict(X_test)\n",
    "        acc = accuracy_score(Y_test, Y_pred)\n",
    "        cl = classification_report(Y_test, Y_pred)\n",
    "        print(\"Kernal:\",k,\"& C:\",c)\n",
    "        print(\"Accuracy:\",acc)\n",
    "        print(\"Classification Report:\")\n",
    "        print(cl)\n",
    "        print(\"===========================\")"
   ]
  }
 ],
 "metadata": {
  "kernelspec": {
   "display_name": "Python 3 (ipykernel)",
   "language": "python",
   "name": "python3"
  },
  "language_info": {
   "codemirror_mode": {
    "name": "ipython",
    "version": 3
   },
   "file_extension": ".py",
   "mimetype": "text/x-python",
   "name": "python",
   "nbconvert_exporter": "python",
   "pygments_lexer": "ipython3",
   "version": "3.8.11"
  }
 },
 "nbformat": 4,
 "nbformat_minor": 5
}
