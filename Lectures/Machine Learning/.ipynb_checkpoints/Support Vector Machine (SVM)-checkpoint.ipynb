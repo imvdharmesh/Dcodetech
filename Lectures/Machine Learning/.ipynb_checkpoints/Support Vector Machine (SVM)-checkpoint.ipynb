{
 "cells": [
  {
   "cell_type": "raw",
   "id": "091dcdf8",
   "metadata": {},
   "source": [
    "Date - 06/10/2021  11:15 AM to 01:30 PM"
   ]
  },
  {
   "cell_type": "markdown",
   "id": "5d6c0223",
   "metadata": {},
   "source": [
    "# Support Vectore Machine\n",
    "\n",
    "    - Support Vector Machines (SVM) are supervised machine learning agorithm that are used for classification and\n",
    "      regression.\n",
    "    - SVM are typically used for classification, regression & outlier detection purpose.\n",
    "    - An SVM builds a model that assigns new data point to one of the given categories.\n",
    "    - SVM can be used for linear classification purpose."
   ]
  },
  {
   "cell_type": "markdown",
   "id": "051cb60a",
   "metadata": {},
   "source": [
    "## SVM Terminology\n",
    "\n",
    "### Hyperplane:\n",
    "\n",
    "    - A hyperplane is a decision boundary which seperates given set of data points having different class labels.\n",
    "    - The SVM classifier seperates the data point using a hyperplane with maximum amount of margin.\n",
    "    - This hyperplane is known as the maximum margin hyperplane and the linear classifier it defines is known as the\n",
    "      maximum margin classfier.\n",
    "      \n",
    "### Margin:\n",
    "    \n",
    "    - A margin is a seperation gap between two lines on the closest data point.\n",
    "    - It is calculated as the perpendicular distance from the line to closest data point.\n",
    "    - In SVM we try to maximize this seperation gap so that we get maximum margin.\n",
    "\n",
    "<img src='https://miro.medium.com/max/1400/1*06GSco3ItM3gwW2scY6Tmg.png' height=500, width=600/>"
   ]
  },
  {
   "cell_type": "markdown",
   "id": "d25e19b5",
   "metadata": {},
   "source": [
    "<b>\n",
    "    In SVM our main objective is to select a hyperplane with the maximum possible margin between SVM in the given dataset.</br>\n",
    "    SVM searches for the maximum margin hyperplane in the following 2 step process:-\n",
    "</b>\n",
    "    \n",
    "    1. Generate hyperplane which segregates the classes in the best possible way.There are many hyperplane that might\n",
    "       classify the data. We should look for the best hyperplane that represent the largest seperation or margin between\n",
    "       two classes.\n",
    "    \n",
    "    2. We choose the hyperplane so that the distance from it to the support vector on each side is maximized. If such a\n",
    "       hyperplane exists it is known as maximum margin hyperplane and its classifier is known as maximum margin classifier."
   ]
  },
  {
   "cell_type": "markdown",
   "id": "7c62ec46",
   "metadata": {},
   "source": [
    "<h3>Problems With Dispersed Data</h3>\n",
    "    \n",
    "    - Quite Often the data points are so dispersed that it is not possible to seperate them using a linear hyperplane.   \n",
    "    - In such situation SVM uses a kernel trick to transform the the input space to a higher dimensional space, It uses a\n",
    "      mapping function to transform the 2-D input space into 3-D input space.      \n",
    "    - We can easily segregate the data points using linear speration."
   ]
  },
  {
   "cell_type": "markdown",
   "id": "5242ff7e",
   "metadata": {},
   "source": [
    "<h2>Kernel Trick</h2>\n",
    "\n",
    "    - SVM algorithm is implemented using a kernel, It uses a technique called kernel trick.\n",
    "    - In simple words a kernel is just a function that maps the data to a higher dimesnion where data is seperable.\n",
    "    - A kernel transforms a low dimensional input data space into a higher dimensional space. So it converts non linear\n",
    "      seperable problem into a linear seperable problem by adding more dimensions into it.\n",
    "    - Hence the kernel trick helps us to build a more accurate classifier. It is useful in seperation problems.\n",
    "\n",
    "<b>Different Type of Kernel Tricks:-</b>\n",
    "    \n",
    "    1) Linear Kernel\n",
    "    2) Polynomial Kernel\n",
    "    3) Radial Basis Function (RBF) or Gaussian Kernel\n",
    "    4) Sigmoid Kernel"
   ]
  },
  {
   "cell_type": "markdown",
   "id": "f8cd1cae",
   "metadata": {},
   "source": [
    "### Linear Kernel Tricks:\n",
    "\n",
    "${Formula: k(x,y) = x^T.y}$\n",
    "\n",
    "    - Linear kernel is used when the data is linearly seperated.\n",
    "    - It means the data can be seperated using a single line.\n",
    "    - It is one of the most common used type of kernel tricks, mostly used when there are large number of features in a\n",
    "      data set.\n",
    "    - Linear kernel is often used for text classification purpose.\n",
    "    - Training with linear kernel is usually faster because we need to optimize the regularization parameters.\n",
    "\n",
    "\n",
    "### Polynomial Kernel Tricks:\n",
    "\n",
    "${Formula: k(x,y) = (x^T.y + r)^d}$\n",
    "\n",
    "    - Polynomial kernel represents the similarity of vectors (training sample) in a feature space over polynomials of the\n",
    "      original variables.\n",
    "    - The polynomial kernles looks not only at the given feature of input samples to determine their similarity but also\n",
    "      combination of input samples.\n",
    "    - It is typically used in NLP (Natural Language Processing).\n",
    "\n",
    "\n",
    "### Radial Basis Function(RBF) or Gaussian Kernel Tricks:\n",
    "\n",
    "${Formula: k(x,y) = exp(-\\frac{(||x-y||)^2}{\\alpha^2})}$\n",
    "\n",
    "    - RBF is a general purose kernel,it is used when we have no prior knowledge about the data.\n",
    "\n",
    "\n",
    "### Sigmod Kernel Tricks:\n",
    "\n",
    "${Formula: k(x,y) = tanh(a.x^T.y+c)}$\n",
    "\n",
    "    - Sigmoid kernel has its origin to neural networks, we can use it as a proxy for neural networks."
   ]
  }
 ],
 "metadata": {
  "kernelspec": {
   "display_name": "Python 3 (ipykernel)",
   "language": "python",
   "name": "python3"
  },
  "language_info": {
   "codemirror_mode": {
    "name": "ipython",
    "version": 3
   },
   "file_extension": ".py",
   "mimetype": "text/x-python",
   "name": "python",
   "nbconvert_exporter": "python",
   "pygments_lexer": "ipython3",
   "version": "3.8.11"
  }
 },
 "nbformat": 4,
 "nbformat_minor": 5
}
