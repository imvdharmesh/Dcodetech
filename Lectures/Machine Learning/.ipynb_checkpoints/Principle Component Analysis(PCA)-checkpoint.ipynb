{
 "cells": [
  {
   "cell_type": "raw",
   "id": "9f1bfcb5",
   "metadata": {},
   "source": [
    "Date - 30/09/2021  11:00 AM to 01:00 PM"
   ]
  },
  {
   "cell_type": "markdown",
   "id": "b07d218a",
   "metadata": {},
   "source": [
    "## Principle Component Analysis(PCA)"
   ]
  },
  {
   "cell_type": "markdown",
   "id": "e05a75ef",
   "metadata": {},
   "source": [
    "**What is PCA?**\n",
    "\n",
    "    - PCA is an unsupervised machine learning algorithm.\n",
    "    - PCA is mainly used in dimensionality reduction in a dataset consisting of many variables that are highly co-related\n",
    "      with each other while retaining variations present in the dataset upto a maximum extent.\n",
    "    - Typically used in EDA and Predictive Analysis."
   ]
  },
  {
   "cell_type": "markdown",
   "id": "5de9008a",
   "metadata": {},
   "source": [
    "### Working\n",
    "\n",
    "    - PCA performs a linear transformation on the data so that most of thevariance or information in the dataset is\n",
    "      captured by the Principle Components.\n",
    "    - The first principle components will capture the most variance by the second,\n",
    "    \n",
    "    1. In machine learning \"Variance\" is one of the most important factors that directly affect the accuracy of the output.\n",
    "    2. When machine learning model becomes too sensitive for independent variable it tries to find out the relationship\n",
    "       between every feature which gives rise to the problem like \"overfitting\" or high variance.\n",
    "    3. Too much noise enters the dataset because of high variance and thus the results are affected."
   ]
  },
  {
   "cell_type": "markdown",
   "id": "70489933",
   "metadata": {},
   "source": [
    "### Normalization / Scaling\n",
    "\n",
    "    - Normalization is necessary to make every variable in proportion with each other.\n",
    "    - We have seen in the previous example as how we had scaled (normalize) our iris (training & testing data).\n",
    "    - We know that models which are not scaled properly in accordance with each other tends to perform poorly in comparison\n",
    "    to those scaled well."
   ]
  },
  {
   "cell_type": "code",
   "execution_count": 2,
   "id": "15445bcf",
   "metadata": {},
   "outputs": [],
   "source": [
    "import numpy as np\n",
    "import pandas as pd\n",
    "import matplotlib.pyplot as plt\n",
    "import seaborn as sns"
   ]
  },
  {
   "cell_type": "code",
   "execution_count": 58,
   "id": "b12f0e4f",
   "metadata": {},
   "outputs": [],
   "source": [
    "import warnings\n",
    "warnings.filterwarnings('ignore')"
   ]
  },
  {
   "cell_type": "code",
   "execution_count": 3,
   "id": "82806823",
   "metadata": {},
   "outputs": [],
   "source": [
    "df = pd.read_csv('Wine.csv')"
   ]
  },
  {
   "cell_type": "code",
   "execution_count": 4,
   "id": "7e958571",
   "metadata": {},
   "outputs": [
    {
     "data": {
      "text/html": [
       "<div>\n",
       "<style scoped>\n",
       "    .dataframe tbody tr th:only-of-type {\n",
       "        vertical-align: middle;\n",
       "    }\n",
       "\n",
       "    .dataframe tbody tr th {\n",
       "        vertical-align: top;\n",
       "    }\n",
       "\n",
       "    .dataframe thead th {\n",
       "        text-align: right;\n",
       "    }\n",
       "</style>\n",
       "<table border=\"1\" class=\"dataframe\">\n",
       "  <thead>\n",
       "    <tr style=\"text-align: right;\">\n",
       "      <th></th>\n",
       "      <th>Unnamed: 0</th>\n",
       "      <th>fixed.acidity</th>\n",
       "      <th>volatile.acidity</th>\n",
       "      <th>citric.acid</th>\n",
       "      <th>residual.sugar</th>\n",
       "      <th>chlorides</th>\n",
       "      <th>free.sulfur.dioxide</th>\n",
       "      <th>total.sulfur.dioxide</th>\n",
       "      <th>density</th>\n",
       "      <th>pH</th>\n",
       "      <th>sulphates</th>\n",
       "      <th>alcohol</th>\n",
       "      <th>quality</th>\n",
       "    </tr>\n",
       "  </thead>\n",
       "  <tbody>\n",
       "    <tr>\n",
       "      <th>0</th>\n",
       "      <td>1</td>\n",
       "      <td>7.4</td>\n",
       "      <td>0.70</td>\n",
       "      <td>0.00</td>\n",
       "      <td>1.9</td>\n",
       "      <td>0.076</td>\n",
       "      <td>11.0</td>\n",
       "      <td>34.0</td>\n",
       "      <td>0.9978</td>\n",
       "      <td>3.51</td>\n",
       "      <td>0.56</td>\n",
       "      <td>9.4</td>\n",
       "      <td>5</td>\n",
       "    </tr>\n",
       "    <tr>\n",
       "      <th>1</th>\n",
       "      <td>2</td>\n",
       "      <td>7.8</td>\n",
       "      <td>0.88</td>\n",
       "      <td>0.00</td>\n",
       "      <td>2.6</td>\n",
       "      <td>0.098</td>\n",
       "      <td>25.0</td>\n",
       "      <td>67.0</td>\n",
       "      <td>0.9968</td>\n",
       "      <td>3.20</td>\n",
       "      <td>0.68</td>\n",
       "      <td>9.8</td>\n",
       "      <td>5</td>\n",
       "    </tr>\n",
       "    <tr>\n",
       "      <th>2</th>\n",
       "      <td>3</td>\n",
       "      <td>7.8</td>\n",
       "      <td>0.76</td>\n",
       "      <td>0.04</td>\n",
       "      <td>2.3</td>\n",
       "      <td>0.092</td>\n",
       "      <td>15.0</td>\n",
       "      <td>54.0</td>\n",
       "      <td>0.9970</td>\n",
       "      <td>3.26</td>\n",
       "      <td>0.65</td>\n",
       "      <td>9.8</td>\n",
       "      <td>5</td>\n",
       "    </tr>\n",
       "    <tr>\n",
       "      <th>3</th>\n",
       "      <td>4</td>\n",
       "      <td>11.2</td>\n",
       "      <td>0.28</td>\n",
       "      <td>0.56</td>\n",
       "      <td>1.9</td>\n",
       "      <td>0.075</td>\n",
       "      <td>17.0</td>\n",
       "      <td>60.0</td>\n",
       "      <td>0.9980</td>\n",
       "      <td>3.16</td>\n",
       "      <td>0.58</td>\n",
       "      <td>9.8</td>\n",
       "      <td>6</td>\n",
       "    </tr>\n",
       "    <tr>\n",
       "      <th>4</th>\n",
       "      <td>5</td>\n",
       "      <td>7.4</td>\n",
       "      <td>0.70</td>\n",
       "      <td>0.00</td>\n",
       "      <td>1.9</td>\n",
       "      <td>0.076</td>\n",
       "      <td>11.0</td>\n",
       "      <td>34.0</td>\n",
       "      <td>0.9978</td>\n",
       "      <td>3.51</td>\n",
       "      <td>0.56</td>\n",
       "      <td>9.4</td>\n",
       "      <td>5</td>\n",
       "    </tr>\n",
       "  </tbody>\n",
       "</table>\n",
       "</div>"
      ],
      "text/plain": [
       "   Unnamed: 0  fixed.acidity  volatile.acidity  citric.acid  residual.sugar  \\\n",
       "0           1            7.4              0.70         0.00             1.9   \n",
       "1           2            7.8              0.88         0.00             2.6   \n",
       "2           3            7.8              0.76         0.04             2.3   \n",
       "3           4           11.2              0.28         0.56             1.9   \n",
       "4           5            7.4              0.70         0.00             1.9   \n",
       "\n",
       "   chlorides  free.sulfur.dioxide  total.sulfur.dioxide  density    pH  \\\n",
       "0      0.076                 11.0                  34.0   0.9978  3.51   \n",
       "1      0.098                 25.0                  67.0   0.9968  3.20   \n",
       "2      0.092                 15.0                  54.0   0.9970  3.26   \n",
       "3      0.075                 17.0                  60.0   0.9980  3.16   \n",
       "4      0.076                 11.0                  34.0   0.9978  3.51   \n",
       "\n",
       "   sulphates  alcohol  quality  \n",
       "0       0.56      9.4        5  \n",
       "1       0.68      9.8        5  \n",
       "2       0.65      9.8        5  \n",
       "3       0.58      9.8        6  \n",
       "4       0.56      9.4        5  "
      ]
     },
     "execution_count": 4,
     "metadata": {},
     "output_type": "execute_result"
    }
   ],
   "source": [
    "df.head()"
   ]
  },
  {
   "cell_type": "code",
   "execution_count": 5,
   "id": "52664629",
   "metadata": {},
   "outputs": [
    {
     "name": "stdout",
     "output_type": "stream",
     "text": [
      "<class 'pandas.core.frame.DataFrame'>\n",
      "RangeIndex: 1599 entries, 0 to 1598\n",
      "Data columns (total 13 columns):\n",
      " #   Column                Non-Null Count  Dtype  \n",
      "---  ------                --------------  -----  \n",
      " 0   Unnamed: 0            1599 non-null   int64  \n",
      " 1   fixed.acidity         1599 non-null   float64\n",
      " 2   volatile.acidity      1599 non-null   float64\n",
      " 3   citric.acid           1599 non-null   float64\n",
      " 4   residual.sugar        1599 non-null   float64\n",
      " 5   chlorides             1599 non-null   float64\n",
      " 6   free.sulfur.dioxide   1599 non-null   float64\n",
      " 7   total.sulfur.dioxide  1599 non-null   float64\n",
      " 8   density               1599 non-null   float64\n",
      " 9   pH                    1599 non-null   float64\n",
      " 10  sulphates             1599 non-null   float64\n",
      " 11  alcohol               1599 non-null   float64\n",
      " 12  quality               1599 non-null   int64  \n",
      "dtypes: float64(11), int64(2)\n",
      "memory usage: 162.5 KB\n"
     ]
    }
   ],
   "source": [
    "df.info()"
   ]
  },
  {
   "cell_type": "code",
   "execution_count": 6,
   "id": "5d6c0def",
   "metadata": {},
   "outputs": [
    {
     "data": {
      "text/plain": [
       "Unnamed: 0              0\n",
       "fixed.acidity           0\n",
       "volatile.acidity        0\n",
       "citric.acid             0\n",
       "residual.sugar          0\n",
       "chlorides               0\n",
       "free.sulfur.dioxide     0\n",
       "total.sulfur.dioxide    0\n",
       "density                 0\n",
       "pH                      0\n",
       "sulphates               0\n",
       "alcohol                 0\n",
       "quality                 0\n",
       "dtype: int64"
      ]
     },
     "execution_count": 6,
     "metadata": {},
     "output_type": "execute_result"
    }
   ],
   "source": [
    "df.isnull().sum()"
   ]
  },
  {
   "cell_type": "code",
   "execution_count": 7,
   "id": "1ea004a3",
   "metadata": {},
   "outputs": [
    {
     "data": {
      "text/plain": [
       "Index(['Unnamed: 0', 'fixed.acidity', 'volatile.acidity', 'citric.acid',\n",
       "       'residual.sugar', 'chlorides', 'free.sulfur.dioxide',\n",
       "       'total.sulfur.dioxide', 'density', 'pH', 'sulphates', 'alcohol',\n",
       "       'quality'],\n",
       "      dtype='object')"
      ]
     },
     "execution_count": 7,
     "metadata": {},
     "output_type": "execute_result"
    }
   ],
   "source": [
    "df.columns"
   ]
  },
  {
   "cell_type": "code",
   "execution_count": 18,
   "id": "77b26cd8",
   "metadata": {},
   "outputs": [
    {
     "data": {
      "text/plain": [
       "(1599, 13)"
      ]
     },
     "execution_count": 18,
     "metadata": {},
     "output_type": "execute_result"
    }
   ],
   "source": [
    "df.shape"
   ]
  },
  {
   "cell_type": "code",
   "execution_count": 8,
   "id": "ca4c6ead",
   "metadata": {},
   "outputs": [
    {
     "data": {
      "text/html": [
       "<div>\n",
       "<style scoped>\n",
       "    .dataframe tbody tr th:only-of-type {\n",
       "        vertical-align: middle;\n",
       "    }\n",
       "\n",
       "    .dataframe tbody tr th {\n",
       "        vertical-align: top;\n",
       "    }\n",
       "\n",
       "    .dataframe thead th {\n",
       "        text-align: right;\n",
       "    }\n",
       "</style>\n",
       "<table border=\"1\" class=\"dataframe\">\n",
       "  <thead>\n",
       "    <tr style=\"text-align: right;\">\n",
       "      <th></th>\n",
       "      <th>Unnamed: 0</th>\n",
       "      <th>fixed.acidity</th>\n",
       "      <th>volatile.acidity</th>\n",
       "      <th>citric.acid</th>\n",
       "      <th>residual.sugar</th>\n",
       "      <th>chlorides</th>\n",
       "      <th>free.sulfur.dioxide</th>\n",
       "      <th>total.sulfur.dioxide</th>\n",
       "      <th>density</th>\n",
       "      <th>pH</th>\n",
       "      <th>sulphates</th>\n",
       "      <th>alcohol</th>\n",
       "      <th>quality</th>\n",
       "    </tr>\n",
       "  </thead>\n",
       "  <tbody>\n",
       "    <tr>\n",
       "      <th>count</th>\n",
       "      <td>1599.000000</td>\n",
       "      <td>1599.000000</td>\n",
       "      <td>1599.000000</td>\n",
       "      <td>1599.000000</td>\n",
       "      <td>1599.000000</td>\n",
       "      <td>1599.000000</td>\n",
       "      <td>1599.000000</td>\n",
       "      <td>1599.000000</td>\n",
       "      <td>1599.000000</td>\n",
       "      <td>1599.000000</td>\n",
       "      <td>1599.000000</td>\n",
       "      <td>1599.000000</td>\n",
       "      <td>1599.000000</td>\n",
       "    </tr>\n",
       "    <tr>\n",
       "      <th>mean</th>\n",
       "      <td>800.000000</td>\n",
       "      <td>8.319637</td>\n",
       "      <td>0.527821</td>\n",
       "      <td>0.270976</td>\n",
       "      <td>2.538806</td>\n",
       "      <td>0.087467</td>\n",
       "      <td>15.874922</td>\n",
       "      <td>46.467792</td>\n",
       "      <td>0.996747</td>\n",
       "      <td>3.311113</td>\n",
       "      <td>0.658149</td>\n",
       "      <td>10.422983</td>\n",
       "      <td>5.636023</td>\n",
       "    </tr>\n",
       "    <tr>\n",
       "      <th>std</th>\n",
       "      <td>461.735855</td>\n",
       "      <td>1.741096</td>\n",
       "      <td>0.179060</td>\n",
       "      <td>0.194801</td>\n",
       "      <td>1.409928</td>\n",
       "      <td>0.047065</td>\n",
       "      <td>10.460157</td>\n",
       "      <td>32.895324</td>\n",
       "      <td>0.001887</td>\n",
       "      <td>0.154386</td>\n",
       "      <td>0.169507</td>\n",
       "      <td>1.065668</td>\n",
       "      <td>0.807569</td>\n",
       "    </tr>\n",
       "    <tr>\n",
       "      <th>min</th>\n",
       "      <td>1.000000</td>\n",
       "      <td>4.600000</td>\n",
       "      <td>0.120000</td>\n",
       "      <td>0.000000</td>\n",
       "      <td>0.900000</td>\n",
       "      <td>0.012000</td>\n",
       "      <td>1.000000</td>\n",
       "      <td>6.000000</td>\n",
       "      <td>0.990070</td>\n",
       "      <td>2.740000</td>\n",
       "      <td>0.330000</td>\n",
       "      <td>8.400000</td>\n",
       "      <td>3.000000</td>\n",
       "    </tr>\n",
       "    <tr>\n",
       "      <th>25%</th>\n",
       "      <td>400.500000</td>\n",
       "      <td>7.100000</td>\n",
       "      <td>0.390000</td>\n",
       "      <td>0.090000</td>\n",
       "      <td>1.900000</td>\n",
       "      <td>0.070000</td>\n",
       "      <td>7.000000</td>\n",
       "      <td>22.000000</td>\n",
       "      <td>0.995600</td>\n",
       "      <td>3.210000</td>\n",
       "      <td>0.550000</td>\n",
       "      <td>9.500000</td>\n",
       "      <td>5.000000</td>\n",
       "    </tr>\n",
       "    <tr>\n",
       "      <th>50%</th>\n",
       "      <td>800.000000</td>\n",
       "      <td>7.900000</td>\n",
       "      <td>0.520000</td>\n",
       "      <td>0.260000</td>\n",
       "      <td>2.200000</td>\n",
       "      <td>0.079000</td>\n",
       "      <td>14.000000</td>\n",
       "      <td>38.000000</td>\n",
       "      <td>0.996750</td>\n",
       "      <td>3.310000</td>\n",
       "      <td>0.620000</td>\n",
       "      <td>10.200000</td>\n",
       "      <td>6.000000</td>\n",
       "    </tr>\n",
       "    <tr>\n",
       "      <th>75%</th>\n",
       "      <td>1199.500000</td>\n",
       "      <td>9.200000</td>\n",
       "      <td>0.640000</td>\n",
       "      <td>0.420000</td>\n",
       "      <td>2.600000</td>\n",
       "      <td>0.090000</td>\n",
       "      <td>21.000000</td>\n",
       "      <td>62.000000</td>\n",
       "      <td>0.997835</td>\n",
       "      <td>3.400000</td>\n",
       "      <td>0.730000</td>\n",
       "      <td>11.100000</td>\n",
       "      <td>6.000000</td>\n",
       "    </tr>\n",
       "    <tr>\n",
       "      <th>max</th>\n",
       "      <td>1599.000000</td>\n",
       "      <td>15.900000</td>\n",
       "      <td>1.580000</td>\n",
       "      <td>1.000000</td>\n",
       "      <td>15.500000</td>\n",
       "      <td>0.611000</td>\n",
       "      <td>72.000000</td>\n",
       "      <td>289.000000</td>\n",
       "      <td>1.003690</td>\n",
       "      <td>4.010000</td>\n",
       "      <td>2.000000</td>\n",
       "      <td>14.900000</td>\n",
       "      <td>8.000000</td>\n",
       "    </tr>\n",
       "  </tbody>\n",
       "</table>\n",
       "</div>"
      ],
      "text/plain": [
       "        Unnamed: 0  fixed.acidity  volatile.acidity  citric.acid  \\\n",
       "count  1599.000000    1599.000000       1599.000000  1599.000000   \n",
       "mean    800.000000       8.319637          0.527821     0.270976   \n",
       "std     461.735855       1.741096          0.179060     0.194801   \n",
       "min       1.000000       4.600000          0.120000     0.000000   \n",
       "25%     400.500000       7.100000          0.390000     0.090000   \n",
       "50%     800.000000       7.900000          0.520000     0.260000   \n",
       "75%    1199.500000       9.200000          0.640000     0.420000   \n",
       "max    1599.000000      15.900000          1.580000     1.000000   \n",
       "\n",
       "       residual.sugar    chlorides  free.sulfur.dioxide  total.sulfur.dioxide  \\\n",
       "count     1599.000000  1599.000000          1599.000000           1599.000000   \n",
       "mean         2.538806     0.087467            15.874922             46.467792   \n",
       "std          1.409928     0.047065            10.460157             32.895324   \n",
       "min          0.900000     0.012000             1.000000              6.000000   \n",
       "25%          1.900000     0.070000             7.000000             22.000000   \n",
       "50%          2.200000     0.079000            14.000000             38.000000   \n",
       "75%          2.600000     0.090000            21.000000             62.000000   \n",
       "max         15.500000     0.611000            72.000000            289.000000   \n",
       "\n",
       "           density           pH    sulphates      alcohol      quality  \n",
       "count  1599.000000  1599.000000  1599.000000  1599.000000  1599.000000  \n",
       "mean      0.996747     3.311113     0.658149    10.422983     5.636023  \n",
       "std       0.001887     0.154386     0.169507     1.065668     0.807569  \n",
       "min       0.990070     2.740000     0.330000     8.400000     3.000000  \n",
       "25%       0.995600     3.210000     0.550000     9.500000     5.000000  \n",
       "50%       0.996750     3.310000     0.620000    10.200000     6.000000  \n",
       "75%       0.997835     3.400000     0.730000    11.100000     6.000000  \n",
       "max       1.003690     4.010000     2.000000    14.900000     8.000000  "
      ]
     },
     "execution_count": 8,
     "metadata": {},
     "output_type": "execute_result"
    }
   ],
   "source": [
    "df.describe()"
   ]
  },
  {
   "cell_type": "code",
   "execution_count": 9,
   "id": "656eb962",
   "metadata": {},
   "outputs": [
    {
     "data": {
      "text/plain": [
       "array([5, 6, 7, 4, 8, 3], dtype=int64)"
      ]
     },
     "execution_count": 9,
     "metadata": {},
     "output_type": "execute_result"
    }
   ],
   "source": [
    "df['quality'].unique()"
   ]
  },
  {
   "cell_type": "code",
   "execution_count": 10,
   "id": "d63aab86",
   "metadata": {},
   "outputs": [
    {
     "data": {
      "text/plain": [
       "5    681\n",
       "6    638\n",
       "7    199\n",
       "4     53\n",
       "8     18\n",
       "3     10\n",
       "Name: quality, dtype: int64"
      ]
     },
     "execution_count": 10,
     "metadata": {},
     "output_type": "execute_result"
    }
   ],
   "source": [
    "df['quality'].value_counts()"
   ]
  },
  {
   "cell_type": "code",
   "execution_count": 17,
   "id": "a16b6a2e",
   "metadata": {},
   "outputs": [
    {
     "data": {
      "image/png": "[encoded data removed]",
      "text/plain": [
       "<Figure size 432x288 with 1 Axes>"
      ]
     },
     "metadata": {
      "needs_background": "light"
     },
     "output_type": "display_data"
    }
   ],
   "source": [
    "df['quality'].value_counts().plot.bar(color='red')\n",
    "plt.xlabel(\"Quality Score\")\n",
    "plt.xticks(rotation=0)\n",
    "plt.ylabel(\"Number\")\n",
    "plt.show()"
   ]
  },
  {
   "cell_type": "markdown",
   "id": "82611499",
   "metadata": {},
   "source": [
    "### Dependent and Independent Variables"
   ]
  },
  {
   "cell_type": "code",
   "execution_count": 19,
   "id": "5e408e1d",
   "metadata": {},
   "outputs": [],
   "source": [
    "X = df.iloc[:,1:12].values"
   ]
  },
  {
   "cell_type": "code",
   "execution_count": 20,
   "id": "52e8cf7f",
   "metadata": {},
   "outputs": [
    {
     "data": {
      "text/plain": [
       "array([[ 7.4  ,  0.7  ,  0.   , ...,  3.51 ,  0.56 ,  9.4  ],\n",
       "       [ 7.8  ,  0.88 ,  0.   , ...,  3.2  ,  0.68 ,  9.8  ],\n",
       "       [ 7.8  ,  0.76 ,  0.04 , ...,  3.26 ,  0.65 ,  9.8  ],\n",
       "       ...,\n",
       "       [ 6.3  ,  0.51 ,  0.13 , ...,  3.42 ,  0.75 , 11.   ],\n",
       "       [ 5.9  ,  0.645,  0.12 , ...,  3.57 ,  0.71 , 10.2  ],\n",
       "       [ 6.   ,  0.31 ,  0.47 , ...,  3.39 ,  0.66 , 11.   ]])"
      ]
     },
     "execution_count": 20,
     "metadata": {},
     "output_type": "execute_result"
    }
   ],
   "source": [
    "X"
   ]
  },
  {
   "cell_type": "code",
   "execution_count": 27,
   "id": "dded6440",
   "metadata": {},
   "outputs": [],
   "source": [
    "Y = df['quality'].values"
   ]
  },
  {
   "cell_type": "code",
   "execution_count": 28,
   "id": "797d7e38",
   "metadata": {},
   "outputs": [
    {
     "data": {
      "text/plain": [
       "array([5, 5, 5, ..., 6, 5, 6], dtype=int64)"
      ]
     },
     "execution_count": 28,
     "metadata": {},
     "output_type": "execute_result"
    }
   ],
   "source": [
    "Y"
   ]
  },
  {
   "cell_type": "markdown",
   "id": "bd5cf55b",
   "metadata": {},
   "source": [
    "### Training and Testing Split"
   ]
  },
  {
   "cell_type": "code",
   "execution_count": 29,
   "id": "85210670",
   "metadata": {},
   "outputs": [],
   "source": [
    "from sklearn.model_selection import train_test_split"
   ]
  },
  {
   "cell_type": "code",
   "execution_count": 30,
   "id": "6ae272eb",
   "metadata": {},
   "outputs": [],
   "source": [
    "X_train, X_test, Y_train, Y_test = train_test_split(X, Y, test_size=0.2, random_state=0)"
   ]
  },
  {
   "cell_type": "code",
   "execution_count": 31,
   "id": "68d0480f",
   "metadata": {},
   "outputs": [
    {
     "data": {
      "text/plain": [
       "array([[ 9.9 ,  0.54,  0.45, ...,  3.39,  0.62,  9.4 ],\n",
       "       [10.8 ,  0.26,  0.45, ...,  3.13,  0.54,  9.6 ],\n",
       "       [ 9.9 ,  0.35,  0.55, ...,  3.26,  0.79, 10.6 ],\n",
       "       ...,\n",
       "       [ 7.9 ,  0.57,  0.31, ...,  3.29,  0.69,  9.5 ],\n",
       "       [13.  ,  0.47,  0.49, ...,  3.3 ,  0.68, 12.7 ],\n",
       "       [ 9.8 ,  0.98,  0.32, ...,  3.25,  0.48,  9.4 ]])"
      ]
     },
     "execution_count": 31,
     "metadata": {},
     "output_type": "execute_result"
    }
   ],
   "source": [
    "X_train"
   ]
  },
  {
   "cell_type": "code",
   "execution_count": 32,
   "id": "12fa56e1",
   "metadata": {},
   "outputs": [
    {
     "data": {
      "text/plain": [
       "array([5, 5, 5, ..., 6, 6, 5], dtype=int64)"
      ]
     },
     "execution_count": 32,
     "metadata": {},
     "output_type": "execute_result"
    }
   ],
   "source": [
    "Y_train"
   ]
  },
  {
   "cell_type": "code",
   "execution_count": 33,
   "id": "bfd85bde",
   "metadata": {},
   "outputs": [
    {
     "data": {
      "text/plain": [
       "array([[10.8  ,  0.47 ,  0.43 , ...,  3.17 ,  0.76 , 10.8  ],\n",
       "       [ 8.1  ,  0.82 ,  0.   , ...,  3.36 ,  0.53 ,  9.6  ],\n",
       "       [ 9.1  ,  0.29 ,  0.33 , ...,  3.26 ,  0.84 , 11.7  ],\n",
       "       ...,\n",
       "       [ 9.1  ,  0.34 ,  0.42 , ...,  3.18 ,  0.55 , 11.4  ],\n",
       "       [ 9.1  ,  0.765,  0.04 , ...,  3.29 ,  0.54 ,  9.7  ],\n",
       "       [ 8.2  ,  0.32 ,  0.42 , ...,  3.27 ,  0.55 , 12.3  ]])"
      ]
     },
     "execution_count": 33,
     "metadata": {},
     "output_type": "execute_result"
    }
   ],
   "source": [
    "X_test"
   ]
  },
  {
   "cell_type": "code",
   "execution_count": 34,
   "id": "be738462",
   "metadata": {},
   "outputs": [
    {
     "data": {
      "text/plain": [
       "array([6, 5, 7, 6, 5, 6, 5, 6, 4, 5, 5, 5, 6, 5, 6, 6, 7, 5, 5, 4, 7, 6,\n",
       "       6, 4, 6, 5, 5, 7, 5, 6, 5, 6, 5, 6, 7, 7, 5, 6, 6, 7, 5, 7, 6, 6,\n",
       "       5, 5, 6, 6, 6, 5, 5, 5, 6, 6, 6, 5, 5, 5, 6, 5, 5, 6, 6, 6, 5, 6,\n",
       "       5, 5, 6, 6, 6, 6, 4, 6, 5, 6, 5, 5, 5, 6, 6, 5, 6, 6, 6, 5, 6, 5,\n",
       "       5, 5, 5, 6, 4, 5, 7, 6, 6, 5, 6, 5, 8, 6, 6, 6, 5, 5, 5, 5, 7, 5,\n",
       "       6, 5, 7, 5, 6, 6, 6, 7, 6, 6, 5, 7, 5, 5, 6, 6, 5, 5, 5, 6, 6, 6,\n",
       "       6, 6, 6, 5, 6, 5, 8, 5, 6, 5, 6, 5, 4, 6, 7, 6, 5, 6, 6, 5, 5, 5,\n",
       "       6, 6, 3, 6, 6, 6, 6, 6, 6, 6, 5, 5, 6, 6, 6, 6, 5, 5, 5, 8, 5, 6,\n",
       "       6, 7, 7, 5, 5, 7, 5, 6, 6, 4, 5, 6, 5, 5, 6, 5, 6, 6, 5, 5, 5, 5,\n",
       "       5, 5, 5, 6, 6, 5, 6, 6, 5, 6, 7, 6, 6, 6, 5, 5, 5, 6, 5, 6, 6, 5,\n",
       "       5, 5, 6, 6, 5, 6, 6, 6, 3, 6, 5, 5, 7, 6, 7, 6, 6, 7, 7, 6, 5, 6,\n",
       "       5, 5, 6, 5, 5, 5, 5, 6, 5, 5, 5, 6, 6, 5, 5, 5, 6, 7, 5, 6, 5, 6,\n",
       "       5, 4, 5, 5, 6, 7, 6, 5, 5, 4, 5, 6, 7, 6, 6, 7, 5, 7, 5, 6, 6, 5,\n",
       "       5, 5, 6, 6, 5, 6, 6, 6, 5, 6, 6, 5, 6, 5, 6, 5, 6, 6, 6, 6, 5, 5,\n",
       "       6, 5, 5, 6, 5, 5, 5, 6, 4, 5, 4, 6], dtype=int64)"
      ]
     },
     "execution_count": 34,
     "metadata": {},
     "output_type": "execute_result"
    }
   ],
   "source": [
    "Y_test"
   ]
  },
  {
   "cell_type": "markdown",
   "id": "74191dd0",
   "metadata": {},
   "source": [
    "### Standardization / Normalization"
   ]
  },
  {
   "cell_type": "code",
   "execution_count": 35,
   "id": "0fb94f50",
   "metadata": {},
   "outputs": [],
   "source": [
    "from sklearn.preprocessing import StandardScaler"
   ]
  },
  {
   "cell_type": "code",
   "execution_count": 36,
   "id": "7fc0da58",
   "metadata": {},
   "outputs": [],
   "source": [
    "sc = StandardScaler()"
   ]
  },
  {
   "cell_type": "code",
   "execution_count": 37,
   "id": "c161d982",
   "metadata": {},
   "outputs": [],
   "source": [
    "X_train = sc.fit_transform(X_train)\n",
    "X_test = sc.fit_transform(X_test)"
   ]
  },
  {
   "cell_type": "code",
   "execution_count": 38,
   "id": "586206f5",
   "metadata": {},
   "outputs": [
    {
     "data": {
      "text/plain": [
       "array([[ 0.90103398,  0.05480282,  0.9094138 , ...,  0.52091013,\n",
       "        -0.22358408, -0.95579434],\n",
       "       [ 1.41998736, -1.47967601,  0.9094138 , ..., -1.16841553,\n",
       "        -0.68130963, -0.76727388],\n",
       "       [ 0.90103398, -0.98645067,  1.4208416 , ..., -0.3237527 ,\n",
       "         0.74908272,  0.17532846],\n",
       "       ...,\n",
       "       [-0.25219574,  0.21921126,  0.19341488, ..., -0.12883051,\n",
       "         0.17692578, -0.86153411],\n",
       "       [ 2.68854005, -0.32881689,  1.11398492, ..., -0.06385645,\n",
       "         0.11971008,  2.15479335],\n",
       "       [ 0.84337249,  2.46612668,  0.24455766, ..., -0.38872677,\n",
       "        -1.0246038 , -0.95579434]])"
      ]
     },
     "execution_count": 38,
     "metadata": {},
     "output_type": "execute_result"
    }
   ],
   "source": [
    "X_train"
   ]
  },
  {
   "cell_type": "code",
   "execution_count": 39,
   "id": "388045ca",
   "metadata": {},
   "outputs": [
    {
     "data": {
      "text/plain": [
       "array([[ 1.44653617, -0.29922497,  0.8557103 , ..., -0.93785052,\n",
       "         0.72205872,  0.31519731],\n",
       "       [-0.08433993,  1.83333604, -1.39006001, ...,  0.28055357,\n",
       "        -0.85116573, -0.79369656],\n",
       "       [ 0.48265122, -1.39597062,  0.33343814, ..., -0.36071174,\n",
       "         1.26926723,  1.14686771],\n",
       "       ...,\n",
       "       [ 0.48265122, -1.09131905,  0.80348308, ..., -0.87372399,\n",
       "        -0.7143636 ,  0.86964424],\n",
       "       [ 0.48265122,  1.49821931, -1.18115114, ..., -0.16833214,\n",
       "        -0.78276467, -0.70128874],\n",
       "       [-0.02764082, -1.21317968,  0.80348308, ..., -0.29658521,\n",
       "        -0.7143636 ,  1.70131464]])"
      ]
     },
     "execution_count": 39,
     "metadata": {},
     "output_type": "execute_result"
    }
   ],
   "source": [
    "X_test"
   ]
  },
  {
   "cell_type": "markdown",
   "id": "2ac56a17",
   "metadata": {},
   "source": [
    "### PCA Model"
   ]
  },
  {
   "cell_type": "code",
   "execution_count": 40,
   "id": "eecdbd8b",
   "metadata": {},
   "outputs": [],
   "source": [
    "from sklearn.decomposition import PCA"
   ]
  },
  {
   "cell_type": "code",
   "execution_count": 41,
   "id": "020a0ffa",
   "metadata": {},
   "outputs": [],
   "source": [
    "pca = PCA(n_components=2)  # we are reducing the dataset from 11 cols to 2 cols"
   ]
  },
  {
   "cell_type": "code",
   "execution_count": 42,
   "id": "d74b6bb0",
   "metadata": {},
   "outputs": [],
   "source": [
    "X_train2 = pca.fit_transform(X_train)"
   ]
  },
  {
   "cell_type": "code",
   "execution_count": 43,
   "id": "e3c4f8d5",
   "metadata": {},
   "outputs": [
    {
     "data": {
      "text/plain": [
       "array([[ 1.05838167,  0.20039403],\n",
       "       [ 1.9552457 , -0.06223397],\n",
       "       [ 1.56664064, -1.90710629],\n",
       "       ...,\n",
       "       [ 0.0580798 ,  0.46634407],\n",
       "       [ 3.04654159, -0.87577582],\n",
       "       [ 0.15767258,  3.6536    ]])"
      ]
     },
     "execution_count": 43,
     "metadata": {},
     "output_type": "execute_result"
    }
   ],
   "source": [
    "X_train2"
   ]
  },
  {
   "cell_type": "code",
   "execution_count": 44,
   "id": "06081ac5",
   "metadata": {},
   "outputs": [],
   "source": [
    "X_test2 = pca.fit_transform(X_test)"
   ]
  },
  {
   "cell_type": "code",
   "execution_count": 45,
   "id": "95f2813b",
   "metadata": {
    "scrolled": false
   },
   "outputs": [
    {
     "data": {
      "text/plain": [
       "array([[ 2.36287987e+00,  9.03680638e-02],\n",
       "       [-6.14648364e-01, -2.41845534e+00],\n",
       "       [ 4.81505540e-01,  2.17507559e+00],\n",
       "       [ 8.56082642e-01, -1.08432657e+00],\n",
       "       [ 2.18444658e+00,  3.49219966e-01],\n",
       "       [ 7.31334994e-01, -1.63986057e+00],\n",
       "       [ 4.54555629e-01, -1.17845450e+00],\n",
       "       [ 5.83650445e-02,  1.46188326e+00],\n",
       "       [-1.22855344e+00, -2.58509322e+00],\n",
       "       [-5.75122564e-01, -1.72144913e+00],\n",
       "       [ 6.13429813e-01, -7.87893436e-01],\n",
       "       [ 1.06963911e+00, -1.34842295e+00],\n",
       "       [ 8.87928186e-01, -1.78994115e-01],\n",
       "       [-4.05979320e+00, -3.01747629e-01],\n",
       "       [-2.47615388e+00, -7.76855643e-02],\n",
       "       [-1.33419417e-01,  2.37760847e+00],\n",
       "       [-4.80826570e-01,  3.04797410e+00],\n",
       "       [ 1.41933323e+00,  2.67168848e-01],\n",
       "       [-3.19629263e+00,  1.02525536e+00],\n",
       "       [-6.74008533e-01, -1.59855321e+00],\n",
       "       [-2.36474722e+00,  1.05851570e+00],\n",
       "       [ 1.52262286e+00, -1.01143146e+00],\n",
       "       [-1.46513054e+00, -2.92328474e-01],\n",
       "       [ 1.22428026e-03,  1.98260601e+00],\n",
       "       [-1.12374104e+00,  1.73250285e-01],\n",
       "       [-9.85746073e-01, -8.12225952e-01],\n",
       "       [ 5.42005652e-01, -1.06292725e+00],\n",
       "       [-5.13011307e-01,  2.26639534e+00],\n",
       "       [ 7.56681055e-01, -3.37964755e-02],\n",
       "       [-4.82919810e+00,  2.27240881e+00],\n",
       "       [ 2.01866716e+00,  1.01584193e+00],\n",
       "       [ 6.71201566e-01,  6.26455712e-01],\n",
       "       [-2.31221145e+00, -3.00666031e-02],\n",
       "       [-9.37672414e-01, -1.08697007e+00],\n",
       "       [-2.95636962e+00,  6.56356236e-02],\n",
       "       [ 2.61848617e+00,  1.18164823e+00],\n",
       "       [-6.75150138e-01, -8.08826554e-01],\n",
       "       [-1.00111030e+00, -8.53530485e-01],\n",
       "       [-2.76595724e+00,  2.12090893e+00],\n",
       "       [-1.52645437e+00, -1.45968118e-01],\n",
       "       [ 1.77066729e-01, -2.30380006e-01],\n",
       "       [-6.08502390e-01,  4.18298506e-01],\n",
       "       [-2.66335161e+00,  4.17510806e+00],\n",
       "       [ 4.21453160e+00,  1.47331813e+00],\n",
       "       [-2.93086565e-01,  9.42219936e-01],\n",
       "       [-4.28494167e-01, -1.78802984e+00],\n",
       "       [-5.77037235e-01, -5.08702495e-01],\n",
       "       [ 2.00631165e-01,  1.23644463e+00],\n",
       "       [-5.65395452e-01,  1.62747127e-01],\n",
       "       [-1.44203327e-01,  1.95089683e+00],\n",
       "       [-1.23135498e+00, -5.33845561e-01],\n",
       "       [-1.07208436e+00, -1.11996382e-01],\n",
       "       [ 3.98861142e-01,  5.56644048e-01],\n",
       "       [ 3.09337221e+00,  8.75622896e-01],\n",
       "       [ 1.61477078e+00,  3.68217612e-01],\n",
       "       [-1.54977160e+00, -7.62631521e-01],\n",
       "       [-4.87132344e-02, -5.18641983e-01],\n",
       "       [ 1.06123108e+00, -1.36428841e+00],\n",
       "       [ 1.40288541e+00,  1.90897767e+00],\n",
       "       [ 7.47707330e-01, -9.68168927e-01],\n",
       "       [-1.54799110e+00, -1.45709209e+00],\n",
       "       [-5.88645341e-01,  2.45408286e-01],\n",
       "       [-1.96911263e+00,  8.90410541e-01],\n",
       "       [-2.00411376e+00,  1.88526495e+00],\n",
       "       [-1.49493143e+00, -1.73337862e+00],\n",
       "       [-1.74114300e+00,  1.00912444e+00],\n",
       "       [-1.24404352e+00, -9.35961900e-01],\n",
       "       [ 5.26409222e+00, -8.34134859e-01],\n",
       "       [ 2.55280307e+00,  1.11410118e+00],\n",
       "       [ 2.77130996e+00,  1.45972381e-01],\n",
       "       [ 1.08519426e-01, -1.31439550e+00],\n",
       "       [ 3.65020585e+00, -5.53834100e-01],\n",
       "       [-1.05945706e+00, -2.05678671e+00],\n",
       "       [-2.71797426e-01, -1.11748539e-01],\n",
       "       [-1.05726798e+00,  4.35646863e-01],\n",
       "       [-3.28057335e+00,  1.56049423e+00],\n",
       "       [-1.45566199e+00, -1.07089663e+00],\n",
       "       [-7.73184818e-01,  3.09852272e-03],\n",
       "       [ 6.05858403e-01,  5.21699023e-01],\n",
       "       [-4.67279292e-02,  2.05927067e+00],\n",
       "       [ 3.02379272e+00, -6.53760833e-02],\n",
       "       [-9.18380020e-02, -2.25170967e-01],\n",
       "       [-1.01937023e+00,  1.11011631e+00],\n",
       "       [ 7.84713771e-01,  1.21390450e+00],\n",
       "       [-1.69631269e+00, -6.35931825e-01],\n",
       "       [-8.35531572e-01, -1.25606870e+00],\n",
       "       [-1.28602332e+00,  2.10415055e+00],\n",
       "       [ 2.41867944e-01, -1.58134925e+00],\n",
       "       [-9.86994363e-01, -8.57006000e-01],\n",
       "       [-1.52111710e+00, -1.90111903e+00],\n",
       "       [ 8.12367834e-01, -7.39293780e-01],\n",
       "       [ 2.54681671e-01, -9.31213913e-01],\n",
       "       [-2.40202146e+00,  3.61279423e-02],\n",
       "       [-1.43270128e+00, -8.62162897e-01],\n",
       "       [-5.84882790e-01,  1.69188089e+00],\n",
       "       [ 1.08519426e-01, -1.31439550e+00],\n",
       "       [ 8.91583923e-01,  1.66110997e+00],\n",
       "       [ 2.59348748e+00, -1.06927927e+00],\n",
       "       [-6.59675853e-01, -1.15333077e+00],\n",
       "       [ 3.99566980e+00,  2.18049488e-01],\n",
       "       [ 1.99931453e+00,  2.45268983e+00],\n",
       "       [ 8.24602000e-01,  1.47617848e+00],\n",
       "       [-5.99446198e-01, -1.11400181e-01],\n",
       "       [ 1.49898780e-01,  2.89146927e+00],\n",
       "       [-1.12938339e+00,  9.64623930e-02],\n",
       "       [-6.93421413e-01, -1.94802799e+00],\n",
       "       [-1.12938339e+00,  9.64623930e-02],\n",
       "       [-1.55307529e+00, -4.19818118e-01],\n",
       "       [-2.02718825e+00,  9.22580755e-01],\n",
       "       [ 8.07329000e-02, -1.40833035e+00],\n",
       "       [-2.55641381e+00,  6.02361376e-01],\n",
       "       [ 1.29849227e-01, -1.60796701e+00],\n",
       "       [-3.42655927e-01,  1.61694039e+00],\n",
       "       [-3.37919706e-01, -1.30439623e+00],\n",
       "       [-1.18749671e+00, -9.65942751e-01],\n",
       "       [ 8.95806288e-01,  1.93619197e-01],\n",
       "       [-6.98114911e-01, -6.75452064e-01],\n",
       "       [ 1.02995763e+00,  1.73380149e+00],\n",
       "       [-6.25607064e-01,  9.09909798e-02],\n",
       "       [-1.46513054e+00, -2.92328474e-01],\n",
       "       [ 5.93487401e-01, -1.23196683e+00],\n",
       "       [ 3.07876459e+00,  3.87969921e-01],\n",
       "       [ 4.69640835e+00, -9.92580041e-01],\n",
       "       [ 1.27692114e-01, -4.69001507e-01],\n",
       "       [-1.01847281e+00,  1.73873872e+00],\n",
       "       [ 4.42651577e-01,  1.37849415e+00],\n",
       "       [ 1.36346618e+00, -6.37386246e-02],\n",
       "       [ 2.95608036e+00, -1.98264036e-01],\n",
       "       [ 8.66947375e-01,  1.45277392e+00],\n",
       "       [ 1.92934637e+00,  1.61765279e+00],\n",
       "       [-5.56700531e-01,  1.21600098e-01],\n",
       "       [-1.18316460e+00, -1.70654721e+00],\n",
       "       [-6.28918472e-01,  8.53597053e-01],\n",
       "       [-5.89381366e-01, -2.95102570e-02],\n",
       "       [ 3.44680024e+00,  1.19517944e+00],\n",
       "       [ 1.13208485e+00, -1.93593965e-01],\n",
       "       [ 4.67987883e+00,  1.40984646e-01],\n",
       "       [ 3.08199639e+00, -1.60277619e+00],\n",
       "       [ 4.52417414e+00,  8.01011739e-01],\n",
       "       [-2.33010222e+00, -6.40009584e-01],\n",
       "       [-3.17959986e+00,  6.17304170e-01],\n",
       "       [ 4.20183173e-01, -1.51113611e+00],\n",
       "       [-5.77037235e-01, -5.08702495e-01],\n",
       "       [-1.07564011e+00, -1.52631036e+00],\n",
       "       [ 1.51490066e-01, -1.12658797e+00],\n",
       "       [ 2.13493204e+00,  2.15224213e-02],\n",
       "       [-3.42655927e-01,  1.61694039e+00],\n",
       "       [ 1.67389259e+00,  1.71683544e+00],\n",
       "       [ 1.93284820e-01,  1.16724098e+00],\n",
       "       [-2.94981146e-01, -2.98166672e-01],\n",
       "       [-5.54792652e-01,  1.05130151e+00],\n",
       "       [ 1.33849473e+00,  1.18136958e+00],\n",
       "       [-1.55307529e+00, -4.19818118e-01],\n",
       "       [-2.78585616e-02, -9.59375244e-01],\n",
       "       [-9.86810357e-01, -1.06487961e+00],\n",
       "       [-1.75166883e+00, -9.65898091e-01],\n",
       "       [ 2.84292689e+00, -1.20434151e+00],\n",
       "       [ 2.72164441e-01, -1.10567319e+00],\n",
       "       [-2.74639262e+00,  1.28381515e+00],\n",
       "       [ 1.05632528e+00,  1.21093649e+00],\n",
       "       [-2.41562868e+00,  9.72666786e-01],\n",
       "       [-1.38047686e+00, -1.81791005e-01],\n",
       "       [ 2.76059375e+00,  1.06988793e+00],\n",
       "       [-3.70584789e-01, -1.85472640e+00],\n",
       "       [ 2.54639429e+00, -3.61599045e-02],\n",
       "       [-1.09593468e+00, -2.25435374e+00],\n",
       "       [-2.15823399e+00,  8.62173406e-01],\n",
       "       [-1.24259919e+00,  2.50383692e+00],\n",
       "       [ 1.39162835e+00, -7.89953251e-01],\n",
       "       [ 8.72411690e-01,  4.01821190e-01],\n",
       "       [ 3.37748080e+00,  7.58950157e-01],\n",
       "       [-9.84708260e-01, -4.99902365e-01],\n",
       "       [-1.25553478e+00, -1.76894257e+00],\n",
       "       [ 2.00759285e+00,  2.26597111e+00],\n",
       "       [-2.03717177e+00, -1.30612765e-01],\n",
       "       [-9.79344459e-01,  1.84932526e+00],\n",
       "       [ 2.44979758e+00,  1.05684164e+00],\n",
       "       [ 2.77360661e-01,  2.94127027e+00],\n",
       "       [-3.57664574e+00,  8.81170327e-01],\n",
       "       [ 1.27590532e+00, -1.19507816e+00],\n",
       "       [-1.09074810e+00, -1.01025669e+00],\n",
       "       [-9.52170838e-01,  3.37685717e+00],\n",
       "       [-1.27302921e+00, -3.33772779e-01],\n",
       "       [ 3.03362714e+00,  1.02254485e+00],\n",
       "       [-2.46259744e+00,  3.21756416e+00],\n",
       "       [ 2.44828114e-01, -1.71937333e+00],\n",
       "       [-5.20916603e-01,  3.47045032e-01],\n",
       "       [-5.99446198e-01, -1.11400181e-01],\n",
       "       [-6.96500554e-01, -1.03942273e+00],\n",
       "       [-4.53866471e-01,  1.42611841e+00],\n",
       "       [ 2.29032413e-01,  5.86965824e-01],\n",
       "       [ 2.30790918e+00, -2.81184817e-01],\n",
       "       [ 1.65692793e+00, -1.43276736e+00],\n",
       "       [ 6.65431919e-03, -6.73438755e-01],\n",
       "       [ 7.33349595e-01, -7.70448175e-01],\n",
       "       [ 2.56943608e-01, -9.87876450e-01],\n",
       "       [ 6.13429813e-01, -7.87893436e-01],\n",
       "       [-1.83421109e-01, -1.93865095e+00],\n",
       "       [ 8.66376965e-01, -1.53514370e+00],\n",
       "       [ 1.58799448e+00, -1.37400323e+00],\n",
       "       [ 6.55957477e-01, -8.05947886e-01],\n",
       "       [-1.15990398e+00,  1.24870894e+00],\n",
       "       [-4.03565083e-01, -8.13260836e-01],\n",
       "       [-1.54874725e-01, -1.59207794e+00],\n",
       "       [-6.60382857e-01, -2.28318472e-01],\n",
       "       [-1.58782855e+00, -1.09067336e+00],\n",
       "       [-1.11912386e+00, -1.64328004e+00],\n",
       "       [-5.77592396e-01,  2.01382420e+00],\n",
       "       [ 1.94654549e+00,  8.17266637e-01],\n",
       "       [-5.66198227e-01,  1.35612402e-01],\n",
       "       [ 8.46453357e-01,  1.19992554e+00],\n",
       "       [-1.57819758e+00,  3.07920924e+00],\n",
       "       [ 3.13882747e+00, -1.56520827e+00],\n",
       "       [ 4.38445091e+00,  1.45775522e+00],\n",
       "       [-1.38443396e+00, -2.08962947e+00],\n",
       "       [-1.37814226e+00, -9.27312562e-01],\n",
       "       [ 3.96214466e+00,  1.75990875e-01],\n",
       "       [-4.97942371e-01,  1.83800624e+00],\n",
       "       [-1.40993680e+00, -4.31865300e-01],\n",
       "       [-5.23177992e-01, -1.34545571e+00],\n",
       "       [-1.51367982e+00, -1.88443222e+00],\n",
       "       [ 1.73276629e+00,  5.22063709e-01],\n",
       "       [ 4.21089226e-02,  2.19739920e+00],\n",
       "       [ 2.94487347e+00, -8.55822096e-03],\n",
       "       [-6.85899219e-01, -1.05862775e+00],\n",
       "       [ 3.08557047e+00,  6.59924989e-01],\n",
       "       [-8.88943133e-02,  2.06969803e+00],\n",
       "       [-8.93388823e-01,  7.89855308e-01],\n",
       "       [ 2.88192149e+00, -2.32119391e+00],\n",
       "       [-1.42963920e+00, -6.42506188e-01],\n",
       "       [-1.59307652e+00, -1.45683942e+00],\n",
       "       [-2.41556025e+00,  5.02905019e-01],\n",
       "       [-7.69999055e-01, -2.05995491e+00],\n",
       "       [ 1.55110786e+00,  6.28166774e-01],\n",
       "       [ 9.24782863e-01,  1.31321398e+00],\n",
       "       [-1.85970423e+00, -2.10588461e-01],\n",
       "       [ 3.44527238e+00,  4.15432563e-01],\n",
       "       [ 6.74962088e-01,  2.09790666e+00],\n",
       "       [-1.62814186e+00,  2.47085182e+00],\n",
       "       [ 1.57345217e+00,  6.95140148e-01],\n",
       "       [-1.28390295e+00, -1.14128460e+00],\n",
       "       [-4.35091147e-01, -1.96415205e+00],\n",
       "       [-4.50340475e-01, -2.23526050e+00],\n",
       "       [-9.37810645e-01, -1.68621509e+00],\n",
       "       [ 2.93840066e-01,  6.47327510e-01],\n",
       "       [-3.32686101e-01, -1.70590598e+00],\n",
       "       [-8.10113184e-03,  6.77896565e-02],\n",
       "       [ 6.22430676e-01, -9.49914048e-01],\n",
       "       [ 3.90112349e+00, -2.40178458e+00],\n",
       "       [-5.58922279e-02,  2.15551168e+00],\n",
       "       [-7.96414773e-01, -1.79618771e+00],\n",
       "       [-1.46694335e+00, -1.18206070e+00],\n",
       "       [ 2.59879732e-02, -1.33374779e+00],\n",
       "       [ 3.38071853e-01, -1.47422645e+00],\n",
       "       [-1.90529828e+00, -3.82135702e-01],\n",
       "       [-9.67670783e-01, -2.87125588e-01],\n",
       "       [-3.67184959e-01, -6.64523873e-01],\n",
       "       [-7.56173832e-01, -1.73062845e+00],\n",
       "       [-1.36484548e+00, -1.27684330e+00],\n",
       "       [ 4.47405064e+00, -7.28125887e-01],\n",
       "       [-1.38153467e+00, -1.16471185e+00],\n",
       "       [-3.96769634e+00,  3.59172952e+00],\n",
       "       [ 1.49506805e+00, -1.53337451e+00],\n",
       "       [ 2.40624040e+00, -3.98759097e-01],\n",
       "       [-1.32956979e+00, -1.50935512e+00],\n",
       "       [-1.61248648e+00, -2.85142056e+00],\n",
       "       [-2.07459892e+00, -8.03631882e-01],\n",
       "       [-8.56715679e-02, -1.31637767e+00],\n",
       "       [ 4.12342814e-01, -7.35450111e-01],\n",
       "       [ 3.37397053e-01,  3.04209811e+00],\n",
       "       [ 1.78547338e+00,  4.73543760e-01],\n",
       "       [ 8.61139953e-01, -2.05400052e-01],\n",
       "       [-2.44980920e-01,  2.25038935e-01],\n",
       "       [-4.34043101e+00,  1.97193040e+00],\n",
       "       [ 3.06313519e+00,  7.06999414e-01],\n",
       "       [-1.83091092e+00,  1.20114332e-01],\n",
       "       [ 1.42891842e-01,  2.01338444e+00],\n",
       "       [-4.97078434e-02, -8.89879749e-01],\n",
       "       [-1.04360628e+00,  3.11562209e+00],\n",
       "       [ 3.20498865e+00,  8.43159720e-01],\n",
       "       [ 5.59301789e-01, -1.20209556e+00],\n",
       "       [ 1.95010262e-01,  3.18052700e+00],\n",
       "       [ 8.61139953e-01, -2.05400052e-01],\n",
       "       [ 3.13868308e+00,  1.01465984e+00],\n",
       "       [ 9.25481114e-01,  4.66937970e-01],\n",
       "       [-1.63577885e+00, -1.09734853e+00],\n",
       "       [-1.34251904e+00,  3.64227179e-01],\n",
       "       [-7.00836584e-01, -9.63203491e-01],\n",
       "       [ 2.99953425e-01,  1.84250947e+00],\n",
       "       [ 2.90653669e+00,  4.71617660e-01],\n",
       "       [-1.22042165e+00,  3.53519822e-01],\n",
       "       [-3.34219381e+00, -9.35943698e-01],\n",
       "       [ 1.11837707e+00,  7.18550070e-01],\n",
       "       [ 2.81511612e+00, -1.22075683e+00],\n",
       "       [-6.27662668e-01, -1.69240977e+00],\n",
       "       [-1.58486693e+00, -3.06603066e-01],\n",
       "       [-1.03828003e+00,  4.01935324e-01],\n",
       "       [ 2.30616386e+00, -9.53994906e-01],\n",
       "       [-4.99230507e-01, -1.17963653e+00],\n",
       "       [ 1.15952529e+00, -1.15074558e+00],\n",
       "       [-1.75942873e+00, -3.07359809e-01],\n",
       "       [-2.35693644e+00, -1.88772622e+00],\n",
       "       [ 2.25513848e+00, -9.51622516e-01],\n",
       "       [ 6.38026205e-01,  9.31944185e-01],\n",
       "       [-1.17638101e-01,  1.48579087e+00],\n",
       "       [-2.60682144e+00,  5.31129701e-01],\n",
       "       [-1.78466801e+00, -1.31794284e+00],\n",
       "       [-1.84226566e+00, -1.93714400e+00],\n",
       "       [ 1.14249316e+00,  6.53768923e-01],\n",
       "       [ 1.13127634e+00, -6.75450983e-01],\n",
       "       [ 2.70224346e-01,  1.59970089e+00],\n",
       "       [-1.45123942e+00,  6.69570846e-01],\n",
       "       [-1.35089237e+00, -5.39576736e-01],\n",
       "       [ 2.59348748e+00, -1.06927927e+00],\n",
       "       [-6.84067035e-01, -2.03703597e+00],\n",
       "       [ 1.02758983e+00,  2.49087280e+00],\n",
       "       [-1.23590039e+00,  1.06017559e+00],\n",
       "       [ 1.31575924e-01,  1.76239822e+00],\n",
       "       [-3.72410783e-01, -2.11196082e+00],\n",
       "       [ 6.21023688e-02,  1.92743888e+00]])"
      ]
     },
     "execution_count": 45,
     "metadata": {},
     "output_type": "execute_result"
    }
   ],
   "source": [
    "X_test2"
   ]
  },
  {
   "cell_type": "markdown",
   "id": "6ca348d3",
   "metadata": {},
   "source": [
    "### Training the Model"
   ]
  },
  {
   "cell_type": "code",
   "execution_count": 47,
   "id": "312a1a45",
   "metadata": {},
   "outputs": [],
   "source": [
    "from sklearn.linear_model import LogisticRegression"
   ]
  },
  {
   "cell_type": "markdown",
   "id": "0b3071ed",
   "metadata": {},
   "source": [
    "#### Without PCA"
   ]
  },
  {
   "cell_type": "code",
   "execution_count": 48,
   "id": "28b7e0f5",
   "metadata": {},
   "outputs": [],
   "source": [
    "lr = LogisticRegression(random_state=0)"
   ]
  },
  {
   "cell_type": "code",
   "execution_count": 49,
   "id": "a31e43e8",
   "metadata": {},
   "outputs": [
    {
     "data": {
      "text/plain": [
       "LogisticRegression(random_state=0)"
      ]
     },
     "execution_count": 49,
     "metadata": {},
     "output_type": "execute_result"
    }
   ],
   "source": [
    "lr.fit(X_train, Y_train)"
   ]
  },
  {
   "cell_type": "markdown",
   "id": "3e6ff476",
   "metadata": {},
   "source": [
    "#### With PCA"
   ]
  },
  {
   "cell_type": "code",
   "execution_count": 50,
   "id": "35247940",
   "metadata": {},
   "outputs": [],
   "source": [
    "lr2 = LogisticRegression(random_state=0)"
   ]
  },
  {
   "cell_type": "code",
   "execution_count": 52,
   "id": "b7dbe98f",
   "metadata": {},
   "outputs": [
    {
     "data": {
      "text/plain": [
       "LogisticRegression(random_state=0)"
      ]
     },
     "execution_count": 52,
     "metadata": {},
     "output_type": "execute_result"
    }
   ],
   "source": [
    "lr2.fit(X_train2, Y_train)"
   ]
  },
  {
   "cell_type": "markdown",
   "id": "60b6fd7a",
   "metadata": {},
   "source": [
    "### Prediction"
   ]
  },
  {
   "cell_type": "code",
   "execution_count": 53,
   "id": "34cdcd80",
   "metadata": {},
   "outputs": [],
   "source": [
    "Y_pred = lr.predict(X_test)  # without PCA"
   ]
  },
  {
   "cell_type": "code",
   "execution_count": 54,
   "id": "802ee65f",
   "metadata": {},
   "outputs": [],
   "source": [
    "Y_pred2 = lr2.predict(X_test2)  # with PCA"
   ]
  },
  {
   "cell_type": "markdown",
   "id": "ca9cc235",
   "metadata": {},
   "source": [
    "### Classification Report"
   ]
  },
  {
   "cell_type": "code",
   "execution_count": 55,
   "id": "ec06a0a1",
   "metadata": {},
   "outputs": [],
   "source": [
    "from sklearn.metrics import classification_report, confusion_matrix"
   ]
  },
  {
   "cell_type": "code",
   "execution_count": 59,
   "id": "40ebb441",
   "metadata": {},
   "outputs": [
    {
     "name": "stdout",
     "output_type": "stream",
     "text": [
      "Actual Without PCA\n",
      "\n",
      "[[  0   0   2   0   0   0]\n",
      " [  0   0   6   4   1   0]\n",
      " [  0   0 106  28   1   0]\n",
      " [  0   0  44  77  21   0]\n",
      " [  0   0   2  16   9   0]\n",
      " [  0   0   0   1   2   0]]\n",
      "\n",
      "=====================================================\n",
      "\n",
      "Classification Report\n",
      "\n",
      "              precision    recall  f1-score   support\n",
      "\n",
      "           3       0.00      0.00      0.00         2\n",
      "           4       0.00      0.00      0.00        11\n",
      "           5       0.66      0.79      0.72       135\n",
      "           6       0.61      0.54      0.57       142\n",
      "           7       0.26      0.33      0.30        27\n",
      "           8       0.00      0.00      0.00         3\n",
      "\n",
      "    accuracy                           0.60       320\n",
      "   macro avg       0.26      0.28      0.26       320\n",
      "weighted avg       0.57      0.60      0.58       320\n",
      "\n"
     ]
    }
   ],
   "source": [
    "print('Actual Without PCA\\n')\n",
    "cm = confusion_matrix(Y_test, Y_pred)\n",
    "print(cm)\n",
    "print('\\n=====================================================\\n')\n",
    "print('Classification Report\\n')\n",
    "cr = classification_report(Y_test, Y_pred)\n",
    "print(cr)"
   ]
  },
  {
   "cell_type": "code",
   "execution_count": 60,
   "id": "93b5de12",
   "metadata": {},
   "outputs": [
    {
     "name": "stdout",
     "output_type": "stream",
     "text": [
      "Actual With PCA\n",
      "\n",
      "[[  0   0   0   1   1   0]\n",
      " [  0   0   4   6   1   0]\n",
      " [  0   0  32 102   1   0]\n",
      " [  0   0  86  56   0   0]\n",
      " [  0   0  25   2   0   0]\n",
      " [  0   0   3   0   0   0]]\n",
      "\n",
      "=====================================================\n",
      "\n",
      "Classification Report\n",
      "\n",
      "              precision    recall  f1-score   support\n",
      "\n",
      "           3       0.00      0.00      0.00         2\n",
      "           4       0.00      0.00      0.00        11\n",
      "           5       0.21      0.24      0.22       135\n",
      "           6       0.34      0.39      0.36       142\n",
      "           7       0.00      0.00      0.00        27\n",
      "           8       0.00      0.00      0.00         3\n",
      "\n",
      "    accuracy                           0.28       320\n",
      "   macro avg       0.09      0.11      0.10       320\n",
      "weighted avg       0.24      0.28      0.26       320\n",
      "\n"
     ]
    }
   ],
   "source": [
    "print('Actual With PCA\\n')\n",
    "cm2 = confusion_matrix(Y_test, Y_pred2)\n",
    "print(cm2)\n",
    "print('\\n=====================================================\\n')\n",
    "print('Classification Report\\n')\n",
    "cr2 = classification_report(Y_test, Y_pred2)\n",
    "print(cr2)"
   ]
  },
  {
   "cell_type": "markdown",
   "id": "9c5a42ab",
   "metadata": {},
   "source": [
    "### Using PCA with Different Components"
   ]
  },
  {
   "cell_type": "code",
   "execution_count": 61,
   "id": "58e74fc3",
   "metadata": {},
   "outputs": [],
   "source": [
    "pca2 = PCA(n_components=7)  # we are reducing the dataset from 11 cols to 7 cols"
   ]
  },
  {
   "cell_type": "code",
   "execution_count": 62,
   "id": "0265dcf1",
   "metadata": {},
   "outputs": [],
   "source": [
    "X_train3 = pca2.fit_transform(X_train)\n",
    "X_test3 = pca2.fit_transform(X_test)"
   ]
  },
  {
   "cell_type": "code",
   "execution_count": 63,
   "id": "8d8ed885",
   "metadata": {},
   "outputs": [],
   "source": [
    "lr3 = LogisticRegression(random_state=0)\n",
    "lr3.fit(X_train3, Y_train)\n",
    "Y_pred3 = lr3.predict(X_test3)"
   ]
  },
  {
   "cell_type": "code",
   "execution_count": 64,
   "id": "780f16c6",
   "metadata": {},
   "outputs": [
    {
     "name": "stdout",
     "output_type": "stream",
     "text": [
      "Actual Without PCA for No. of 7 Components\n",
      "\n",
      "[[ 0  0  0  2  0  0]\n",
      " [ 0  0  3  7  1  0]\n",
      " [ 0  0 35 80 20  0]\n",
      " [ 0  0 76 62  4  0]\n",
      " [ 0  0 23  3  1  0]\n",
      " [ 0  0  3  0  0  0]]\n",
      "\n",
      "=====================================================\n",
      "\n",
      "Classification Report\n",
      "\n",
      "              precision    recall  f1-score   support\n",
      "\n",
      "           3       0.00      0.00      0.00         2\n",
      "           4       0.00      0.00      0.00        11\n",
      "           5       0.25      0.26      0.25       135\n",
      "           6       0.40      0.44      0.42       142\n",
      "           7       0.04      0.04      0.04        27\n",
      "           8       0.00      0.00      0.00         3\n",
      "\n",
      "    accuracy                           0.31       320\n",
      "   macro avg       0.12      0.12      0.12       320\n",
      "weighted avg       0.29      0.31      0.30       320\n",
      "\n"
     ]
    }
   ],
   "source": [
    "print('Actual Without PCA for No. of 7 Components\\n')\n",
    "cm3 = confusion_matrix(Y_test, Y_pred3)\n",
    "print(cm3)\n",
    "print('\\n=====================================================\\n')\n",
    "print('Classification Report\\n')\n",
    "cr3 = classification_report(Y_test, Y_pred3)\n",
    "print(cr3)"
   ]
  },
  {
   "cell_type": "markdown",
   "id": "0a6dddf9",
   "metadata": {},
   "source": [
    "### Using Random Forest Algorithm"
   ]
  },
  {
   "cell_type": "code",
   "execution_count": 65,
   "id": "0b5af720",
   "metadata": {},
   "outputs": [],
   "source": [
    "from sklearn.ensemble import RandomForestClassifier"
   ]
  },
  {
   "cell_type": "code",
   "execution_count": 66,
   "id": "46e3d1c3",
   "metadata": {},
   "outputs": [],
   "source": [
    "rfc = RandomForestClassifier(n_estimators=10, criterion='entropy', random_state=0)"
   ]
  },
  {
   "cell_type": "code",
   "execution_count": 67,
   "id": "f937d0aa",
   "metadata": {},
   "outputs": [
    {
     "data": {
      "text/plain": [
       "RandomForestClassifier(criterion='entropy', n_estimators=10, random_state=0)"
      ]
     },
     "execution_count": 67,
     "metadata": {},
     "output_type": "execute_result"
    }
   ],
   "source": [
    "rfc.fit(X_train, Y_train)"
   ]
  },
  {
   "cell_type": "code",
   "execution_count": 68,
   "id": "90192438",
   "metadata": {},
   "outputs": [],
   "source": [
    "rfc_pred = rfc.predict(X_test)"
   ]
  },
  {
   "cell_type": "code",
   "execution_count": 70,
   "id": "be67ad20",
   "metadata": {},
   "outputs": [
    {
     "name": "stdout",
     "output_type": "stream",
     "text": [
      "Actual Using Random Forest\n",
      "\n",
      "[[  0   0   1   1   0   0]\n",
      " [  0   0   7   4   0   0]\n",
      " [  0   0 113  19   3   0]\n",
      " [  0   0  43  86  13   0]\n",
      " [  0   0   1  15  11   0]\n",
      " [  0   0   0   0   3   0]]\n",
      "\n",
      "=====================================================\n",
      "\n",
      "Classification Report\n",
      "\n",
      "              precision    recall  f1-score   support\n",
      "\n",
      "           3       0.00      0.00      0.00         2\n",
      "           4       0.00      0.00      0.00        11\n",
      "           5       0.68      0.84      0.75       135\n",
      "           6       0.69      0.61      0.64       142\n",
      "           7       0.37      0.41      0.39        27\n",
      "           8       0.00      0.00      0.00         3\n",
      "\n",
      "    accuracy                           0.66       320\n",
      "   macro avg       0.29      0.31      0.30       320\n",
      "weighted avg       0.63      0.66      0.64       320\n",
      "\n"
     ]
    }
   ],
   "source": [
    "print('Actual Using Random Forest\\n')\n",
    "rfc_cm = confusion_matrix(Y_test, rfc_pred)\n",
    "print(rfc_cm)\n",
    "print('\\n=====================================================\\n')\n",
    "print('Classification Report\\n')\n",
    "rfc_cr = classification_report(Y_test, rfc_pred)\n",
    "print(rfc_cr)"
   ]
  },
  {
   "cell_type": "markdown",
   "id": "9cb655f4",
   "metadata": {},
   "source": [
    "### Using KNN Algorithm"
   ]
  },
  {
   "cell_type": "code",
   "execution_count": 71,
   "id": "3a31cff2",
   "metadata": {},
   "outputs": [],
   "source": [
    "from sklearn.neighbors import KNeighborsClassifier"
   ]
  },
  {
   "cell_type": "code",
   "execution_count": 72,
   "id": "4e70547f",
   "metadata": {},
   "outputs": [
    {
     "data": {
      "text/plain": [
       "KNeighborsClassifier(n_neighbors=3)"
      ]
     },
     "execution_count": 72,
     "metadata": {},
     "output_type": "execute_result"
    }
   ],
   "source": [
    "knn = KNeighborsClassifier(n_neighbors=3)\n",
    "knn.fit(X_train, Y_train)"
   ]
  },
  {
   "cell_type": "code",
   "execution_count": 73,
   "id": "c85d8d19",
   "metadata": {},
   "outputs": [],
   "source": [
    "knn_pred = knn.predict(X_test)"
   ]
  },
  {
   "cell_type": "code",
   "execution_count": 74,
   "id": "56df1d46",
   "metadata": {},
   "outputs": [
    {
     "name": "stdout",
     "output_type": "stream",
     "text": [
      "Actual Using KNN\n",
      "\n",
      "[[ 0  1  0  1  0  0]\n",
      " [ 0  0  4  7  0  0]\n",
      " [ 1  2 88 39  4  1]\n",
      " [ 1  5 35 86 15  0]\n",
      " [ 0  0  8  4 13  2]\n",
      " [ 0  0  0  1  2  0]]\n",
      "\n",
      "=====================================================\n",
      "\n",
      "Classification Report\n",
      "\n",
      "              precision    recall  f1-score   support\n",
      "\n",
      "           3       0.00      0.00      0.00         2\n",
      "           4       0.00      0.00      0.00        11\n",
      "           5       0.65      0.65      0.65       135\n",
      "           6       0.62      0.61      0.61       142\n",
      "           7       0.38      0.48      0.43        27\n",
      "           8       0.00      0.00      0.00         3\n",
      "\n",
      "    accuracy                           0.58       320\n",
      "   macro avg       0.28      0.29      0.28       320\n",
      "weighted avg       0.58      0.58      0.58       320\n",
      "\n"
     ]
    }
   ],
   "source": [
    "print('Actual Using KNN\\n')\n",
    "knn_cm = confusion_matrix(Y_test, knn_pred)\n",
    "print(knn_cm)\n",
    "print('\\n=====================================================\\n')\n",
    "print('Classification Report\\n')\n",
    "knn_cr = classification_report(Y_test, knn_pred)\n",
    "print(knn_cr)"
   ]
  }
 ],
 "metadata": {
  "kernelspec": {
   "display_name": "Python 3 (ipykernel)",
   "language": "python",
   "name": "python3"
  },
  "language_info": {
   "codemirror_mode": {
    "name": "ipython",
    "version": 3
   },
   "file_extension": ".py",
   "mimetype": "text/x-python",
   "name": "python",
   "nbconvert_exporter": "python",
   "pygments_lexer": "ipython3",
   "version": "3.8.11"
  }
 },
 "nbformat": 4,
 "nbformat_minor": 5
}
