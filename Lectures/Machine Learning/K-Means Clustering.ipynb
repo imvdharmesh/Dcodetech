{
 "cells": [
  {
   "cell_type": "raw",
   "id": "a7366202",
   "metadata": {},
   "source": [
    "Date - 27/09/2021  11:00 AM to 01:00 PM"
   ]
  },
  {
   "cell_type": "markdown",
   "id": "862be744",
   "metadata": {},
   "source": [
    "## K-Means Clustering"
   ]
  },
  {
   "cell_type": "markdown",
   "id": "710f2a69",
   "metadata": {},
   "source": [
    "    K-Means Clustering algorithm is a very common Unsupervised machine learning algorithm.\n",
    "    This algorithm clusters \"n\" objects into \"k\" clusters, where each object belongs to a cluster with the nearest mean.\n",
    "    \n",
    "    1. K-Mean clustering is an algorithm where the main goal is to group similar data points into a cluster.\n",
    "    2. In K-Mean clustering \"k\" represents the total number of group or clusters.\n",
    "    3. K-Mean clustering runs on \"Euclidean Distance Calculation\".\n",
    "    \n",
    "**Euclidean Distance :**\n",
    "\n",
    "    Distance between two points (x1,y1) and (x2,y2),\n",
    "d(x,y) = $\\sqrt{(y1-x1)^2+(y2-x2)^2}$"
   ]
  },
  {
   "cell_type": "markdown",
   "id": "77621130",
   "metadata": {},
   "source": [
    "**Let us go through the above steps using the example below.**\n",
    "    \n",
    "    1. Consider 4 data points A,B,C,D as below:\n",
    "    \n",
    "        X1   X2\n",
    "    A   2    3\n",
    "    B   6    1\n",
    "    C   1    2\n",
    "    D   3    0"
   ]
  },
  {
   "cell_type": "markdown",
   "id": "c5e58a26",
   "metadata": {},
   "source": [
    "    2. Choose two centroids AB and CD, calculated as\n",
    "    \n",
    "    AB = Average of A,B\n",
    "    CD = Average of C,D\n",
    "    \n",
    "        X1   X2\n",
    "    AB  4    2\n",
    "    CD  2    1"
   ]
  },
  {
   "cell_type": "code",
   "execution_count": 20,
   "id": "d9943cf0",
   "metadata": {},
   "outputs": [
    {
     "data": {
      "text/plain": [
       "4.0"
      ]
     },
     "execution_count": 20,
     "metadata": {},
     "output_type": "execute_result"
    }
   ],
   "source": [
    "(2+6)/2  # AB X1"
   ]
  },
  {
   "cell_type": "code",
   "execution_count": 21,
   "id": "c4b1274d",
   "metadata": {},
   "outputs": [
    {
     "data": {
      "text/plain": [
       "2.0"
      ]
     },
     "execution_count": 21,
     "metadata": {},
     "output_type": "execute_result"
    }
   ],
   "source": [
    "(3+1)/2  # AB X2"
   ]
  },
  {
   "cell_type": "code",
   "execution_count": 22,
   "id": "a5619a07",
   "metadata": {},
   "outputs": [
    {
     "data": {
      "text/plain": [
       "2.0"
      ]
     },
     "execution_count": 22,
     "metadata": {},
     "output_type": "execute_result"
    }
   ],
   "source": [
    "(1+3)/2  # CD X1"
   ]
  },
  {
   "cell_type": "code",
   "execution_count": 23,
   "id": "8e05e9a8",
   "metadata": {},
   "outputs": [
    {
     "data": {
      "text/plain": [
       "1.0"
      ]
     },
     "execution_count": 23,
     "metadata": {},
     "output_type": "execute_result"
    }
   ],
   "source": [
    "(2+0)/2  # CD X2"
   ]
  },
  {
   "cell_type": "markdown",
   "id": "31fda29e",
   "metadata": {},
   "source": [
    "    3. Calculate squared euclidean distance between all data points to the centroids AB,CD.\n",
    "    For example distance between A(2,3) and AB(4,2) can be given by s = (2-4)^2 + (3-2)^2.\n",
    "    \n",
    "        A    B    C    D\n",
    "    AB  5    5    9    5\n",
    "    CD  4    16   2    2\n",
    "    \n",
    "    A is very near to CD than AB"
   ]
  },
  {
   "cell_type": "code",
   "execution_count": 25,
   "id": "d54ac704",
   "metadata": {},
   "outputs": [
    {
     "data": {
      "text/plain": [
       "5"
      ]
     },
     "execution_count": 25,
     "metadata": {},
     "output_type": "execute_result"
    }
   ],
   "source": [
    "(2-4)**2 + (3-2)**2  # A(X1,X2) AB(4,2)"
   ]
  },
  {
   "cell_type": "code",
   "execution_count": 26,
   "id": "d7f77d2b",
   "metadata": {},
   "outputs": [
    {
     "data": {
      "text/plain": [
       "5"
      ]
     },
     "execution_count": 26,
     "metadata": {},
     "output_type": "execute_result"
    }
   ],
   "source": [
    "(6-4)**2 + (1-2)**2  # B(X1,X2) AB(4,2)"
   ]
  },
  {
   "cell_type": "code",
   "execution_count": 29,
   "id": "1a85bd52",
   "metadata": {},
   "outputs": [
    {
     "data": {
      "text/plain": [
       "9"
      ]
     },
     "execution_count": 29,
     "metadata": {},
     "output_type": "execute_result"
    }
   ],
   "source": [
    "(1-4)**2 + (2-2)**2  # C(X1,X2) AB(4,2)"
   ]
  },
  {
   "cell_type": "code",
   "execution_count": 30,
   "id": "e8ad8753",
   "metadata": {},
   "outputs": [
    {
     "data": {
      "text/plain": [
       "5"
      ]
     },
     "execution_count": 30,
     "metadata": {},
     "output_type": "execute_result"
    }
   ],
   "source": [
    "(3-4)**2 + (0-2)**2  # D(X1,X2) AB(4,2)"
   ]
  },
  {
   "cell_type": "code",
   "execution_count": 31,
   "id": "19df8123",
   "metadata": {},
   "outputs": [
    {
     "data": {
      "text/plain": [
       "4"
      ]
     },
     "execution_count": 31,
     "metadata": {},
     "output_type": "execute_result"
    }
   ],
   "source": [
    "(2-2)**2 + (3-1)**2  # A(X1,X2) CD(2,1)"
   ]
  },
  {
   "cell_type": "code",
   "execution_count": 32,
   "id": "717f4886",
   "metadata": {},
   "outputs": [
    {
     "data": {
      "text/plain": [
       "16"
      ]
     },
     "execution_count": 32,
     "metadata": {},
     "output_type": "execute_result"
    }
   ],
   "source": [
    "(6-2)**2 + (1-1)**2  # B(X1,X2) CD(2,1)"
   ]
  },
  {
   "cell_type": "code",
   "execution_count": 33,
   "id": "810815f1",
   "metadata": {},
   "outputs": [
    {
     "data": {
      "text/plain": [
       "2"
      ]
     },
     "execution_count": 33,
     "metadata": {},
     "output_type": "execute_result"
    }
   ],
   "source": [
    "(1-2)**2 + (2-1)**2  # C(X1,X2) CD(2,1)"
   ]
  },
  {
   "cell_type": "code",
   "execution_count": 34,
   "id": "8c21db1f",
   "metadata": {},
   "outputs": [
    {
     "data": {
      "text/plain": [
       "2"
      ]
     },
     "execution_count": 34,
     "metadata": {},
     "output_type": "execute_result"
    }
   ],
   "source": [
    "(3-2)**2 + (0-1)**2  # D(X1,X2) CD(2,1)"
   ]
  },
  {
   "cell_type": "markdown",
   "id": "3e799197",
   "metadata": {},
   "source": [
    "    4. If we observed, the distance between (A,CD) is 4 is less compared to (AB,A) which is 5.\n",
    "    Since point A is close to CD we can move A to CD cluster.\n",
    "    \n",
    "    5. There are two clusters formed so far, let recompute the centroids i.e, B,ACD similar to step 2.\n",
    "    \n",
    "    ACD = Average of A,C,D\n",
    "    B = B\n",
    "    \n",
    "          X1  X2\n",
    "    B     6   1\n",
    "    ACD   2   1.67\n",
    "    \n",
    "    New centroids B,ACD"
   ]
  },
  {
   "cell_type": "code",
   "execution_count": 35,
   "id": "2a20f222",
   "metadata": {},
   "outputs": [
    {
     "data": {
      "text/plain": [
       "2.0"
      ]
     },
     "execution_count": 35,
     "metadata": {},
     "output_type": "execute_result"
    }
   ],
   "source": [
    "(2+1+3)/3  # ACD X1"
   ]
  },
  {
   "cell_type": "code",
   "execution_count": 36,
   "id": "9fd4e02c",
   "metadata": {},
   "outputs": [
    {
     "data": {
      "text/plain": [
       "1.6666666666666667"
      ]
     },
     "execution_count": 36,
     "metadata": {},
     "output_type": "execute_result"
    }
   ],
   "source": [
    "(3+2+0)/3  # ACD X2"
   ]
  },
  {
   "cell_type": "markdown",
   "id": "01a160ac",
   "metadata": {},
   "source": [
    "    6. As we know K-Means is iterative procedure now we have to calculate the distance of all points (A,B,C,D) to new\n",
    "    centroids (B,ACD) similar to step 3.\n",
    "    \n",
    "         A      B      C      D\n",
    "    B    20     0      26     10\n",
    "    ACD  1.77   16.45  1.11   3.79"
   ]
  },
  {
   "cell_type": "code",
   "execution_count": 37,
   "id": "2ba0e70b",
   "metadata": {},
   "outputs": [
    {
     "data": {
      "text/plain": [
       "20"
      ]
     },
     "execution_count": 37,
     "metadata": {},
     "output_type": "execute_result"
    }
   ],
   "source": [
    "(2-6)**2 + (3-1)**2  # A(X1,X2)  B(6,1)"
   ]
  },
  {
   "cell_type": "code",
   "execution_count": 38,
   "id": "cac23a9a",
   "metadata": {},
   "outputs": [
    {
     "data": {
      "text/plain": [
       "0"
      ]
     },
     "execution_count": 38,
     "metadata": {},
     "output_type": "execute_result"
    }
   ],
   "source": [
    "(6-6)**2 + (1-1)**2  # B(X1,X2) B(6,1)"
   ]
  },
  {
   "cell_type": "code",
   "execution_count": 39,
   "id": "b882acf1",
   "metadata": {},
   "outputs": [
    {
     "data": {
      "text/plain": [
       "26"
      ]
     },
     "execution_count": 39,
     "metadata": {},
     "output_type": "execute_result"
    }
   ],
   "source": [
    "(1-6)**2 + (2-1)**2  # C(X1,X2) B(6,1)"
   ]
  },
  {
   "cell_type": "code",
   "execution_count": 40,
   "id": "facf43a2",
   "metadata": {},
   "outputs": [
    {
     "data": {
      "text/plain": [
       "10"
      ]
     },
     "execution_count": 40,
     "metadata": {},
     "output_type": "execute_result"
    }
   ],
   "source": [
    "(3-6)**2 + (0-1)**2  # D(X1,X2) B(6,1)"
   ]
  },
  {
   "cell_type": "code",
   "execution_count": 41,
   "id": "3caad552",
   "metadata": {},
   "outputs": [
    {
     "data": {
      "text/plain": [
       "1.7689000000000001"
      ]
     },
     "execution_count": 41,
     "metadata": {},
     "output_type": "execute_result"
    }
   ],
   "source": [
    "(2-2)**2 + (3-1.67)**2  # A(X1,X2)  ACD(2,1.67)"
   ]
  },
  {
   "cell_type": "code",
   "execution_count": 42,
   "id": "032fdfbe",
   "metadata": {},
   "outputs": [
    {
     "data": {
      "text/plain": [
       "16.4489"
      ]
     },
     "execution_count": 42,
     "metadata": {},
     "output_type": "execute_result"
    }
   ],
   "source": [
    "(6-2)**2 + (1-1.67)**2  # B(X1,X2) ACD(2,1.67)"
   ]
  },
  {
   "cell_type": "code",
   "execution_count": 43,
   "id": "a39f3c59",
   "metadata": {},
   "outputs": [
    {
     "data": {
      "text/plain": [
       "1.1089"
      ]
     },
     "execution_count": 43,
     "metadata": {},
     "output_type": "execute_result"
    }
   ],
   "source": [
    "(1-2)**2 + (2-1.67)**2  # C(X1,X2) ACD(2,1.67)"
   ]
  },
  {
   "cell_type": "code",
   "execution_count": 44,
   "id": "97b0db8a",
   "metadata": {},
   "outputs": [
    {
     "data": {
      "text/plain": [
       "3.7889"
      ]
     },
     "execution_count": 44,
     "metadata": {},
     "output_type": "execute_result"
    }
   ],
   "source": [
    "(3-2)**2 + (0-1.67)**2  # D(X1,X2) ACD(2,1.67)"
   ]
  },
  {
   "cell_type": "markdown",
   "id": "07c4d780",
   "metadata": {},
   "source": [
    "    7. We can see respective cluster values are minimum that \"A\" is too far from cluster \"B\" and near to cluster \"ACD\".\n",
    "    All data points are assigned to clusters (B,ACD) based on their minimum distance.\n",
    "    The iterative procedure ends here.\n",
    "    \n",
    "    8. To cunclude, we have started with two centroids and end up with two clusters, K=2."
   ]
  },
  {
   "cell_type": "markdown",
   "id": "f3933097",
   "metadata": {},
   "source": [
    "## K-Mean Clustering Problem"
   ]
  },
  {
   "cell_type": "code",
   "execution_count": 45,
   "id": "44f60351",
   "metadata": {},
   "outputs": [],
   "source": [
    "import numpy as np\n",
    "import pandas as pd\n",
    "import matplotlib.pyplot as plt\n",
    "import seaborn as sns"
   ]
  },
  {
   "cell_type": "code",
   "execution_count": 46,
   "id": "d8347325",
   "metadata": {},
   "outputs": [],
   "source": [
    "url = 'https://archive.ics.uci.edu/ml/machine-learning-databases/iris/iris.data'"
   ]
  },
  {
   "cell_type": "code",
   "execution_count": 51,
   "id": "bb7b93cc",
   "metadata": {},
   "outputs": [],
   "source": [
    "col_names = ['sepal-length','sepal-width','petal-length','petal-width','class']"
   ]
  },
  {
   "cell_type": "code",
   "execution_count": 52,
   "id": "3ced6777",
   "metadata": {},
   "outputs": [],
   "source": [
    "df = pd.read_csv(url, names=col_names)"
   ]
  },
  {
   "cell_type": "code",
   "execution_count": 53,
   "id": "b8f09990",
   "metadata": {},
   "outputs": [
    {
     "data": {
      "text/html": [
       "<div>\n",
       "<style scoped>\n",
       "    .dataframe tbody tr th:only-of-type {\n",
       "        vertical-align: middle;\n",
       "    }\n",
       "\n",
       "    .dataframe tbody tr th {\n",
       "        vertical-align: top;\n",
       "    }\n",
       "\n",
       "    .dataframe thead th {\n",
       "        text-align: right;\n",
       "    }\n",
       "</style>\n",
       "<table border=\"1\" class=\"dataframe\">\n",
       "  <thead>\n",
       "    <tr style=\"text-align: right;\">\n",
       "      <th></th>\n",
       "      <th>sepal-length</th>\n",
       "      <th>sepal-width</th>\n",
       "      <th>petal-length</th>\n",
       "      <th>petal-width</th>\n",
       "      <th>class</th>\n",
       "    </tr>\n",
       "  </thead>\n",
       "  <tbody>\n",
       "    <tr>\n",
       "      <th>0</th>\n",
       "      <td>5.1</td>\n",
       "      <td>3.5</td>\n",
       "      <td>1.4</td>\n",
       "      <td>0.2</td>\n",
       "      <td>Iris-setosa</td>\n",
       "    </tr>\n",
       "    <tr>\n",
       "      <th>1</th>\n",
       "      <td>4.9</td>\n",
       "      <td>3.0</td>\n",
       "      <td>1.4</td>\n",
       "      <td>0.2</td>\n",
       "      <td>Iris-setosa</td>\n",
       "    </tr>\n",
       "    <tr>\n",
       "      <th>2</th>\n",
       "      <td>4.7</td>\n",
       "      <td>3.2</td>\n",
       "      <td>1.3</td>\n",
       "      <td>0.2</td>\n",
       "      <td>Iris-setosa</td>\n",
       "    </tr>\n",
       "    <tr>\n",
       "      <th>3</th>\n",
       "      <td>4.6</td>\n",
       "      <td>3.1</td>\n",
       "      <td>1.5</td>\n",
       "      <td>0.2</td>\n",
       "      <td>Iris-setosa</td>\n",
       "    </tr>\n",
       "    <tr>\n",
       "      <th>4</th>\n",
       "      <td>5.0</td>\n",
       "      <td>3.6</td>\n",
       "      <td>1.4</td>\n",
       "      <td>0.2</td>\n",
       "      <td>Iris-setosa</td>\n",
       "    </tr>\n",
       "  </tbody>\n",
       "</table>\n",
       "</div>"
      ],
      "text/plain": [
       "   sepal-length  sepal-width  petal-length  petal-width        class\n",
       "0           5.1          3.5           1.4          0.2  Iris-setosa\n",
       "1           4.9          3.0           1.4          0.2  Iris-setosa\n",
       "2           4.7          3.2           1.3          0.2  Iris-setosa\n",
       "3           4.6          3.1           1.5          0.2  Iris-setosa\n",
       "4           5.0          3.6           1.4          0.2  Iris-setosa"
      ]
     },
     "execution_count": 53,
     "metadata": {},
     "output_type": "execute_result"
    }
   ],
   "source": [
    "df.head()"
   ]
  },
  {
   "cell_type": "code",
   "execution_count": 54,
   "id": "136f1c85",
   "metadata": {},
   "outputs": [
    {
     "data": {
      "text/plain": [
       "3"
      ]
     },
     "execution_count": 54,
     "metadata": {},
     "output_type": "execute_result"
    }
   ],
   "source": [
    "df['class'].nunique()"
   ]
  },
  {
   "cell_type": "markdown",
   "id": "55001c54",
   "metadata": {},
   "source": [
    "### Split data on the basis of atrributes and labels"
   ]
  },
  {
   "cell_type": "code",
   "execution_count": 55,
   "id": "abcbdac8",
   "metadata": {},
   "outputs": [],
   "source": [
    "X = df.iloc[:,:-1].values"
   ]
  },
  {
   "cell_type": "code",
   "execution_count": 56,
   "id": "86121b6c",
   "metadata": {
    "scrolled": true
   },
   "outputs": [
    {
     "data": {
      "text/plain": [
       "array([[5.1, 3.5, 1.4, 0.2],\n",
       "       [4.9, 3. , 1.4, 0.2],\n",
       "       [4.7, 3.2, 1.3, 0.2],\n",
       "       [4.6, 3.1, 1.5, 0.2],\n",
       "       [5. , 3.6, 1.4, 0.2],\n",
       "       [5.4, 3.9, 1.7, 0.4],\n",
       "       [4.6, 3.4, 1.4, 0.3],\n",
       "       [5. , 3.4, 1.5, 0.2],\n",
       "       [4.4, 2.9, 1.4, 0.2],\n",
       "       [4.9, 3.1, 1.5, 0.1],\n",
       "       [5.4, 3.7, 1.5, 0.2],\n",
       "       [4.8, 3.4, 1.6, 0.2],\n",
       "       [4.8, 3. , 1.4, 0.1],\n",
       "       [4.3, 3. , 1.1, 0.1],\n",
       "       [5.8, 4. , 1.2, 0.2],\n",
       "       [5.7, 4.4, 1.5, 0.4],\n",
       "       [5.4, 3.9, 1.3, 0.4],\n",
       "       [5.1, 3.5, 1.4, 0.3],\n",
       "       [5.7, 3.8, 1.7, 0.3],\n",
       "       [5.1, 3.8, 1.5, 0.3],\n",
       "       [5.4, 3.4, 1.7, 0.2],\n",
       "       [5.1, 3.7, 1.5, 0.4],\n",
       "       [4.6, 3.6, 1. , 0.2],\n",
       "       [5.1, 3.3, 1.7, 0.5],\n",
       "       [4.8, 3.4, 1.9, 0.2],\n",
       "       [5. , 3. , 1.6, 0.2],\n",
       "       [5. , 3.4, 1.6, 0.4],\n",
       "       [5.2, 3.5, 1.5, 0.2],\n",
       "       [5.2, 3.4, 1.4, 0.2],\n",
       "       [4.7, 3.2, 1.6, 0.2],\n",
       "       [4.8, 3.1, 1.6, 0.2],\n",
       "       [5.4, 3.4, 1.5, 0.4],\n",
       "       [5.2, 4.1, 1.5, 0.1],\n",
       "       [5.5, 4.2, 1.4, 0.2],\n",
       "       [4.9, 3.1, 1.5, 0.1],\n",
       "       [5. , 3.2, 1.2, 0.2],\n",
       "       [5.5, 3.5, 1.3, 0.2],\n",
       "       [4.9, 3.1, 1.5, 0.1],\n",
       "       [4.4, 3. , 1.3, 0.2],\n",
       "       [5.1, 3.4, 1.5, 0.2],\n",
       "       [5. , 3.5, 1.3, 0.3],\n",
       "       [4.5, 2.3, 1.3, 0.3],\n",
       "       [4.4, 3.2, 1.3, 0.2],\n",
       "       [5. , 3.5, 1.6, 0.6],\n",
       "       [5.1, 3.8, 1.9, 0.4],\n",
       "       [4.8, 3. , 1.4, 0.3],\n",
       "       [5.1, 3.8, 1.6, 0.2],\n",
       "       [4.6, 3.2, 1.4, 0.2],\n",
       "       [5.3, 3.7, 1.5, 0.2],\n",
       "       [5. , 3.3, 1.4, 0.2],\n",
       "       [7. , 3.2, 4.7, 1.4],\n",
       "       [6.4, 3.2, 4.5, 1.5],\n",
       "       [6.9, 3.1, 4.9, 1.5],\n",
       "       [5.5, 2.3, 4. , 1.3],\n",
       "       [6.5, 2.8, 4.6, 1.5],\n",
       "       [5.7, 2.8, 4.5, 1.3],\n",
       "       [6.3, 3.3, 4.7, 1.6],\n",
       "       [4.9, 2.4, 3.3, 1. ],\n",
       "       [6.6, 2.9, 4.6, 1.3],\n",
       "       [5.2, 2.7, 3.9, 1.4],\n",
       "       [5. , 2. , 3.5, 1. ],\n",
       "       [5.9, 3. , 4.2, 1.5],\n",
       "       [6. , 2.2, 4. , 1. ],\n",
       "       [6.1, 2.9, 4.7, 1.4],\n",
       "       [5.6, 2.9, 3.6, 1.3],\n",
       "       [6.7, 3.1, 4.4, 1.4],\n",
       "       [5.6, 3. , 4.5, 1.5],\n",
       "       [5.8, 2.7, 4.1, 1. ],\n",
       "       [6.2, 2.2, 4.5, 1.5],\n",
       "       [5.6, 2.5, 3.9, 1.1],\n",
       "       [5.9, 3.2, 4.8, 1.8],\n",
       "       [6.1, 2.8, 4. , 1.3],\n",
       "       [6.3, 2.5, 4.9, 1.5],\n",
       "       [6.1, 2.8, 4.7, 1.2],\n",
       "       [6.4, 2.9, 4.3, 1.3],\n",
       "       [6.6, 3. , 4.4, 1.4],\n",
       "       [6.8, 2.8, 4.8, 1.4],\n",
       "       [6.7, 3. , 5. , 1.7],\n",
       "       [6. , 2.9, 4.5, 1.5],\n",
       "       [5.7, 2.6, 3.5, 1. ],\n",
       "       [5.5, 2.4, 3.8, 1.1],\n",
       "       [5.5, 2.4, 3.7, 1. ],\n",
       "       [5.8, 2.7, 3.9, 1.2],\n",
       "       [6. , 2.7, 5.1, 1.6],\n",
       "       [5.4, 3. , 4.5, 1.5],\n",
       "       [6. , 3.4, 4.5, 1.6],\n",
       "       [6.7, 3.1, 4.7, 1.5],\n",
       "       [6.3, 2.3, 4.4, 1.3],\n",
       "       [5.6, 3. , 4.1, 1.3],\n",
       "       [5.5, 2.5, 4. , 1.3],\n",
       "       [5.5, 2.6, 4.4, 1.2],\n",
       "       [6.1, 3. , 4.6, 1.4],\n",
       "       [5.8, 2.6, 4. , 1.2],\n",
       "       [5. , 2.3, 3.3, 1. ],\n",
       "       [5.6, 2.7, 4.2, 1.3],\n",
       "       [5.7, 3. , 4.2, 1.2],\n",
       "       [5.7, 2.9, 4.2, 1.3],\n",
       "       [6.2, 2.9, 4.3, 1.3],\n",
       "       [5.1, 2.5, 3. , 1.1],\n",
       "       [5.7, 2.8, 4.1, 1.3],\n",
       "       [6.3, 3.3, 6. , 2.5],\n",
       "       [5.8, 2.7, 5.1, 1.9],\n",
       "       [7.1, 3. , 5.9, 2.1],\n",
       "       [6.3, 2.9, 5.6, 1.8],\n",
       "       [6.5, 3. , 5.8, 2.2],\n",
       "       [7.6, 3. , 6.6, 2.1],\n",
       "       [4.9, 2.5, 4.5, 1.7],\n",
       "       [7.3, 2.9, 6.3, 1.8],\n",
       "       [6.7, 2.5, 5.8, 1.8],\n",
       "       [7.2, 3.6, 6.1, 2.5],\n",
       "       [6.5, 3.2, 5.1, 2. ],\n",
       "       [6.4, 2.7, 5.3, 1.9],\n",
       "       [6.8, 3. , 5.5, 2.1],\n",
       "       [5.7, 2.5, 5. , 2. ],\n",
       "       [5.8, 2.8, 5.1, 2.4],\n",
       "       [6.4, 3.2, 5.3, 2.3],\n",
       "       [6.5, 3. , 5.5, 1.8],\n",
       "       [7.7, 3.8, 6.7, 2.2],\n",
       "       [7.7, 2.6, 6.9, 2.3],\n",
       "       [6. , 2.2, 5. , 1.5],\n",
       "       [6.9, 3.2, 5.7, 2.3],\n",
       "       [5.6, 2.8, 4.9, 2. ],\n",
       "       [7.7, 2.8, 6.7, 2. ],\n",
       "       [6.3, 2.7, 4.9, 1.8],\n",
       "       [6.7, 3.3, 5.7, 2.1],\n",
       "       [7.2, 3.2, 6. , 1.8],\n",
       "       [6.2, 2.8, 4.8, 1.8],\n",
       "       [6.1, 3. , 4.9, 1.8],\n",
       "       [6.4, 2.8, 5.6, 2.1],\n",
       "       [7.2, 3. , 5.8, 1.6],\n",
       "       [7.4, 2.8, 6.1, 1.9],\n",
       "       [7.9, 3.8, 6.4, 2. ],\n",
       "       [6.4, 2.8, 5.6, 2.2],\n",
       "       [6.3, 2.8, 5.1, 1.5],\n",
       "       [6.1, 2.6, 5.6, 1.4],\n",
       "       [7.7, 3. , 6.1, 2.3],\n",
       "       [6.3, 3.4, 5.6, 2.4],\n",
       "       [6.4, 3.1, 5.5, 1.8],\n",
       "       [6. , 3. , 4.8, 1.8],\n",
       "       [6.9, 3.1, 5.4, 2.1],\n",
       "       [6.7, 3.1, 5.6, 2.4],\n",
       "       [6.9, 3.1, 5.1, 2.3],\n",
       "       [5.8, 2.7, 5.1, 1.9],\n",
       "       [6.8, 3.2, 5.9, 2.3],\n",
       "       [6.7, 3.3, 5.7, 2.5],\n",
       "       [6.7, 3. , 5.2, 2.3],\n",
       "       [6.3, 2.5, 5. , 1.9],\n",
       "       [6.5, 3. , 5.2, 2. ],\n",
       "       [6.2, 3.4, 5.4, 2.3],\n",
       "       [5.9, 3. , 5.1, 1.8]])"
      ]
     },
     "execution_count": 56,
     "metadata": {},
     "output_type": "execute_result"
    }
   ],
   "source": [
    "X"
   ]
  },
  {
   "cell_type": "code",
   "execution_count": 63,
   "id": "3d679b6f",
   "metadata": {},
   "outputs": [],
   "source": [
    "Y = df.iloc[:,4].values"
   ]
  },
  {
   "cell_type": "code",
   "execution_count": 64,
   "id": "e077369d",
   "metadata": {},
   "outputs": [
    {
     "data": {
      "text/plain": [
       "array(['Iris-setosa', 'Iris-setosa', 'Iris-setosa', 'Iris-setosa',\n",
       "       'Iris-setosa', 'Iris-setosa', 'Iris-setosa', 'Iris-setosa',\n",
       "       'Iris-setosa', 'Iris-setosa', 'Iris-setosa', 'Iris-setosa',\n",
       "       'Iris-setosa', 'Iris-setosa', 'Iris-setosa', 'Iris-setosa',\n",
       "       'Iris-setosa', 'Iris-setosa', 'Iris-setosa', 'Iris-setosa',\n",
       "       'Iris-setosa', 'Iris-setosa', 'Iris-setosa', 'Iris-setosa',\n",
       "       'Iris-setosa', 'Iris-setosa', 'Iris-setosa', 'Iris-setosa',\n",
       "       'Iris-setosa', 'Iris-setosa', 'Iris-setosa', 'Iris-setosa',\n",
       "       'Iris-setosa', 'Iris-setosa', 'Iris-setosa', 'Iris-setosa',\n",
       "       'Iris-setosa', 'Iris-setosa', 'Iris-setosa', 'Iris-setosa',\n",
       "       'Iris-setosa', 'Iris-setosa', 'Iris-setosa', 'Iris-setosa',\n",
       "       'Iris-setosa', 'Iris-setosa', 'Iris-setosa', 'Iris-setosa',\n",
       "       'Iris-setosa', 'Iris-setosa', 'Iris-versicolor', 'Iris-versicolor',\n",
       "       'Iris-versicolor', 'Iris-versicolor', 'Iris-versicolor',\n",
       "       'Iris-versicolor', 'Iris-versicolor', 'Iris-versicolor',\n",
       "       'Iris-versicolor', 'Iris-versicolor', 'Iris-versicolor',\n",
       "       'Iris-versicolor', 'Iris-versicolor', 'Iris-versicolor',\n",
       "       'Iris-versicolor', 'Iris-versicolor', 'Iris-versicolor',\n",
       "       'Iris-versicolor', 'Iris-versicolor', 'Iris-versicolor',\n",
       "       'Iris-versicolor', 'Iris-versicolor', 'Iris-versicolor',\n",
       "       'Iris-versicolor', 'Iris-versicolor', 'Iris-versicolor',\n",
       "       'Iris-versicolor', 'Iris-versicolor', 'Iris-versicolor',\n",
       "       'Iris-versicolor', 'Iris-versicolor', 'Iris-versicolor',\n",
       "       'Iris-versicolor', 'Iris-versicolor', 'Iris-versicolor',\n",
       "       'Iris-versicolor', 'Iris-versicolor', 'Iris-versicolor',\n",
       "       'Iris-versicolor', 'Iris-versicolor', 'Iris-versicolor',\n",
       "       'Iris-versicolor', 'Iris-versicolor', 'Iris-versicolor',\n",
       "       'Iris-versicolor', 'Iris-versicolor', 'Iris-versicolor',\n",
       "       'Iris-versicolor', 'Iris-versicolor', 'Iris-versicolor',\n",
       "       'Iris-virginica', 'Iris-virginica', 'Iris-virginica',\n",
       "       'Iris-virginica', 'Iris-virginica', 'Iris-virginica',\n",
       "       'Iris-virginica', 'Iris-virginica', 'Iris-virginica',\n",
       "       'Iris-virginica', 'Iris-virginica', 'Iris-virginica',\n",
       "       'Iris-virginica', 'Iris-virginica', 'Iris-virginica',\n",
       "       'Iris-virginica', 'Iris-virginica', 'Iris-virginica',\n",
       "       'Iris-virginica', 'Iris-virginica', 'Iris-virginica',\n",
       "       'Iris-virginica', 'Iris-virginica', 'Iris-virginica',\n",
       "       'Iris-virginica', 'Iris-virginica', 'Iris-virginica',\n",
       "       'Iris-virginica', 'Iris-virginica', 'Iris-virginica',\n",
       "       'Iris-virginica', 'Iris-virginica', 'Iris-virginica',\n",
       "       'Iris-virginica', 'Iris-virginica', 'Iris-virginica',\n",
       "       'Iris-virginica', 'Iris-virginica', 'Iris-virginica',\n",
       "       'Iris-virginica', 'Iris-virginica', 'Iris-virginica',\n",
       "       'Iris-virginica', 'Iris-virginica', 'Iris-virginica',\n",
       "       'Iris-virginica', 'Iris-virginica', 'Iris-virginica',\n",
       "       'Iris-virginica', 'Iris-virginica'], dtype=object)"
      ]
     },
     "execution_count": 64,
     "metadata": {},
     "output_type": "execute_result"
    }
   ],
   "source": [
    "Y"
   ]
  },
  {
   "cell_type": "markdown",
   "id": "a4d569a7",
   "metadata": {},
   "source": [
    "### Training & Testing Data"
   ]
  },
  {
   "cell_type": "code",
   "execution_count": 65,
   "id": "6d2acf71",
   "metadata": {},
   "outputs": [],
   "source": [
    "from sklearn.model_selection import train_test_split"
   ]
  },
  {
   "cell_type": "code",
   "execution_count": 66,
   "id": "4c60b994",
   "metadata": {},
   "outputs": [],
   "source": [
    "X_train, X_test, Y_train, Y_test = train_test_split(X, Y, test_size=0.20)"
   ]
  },
  {
   "cell_type": "code",
   "execution_count": 67,
   "id": "663f1674",
   "metadata": {},
   "outputs": [
    {
     "data": {
      "text/plain": [
       "array([[5.1, 3.8, 1.6, 0.2],\n",
       "       [6.5, 2.8, 4.6, 1.5],\n",
       "       [5. , 3.5, 1.6, 0.6],\n",
       "       [5. , 3. , 1.6, 0.2],\n",
       "       [4.3, 3. , 1.1, 0.1],\n",
       "       [5.9, 3.2, 4.8, 1.8],\n",
       "       [6.7, 3.1, 4.7, 1.5],\n",
       "       [6.9, 3.1, 4.9, 1.5],\n",
       "       [5.9, 3. , 4.2, 1.5],\n",
       "       [5.1, 3.7, 1.5, 0.4],\n",
       "       [6.9, 3.1, 5.4, 2.1],\n",
       "       [6.4, 3.2, 5.3, 2.3],\n",
       "       [5.4, 3.4, 1.5, 0.4],\n",
       "       [6.1, 2.8, 4. , 1.3],\n",
       "       [6.4, 2.7, 5.3, 1.9],\n",
       "       [5. , 3.5, 1.3, 0.3],\n",
       "       [6.2, 2.9, 4.3, 1.3],\n",
       "       [5.7, 3. , 4.2, 1.2],\n",
       "       [6.3, 2.9, 5.6, 1.8],\n",
       "       [4.9, 2.5, 4.5, 1.7],\n",
       "       [4.8, 3.4, 1.9, 0.2],\n",
       "       [4.8, 3.4, 1.6, 0.2],\n",
       "       [6.4, 2.8, 5.6, 2.1],\n",
       "       [6.8, 3. , 5.5, 2.1],\n",
       "       [6.9, 3.2, 5.7, 2.3],\n",
       "       [7.3, 2.9, 6.3, 1.8],\n",
       "       [6.7, 3.3, 5.7, 2.5],\n",
       "       [5.7, 4.4, 1.5, 0.4],\n",
       "       [5.2, 3.5, 1.5, 0.2],\n",
       "       [6.5, 3. , 5.8, 2.2],\n",
       "       [6. , 2.2, 5. , 1.5],\n",
       "       [5.8, 4. , 1.2, 0.2],\n",
       "       [5.1, 3.5, 1.4, 0.3],\n",
       "       [7.7, 3. , 6.1, 2.3],\n",
       "       [5.1, 3.4, 1.5, 0.2],\n",
       "       [4.7, 3.2, 1.6, 0.2],\n",
       "       [5.9, 3. , 5.1, 1.8],\n",
       "       [5.8, 2.7, 4.1, 1. ],\n",
       "       [6. , 3. , 4.8, 1.8],\n",
       "       [4.9, 3.1, 1.5, 0.1],\n",
       "       [6.4, 3.2, 4.5, 1.5],\n",
       "       [5.7, 2.8, 4.1, 1.3],\n",
       "       [7.2, 3. , 5.8, 1.6],\n",
       "       [5.5, 2.3, 4. , 1.3],\n",
       "       [5.6, 2.5, 3.9, 1.1],\n",
       "       [5.1, 2.5, 3. , 1.1],\n",
       "       [4.9, 3. , 1.4, 0.2],\n",
       "       [5.5, 3.5, 1.3, 0.2],\n",
       "       [6.7, 3. , 5.2, 2.3],\n",
       "       [6.3, 2.5, 4.9, 1.5],\n",
       "       [5.8, 2.7, 3.9, 1.2],\n",
       "       [7.2, 3.6, 6.1, 2.5],\n",
       "       [5.8, 2.8, 5.1, 2.4],\n",
       "       [5. , 2.3, 3.3, 1. ],\n",
       "       [5.6, 2.7, 4.2, 1.3],\n",
       "       [5.7, 2.8, 4.5, 1.3],\n",
       "       [6.7, 3.1, 4.4, 1.4],\n",
       "       [6.5, 3. , 5.2, 2. ],\n",
       "       [4.9, 3.1, 1.5, 0.1],\n",
       "       [5.5, 2.5, 4. , 1.3],\n",
       "       [5.5, 2.6, 4.4, 1.2],\n",
       "       [6.4, 3.1, 5.5, 1.8],\n",
       "       [5.6, 2.8, 4.9, 2. ],\n",
       "       [6.1, 3. , 4.9, 1.8],\n",
       "       [5.7, 2.9, 4.2, 1.3],\n",
       "       [6.1, 2.6, 5.6, 1.4],\n",
       "       [6.6, 2.9, 4.6, 1.3],\n",
       "       [4.7, 3.2, 1.3, 0.2],\n",
       "       [6.8, 3.2, 5.9, 2.3],\n",
       "       [6.1, 2.9, 4.7, 1.4],\n",
       "       [4.8, 3.1, 1.6, 0.2],\n",
       "       [5.1, 3.8, 1.9, 0.4],\n",
       "       [5. , 2. , 3.5, 1. ],\n",
       "       [5.4, 3.9, 1.3, 0.4],\n",
       "       [6.4, 2.9, 4.3, 1.3],\n",
       "       [6.7, 3. , 5. , 1.7],\n",
       "       [5.7, 3.8, 1.7, 0.3],\n",
       "       [5.2, 2.7, 3.9, 1.4],\n",
       "       [5.5, 4.2, 1.4, 0.2],\n",
       "       [7.6, 3. , 6.6, 2.1],\n",
       "       [6.3, 2.5, 5. , 1.9],\n",
       "       [6.5, 3. , 5.5, 1.8],\n",
       "       [5. , 3.4, 1.5, 0.2],\n",
       "       [5.5, 2.4, 3.7, 1. ],\n",
       "       [6.3, 3.3, 6. , 2.5],\n",
       "       [5.6, 2.9, 3.6, 1.3],\n",
       "       [6.3, 2.8, 5.1, 1.5],\n",
       "       [6.3, 2.7, 4.9, 1.8],\n",
       "       [5.6, 3. , 4.5, 1.5],\n",
       "       [6.7, 2.5, 5.8, 1.8],\n",
       "       [6.2, 2.2, 4.5, 1.5],\n",
       "       [4.4, 2.9, 1.4, 0.2],\n",
       "       [4.6, 3.2, 1.4, 0.2],\n",
       "       [5.4, 3.4, 1.7, 0.2],\n",
       "       [4.8, 3. , 1.4, 0.3],\n",
       "       [5.5, 2.4, 3.8, 1.1],\n",
       "       [4.4, 3. , 1.3, 0.2],\n",
       "       [5.4, 3.7, 1.5, 0.2],\n",
       "       [6.2, 2.8, 4.8, 1.8],\n",
       "       [6.2, 3.4, 5.4, 2.3],\n",
       "       [4.6, 3.4, 1.4, 0.3],\n",
       "       [6.4, 2.8, 5.6, 2.2],\n",
       "       [5.1, 3.3, 1.7, 0.5],\n",
       "       [6.5, 3.2, 5.1, 2. ],\n",
       "       [4.8, 3. , 1.4, 0.1],\n",
       "       [4.4, 3.2, 1.3, 0.2],\n",
       "       [5. , 3.2, 1.2, 0.2],\n",
       "       [6. , 2.7, 5.1, 1.6],\n",
       "       [5. , 3.6, 1.4, 0.2],\n",
       "       [4.6, 3.1, 1.5, 0.2],\n",
       "       [4.6, 3.6, 1. , 0.2],\n",
       "       [7.7, 2.6, 6.9, 2.3],\n",
       "       [7.7, 2.8, 6.7, 2. ],\n",
       "       [5.7, 2.6, 3.5, 1. ],\n",
       "       [7. , 3.2, 4.7, 1.4],\n",
       "       [5.8, 2.6, 4. , 1.2],\n",
       "       [6.8, 2.8, 4.8, 1.4],\n",
       "       [5.2, 4.1, 1.5, 0.1],\n",
       "       [6.7, 3.1, 5.6, 2.4],\n",
       "       [6.3, 3.3, 4.7, 1.6]])"
      ]
     },
     "execution_count": 67,
     "metadata": {},
     "output_type": "execute_result"
    }
   ],
   "source": [
    "X_train"
   ]
  },
  {
   "cell_type": "code",
   "execution_count": 69,
   "id": "90ad1700",
   "metadata": {},
   "outputs": [
    {
     "data": {
      "text/plain": [
       "array(['Iris-setosa', 'Iris-versicolor', 'Iris-setosa', 'Iris-setosa',\n",
       "       'Iris-setosa', 'Iris-versicolor', 'Iris-versicolor',\n",
       "       'Iris-versicolor', 'Iris-versicolor', 'Iris-setosa',\n",
       "       'Iris-virginica', 'Iris-virginica', 'Iris-setosa',\n",
       "       'Iris-versicolor', 'Iris-virginica', 'Iris-setosa',\n",
       "       'Iris-versicolor', 'Iris-versicolor', 'Iris-virginica',\n",
       "       'Iris-virginica', 'Iris-setosa', 'Iris-setosa', 'Iris-virginica',\n",
       "       'Iris-virginica', 'Iris-virginica', 'Iris-virginica',\n",
       "       'Iris-virginica', 'Iris-setosa', 'Iris-setosa', 'Iris-virginica',\n",
       "       'Iris-virginica', 'Iris-setosa', 'Iris-setosa', 'Iris-virginica',\n",
       "       'Iris-setosa', 'Iris-setosa', 'Iris-virginica', 'Iris-versicolor',\n",
       "       'Iris-virginica', 'Iris-setosa', 'Iris-versicolor',\n",
       "       'Iris-versicolor', 'Iris-virginica', 'Iris-versicolor',\n",
       "       'Iris-versicolor', 'Iris-versicolor', 'Iris-setosa', 'Iris-setosa',\n",
       "       'Iris-virginica', 'Iris-versicolor', 'Iris-versicolor',\n",
       "       'Iris-virginica', 'Iris-virginica', 'Iris-versicolor',\n",
       "       'Iris-versicolor', 'Iris-versicolor', 'Iris-versicolor',\n",
       "       'Iris-virginica', 'Iris-setosa', 'Iris-versicolor',\n",
       "       'Iris-versicolor', 'Iris-virginica', 'Iris-virginica',\n",
       "       'Iris-virginica', 'Iris-versicolor', 'Iris-virginica',\n",
       "       'Iris-versicolor', 'Iris-setosa', 'Iris-virginica',\n",
       "       'Iris-versicolor', 'Iris-setosa', 'Iris-setosa', 'Iris-versicolor',\n",
       "       'Iris-setosa', 'Iris-versicolor', 'Iris-versicolor', 'Iris-setosa',\n",
       "       'Iris-versicolor', 'Iris-setosa', 'Iris-virginica',\n",
       "       'Iris-virginica', 'Iris-virginica', 'Iris-setosa',\n",
       "       'Iris-versicolor', 'Iris-virginica', 'Iris-versicolor',\n",
       "       'Iris-virginica', 'Iris-virginica', 'Iris-versicolor',\n",
       "       'Iris-virginica', 'Iris-versicolor', 'Iris-setosa', 'Iris-setosa',\n",
       "       'Iris-setosa', 'Iris-setosa', 'Iris-versicolor', 'Iris-setosa',\n",
       "       'Iris-setosa', 'Iris-virginica', 'Iris-virginica', 'Iris-setosa',\n",
       "       'Iris-virginica', 'Iris-setosa', 'Iris-virginica', 'Iris-setosa',\n",
       "       'Iris-setosa', 'Iris-setosa', 'Iris-versicolor', 'Iris-setosa',\n",
       "       'Iris-setosa', 'Iris-setosa', 'Iris-virginica', 'Iris-virginica',\n",
       "       'Iris-versicolor', 'Iris-versicolor', 'Iris-versicolor',\n",
       "       'Iris-versicolor', 'Iris-setosa', 'Iris-virginica',\n",
       "       'Iris-versicolor'], dtype=object)"
      ]
     },
     "execution_count": 69,
     "metadata": {},
     "output_type": "execute_result"
    }
   ],
   "source": [
    "Y_train"
   ]
  },
  {
   "cell_type": "code",
   "execution_count": 70,
   "id": "35d9b82d",
   "metadata": {},
   "outputs": [
    {
     "data": {
      "text/plain": [
       "array([[5.3, 3.7, 1.5, 0.2],\n",
       "       [6.6, 3. , 4.4, 1.4],\n",
       "       [6.1, 2.8, 4.7, 1.2],\n",
       "       [5.8, 2.7, 5.1, 1.9],\n",
       "       [4.5, 2.3, 1.3, 0.3],\n",
       "       [4.9, 2.4, 3.3, 1. ],\n",
       "       [6.3, 3.4, 5.6, 2.4],\n",
       "       [6. , 2.2, 4. , 1. ],\n",
       "       [6.1, 3. , 4.6, 1.4],\n",
       "       [5.8, 2.7, 5.1, 1.9],\n",
       "       [5.4, 3.9, 1.7, 0.4],\n",
       "       [5.2, 3.4, 1.4, 0.2],\n",
       "       [7.2, 3.2, 6. , 1.8],\n",
       "       [5.1, 3.8, 1.5, 0.3],\n",
       "       [5.1, 3.5, 1.4, 0.2],\n",
       "       [5.4, 3. , 4.5, 1.5],\n",
       "       [7.4, 2.8, 6.1, 1.9],\n",
       "       [5.6, 3. , 4.1, 1.3],\n",
       "       [6. , 2.9, 4.5, 1.5],\n",
       "       [6.9, 3.1, 5.1, 2.3],\n",
       "       [6.7, 3.3, 5.7, 2.1],\n",
       "       [5. , 3.4, 1.6, 0.4],\n",
       "       [7.1, 3. , 5.9, 2.1],\n",
       "       [5.7, 2.5, 5. , 2. ],\n",
       "       [6.3, 2.3, 4.4, 1.3],\n",
       "       [7.7, 3.8, 6.7, 2.2],\n",
       "       [5. , 3.3, 1.4, 0.2],\n",
       "       [6. , 3.4, 4.5, 1.6],\n",
       "       [4.9, 3.1, 1.5, 0.1],\n",
       "       [7.9, 3.8, 6.4, 2. ]])"
      ]
     },
     "execution_count": 70,
     "metadata": {},
     "output_type": "execute_result"
    }
   ],
   "source": [
    "X_test"
   ]
  },
  {
   "cell_type": "code",
   "execution_count": 71,
   "id": "ff60c354",
   "metadata": {},
   "outputs": [
    {
     "data": {
      "text/plain": [
       "array(['Iris-setosa', 'Iris-versicolor', 'Iris-versicolor',\n",
       "       'Iris-virginica', 'Iris-setosa', 'Iris-versicolor',\n",
       "       'Iris-virginica', 'Iris-versicolor', 'Iris-versicolor',\n",
       "       'Iris-virginica', 'Iris-setosa', 'Iris-setosa', 'Iris-virginica',\n",
       "       'Iris-setosa', 'Iris-setosa', 'Iris-versicolor', 'Iris-virginica',\n",
       "       'Iris-versicolor', 'Iris-versicolor', 'Iris-virginica',\n",
       "       'Iris-virginica', 'Iris-setosa', 'Iris-virginica',\n",
       "       'Iris-virginica', 'Iris-versicolor', 'Iris-virginica',\n",
       "       'Iris-setosa', 'Iris-versicolor', 'Iris-setosa', 'Iris-virginica'],\n",
       "      dtype=object)"
      ]
     },
     "execution_count": 71,
     "metadata": {},
     "output_type": "execute_result"
    }
   ],
   "source": [
    "Y_test"
   ]
  },
  {
   "cell_type": "markdown",
   "id": "306da4d1",
   "metadata": {},
   "source": [
    "### Normlization StandardScaler"
   ]
  },
  {
   "cell_type": "code",
   "execution_count": 72,
   "id": "0ad229e2",
   "metadata": {},
   "outputs": [],
   "source": [
    "from sklearn.preprocessing import StandardScaler"
   ]
  },
  {
   "cell_type": "code",
   "execution_count": 73,
   "id": "f553fb70",
   "metadata": {},
   "outputs": [],
   "source": [
    "scaler = StandardScaler()"
   ]
  },
  {
   "cell_type": "code",
   "execution_count": 74,
   "id": "736126f7",
   "metadata": {},
   "outputs": [
    {
     "data": {
      "text/plain": [
       "StandardScaler()"
      ]
     },
     "execution_count": 74,
     "metadata": {},
     "output_type": "execute_result"
    }
   ],
   "source": [
    "scaler.fit(X_train)"
   ]
  },
  {
   "cell_type": "code",
   "execution_count": 75,
   "id": "353f854b",
   "metadata": {},
   "outputs": [],
   "source": [
    "X_train = scaler.transform(X_train)"
   ]
  },
  {
   "cell_type": "code",
   "execution_count": 76,
   "id": "8586ba8a",
   "metadata": {},
   "outputs": [
    {
     "data": {
      "text/plain": [
       "array([[-0.88266603,  1.78964731, -1.2040804 , -1.28673384],\n",
       "       [ 0.85169529, -0.58074648,  0.51059106,  0.41870778],\n",
       "       [-1.00654898,  1.07852917, -1.2040804 , -0.76198257],\n",
       "       [-1.00654898, -0.10666772, -1.2040804 , -1.28673384],\n",
       "       [-1.87372965, -0.10666772, -1.48985898, -1.41792166],\n",
       "       [ 0.10839758,  0.36741104,  0.62490249,  0.81227124],\n",
       "       [ 1.0994612 ,  0.13037166,  0.56774677,  0.41870778],\n",
       "       [ 1.3472271 ,  0.13037166,  0.6820582 ,  0.41870778],\n",
       "       [ 0.10839758, -0.10666772,  0.2819682 ,  0.41870778],\n",
       "       [-0.88266603,  1.55260793, -1.26123612, -1.02435821],\n",
       "       [ 1.3472271 ,  0.13037166,  0.96783678,  1.20583469],\n",
       "       [ 0.72781234,  0.36741104,  0.91068107,  1.46821032],\n",
       "       [-0.51101718,  0.84148979, -1.26123612, -1.02435821],\n",
       "       [ 0.35616349, -0.58074648,  0.16765677,  0.15633215],\n",
       "       [ 0.72781234, -0.81778585,  0.91068107,  0.94345905],\n",
       "       [-1.00654898,  1.07852917, -1.37554755, -1.15554603],\n",
       "       [ 0.48004644, -0.3437071 ,  0.33912391,  0.15633215],\n",
       "       [-0.13936832, -0.10666772,  0.2819682 ,  0.02514433],\n",
       "       [ 0.60392939, -0.3437071 ,  1.08214821,  0.81227124],\n",
       "       [-1.13043194, -1.29186461,  0.45343534,  0.68108342],\n",
       "       [-1.25431489,  0.84148979, -1.03261326, -1.28673384],\n",
       "       [-1.25431489,  0.84148979, -1.2040804 , -1.28673384],\n",
       "       [ 0.72781234, -0.58074648,  1.08214821,  1.20583469],\n",
       "       [ 1.22334415, -0.10666772,  1.0249925 ,  1.20583469],\n",
       "       [ 1.3472271 ,  0.36741104,  1.13930393,  1.46821032],\n",
       "       [ 1.84275891, -0.3437071 ,  1.48223822,  0.81227124],\n",
       "       [ 1.0994612 ,  0.60445041,  1.13930393,  1.73058596],\n",
       "       [-0.13936832,  3.21188357, -1.26123612, -1.02435821],\n",
       "       [-0.75878308,  1.07852917, -1.26123612, -1.28673384],\n",
       "       [ 0.85169529, -0.10666772,  1.19645964,  1.33702251],\n",
       "       [ 0.23228053, -2.00298275,  0.73921392,  0.41870778],\n",
       "       [-0.01548537,  2.26372606, -1.43270327, -1.28673384],\n",
       "       [-0.88266603,  1.07852917, -1.31839183, -1.15554603],\n",
       "       [ 2.33829072, -0.10666772,  1.36792679,  1.46821032],\n",
       "       [-0.88266603,  0.84148979, -1.26123612, -1.28673384],\n",
       "       [-1.37819784,  0.36741104, -1.2040804 , -1.28673384],\n",
       "       [ 0.10839758, -0.10666772,  0.79636963,  0.81227124],\n",
       "       [-0.01548537, -0.81778585,  0.22481248, -0.2372313 ],\n",
       "       [ 0.23228053, -0.10666772,  0.62490249,  0.81227124],\n",
       "       [-1.13043194,  0.13037166, -1.26123612, -1.41792166],\n",
       "       [ 0.72781234,  0.36741104,  0.45343534,  0.41870778],\n",
       "       [-0.13936832, -0.58074648,  0.22481248,  0.15633215],\n",
       "       [ 1.71887596, -0.10666772,  1.19645964,  0.5498956 ],\n",
       "       [-0.38713422, -1.76594337,  0.16765677,  0.15633215],\n",
       "       [-0.26325127, -1.29186461,  0.11050105, -0.10604349],\n",
       "       [-0.88266603, -1.29186461, -0.40390039, -0.10604349],\n",
       "       [-1.13043194, -0.10666772, -1.31839183, -1.28673384],\n",
       "       [-0.38713422,  1.07852917, -1.37554755, -1.28673384],\n",
       "       [ 1.0994612 , -0.10666772,  0.85352535,  1.46821032],\n",
       "       [ 0.60392939, -1.29186461,  0.6820582 ,  0.41870778],\n",
       "       [-0.01548537, -0.81778585,  0.11050105,  0.02514433],\n",
       "       [ 1.71887596,  1.31556855,  1.36792679,  1.73058596],\n",
       "       [-0.01548537, -0.58074648,  0.79636963,  1.59939814],\n",
       "       [-1.00654898, -1.76594337, -0.23243324, -0.2372313 ],\n",
       "       [-0.26325127, -0.81778585,  0.2819682 ,  0.15633215],\n",
       "       [-0.13936832, -0.58074648,  0.45343534,  0.15633215],\n",
       "       [ 1.0994612 ,  0.13037166,  0.39627963,  0.28751997],\n",
       "       [ 0.85169529, -0.10666772,  0.85352535,  1.07464687],\n",
       "       [-1.13043194,  0.13037166, -1.26123612, -1.41792166],\n",
       "       [-0.38713422, -1.29186461,  0.16765677,  0.15633215],\n",
       "       [-0.38713422, -1.05482523,  0.39627963,  0.02514433],\n",
       "       [ 0.72781234,  0.13037166,  1.0249925 ,  0.81227124],\n",
       "       [-0.26325127, -0.58074648,  0.6820582 ,  1.07464687],\n",
       "       [ 0.35616349, -0.10666772,  0.6820582 ,  0.81227124],\n",
       "       [-0.13936832, -0.3437071 ,  0.2819682 ,  0.15633215],\n",
       "       [ 0.35616349, -1.05482523,  1.08214821,  0.28751997],\n",
       "       [ 0.97557825, -0.3437071 ,  0.51059106,  0.15633215],\n",
       "       [-1.37819784,  0.36741104, -1.37554755, -1.28673384],\n",
       "       [ 1.22334415,  0.36741104,  1.25361536,  1.46821032],\n",
       "       [ 0.35616349, -0.3437071 ,  0.56774677,  0.28751997],\n",
       "       [-1.25431489,  0.13037166, -1.2040804 , -1.28673384],\n",
       "       [-0.88266603,  1.78964731, -1.03261326, -1.02435821],\n",
       "       [-1.00654898, -2.4770615 , -0.11812181, -0.2372313 ],\n",
       "       [-0.51101718,  2.02668668, -1.37554755, -1.02435821],\n",
       "       [ 0.72781234, -0.3437071 ,  0.33912391,  0.15633215],\n",
       "       [ 1.0994612 , -0.10666772,  0.73921392,  0.68108342],\n",
       "       [-0.13936832,  1.78964731, -1.14692469, -1.15554603],\n",
       "       [-0.75878308, -0.81778585,  0.11050105,  0.28751997],\n",
       "       [-0.38713422,  2.73780482, -1.31839183, -1.28673384],\n",
       "       [ 2.21440776, -0.10666772,  1.65370537,  1.20583469],\n",
       "       [ 0.60392939, -1.29186461,  0.73921392,  0.94345905],\n",
       "       [ 0.85169529, -0.10666772,  1.0249925 ,  0.81227124],\n",
       "       [-1.00654898,  0.84148979, -1.26123612, -1.28673384],\n",
       "       [-0.38713422, -1.52890399, -0.00381038, -0.2372313 ],\n",
       "       [ 0.60392939,  0.60445041,  1.31077107,  1.73058596],\n",
       "       [-0.26325127, -0.3437071 , -0.0609661 ,  0.15633215],\n",
       "       [ 0.60392939, -0.58074648,  0.79636963,  0.41870778],\n",
       "       [ 0.60392939, -0.81778585,  0.6820582 ,  0.81227124],\n",
       "       [-0.26325127, -0.10666772,  0.45343534,  0.41870778],\n",
       "       [ 1.0994612 , -1.29186461,  1.19645964,  0.81227124],\n",
       "       [ 0.48004644, -2.00298275,  0.45343534,  0.41870778],\n",
       "       [-1.74984669, -0.3437071 , -1.31839183, -1.28673384],\n",
       "       [-1.50208079,  0.36741104, -1.31839183, -1.28673384],\n",
       "       [-0.51101718,  0.84148979, -1.14692469, -1.28673384],\n",
       "       [-1.25431489, -0.10666772, -1.31839183, -1.15554603],\n",
       "       [-0.38713422, -1.52890399,  0.05334533, -0.10604349],\n",
       "       [-1.74984669, -0.10666772, -1.37554755, -1.28673384],\n",
       "       [-0.51101718,  1.55260793, -1.26123612, -1.28673384],\n",
       "       [ 0.48004644, -0.58074648,  0.62490249,  0.81227124],\n",
       "       [ 0.48004644,  0.84148979,  0.96783678,  1.46821032],\n",
       "       [-1.50208079,  0.84148979, -1.31839183, -1.15554603],\n",
       "       [ 0.72781234, -0.58074648,  1.08214821,  1.33702251],\n",
       "       [-0.88266603,  0.60445041, -1.14692469, -0.89317039],\n",
       "       [ 0.85169529,  0.36741104,  0.79636963,  1.07464687],\n",
       "       [-1.25431489, -0.10666772, -1.31839183, -1.41792166],\n",
       "       [-1.74984669,  0.36741104, -1.37554755, -1.28673384],\n",
       "       [-1.00654898,  0.36741104, -1.43270327, -1.28673384],\n",
       "       [ 0.23228053, -0.81778585,  0.79636963,  0.5498956 ],\n",
       "       [-1.00654898,  1.31556855, -1.31839183, -1.28673384],\n",
       "       [-1.50208079,  0.13037166, -1.26123612, -1.28673384],\n",
       "       [-1.50208079,  1.31556855, -1.5470147 , -1.28673384],\n",
       "       [ 2.33829072, -1.05482523,  1.82517251,  1.46821032],\n",
       "       [ 2.33829072, -0.58074648,  1.71086108,  1.07464687],\n",
       "       [-0.13936832, -1.05482523, -0.11812181, -0.2372313 ],\n",
       "       [ 1.47111005,  0.36741104,  0.56774677,  0.28751997],\n",
       "       [-0.01548537, -1.05482523,  0.16765677,  0.02514433],\n",
       "       [ 1.22334415, -0.58074648,  0.62490249,  0.28751997],\n",
       "       [-0.75878308,  2.50076544, -1.26123612, -1.41792166],\n",
       "       [ 1.0994612 ,  0.13037166,  1.08214821,  1.59939814],\n",
       "       [ 0.60392939,  0.60445041,  0.56774677,  0.5498956 ]])"
      ]
     },
     "execution_count": 76,
     "metadata": {},
     "output_type": "execute_result"
    }
   ],
   "source": [
    "X_train"
   ]
  },
  {
   "cell_type": "code",
   "execution_count": 77,
   "id": "71431cd1",
   "metadata": {},
   "outputs": [],
   "source": [
    "X_test = scaler.transform(X_test)"
   ]
  },
  {
   "cell_type": "code",
   "execution_count": 78,
   "id": "9738008e",
   "metadata": {},
   "outputs": [
    {
     "data": {
      "text/plain": [
       "array([[-0.63490013,  1.55260793, -1.26123612, -1.28673384],\n",
       "       [ 0.97557825, -0.10666772,  0.39627963,  0.28751997],\n",
       "       [ 0.35616349, -0.58074648,  0.56774677,  0.02514433],\n",
       "       [-0.01548537, -0.81778585,  0.79636963,  0.94345905],\n",
       "       [-1.62596374, -1.76594337, -1.37554755, -1.15554603],\n",
       "       [-1.13043194, -1.52890399, -0.23243324, -0.2372313 ],\n",
       "       [ 0.60392939,  0.84148979,  1.08214821,  1.59939814],\n",
       "       [ 0.23228053, -2.00298275,  0.16765677, -0.2372313 ],\n",
       "       [ 0.35616349, -0.10666772,  0.51059106,  0.28751997],\n",
       "       [-0.01548537, -0.81778585,  0.79636963,  0.94345905],\n",
       "       [-0.51101718,  2.02668668, -1.14692469, -1.02435821],\n",
       "       [-0.75878308,  0.84148979, -1.31839183, -1.28673384],\n",
       "       [ 1.71887596,  0.36741104,  1.31077107,  0.81227124],\n",
       "       [-0.88266603,  1.78964731, -1.26123612, -1.15554603],\n",
       "       [-0.88266603,  1.07852917, -1.31839183, -1.28673384],\n",
       "       [-0.51101718, -0.10666772,  0.45343534,  0.41870778],\n",
       "       [ 1.96664186, -0.58074648,  1.36792679,  0.94345905],\n",
       "       [-0.26325127, -0.10666772,  0.22481248,  0.15633215],\n",
       "       [ 0.23228053, -0.3437071 ,  0.45343534,  0.41870778],\n",
       "       [ 1.3472271 ,  0.13037166,  0.79636963,  1.46821032],\n",
       "       [ 1.0994612 ,  0.60445041,  1.13930393,  1.20583469],\n",
       "       [-1.00654898,  0.84148979, -1.2040804 , -1.02435821],\n",
       "       [ 1.594993  , -0.10666772,  1.25361536,  1.20583469],\n",
       "       [-0.13936832, -1.29186461,  0.73921392,  1.07464687],\n",
       "       [ 0.60392939, -1.76594337,  0.39627963,  0.15633215],\n",
       "       [ 2.33829072,  1.78964731,  1.71086108,  1.33702251],\n",
       "       [-1.00654898,  0.60445041, -1.31839183, -1.28673384],\n",
       "       [ 0.23228053,  0.84148979,  0.45343534,  0.5498956 ],\n",
       "       [-1.13043194,  0.13037166, -1.26123612, -1.41792166],\n",
       "       [ 2.58605662,  1.78964731,  1.53939393,  1.07464687]])"
      ]
     },
     "execution_count": 78,
     "metadata": {},
     "output_type": "execute_result"
    }
   ],
   "source": [
    "X_test"
   ]
  },
  {
   "cell_type": "markdown",
   "id": "a52f54b0",
   "metadata": {},
   "source": [
    "### Model"
   ]
  },
  {
   "cell_type": "code",
   "execution_count": 90,
   "id": "76dd79c8",
   "metadata": {},
   "outputs": [],
   "source": [
    "from sklearn.neighbors import KNeighborsClassifier"
   ]
  },
  {
   "cell_type": "code",
   "execution_count": 91,
   "id": "a7ef1dce",
   "metadata": {},
   "outputs": [],
   "source": [
    "model = KNeighborsClassifier(n_neighbors=5)"
   ]
  },
  {
   "cell_type": "code",
   "execution_count": 92,
   "id": "e791dd0a",
   "metadata": {},
   "outputs": [
    {
     "data": {
      "text/plain": [
       "KNeighborsClassifier()"
      ]
     },
     "execution_count": 92,
     "metadata": {},
     "output_type": "execute_result"
    }
   ],
   "source": [
    "model.fit(X_train, Y_train)"
   ]
  },
  {
   "cell_type": "code",
   "execution_count": 93,
   "id": "5af1d25e",
   "metadata": {},
   "outputs": [],
   "source": [
    "y_pred = model.predict(X_test)"
   ]
  },
  {
   "cell_type": "code",
   "execution_count": 94,
   "id": "5766f09f",
   "metadata": {},
   "outputs": [
    {
     "data": {
      "text/plain": [
       "array(['Iris-setosa', 'Iris-versicolor', 'Iris-versicolor',\n",
       "       'Iris-virginica', 'Iris-setosa', 'Iris-versicolor',\n",
       "       'Iris-virginica', 'Iris-versicolor', 'Iris-versicolor',\n",
       "       'Iris-virginica', 'Iris-setosa', 'Iris-setosa', 'Iris-virginica',\n",
       "       'Iris-setosa', 'Iris-setosa', 'Iris-versicolor', 'Iris-virginica',\n",
       "       'Iris-versicolor', 'Iris-versicolor', 'Iris-virginica',\n",
       "       'Iris-virginica', 'Iris-setosa', 'Iris-virginica',\n",
       "       'Iris-virginica', 'Iris-versicolor', 'Iris-virginica',\n",
       "       'Iris-setosa', 'Iris-versicolor', 'Iris-setosa', 'Iris-virginica'],\n",
       "      dtype=object)"
      ]
     },
     "execution_count": 94,
     "metadata": {},
     "output_type": "execute_result"
    }
   ],
   "source": [
    "y_pred"
   ]
  },
  {
   "cell_type": "markdown",
   "id": "0a482919",
   "metadata": {},
   "source": [
    "### Accuracy"
   ]
  },
  {
   "cell_type": "code",
   "execution_count": 95,
   "id": "47b5d4d6",
   "metadata": {},
   "outputs": [],
   "source": [
    "from sklearn.metrics import classification_report, confusion_matrix"
   ]
  },
  {
   "cell_type": "code",
   "execution_count": 96,
   "id": "504a3c19",
   "metadata": {},
   "outputs": [
    {
     "name": "stdout",
     "output_type": "stream",
     "text": [
      "Classification Report:\n",
      "                 precision    recall  f1-score   support\n",
      "\n",
      "    Iris-setosa       1.00      1.00      1.00         9\n",
      "Iris-versicolor       1.00      1.00      1.00        10\n",
      " Iris-virginica       1.00      1.00      1.00        11\n",
      "\n",
      "       accuracy                           1.00        30\n",
      "      macro avg       1.00      1.00      1.00        30\n",
      "   weighted avg       1.00      1.00      1.00        30\n",
      "\n"
     ]
    }
   ],
   "source": [
    "print(\"Classification Report:\")\n",
    "print(classification_report(Y_test, y_pred))"
   ]
  },
  {
   "cell_type": "code",
   "execution_count": 98,
   "id": "c570471e",
   "metadata": {},
   "outputs": [
    {
     "name": "stdout",
     "output_type": "stream",
     "text": [
      "Confusion Matrix\n",
      "[[ 9  0  0]\n",
      " [ 0 10  0]\n",
      " [ 0  0 11]]\n"
     ]
    }
   ],
   "source": [
    "print(\"Confusion Matrix\")\n",
    "print(confusion_matrix(Y_test, y_pred))"
   ]
  },
  {
   "cell_type": "code",
   "execution_count": 100,
   "id": "3ce25151",
   "metadata": {},
   "outputs": [
    {
     "data": {
      "text/html": [
       "<div>\n",
       "<style scoped>\n",
       "    .dataframe tbody tr th:only-of-type {\n",
       "        vertical-align: middle;\n",
       "    }\n",
       "\n",
       "    .dataframe tbody tr th {\n",
       "        vertical-align: top;\n",
       "    }\n",
       "\n",
       "    .dataframe thead th {\n",
       "        text-align: right;\n",
       "    }\n",
       "</style>\n",
       "<table border=\"1\" class=\"dataframe\">\n",
       "  <thead>\n",
       "    <tr style=\"text-align: right;\">\n",
       "      <th></th>\n",
       "      <th>setosa</th>\n",
       "      <th>versicolor</th>\n",
       "      <th>virginica</th>\n",
       "    </tr>\n",
       "  </thead>\n",
       "  <tbody>\n",
       "    <tr>\n",
       "      <th>setosa</th>\n",
       "      <td>9</td>\n",
       "      <td>0</td>\n",
       "      <td>0</td>\n",
       "    </tr>\n",
       "    <tr>\n",
       "      <th>versicolor</th>\n",
       "      <td>0</td>\n",
       "      <td>10</td>\n",
       "      <td>0</td>\n",
       "    </tr>\n",
       "    <tr>\n",
       "      <th>virginica</th>\n",
       "      <td>0</td>\n",
       "      <td>0</td>\n",
       "      <td>11</td>\n",
       "    </tr>\n",
       "  </tbody>\n",
       "</table>\n",
       "</div>"
      ],
      "text/plain": [
       "            setosa  versicolor  virginica\n",
       "setosa           9           0          0\n",
       "versicolor       0          10          0\n",
       "virginica        0           0         11"
      ]
     },
     "execution_count": 100,
     "metadata": {},
     "output_type": "execute_result"
    }
   ],
   "source": [
    "pd.DataFrame(data=confusion_matrix(Y_test, y_pred),\n",
    "            index=['setosa','versicolor','virginica'],\n",
    "            columns=['setosa','versicolor','virginica'])"
   ]
  },
  {
   "cell_type": "markdown",
   "id": "b3657c71",
   "metadata": {},
   "source": [
    "### Test & Prediction"
   ]
  },
  {
   "cell_type": "code",
   "execution_count": 107,
   "id": "56aa8b75",
   "metadata": {},
   "outputs": [],
   "source": [
    "output = pd.DataFrame([Y_test,y_pred], index=['Y-Test','Y-Prediction'])"
   ]
  },
  {
   "cell_type": "code",
   "execution_count": 108,
   "id": "9dd42698",
   "metadata": {},
   "outputs": [
    {
     "data": {
      "text/html": [
       "<div>\n",
       "<style scoped>\n",
       "    .dataframe tbody tr th:only-of-type {\n",
       "        vertical-align: middle;\n",
       "    }\n",
       "\n",
       "    .dataframe tbody tr th {\n",
       "        vertical-align: top;\n",
       "    }\n",
       "\n",
       "    .dataframe thead th {\n",
       "        text-align: right;\n",
       "    }\n",
       "</style>\n",
       "<table border=\"1\" class=\"dataframe\">\n",
       "  <thead>\n",
       "    <tr style=\"text-align: right;\">\n",
       "      <th></th>\n",
       "      <th>0</th>\n",
       "      <th>1</th>\n",
       "      <th>2</th>\n",
       "      <th>3</th>\n",
       "      <th>4</th>\n",
       "      <th>5</th>\n",
       "      <th>6</th>\n",
       "      <th>7</th>\n",
       "      <th>8</th>\n",
       "      <th>9</th>\n",
       "      <th>...</th>\n",
       "      <th>20</th>\n",
       "      <th>21</th>\n",
       "      <th>22</th>\n",
       "      <th>23</th>\n",
       "      <th>24</th>\n",
       "      <th>25</th>\n",
       "      <th>26</th>\n",
       "      <th>27</th>\n",
       "      <th>28</th>\n",
       "      <th>29</th>\n",
       "    </tr>\n",
       "  </thead>\n",
       "  <tbody>\n",
       "    <tr>\n",
       "      <th>Y-Test</th>\n",
       "      <td>Iris-setosa</td>\n",
       "      <td>Iris-versicolor</td>\n",
       "      <td>Iris-versicolor</td>\n",
       "      <td>Iris-virginica</td>\n",
       "      <td>Iris-setosa</td>\n",
       "      <td>Iris-versicolor</td>\n",
       "      <td>Iris-virginica</td>\n",
       "      <td>Iris-versicolor</td>\n",
       "      <td>Iris-versicolor</td>\n",
       "      <td>Iris-virginica</td>\n",
       "      <td>...</td>\n",
       "      <td>Iris-virginica</td>\n",
       "      <td>Iris-setosa</td>\n",
       "      <td>Iris-virginica</td>\n",
       "      <td>Iris-virginica</td>\n",
       "      <td>Iris-versicolor</td>\n",
       "      <td>Iris-virginica</td>\n",
       "      <td>Iris-setosa</td>\n",
       "      <td>Iris-versicolor</td>\n",
       "      <td>Iris-setosa</td>\n",
       "      <td>Iris-virginica</td>\n",
       "    </tr>\n",
       "    <tr>\n",
       "      <th>Y-Prediction</th>\n",
       "      <td>Iris-setosa</td>\n",
       "      <td>Iris-versicolor</td>\n",
       "      <td>Iris-versicolor</td>\n",
       "      <td>Iris-virginica</td>\n",
       "      <td>Iris-setosa</td>\n",
       "      <td>Iris-versicolor</td>\n",
       "      <td>Iris-virginica</td>\n",
       "      <td>Iris-versicolor</td>\n",
       "      <td>Iris-versicolor</td>\n",
       "      <td>Iris-virginica</td>\n",
       "      <td>...</td>\n",
       "      <td>Iris-virginica</td>\n",
       "      <td>Iris-setosa</td>\n",
       "      <td>Iris-virginica</td>\n",
       "      <td>Iris-virginica</td>\n",
       "      <td>Iris-versicolor</td>\n",
       "      <td>Iris-virginica</td>\n",
       "      <td>Iris-setosa</td>\n",
       "      <td>Iris-versicolor</td>\n",
       "      <td>Iris-setosa</td>\n",
       "      <td>Iris-virginica</td>\n",
       "    </tr>\n",
       "  </tbody>\n",
       "</table>\n",
       "<p>2 rows × 30 columns</p>\n",
       "</div>"
      ],
      "text/plain": [
       "                       0                1                2               3   \\\n",
       "Y-Test        Iris-setosa  Iris-versicolor  Iris-versicolor  Iris-virginica   \n",
       "Y-Prediction  Iris-setosa  Iris-versicolor  Iris-versicolor  Iris-virginica   \n",
       "\n",
       "                       4                5               6                7   \\\n",
       "Y-Test        Iris-setosa  Iris-versicolor  Iris-virginica  Iris-versicolor   \n",
       "Y-Prediction  Iris-setosa  Iris-versicolor  Iris-virginica  Iris-versicolor   \n",
       "\n",
       "                           8               9   ...              20  \\\n",
       "Y-Test        Iris-versicolor  Iris-virginica  ...  Iris-virginica   \n",
       "Y-Prediction  Iris-versicolor  Iris-virginica  ...  Iris-virginica   \n",
       "\n",
       "                       21              22              23               24  \\\n",
       "Y-Test        Iris-setosa  Iris-virginica  Iris-virginica  Iris-versicolor   \n",
       "Y-Prediction  Iris-setosa  Iris-virginica  Iris-virginica  Iris-versicolor   \n",
       "\n",
       "                          25           26               27           28  \\\n",
       "Y-Test        Iris-virginica  Iris-setosa  Iris-versicolor  Iris-setosa   \n",
       "Y-Prediction  Iris-virginica  Iris-setosa  Iris-versicolor  Iris-setosa   \n",
       "\n",
       "                          29  \n",
       "Y-Test        Iris-virginica  \n",
       "Y-Prediction  Iris-virginica  \n",
       "\n",
       "[2 rows x 30 columns]"
      ]
     },
     "execution_count": 108,
     "metadata": {},
     "output_type": "execute_result"
    }
   ],
   "source": [
    "output"
   ]
  },
  {
   "cell_type": "code",
   "execution_count": 109,
   "id": "d7b0ab1d",
   "metadata": {},
   "outputs": [
    {
     "data": {
      "text/html": [
       "<div>\n",
       "<style scoped>\n",
       "    .dataframe tbody tr th:only-of-type {\n",
       "        vertical-align: middle;\n",
       "    }\n",
       "\n",
       "    .dataframe tbody tr th {\n",
       "        vertical-align: top;\n",
       "    }\n",
       "\n",
       "    .dataframe thead th {\n",
       "        text-align: right;\n",
       "    }\n",
       "</style>\n",
       "<table border=\"1\" class=\"dataframe\">\n",
       "  <thead>\n",
       "    <tr style=\"text-align: right;\">\n",
       "      <th></th>\n",
       "      <th>Y-Test</th>\n",
       "      <th>Y-Prediction</th>\n",
       "    </tr>\n",
       "  </thead>\n",
       "  <tbody>\n",
       "    <tr>\n",
       "      <th>0</th>\n",
       "      <td>Iris-setosa</td>\n",
       "      <td>Iris-setosa</td>\n",
       "    </tr>\n",
       "    <tr>\n",
       "      <th>1</th>\n",
       "      <td>Iris-versicolor</td>\n",
       "      <td>Iris-versicolor</td>\n",
       "    </tr>\n",
       "    <tr>\n",
       "      <th>2</th>\n",
       "      <td>Iris-versicolor</td>\n",
       "      <td>Iris-versicolor</td>\n",
       "    </tr>\n",
       "    <tr>\n",
       "      <th>3</th>\n",
       "      <td>Iris-virginica</td>\n",
       "      <td>Iris-virginica</td>\n",
       "    </tr>\n",
       "    <tr>\n",
       "      <th>4</th>\n",
       "      <td>Iris-setosa</td>\n",
       "      <td>Iris-setosa</td>\n",
       "    </tr>\n",
       "    <tr>\n",
       "      <th>5</th>\n",
       "      <td>Iris-versicolor</td>\n",
       "      <td>Iris-versicolor</td>\n",
       "    </tr>\n",
       "    <tr>\n",
       "      <th>6</th>\n",
       "      <td>Iris-virginica</td>\n",
       "      <td>Iris-virginica</td>\n",
       "    </tr>\n",
       "    <tr>\n",
       "      <th>7</th>\n",
       "      <td>Iris-versicolor</td>\n",
       "      <td>Iris-versicolor</td>\n",
       "    </tr>\n",
       "    <tr>\n",
       "      <th>8</th>\n",
       "      <td>Iris-versicolor</td>\n",
       "      <td>Iris-versicolor</td>\n",
       "    </tr>\n",
       "    <tr>\n",
       "      <th>9</th>\n",
       "      <td>Iris-virginica</td>\n",
       "      <td>Iris-virginica</td>\n",
       "    </tr>\n",
       "    <tr>\n",
       "      <th>10</th>\n",
       "      <td>Iris-setosa</td>\n",
       "      <td>Iris-setosa</td>\n",
       "    </tr>\n",
       "    <tr>\n",
       "      <th>11</th>\n",
       "      <td>Iris-setosa</td>\n",
       "      <td>Iris-setosa</td>\n",
       "    </tr>\n",
       "    <tr>\n",
       "      <th>12</th>\n",
       "      <td>Iris-virginica</td>\n",
       "      <td>Iris-virginica</td>\n",
       "    </tr>\n",
       "    <tr>\n",
       "      <th>13</th>\n",
       "      <td>Iris-setosa</td>\n",
       "      <td>Iris-setosa</td>\n",
       "    </tr>\n",
       "    <tr>\n",
       "      <th>14</th>\n",
       "      <td>Iris-setosa</td>\n",
       "      <td>Iris-setosa</td>\n",
       "    </tr>\n",
       "    <tr>\n",
       "      <th>15</th>\n",
       "      <td>Iris-versicolor</td>\n",
       "      <td>Iris-versicolor</td>\n",
       "    </tr>\n",
       "    <tr>\n",
       "      <th>16</th>\n",
       "      <td>Iris-virginica</td>\n",
       "      <td>Iris-virginica</td>\n",
       "    </tr>\n",
       "    <tr>\n",
       "      <th>17</th>\n",
       "      <td>Iris-versicolor</td>\n",
       "      <td>Iris-versicolor</td>\n",
       "    </tr>\n",
       "    <tr>\n",
       "      <th>18</th>\n",
       "      <td>Iris-versicolor</td>\n",
       "      <td>Iris-versicolor</td>\n",
       "    </tr>\n",
       "    <tr>\n",
       "      <th>19</th>\n",
       "      <td>Iris-virginica</td>\n",
       "      <td>Iris-virginica</td>\n",
       "    </tr>\n",
       "    <tr>\n",
       "      <th>20</th>\n",
       "      <td>Iris-virginica</td>\n",
       "      <td>Iris-virginica</td>\n",
       "    </tr>\n",
       "    <tr>\n",
       "      <th>21</th>\n",
       "      <td>Iris-setosa</td>\n",
       "      <td>Iris-setosa</td>\n",
       "    </tr>\n",
       "    <tr>\n",
       "      <th>22</th>\n",
       "      <td>Iris-virginica</td>\n",
       "      <td>Iris-virginica</td>\n",
       "    </tr>\n",
       "    <tr>\n",
       "      <th>23</th>\n",
       "      <td>Iris-virginica</td>\n",
       "      <td>Iris-virginica</td>\n",
       "    </tr>\n",
       "    <tr>\n",
       "      <th>24</th>\n",
       "      <td>Iris-versicolor</td>\n",
       "      <td>Iris-versicolor</td>\n",
       "    </tr>\n",
       "    <tr>\n",
       "      <th>25</th>\n",
       "      <td>Iris-virginica</td>\n",
       "      <td>Iris-virginica</td>\n",
       "    </tr>\n",
       "    <tr>\n",
       "      <th>26</th>\n",
       "      <td>Iris-setosa</td>\n",
       "      <td>Iris-setosa</td>\n",
       "    </tr>\n",
       "    <tr>\n",
       "      <th>27</th>\n",
       "      <td>Iris-versicolor</td>\n",
       "      <td>Iris-versicolor</td>\n",
       "    </tr>\n",
       "    <tr>\n",
       "      <th>28</th>\n",
       "      <td>Iris-setosa</td>\n",
       "      <td>Iris-setosa</td>\n",
       "    </tr>\n",
       "    <tr>\n",
       "      <th>29</th>\n",
       "      <td>Iris-virginica</td>\n",
       "      <td>Iris-virginica</td>\n",
       "    </tr>\n",
       "  </tbody>\n",
       "</table>\n",
       "</div>"
      ],
      "text/plain": [
       "             Y-Test     Y-Prediction\n",
       "0       Iris-setosa      Iris-setosa\n",
       "1   Iris-versicolor  Iris-versicolor\n",
       "2   Iris-versicolor  Iris-versicolor\n",
       "3    Iris-virginica   Iris-virginica\n",
       "4       Iris-setosa      Iris-setosa\n",
       "5   Iris-versicolor  Iris-versicolor\n",
       "6    Iris-virginica   Iris-virginica\n",
       "7   Iris-versicolor  Iris-versicolor\n",
       "8   Iris-versicolor  Iris-versicolor\n",
       "9    Iris-virginica   Iris-virginica\n",
       "10      Iris-setosa      Iris-setosa\n",
       "11      Iris-setosa      Iris-setosa\n",
       "12   Iris-virginica   Iris-virginica\n",
       "13      Iris-setosa      Iris-setosa\n",
       "14      Iris-setosa      Iris-setosa\n",
       "15  Iris-versicolor  Iris-versicolor\n",
       "16   Iris-virginica   Iris-virginica\n",
       "17  Iris-versicolor  Iris-versicolor\n",
       "18  Iris-versicolor  Iris-versicolor\n",
       "19   Iris-virginica   Iris-virginica\n",
       "20   Iris-virginica   Iris-virginica\n",
       "21      Iris-setosa      Iris-setosa\n",
       "22   Iris-virginica   Iris-virginica\n",
       "23   Iris-virginica   Iris-virginica\n",
       "24  Iris-versicolor  Iris-versicolor\n",
       "25   Iris-virginica   Iris-virginica\n",
       "26      Iris-setosa      Iris-setosa\n",
       "27  Iris-versicolor  Iris-versicolor\n",
       "28      Iris-setosa      Iris-setosa\n",
       "29   Iris-virginica   Iris-virginica"
      ]
     },
     "execution_count": 109,
     "metadata": {},
     "output_type": "execute_result"
    }
   ],
   "source": [
    "output.transpose()"
   ]
  }
 ],
 "metadata": {
  "kernelspec": {
   "display_name": "Python 3 (ipykernel)",
   "language": "python",
   "name": "python3"
  },
  "language_info": {
   "codemirror_mode": {
    "name": "ipython",
    "version": 3
   },
   "file_extension": ".py",
   "mimetype": "text/x-python",
   "name": "python",
   "nbconvert_exporter": "python",
   "pygments_lexer": "ipython3",
   "version": "3.8.11"
  }
 },
 "nbformat": 4,
 "nbformat_minor": 5
}
