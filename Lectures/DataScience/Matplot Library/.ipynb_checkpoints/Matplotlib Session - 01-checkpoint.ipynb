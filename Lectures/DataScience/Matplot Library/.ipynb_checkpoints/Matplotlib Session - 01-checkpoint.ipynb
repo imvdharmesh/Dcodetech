{
 "cells": [
  {
   "cell_type": "raw",
   "id": "89e22b3a-8cf6-4850-92f1-b11b10a3d6ff",
   "metadata": {},
   "source": [
    "Date - 16/08/2021  11:00 AM to 01:00 PM"
   ]
  },
  {
   "cell_type": "markdown",
   "id": "bcca45db-2254-4b43-bf66-daaec57a6006",
   "metadata": {},
   "source": [
    "## Matplotlib Library"
   ]
  },
  {
   "cell_type": "raw",
   "id": "645b6a3d-ae63-4ff2-96cb-c5df7e40369b",
   "metadata": {},
   "source": [
    "Matplotlib is one of the most popular Python Package used for Data Visualization.\n",
    "We can make cross platform 2D Plots from the data in array.\n",
    "We can export visualization to all common formats such as PNG, JPG, PDF, GIF etx.\n",
    "Current Matplotlib supports 3D plotting as well.\n",
    "It was created by John Hunter in the year 2002."
   ]
  },
  {
   "cell_type": "markdown",
   "id": "3afbad78-b0d1-4c4a-8601-d3ccf28aba28",
   "metadata": {},
   "source": [
    "### Install Matplotlib Library"
   ]
  },
  {
   "cell_type": "code",
   "execution_count": null,
   "id": "4acdc6c5-6f5b-46e5-9af4-3b7aef70ce56",
   "metadata": {},
   "outputs": [],
   "source": [
    "!pip install matplotlib"
   ]
  },
  {
   "cell_type": "markdown",
   "id": "3b778db3-4e2d-480d-9fcd-79537faf7268",
   "metadata": {},
   "source": [
    "### Importing Matplotlib Library"
   ]
  },
  {
   "cell_type": "code",
   "execution_count": 1,
   "id": "26468806-035e-4dde-bcbb-216017069d53",
   "metadata": {},
   "outputs": [],
   "source": [
    "import matplotlib.pyplot as plt"
   ]
  },
  {
   "cell_type": "markdown",
   "id": "8084eaaa-9ec7-4141-93ba-6be49978cf66",
   "metadata": {},
   "source": [
    "### Types of Plots"
   ]
  },
  {
   "cell_type": "raw",
   "id": "0aba75c4-e995-4321-b970-130129079de6",
   "metadata": {},
   "source": [
    "     Function                  Description\n",
    "\n",
    "bar                  -       Makes a Bar Plot,\n",
    "barh                 -       Makes a Horizontal Bar Plot,\n",
    "boxplot              -       Makes a Box & a Whisker Plot,\n",
    "hist                 -       Makes a Histogram Plot,\n",
    "hist2d               -       Makes a 2D Histogram Plot,\n",
    "pie                  -       Makes a Pie Chart,\n",
    "plot                 -       Makes a Line on the axes,\n",
    "polar                -       Makes a Polar Plot,\n",
    "scatter              -       Makes a Scatter Plot of X vs Y,\n",
    "stackplot            -       Draw a Stacked area Plot,\n",
    "stem                 -       Create a Stem Plot,\n",
    "step                 -       Create a Step Plot,\n"
   ]
  },
  {
   "cell_type": "markdown",
   "id": "aa4d5eba-c9ac-41bf-9038-ee354dba3dcc",
   "metadata": {},
   "source": [
    "### Axis Function"
   ]
  },
  {
   "cell_type": "raw",
   "id": "5aa71245-95fe-475a-842b-a77f220f079c",
   "metadata": {},
   "source": [
    "axes                 -       Adds axes to the figure,\n",
    "text                 -       Add text to the axes,\n",
    "title                -       Set the Title of the current axes,\n",
    "xlabel               -       Set the x-axis label,\n",
    "xlim                 -       Set the limit of current x-axis,\n",
    "xscale               -       Set the scaling of the x-axis,\n",
    "xticks               -       Get or Set the x-limit of the current tick location & labels,\n",
    "ylabel               -       Set the y-axis label,\n",
    "ylim                 -       Set the limit of current y-axis,\n",
    "yscale               -       Set the scaling of the y-axis,\n",
    "yticks               -       Get or Set the y-limit of the current tick location & labels,"
   ]
  },
  {
   "cell_type": "raw",
   "id": "f6af26d4-c7a9-49b1-8853-24f5b3e09689",
   "metadata": {},
   "source": [
    "figure() => A figure object is the outermost container for a Matplotlib Plot.\n",
    "=> The figure object contains multiple axes objects.\n",
    "=> The figure is the final graphic that may contain one or more than one axes.\n",
    "=> The axes represent an individual plot."
   ]
  },
  {
   "cell_type": "markdown",
   "id": "410e6573-e281-476c-bb29-0bb1efe22247",
   "metadata": {},
   "source": [
    "### Working with Matplotlib"
   ]
  },
  {
   "cell_type": "code",
   "execution_count": 2,
   "id": "2d4762b9-38ec-4311-82bb-e1ed6e450122",
   "metadata": {},
   "outputs": [],
   "source": [
    "import numpy as np\n",
    "import pandas as pd"
   ]
  },
  {
   "cell_type": "code",
   "execution_count": 4,
   "id": "4e881358-5f55-4ade-bb56-35bc23150c9a",
   "metadata": {},
   "outputs": [],
   "source": [
    "import matplotlib.pyplot as plt"
   ]
  },
  {
   "cell_type": "code",
   "execution_count": 5,
   "id": "a9bb673c-a22d-4681-9212-e0732ac34efb",
   "metadata": {},
   "outputs": [],
   "source": [
    "x1 = np.linspace(0,10,100)"
   ]
  },
  {
   "cell_type": "markdown",
   "id": "caa05d31-1171-45c5-9783-0fcfa7946b4c",
   "metadata": {},
   "source": [
    "### Plot"
   ]
  },
  {
   "cell_type": "code",
   "execution_count": 6,
   "id": "ca0afe96-7ab0-4f7f-92b1-5e770ef64f2e",
   "metadata": {},
   "outputs": [
    {
     "data": {
      "text/plain": [
       "[<matplotlib.lines.Line2D at 0x1d74e8d3a0>]"
      ]
     },
     "execution_count": 6,
     "metadata": {},
     "output_type": "execute_result"
    },
    {
     "data": {
      "image/png": "[encoded data removed]",
      "text/plain": [
       "<Figure size 432x288 with 1 Axes>"
      ]
     },
     "metadata": {
      "needs_background": "light"
     },
     "output_type": "display_data"
    }
   ],
   "source": [
    "fig = plt.figure()\n",
    "plt.plot(x1, np.sin(x1), '.')\n",
    "plt.plot(x1, np.cos(x1), '--')"
   ]
  },
  {
   "cell_type": "code",
   "execution_count": 7,
   "id": "2acf826d-6d66-43cf-a15e-915777f34061",
   "metadata": {},
   "outputs": [],
   "source": [
    "import math"
   ]
  },
  {
   "cell_type": "code",
   "execution_count": 10,
   "id": "bbffafab-dde2-440d-a5cc-13a09ece8197",
   "metadata": {},
   "outputs": [
    {
     "data": {
      "text/plain": [
       "array([0.  , 0.05, 0.1 , 0.15, 0.2 , 0.25, 0.3 , 0.35, 0.4 , 0.45, 0.5 ,\n",
       "       0.55, 0.6 , 0.65, 0.7 , 0.75, 0.8 , 0.85, 0.9 , 0.95, 1.  , 1.05,\n",
       "       1.1 , 1.15, 1.2 , 1.25, 1.3 , 1.35, 1.4 , 1.45, 1.5 , 1.55, 1.6 ,\n",
       "       1.65, 1.7 , 1.75, 1.8 , 1.85, 1.9 , 1.95, 2.  , 2.05, 2.1 , 2.15,\n",
       "       2.2 , 2.25, 2.3 , 2.35, 2.4 , 2.45, 2.5 , 2.55, 2.6 , 2.65, 2.7 ,\n",
       "       2.75, 2.8 , 2.85, 2.9 , 2.95, 3.  , 3.05, 3.1 , 3.15, 3.2 , 3.25,\n",
       "       3.3 , 3.35, 3.4 , 3.45, 3.5 , 3.55, 3.6 , 3.65, 3.7 , 3.75, 3.8 ,\n",
       "       3.85, 3.9 , 3.95, 4.  , 4.05, 4.1 , 4.15, 4.2 , 4.25, 4.3 , 4.35,\n",
       "       4.4 , 4.45, 4.5 , 4.55, 4.6 , 4.65, 4.7 , 4.75, 4.8 , 4.85, 4.9 ,\n",
       "       4.95, 5.  , 5.05, 5.1 , 5.15, 5.2 , 5.25, 5.3 , 5.35, 5.4 , 5.45,\n",
       "       5.5 , 5.55, 5.6 , 5.65, 5.7 , 5.75, 5.8 , 5.85, 5.9 , 5.95, 6.  ,\n",
       "       6.05, 6.1 , 6.15, 6.2 , 6.25])"
      ]
     },
     "execution_count": 10,
     "metadata": {},
     "output_type": "execute_result"
    }
   ],
   "source": [
    "x = np.arange(0, math.pi*2, 0.05)\n",
    "x"
   ]
  },
  {
   "cell_type": "code",
   "execution_count": 11,
   "id": "1b444f19-4c58-4b87-bd89-5588e29dcab9",
   "metadata": {},
   "outputs": [
    {
     "data": {
      "text/plain": [
       "array([ 0.        ,  0.04997917,  0.09983342,  0.14943813,  0.19866933,\n",
       "        0.24740396,  0.29552021,  0.34289781,  0.38941834,  0.43496553,\n",
       "        0.47942554,  0.52268723,  0.56464247,  0.60518641,  0.64421769,\n",
       "        0.68163876,  0.71735609,  0.75128041,  0.78332691,  0.8134155 ,\n",
       "        0.84147098,  0.86742323,  0.89120736,  0.91276394,  0.93203909,\n",
       "        0.94898462,  0.96355819,  0.97572336,  0.98544973,  0.99271299,\n",
       "        0.99749499,  0.99978376,  0.9995736 ,  0.99686503,  0.99166481,\n",
       "        0.98398595,  0.97384763,  0.9612752 ,  0.94630009,  0.92895972,\n",
       "        0.90929743,  0.88736237,  0.86320937,  0.83689879,  0.8084964 ,\n",
       "        0.7780732 ,  0.74570521,  0.71147335,  0.67546318,  0.6377647 ,\n",
       "        0.59847214,  0.55768372,  0.51550137,  0.47203054,  0.42737988,\n",
       "        0.38166099,  0.33498815,  0.28747801,  0.23924933,  0.19042265,\n",
       "        0.14112001,  0.09146464,  0.04158066, -0.00840725, -0.05837414,\n",
       "       -0.10819513, -0.15774569, -0.20690197, -0.2555411 , -0.30354151,\n",
       "       -0.35078323, -0.39714817, -0.44252044, -0.48678665, -0.52983614,\n",
       "       -0.57156132, -0.61185789, -0.65062514, -0.68776616, -0.72318812,\n",
       "       -0.7568025 , -0.78852525, -0.81827711, -0.8459837 , -0.87157577,\n",
       "       -0.89498936, -0.91616594, -0.93505258, -0.95160207, -0.96577306,\n",
       "       -0.97753012, -0.98684386, -0.993691  , -0.99805444, -0.99992326,\n",
       "       -0.99929279, -0.99616461, -0.99054654, -0.98245261, -0.97190307,\n",
       "       -0.95892427, -0.94354867, -0.92581468, -0.90576664, -0.88345466,\n",
       "       -0.85893449, -0.83226744, -0.80352016, -0.77276449, -0.74007731,\n",
       "       -0.70554033, -0.66923986, -0.63126664, -0.59171558, -0.55068554,\n",
       "       -0.50827908, -0.46460218, -0.41976402, -0.37387666, -0.32705481,\n",
       "       -0.2794155 , -0.23107779, -0.1821625 , -0.13279191, -0.0830894 ,\n",
       "       -0.03317922])"
      ]
     },
     "execution_count": 11,
     "metadata": {},
     "output_type": "execute_result"
    }
   ],
   "source": [
    "y = np.sin(x)\n",
    "y"
   ]
  },
  {
   "cell_type": "code",
   "execution_count": 12,
   "id": "f832c666-c08b-4c7f-a6e1-a881bbd18f2a",
   "metadata": {},
   "outputs": [
    {
     "data": {
      "text/plain": [
       "Text(0.5, 1.0, 'Sine Plot')"
      ]
     },
     "execution_count": 12,
     "metadata": {},
     "output_type": "execute_result"
    },
    {
     "data": {
      "image/png": "[encoded data removed]",
      "text/plain": [
       "<Figure size 432x288 with 1 Axes>"
      ]
     },
     "metadata": {
      "needs_background": "light"
     },
     "output_type": "display_data"
    }
   ],
   "source": [
    "plt.plot(x, y)\n",
    "plt.xlabel('Angel')\n",
    "plt.ylabel('Sine')\n",
    "plt.title('Sine Plot')"
   ]
  },
  {
   "cell_type": "raw",
   "id": "8e6f028e-2ffc-4a33-b939-578c5066e5b6",
   "metadata": {},
   "source": [
    "Colour Code : r,g,b,c,m,y,k,w"
   ]
  },
  {
   "cell_type": "raw",
   "id": "2c6e4424-ed2b-4dbe-bff0-6b34b5d07fc6",
   "metadata": {},
   "source": [
    "Design :\n",
    "-\n",
    "--\n",
    "-.\n",
    ".\n",
    ",\n",
    "o\n",
    "^\n",
    "v\n",
    "<\n",
    ">\n",
    "s\n",
    "+\n",
    "x\n",
    "D\n",
    "d\n",
    "1\n",
    "2\n",
    "3\n",
    "4\n",
    "H\n",
    "h\n",
    "P\n",
    "|\n",
    "_"
   ]
  },
  {
   "cell_type": "code",
   "execution_count": 13,
   "id": "f4ea96dc-5fea-4ce6-9a07-159c9f385f7c",
   "metadata": {},
   "outputs": [
    {
     "data": {
      "text/plain": [
       "array([-3.        , -2.79310345, -2.5862069 , -2.37931034, -2.17241379,\n",
       "       -1.96551724, -1.75862069, -1.55172414, -1.34482759, -1.13793103,\n",
       "       -0.93103448, -0.72413793, -0.51724138, -0.31034483, -0.10344828,\n",
       "        0.10344828,  0.31034483,  0.51724138,  0.72413793,  0.93103448,\n",
       "        1.13793103,  1.34482759,  1.55172414,  1.75862069,  1.96551724,\n",
       "        2.17241379,  2.37931034,  2.5862069 ,  2.79310345,  3.        ])"
      ]
     },
     "execution_count": 13,
     "metadata": {},
     "output_type": "execute_result"
    }
   ],
   "source": [
    "x = np.linspace(-3, 3, 30)\n",
    "x"
   ]
  },
  {
   "cell_type": "code",
   "execution_count": 14,
   "id": "e21e4eca-fbaf-457a-84ac-b72ba0de5004",
   "metadata": {},
   "outputs": [
    {
     "data": {
      "text/plain": [
       "array([9.        , 7.80142687, 6.68846611, 5.66111772, 4.71938169,\n",
       "       3.86325803, 3.09274673, 2.4078478 , 1.80856124, 1.29488704,\n",
       "       0.86682521, 0.52437574, 0.26753864, 0.09631391, 0.01070155,\n",
       "       0.01070155, 0.09631391, 0.26753864, 0.52437574, 0.86682521,\n",
       "       1.29488704, 1.80856124, 2.4078478 , 3.09274673, 3.86325803,\n",
       "       4.71938169, 5.66111772, 6.68846611, 7.80142687, 9.        ])"
      ]
     },
     "execution_count": 14,
     "metadata": {},
     "output_type": "execute_result"
    }
   ],
   "source": [
    "y = x ** 2\n",
    "y"
   ]
  },
  {
   "cell_type": "code",
   "execution_count": 17,
   "id": "f03fe167-dfe4-4c48-86bc-905ca96ebe4a",
   "metadata": {},
   "outputs": [
    {
     "data": {
      "image/png": "[encoded data removed]",
      "text/plain": [
       "<Figure size 432x288 with 1 Axes>"
      ]
     },
     "metadata": {
      "needs_background": "light"
     },
     "output_type": "display_data"
    }
   ],
   "source": [
    "plt.plot(x, y, 'rd')\n",
    "plt.xlabel('X-Axis')\n",
    "plt.ylabel('Y-Axis')\n",
    "plt.show()"
   ]
  },
  {
   "cell_type": "code",
   "execution_count": 20,
   "id": "a2f207d6-f486-4f07-886f-2b3f12777a10",
   "metadata": {},
   "outputs": [],
   "source": [
    "y = [1,4,9,16,25,36,49,64]\n",
    "x1 = [1,16,30,42,55,68,77,88]\n",
    "x2 = [1,6,12,18,28,40,52,65]"
   ]
  },
  {
   "cell_type": "code",
   "execution_count": 21,
   "id": "15e6b33a-fd63-451c-a318-625292f503bc",
   "metadata": {},
   "outputs": [
    {
     "data": {
      "image/png": "[encoded data removed]",
      "text/plain": [
       "<Figure size 864x360 with 1 Axes>"
      ]
     },
     "metadata": {
      "needs_background": "light"
     },
     "output_type": "display_data"
    }
   ],
   "source": [
    "f = plt.figure()\n",
    "f.set_figwidth(12)\n",
    "f.set_figheight(5)\n",
    "plt.plot(x1, y, 'ys-')\n",
    "plt.plot(x2, y, 'go--')\n",
    "plt.legend(['Tv','Mobile'])\n",
    "plt.title('Ads Effect On Sales')\n",
    "plt.xlabel('Medium')\n",
    "plt.ylabel('Sales')\n",
    "plt.show()"
   ]
  },
  {
   "cell_type": "markdown",
   "id": "1d5ef680-065e-4fd5-a2fc-db91eabb72d7",
   "metadata": {},
   "source": [
    "### Save A Figure"
   ]
  },
  {
   "cell_type": "code",
   "execution_count": 22,
   "id": "b1929dd4-c133-403a-be8c-a2fc4168c87a",
   "metadata": {},
   "outputs": [],
   "source": [
    "f.savefig('ads.png')"
   ]
  },
  {
   "cell_type": "code",
   "execution_count": 23,
   "id": "82bdac4f-c341-4924-b94e-68d90bd5ad96",
   "metadata": {},
   "outputs": [
    {
     "data": {
      "text/plain": [
       "array([0.        , 0.02020202, 0.04040404, 0.06060606, 0.08080808,\n",
       "       0.1010101 , 0.12121212, 0.14141414, 0.16161616, 0.18181818,\n",
       "       0.2020202 , 0.22222222, 0.24242424, 0.26262626, 0.28282828,\n",
       "       0.3030303 , 0.32323232, 0.34343434, 0.36363636, 0.38383838,\n",
       "       0.4040404 , 0.42424242, 0.44444444, 0.46464646, 0.48484848,\n",
       "       0.50505051, 0.52525253, 0.54545455, 0.56565657, 0.58585859,\n",
       "       0.60606061, 0.62626263, 0.64646465, 0.66666667, 0.68686869,\n",
       "       0.70707071, 0.72727273, 0.74747475, 0.76767677, 0.78787879,\n",
       "       0.80808081, 0.82828283, 0.84848485, 0.86868687, 0.88888889,\n",
       "       0.90909091, 0.92929293, 0.94949495, 0.96969697, 0.98989899,\n",
       "       1.01010101, 1.03030303, 1.05050505, 1.07070707, 1.09090909,\n",
       "       1.11111111, 1.13131313, 1.15151515, 1.17171717, 1.19191919,\n",
       "       1.21212121, 1.23232323, 1.25252525, 1.27272727, 1.29292929,\n",
       "       1.31313131, 1.33333333, 1.35353535, 1.37373737, 1.39393939,\n",
       "       1.41414141, 1.43434343, 1.45454545, 1.47474747, 1.49494949,\n",
       "       1.51515152, 1.53535354, 1.55555556, 1.57575758, 1.5959596 ,\n",
       "       1.61616162, 1.63636364, 1.65656566, 1.67676768, 1.6969697 ,\n",
       "       1.71717172, 1.73737374, 1.75757576, 1.77777778, 1.7979798 ,\n",
       "       1.81818182, 1.83838384, 1.85858586, 1.87878788, 1.8989899 ,\n",
       "       1.91919192, 1.93939394, 1.95959596, 1.97979798, 2.        ])"
      ]
     },
     "execution_count": 23,
     "metadata": {},
     "output_type": "execute_result"
    }
   ],
   "source": [
    "x_data = np.linspace(0,2,100)\n",
    "x_data"
   ]
  },
  {
   "cell_type": "code",
   "execution_count": 24,
   "id": "9ace6dde-5a9d-495d-a2e5-d0fdb5903db0",
   "metadata": {},
   "outputs": [
    {
     "data": {
      "image/png": "[encoded data removed]",
      "text/plain": [
       "<Figure size 432x288 with 1 Axes>"
      ]
     },
     "metadata": {
      "needs_background": "light"
     },
     "output_type": "display_data"
    }
   ],
   "source": [
    "plt.plot(x, x, label='linear')\n",
    "plt.plot(x, x**2, label='quadratic')\n",
    "plt.plot(x, x**3, label='cubic')\n",
    "plt.xlabel('X-Label')\n",
    "plt.ylabel('Y-Label')\n",
    "plt.title('Sample Plot')\n",
    "plt.legend()\n",
    "plt.show()"
   ]
  },
  {
   "cell_type": "markdown",
   "id": "ad958310-0c11-4db3-a7bb-a3014fbbe95e",
   "metadata": {},
   "source": [
    "### Subplots"
   ]
  },
  {
   "cell_type": "code",
   "execution_count": 18,
   "id": "25fcb9b7-95bb-43e1-9651-bd2bd1d185e4",
   "metadata": {},
   "outputs": [
    {
     "data": {
      "text/plain": [
       "[<matplotlib.lines.Line2D at 0x1d750b3be0>]"
      ]
     },
     "execution_count": 18,
     "metadata": {},
     "output_type": "execute_result"
    },
    {
     "data": {
      "image/png": "[encoded data removed]",
      "text/plain": [
       "<Figure size 432x288 with 2 Axes>"
      ]
     },
     "metadata": {
      "needs_background": "light"
     },
     "output_type": "display_data"
    }
   ],
   "source": [
    "plt.figure()\n",
    "plt.subplot(2,1,1)\n",
    "plt.plot(x1, np.sin(x1))\n",
    "\n",
    "plt.subplot(2,1,2)\n",
    "plt.plot(x1, np.cos(x1))"
   ]
  },
  {
   "cell_type": "code",
   "execution_count": 27,
   "id": "a40c9a4b-c1e0-4c96-b0ce-224d3975eac5",
   "metadata": {},
   "outputs": [
    {
     "data": {
      "text/plain": [
       "array([1, 2, 3, 4, 5, 6, 7, 8, 9])"
      ]
     },
     "execution_count": 27,
     "metadata": {},
     "output_type": "execute_result"
    }
   ],
   "source": [
    "x = np.arange(1,10)\n",
    "x"
   ]
  },
  {
   "cell_type": "code",
   "execution_count": 40,
   "id": "714ff21e-5c56-4f7c-95a5-811f41bbafbd",
   "metadata": {},
   "outputs": [
    {
     "data": {
      "image/png": "[encoded data removed]",
      "text/plain": [
       "<Figure size 432x288 with 4 Axes>"
      ]
     },
     "metadata": {
      "needs_background": "light"
     },
     "output_type": "display_data"
    }
   ],
   "source": [
    "fig = plt.figure()\n",
    "\n",
    "ax1 = fig.add_subplot(2,2,1)\n",
    "ax1.plot(x, x*x, 'ro-')\n",
    "ax1.set_title('Graph-A')\n",
    "\n",
    "ax2 = fig.add_subplot(2,2,2)\n",
    "ax2.plot(x, np.sin(x), 'yv-')\n",
    "ax2.set_title('Graph-B')\n",
    "\n",
    "ax3 = fig.add_subplot(2,2,3)\n",
    "ax3.plot(x, np.exp(x), 'b^-')\n",
    "ax3.set_title('Graph-C')\n",
    "\n",
    "ax4 = fig.add_subplot(2,2,4)\n",
    "ax4.plot(x, np.log10(x), 'k+-')\n",
    "ax4.set_title('Graph-D')\n",
    "\n",
    "plt.show()"
   ]
  },
  {
   "cell_type": "markdown",
   "id": "82433697-6803-4234-9dbc-cb1ffad24639",
   "metadata": {},
   "source": [
    "### Histogram"
   ]
  },
  {
   "cell_type": "code",
   "execution_count": 41,
   "id": "d5cce2e4-b694-450a-8041-cd62af28928c",
   "metadata": {},
   "outputs": [
    {
     "data": {
      "text/plain": [
       "array([ 2.21589905e+00,  3.14014095e-02,  1.69234996e+00,  2.49388826e+00,\n",
       "        5.62777181e-01,  2.23299232e-01, -1.55084024e+00,  1.17917566e+00,\n",
       "       -1.42407547e-01,  7.99067432e-02,  1.64555741e+00,  2.25454443e-01,\n",
       "        3.14656304e-02, -3.36116305e-01,  2.11431409e-01,  1.20772678e-01,\n",
       "        4.04698295e-01,  3.78230975e-01, -1.28588623e+00, -4.90860824e-01,\n",
       "        2.10593931e-01, -2.28983230e+00,  9.10481319e-01,  1.15882150e+00,\n",
       "       -5.93728438e-01,  1.50760963e-02, -1.90382281e+00,  2.45691849e-01,\n",
       "       -2.59327216e-01, -2.13670480e+00,  2.16840182e+00, -1.39351877e+00,\n",
       "        1.03002840e+00,  4.12797041e-01, -1.77212996e+00, -7.41802145e-01,\n",
       "        5.42050932e-01,  1.03508643e+00, -1.82498262e-01,  4.40118564e-01,\n",
       "        1.61069216e+00, -5.67770410e-01, -3.23310957e-01, -1.74118502e-01,\n",
       "        7.74033816e-01,  1.52234934e+00, -7.30150813e-02, -1.28386691e+00,\n",
       "       -8.53972536e-01,  5.62593450e-01,  1.03532084e-01,  1.73702418e-01,\n",
       "       -8.83483601e-01,  7.61342850e-01, -7.68923122e-02,  6.53308227e-01,\n",
       "        3.02958309e+00,  2.26043354e+00,  2.62880480e-01,  1.04748072e+00,\n",
       "       -6.55996326e-01, -8.77234846e-02,  2.27163120e-01, -1.92842565e+00,\n",
       "        7.80558597e-01, -1.11649825e+00, -3.37897771e-01,  6.83828537e-02,\n",
       "        2.20002207e-01,  5.53723691e-01, -1.47376803e+00,  1.12957851e+00,\n",
       "        2.04864974e+00,  1.33247435e+00, -5.61002150e-01, -5.13050384e-01,\n",
       "        2.25808375e-01,  2.71609336e-01,  4.44909009e-01, -1.21923067e+00,\n",
       "       -1.12693296e+00,  1.70027783e+00, -8.19882345e-01,  7.40796139e-01,\n",
       "       -2.10014199e-01, -5.17953533e-02,  8.53221674e-01,  1.40226982e+00,\n",
       "        3.73854197e-02, -8.56566470e-01,  4.11529527e-01,  1.21910944e+00,\n",
       "        6.46745407e-01, -5.95594324e-01,  4.99894155e-01,  1.58039250e+00,\n",
       "       -1.23863546e+00,  1.31733038e+00,  3.55214403e-02,  3.28197707e-01,\n",
       "        1.94890033e+00, -9.43002059e-01,  5.03860643e-01,  5.20989294e-01,\n",
       "       -8.09103520e-01, -1.41026560e-02, -1.17530406e+00,  1.48232628e-01,\n",
       "        4.75942267e-01, -1.08404571e+00, -7.58510054e-01, -1.13850423e+00,\n",
       "        5.43615768e-01, -1.73174155e+00, -1.88009393e+00,  3.26706131e-01,\n",
       "       -4.27377351e-01,  2.64328812e-02, -1.19291288e+00,  2.12125944e+00,\n",
       "       -1.52962793e+00, -6.62516627e-01, -4.19614316e-01,  5.16655108e-01,\n",
       "        7.59693677e-01,  9.67853048e-01,  5.64151954e-01,  1.28284267e-01,\n",
       "       -7.31045339e-01,  1.18417671e+00,  9.84743761e-01,  3.27890928e-01,\n",
       "       -1.15856570e-01,  3.51787561e-01,  2.77344190e-01,  1.63019663e+00,\n",
       "        1.11317951e-01, -1.59821782e+00, -5.27319233e-01, -1.93007017e-01,\n",
       "        1.92259665e-01,  2.28373982e-01,  5.82359932e-01,  9.38836699e-01,\n",
       "        8.91691150e-01, -5.12660178e-01,  2.00652651e-01, -1.59222287e-01,\n",
       "       -1.55943225e+00, -5.95586869e-01, -1.72844216e+00,  8.48239150e-03,\n",
       "        1.11183996e+00,  1.04351548e+00, -3.19660510e-01,  4.26423283e-01,\n",
       "       -2.75351627e+00, -1.18207980e+00,  1.21905044e+00,  1.83472616e+00,\n",
       "        3.04092674e-01,  3.65120216e-01, -9.55125899e-01, -2.27321807e-01,\n",
       "        1.37334566e-01, -2.77354431e-01,  6.60286626e-01, -9.84600567e-01,\n",
       "        1.76180187e+00, -1.49135922e+00, -5.30119114e-01,  1.01762352e+00,\n",
       "       -3.24585228e-02, -1.18060778e-01, -1.21512342e+00,  1.03734637e+00,\n",
       "        2.89504287e-01,  1.15366434e+00, -5.83882170e-01,  2.85371531e-01,\n",
       "        1.24437677e+00,  1.07122143e+00,  5.68548322e-01,  1.01405762e+00,\n",
       "        1.96667987e+00,  9.41641250e-02, -1.44793670e+00, -7.44250102e-01,\n",
       "        1.84077606e+00, -6.20635337e-02,  7.65129695e-01, -1.26525242e+00,\n",
       "        5.73726043e-01, -1.51327499e+00,  9.68353695e-01,  9.96063290e-02,\n",
       "       -7.50098607e-01, -1.06855390e-01,  2.37492391e-01,  4.76992490e-01,\n",
       "        9.80348372e-01, -4.13543249e-02, -5.21039602e-01,  1.35479724e+00,\n",
       "        1.62843565e+00, -1.54375797e+00, -1.15434120e-01, -9.00661247e-01,\n",
       "        2.29599277e+00, -9.40818301e-01,  1.66851973e+00,  1.30322760e-01,\n",
       "        7.27207872e-01, -5.59004149e-01, -8.74257042e-01,  1.84001713e-02,\n",
       "        2.14801626e+00, -1.47495128e-01, -2.67878804e+00, -5.89831236e-01,\n",
       "       -8.04193496e-01, -7.73911500e-01,  5.11995375e-01, -1.47185209e+00,\n",
       "        6.76019351e-01, -1.31815787e+00, -9.26909286e-01,  9.32457745e-01,\n",
       "       -1.58502126e+00,  1.39050143e+00, -7.41246340e-01,  9.43331988e-01,\n",
       "       -2.49412100e-01, -2.31782695e-01,  9.02370552e-01,  1.79506869e-01,\n",
       "        2.58102244e-01, -1.58981128e+00,  2.34844100e-01, -1.09020197e-01,\n",
       "       -7.51705984e-01, -5.89512119e-01,  6.90558028e-01, -5.29480177e-01,\n",
       "        9.39736687e-02, -1.70638161e+00,  2.62949808e-01,  1.22534731e+00,\n",
       "       -3.94839258e-01,  9.36568048e-01, -5.48174528e-01,  5.33344111e-01,\n",
       "        7.60033826e-02,  9.37677288e-01, -1.10096894e+00, -6.39025918e-01,\n",
       "        4.88720972e-01,  6.33580568e-01,  7.06277212e-01,  1.04052992e+00,\n",
       "        1.84085428e+00,  6.74050122e-01, -1.36420730e+00, -1.62811072e+00,\n",
       "       -1.20136913e+00,  7.12835563e-01,  1.18857545e-01, -7.07922814e-01,\n",
       "       -1.89649944e-01,  1.09041280e+00, -1.84530132e+00,  1.64123550e+00,\n",
       "       -1.02693870e+00,  7.31259489e-01, -2.05641521e-01, -1.89796655e+00,\n",
       "        2.00550034e-01, -3.54324976e-01, -5.53461187e-01,  6.79163420e-01,\n",
       "       -4.85358322e-01, -1.71543336e+00,  2.28672564e+00,  1.41386948e+00,\n",
       "        1.21974526e-01, -9.88553595e-01, -1.00447358e-01, -5.63490737e-01,\n",
       "       -3.44117227e-01,  2.08063281e-01,  3.77059131e-01,  3.55359609e-01,\n",
       "       -1.11060930e+00,  8.06689157e-01, -9.42285424e-01,  9.21057103e-01,\n",
       "       -1.75785707e+00,  1.10450294e-01,  1.55193638e-01,  4.91367786e-01,\n",
       "       -1.18095810e+00, -9.20980381e-02,  1.51407314e-02, -4.02023040e-01,\n",
       "        3.73973528e-01, -8.23038779e-01, -4.60312974e-01,  3.13702631e-01,\n",
       "       -2.87089333e-01, -2.69091685e-01,  9.42423808e-01,  4.11454034e-01,\n",
       "        5.07642318e-01, -5.42901853e-01,  5.84164056e-02,  1.46848407e+00,\n",
       "        2.22830779e+00,  1.26528221e+00,  1.00350221e+00,  1.77797636e+00,\n",
       "       -2.90661233e-01, -2.28202871e+00, -8.66269355e-01, -2.77047355e-01,\n",
       "        2.23457755e-01,  1.37666368e+00,  1.04613231e+00,  2.43657127e-01,\n",
       "        7.35541136e-02,  4.67907375e-01, -1.23987538e+00,  5.50189852e-02,\n",
       "       -1.46759119e+00, -1.32388795e+00,  1.71423683e+00, -5.04705243e-01,\n",
       "        8.06250970e-01, -2.13560854e+00, -1.11265024e+00,  1.50745842e+00,\n",
       "        9.57693487e-01,  2.12073341e-02, -1.08853298e+00,  9.82158907e-02,\n",
       "        7.12060809e-01, -4.09452581e-01,  1.00162442e+00, -7.87184658e-01,\n",
       "       -1.32833120e+00, -7.26571503e-01,  9.72847435e-01, -1.34895304e+00,\n",
       "        8.98134455e-01, -3.94298575e-01,  2.32184552e+00,  5.03276102e-01,\n",
       "       -1.02712106e+00, -1.21440969e+00,  1.33920030e+00, -1.25459171e+00,\n",
       "        1.67710502e+00,  1.09068554e-01,  6.51225291e-01,  2.57756269e-01,\n",
       "        2.15965241e-01, -1.40572580e-01,  1.40910092e+00,  2.20963127e+00,\n",
       "       -1.25762841e+00, -4.42283490e-01,  8.93393148e-01, -1.64606209e+00,\n",
       "        1.38214869e+00,  3.74694292e-01,  1.24165850e+00,  1.03135451e-01,\n",
       "        5.26053879e-01,  2.10884025e+00,  1.83303956e+00,  2.55321847e-01,\n",
       "        1.07783609e+00,  6.16105314e-01, -3.66050484e-01, -8.97593614e-01,\n",
       "       -8.92958861e-01, -1.38409961e+00,  1.29918708e+00,  6.12330682e-01,\n",
       "        1.64397148e+00,  7.31069401e-01,  8.63226513e-02, -9.67730245e-01,\n",
       "        2.56959029e-01,  1.30871942e+00, -5.38727559e-01,  1.11284712e+00,\n",
       "       -7.41454012e-01,  5.51432830e-01,  2.56342062e+00,  1.50550357e+00,\n",
       "       -1.30895676e+00,  8.22510684e-01,  5.37747890e-03,  7.88283885e-01,\n",
       "       -5.95149347e-01, -1.07182288e+00, -1.41335627e-01, -1.70446237e+00,\n",
       "       -2.56113306e-01, -2.15816491e-01,  3.93082495e-01, -1.46540140e+00,\n",
       "        1.26147824e+00,  1.06893679e+00, -9.43370898e-01, -1.08936678e+00,\n",
       "        1.93805328e-01, -1.27666454e+00, -8.18339188e-01, -2.08892177e-01,\n",
       "        3.57065376e-01,  1.29746880e+00,  1.69220124e-01, -7.45070710e-01,\n",
       "       -5.89864830e-01, -1.94578487e-01,  1.12780656e+00,  6.50672025e-01,\n",
       "        1.08622214e-01,  5.61195183e-02,  1.84047694e+00, -9.33963948e-01,\n",
       "        2.25440929e-01, -4.29975500e-01,  1.19764867e+00, -3.70704757e-01,\n",
       "        6.39163489e-02, -5.77690085e-02,  9.89502277e-01, -1.20923198e-01,\n",
       "        5.14564408e-01,  4.14499660e-01, -1.16623384e+00,  8.35246872e-01,\n",
       "       -1.08362796e+00,  3.88354353e-01, -6.85826816e-01, -8.02771779e-01,\n",
       "       -1.89622223e+00,  1.01638184e-02, -5.26303853e-02,  6.34259322e-01,\n",
       "        6.03156846e-01, -9.33202442e-01,  2.23965158e+00, -6.30838923e-01,\n",
       "       -5.23765859e-01,  4.32499824e-01,  6.61885202e-02, -1.30402846e+00,\n",
       "       -4.69694411e-01,  7.11697427e-01,  1.36937891e+00, -6.85706787e-01,\n",
       "        7.03744552e-02, -2.23357646e-02,  1.20326794e-01, -5.23788577e-01,\n",
       "        1.03156730e+00,  1.45810656e+00, -3.37082720e-01,  1.07278066e+00,\n",
       "       -8.05475283e-01, -1.45672189e+00,  1.08375258e+00, -1.62966114e-01,\n",
       "       -9.41331799e-01,  2.03968247e-01, -7.09429104e-01, -4.49842342e-01,\n",
       "       -1.29013129e+00, -1.96399193e-01, -1.74839268e-01, -9.85239640e-01,\n",
       "        6.40649312e-01,  1.64768043e+00, -2.06294289e+00,  6.62956467e-02,\n",
       "       -1.98561048e+00,  5.00231097e-01,  2.86966797e-02, -9.26490313e-01,\n",
       "       -1.68335181e+00, -6.25226708e-01, -4.74052096e-01,  5.14242942e-01,\n",
       "        2.47842730e+00, -4.90636874e-01, -6.00464186e-01,  1.11172458e+00,\n",
       "       -1.59594939e-01,  1.00535640e+00, -1.87707607e-01, -2.13736172e-01,\n",
       "        1.49796994e-01,  3.29125129e-01, -3.38578216e-01, -1.34250997e+00,\n",
       "        1.16665433e-01, -8.90751762e-01, -5.38640422e-01, -1.71951245e+00,\n",
       "       -2.32725536e-01, -4.78099886e-02,  2.00275908e+00, -5.30475800e-01,\n",
       "       -5.13200472e-02,  8.90093699e-02, -1.11718950e+00, -3.79844235e-01,\n",
       "        2.01998641e+00, -3.02475627e-01,  4.43438806e-01, -7.34725235e-01,\n",
       "       -1.06712938e+00,  7.67213277e-02,  2.45450586e-01, -1.15867835e+00,\n",
       "       -1.19426042e+00, -4.10905605e-01,  1.33628124e+00, -1.81919856e-01,\n",
       "        5.29751023e-01,  1.90162302e+00,  1.62238403e+00, -1.90454949e-01,\n",
       "       -1.33523142e-01, -3.62647690e-01,  1.34331149e+00, -6.54341916e-01,\n",
       "       -1.99975561e-01, -7.36624712e-02,  4.50108348e-01,  3.34466789e-01,\n",
       "        1.66355960e+00, -2.52705981e+00, -6.79197605e-01,  3.64345517e-01,\n",
       "       -9.80070205e-02,  1.15451439e+00,  3.72611294e-01, -8.18204290e-01,\n",
       "        7.69824995e-02, -8.25005470e-02,  1.58801780e+00, -1.10316946e+00,\n",
       "        8.94339966e-01,  1.19871157e+00, -1.33782479e+00, -1.03586819e+00,\n",
       "        3.13298998e-01,  1.41143533e-01, -8.53826578e-01,  5.64445774e-01,\n",
       "       -4.87471477e-01,  4.48696716e-02, -1.75616044e+00, -1.34520814e+00,\n",
       "       -3.56784503e-01,  1.00626722e-01,  1.09392111e+00,  1.77268619e-01,\n",
       "        1.48249680e-02,  1.03827033e+00, -5.87053123e-01,  6.84702752e-01,\n",
       "       -5.92864267e-01,  9.26626804e-02,  1.25653143e+00, -1.04764693e+00,\n",
       "        1.20619374e+00,  6.81550710e-01,  1.51505259e+00, -7.87491352e-01,\n",
       "       -1.59139422e-01,  1.55570717e+00, -3.04165966e-01,  9.58482712e-02,\n",
       "        1.47568652e+00, -3.00189531e-01,  3.84377393e-01,  1.77441687e+00,\n",
       "       -1.19218416e+00, -1.18163607e-02, -6.98620637e-01, -1.91246271e+00,\n",
       "        2.42080335e-01, -3.65428348e-01, -1.69413503e+00,  3.89838222e-01,\n",
       "        6.17592694e-01,  5.10332121e-01,  7.64320273e-01, -1.52724378e+00,\n",
       "       -8.21440264e-01, -2.78378670e-01,  1.30269710e+00, -2.79181078e-01,\n",
       "       -2.10865065e-01,  3.11111292e-01, -4.14611058e-01, -1.68956779e-01,\n",
       "       -9.40949405e-01, -4.95107583e-01,  3.38846155e-01,  9.83208803e-02,\n",
       "        2.37588185e-02,  1.35971193e+00, -6.33729522e-01, -1.64527068e-01,\n",
       "        2.21472555e-01, -1.93881204e-01,  1.26587823e+00,  1.43697017e+00,\n",
       "        1.32780199e+00, -3.79772667e-01, -8.69761794e-01, -1.22362900e+00,\n",
       "        1.04033065e-02,  2.83630722e-01,  5.15737232e-01,  1.26925732e+00,\n",
       "       -5.18119356e-01,  2.57751163e-01, -2.07860743e+00, -1.39084547e+00,\n",
       "       -5.76080951e-02,  4.90514777e-01, -3.66317988e-01,  1.02686711e+00,\n",
       "        2.32573551e+00,  9.40574500e-01, -6.42044171e-01,  1.72391428e+00,\n",
       "        1.63840931e+00,  4.93259363e-01, -1.07325231e+00, -3.67947782e-01,\n",
       "       -1.20947079e+00, -9.39239271e-01,  6.69038600e-02, -2.68712840e-01,\n",
       "       -2.99834445e-01, -2.35001194e-01, -1.93732122e-01, -4.08468739e-01,\n",
       "        9.59201651e-01, -2.88890384e-01, -5.91028937e-01,  1.09625560e+00,\n",
       "       -8.32415262e-01, -7.03770609e-01, -5.07652618e-01, -5.15390597e-01,\n",
       "       -9.40165659e-01, -1.23754421e-01,  1.72801168e+00, -3.88212255e-01,\n",
       "        9.28717353e-01,  8.33305671e-01, -1.17334363e+00,  1.95144758e+00,\n",
       "        1.08208233e+00, -1.47543788e+00, -7.74049623e-01,  2.38247100e-01,\n",
       "       -8.04927464e-02,  4.18623395e-01, -1.00047121e+00,  6.32747839e-01,\n",
       "        1.20204148e+00,  1.25947467e+00, -1.48802091e+00, -5.31471960e-01,\n",
       "        2.04278474e+00, -5.09187170e-01, -8.76535567e-02, -3.91738672e-01,\n",
       "       -5.82575320e-01, -2.54351442e+00, -1.16793154e+00,  1.02952370e+00,\n",
       "       -1.17831421e+00,  5.86030441e-01,  9.56750286e-02, -6.15192491e-01,\n",
       "       -1.08386948e+00,  7.56900469e-01, -9.15803167e-01, -2.82431199e-01,\n",
       "       -2.31372344e+00,  3.10237905e-01, -6.45710839e-01, -3.64443904e-01,\n",
       "        7.07689426e-01, -1.75277578e+00,  1.05758836e+00,  4.32980996e-01,\n",
       "       -3.62933675e-01,  1.98848091e-01, -1.15834744e+00, -1.03386139e+00,\n",
       "        7.23161249e-01, -1.39194561e+00, -1.89651788e-01,  1.61482708e+00,\n",
       "        3.58070842e-02, -7.53514235e-01, -1.36716698e+00,  6.40898952e-01,\n",
       "       -8.28541107e-01,  1.98301067e+00, -2.57618513e-01, -1.88277859e+00,\n",
       "       -7.72219421e-01,  1.25344850e+00, -2.70103860e-01,  9.76749273e-01,\n",
       "       -7.18554748e-01, -5.80223274e-02, -4.36285358e-01,  1.23775574e+00,\n",
       "        6.73515818e-01, -5.45095283e-01,  4.60619483e-01,  9.77351922e-01,\n",
       "        4.17367447e-01,  1.66389951e-01, -8.40218455e-02,  1.28998303e+00,\n",
       "        6.03710607e-01,  3.07172702e-01,  7.90319135e-01,  4.87200139e-01,\n",
       "        1.95062235e+00,  2.37625499e+00, -6.99679928e-01,  1.97311810e-01,\n",
       "        2.95938246e-01, -9.70735105e-01, -1.83354452e+00, -9.20874999e-01,\n",
       "        8.82832694e-01,  1.08027214e+00, -4.55738415e-01, -8.87549871e-01,\n",
       "        1.50463744e+00, -2.21985378e-01,  2.22702559e+00,  7.28372363e-01,\n",
       "        8.91313404e-02,  4.32979557e-01, -1.65478285e+00, -1.13789493e+00,\n",
       "        9.91526455e-01, -6.04643658e-01, -8.22621871e-01,  6.33279962e-01,\n",
       "       -4.54701063e-01, -3.72703878e-01,  2.58112348e-02, -2.66608783e-02,\n",
       "        1.17862153e+00, -1.28672452e+00,  1.29193983e+00,  7.59646481e-01,\n",
       "       -2.78339274e-01,  1.16273348e+00,  1.49712358e+00, -9.41380439e-02,\n",
       "        9.66168382e-01,  2.91036270e-02,  1.34458299e+00,  1.76624778e+00,\n",
       "       -2.34543936e+00,  2.01868569e-01,  1.26673847e+00, -8.87922511e-01,\n",
       "       -1.57668797e+00, -7.73936086e-01,  1.13235350e+00, -1.58669132e+00,\n",
       "        4.94663301e-01, -8.03624581e-01,  1.58468640e+00, -1.07996075e+00,\n",
       "       -1.23891783e-01,  5.25742602e-01,  3.56553094e-01, -9.13522801e-01,\n",
       "       -1.64984690e+00, -1.19635294e-01,  1.24089596e+00, -4.08120267e-01,\n",
       "       -3.36239816e-01,  1.76625492e+00, -1.37987861e+00,  1.64357278e-02,\n",
       "        4.51763180e-01, -2.35036462e-01,  7.21826646e-01, -6.17872747e-01,\n",
       "        3.58571634e-01, -1.17256785e-01,  1.70130016e+00,  1.74615058e-01,\n",
       "        2.50292530e+00, -8.19460864e-01, -1.86113966e+00, -4.18321703e-01,\n",
       "       -1.04105401e-01, -1.66498919e-01, -7.45227644e-01,  4.82592085e-01,\n",
       "        9.22271377e-02,  4.23890964e-01,  1.64367129e+00, -1.13429482e+00,\n",
       "       -2.60954873e-01,  8.79867047e-01,  2.72361580e-02, -6.63542120e-01,\n",
       "        1.01623991e+00, -4.24811701e-01,  6.72423846e-01,  2.29201302e+00,\n",
       "       -9.35425416e-01, -2.20448676e-01, -9.24107238e-01, -1.40437765e+00,\n",
       "       -1.30775732e-01,  4.10206881e-01, -9.49990967e-01,  9.30494521e-01,\n",
       "       -5.08389058e-01,  7.31226037e-01, -1.76458242e+00,  1.62606668e+00,\n",
       "       -2.60176946e-01,  9.04306620e-01, -1.16870826e+00,  4.46767907e-01,\n",
       "       -1.76357230e+00,  9.48672386e-02,  6.31216014e-01, -7.12248351e-01,\n",
       "        1.74718649e-01, -9.82050109e-01,  1.77946106e-01,  9.64466137e-01,\n",
       "        2.44285157e-01, -1.11429119e+00,  1.17815799e+00,  1.53838816e+00,\n",
       "        5.40853423e-01,  1.16318524e-01, -1.29294003e+00,  1.78147329e+00,\n",
       "       -3.18109420e-01,  1.64553134e-01,  4.15067839e-01, -4.91638954e-01,\n",
       "        1.16278724e-01,  5.51153603e-01, -5.48712197e-01,  1.12697464e+00,\n",
       "        5.22807924e-01,  5.68808897e-01, -1.10755137e+00,  1.57077970e+00,\n",
       "       -8.68360223e-01,  1.68735295e+00,  8.66450496e-01, -6.69303630e-01,\n",
       "       -1.12213016e+00, -7.43739739e-01,  4.54378457e-01,  1.45689376e+00,\n",
       "        2.66377166e+00,  1.39445460e+00, -5.13488848e-01, -2.48723440e-01,\n",
       "       -8.12934293e-01, -8.63435872e-01,  4.32334463e-01, -5.07870157e-02,\n",
       "       -1.51786462e+00, -2.57005169e-01, -2.63708407e+00, -3.95076762e-01,\n",
       "       -1.14172646e+00,  2.67561272e+00, -2.22518691e+00,  7.49373042e-01,\n",
       "        9.35729429e-01,  2.50948586e+00, -3.56575721e-01, -1.07416773e+00,\n",
       "       -1.40753921e+00, -1.23563830e+00,  1.03122834e-01, -1.73090170e-01,\n",
       "        2.05655230e+00, -9.62271652e-01,  5.24879528e-01, -1.20833033e+00,\n",
       "       -9.49795578e-02, -8.32778056e-01, -5.51054421e-01,  2.48551313e+00,\n",
       "        5.65379432e-01,  1.16509010e+00,  1.02325630e+00, -5.18147323e-01,\n",
       "        7.94794427e-01,  4.27276764e-01, -1.26790389e+00,  1.28264263e-01,\n",
       "        1.30288014e+00, -8.36622667e-01,  4.57933559e-01,  5.89619523e-01,\n",
       "       -8.51981132e-01, -4.54156231e-01,  1.10910036e+00,  1.34325952e-03,\n",
       "       -1.00177917e+00, -8.71566920e-01,  1.48313562e+00,  2.18129017e+00,\n",
       "       -8.10154851e-01, -7.38044412e-01,  2.90772108e-01,  5.16882529e-01,\n",
       "        3.66218561e-01,  1.52178530e+00, -9.18720831e-02,  3.01492199e-01,\n",
       "        9.12791509e-02,  5.96328631e-01,  4.88468956e-01, -1.71189953e+00,\n",
       "        2.14979578e-02, -1.79801506e-01, -3.28463969e-01,  7.28954412e-01,\n",
       "        3.47046491e-01,  9.24818052e-02,  2.44773864e-01, -7.56496479e-01,\n",
       "        4.82900312e-01, -1.98591700e+00, -1.09588679e-01, -6.86173385e-01,\n",
       "        2.12612193e-01,  1.50034317e+00, -8.16378026e-01, -1.80000484e+00,\n",
       "        1.07715975e-01,  3.60842218e-01, -2.62672310e+00, -3.34182300e-01,\n",
       "       -3.73168710e-01, -9.92610965e-01,  6.07296181e-01,  3.58420594e-01,\n",
       "       -3.50723431e-01,  1.06664210e+00, -5.08928068e-01, -6.04629140e-01,\n",
       "       -8.99934915e-01,  3.28712078e-01,  1.91525631e+00,  1.04832893e+00,\n",
       "        1.03839488e+00,  7.67979761e-01,  1.75478571e+00,  3.34414823e-01,\n",
       "        1.29220441e+00,  2.21567751e-01,  7.16475887e-02, -8.43819778e-01,\n",
       "        9.18675207e-01, -9.77989774e-02,  4.11871498e-01, -1.30417905e-01,\n",
       "        4.22202537e-01,  1.98876831e-01, -5.22084619e-02,  3.06932848e-02])"
      ]
     },
     "execution_count": 41,
     "metadata": {},
     "output_type": "execute_result"
    }
   ],
   "source": [
    "data = np.random.randn(1000)\n",
    "data"
   ]
  },
  {
   "cell_type": "code",
   "execution_count": 48,
   "id": "b6f1772e-5f12-4eae-bc50-f5aaf8434ebe",
   "metadata": {},
   "outputs": [
    {
     "data": {
      "image/png": "[encoded data removed]",
      "text/plain": [
       "<Figure size 432x288 with 1 Axes>"
      ]
     },
     "metadata": {
      "needs_background": "light"
     },
     "output_type": "display_data"
    }
   ],
   "source": [
    "fig = plt.figure()\n",
    "plt.hist(data, color='yellow', edgecolor='black', linewidth=2)\n",
    "plt.xlabel('X-Axis')\n",
    "plt.ylabel('Count')\n",
    "plt.title('Histogram Plot')\n",
    "plt.show()"
   ]
  }
 ],
 "metadata": {
  "kernelspec": {
   "display_name": "Python 3",
   "language": "python",
   "name": "python3"
  },
  "language_info": {
   "codemirror_mode": {
    "name": "ipython",
    "version": 3
   },
   "file_extension": ".py",
   "mimetype": "text/x-python",
   "name": "python",
   "nbconvert_exporter": "python",
   "pygments_lexer": "ipython3",
   "version": "3.8.8"
  }
 },
 "nbformat": 4,
 "nbformat_minor": 5
}
