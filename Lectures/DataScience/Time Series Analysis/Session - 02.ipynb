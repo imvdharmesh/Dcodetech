{
 "cells": [
  {
   "cell_type": "raw",
   "id": "cb2e9f5e",
   "metadata": {},
   "source": [
    "Date - 03/08/2021  11:00 AM to 01:00 PM"
   ]
  },
  {
   "cell_type": "markdown",
   "id": "97c72b34-cebc-4a18-87b3-d26130876cce",
   "metadata": {},
   "source": [
    "## Date Range"
   ]
  },
  {
   "cell_type": "code",
   "execution_count": 2,
   "id": "0ed8f199-9942-4342-822f-0169845d21b0",
   "metadata": {},
   "outputs": [],
   "source": [
    "import numpy as np\n",
    "import pandas as pd"
   ]
  },
  {
   "cell_type": "code",
   "execution_count": 3,
   "id": "30bf6c53-ce4f-4f81-aa3e-c1d3eb56a971",
   "metadata": {},
   "outputs": [],
   "source": [
    "index = pd.date_range('2021-07-01','2021-07-21')"
   ]
  },
  {
   "cell_type": "code",
   "execution_count": 4,
   "id": "629bde1d-1a82-4914-8c18-e52ae4a86e60",
   "metadata": {},
   "outputs": [
    {
     "data": {
      "text/plain": [
       "DatetimeIndex(['2021-07-01', '2021-07-02', '2021-07-03', '2021-07-04',\n",
       "               '2021-07-05', '2021-07-06', '2021-07-07', '2021-07-08',\n",
       "               '2021-07-09', '2021-07-10', '2021-07-11', '2021-07-12',\n",
       "               '2021-07-13', '2021-07-14', '2021-07-15', '2021-07-16',\n",
       "               '2021-07-17', '2021-07-18', '2021-07-19', '2021-07-20',\n",
       "               '2021-07-21'],\n",
       "              dtype='datetime64[ns]', freq='D')"
      ]
     },
     "execution_count": 4,
     "metadata": {},
     "output_type": "execute_result"
    }
   ],
   "source": [
    "index"
   ]
  },
  {
   "cell_type": "code",
   "execution_count": 5,
   "id": "6382f91a-2f78-477f-a2e0-4d5ec16a6cfa",
   "metadata": {},
   "outputs": [
    {
     "data": {
      "text/plain": [
       "DatetimeIndex(['2021-08-01', '2021-08-02', '2021-08-03', '2021-08-04',\n",
       "               '2021-08-05', '2021-08-06', '2021-08-07', '2021-08-08',\n",
       "               '2021-08-09', '2021-08-10', '2021-08-11', '2021-08-12',\n",
       "               '2021-08-13', '2021-08-14', '2021-08-15', '2021-08-16',\n",
       "               '2021-08-17', '2021-08-18', '2021-08-19', '2021-08-20',\n",
       "               '2021-08-21'],\n",
       "              dtype='datetime64[ns]', freq='D')"
      ]
     },
     "execution_count": 5,
     "metadata": {},
     "output_type": "execute_result"
    }
   ],
   "source": [
    "pd.date_range('2021-08-01', periods=21)"
   ]
  },
  {
   "cell_type": "markdown",
   "id": "0794b3e5-cfef-4b58-91e9-8e8309f9bc0d",
   "metadata": {},
   "source": [
    "### Frenquencies"
   ]
  },
  {
   "cell_type": "raw",
   "id": "71c67984-1150-4a27-a276-5a1f3e15000b",
   "metadata": {},
   "source": [
    "Abbrevation             OffSet Type           Description\n",
    "    D                      Day                   Calender Daily\n",
    "    B                      Business Day          Business Day\n",
    "    H                      Hour                  Hourly\n",
    "    T or min               Minute                Minutely\n",
    "    S                      Second                Secondly\n",
    "    L or ms                Milli Second          Milli-Seconds (1/1000 of 1 Second)\n",
    "    U                      Micro Second          Micro-Seconds(1/000000 of 1 Second)\n",
    "    M                      Month End             Last calender day of the month\n",
    "    BM                     Business Month End    Last business day(weekday) of the month\n",
    "    MS                     Month Begin           First calender day of the month\n",
    "    BMS                    Business Month Begin  First weekday of the month\n",
    "    W-MON,....             Week                  Weekly on given day of week(MON,....,SUN)\n",
    "    WOM-1MON,WOM-2MON,...  Week of Month         Generate weekly date in first,second,third or fourth week of the month(eg. WOM-3FRI for the third friday of each month)\n",
    "    Q-JAN,Q-FAB,....       Quarter               Quarterly date on last calender day of each month\n",
    "    BQ-JAN,BQ-FEB,...      BusinessQuarterEnd    Quarter dates on last weekday of each month\n",
    "    A-JAN,A-FEB,...        YearEnd               Annual date on last calender day of given month\n",
    "    BA-JAN,BA-FEB,...      BusinessYearEnd       Annual day on last weekday of given month\n",
    "    AS-JAN,AS-FEB,...      YearBegin             Annual date on first day of given month\n",
    "    BAS-JAN,BAS-FEB,...    BusinessYearBegin     Annual date on first weekday of given month"
   ]
  },
  {
   "cell_type": "code",
   "execution_count": 6,
   "id": "cf3fd243-15fd-49b7-8c25-8e655165a1c1",
   "metadata": {},
   "outputs": [
    {
     "data": {
      "text/plain": [
       "DatetimeIndex(['2021-08-01 00:00:00', '2021-08-01 01:00:00',\n",
       "               '2021-08-01 02:00:00', '2021-08-01 03:00:00',\n",
       "               '2021-08-01 04:00:00', '2021-08-01 05:00:00',\n",
       "               '2021-08-01 06:00:00', '2021-08-01 07:00:00',\n",
       "               '2021-08-01 08:00:00', '2021-08-01 09:00:00',\n",
       "               ...\n",
       "               '2021-08-20 15:00:00', '2021-08-20 16:00:00',\n",
       "               '2021-08-20 17:00:00', '2021-08-20 18:00:00',\n",
       "               '2021-08-20 19:00:00', '2021-08-20 20:00:00',\n",
       "               '2021-08-20 21:00:00', '2021-08-20 22:00:00',\n",
       "               '2021-08-20 23:00:00', '2021-08-21 00:00:00'],\n",
       "              dtype='datetime64[ns]', length=481, freq='H')"
      ]
     },
     "execution_count": 6,
     "metadata": {},
     "output_type": "execute_result"
    }
   ],
   "source": [
    "pd.date_range('2021-08-01','2021-08-21', freq='H')"
   ]
  },
  {
   "cell_type": "code",
   "execution_count": 7,
   "id": "ef5b75d0-86d4-4599-a07c-2f62c2bd93a9",
   "metadata": {},
   "outputs": [
    {
     "data": {
      "text/plain": [
       "DatetimeIndex(['2020-01-31', '2020-02-28', '2020-03-31', '2020-04-30',\n",
       "               '2020-05-29', '2020-06-30', '2020-07-31', '2020-08-31',\n",
       "               '2020-09-30', '2020-10-30', '2020-11-30', '2020-12-31'],\n",
       "              dtype='datetime64[ns]', freq='BM')"
      ]
     },
     "execution_count": 7,
     "metadata": {},
     "output_type": "execute_result"
    }
   ],
   "source": [
    "pd.date_range('2020-01-01','2020-12-31', freq='BM')"
   ]
  },
  {
   "cell_type": "code",
   "execution_count": 8,
   "id": "060d5f0b-d8bf-42f8-a9be-e4a1e5e032ad",
   "metadata": {},
   "outputs": [
    {
     "data": {
      "text/plain": [
       "DatetimeIndex(['2020-01-01', '2020-02-01', '2020-03-01', '2020-04-01',\n",
       "               '2020-05-01', '2020-06-01', '2020-07-01', '2020-08-01',\n",
       "               '2020-09-01', '2020-10-01', '2020-11-01', '2020-12-01'],\n",
       "              dtype='datetime64[ns]', freq='MS')"
      ]
     },
     "execution_count": 8,
     "metadata": {},
     "output_type": "execute_result"
    }
   ],
   "source": [
    "pd.date_range('2020-01-01','2020-12-31', freq='MS')"
   ]
  },
  {
   "cell_type": "markdown",
   "id": "8942d806-9f0d-4f0c-aca7-b07c71d174c3",
   "metadata": {},
   "source": [
    "## Frenquencies & Date Offset"
   ]
  },
  {
   "cell_type": "code",
   "execution_count": 9,
   "id": "bdb53b1a-e8de-41be-9880-9f2a5fa3e3a1",
   "metadata": {},
   "outputs": [],
   "source": [
    "from pandas.tseries.offsets import Hour, Minute"
   ]
  },
  {
   "cell_type": "code",
   "execution_count": 10,
   "id": "9b9e29e4-384e-4bec-a6d4-105055627ef8",
   "metadata": {},
   "outputs": [],
   "source": [
    "four_hour = Hour(5)"
   ]
  },
  {
   "cell_type": "code",
   "execution_count": 11,
   "id": "07abdd6f-67b8-4da4-8717-96415a116bf2",
   "metadata": {},
   "outputs": [
    {
     "data": {
      "text/plain": [
       "<5 * Hours>"
      ]
     },
     "execution_count": 11,
     "metadata": {},
     "output_type": "execute_result"
    }
   ],
   "source": [
    "four_hour"
   ]
  },
  {
   "cell_type": "code",
   "execution_count": 12,
   "id": "d44c3625-1696-4b77-95aa-cf01585a0271",
   "metadata": {},
   "outputs": [
    {
     "data": {
      "text/plain": [
       "DatetimeIndex(['2021-08-01 00:00:00', '2021-08-01 04:00:00',\n",
       "               '2021-08-01 08:00:00', '2021-08-01 12:00:00',\n",
       "               '2021-08-01 16:00:00', '2021-08-01 20:00:00',\n",
       "               '2021-08-02 00:00:00', '2021-08-02 04:00:00',\n",
       "               '2021-08-02 08:00:00', '2021-08-02 12:00:00',\n",
       "               '2021-08-02 16:00:00', '2021-08-02 20:00:00',\n",
       "               '2021-08-03 00:00:00', '2021-08-03 04:00:00',\n",
       "               '2021-08-03 08:00:00', '2021-08-03 12:00:00',\n",
       "               '2021-08-03 16:00:00', '2021-08-03 20:00:00',\n",
       "               '2021-08-04 00:00:00'],\n",
       "              dtype='datetime64[ns]', freq='4H')"
      ]
     },
     "execution_count": 12,
     "metadata": {},
     "output_type": "execute_result"
    }
   ],
   "source": [
    "pd.date_range('2021-08-01','2021-08-04', freq='4H')"
   ]
  },
  {
   "cell_type": "code",
   "execution_count": 13,
   "id": "7851ce7c-4e13-4bc5-9a50-9796fc88cad5",
   "metadata": {},
   "outputs": [
    {
     "data": {
      "text/plain": [
       "DatetimeIndex(['2021-08-01 00:00:00', '2021-08-01 01:30:00',\n",
       "               '2021-08-01 03:00:00', '2021-08-01 04:30:00',\n",
       "               '2021-08-01 06:00:00', '2021-08-01 07:30:00',\n",
       "               '2021-08-01 09:00:00', '2021-08-01 10:30:00',\n",
       "               '2021-08-01 12:00:00', '2021-08-01 13:30:00',\n",
       "               '2021-08-01 15:00:00', '2021-08-01 16:30:00',\n",
       "               '2021-08-01 18:00:00', '2021-08-01 19:30:00',\n",
       "               '2021-08-01 21:00:00', '2021-08-01 22:30:00',\n",
       "               '2021-08-02 00:00:00', '2021-08-02 01:30:00',\n",
       "               '2021-08-02 03:00:00', '2021-08-02 04:30:00',\n",
       "               '2021-08-02 06:00:00', '2021-08-02 07:30:00',\n",
       "               '2021-08-02 09:00:00', '2021-08-02 10:30:00',\n",
       "               '2021-08-02 12:00:00', '2021-08-02 13:30:00',\n",
       "               '2021-08-02 15:00:00', '2021-08-02 16:30:00',\n",
       "               '2021-08-02 18:00:00', '2021-08-02 19:30:00',\n",
       "               '2021-08-02 21:00:00', '2021-08-02 22:30:00',\n",
       "               '2021-08-03 00:00:00', '2021-08-03 01:30:00',\n",
       "               '2021-08-03 03:00:00', '2021-08-03 04:30:00',\n",
       "               '2021-08-03 06:00:00', '2021-08-03 07:30:00',\n",
       "               '2021-08-03 09:00:00', '2021-08-03 10:30:00',\n",
       "               '2021-08-03 12:00:00', '2021-08-03 13:30:00',\n",
       "               '2021-08-03 15:00:00', '2021-08-03 16:30:00',\n",
       "               '2021-08-03 18:00:00', '2021-08-03 19:30:00',\n",
       "               '2021-08-03 21:00:00', '2021-08-03 22:30:00',\n",
       "               '2021-08-04 00:00:00', '2021-08-04 01:30:00',\n",
       "               '2021-08-04 03:00:00', '2021-08-04 04:30:00',\n",
       "               '2021-08-04 06:00:00', '2021-08-04 07:30:00',\n",
       "               '2021-08-04 09:00:00', '2021-08-04 10:30:00',\n",
       "               '2021-08-04 12:00:00', '2021-08-04 13:30:00',\n",
       "               '2021-08-04 15:00:00', '2021-08-04 16:30:00',\n",
       "               '2021-08-04 18:00:00', '2021-08-04 19:30:00',\n",
       "               '2021-08-04 21:00:00', '2021-08-04 22:30:00'],\n",
       "              dtype='datetime64[ns]', freq='90T')"
      ]
     },
     "execution_count": 13,
     "metadata": {},
     "output_type": "execute_result"
    }
   ],
   "source": [
    "pd.date_range('2021-08-01','2021-08-04 23:59', freq='1H30min')"
   ]
  },
  {
   "cell_type": "code",
   "execution_count": 14,
   "id": "0d59bc03-205b-4575-a041-75cb057ec105",
   "metadata": {},
   "outputs": [
    {
     "data": {
      "text/plain": [
       "DatetimeIndex(['2021-07-17', '2021-08-21'], dtype='datetime64[ns]', freq='WOM-3SAT')"
      ]
     },
     "execution_count": 14,
     "metadata": {},
     "output_type": "execute_result"
    }
   ],
   "source": [
    "pd.date_range('2021-07-01','2021-08-31', freq='WOM-3SAT')"
   ]
  },
  {
   "cell_type": "markdown",
   "id": "e166183b-308f-4b2e-9748-4ff81825fb12",
   "metadata": {},
   "source": [
    "## Shifting Data"
   ]
  },
  {
   "cell_type": "code",
   "execution_count": 15,
   "id": "59a0d766-e7fc-46d7-847c-9a88861bf9bd",
   "metadata": {},
   "outputs": [],
   "source": [
    "ts = pd.Series(np.random.randn(4), index=pd.date_range('1/1/2021', periods=4, freq='M'))"
   ]
  },
  {
   "cell_type": "code",
   "execution_count": 16,
   "id": "62257c9c-1d9b-4c4e-9926-a2ed34b8fe59",
   "metadata": {},
   "outputs": [
    {
     "data": {
      "text/plain": [
       "2021-01-31   -0.285780\n",
       "2021-02-28    0.687449\n",
       "2021-03-31   -2.184839\n",
       "2021-04-30    0.933231\n",
       "Freq: M, dtype: float64"
      ]
     },
     "execution_count": 16,
     "metadata": {},
     "output_type": "execute_result"
    }
   ],
   "source": [
    "ts"
   ]
  },
  {
   "cell_type": "code",
   "execution_count": 17,
   "id": "1621a3eb-89d1-4560-bd32-2c36b40a9124",
   "metadata": {},
   "outputs": [
    {
     "data": {
      "text/plain": [
       "2021-01-31         NaN\n",
       "2021-02-28         NaN\n",
       "2021-03-31   -0.285780\n",
       "2021-04-30    0.687449\n",
       "Freq: M, dtype: float64"
      ]
     },
     "execution_count": 17,
     "metadata": {},
     "output_type": "execute_result"
    }
   ],
   "source": [
    "ts.shift(2)"
   ]
  },
  {
   "cell_type": "code",
   "execution_count": 18,
   "id": "7db330b1-d98e-4c4d-9022-021d655c1842",
   "metadata": {},
   "outputs": [
    {
     "data": {
      "text/plain": [
       "2021-01-31   -2.184839\n",
       "2021-02-28    0.933231\n",
       "2021-03-31         NaN\n",
       "2021-04-30         NaN\n",
       "Freq: M, dtype: float64"
      ]
     },
     "execution_count": 18,
     "metadata": {},
     "output_type": "execute_result"
    }
   ],
   "source": [
    "ts.shift(-2)"
   ]
  },
  {
   "cell_type": "code",
   "execution_count": 19,
   "id": "c7873c95-e88d-4929-b4f1-7364069a6785",
   "metadata": {},
   "outputs": [
    {
     "data": {
      "text/plain": [
       "2021-01-31   -0.285780\n",
       "2021-02-28    0.687449\n",
       "2021-03-31   -2.184839\n",
       "2021-04-30    0.933231\n",
       "Freq: M, dtype: float64"
      ]
     },
     "execution_count": 19,
     "metadata": {},
     "output_type": "execute_result"
    }
   ],
   "source": [
    "ts"
   ]
  },
  {
   "cell_type": "code",
   "execution_count": 20,
   "id": "34acdc9c-13af-4ceb-b0a8-cd8eff720326",
   "metadata": {},
   "outputs": [],
   "source": [
    "from datetime import datetime"
   ]
  },
  {
   "cell_type": "code",
   "execution_count": 21,
   "id": "f84a2074-ca7c-428e-aee8-97f6260c61dd",
   "metadata": {},
   "outputs": [],
   "source": [
    "from pandas.tseries.offsets import Day, MonthEnd"
   ]
  },
  {
   "cell_type": "code",
   "execution_count": 22,
   "id": "cfb7b685-be33-4f8d-850f-79e3bd31c3e6",
   "metadata": {},
   "outputs": [],
   "source": [
    "now = datetime(2021,8,10)"
   ]
  },
  {
   "cell_type": "code",
   "execution_count": 23,
   "id": "9225ac08-5ec4-4776-9b85-06f996ecdfa6",
   "metadata": {},
   "outputs": [
    {
     "data": {
      "text/plain": [
       "datetime.datetime(2021, 8, 10, 0, 0)"
      ]
     },
     "execution_count": 23,
     "metadata": {},
     "output_type": "execute_result"
    }
   ],
   "source": [
    "now"
   ]
  },
  {
   "cell_type": "code",
   "execution_count": 27,
   "id": "7c38eb9f",
   "metadata": {},
   "outputs": [
    {
     "data": {
      "text/plain": [
       "<3 * Days>"
      ]
     },
     "execution_count": 27,
     "metadata": {},
     "output_type": "execute_result"
    }
   ],
   "source": [
    "3*Day()"
   ]
  },
  {
   "cell_type": "code",
   "execution_count": 28,
   "id": "c284ecad",
   "metadata": {},
   "outputs": [
    {
     "data": {
      "text/plain": [
       "Timestamp('2021-08-11 00:00:00')"
      ]
     },
     "execution_count": 28,
     "metadata": {},
     "output_type": "execute_result"
    }
   ],
   "source": [
    "now + Day()"
   ]
  },
  {
   "cell_type": "code",
   "execution_count": 29,
   "id": "814460bb-7f53-447c-a207-3441eb48271f",
   "metadata": {},
   "outputs": [
    {
     "data": {
      "text/plain": [
       "Timestamp('2021-08-13 00:00:00')"
      ]
     },
     "execution_count": 29,
     "metadata": {},
     "output_type": "execute_result"
    }
   ],
   "source": [
    "now + 3 * Day()"
   ]
  },
  {
   "cell_type": "code",
   "execution_count": 30,
   "id": "43989d2a-a773-4dc3-ada3-26cac5292dbf",
   "metadata": {},
   "outputs": [
    {
     "data": {
      "text/plain": [
       "datetime.datetime(2021, 8, 10, 0, 0)"
      ]
     },
     "execution_count": 30,
     "metadata": {},
     "output_type": "execute_result"
    }
   ],
   "source": [
    "now"
   ]
  },
  {
   "cell_type": "code",
   "execution_count": 31,
   "id": "2044ed39-6650-42b5-b335-fae7e8131a50",
   "metadata": {},
   "outputs": [
    {
     "data": {
      "text/plain": [
       "Timestamp('2021-08-31 00:00:00')"
      ]
     },
     "execution_count": 31,
     "metadata": {},
     "output_type": "execute_result"
    }
   ],
   "source": [
    "now + MonthEnd()"
   ]
  },
  {
   "cell_type": "code",
   "execution_count": 32,
   "id": "6f6221ce-2898-47d6-83c7-dacc0d046219",
   "metadata": {},
   "outputs": [
    {
     "data": {
      "text/plain": [
       "datetime.datetime(2021, 8, 10, 0, 0)"
      ]
     },
     "execution_count": 32,
     "metadata": {},
     "output_type": "execute_result"
    }
   ],
   "source": [
    "now"
   ]
  },
  {
   "cell_type": "code",
   "execution_count": 33,
   "id": "ccec73a7-edde-4791-8c88-1a953d823a2c",
   "metadata": {},
   "outputs": [
    {
     "data": {
      "text/plain": [
       "Timestamp('2021-10-31 00:00:00')"
      ]
     },
     "execution_count": 33,
     "metadata": {},
     "output_type": "execute_result"
    }
   ],
   "source": [
    "now + MonthEnd(3)"
   ]
  },
  {
   "cell_type": "code",
   "execution_count": 34,
   "id": "bd87dcc6-feca-4f38-8dd4-4763ca6c20ec",
   "metadata": {},
   "outputs": [
    {
     "data": {
      "text/plain": [
       "datetime.datetime(2021, 8, 10, 0, 0)"
      ]
     },
     "execution_count": 34,
     "metadata": {},
     "output_type": "execute_result"
    }
   ],
   "source": [
    "now"
   ]
  },
  {
   "cell_type": "code",
   "execution_count": 35,
   "id": "ac259b19-9f42-42b3-a803-366356ac60eb",
   "metadata": {},
   "outputs": [],
   "source": [
    "from pandas.tseries.offsets import SemiMonthEnd, SemiMonthBegin"
   ]
  },
  {
   "cell_type": "code",
   "execution_count": 36,
   "id": "f3282d80-bee3-41c4-b7ed-57e49e27ce95",
   "metadata": {},
   "outputs": [
    {
     "data": {
      "text/plain": [
       "Timestamp('2021-08-15 00:00:00')"
      ]
     },
     "execution_count": 36,
     "metadata": {},
     "output_type": "execute_result"
    }
   ],
   "source": [
    "now + SemiMonthEnd()"
   ]
  },
  {
   "cell_type": "code",
   "execution_count": 37,
   "id": "fe420b65-ae62-4bdc-8212-5e6a7a344744",
   "metadata": {},
   "outputs": [
    {
     "data": {
      "text/plain": [
       "Timestamp('2021-08-15 00:00:00')"
      ]
     },
     "execution_count": 37,
     "metadata": {},
     "output_type": "execute_result"
    }
   ],
   "source": [
    "now + SemiMonthBegin()"
   ]
  },
  {
   "cell_type": "code",
   "execution_count": 38,
   "id": "a7dea5d5-f079-4a35-a3c2-42ce233bf061",
   "metadata": {},
   "outputs": [
    {
     "data": {
      "text/plain": [
       "datetime.datetime(2021, 8, 10, 0, 0)"
      ]
     },
     "execution_count": 38,
     "metadata": {},
     "output_type": "execute_result"
    }
   ],
   "source": [
    "now"
   ]
  },
  {
   "cell_type": "code",
   "execution_count": 39,
   "id": "470dcdec-e8fd-4eef-beb2-fb78d14c8cad",
   "metadata": {},
   "outputs": [],
   "source": [
    "res = MonthEnd()"
   ]
  },
  {
   "cell_type": "code",
   "execution_count": 40,
   "id": "778521cc-af09-43b9-b853-3c4d7774fb6c",
   "metadata": {},
   "outputs": [
    {
     "data": {
      "text/plain": [
       "<MonthEnd>"
      ]
     },
     "execution_count": 40,
     "metadata": {},
     "output_type": "execute_result"
    }
   ],
   "source": [
    "res"
   ]
  },
  {
   "cell_type": "code",
   "execution_count": 41,
   "id": "cf12cafe-4691-4806-8461-165a879daddc",
   "metadata": {},
   "outputs": [
    {
     "data": {
      "text/plain": [
       "pandas._libs.tslibs.offsets.MonthEnd"
      ]
     },
     "execution_count": 41,
     "metadata": {},
     "output_type": "execute_result"
    }
   ],
   "source": [
    "type(res)"
   ]
  },
  {
   "cell_type": "code",
   "execution_count": 42,
   "id": "3d981593-9393-42d5-8a87-4fb942310c6e",
   "metadata": {},
   "outputs": [
    {
     "data": {
      "text/plain": [
       "Timestamp('2021-07-31 00:00:00')"
      ]
     },
     "execution_count": 42,
     "metadata": {},
     "output_type": "execute_result"
    }
   ],
   "source": [
    "res.rollback(now)"
   ]
  },
  {
   "cell_type": "code",
   "execution_count": 43,
   "id": "8a3e0608-e3de-4154-8523-4ba406635c31",
   "metadata": {},
   "outputs": [
    {
     "data": {
      "text/plain": [
       "Timestamp('2021-08-31 00:00:00')"
      ]
     },
     "execution_count": 43,
     "metadata": {},
     "output_type": "execute_result"
    }
   ],
   "source": [
    "res.rollforward(now)"
   ]
  },
  {
   "cell_type": "markdown",
   "id": "ebc6db39-5c24-4082-aff9-8dfc84ab5ed0",
   "metadata": {},
   "source": [
    "## Timezone"
   ]
  },
  {
   "cell_type": "code",
   "execution_count": 44,
   "id": "a0fe7af3-97e5-4186-94f2-5a22826ccc84",
   "metadata": {},
   "outputs": [],
   "source": [
    "import pytz"
   ]
  },
  {
   "cell_type": "code",
   "execution_count": 45,
   "id": "228057d3-e1bf-4dc4-a4dc-672a731ecc3d",
   "metadata": {},
   "outputs": [
    {
     "data": {
      "text/plain": [
       "['Africa/Abidjan',\n",
       " 'Africa/Accra',\n",
       " 'Africa/Addis_Ababa',\n",
       " 'Africa/Algiers',\n",
       " 'Africa/Asmara',\n",
       " 'Africa/Bamako',\n",
       " 'Africa/Bangui',\n",
       " 'Africa/Banjul',\n",
       " 'Africa/Bissau',\n",
       " 'Africa/Blantyre',\n",
       " 'Africa/Brazzaville',\n",
       " 'Africa/Bujumbura',\n",
       " 'Africa/Cairo',\n",
       " 'Africa/Casablanca',\n",
       " 'Africa/Ceuta',\n",
       " 'Africa/Conakry',\n",
       " 'Africa/Dakar',\n",
       " 'Africa/Dar_es_Salaam',\n",
       " 'Africa/Djibouti',\n",
       " 'Africa/Douala',\n",
       " 'Africa/El_Aaiun',\n",
       " 'Africa/Freetown',\n",
       " 'Africa/Gaborone',\n",
       " 'Africa/Harare',\n",
       " 'Africa/Johannesburg',\n",
       " 'Africa/Juba',\n",
       " 'Africa/Kampala',\n",
       " 'Africa/Khartoum',\n",
       " 'Africa/Kigali',\n",
       " 'Africa/Kinshasa',\n",
       " 'Africa/Lagos',\n",
       " 'Africa/Libreville',\n",
       " 'Africa/Lome',\n",
       " 'Africa/Luanda',\n",
       " 'Africa/Lubumbashi',\n",
       " 'Africa/Lusaka',\n",
       " 'Africa/Malabo',\n",
       " 'Africa/Maputo',\n",
       " 'Africa/Maseru',\n",
       " 'Africa/Mbabane',\n",
       " 'Africa/Mogadishu',\n",
       " 'Africa/Monrovia',\n",
       " 'Africa/Nairobi',\n",
       " 'Africa/Ndjamena',\n",
       " 'Africa/Niamey',\n",
       " 'Africa/Nouakchott',\n",
       " 'Africa/Ouagadougou',\n",
       " 'Africa/Porto-Novo',\n",
       " 'Africa/Sao_Tome',\n",
       " 'Africa/Tripoli',\n",
       " 'Africa/Tunis',\n",
       " 'Africa/Windhoek',\n",
       " 'America/Adak',\n",
       " 'America/Anchorage',\n",
       " 'America/Anguilla',\n",
       " 'America/Antigua',\n",
       " 'America/Araguaina',\n",
       " 'America/Argentina/Buenos_Aires',\n",
       " 'America/Argentina/Catamarca',\n",
       " 'America/Argentina/Cordoba',\n",
       " 'America/Argentina/Jujuy',\n",
       " 'America/Argentina/La_Rioja',\n",
       " 'America/Argentina/Mendoza',\n",
       " 'America/Argentina/Rio_Gallegos',\n",
       " 'America/Argentina/Salta',\n",
       " 'America/Argentina/San_Juan',\n",
       " 'America/Argentina/San_Luis',\n",
       " 'America/Argentina/Tucuman',\n",
       " 'America/Argentina/Ushuaia',\n",
       " 'America/Aruba',\n",
       " 'America/Asuncion',\n",
       " 'America/Atikokan',\n",
       " 'America/Bahia',\n",
       " 'America/Bahia_Banderas',\n",
       " 'America/Barbados',\n",
       " 'America/Belem',\n",
       " 'America/Belize',\n",
       " 'America/Blanc-Sablon',\n",
       " 'America/Boa_Vista',\n",
       " 'America/Bogota',\n",
       " 'America/Boise',\n",
       " 'America/Cambridge_Bay',\n",
       " 'America/Campo_Grande',\n",
       " 'America/Cancun',\n",
       " 'America/Caracas',\n",
       " 'America/Cayenne',\n",
       " 'America/Cayman',\n",
       " 'America/Chicago',\n",
       " 'America/Chihuahua',\n",
       " 'America/Costa_Rica',\n",
       " 'America/Creston',\n",
       " 'America/Cuiaba',\n",
       " 'America/Curacao',\n",
       " 'America/Danmarkshavn',\n",
       " 'America/Dawson',\n",
       " 'America/Dawson_Creek',\n",
       " 'America/Denver',\n",
       " 'America/Detroit',\n",
       " 'America/Dominica',\n",
       " 'America/Edmonton',\n",
       " 'America/Eirunepe',\n",
       " 'America/El_Salvador',\n",
       " 'America/Fort_Nelson',\n",
       " 'America/Fortaleza',\n",
       " 'America/Glace_Bay',\n",
       " 'America/Goose_Bay',\n",
       " 'America/Grand_Turk',\n",
       " 'America/Grenada',\n",
       " 'America/Guadeloupe',\n",
       " 'America/Guatemala',\n",
       " 'America/Guayaquil',\n",
       " 'America/Guyana',\n",
       " 'America/Halifax',\n",
       " 'America/Havana',\n",
       " 'America/Hermosillo',\n",
       " 'America/Indiana/Indianapolis',\n",
       " 'America/Indiana/Knox',\n",
       " 'America/Indiana/Marengo',\n",
       " 'America/Indiana/Petersburg',\n",
       " 'America/Indiana/Tell_City',\n",
       " 'America/Indiana/Vevay',\n",
       " 'America/Indiana/Vincennes',\n",
       " 'America/Indiana/Winamac',\n",
       " 'America/Inuvik',\n",
       " 'America/Iqaluit',\n",
       " 'America/Jamaica',\n",
       " 'America/Juneau',\n",
       " 'America/Kentucky/Louisville',\n",
       " 'America/Kentucky/Monticello',\n",
       " 'America/Kralendijk',\n",
       " 'America/La_Paz',\n",
       " 'America/Lima',\n",
       " 'America/Los_Angeles',\n",
       " 'America/Lower_Princes',\n",
       " 'America/Maceio',\n",
       " 'America/Managua',\n",
       " 'America/Manaus',\n",
       " 'America/Marigot',\n",
       " 'America/Martinique',\n",
       " 'America/Matamoros',\n",
       " 'America/Mazatlan',\n",
       " 'America/Menominee',\n",
       " 'America/Merida',\n",
       " 'America/Metlakatla',\n",
       " 'America/Mexico_City',\n",
       " 'America/Miquelon',\n",
       " 'America/Moncton',\n",
       " 'America/Monterrey',\n",
       " 'America/Montevideo',\n",
       " 'America/Montserrat',\n",
       " 'America/Nassau',\n",
       " 'America/New_York',\n",
       " 'America/Nipigon',\n",
       " 'America/Nome',\n",
       " 'America/Noronha',\n",
       " 'America/North_Dakota/Beulah',\n",
       " 'America/North_Dakota/Center',\n",
       " 'America/North_Dakota/New_Salem',\n",
       " 'America/Nuuk',\n",
       " 'America/Ojinaga',\n",
       " 'America/Panama',\n",
       " 'America/Pangnirtung',\n",
       " 'America/Paramaribo',\n",
       " 'America/Phoenix',\n",
       " 'America/Port-au-Prince',\n",
       " 'America/Port_of_Spain',\n",
       " 'America/Porto_Velho',\n",
       " 'America/Puerto_Rico',\n",
       " 'America/Punta_Arenas',\n",
       " 'America/Rainy_River',\n",
       " 'America/Rankin_Inlet',\n",
       " 'America/Recife',\n",
       " 'America/Regina',\n",
       " 'America/Resolute',\n",
       " 'America/Rio_Branco',\n",
       " 'America/Santarem',\n",
       " 'America/Santiago',\n",
       " 'America/Santo_Domingo',\n",
       " 'America/Sao_Paulo',\n",
       " 'America/Scoresbysund',\n",
       " 'America/Sitka',\n",
       " 'America/St_Barthelemy',\n",
       " 'America/St_Johns',\n",
       " 'America/St_Kitts',\n",
       " 'America/St_Lucia',\n",
       " 'America/St_Thomas',\n",
       " 'America/St_Vincent',\n",
       " 'America/Swift_Current',\n",
       " 'America/Tegucigalpa',\n",
       " 'America/Thule',\n",
       " 'America/Thunder_Bay',\n",
       " 'America/Tijuana',\n",
       " 'America/Toronto',\n",
       " 'America/Tortola',\n",
       " 'America/Vancouver',\n",
       " 'America/Whitehorse',\n",
       " 'America/Winnipeg',\n",
       " 'America/Yakutat',\n",
       " 'America/Yellowknife',\n",
       " 'Antarctica/Casey',\n",
       " 'Antarctica/Davis',\n",
       " 'Antarctica/DumontDUrville',\n",
       " 'Antarctica/Macquarie',\n",
       " 'Antarctica/Mawson',\n",
       " 'Antarctica/McMurdo',\n",
       " 'Antarctica/Palmer',\n",
       " 'Antarctica/Rothera',\n",
       " 'Antarctica/Syowa',\n",
       " 'Antarctica/Troll',\n",
       " 'Antarctica/Vostok',\n",
       " 'Arctic/Longyearbyen',\n",
       " 'Asia/Aden',\n",
       " 'Asia/Almaty',\n",
       " 'Asia/Amman',\n",
       " 'Asia/Anadyr',\n",
       " 'Asia/Aqtau',\n",
       " 'Asia/Aqtobe',\n",
       " 'Asia/Ashgabat',\n",
       " 'Asia/Atyrau',\n",
       " 'Asia/Baghdad',\n",
       " 'Asia/Bahrain',\n",
       " 'Asia/Baku',\n",
       " 'Asia/Bangkok',\n",
       " 'Asia/Barnaul',\n",
       " 'Asia/Beirut',\n",
       " 'Asia/Bishkek',\n",
       " 'Asia/Brunei',\n",
       " 'Asia/Chita',\n",
       " 'Asia/Choibalsan',\n",
       " 'Asia/Colombo',\n",
       " 'Asia/Damascus',\n",
       " 'Asia/Dhaka',\n",
       " 'Asia/Dili',\n",
       " 'Asia/Dubai',\n",
       " 'Asia/Dushanbe',\n",
       " 'Asia/Famagusta',\n",
       " 'Asia/Gaza',\n",
       " 'Asia/Hebron',\n",
       " 'Asia/Ho_Chi_Minh',\n",
       " 'Asia/Hong_Kong',\n",
       " 'Asia/Hovd',\n",
       " 'Asia/Irkutsk',\n",
       " 'Asia/Jakarta',\n",
       " 'Asia/Jayapura',\n",
       " 'Asia/Jerusalem',\n",
       " 'Asia/Kabul',\n",
       " 'Asia/Kamchatka',\n",
       " 'Asia/Karachi',\n",
       " 'Asia/Kathmandu',\n",
       " 'Asia/Khandyga',\n",
       " 'Asia/Kolkata',\n",
       " 'Asia/Krasnoyarsk',\n",
       " 'Asia/Kuala_Lumpur',\n",
       " 'Asia/Kuching',\n",
       " 'Asia/Kuwait',\n",
       " 'Asia/Macau',\n",
       " 'Asia/Magadan',\n",
       " 'Asia/Makassar',\n",
       " 'Asia/Manila',\n",
       " 'Asia/Muscat',\n",
       " 'Asia/Nicosia',\n",
       " 'Asia/Novokuznetsk',\n",
       " 'Asia/Novosibirsk',\n",
       " 'Asia/Omsk',\n",
       " 'Asia/Oral',\n",
       " 'Asia/Phnom_Penh',\n",
       " 'Asia/Pontianak',\n",
       " 'Asia/Pyongyang',\n",
       " 'Asia/Qatar',\n",
       " 'Asia/Qostanay',\n",
       " 'Asia/Qyzylorda',\n",
       " 'Asia/Riyadh',\n",
       " 'Asia/Sakhalin',\n",
       " 'Asia/Samarkand',\n",
       " 'Asia/Seoul',\n",
       " 'Asia/Shanghai',\n",
       " 'Asia/Singapore',\n",
       " 'Asia/Srednekolymsk',\n",
       " 'Asia/Taipei',\n",
       " 'Asia/Tashkent',\n",
       " 'Asia/Tbilisi',\n",
       " 'Asia/Tehran',\n",
       " 'Asia/Thimphu',\n",
       " 'Asia/Tokyo',\n",
       " 'Asia/Tomsk',\n",
       " 'Asia/Ulaanbaatar',\n",
       " 'Asia/Urumqi',\n",
       " 'Asia/Ust-Nera',\n",
       " 'Asia/Vientiane',\n",
       " 'Asia/Vladivostok',\n",
       " 'Asia/Yakutsk',\n",
       " 'Asia/Yangon',\n",
       " 'Asia/Yekaterinburg',\n",
       " 'Asia/Yerevan',\n",
       " 'Atlantic/Azores',\n",
       " 'Atlantic/Bermuda',\n",
       " 'Atlantic/Canary',\n",
       " 'Atlantic/Cape_Verde',\n",
       " 'Atlantic/Faroe',\n",
       " 'Atlantic/Madeira',\n",
       " 'Atlantic/Reykjavik',\n",
       " 'Atlantic/South_Georgia',\n",
       " 'Atlantic/St_Helena',\n",
       " 'Atlantic/Stanley',\n",
       " 'Australia/Adelaide',\n",
       " 'Australia/Brisbane',\n",
       " 'Australia/Broken_Hill',\n",
       " 'Australia/Darwin',\n",
       " 'Australia/Eucla',\n",
       " 'Australia/Hobart',\n",
       " 'Australia/Lindeman',\n",
       " 'Australia/Lord_Howe',\n",
       " 'Australia/Melbourne',\n",
       " 'Australia/Perth',\n",
       " 'Australia/Sydney',\n",
       " 'Canada/Atlantic',\n",
       " 'Canada/Central',\n",
       " 'Canada/Eastern',\n",
       " 'Canada/Mountain',\n",
       " 'Canada/Newfoundland',\n",
       " 'Canada/Pacific',\n",
       " 'Europe/Amsterdam',\n",
       " 'Europe/Andorra',\n",
       " 'Europe/Astrakhan',\n",
       " 'Europe/Athens',\n",
       " 'Europe/Belgrade',\n",
       " 'Europe/Berlin',\n",
       " 'Europe/Bratislava',\n",
       " 'Europe/Brussels',\n",
       " 'Europe/Bucharest',\n",
       " 'Europe/Budapest',\n",
       " 'Europe/Busingen',\n",
       " 'Europe/Chisinau',\n",
       " 'Europe/Copenhagen',\n",
       " 'Europe/Dublin',\n",
       " 'Europe/Gibraltar',\n",
       " 'Europe/Guernsey',\n",
       " 'Europe/Helsinki',\n",
       " 'Europe/Isle_of_Man',\n",
       " 'Europe/Istanbul',\n",
       " 'Europe/Jersey',\n",
       " 'Europe/Kaliningrad',\n",
       " 'Europe/Kiev',\n",
       " 'Europe/Kirov',\n",
       " 'Europe/Lisbon',\n",
       " 'Europe/Ljubljana',\n",
       " 'Europe/London',\n",
       " 'Europe/Luxembourg',\n",
       " 'Europe/Madrid',\n",
       " 'Europe/Malta',\n",
       " 'Europe/Mariehamn',\n",
       " 'Europe/Minsk',\n",
       " 'Europe/Monaco',\n",
       " 'Europe/Moscow',\n",
       " 'Europe/Oslo',\n",
       " 'Europe/Paris',\n",
       " 'Europe/Podgorica',\n",
       " 'Europe/Prague',\n",
       " 'Europe/Riga',\n",
       " 'Europe/Rome',\n",
       " 'Europe/Samara',\n",
       " 'Europe/San_Marino',\n",
       " 'Europe/Sarajevo',\n",
       " 'Europe/Saratov',\n",
       " 'Europe/Simferopol',\n",
       " 'Europe/Skopje',\n",
       " 'Europe/Sofia',\n",
       " 'Europe/Stockholm',\n",
       " 'Europe/Tallinn',\n",
       " 'Europe/Tirane',\n",
       " 'Europe/Ulyanovsk',\n",
       " 'Europe/Uzhgorod',\n",
       " 'Europe/Vaduz',\n",
       " 'Europe/Vatican',\n",
       " 'Europe/Vienna',\n",
       " 'Europe/Vilnius',\n",
       " 'Europe/Volgograd',\n",
       " 'Europe/Warsaw',\n",
       " 'Europe/Zagreb',\n",
       " 'Europe/Zaporozhye',\n",
       " 'Europe/Zurich',\n",
       " 'GMT',\n",
       " 'Indian/Antananarivo',\n",
       " 'Indian/Chagos',\n",
       " 'Indian/Christmas',\n",
       " 'Indian/Cocos',\n",
       " 'Indian/Comoro',\n",
       " 'Indian/Kerguelen',\n",
       " 'Indian/Mahe',\n",
       " 'Indian/Maldives',\n",
       " 'Indian/Mauritius',\n",
       " 'Indian/Mayotte',\n",
       " 'Indian/Reunion',\n",
       " 'Pacific/Apia',\n",
       " 'Pacific/Auckland',\n",
       " 'Pacific/Bougainville',\n",
       " 'Pacific/Chatham',\n",
       " 'Pacific/Chuuk',\n",
       " 'Pacific/Easter',\n",
       " 'Pacific/Efate',\n",
       " 'Pacific/Enderbury',\n",
       " 'Pacific/Fakaofo',\n",
       " 'Pacific/Fiji',\n",
       " 'Pacific/Funafuti',\n",
       " 'Pacific/Galapagos',\n",
       " 'Pacific/Gambier',\n",
       " 'Pacific/Guadalcanal',\n",
       " 'Pacific/Guam',\n",
       " 'Pacific/Honolulu',\n",
       " 'Pacific/Kiritimati',\n",
       " 'Pacific/Kosrae',\n",
       " 'Pacific/Kwajalein',\n",
       " 'Pacific/Majuro',\n",
       " 'Pacific/Marquesas',\n",
       " 'Pacific/Midway',\n",
       " 'Pacific/Nauru',\n",
       " 'Pacific/Niue',\n",
       " 'Pacific/Norfolk',\n",
       " 'Pacific/Noumea',\n",
       " 'Pacific/Pago_Pago',\n",
       " 'Pacific/Palau',\n",
       " 'Pacific/Pitcairn',\n",
       " 'Pacific/Pohnpei',\n",
       " 'Pacific/Port_Moresby',\n",
       " 'Pacific/Rarotonga',\n",
       " 'Pacific/Saipan',\n",
       " 'Pacific/Tahiti',\n",
       " 'Pacific/Tarawa',\n",
       " 'Pacific/Tongatapu',\n",
       " 'Pacific/Wake',\n",
       " 'Pacific/Wallis',\n",
       " 'US/Alaska',\n",
       " 'US/Arizona',\n",
       " 'US/Central',\n",
       " 'US/Eastern',\n",
       " 'US/Hawaii',\n",
       " 'US/Mountain',\n",
       " 'US/Pacific',\n",
       " 'UTC']"
      ]
     },
     "execution_count": 45,
     "metadata": {},
     "output_type": "execute_result"
    }
   ],
   "source": [
    "pytz.common_timezones[::]"
   ]
  },
  {
   "cell_type": "code",
   "execution_count": 46,
   "id": "5c826614-3f4f-47a1-9084-c2aa3892fe75",
   "metadata": {},
   "outputs": [],
   "source": [
    "tz = pytz.timezone('Asia/Kolkata')"
   ]
  },
  {
   "cell_type": "code",
   "execution_count": 47,
   "id": "7722eb48-0508-4f6b-82e9-47533724430b",
   "metadata": {},
   "outputs": [
    {
     "data": {
      "text/plain": [
       "<DstTzInfo 'Asia/Kolkata' LMT+5:53:00 STD>"
      ]
     },
     "execution_count": 47,
     "metadata": {},
     "output_type": "execute_result"
    }
   ],
   "source": [
    "tz"
   ]
  },
  {
   "cell_type": "code",
   "execution_count": 48,
   "id": "24f5e014-b9b5-4990-9aab-1b7b6789ea62",
   "metadata": {},
   "outputs": [
    {
     "data": {
      "text/plain": [
       "DatetimeIndex(['2021-03-09 09:30:00+05:30', '2021-03-10 09:30:00+05:30',\n",
       "               '2021-03-11 09:30:00+05:30', '2021-03-12 09:30:00+05:30',\n",
       "               '2021-03-13 09:30:00+05:30', '2021-03-14 09:30:00+05:30',\n",
       "               '2021-03-15 09:30:00+05:30', '2021-03-16 09:30:00+05:30',\n",
       "               '2021-03-17 09:30:00+05:30', '2021-03-18 09:30:00+05:30'],\n",
       "              dtype='datetime64[ns, Asia/Kolkata]', freq='D')"
      ]
     },
     "execution_count": 48,
     "metadata": {},
     "output_type": "execute_result"
    }
   ],
   "source": [
    "pd.date_range('3/9/2021 9:30', periods=10, freq='D', tz = 'Asia/Kolkata')"
   ]
  },
  {
   "cell_type": "markdown",
   "id": "65da4da0-6b4a-4596-943b-29ada4b285bf",
   "metadata": {},
   "source": [
    "### Periods"
   ]
  },
  {
   "cell_type": "raw",
   "id": "d1c25966-49f7-49f5-87a0-34a630392b07",
   "metadata": {},
   "source": [
    "Periods represent timespan like days, months, quarters or year"
   ]
  },
  {
   "cell_type": "code",
   "execution_count": 49,
   "id": "22d5f219-69f9-4946-a6a1-b3ec34ebdc3c",
   "metadata": {},
   "outputs": [],
   "source": [
    "p = pd.Period(2021, freq='A-DEC')"
   ]
  },
  {
   "cell_type": "code",
   "execution_count": 50,
   "id": "a7d1ea1f-3989-40d9-8058-7f5e7b0b50d6",
   "metadata": {},
   "outputs": [
    {
     "data": {
      "text/plain": [
       "Period('2021', 'A-DEC')"
      ]
     },
     "execution_count": 50,
     "metadata": {},
     "output_type": "execute_result"
    }
   ],
   "source": [
    "p"
   ]
  },
  {
   "cell_type": "code",
   "execution_count": 51,
   "id": "22953829-57a6-4ae2-b5f2-cb8c83cdb18c",
   "metadata": {},
   "outputs": [
    {
     "data": {
      "text/plain": [
       "Period('2026', 'A-DEC')"
      ]
     },
     "execution_count": 51,
     "metadata": {},
     "output_type": "execute_result"
    }
   ],
   "source": [
    "p + 5"
   ]
  },
  {
   "cell_type": "code",
   "execution_count": 52,
   "id": "5b9b0001-df33-426e-8dbb-ba949df12961",
   "metadata": {},
   "outputs": [
    {
     "data": {
      "text/plain": [
       "Period('2021', 'A-DEC')"
      ]
     },
     "execution_count": 52,
     "metadata": {},
     "output_type": "execute_result"
    }
   ],
   "source": [
    "p"
   ]
  },
  {
   "cell_type": "code",
   "execution_count": 53,
   "id": "2f522951-83c2-42ae-b448-832bab0e4fb7",
   "metadata": {},
   "outputs": [
    {
     "data": {
      "text/plain": [
       "Period('2016', 'A-DEC')"
      ]
     },
     "execution_count": 53,
     "metadata": {},
     "output_type": "execute_result"
    }
   ],
   "source": [
    "p - 5"
   ]
  },
  {
   "cell_type": "code",
   "execution_count": 54,
   "id": "a0a744c2-ede5-4df1-b010-179f8bbd45f5",
   "metadata": {},
   "outputs": [
    {
     "data": {
      "text/plain": [
       "Period('2021', 'A-DEC')"
      ]
     },
     "execution_count": 54,
     "metadata": {},
     "output_type": "execute_result"
    }
   ],
   "source": [
    "p"
   ]
  },
  {
   "cell_type": "code",
   "execution_count": 55,
   "id": "a5d99497-433a-4a10-8331-00a366e08524",
   "metadata": {},
   "outputs": [
    {
     "data": {
      "text/plain": [
       "Period('2021-01', 'M')"
      ]
     },
     "execution_count": 55,
     "metadata": {},
     "output_type": "execute_result"
    }
   ],
   "source": [
    "p.asfreq('M', 'start')"
   ]
  },
  {
   "cell_type": "code",
   "execution_count": 56,
   "id": "6609116d-093e-4292-a8f6-9957b82b85ce",
   "metadata": {},
   "outputs": [
    {
     "data": {
      "text/plain": [
       "Period('2021-12', 'M')"
      ]
     },
     "execution_count": 56,
     "metadata": {},
     "output_type": "execute_result"
    }
   ],
   "source": [
    "p.asfreq('M', 'end')"
   ]
  },
  {
   "cell_type": "code",
   "execution_count": 57,
   "id": "f07a9187-b4ba-4628-86e3-9756809b0ab7",
   "metadata": {},
   "outputs": [],
   "source": [
    "data = pd.date_range('2000-01-01',periods=100,freq='D')"
   ]
  },
  {
   "cell_type": "code",
   "execution_count": 58,
   "id": "915fb687-bc67-4656-9e16-cdde0c31f8bb",
   "metadata": {},
   "outputs": [
    {
     "data": {
      "text/plain": [
       "DatetimeIndex(['2000-01-01', '2000-01-02', '2000-01-03', '2000-01-04',\n",
       "               '2000-01-05', '2000-01-06', '2000-01-07', '2000-01-08',\n",
       "               '2000-01-09', '2000-01-10', '2000-01-11', '2000-01-12',\n",
       "               '2000-01-13', '2000-01-14', '2000-01-15', '2000-01-16',\n",
       "               '2000-01-17', '2000-01-18', '2000-01-19', '2000-01-20',\n",
       "               '2000-01-21', '2000-01-22', '2000-01-23', '2000-01-24',\n",
       "               '2000-01-25', '2000-01-26', '2000-01-27', '2000-01-28',\n",
       "               '2000-01-29', '2000-01-30', '2000-01-31', '2000-02-01',\n",
       "               '2000-02-02', '2000-02-03', '2000-02-04', '2000-02-05',\n",
       "               '2000-02-06', '2000-02-07', '2000-02-08', '2000-02-09',\n",
       "               '2000-02-10', '2000-02-11', '2000-02-12', '2000-02-13',\n",
       "               '2000-02-14', '2000-02-15', '2000-02-16', '2000-02-17',\n",
       "               '2000-02-18', '2000-02-19', '2000-02-20', '2000-02-21',\n",
       "               '2000-02-22', '2000-02-23', '2000-02-24', '2000-02-25',\n",
       "               '2000-02-26', '2000-02-27', '2000-02-28', '2000-02-29',\n",
       "               '2000-03-01', '2000-03-02', '2000-03-03', '2000-03-04',\n",
       "               '2000-03-05', '2000-03-06', '2000-03-07', '2000-03-08',\n",
       "               '2000-03-09', '2000-03-10', '2000-03-11', '2000-03-12',\n",
       "               '2000-03-13', '2000-03-14', '2000-03-15', '2000-03-16',\n",
       "               '2000-03-17', '2000-03-18', '2000-03-19', '2000-03-20',\n",
       "               '2000-03-21', '2000-03-22', '2000-03-23', '2000-03-24',\n",
       "               '2000-03-25', '2000-03-26', '2000-03-27', '2000-03-28',\n",
       "               '2000-03-29', '2000-03-30', '2000-03-31', '2000-04-01',\n",
       "               '2000-04-02', '2000-04-03', '2000-04-04', '2000-04-05',\n",
       "               '2000-04-06', '2000-04-07', '2000-04-08', '2000-04-09'],\n",
       "              dtype='datetime64[ns]', freq='D')"
      ]
     },
     "execution_count": 58,
     "metadata": {},
     "output_type": "execute_result"
    }
   ],
   "source": [
    "data"
   ]
  },
  {
   "cell_type": "code",
   "execution_count": 59,
   "id": "6ac34d1d-c628-4ac0-a9f1-c4fb4d8aa4a3",
   "metadata": {},
   "outputs": [],
   "source": [
    "ts = pd.Series(np.random.randn(len(data)),index=data)"
   ]
  },
  {
   "cell_type": "code",
   "execution_count": 60,
   "id": "7d962e77-6ed6-47fe-ae74-fbe5dfbd6aa7",
   "metadata": {},
   "outputs": [
    {
     "data": {
      "text/plain": [
       "2000-01-01    0.060803\n",
       "2000-01-02    1.511294\n",
       "2000-01-03   -0.164653\n",
       "2000-01-04    0.804054\n",
       "2000-01-05   -1.742384\n",
       "                ...   \n",
       "2000-04-05    0.220032\n",
       "2000-04-06    0.067228\n",
       "2000-04-07    0.060917\n",
       "2000-04-08   -0.319666\n",
       "2000-04-09   -1.057460\n",
       "Freq: D, Length: 100, dtype: float64"
      ]
     },
     "execution_count": 60,
     "metadata": {},
     "output_type": "execute_result"
    }
   ],
   "source": [
    "ts"
   ]
  },
  {
   "cell_type": "code",
   "execution_count": 61,
   "id": "641fb754-4b77-4d16-9963-9a8a52cee8bd",
   "metadata": {},
   "outputs": [
    {
     "data": {
      "text/plain": [
       "2000-01-31    0.059540\n",
       "2000-02-29    0.039162\n",
       "2000-03-31   -0.060246\n",
       "2000-04-30    0.129113\n",
       "Freq: M, dtype: float64"
      ]
     },
     "execution_count": 61,
     "metadata": {},
     "output_type": "execute_result"
    }
   ],
   "source": [
    "ts.resample('M').mean()"
   ]
  },
  {
   "cell_type": "code",
   "execution_count": 62,
   "id": "b20649d5-cf27-40ae-831f-835adf2ffb33",
   "metadata": {},
   "outputs": [
    {
     "data": {
      "text/plain": [
       "2000-01-31   -1.742384\n",
       "2000-02-29   -3.929786\n",
       "2000-03-31   -2.771363\n",
       "2000-04-30   -1.057460\n",
       "Freq: M, dtype: float64"
      ]
     },
     "execution_count": 62,
     "metadata": {},
     "output_type": "execute_result"
    }
   ],
   "source": [
    "ts.resample('M').min()"
   ]
  },
  {
   "cell_type": "code",
   "execution_count": 63,
   "id": "77852f5d-4955-402a-9ba3-88857706e2aa",
   "metadata": {},
   "outputs": [
    {
     "data": {
      "text/plain": [
       "2000-01-31    1.570935\n",
       "2000-02-29    1.899234\n",
       "2000-03-31    2.092279\n",
       "2000-04-30    1.123635\n",
       "Freq: M, dtype: float64"
      ]
     },
     "execution_count": 63,
     "metadata": {},
     "output_type": "execute_result"
    }
   ],
   "source": [
    "ts.resample('M').max()"
   ]
  }
 ],
 "metadata": {
  "kernelspec": {
   "display_name": "Python 3",
   "language": "python",
   "name": "python3"
  },
  "language_info": {
   "codemirror_mode": {
    "name": "ipython",
    "version": 3
   },
   "file_extension": ".py",
   "mimetype": "text/x-python",
   "name": "python",
   "nbconvert_exporter": "python",
   "pygments_lexer": "ipython3",
   "version": "3.8.8"
  }
 },
 "nbformat": 4,
 "nbformat_minor": 5
}
