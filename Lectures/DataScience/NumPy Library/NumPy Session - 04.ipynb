{
 "cells": [
  {
   "cell_type": "raw",
   "id": "a95fe015",
   "metadata": {},
   "source": [
    "Date - 26/06/2021  09:15 AM to 11:30 AM"
   ]
  },
  {
   "cell_type": "code",
   "execution_count": 1,
   "id": "3b35eb91",
   "metadata": {},
   "outputs": [],
   "source": [
    "import numpy as np"
   ]
  },
  {
   "cell_type": "markdown",
   "id": "50ce76e0",
   "metadata": {},
   "source": [
    "# Mathematical Functions With NumPy"
   ]
  },
  {
   "cell_type": "markdown",
   "id": "52f05801",
   "metadata": {},
   "source": [
    "## Trignometric Functions"
   ]
  },
  {
   "cell_type": "code",
   "execution_count": 5,
   "id": "d9f321bb",
   "metadata": {},
   "outputs": [
    {
     "data": {
      "text/plain": [
       "array([[  0,  30,  45,  60,  90],\n",
       "       [ 30,  45,  90, 180, 270]])"
      ]
     },
     "execution_count": 5,
     "metadata": {},
     "output_type": "execute_result"
    }
   ],
   "source": [
    "a = np.array([[0,30,45,60,90],[30,45,90,180,270]])\n",
    "a"
   ]
  },
  {
   "cell_type": "markdown",
   "id": "9e1447dc",
   "metadata": {},
   "source": [
    "### numpy.sin"
   ]
  },
  {
   "cell_type": "code",
   "execution_count": 6,
   "id": "036f2eed",
   "metadata": {},
   "outputs": [
    {
     "data": {
      "text/plain": [
       "array([[ 0.        , -0.98803162,  0.85090352, -0.30481062,  0.89399666],\n",
       "       [-0.98803162,  0.85090352,  0.89399666, -0.80115264, -0.17604595]])"
      ]
     },
     "execution_count": 6,
     "metadata": {},
     "output_type": "execute_result"
    }
   ],
   "source": [
    "np.sin(a)"
   ]
  },
  {
   "cell_type": "markdown",
   "id": "5324685e",
   "metadata": {},
   "source": [
    "### numpy.sinh"
   ]
  },
  {
   "cell_type": "code",
   "execution_count": 10,
   "id": "1b50529c",
   "metadata": {},
   "outputs": [
    {
     "data": {
      "text/plain": [
       "array([[0.00000000e+000, 5.34323729e+012, 1.74671355e+019,\n",
       "        5.71003695e+025, 6.10201647e+038],\n",
       "       [5.34323729e+012, 1.74671355e+019, 6.10201647e+038,\n",
       "        7.44692100e+077, 9.08824693e+116]])"
      ]
     },
     "execution_count": 10,
     "metadata": {},
     "output_type": "execute_result"
    }
   ],
   "source": [
    "np.sinh(a)"
   ]
  },
  {
   "cell_type": "markdown",
   "id": "55b5d497",
   "metadata": {},
   "source": [
    "### numpy.cos"
   ]
  },
  {
   "cell_type": "code",
   "execution_count": 7,
   "id": "f6c46b74",
   "metadata": {},
   "outputs": [
    {
     "data": {
      "text/plain": [
       "array([[ 1.        ,  0.15425145,  0.52532199, -0.95241298, -0.44807362],\n",
       "       [ 0.15425145,  0.52532199, -0.44807362, -0.59846007,  0.98438195]])"
      ]
     },
     "execution_count": 7,
     "metadata": {},
     "output_type": "execute_result"
    }
   ],
   "source": [
    "np.cos(a)"
   ]
  },
  {
   "cell_type": "markdown",
   "id": "c3dbc436",
   "metadata": {},
   "source": [
    "### numpy.cosh"
   ]
  },
  {
   "cell_type": "code",
   "execution_count": 11,
   "id": "51e4017a",
   "metadata": {},
   "outputs": [
    {
     "data": {
      "text/plain": [
       "array([[1.00000000e+000, 5.34323729e+012, 1.74671355e+019,\n",
       "        5.71003695e+025, 6.10201647e+038],\n",
       "       [5.34323729e+012, 1.74671355e+019, 6.10201647e+038,\n",
       "        7.44692100e+077, 9.08824693e+116]])"
      ]
     },
     "execution_count": 11,
     "metadata": {},
     "output_type": "execute_result"
    }
   ],
   "source": [
    "np.cosh(a)"
   ]
  },
  {
   "cell_type": "markdown",
   "id": "e42140f0",
   "metadata": {},
   "source": [
    "### numpy.tan"
   ]
  },
  {
   "cell_type": "code",
   "execution_count": 8,
   "id": "7551ac34",
   "metadata": {},
   "outputs": [
    {
     "data": {
      "text/plain": [
       "array([[ 0.        , -6.4053312 ,  1.61977519,  0.32004039, -1.99520041],\n",
       "       [-6.4053312 ,  1.61977519, -1.99520041,  1.33869021, -0.17883906]])"
      ]
     },
     "execution_count": 8,
     "metadata": {},
     "output_type": "execute_result"
    }
   ],
   "source": [
    "np.tan(a)"
   ]
  },
  {
   "cell_type": "markdown",
   "id": "54b27147",
   "metadata": {},
   "source": [
    "### numpy.tanh"
   ]
  },
  {
   "cell_type": "code",
   "execution_count": 12,
   "id": "89486aa5",
   "metadata": {
    "scrolled": true
   },
   "outputs": [
    {
     "data": {
      "text/plain": [
       "array([[0., 1., 1., 1., 1.],\n",
       "       [1., 1., 1., 1., 1.]])"
      ]
     },
     "execution_count": 12,
     "metadata": {},
     "output_type": "execute_result"
    }
   ],
   "source": [
    "np.tanh(a)"
   ]
  },
  {
   "cell_type": "markdown",
   "id": "a33d17d6",
   "metadata": {},
   "source": [
    "## Arithmetic Functions"
   ]
  },
  {
   "cell_type": "code",
   "execution_count": 25,
   "id": "314820be",
   "metadata": {},
   "outputs": [
    {
     "data": {
      "text/plain": [
       "array([[0, 1, 2],\n",
       "       [3, 4, 5],\n",
       "       [6, 7, 8]])"
      ]
     },
     "execution_count": 25,
     "metadata": {},
     "output_type": "execute_result"
    }
   ],
   "source": [
    "a = np.arange(9).reshape(3,3)\n",
    "a"
   ]
  },
  {
   "cell_type": "code",
   "execution_count": 26,
   "id": "6f1f81da",
   "metadata": {},
   "outputs": [
    {
     "data": {
      "text/plain": [
       "array([3, 4, 5])"
      ]
     },
     "execution_count": 26,
     "metadata": {},
     "output_type": "execute_result"
    }
   ],
   "source": [
    "b = np.array([3,4,5])\n",
    "b"
   ]
  },
  {
   "cell_type": "markdown",
   "id": "178edcea",
   "metadata": {},
   "source": [
    "### numpy.add"
   ]
  },
  {
   "cell_type": "code",
   "execution_count": 27,
   "id": "c14cb606",
   "metadata": {},
   "outputs": [
    {
     "data": {
      "text/plain": [
       "array([[ 3,  5,  7],\n",
       "       [ 6,  8, 10],\n",
       "       [ 9, 11, 13]])"
      ]
     },
     "execution_count": 27,
     "metadata": {},
     "output_type": "execute_result"
    }
   ],
   "source": [
    "np.add(a,b)"
   ]
  },
  {
   "cell_type": "markdown",
   "id": "15907afa",
   "metadata": {},
   "source": [
    "### numpy.substract"
   ]
  },
  {
   "cell_type": "code",
   "execution_count": 28,
   "id": "296a4ef8",
   "metadata": {},
   "outputs": [
    {
     "data": {
      "text/plain": [
       "array([[-3, -3, -3],\n",
       "       [ 0,  0,  0],\n",
       "       [ 3,  3,  3]])"
      ]
     },
     "execution_count": 28,
     "metadata": {},
     "output_type": "execute_result"
    }
   ],
   "source": [
    "np.subtract(a,b)"
   ]
  },
  {
   "cell_type": "markdown",
   "id": "e59256f5",
   "metadata": {},
   "source": [
    "### numpy.multiply"
   ]
  },
  {
   "cell_type": "code",
   "execution_count": 29,
   "id": "83be349e",
   "metadata": {},
   "outputs": [
    {
     "data": {
      "text/plain": [
       "array([[ 0,  4, 10],\n",
       "       [ 9, 16, 25],\n",
       "       [18, 28, 40]])"
      ]
     },
     "execution_count": 29,
     "metadata": {},
     "output_type": "execute_result"
    }
   ],
   "source": [
    "np.multiply(a,b)"
   ]
  },
  {
   "cell_type": "markdown",
   "id": "b6575fa2",
   "metadata": {},
   "source": [
    "### numpy.divide"
   ]
  },
  {
   "cell_type": "code",
   "execution_count": 30,
   "id": "6f20d97a",
   "metadata": {},
   "outputs": [
    {
     "data": {
      "text/plain": [
       "array([[0.  , 0.25, 0.4 ],\n",
       "       [1.  , 1.  , 1.  ],\n",
       "       [2.  , 1.75, 1.6 ]])"
      ]
     },
     "execution_count": 30,
     "metadata": {},
     "output_type": "execute_result"
    }
   ],
   "source": [
    "np.divide(a,b)"
   ]
  },
  {
   "cell_type": "markdown",
   "id": "914494b1",
   "metadata": {},
   "source": [
    "### numpy.mod"
   ]
  },
  {
   "cell_type": "code",
   "execution_count": 32,
   "id": "a2c37402",
   "metadata": {},
   "outputs": [
    {
     "data": {
      "text/plain": [
       "array([[0, 1, 2],\n",
       "       [0, 0, 0],\n",
       "       [0, 3, 3]], dtype=int32)"
      ]
     },
     "execution_count": 32,
     "metadata": {},
     "output_type": "execute_result"
    }
   ],
   "source": [
    "np.mod(a,b)"
   ]
  },
  {
   "cell_type": "markdown",
   "id": "bb3730c3",
   "metadata": {},
   "source": [
    "### numpy.remainder"
   ]
  },
  {
   "cell_type": "code",
   "execution_count": 33,
   "id": "697ca4bc",
   "metadata": {},
   "outputs": [
    {
     "data": {
      "text/plain": [
       "array([[0, 1, 2],\n",
       "       [0, 0, 0],\n",
       "       [0, 3, 3]], dtype=int32)"
      ]
     },
     "execution_count": 33,
     "metadata": {},
     "output_type": "execute_result"
    }
   ],
   "source": [
    "np.remainder(a,b)"
   ]
  },
  {
   "cell_type": "markdown",
   "id": "f3b0ea9f",
   "metadata": {},
   "source": [
    "## Complex Numbers Real & Imaginary"
   ]
  },
  {
   "cell_type": "code",
   "execution_count": 35,
   "id": "2531ef58",
   "metadata": {},
   "outputs": [
    {
     "data": {
      "text/plain": [
       "array([-0.-5.6j,  0.+0.3j, 11.+0.j ,  1.+3.j ])"
      ]
     },
     "execution_count": 35,
     "metadata": {},
     "output_type": "execute_result"
    }
   ],
   "source": [
    "arr = np.array([-5.6j, 0.3j, 11., 1+3j])\n",
    "arr"
   ]
  },
  {
   "cell_type": "code",
   "execution_count": 38,
   "id": "5a27e641",
   "metadata": {},
   "outputs": [
    {
     "data": {
      "text/plain": [
       "array([[-0.-5.6j,  0.+0.3j, 11.+0.j ,  1.+3.j ],\n",
       "       [-0.-5.6j,  0.+0.3j, 11.+0.j ,  1.+3.j ]])"
      ]
     },
     "execution_count": 38,
     "metadata": {},
     "output_type": "execute_result"
    }
   ],
   "source": [
    "arr2 = np.array([[-5.6j, 0.3j, 11., 1+3j],[-5.6j, 0.3j, 11., 1+3j]])\n",
    "arr2"
   ]
  },
  {
   "cell_type": "markdown",
   "id": "b42254d9",
   "metadata": {},
   "source": [
    "### numpy.real"
   ]
  },
  {
   "cell_type": "code",
   "execution_count": 36,
   "id": "08958231",
   "metadata": {},
   "outputs": [
    {
     "data": {
      "text/plain": [
       "array([-0.,  0., 11.,  1.])"
      ]
     },
     "execution_count": 36,
     "metadata": {},
     "output_type": "execute_result"
    }
   ],
   "source": [
    "np.real(arr)"
   ]
  },
  {
   "cell_type": "code",
   "execution_count": 39,
   "id": "4c08d1a2",
   "metadata": {},
   "outputs": [
    {
     "data": {
      "text/plain": [
       "array([[-0.,  0., 11.,  1.],\n",
       "       [-0.,  0., 11.,  1.]])"
      ]
     },
     "execution_count": 39,
     "metadata": {},
     "output_type": "execute_result"
    }
   ],
   "source": [
    "np.real(arr2)"
   ]
  },
  {
   "cell_type": "markdown",
   "id": "653c1fbb",
   "metadata": {},
   "source": [
    "### numpy.imag"
   ]
  },
  {
   "cell_type": "code",
   "execution_count": 37,
   "id": "3606b4c1",
   "metadata": {},
   "outputs": [
    {
     "data": {
      "text/plain": [
       "array([-5.6,  0.3,  0. ,  3. ])"
      ]
     },
     "execution_count": 37,
     "metadata": {},
     "output_type": "execute_result"
    }
   ],
   "source": [
    "np.imag(arr)"
   ]
  },
  {
   "cell_type": "code",
   "execution_count": 40,
   "id": "9ebb5ba1",
   "metadata": {},
   "outputs": [
    {
     "data": {
      "text/plain": [
       "array([[-5.6,  0.3,  0. ,  3. ],\n",
       "       [-5.6,  0.3,  0. ,  3. ]])"
      ]
     },
     "execution_count": 40,
     "metadata": {},
     "output_type": "execute_result"
    }
   ],
   "source": [
    "np.imag(arr2)"
   ]
  },
  {
   "cell_type": "markdown",
   "id": "cedfd650",
   "metadata": {},
   "source": [
    "## Statistical Functions"
   ]
  },
  {
   "cell_type": "code",
   "execution_count": 41,
   "id": "55ef90f2",
   "metadata": {},
   "outputs": [
    {
     "data": {
      "text/plain": [
       "array([[3, 7, 5],\n",
       "       [8, 4, 3],\n",
       "       [2, 4, 9]])"
      ]
     },
     "execution_count": 41,
     "metadata": {},
     "output_type": "execute_result"
    }
   ],
   "source": [
    "a = np.array([[3,7,5],[8,4,3],[2,4,9]])\n",
    "a"
   ]
  },
  {
   "cell_type": "code",
   "execution_count": 42,
   "id": "70a166af",
   "metadata": {},
   "outputs": [
    {
     "data": {
      "text/plain": [
       "array([3, 7, 5, 8, 4, 3, 2, 4, 9])"
      ]
     },
     "execution_count": 42,
     "metadata": {},
     "output_type": "execute_result"
    }
   ],
   "source": [
    "b = np.array([3,7,5,8,4,3,2,4,9])\n",
    "b"
   ]
  },
  {
   "cell_type": "markdown",
   "id": "2933543a",
   "metadata": {},
   "source": [
    "### numpy.min"
   ]
  },
  {
   "cell_type": "code",
   "execution_count": 44,
   "id": "add11abb",
   "metadata": {},
   "outputs": [
    {
     "data": {
      "text/plain": [
       "(2, 2)"
      ]
     },
     "execution_count": 44,
     "metadata": {},
     "output_type": "execute_result"
    }
   ],
   "source": [
    "np.min(a), np.min(b)"
   ]
  },
  {
   "cell_type": "markdown",
   "id": "9b509188",
   "metadata": {},
   "source": [
    "### numpy.amin"
   ]
  },
  {
   "cell_type": "code",
   "execution_count": 50,
   "id": "0e8df705",
   "metadata": {},
   "outputs": [
    {
     "data": {
      "text/plain": [
       "(2, 2)"
      ]
     },
     "execution_count": 50,
     "metadata": {},
     "output_type": "execute_result"
    }
   ],
   "source": [
    "np.amin(a), np.amin(b)  # overall min val"
   ]
  },
  {
   "cell_type": "code",
   "execution_count": 61,
   "id": "7c6a2992",
   "metadata": {},
   "outputs": [
    {
     "data": {
      "text/plain": [
       "(array([2, 4, 3]), array([2, 4, 3]))"
      ]
     },
     "execution_count": 61,
     "metadata": {},
     "output_type": "execute_result"
    }
   ],
   "source": [
    "np.min(a, axis=0), np.amin(a,axis=0)  # row wise min val"
   ]
  },
  {
   "cell_type": "code",
   "execution_count": 62,
   "id": "80ffe4ca",
   "metadata": {},
   "outputs": [
    {
     "data": {
      "text/plain": [
       "(array([3, 3, 2]), array([3, 3, 2]))"
      ]
     },
     "execution_count": 62,
     "metadata": {},
     "output_type": "execute_result"
    }
   ],
   "source": [
    "np.min(a, axis=1), np.amin(a,axis=1)  # column wise min val"
   ]
  },
  {
   "cell_type": "markdown",
   "id": "70a00044",
   "metadata": {},
   "source": [
    "### numpy.max"
   ]
  },
  {
   "cell_type": "code",
   "execution_count": 60,
   "id": "603973df",
   "metadata": {},
   "outputs": [
    {
     "data": {
      "text/plain": [
       "(9, 9)"
      ]
     },
     "execution_count": 60,
     "metadata": {},
     "output_type": "execute_result"
    }
   ],
   "source": [
    "np.max(a), np.max(b)"
   ]
  },
  {
   "cell_type": "markdown",
   "id": "e098c924",
   "metadata": {},
   "source": [
    "### numpy.amax"
   ]
  },
  {
   "cell_type": "code",
   "execution_count": 57,
   "id": "6a7defe7",
   "metadata": {},
   "outputs": [
    {
     "data": {
      "text/plain": [
       "(9, 9)"
      ]
     },
     "execution_count": 57,
     "metadata": {},
     "output_type": "execute_result"
    }
   ],
   "source": [
    "np.amax(a), np.amax(b)"
   ]
  },
  {
   "cell_type": "code",
   "execution_count": 63,
   "id": "cacfea91",
   "metadata": {},
   "outputs": [
    {
     "data": {
      "text/plain": [
       "(array([8, 7, 9]), array([8, 7, 9]))"
      ]
     },
     "execution_count": 63,
     "metadata": {},
     "output_type": "execute_result"
    }
   ],
   "source": [
    "np.max(a, axis=0), np.amax(a, axis=0)  # row wise max val"
   ]
  },
  {
   "cell_type": "code",
   "execution_count": 64,
   "id": "16da006d",
   "metadata": {},
   "outputs": [
    {
     "data": {
      "text/plain": [
       "(array([7, 8, 9]), array([7, 8, 9]))"
      ]
     },
     "execution_count": 64,
     "metadata": {},
     "output_type": "execute_result"
    }
   ],
   "source": [
    "np.max(a, axis=1), np.amax(a, axis=1)  # column wise max val"
   ]
  },
  {
   "cell_type": "markdown",
   "id": "024e55d4",
   "metadata": {},
   "source": [
    "### numpy.mean"
   ]
  },
  {
   "cell_type": "code",
   "execution_count": 65,
   "id": "07d24b62",
   "metadata": {},
   "outputs": [
    {
     "data": {
      "text/plain": [
       "(5.0, 5.0)"
      ]
     },
     "execution_count": 65,
     "metadata": {},
     "output_type": "execute_result"
    }
   ],
   "source": [
    "np.mean(a), np.mean(b)"
   ]
  },
  {
   "cell_type": "code",
   "execution_count": 66,
   "id": "2788023f",
   "metadata": {},
   "outputs": [
    {
     "data": {
      "text/plain": [
       "array([4.33333333, 5.        , 5.66666667])"
      ]
     },
     "execution_count": 66,
     "metadata": {},
     "output_type": "execute_result"
    }
   ],
   "source": [
    "np.mean(a, axis=0)  # row wise mean value"
   ]
  },
  {
   "cell_type": "code",
   "execution_count": 67,
   "id": "c60340f4",
   "metadata": {},
   "outputs": [
    {
     "data": {
      "text/plain": [
       "array([5., 5., 5.])"
      ]
     },
     "execution_count": 67,
     "metadata": {},
     "output_type": "execute_result"
    }
   ],
   "source": [
    "np.mean(a, axis=1)  # column wise mean value"
   ]
  },
  {
   "cell_type": "markdown",
   "id": "ea9473e5",
   "metadata": {},
   "source": [
    "### numpy.median"
   ]
  },
  {
   "cell_type": "code",
   "execution_count": 68,
   "id": "79088633",
   "metadata": {},
   "outputs": [
    {
     "data": {
      "text/plain": [
       "(4.0, 4.0)"
      ]
     },
     "execution_count": 68,
     "metadata": {},
     "output_type": "execute_result"
    }
   ],
   "source": [
    "np.median(a), np.median(b)"
   ]
  },
  {
   "cell_type": "code",
   "execution_count": 69,
   "id": "c1f03405",
   "metadata": {},
   "outputs": [
    {
     "data": {
      "text/plain": [
       "array([3., 4., 5.])"
      ]
     },
     "execution_count": 69,
     "metadata": {},
     "output_type": "execute_result"
    }
   ],
   "source": [
    "np.median(a, axis=0)  # row wise median value"
   ]
  },
  {
   "cell_type": "code",
   "execution_count": 70,
   "id": "6ec9f9a6",
   "metadata": {},
   "outputs": [
    {
     "data": {
      "text/plain": [
       "array([5., 4., 4.])"
      ]
     },
     "execution_count": 70,
     "metadata": {},
     "output_type": "execute_result"
    }
   ],
   "source": [
    "np.median(a, axis=1)  # column wise median value"
   ]
  },
  {
   "cell_type": "markdown",
   "id": "291281ce",
   "metadata": {},
   "source": [
    "### numpy.percentile"
   ]
  },
  {
   "cell_type": "code",
   "execution_count": 72,
   "id": "e567492e",
   "metadata": {},
   "outputs": [
    {
     "data": {
      "text/plain": [
       "(3.0, 3.0)"
      ]
     },
     "execution_count": 72,
     "metadata": {},
     "output_type": "execute_result"
    }
   ],
   "source": [
    "np.percentile(a,25), np.percentile(b,25)"
   ]
  },
  {
   "cell_type": "code",
   "execution_count": 73,
   "id": "ff1089fc",
   "metadata": {},
   "outputs": [
    {
     "data": {
      "text/plain": [
       "array([2.5, 4. , 4. ])"
      ]
     },
     "execution_count": 73,
     "metadata": {},
     "output_type": "execute_result"
    }
   ],
   "source": [
    "np.percentile(a,25,axis=0)  # row wise"
   ]
  },
  {
   "cell_type": "code",
   "execution_count": 74,
   "id": "2000adde",
   "metadata": {},
   "outputs": [
    {
     "data": {
      "text/plain": [
       "array([4. , 3.5, 3. ])"
      ]
     },
     "execution_count": 74,
     "metadata": {},
     "output_type": "execute_result"
    }
   ],
   "source": [
    "np.percentile(a,25,axis=1)  #column wise"
   ]
  },
  {
   "cell_type": "markdown",
   "id": "9763394c",
   "metadata": {},
   "source": [
    "### numpy.std"
   ]
  },
  {
   "cell_type": "code",
   "execution_count": 75,
   "id": "1abeb249",
   "metadata": {},
   "outputs": [
    {
     "data": {
      "text/plain": [
       "(2.309401076758503, 2.309401076758503)"
      ]
     },
     "execution_count": 75,
     "metadata": {},
     "output_type": "execute_result"
    }
   ],
   "source": [
    "np.std(a), np.std(b)"
   ]
  },
  {
   "cell_type": "code",
   "execution_count": 76,
   "id": "c610facd",
   "metadata": {},
   "outputs": [
    {
     "data": {
      "text/plain": [
       "array([2.62466929, 1.41421356, 2.49443826])"
      ]
     },
     "execution_count": 76,
     "metadata": {},
     "output_type": "execute_result"
    }
   ],
   "source": [
    "np.std(a, axis=0)  # row wise"
   ]
  },
  {
   "cell_type": "code",
   "execution_count": 77,
   "id": "6c147adb",
   "metadata": {},
   "outputs": [
    {
     "data": {
      "text/plain": [
       "array([1.63299316, 2.1602469 , 2.94392029])"
      ]
     },
     "execution_count": 77,
     "metadata": {},
     "output_type": "execute_result"
    }
   ],
   "source": [
    "np.std(a, axis=1)  # column wise"
   ]
  },
  {
   "cell_type": "markdown",
   "id": "b791a4d4",
   "metadata": {},
   "source": [
    "### numpy.var"
   ]
  },
  {
   "cell_type": "code",
   "execution_count": 78,
   "id": "c0dc69d3",
   "metadata": {},
   "outputs": [
    {
     "data": {
      "text/plain": [
       "(5.333333333333333, 5.333333333333333)"
      ]
     },
     "execution_count": 78,
     "metadata": {},
     "output_type": "execute_result"
    }
   ],
   "source": [
    "np.var(a), np.var(b)"
   ]
  },
  {
   "cell_type": "code",
   "execution_count": 79,
   "id": "f211de4c",
   "metadata": {},
   "outputs": [
    {
     "data": {
      "text/plain": [
       "array([6.88888889, 2.        , 6.22222222])"
      ]
     },
     "execution_count": 79,
     "metadata": {},
     "output_type": "execute_result"
    }
   ],
   "source": [
    "np.var(a, axis=0)  # row wise"
   ]
  },
  {
   "cell_type": "code",
   "execution_count": 80,
   "id": "61705b4f",
   "metadata": {},
   "outputs": [
    {
     "data": {
      "text/plain": [
       "array([2.66666667, 4.66666667, 8.66666667])"
      ]
     },
     "execution_count": 80,
     "metadata": {},
     "output_type": "execute_result"
    }
   ],
   "source": [
    "np.var(a, axis=1)  # column wise"
   ]
  },
  {
   "cell_type": "markdown",
   "id": "0b72620f",
   "metadata": {},
   "source": [
    "### numpy.quantile"
   ]
  },
  {
   "cell_type": "code",
   "execution_count": 85,
   "id": "3c6dc96c",
   "metadata": {},
   "outputs": [
    {
     "data": {
      "text/plain": [
       "(2, 2)"
      ]
     },
     "execution_count": 85,
     "metadata": {},
     "output_type": "execute_result"
    }
   ],
   "source": [
    "np.quantile(a,0), np.quantile(b,0)"
   ]
  },
  {
   "cell_type": "code",
   "execution_count": 86,
   "id": "dbcca45b",
   "metadata": {},
   "outputs": [
    {
     "data": {
      "text/plain": [
       "(9, 9)"
      ]
     },
     "execution_count": 86,
     "metadata": {},
     "output_type": "execute_result"
    }
   ],
   "source": [
    "np.quantile(a,1), np.quantile(b,1)"
   ]
  },
  {
   "cell_type": "code",
   "execution_count": 87,
   "id": "f60c03de",
   "metadata": {},
   "outputs": [
    {
     "data": {
      "text/plain": [
       "(array([2, 4, 3]), array([8, 7, 9]))"
      ]
     },
     "execution_count": 87,
     "metadata": {},
     "output_type": "execute_result"
    }
   ],
   "source": [
    "np.quantile(a,0, axis=0), np.quantile(a,1, axis=0)"
   ]
  },
  {
   "cell_type": "code",
   "execution_count": 88,
   "id": "ae484c7d",
   "metadata": {},
   "outputs": [
    {
     "data": {
      "text/plain": [
       "(array([3, 3, 2]), array([7, 8, 9]))"
      ]
     },
     "execution_count": 88,
     "metadata": {},
     "output_type": "execute_result"
    }
   ],
   "source": [
    "np.quantile(a,0, axis=1), np.quantile(a,1, axis=1)"
   ]
  },
  {
   "cell_type": "markdown",
   "id": "31a2cb9b",
   "metadata": {},
   "source": [
    "## numpy.around"
   ]
  },
  {
   "cell_type": "code",
   "execution_count": 16,
   "id": "f11cade1",
   "metadata": {},
   "outputs": [
    {
     "data": {
      "text/plain": [
       "array([[ 10.        ,  14.73684211,  19.47368421,  24.21052632,\n",
       "         28.94736842],\n",
       "       [ 33.68421053,  38.42105263,  43.15789474,  47.89473684,\n",
       "         52.63157895],\n",
       "       [ 57.36842105,  62.10526316,  66.84210526,  71.57894737,\n",
       "         76.31578947],\n",
       "       [ 81.05263158,  85.78947368,  90.52631579,  95.26315789,\n",
       "        100.        ]])"
      ]
     },
     "execution_count": 16,
     "metadata": {},
     "output_type": "execute_result"
    }
   ],
   "source": [
    "arr = np.linspace(10,100,20).reshape(4,5)\n",
    "arr"
   ]
  },
  {
   "cell_type": "code",
   "execution_count": 17,
   "id": "df7b9301",
   "metadata": {},
   "outputs": [
    {
     "data": {
      "text/plain": [
       "array([[ 10.,  15.,  19.,  24.,  29.],\n",
       "       [ 34.,  38.,  43.,  48.,  53.],\n",
       "       [ 57.,  62.,  67.,  72.,  76.],\n",
       "       [ 81.,  86.,  91.,  95., 100.]])"
      ]
     },
     "execution_count": 17,
     "metadata": {},
     "output_type": "execute_result"
    }
   ],
   "source": [
    "np.around(arr)"
   ]
  },
  {
   "cell_type": "code",
   "execution_count": 18,
   "id": "5e505d8e",
   "metadata": {},
   "outputs": [
    {
     "data": {
      "text/plain": [
       "array([[ 10. ,  14.7,  19.5,  24.2,  28.9],\n",
       "       [ 33.7,  38.4,  43.2,  47.9,  52.6],\n",
       "       [ 57.4,  62.1,  66.8,  71.6,  76.3],\n",
       "       [ 81.1,  85.8,  90.5,  95.3, 100. ]])"
      ]
     },
     "execution_count": 18,
     "metadata": {},
     "output_type": "execute_result"
    }
   ],
   "source": [
    "np.around(arr, decimals=1)"
   ]
  },
  {
   "cell_type": "code",
   "execution_count": 19,
   "id": "ff291845",
   "metadata": {},
   "outputs": [
    {
     "data": {
      "text/plain": [
       "array([[ 10.  ,  14.74,  19.47,  24.21,  28.95],\n",
       "       [ 33.68,  38.42,  43.16,  47.89,  52.63],\n",
       "       [ 57.37,  62.11,  66.84,  71.58,  76.32],\n",
       "       [ 81.05,  85.79,  90.53,  95.26, 100.  ]])"
      ]
     },
     "execution_count": 19,
     "metadata": {},
     "output_type": "execute_result"
    }
   ],
   "source": [
    "np.around(arr, decimals=2)"
   ]
  },
  {
   "cell_type": "markdown",
   "id": "368d1509",
   "metadata": {},
   "source": [
    "## numpy.power"
   ]
  },
  {
   "cell_type": "code",
   "execution_count": 23,
   "id": "20c6b9f5",
   "metadata": {},
   "outputs": [
    {
     "data": {
      "text/plain": [
       "array([[    0,   900,  2025,  3600,  8100],\n",
       "       [  900,  2025,  8100, 32400, 72900]], dtype=int32)"
      ]
     },
     "execution_count": 23,
     "metadata": {},
     "output_type": "execute_result"
    }
   ],
   "source": [
    "np.power(a,2)"
   ]
  },
  {
   "cell_type": "code",
   "execution_count": 24,
   "id": "56bf8610",
   "metadata": {},
   "outputs": [
    {
     "data": {
      "text/plain": [
       "array([[   1000.        ,    3200.46654031,    7384.8957574 ,\n",
       "          14190.98994022,   24256.45137775],\n",
       "       [  38218.98235894,   56716.28517277,   80386.06210818,\n",
       "         109866.01545415,  145793.84749964],\n",
       "       [ 188807.26053361,  239543.95684502,  298641.63872285,\n",
       "         366738.00845604,  444470.76833358],\n",
       "       [ 532477.62064441,  631396.2676775 ,  741864.41172183,\n",
       "         864519.75506634, 1000000.        ]])"
      ]
     },
     "execution_count": 24,
     "metadata": {},
     "output_type": "execute_result"
    }
   ],
   "source": [
    "np.power(arr,3)"
   ]
  },
  {
   "cell_type": "markdown",
   "id": "40912f5d",
   "metadata": {},
   "source": [
    "## Matrix Functions"
   ]
  },
  {
   "cell_type": "code",
   "execution_count": 19,
   "id": "9a8cbbd1",
   "metadata": {},
   "outputs": [
    {
     "data": {
      "text/plain": [
       "matrix([[0., 0., 0.],\n",
       "        [0., 0., 0.]])"
      ]
     },
     "execution_count": 19,
     "metadata": {},
     "output_type": "execute_result"
    }
   ],
   "source": [
    "np.matlib.empty((2,3))"
   ]
  },
  {
   "cell_type": "code",
   "execution_count": 21,
   "id": "bfe42a48",
   "metadata": {},
   "outputs": [
    {
     "data": {
      "text/plain": [
       "matrix([[0., 0.],\n",
       "        [0., 0.],\n",
       "        [0., 0.]])"
      ]
     },
     "execution_count": 21,
     "metadata": {},
     "output_type": "execute_result"
    }
   ],
   "source": [
    "np.matlib.zeros((3,2))"
   ]
  },
  {
   "cell_type": "code",
   "execution_count": 22,
   "id": "b384ebe1",
   "metadata": {},
   "outputs": [
    {
     "data": {
      "text/plain": [
       "matrix([[1., 1., 1.],\n",
       "        [1., 1., 1.],\n",
       "        [1., 1., 1.]])"
      ]
     },
     "execution_count": 22,
     "metadata": {},
     "output_type": "execute_result"
    }
   ],
   "source": [
    "np.matlib.ones((3,3))"
   ]
  },
  {
   "cell_type": "code",
   "execution_count": 23,
   "id": "2465bab2",
   "metadata": {},
   "outputs": [
    {
     "data": {
      "text/plain": [
       "matrix([[1., 0., 0., 0.],\n",
       "        [0., 1., 0., 0.],\n",
       "        [0., 0., 1., 0.],\n",
       "        [0., 0., 0., 1.]])"
      ]
     },
     "execution_count": 23,
     "metadata": {},
     "output_type": "execute_result"
    }
   ],
   "source": [
    "np.matlib.eye(4,4)  # identity matrix"
   ]
  },
  {
   "cell_type": "code",
   "execution_count": 24,
   "id": "5ce44c2c",
   "metadata": {},
   "outputs": [
    {
     "data": {
      "text/plain": [
       "matrix([[0.06413338, 0.01530588, 0.52746365],\n",
       "        [0.65409382, 0.56050707, 0.81649651],\n",
       "        [0.09149769, 0.21749924, 0.9665932 ]])"
      ]
     },
     "execution_count": 24,
     "metadata": {},
     "output_type": "execute_result"
    }
   ],
   "source": [
    "np.matlib.rand(3,3)  # generating random values"
   ]
  },
  {
   "cell_type": "code",
   "execution_count": 25,
   "id": "7faefc20",
   "metadata": {},
   "outputs": [
    {
     "data": {
      "text/plain": [
       "([[1, 0], [0, 1]], [[4, 1], [2, 2]])"
      ]
     },
     "execution_count": 25,
     "metadata": {},
     "output_type": "execute_result"
    }
   ],
   "source": [
    "a = [[1,0],[0,1]]\n",
    "b = [[4,1],[2,2]]\n",
    "a, b"
   ]
  },
  {
   "cell_type": "code",
   "execution_count": 26,
   "id": "034afed7",
   "metadata": {},
   "outputs": [
    {
     "data": {
      "text/plain": [
       "array([[4, 1],\n",
       "       [2, 2]])"
      ]
     },
     "execution_count": 26,
     "metadata": {},
     "output_type": "execute_result"
    }
   ],
   "source": [
    "np.matmul(a, b)"
   ]
  },
  {
   "cell_type": "code",
   "execution_count": 27,
   "id": "01dedf1e",
   "metadata": {},
   "outputs": [
    {
     "data": {
      "text/plain": [
       "(array([[[0, 1],\n",
       "         [2, 3]],\n",
       " \n",
       "        [[4, 5],\n",
       "         [6, 7]]]),\n",
       " array([[0, 1],\n",
       "        [2, 3]]))"
      ]
     },
     "execution_count": 27,
     "metadata": {},
     "output_type": "execute_result"
    }
   ],
   "source": [
    "a = np.arange(8).reshape(2,2,2)\n",
    "b = np.arange(4).reshape(2,2)\n",
    "a, b"
   ]
  },
  {
   "cell_type": "code",
   "execution_count": 28,
   "id": "9554b5b1",
   "metadata": {},
   "outputs": [
    {
     "data": {
      "text/plain": [
       "array([[[ 2,  3],\n",
       "        [ 6, 11]],\n",
       "\n",
       "       [[10, 19],\n",
       "        [14, 27]]])"
      ]
     },
     "execution_count": 28,
     "metadata": {},
     "output_type": "execute_result"
    }
   ],
   "source": [
    "np.matmul(a, b)"
   ]
  },
  {
   "cell_type": "code",
   "execution_count": 30,
   "id": "e718df27",
   "metadata": {},
   "outputs": [
    {
     "data": {
      "text/plain": [
       "(array([[1, 2],\n",
       "        [3, 4]]),\n",
       " array([[11, 12],\n",
       "        [13, 14]]))"
      ]
     },
     "execution_count": 30,
     "metadata": {},
     "output_type": "execute_result"
    }
   ],
   "source": [
    "a1 = np.array([[1,2],[3,4]])\n",
    "b1 = np.array([[11,12],[13,14]])\n",
    "a1, b1"
   ]
  },
  {
   "cell_type": "code",
   "execution_count": 31,
   "id": "3332786f",
   "metadata": {},
   "outputs": [
    {
     "data": {
      "text/plain": [
       "array([[37, 40],\n",
       "       [85, 92]])"
      ]
     },
     "execution_count": 31,
     "metadata": {},
     "output_type": "execute_result"
    }
   ],
   "source": [
    "np.dot(a1, b1)"
   ]
  },
  {
   "cell_type": "markdown",
   "id": "47e149c2",
   "metadata": {},
   "source": [
    "## numpy.copy"
   ]
  },
  {
   "cell_type": "code",
   "execution_count": 2,
   "id": "33b375af",
   "metadata": {},
   "outputs": [
    {
     "data": {
      "text/plain": [
       "array([0, 1, 2, 3, 4, 5])"
      ]
     },
     "execution_count": 2,
     "metadata": {},
     "output_type": "execute_result"
    }
   ],
   "source": [
    "a = np.arange(6)\n",
    "a"
   ]
  },
  {
   "cell_type": "code",
   "execution_count": 3,
   "id": "64b363bb",
   "metadata": {},
   "outputs": [],
   "source": [
    "b = a"
   ]
  },
  {
   "cell_type": "code",
   "execution_count": 4,
   "id": "5ebd9b88",
   "metadata": {},
   "outputs": [
    {
     "data": {
      "text/plain": [
       "(988909796496, 988909796496)"
      ]
     },
     "execution_count": 4,
     "metadata": {},
     "output_type": "execute_result"
    }
   ],
   "source": [
    "id(a), id(b)"
   ]
  },
  {
   "cell_type": "code",
   "execution_count": 5,
   "id": "3a372e54",
   "metadata": {},
   "outputs": [],
   "source": [
    "b.shape = 3,2"
   ]
  },
  {
   "cell_type": "code",
   "execution_count": 6,
   "id": "f8b7c4d8",
   "metadata": {},
   "outputs": [
    {
     "data": {
      "text/plain": [
       "(array([[0, 1],\n",
       "        [2, 3],\n",
       "        [4, 5]]),\n",
       " array([[0, 1],\n",
       "        [2, 3],\n",
       "        [4, 5]]))"
      ]
     },
     "execution_count": 6,
     "metadata": {},
     "output_type": "execute_result"
    }
   ],
   "source": [
    "a, b"
   ]
  },
  {
   "cell_type": "code",
   "execution_count": 7,
   "id": "849e5df7",
   "metadata": {},
   "outputs": [
    {
     "data": {
      "text/plain": [
       "(988909796496, 988909796496)"
      ]
     },
     "execution_count": 7,
     "metadata": {},
     "output_type": "execute_result"
    }
   ],
   "source": [
    "id(a), id(b)"
   ]
  },
  {
   "cell_type": "code",
   "execution_count": 8,
   "id": "76229710",
   "metadata": {},
   "outputs": [
    {
     "data": {
      "text/plain": [
       "array([0, 1, 2, 3, 4, 5, 6, 7, 8])"
      ]
     },
     "execution_count": 8,
     "metadata": {},
     "output_type": "execute_result"
    }
   ],
   "source": [
    "arr = np.arange(9)\n",
    "arr"
   ]
  },
  {
   "cell_type": "code",
   "execution_count": 10,
   "id": "3cfad5a7",
   "metadata": {},
   "outputs": [
    {
     "data": {
      "text/plain": [
       "array([0, 1, 2, 3, 4, 5, 6, 7, 8])"
      ]
     },
     "execution_count": 10,
     "metadata": {},
     "output_type": "execute_result"
    }
   ],
   "source": [
    "arr1 = np.copy(arr)\n",
    "arr1"
   ]
  },
  {
   "cell_type": "code",
   "execution_count": 12,
   "id": "7d282a61",
   "metadata": {},
   "outputs": [
    {
     "data": {
      "text/plain": [
       "(988888265040, 988882257456)"
      ]
     },
     "execution_count": 12,
     "metadata": {},
     "output_type": "execute_result"
    }
   ],
   "source": [
    "id(arr), id(arr1)"
   ]
  },
  {
   "cell_type": "markdown",
   "id": "3ee10d46",
   "metadata": {},
   "source": [
    "## Shallow Copy"
   ]
  },
  {
   "cell_type": "code",
   "execution_count": 13,
   "id": "19a04dbd",
   "metadata": {},
   "outputs": [
    {
     "data": {
      "text/plain": [
       "array([[0, 1],\n",
       "       [2, 3],\n",
       "       [4, 5]])"
      ]
     },
     "execution_count": 13,
     "metadata": {},
     "output_type": "execute_result"
    }
   ],
   "source": [
    "arr1 = np.arange(6).reshape(3,2)\n",
    "arr1"
   ]
  },
  {
   "cell_type": "code",
   "execution_count": 14,
   "id": "bb78fb3c",
   "metadata": {},
   "outputs": [
    {
     "data": {
      "text/plain": [
       "array([[0, 1],\n",
       "       [2, 3],\n",
       "       [4, 5]])"
      ]
     },
     "execution_count": 14,
     "metadata": {},
     "output_type": "execute_result"
    }
   ],
   "source": [
    "arr2 = arr1.view()\n",
    "arr2"
   ]
  },
  {
   "cell_type": "code",
   "execution_count": 15,
   "id": "2fb27d1b",
   "metadata": {},
   "outputs": [
    {
     "data": {
      "text/plain": [
       "(989056275632, 989056276112)"
      ]
     },
     "execution_count": 15,
     "metadata": {},
     "output_type": "execute_result"
    }
   ],
   "source": [
    "id(arr1), id(arr2)"
   ]
  },
  {
   "cell_type": "code",
   "execution_count": 16,
   "id": "205d0133",
   "metadata": {},
   "outputs": [],
   "source": [
    "arr2.shape = 2,3"
   ]
  },
  {
   "cell_type": "code",
   "execution_count": 17,
   "id": "7b4f8681",
   "metadata": {
    "scrolled": true
   },
   "outputs": [
    {
     "data": {
      "text/plain": [
       "(array([[0, 1],\n",
       "        [2, 3],\n",
       "        [4, 5]]),\n",
       " array([[0, 1, 2],\n",
       "        [3, 4, 5]]))"
      ]
     },
     "execution_count": 17,
     "metadata": {},
     "output_type": "execute_result"
    }
   ],
   "source": [
    "arr1, arr2"
   ]
  }
 ],
 "metadata": {
  "kernelspec": {
   "display_name": "Python 3",
   "language": "python",
   "name": "python3"
  },
  "language_info": {
   "codemirror_mode": {
    "name": "ipython",
    "version": 3
   },
   "file_extension": ".py",
   "mimetype": "text/x-python",
   "name": "python",
   "nbconvert_exporter": "python",
   "pygments_lexer": "ipython3",
   "version": "3.8.8"
  }
 },
 "nbformat": 4,
 "nbformat_minor": 5
}
