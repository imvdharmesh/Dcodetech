{
 "cells": [
  {
   "cell_type": "raw",
   "id": "164f4fbb",
   "metadata": {},
   "source": [
    "Date - 25/06/2021  02:30 PM to 04:30 PM"
   ]
  },
  {
   "cell_type": "code",
   "execution_count": 1,
   "id": "ec4afab6",
   "metadata": {},
   "outputs": [],
   "source": [
    "import numpy as np"
   ]
  },
  {
   "cell_type": "markdown",
   "id": "f5ebd88d",
   "metadata": {},
   "source": [
    "## numpy.concatenate"
   ]
  },
  {
   "cell_type": "code",
   "execution_count": 2,
   "id": "f2652601",
   "metadata": {},
   "outputs": [],
   "source": [
    "arr1 = np.array([[1, 2,],[3, 5]])\n",
    "\n",
    "arr2 = np.array([[5, 6],[7, 8]])"
   ]
  },
  {
   "cell_type": "code",
   "execution_count": 3,
   "id": "ec0b7ffc",
   "metadata": {},
   "outputs": [
    {
     "data": {
      "text/plain": [
       "(array([[1, 2],\n",
       "        [3, 5]]),\n",
       " array([[5, 6],\n",
       "        [7, 8]]))"
      ]
     },
     "execution_count": 3,
     "metadata": {},
     "output_type": "execute_result"
    }
   ],
   "source": [
    "arr1, arr2"
   ]
  },
  {
   "cell_type": "code",
   "execution_count": 4,
   "id": "0add07a1",
   "metadata": {},
   "outputs": [
    {
     "data": {
      "text/plain": [
       "array([[1, 2],\n",
       "       [3, 5],\n",
       "       [5, 6],\n",
       "       [7, 8]])"
      ]
     },
     "execution_count": 4,
     "metadata": {},
     "output_type": "execute_result"
    }
   ],
   "source": [
    "np.concatenate((arr1, arr2))"
   ]
  },
  {
   "cell_type": "code",
   "execution_count": 5,
   "id": "b7b3c39b",
   "metadata": {},
   "outputs": [
    {
     "data": {
      "text/plain": [
       "array([[1, 2],\n",
       "       [3, 5],\n",
       "       [5, 6],\n",
       "       [7, 8]])"
      ]
     },
     "execution_count": 5,
     "metadata": {},
     "output_type": "execute_result"
    }
   ],
   "source": [
    "np.concatenate((arr1, arr2),axis=0)  # axis=0 (rows) vertical stack"
   ]
  },
  {
   "cell_type": "code",
   "execution_count": 6,
   "id": "d476c4a4",
   "metadata": {},
   "outputs": [
    {
     "data": {
      "text/plain": [
       "array([[1, 2, 5, 6],\n",
       "       [3, 5, 7, 8]])"
      ]
     },
     "execution_count": 6,
     "metadata": {},
     "output_type": "execute_result"
    }
   ],
   "source": [
    "np.concatenate((arr1, arr2), axis=1)  # axis=1 (columns)  horizontal stack"
   ]
  },
  {
   "cell_type": "markdown",
   "id": "072e8b28",
   "metadata": {},
   "source": [
    "## Horizontal Stack & Vertical Stack"
   ]
  },
  {
   "cell_type": "markdown",
   "id": "52cc1fee",
   "metadata": {},
   "source": [
    "## numpy.hstack"
   ]
  },
  {
   "cell_type": "code",
   "execution_count": 7,
   "id": "8727e3fa",
   "metadata": {},
   "outputs": [
    {
     "data": {
      "text/plain": [
       "(array([[1, 2],\n",
       "        [3, 5]]),\n",
       " array([[5, 6],\n",
       "        [7, 8]]))"
      ]
     },
     "execution_count": 7,
     "metadata": {},
     "output_type": "execute_result"
    }
   ],
   "source": [
    "arr1, arr2"
   ]
  },
  {
   "cell_type": "code",
   "execution_count": 8,
   "id": "485d4bed",
   "metadata": {},
   "outputs": [
    {
     "data": {
      "text/plain": [
       "array([[1, 2, 5, 6],\n",
       "       [3, 5, 7, 8]])"
      ]
     },
     "execution_count": 8,
     "metadata": {},
     "output_type": "execute_result"
    }
   ],
   "source": [
    "np.hstack((arr1, arr2))"
   ]
  },
  {
   "cell_type": "markdown",
   "id": "e214cb75",
   "metadata": {},
   "source": [
    "## numpy.vstack"
   ]
  },
  {
   "cell_type": "code",
   "execution_count": 9,
   "id": "9aca145b",
   "metadata": {},
   "outputs": [
    {
     "data": {
      "text/plain": [
       "array([[1, 2],\n",
       "       [3, 5],\n",
       "       [5, 6],\n",
       "       [7, 8]])"
      ]
     },
     "execution_count": 9,
     "metadata": {},
     "output_type": "execute_result"
    }
   ],
   "source": [
    "np.vstack((arr1, arr2))"
   ]
  },
  {
   "cell_type": "code",
   "execution_count": null,
   "id": "2e2f7b80",
   "metadata": {},
   "outputs": [],
   "source": []
  },
  {
   "cell_type": "markdown",
   "id": "a77d6258",
   "metadata": {},
   "source": [
    "## numpy.split"
   ]
  },
  {
   "cell_type": "code",
   "execution_count": 10,
   "id": "29d4c10e",
   "metadata": {},
   "outputs": [
    {
     "data": {
      "text/plain": [
       "array([0, 1, 2, 3, 4, 5, 6, 7, 8])"
      ]
     },
     "execution_count": 10,
     "metadata": {},
     "output_type": "execute_result"
    }
   ],
   "source": [
    "arr1 = np.arange(9)\n",
    "arr1"
   ]
  },
  {
   "cell_type": "code",
   "execution_count": 11,
   "id": "7baff7bf",
   "metadata": {},
   "outputs": [
    {
     "data": {
      "text/plain": [
       "[array([0, 1, 2]), array([3, 4, 5]), array([6, 7, 8])]"
      ]
     },
     "execution_count": 11,
     "metadata": {},
     "output_type": "execute_result"
    }
   ],
   "source": [
    "np.split(arr1,3)"
   ]
  },
  {
   "cell_type": "markdown",
   "id": "33cca7ae",
   "metadata": {},
   "source": [
    "## Horizontal & Vertical Split"
   ]
  },
  {
   "cell_type": "markdown",
   "id": "7e6dd170",
   "metadata": {},
   "source": [
    "## numpy.hsplit"
   ]
  },
  {
   "cell_type": "code",
   "execution_count": 12,
   "id": "58650713",
   "metadata": {},
   "outputs": [],
   "source": [
    "arr1 = np.arange(16).reshape(4,4)"
   ]
  },
  {
   "cell_type": "code",
   "execution_count": 13,
   "id": "08f7ce27",
   "metadata": {},
   "outputs": [
    {
     "data": {
      "text/plain": [
       "array([[ 0,  1,  2,  3],\n",
       "       [ 4,  5,  6,  7],\n",
       "       [ 8,  9, 10, 11],\n",
       "       [12, 13, 14, 15]])"
      ]
     },
     "execution_count": 13,
     "metadata": {},
     "output_type": "execute_result"
    }
   ],
   "source": [
    "arr1"
   ]
  },
  {
   "cell_type": "code",
   "execution_count": 14,
   "id": "205285ee",
   "metadata": {},
   "outputs": [
    {
     "data": {
      "text/plain": [
       "[array([[ 0,  1],\n",
       "        [ 4,  5],\n",
       "        [ 8,  9],\n",
       "        [12, 13]]),\n",
       " array([[ 2,  3],\n",
       "        [ 6,  7],\n",
       "        [10, 11],\n",
       "        [14, 15]])]"
      ]
     },
     "execution_count": 14,
     "metadata": {},
     "output_type": "execute_result"
    }
   ],
   "source": [
    "np.hsplit(arr1,2)"
   ]
  },
  {
   "cell_type": "markdown",
   "id": "c3562998",
   "metadata": {},
   "source": [
    "## numpy.vsplit"
   ]
  },
  {
   "cell_type": "code",
   "execution_count": 15,
   "id": "4fddc690",
   "metadata": {},
   "outputs": [
    {
     "data": {
      "text/plain": [
       "[array([[0, 1, 2, 3],\n",
       "        [4, 5, 6, 7]]),\n",
       " array([[ 8,  9, 10, 11],\n",
       "        [12, 13, 14, 15]])]"
      ]
     },
     "execution_count": 15,
     "metadata": {},
     "output_type": "execute_result"
    }
   ],
   "source": [
    "np.vsplit(arr1,2)"
   ]
  },
  {
   "cell_type": "code",
   "execution_count": null,
   "id": "08b0c176",
   "metadata": {},
   "outputs": [],
   "source": []
  },
  {
   "cell_type": "markdown",
   "id": "46522986",
   "metadata": {},
   "source": [
    "## numpy.append"
   ]
  },
  {
   "cell_type": "code",
   "execution_count": 16,
   "id": "6202095f",
   "metadata": {},
   "outputs": [
    {
     "data": {
      "text/plain": [
       "array([[1, 2, 3],\n",
       "       [4, 5, 6]])"
      ]
     },
     "execution_count": 16,
     "metadata": {},
     "output_type": "execute_result"
    }
   ],
   "source": [
    "a = np.array([[1,2,3],[4,5,6]])\n",
    "a"
   ]
  },
  {
   "cell_type": "code",
   "execution_count": 17,
   "id": "a586b658",
   "metadata": {},
   "outputs": [
    {
     "data": {
      "text/plain": [
       "array([1, 2, 3, 4, 5, 6, 7, 8, 1])"
      ]
     },
     "execution_count": 17,
     "metadata": {},
     "output_type": "execute_result"
    }
   ],
   "source": [
    "np.append(a, [[7,8,1]])"
   ]
  },
  {
   "cell_type": "code",
   "execution_count": 18,
   "id": "76c26e69",
   "metadata": {},
   "outputs": [
    {
     "data": {
      "text/plain": [
       "array([[1, 2, 3],\n",
       "       [4, 5, 6],\n",
       "       [7, 8, 1]])"
      ]
     },
     "execution_count": 18,
     "metadata": {},
     "output_type": "execute_result"
    }
   ],
   "source": [
    "np.append(a, [[7,8,1]], axis=0)  # axis = 0 (rows) vertical stack"
   ]
  },
  {
   "cell_type": "code",
   "execution_count": 19,
   "id": "1390791f",
   "metadata": {},
   "outputs": [
    {
     "data": {
      "text/plain": [
       "array([[1, 2, 3, 7, 2],\n",
       "       [4, 5, 6, 8, 3]])"
      ]
     },
     "execution_count": 19,
     "metadata": {},
     "output_type": "execute_result"
    }
   ],
   "source": [
    "np.append(a, [[7,2],[8,3]], axis=1)  # axis = 1 (columns) horizontal stack"
   ]
  },
  {
   "cell_type": "code",
   "execution_count": null,
   "id": "3df77a97",
   "metadata": {},
   "outputs": [],
   "source": []
  },
  {
   "cell_type": "markdown",
   "id": "e5b6ce4d",
   "metadata": {},
   "source": [
    "## numpy.insert"
   ]
  },
  {
   "cell_type": "code",
   "execution_count": 20,
   "id": "aa2cd935",
   "metadata": {},
   "outputs": [
    {
     "data": {
      "text/plain": [
       "array([[1, 2],\n",
       "       [3, 4],\n",
       "       [5, 6]])"
      ]
     },
     "execution_count": 20,
     "metadata": {},
     "output_type": "execute_result"
    }
   ],
   "source": [
    "a = np.array([[1,2],[3,4],[5,6]])\n",
    "a"
   ]
  },
  {
   "cell_type": "code",
   "execution_count": 21,
   "id": "87673168",
   "metadata": {},
   "outputs": [
    {
     "data": {
      "text/plain": [
       "array([1, 2])"
      ]
     },
     "execution_count": 21,
     "metadata": {},
     "output_type": "execute_result"
    }
   ],
   "source": [
    "a[0]"
   ]
  },
  {
   "cell_type": "code",
   "execution_count": 22,
   "id": "d9c57ad6",
   "metadata": {},
   "outputs": [
    {
     "data": {
      "text/plain": [
       "array([3, 4])"
      ]
     },
     "execution_count": 22,
     "metadata": {},
     "output_type": "execute_result"
    }
   ],
   "source": [
    "a[1]"
   ]
  },
  {
   "cell_type": "code",
   "execution_count": 23,
   "id": "78f638e3",
   "metadata": {},
   "outputs": [
    {
     "data": {
      "text/plain": [
       "array([5, 6])"
      ]
     },
     "execution_count": 23,
     "metadata": {},
     "output_type": "execute_result"
    }
   ],
   "source": [
    "a[2]"
   ]
  },
  {
   "cell_type": "code",
   "execution_count": 24,
   "id": "99381558",
   "metadata": {},
   "outputs": [
    {
     "data": {
      "text/plain": [
       "array([1, 2, 2, 3, 4, 5, 6])"
      ]
     },
     "execution_count": 24,
     "metadata": {},
     "output_type": "execute_result"
    }
   ],
   "source": [
    "np.insert(a, 1,[2])"
   ]
  },
  {
   "cell_type": "code",
   "execution_count": 25,
   "id": "fa7979b2",
   "metadata": {},
   "outputs": [
    {
     "data": {
      "text/plain": [
       "array([1, 2, 3, 2, 3, 4, 5, 6])"
      ]
     },
     "execution_count": 25,
     "metadata": {},
     "output_type": "execute_result"
    }
   ],
   "source": [
    "np.insert(a, 1, [2,3])"
   ]
  },
  {
   "cell_type": "code",
   "execution_count": 26,
   "id": "7b661bf1",
   "metadata": {},
   "outputs": [
    {
     "data": {
      "text/plain": [
       "array([1, 2, 4, 3, 4, 5, 5, 6])"
      ]
     },
     "execution_count": 26,
     "metadata": {},
     "output_type": "execute_result"
    }
   ],
   "source": [
    "np.insert(a, [2,5],[4,5])"
   ]
  },
  {
   "cell_type": "code",
   "execution_count": 27,
   "id": "6d3f516f",
   "metadata": {},
   "outputs": [
    {
     "data": {
      "text/plain": [
       "array([[1, 2],\n",
       "       [3, 4],\n",
       "       [5, 6]])"
      ]
     },
     "execution_count": 27,
     "metadata": {},
     "output_type": "execute_result"
    }
   ],
   "source": [
    "a"
   ]
  },
  {
   "cell_type": "code",
   "execution_count": 28,
   "id": "2b71dc38",
   "metadata": {},
   "outputs": [
    {
     "data": {
      "text/plain": [
       "array([10,  1,  2,  3, 20,  4, 30,  5,  6])"
      ]
     },
     "execution_count": 28,
     "metadata": {},
     "output_type": "execute_result"
    }
   ],
   "source": [
    "np.insert(a, [0,3,4], [10,20,30])"
   ]
  },
  {
   "cell_type": "code",
   "execution_count": 29,
   "id": "659861e3",
   "metadata": {},
   "outputs": [
    {
     "data": {
      "text/plain": [
       "array([[ 1,  2],\n",
       "       [ 3,  4],\n",
       "       [11, 11],\n",
       "       [ 5,  6]])"
      ]
     },
     "execution_count": 29,
     "metadata": {},
     "output_type": "execute_result"
    }
   ],
   "source": [
    "np.insert(a, 2, 11, axis=0)"
   ]
  },
  {
   "cell_type": "code",
   "execution_count": 30,
   "id": "b7a2569e",
   "metadata": {},
   "outputs": [
    {
     "data": {
      "text/plain": [
       "array([[ 1,  2],\n",
       "       [ 3,  4],\n",
       "       [11, 22],\n",
       "       [ 5,  6]])"
      ]
     },
     "execution_count": 30,
     "metadata": {},
     "output_type": "execute_result"
    }
   ],
   "source": [
    "np.insert(a, 2, [11,22], axis=0)"
   ]
  },
  {
   "cell_type": "code",
   "execution_count": 31,
   "id": "d3d6379b",
   "metadata": {},
   "outputs": [
    {
     "data": {
      "text/plain": [
       "array([[ 1,  2, 11],\n",
       "       [ 3,  4, 11],\n",
       "       [ 5,  6, 11]])"
      ]
     },
     "execution_count": 31,
     "metadata": {},
     "output_type": "execute_result"
    }
   ],
   "source": [
    "np.insert(a, 2, 11, axis=1)"
   ]
  },
  {
   "cell_type": "code",
   "execution_count": 32,
   "id": "e58816df",
   "metadata": {
    "scrolled": true
   },
   "outputs": [
    {
     "data": {
      "text/plain": [
       "array([[ 1,  2, 11],\n",
       "       [ 3,  4, 22],\n",
       "       [ 5,  6, 33]])"
      ]
     },
     "execution_count": 32,
     "metadata": {},
     "output_type": "execute_result"
    }
   ],
   "source": [
    "np.insert(a, 2, [11,22,33], axis=1)"
   ]
  },
  {
   "cell_type": "code",
   "execution_count": 33,
   "id": "9bb0a672",
   "metadata": {},
   "outputs": [
    {
     "data": {
      "text/plain": [
       "array([ 1, 11,  2, 11,  3, 11,  4,  5,  6])"
      ]
     },
     "execution_count": 33,
     "metadata": {},
     "output_type": "execute_result"
    }
   ],
   "source": [
    "np.insert(a, np.s_[1:4],[11])"
   ]
  },
  {
   "cell_type": "markdown",
   "id": "aa650194",
   "metadata": {},
   "source": [
    "## numpy.delete"
   ]
  },
  {
   "cell_type": "code",
   "execution_count": 34,
   "id": "424e0728",
   "metadata": {},
   "outputs": [
    {
     "data": {
      "text/plain": [
       "array([[ 0,  1,  2,  3],\n",
       "       [ 4,  5,  6,  7],\n",
       "       [ 8,  9, 10, 11]])"
      ]
     },
     "execution_count": 34,
     "metadata": {},
     "output_type": "execute_result"
    }
   ],
   "source": [
    "a = np.arange(12).reshape(3,4)\n",
    "a"
   ]
  },
  {
   "cell_type": "code",
   "execution_count": 35,
   "id": "7124bb78",
   "metadata": {},
   "outputs": [
    {
     "data": {
      "text/plain": [
       "array([ 0,  1,  2,  3,  4,  6,  7,  8,  9, 10, 11])"
      ]
     },
     "execution_count": 35,
     "metadata": {},
     "output_type": "execute_result"
    }
   ],
   "source": [
    "np.delete(a, 5)"
   ]
  },
  {
   "cell_type": "code",
   "execution_count": 36,
   "id": "13efd809",
   "metadata": {},
   "outputs": [
    {
     "data": {
      "text/plain": [
       "array([ 0,  2,  4,  6,  7,  8,  9, 10, 11])"
      ]
     },
     "execution_count": 36,
     "metadata": {},
     "output_type": "execute_result"
    }
   ],
   "source": [
    "np.delete(a, [1,3,5])"
   ]
  },
  {
   "cell_type": "code",
   "execution_count": 37,
   "id": "56fa6184",
   "metadata": {},
   "outputs": [
    {
     "data": {
      "text/plain": [
       "array([[ 0,  1,  2,  3],\n",
       "       [ 8,  9, 10, 11]])"
      ]
     },
     "execution_count": 37,
     "metadata": {},
     "output_type": "execute_result"
    }
   ],
   "source": [
    "np.delete(a, 1, axis=0)  # delete row which ever specified"
   ]
  },
  {
   "cell_type": "code",
   "execution_count": 38,
   "id": "29336373",
   "metadata": {},
   "outputs": [
    {
     "data": {
      "text/plain": [
       "array([[ 0,  2,  3],\n",
       "       [ 4,  6,  7],\n",
       "       [ 8, 10, 11]])"
      ]
     },
     "execution_count": 38,
     "metadata": {},
     "output_type": "execute_result"
    }
   ],
   "source": [
    "np.delete(a, 1, axis=1)  # delete column which ever specified"
   ]
  },
  {
   "cell_type": "code",
   "execution_count": 39,
   "id": "8a071008",
   "metadata": {},
   "outputs": [
    {
     "data": {
      "text/plain": [
       "array([ 0,  4,  5,  6,  7,  8,  9, 10, 11])"
      ]
     },
     "execution_count": 39,
     "metadata": {},
     "output_type": "execute_result"
    }
   ],
   "source": [
    "np.delete(a, np.s_[1:4])"
   ]
  },
  {
   "cell_type": "code",
   "execution_count": null,
   "id": "28344e8a",
   "metadata": {},
   "outputs": [],
   "source": []
  },
  {
   "cell_type": "markdown",
   "id": "431478a4",
   "metadata": {},
   "source": [
    "## numpy.unique"
   ]
  },
  {
   "cell_type": "code",
   "execution_count": 40,
   "id": "d83a14bd",
   "metadata": {},
   "outputs": [
    {
     "data": {
      "text/plain": [
       "array([4, 5, 6, 7, 8, 4, 6, 4, 3, 1])"
      ]
     },
     "execution_count": 40,
     "metadata": {},
     "output_type": "execute_result"
    }
   ],
   "source": [
    "num = np.array([4,5,6,7,8,4,6,4,3,1])\n",
    "num"
   ]
  },
  {
   "cell_type": "code",
   "execution_count": 41,
   "id": "0ecd01b6",
   "metadata": {},
   "outputs": [
    {
     "data": {
      "text/plain": [
       "array([1, 3, 4, 5, 6, 7, 8])"
      ]
     },
     "execution_count": 41,
     "metadata": {},
     "output_type": "execute_result"
    }
   ],
   "source": [
    "np.unique(num)"
   ]
  },
  {
   "cell_type": "code",
   "execution_count": 42,
   "id": "bc2ea3a0",
   "metadata": {},
   "outputs": [
    {
     "data": {
      "text/plain": [
       "array([[4, 5, 6, 7, 8],\n",
       "       [4, 6, 4, 3, 1]])"
      ]
     },
     "execution_count": 42,
     "metadata": {},
     "output_type": "execute_result"
    }
   ],
   "source": [
    "num1 = num.reshape(2,5)\n",
    "num1"
   ]
  },
  {
   "cell_type": "code",
   "execution_count": 43,
   "id": "bcee46cd",
   "metadata": {},
   "outputs": [
    {
     "data": {
      "text/plain": [
       "array([1, 3, 4, 5, 6, 7, 8])"
      ]
     },
     "execution_count": 43,
     "metadata": {},
     "output_type": "execute_result"
    }
   ],
   "source": [
    "np.unique(num1)"
   ]
  },
  {
   "cell_type": "code",
   "execution_count": 44,
   "id": "6996c193",
   "metadata": {},
   "outputs": [
    {
     "data": {
      "text/plain": [
       "array([4, 5, 6, 7, 8, 4, 6, 4, 3, 1])"
      ]
     },
     "execution_count": 44,
     "metadata": {},
     "output_type": "execute_result"
    }
   ],
   "source": [
    "num"
   ]
  },
  {
   "cell_type": "code",
   "execution_count": 45,
   "id": "e2c31dce",
   "metadata": {},
   "outputs": [],
   "source": [
    "val, index = np.unique(num, return_index=True)"
   ]
  },
  {
   "cell_type": "code",
   "execution_count": 46,
   "id": "c9742bed",
   "metadata": {},
   "outputs": [
    {
     "data": {
      "text/plain": [
       "array([1, 3, 4, 5, 6, 7, 8])"
      ]
     },
     "execution_count": 46,
     "metadata": {},
     "output_type": "execute_result"
    }
   ],
   "source": [
    "val"
   ]
  },
  {
   "cell_type": "code",
   "execution_count": 47,
   "id": "71484219",
   "metadata": {},
   "outputs": [
    {
     "data": {
      "text/plain": [
       "array([9, 8, 0, 1, 2, 3, 4], dtype=int64)"
      ]
     },
     "execution_count": 47,
     "metadata": {},
     "output_type": "execute_result"
    }
   ],
   "source": [
    "index"
   ]
  },
  {
   "cell_type": "code",
   "execution_count": null,
   "id": "70efd188",
   "metadata": {},
   "outputs": [],
   "source": []
  },
  {
   "cell_type": "markdown",
   "id": "38a88edd",
   "metadata": {},
   "source": [
    "## NumPy Strings"
   ]
  },
  {
   "cell_type": "markdown",
   "id": "0e6b15de",
   "metadata": {},
   "source": [
    "## numpy.char.add"
   ]
  },
  {
   "cell_type": "code",
   "execution_count": 48,
   "id": "ed9600b6",
   "metadata": {},
   "outputs": [
    {
     "data": {
      "text/plain": [
       "array(['helloworld'], dtype='<U10')"
      ]
     },
     "execution_count": 48,
     "metadata": {},
     "output_type": "execute_result"
    }
   ],
   "source": [
    "np.char.add(['hello'],['world'])"
   ]
  },
  {
   "cell_type": "code",
   "execution_count": 49,
   "id": "8925a3b3",
   "metadata": {},
   "outputs": [
    {
     "data": {
      "text/plain": [
       "array(['pythonprogramming', 'islanguage'], dtype='<U17')"
      ]
     },
     "execution_count": 49,
     "metadata": {},
     "output_type": "execute_result"
    }
   ],
   "source": [
    "np.char.add(['python','is'],['programming','language'])"
   ]
  },
  {
   "cell_type": "code",
   "execution_count": 50,
   "id": "c993090f",
   "metadata": {},
   "outputs": [
    {
     "data": {
      "text/plain": [
       "array([['pythonpython', 'isis'],\n",
       "       ['programmingprogramming', 'languagelanguage']], dtype='<U22')"
      ]
     },
     "execution_count": 50,
     "metadata": {},
     "output_type": "execute_result"
    }
   ],
   "source": [
    "np.char.add([['python','is'],['programming','language']],[['python','is'],['programming','language']])"
   ]
  },
  {
   "cell_type": "code",
   "execution_count": 51,
   "id": "3fd3a76b",
   "metadata": {},
   "outputs": [
    {
     "data": {
      "text/plain": [
       "array([['pythonpython', 'isis'],\n",
       "       ['programmingpython', 'languageis']], dtype='<U17')"
      ]
     },
     "execution_count": 51,
     "metadata": {},
     "output_type": "execute_result"
    }
   ],
   "source": [
    "np.char.add([['python','is'],['programming','language']],['python','is'])"
   ]
  },
  {
   "cell_type": "markdown",
   "id": "25d7620e",
   "metadata": {},
   "source": [
    "## numpy.char.multiply"
   ]
  },
  {
   "cell_type": "code",
   "execution_count": 52,
   "id": "1ea95079",
   "metadata": {},
   "outputs": [
    {
     "data": {
      "text/plain": [
       "array(['hellohellohellohellohello'], dtype='<U25')"
      ]
     },
     "execution_count": 52,
     "metadata": {},
     "output_type": "execute_result"
    }
   ],
   "source": [
    "np.char.multiply(['hello'],5)"
   ]
  },
  {
   "cell_type": "code",
   "execution_count": 53,
   "id": "094022b5",
   "metadata": {},
   "outputs": [
    {
     "data": {
      "text/plain": [
       "array(['pythonpythonpythonpythonpython', 'isisisisis'], dtype='<U30')"
      ]
     },
     "execution_count": 53,
     "metadata": {},
     "output_type": "execute_result"
    }
   ],
   "source": [
    "np.char.multiply(['python','is'], 5)"
   ]
  },
  {
   "cell_type": "code",
   "execution_count": 54,
   "id": "93626496",
   "metadata": {},
   "outputs": [
    {
     "data": {
      "text/plain": [
       "array([['pythonpythonpythonpythonpython', 'isisisisis'],\n",
       "       ['programmingprogrammingprogrammingprogrammingprogramming',\n",
       "        'languagelanguagelanguagelanguagelanguage']], dtype='<U55')"
      ]
     },
     "execution_count": 54,
     "metadata": {},
     "output_type": "execute_result"
    }
   ],
   "source": [
    "np.char.multiply([['python','is'],['programming','language']], 5)"
   ]
  },
  {
   "cell_type": "markdown",
   "id": "5db4df3c",
   "metadata": {},
   "source": [
    "## numpy.char.center"
   ]
  },
  {
   "cell_type": "code",
   "execution_count": 55,
   "id": "0344264b",
   "metadata": {},
   "outputs": [
    {
     "data": {
      "text/plain": [
       "array(['  Python  '], dtype='<U10')"
      ]
     },
     "execution_count": 55,
     "metadata": {},
     "output_type": "execute_result"
    }
   ],
   "source": [
    "np.char.center(['Python'], 10)"
   ]
  },
  {
   "cell_type": "code",
   "execution_count": 56,
   "id": "5ca9fabe",
   "metadata": {},
   "outputs": [
    {
     "data": {
      "text/plain": [
       "array(['**Python**'], dtype='<U10')"
      ]
     },
     "execution_count": 56,
     "metadata": {},
     "output_type": "execute_result"
    }
   ],
   "source": [
    "np.char.center(['Python'], 10, fillchar='*')"
   ]
  },
  {
   "cell_type": "code",
   "execution_count": 57,
   "id": "62cb6560",
   "metadata": {},
   "outputs": [
    {
     "data": {
      "text/plain": [
       "array([['       Python       ', '         is         ',\n",
       "        '         a          ', '    programming     ']], dtype='<U20')"
      ]
     },
     "execution_count": 57,
     "metadata": {},
     "output_type": "execute_result"
    }
   ],
   "source": [
    "np.char.center([['Python', 'is', 'a', 'programming']], 20)"
   ]
  },
  {
   "cell_type": "code",
   "execution_count": 58,
   "id": "f4cacee7",
   "metadata": {},
   "outputs": [
    {
     "data": {
      "text/plain": [
       "array([['(((((((Python(((((((', '(((((((((is(((((((((',\n",
       "        '(((((((((a((((((((((', '((((programming(((((']], dtype='<U20')"
      ]
     },
     "execution_count": 58,
     "metadata": {},
     "output_type": "execute_result"
    }
   ],
   "source": [
    "np.char.center([['Python', 'is', 'a', 'programming']], 20, fillchar='(')"
   ]
  },
  {
   "cell_type": "markdown",
   "id": "a222b8eb",
   "metadata": {},
   "source": [
    "## numpy.char.capitalize"
   ]
  },
  {
   "cell_type": "code",
   "execution_count": 59,
   "id": "dfe07f3b",
   "metadata": {},
   "outputs": [
    {
     "data": {
      "text/plain": [
       "array('Hello world', dtype='<U11')"
      ]
     },
     "execution_count": 59,
     "metadata": {},
     "output_type": "execute_result"
    }
   ],
   "source": [
    "np.char.capitalize('hello world')"
   ]
  },
  {
   "cell_type": "code",
   "execution_count": 60,
   "id": "0c62b37c",
   "metadata": {},
   "outputs": [
    {
     "data": {
      "text/plain": [
       "array([['One', 'Two', 'Three'],\n",
       "       ['Four', 'Five', 'Six']], dtype='<U5')"
      ]
     },
     "execution_count": 60,
     "metadata": {},
     "output_type": "execute_result"
    }
   ],
   "source": [
    "np.char.capitalize([['one','two','three'],['four','five','six']])"
   ]
  },
  {
   "cell_type": "markdown",
   "id": "c1924255",
   "metadata": {},
   "source": [
    "## numpy.char.title"
   ]
  },
  {
   "cell_type": "code",
   "execution_count": 61,
   "id": "52c216cd",
   "metadata": {},
   "outputs": [
    {
     "data": {
      "text/plain": [
       "array('Python Is A Programming Language.', dtype='<U33')"
      ]
     },
     "execution_count": 61,
     "metadata": {},
     "output_type": "execute_result"
    }
   ],
   "source": [
    "np.char.title('python is a programming language.')"
   ]
  },
  {
   "cell_type": "code",
   "execution_count": 62,
   "id": "f385ac45",
   "metadata": {},
   "outputs": [
    {
     "data": {
      "text/plain": [
       "array([['One One', 'Two Two', 'Three Three'],\n",
       "       ['Four Four', 'Five Five', 'Six Six']], dtype='<U11')"
      ]
     },
     "execution_count": 62,
     "metadata": {},
     "output_type": "execute_result"
    }
   ],
   "source": [
    "np.char.title([['one one','two two','three three'],\n",
    "               ['four four','five five','six six']])"
   ]
  },
  {
   "cell_type": "markdown",
   "id": "aa8ed8f4",
   "metadata": {},
   "source": [
    "## numpy.char.lower"
   ]
  },
  {
   "cell_type": "code",
   "execution_count": 63,
   "id": "288cd4f7",
   "metadata": {},
   "outputs": [
    {
     "data": {
      "text/plain": [
       "array('hello world', dtype='<U11')"
      ]
     },
     "execution_count": 63,
     "metadata": {},
     "output_type": "execute_result"
    }
   ],
   "source": [
    "np.char.lower('Hello WORLD')"
   ]
  },
  {
   "cell_type": "code",
   "execution_count": 64,
   "id": "71c223a0",
   "metadata": {},
   "outputs": [
    {
     "data": {
      "text/plain": [
       "array([['one one', 'two two', 'three three'],\n",
       "       ['four four', 'five five', 'six six']], dtype='<U11')"
      ]
     },
     "execution_count": 64,
     "metadata": {},
     "output_type": "execute_result"
    }
   ],
   "source": [
    "np.char.lower([['ONE One','TWO Two','THREE three'],\n",
    "               ['Four four','five five','SIX six']])"
   ]
  },
  {
   "cell_type": "markdown",
   "id": "99b0568b",
   "metadata": {},
   "source": [
    "## numpy.char.upper"
   ]
  },
  {
   "cell_type": "code",
   "execution_count": 65,
   "id": "5e9141f6",
   "metadata": {},
   "outputs": [
    {
     "data": {
      "text/plain": [
       "array('HELLO WORLD', dtype='<U11')"
      ]
     },
     "execution_count": 65,
     "metadata": {},
     "output_type": "execute_result"
    }
   ],
   "source": [
    "np.char.upper('Hello WORLD')"
   ]
  },
  {
   "cell_type": "code",
   "execution_count": 66,
   "id": "d123b729",
   "metadata": {},
   "outputs": [
    {
     "data": {
      "text/plain": [
       "array([['ONE ONE', 'TWO TWO', 'THREE THREE'],\n",
       "       ['FOUR FOUR', 'FIVE FIVE', 'SIX SIX']], dtype='<U11')"
      ]
     },
     "execution_count": 66,
     "metadata": {},
     "output_type": "execute_result"
    }
   ],
   "source": [
    "np.char.upper([['ONE One','TWO Two','THREE three'],\n",
    "               ['Four four','five five','SIX six']])"
   ]
  },
  {
   "cell_type": "markdown",
   "id": "2229e167",
   "metadata": {},
   "source": [
    "## numpy.char.split"
   ]
  },
  {
   "cell_type": "code",
   "execution_count": 67,
   "id": "6c9be083",
   "metadata": {},
   "outputs": [
    {
     "data": {
      "text/plain": [
       "array(list(['Python', 'Java', 'C++']), dtype=object)"
      ]
     },
     "execution_count": 67,
     "metadata": {},
     "output_type": "execute_result"
    }
   ],
   "source": [
    "np.char.split('Python Java C++')"
   ]
  },
  {
   "cell_type": "code",
   "execution_count": 68,
   "id": "8962e674",
   "metadata": {},
   "outputs": [
    {
     "data": {
      "text/plain": [
       "array([[list(['Python', 'Java', 'C++'])],\n",
       "       [list(['Scala', 'JavaScript', 'Html'])]], dtype=object)"
      ]
     },
     "execution_count": 68,
     "metadata": {},
     "output_type": "execute_result"
    }
   ],
   "source": [
    "np.char.split([['Python,Java,C++'],['Scala,JavaScript,Html']], sep=',')"
   ]
  },
  {
   "cell_type": "markdown",
   "id": "f4a83b35",
   "metadata": {},
   "source": [
    "## numpy.char.splitlines"
   ]
  },
  {
   "cell_type": "code",
   "execution_count": 69,
   "id": "396fd365",
   "metadata": {},
   "outputs": [
    {
     "data": {
      "text/plain": [
       "array(list(['Hello', 'Welcome', 'To', 'Python']), dtype=object)"
      ]
     },
     "execution_count": 69,
     "metadata": {},
     "output_type": "execute_result"
    }
   ],
   "source": [
    "np.char.splitlines('Hello\\nWelcome\\nTo\\nPython')"
   ]
  },
  {
   "cell_type": "code",
   "execution_count": 70,
   "id": "f9dd8644",
   "metadata": {},
   "outputs": [
    {
     "data": {
      "text/plain": [
       "array([[list(['Python', 'Java', 'C++'])],\n",
       "       [list(['Scala', 'JavaScript', 'Html'])]], dtype=object)"
      ]
     },
     "execution_count": 70,
     "metadata": {},
     "output_type": "execute_result"
    }
   ],
   "source": [
    "np.char.splitlines([['Python\\nJava\\nC++'],['Scala\\nJavaScript\\nHtml']])"
   ]
  },
  {
   "cell_type": "markdown",
   "id": "fb23babf",
   "metadata": {},
   "source": [
    "## numpy.char.strip"
   ]
  },
  {
   "cell_type": "code",
   "execution_count": 71,
   "id": "53f183d9",
   "metadata": {},
   "outputs": [],
   "source": [
    "name = \"  python  \""
   ]
  },
  {
   "cell_type": "code",
   "execution_count": 72,
   "id": "fe7b15a8",
   "metadata": {},
   "outputs": [
    {
     "data": {
      "text/plain": [
       "'python'"
      ]
     },
     "execution_count": 72,
     "metadata": {},
     "output_type": "execute_result"
    }
   ],
   "source": [
    "name.strip()"
   ]
  },
  {
   "cell_type": "code",
   "execution_count": 77,
   "id": "d3aca148",
   "metadata": {},
   "outputs": [
    {
     "data": {
      "text/plain": [
       "array(['apple', 'admin', 'java', 'banan a'], dtype='<U8')"
      ]
     },
     "execution_count": 77,
     "metadata": {},
     "output_type": "execute_result"
    }
   ],
   "source": [
    "np.char.strip([' apple ',' admin ','java','banan a '],' ')"
   ]
  },
  {
   "cell_type": "code",
   "execution_count": 78,
   "id": "8a6c510b",
   "metadata": {},
   "outputs": [
    {
     "data": {
      "text/plain": [
       "array([['pple', 'banan'],\n",
       "       ['papay', 'grapes']], dtype='<U6')"
      ]
     },
     "execution_count": 78,
     "metadata": {},
     "output_type": "execute_result"
    }
   ],
   "source": [
    "np.char.strip([['apple','banana'],['papaya','grapes']],'a')"
   ]
  },
  {
   "cell_type": "markdown",
   "id": "51bdc146",
   "metadata": {},
   "source": [
    "## numpy.char.join"
   ]
  },
  {
   "cell_type": "code",
   "execution_count": 79,
   "id": "513c4974",
   "metadata": {},
   "outputs": [
    {
     "data": {
      "text/plain": [
       "array(['d-m-y', 'y/m/d'], dtype='<U5')"
      ]
     },
     "execution_count": 79,
     "metadata": {},
     "output_type": "execute_result"
    }
   ],
   "source": [
    "np.char.join(['-','/'],['dmy','ymd'])"
   ]
  },
  {
   "cell_type": "code",
   "execution_count": 81,
   "id": "1df3db6b",
   "metadata": {},
   "outputs": [
    {
     "data": {
      "text/plain": [
       "array([['d-m-y', 'y/m/d'],\n",
       "       ['damay', 'ybdmbdd']], dtype='<U7')"
      ]
     },
     "execution_count": 81,
     "metadata": {},
     "output_type": "execute_result"
    }
   ],
   "source": [
    "np.char.join([['-','/'],['a','bd']],['dmy','ymd'])"
   ]
  },
  {
   "cell_type": "code",
   "execution_count": 82,
   "id": "89476b55",
   "metadata": {},
   "outputs": [
    {
     "data": {
      "text/plain": [
       "array([['d-m-y', 'y/m/d'],\n",
       "       ['laoal', 'pbdobdm']], dtype='<U7')"
      ]
     },
     "execution_count": 82,
     "metadata": {},
     "output_type": "execute_result"
    }
   ],
   "source": [
    "np.char.join([['-','/'],['a','bd']],[['dmy','ymd'],['lol','pom']])"
   ]
  },
  {
   "cell_type": "markdown",
   "id": "44defab3",
   "metadata": {},
   "source": [
    "## numpy.char.replace"
   ]
  },
  {
   "cell_type": "code",
   "execution_count": 83,
   "id": "f601720f",
   "metadata": {},
   "outputs": [
    {
     "data": {
      "text/plain": [
       "array('this is data science numpy session', dtype='<U34')"
      ]
     },
     "execution_count": 83,
     "metadata": {},
     "output_type": "execute_result"
    }
   ],
   "source": [
    "np.char.replace('this is python numpy session','python','data science')"
   ]
  },
  {
   "cell_type": "code",
   "execution_count": 84,
   "id": "aa6128d2",
   "metadata": {},
   "outputs": [
    {
     "data": {
      "text/plain": [
       "array(['python', 'javascript'], dtype='<U10')"
      ]
     },
     "execution_count": 84,
     "metadata": {},
     "output_type": "execute_result"
    }
   ],
   "source": [
    "np.char.replace(['python','java'],'java','javascript')"
   ]
  },
  {
   "cell_type": "code",
   "execution_count": 85,
   "id": "6f66980e",
   "metadata": {},
   "outputs": [
    {
     "data": {
      "text/plain": [
       "array([['python', 'javascript'],\n",
       "       ['javascript', 'html']], dtype='<U10')"
      ]
     },
     "execution_count": 85,
     "metadata": {},
     "output_type": "execute_result"
    }
   ],
   "source": [
    "np.char.replace([['python','java'],['java','html']],'java','javascript')"
   ]
  }
 ],
 "metadata": {
  "kernelspec": {
   "display_name": "Python 3",
   "language": "python",
   "name": "python3"
  },
  "language_info": {
   "codemirror_mode": {
    "name": "ipython",
    "version": 3
   },
   "file_extension": ".py",
   "mimetype": "text/x-python",
   "name": "python",
   "nbconvert_exporter": "python",
   "pygments_lexer": "ipython3",
   "version": "3.8.8"
  }
 },
 "nbformat": 4,
 "nbformat_minor": 5
}
