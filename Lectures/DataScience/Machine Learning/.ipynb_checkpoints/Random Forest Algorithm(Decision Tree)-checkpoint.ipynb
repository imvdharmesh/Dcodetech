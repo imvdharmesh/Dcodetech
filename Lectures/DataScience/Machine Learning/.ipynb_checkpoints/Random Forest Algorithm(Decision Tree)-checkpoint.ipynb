{
 "cells": [
  {
   "cell_type": "raw",
   "id": "a04eb16e",
   "metadata": {},
   "source": [
    "Date - 16/09/2021  11:00 AM to 01:00 PM"
   ]
  },
  {
   "cell_type": "markdown",
   "id": "03c9a658",
   "metadata": {},
   "source": [
    "## Random Forest Algorithm(Decision Tree)"
   ]
  },
  {
   "cell_type": "markdown",
   "id": "d0c2b8dd",
   "metadata": {},
   "source": [
    "    Random Forest is a Supervised Learning algorithm.\n",
    "    \n",
    "    - It has 2 mechanism (variation) :-\n",
    "        1) Classification Problems,\n",
    "        2) Regression Problems\n",
    "      \n",
    "    - It is one of the most flexible and easy to use algorithm.\n",
    "    - It creates Decision Tree on the given data samples, gets prediction from each tree and select best situation by means\n",
    "      of voting.\n",
    "    - It is also a pretty good indicator of feature importance.\n",
    "    - Random forest combines multiple Decision Tree resulting in a forest of trees hence the name Random Forest came into\n",
    "      the picture.\n",
    "    - The higher the number of trees in the forest, the more accurate is the result."
   ]
  },
  {
   "cell_type": "markdown",
   "id": "a8139c7b",
   "metadata": {},
   "source": [
    "### Algorithm\n",
    "\n",
    "    Random Forest Algorithm can be divided into 2 stages :-\n",
    "    \n",
    "    Stage A :-\n",
    "    (1). In the first stage we randomly select \"k\" features out of total \"n\" features and build random forest where k < n,\n",
    "    (2). Among the \"k\" features calculate the node \"d\" using the best split point,\n",
    "    (3). Split the node \"d\" into daughter node using the best split,\n",
    "    (4). Repeat the step until \"l\" number of nodes has beem reached,\n",
    "    (5). Build forest by repeating step 1 to 4 for \"x\" number of time to create \"x\" number of tree."
   ]
  },
  {
   "cell_type": "code",
   "execution_count": null,
   "id": "cb13e6b7",
   "metadata": {},
   "outputs": [],
   "source": []
  }
 ],
 "metadata": {
  "kernelspec": {
   "display_name": "Python 3",
   "language": "python",
   "name": "python3"
  },
  "language_info": {
   "codemirror_mode": {
    "name": "ipython",
    "version": 3
   },
   "file_extension": ".py",
   "mimetype": "text/x-python",
   "name": "python",
   "nbconvert_exporter": "python",
   "pygments_lexer": "ipython3",
   "version": "3.8.8"
  }
 },
 "nbformat": 4,
 "nbformat_minor": 5
}
