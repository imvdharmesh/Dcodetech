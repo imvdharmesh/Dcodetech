{
 "cells": [
  {
   "cell_type": "raw",
   "id": "9f1bfcb5",
   "metadata": {},
   "source": [
    "Date - 30/09/2021  11:00 AM to 01:00 PM"
   ]
  },
  {
   "cell_type": "markdown",
   "id": "b07d218a",
   "metadata": {},
   "source": [
    "## Principle Component Analysis(PCA)"
   ]
  },
  {
   "cell_type": "markdown",
   "id": "e05a75ef",
   "metadata": {},
   "source": [
    "**What is PCA?**\n",
    "\n",
    "    - PCA is an unsupervised machine learning algorithm.\n",
    "    - PCA is mainly used in dimensionality reduction in a dataset consisting of many variables that are highly co-related\n",
    "      with each other while retaining variations present in the dataset upto a maximum extent.\n",
    "    - Typically used in EDA and Predictive Analysis."
   ]
  },
  {
   "cell_type": "markdown",
   "id": "5de9008a",
   "metadata": {},
   "source": [
    "### Working\n",
    "\n",
    "    - PCA performs a linear transformation on the data so that most of thevariance or information in the dataset is\n",
    "      captured by the Principle Components.\n",
    "    - The first principle components will capture the most variance by the second,\n",
    "    \n",
    "    1. In machine learning \"Variance\" is one of the most important factors that directly affect the accuracy of the output.\n",
    "    2. When machine learning model becomes too sensitive for independent variable it tries to find out the relationship\n",
    "       between every feature which gives rise to the problem like \"overfitting\" or high variance.\n",
    "    3. Too much noise enters the dataset because of high variance and thus the results are affected."
   ]
  },
  {
   "cell_type": "code",
   "execution_count": 1,
   "id": "15445bcf",
   "metadata": {},
   "outputs": [],
   "source": [
    "import numpy as np\n",
    "import pandas as pd\n",
    "import matplotlib.pyplot as plt\n",
    "import seaborn as sns"
   ]
  },
  {
   "cell_type": "code",
   "execution_count": null,
   "id": "82806823",
   "metadata": {},
   "outputs": [],
   "source": []
  }
 ],
 "metadata": {
  "kernelspec": {
   "display_name": "Python 3 (ipykernel)",
   "language": "python",
   "name": "python3"
  },
  "language_info": {
   "codemirror_mode": {
    "name": "ipython",
    "version": 3
   },
   "file_extension": ".py",
   "mimetype": "text/x-python",
   "name": "python",
   "nbconvert_exporter": "python",
   "pygments_lexer": "ipython3",
   "version": "3.8.11"
  }
 },
 "nbformat": 4,
 "nbformat_minor": 5
}
