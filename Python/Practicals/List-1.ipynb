{
 "cells": [
  {
   "cell_type": "markdown",
   "metadata": {},
   "source": [
    "# Basic python list problems -- no loops.. Use a[0], a[1], ... to access elements in a list, len(a) is the length."
   ]
  },
  {
   "cell_type": "markdown",
   "metadata": {},
   "source": [
    "## first_last6\n",
    "### Given an array of ints, return True if 6 appears as either the first or last element in the array. The array will be length 1 or more."
   ]
  },
  {
   "cell_type": "code",
   "execution_count": 2,
   "metadata": {},
   "outputs": [
    {
     "name": "stdout",
     "output_type": "stream",
     "text": [
      "True\n"
     ]
    }
   ],
   "source": [
    "nums = [6, 1, 2, 3]\n",
    "if nums[0] == 6 or nums[len(nums)-1] == 6:\n",
    "    print(True)\n",
    "else:\n",
    "    print(False)"
   ]
  },
  {
   "cell_type": "code",
   "execution_count": 1,
   "metadata": {},
   "outputs": [
    {
     "data": {
      "text/plain": [
       "True"
      ]
     },
     "execution_count": 1,
     "metadata": {},
     "output_type": "execute_result"
    }
   ],
   "source": [
    "def first_last6(nums):\n",
    "  if nums[0] == 6 or nums[len(nums)-1] == 6:\n",
    "    return True\n",
    "  else:\n",
    "    return False\n",
    "first_last6([6, 1, 2, 3])"
   ]
  },
  {
   "cell_type": "markdown",
   "metadata": {},
   "source": [
    "## same_first_last\n",
    "### Given an array of ints, return True if the array is length 1 or more, and the first element and the last element are equal."
   ]
  },
  {
   "cell_type": "code",
   "execution_count": 4,
   "metadata": {},
   "outputs": [
    {
     "name": "stdout",
     "output_type": "stream",
     "text": [
      "True\n"
     ]
    }
   ],
   "source": [
    "nums = [1, 2, 3, 1]\n",
    "l=len(nums)\n",
    "if l>=1 and nums[0]==nums[l-1]:\n",
    "    print(True)\n",
    "else:\n",
    "    print(False)"
   ]
  },
  {
   "cell_type": "code",
   "execution_count": 3,
   "metadata": {},
   "outputs": [
    {
     "data": {
      "text/plain": [
       "True"
      ]
     },
     "execution_count": 3,
     "metadata": {},
     "output_type": "execute_result"
    }
   ],
   "source": [
    "def same_first_last(nums):\n",
    "  l=len(nums)\n",
    "  if l>=1 and nums[0]==nums[l-1]:\n",
    "    return True\n",
    "  else:\n",
    "    return False\n",
    "same_first_last([1, 2, 3, 1])"
   ]
  },
  {
   "cell_type": "markdown",
   "metadata": {},
   "source": [
    "## make_pi\n",
    "### Return an int array length 3 containing the first 3 digits of pi, {3, 1, 4}."
   ]
  },
  {
   "cell_type": "code",
   "execution_count": 6,
   "metadata": {},
   "outputs": [
    {
     "data": {
      "text/plain": [
       "3.14"
      ]
     },
     "execution_count": 6,
     "metadata": {},
     "output_type": "execute_result"
    }
   ],
   "source": [
    "import math\n",
    "pi = math.pi\n",
    "pi = round(pi,2)\n",
    "pi"
   ]
  },
  {
   "cell_type": "code",
   "execution_count": null,
   "metadata": {},
   "outputs": [],
   "source": []
  },
  {
   "cell_type": "markdown",
   "metadata": {},
   "source": [
    "## common_end\n",
    "### Given 2 arrays of ints, a and b, return True if they have the same first element or they have the same last element. Both arrays will be length 1 or more."
   ]
  },
  {
   "cell_type": "code",
   "execution_count": 6,
   "metadata": {},
   "outputs": [
    {
     "name": "stdout",
     "output_type": "stream",
     "text": [
      "True\n"
     ]
    }
   ],
   "source": [
    "a = [1, 2, 3]\n",
    "b = [1, 3]\n",
    "if len(a) and len(b)>=1 and a[0] == b[0] or a[-1]== b[-1]:\n",
    "    print(True)\n",
    "else:\n",
    "    print(False)"
   ]
  },
  {
   "cell_type": "code",
   "execution_count": 5,
   "metadata": {},
   "outputs": [
    {
     "data": {
      "text/plain": [
       "True"
      ]
     },
     "execution_count": 5,
     "metadata": {},
     "output_type": "execute_result"
    }
   ],
   "source": [
    "def common_end(a, b):\n",
    "  if len(a) and len(b)>=1 and a[0] == b[0] or a[-1]== b[-1]:\n",
    "    return True\n",
    "  else:\n",
    "    return False\n",
    "common_end([1, 2, 3], [1, 3])"
   ]
  },
  {
   "cell_type": "markdown",
   "metadata": {},
   "source": [
    "## sum3\n",
    "### Given an array of ints length 3, return the sum of all the elements."
   ]
  },
  {
   "cell_type": "code",
   "execution_count": 8,
   "metadata": {},
   "outputs": [
    {
     "name": "stdout",
     "output_type": "stream",
     "text": [
      "18\n"
     ]
    }
   ],
   "source": [
    "nums = [5, 11, 2]\n",
    "print(sum(nums))"
   ]
  },
  {
   "cell_type": "code",
   "execution_count": 7,
   "metadata": {},
   "outputs": [
    {
     "data": {
      "text/plain": [
       "18"
      ]
     },
     "execution_count": 7,
     "metadata": {},
     "output_type": "execute_result"
    }
   ],
   "source": [
    "def sum3(nums):\n",
    "  return sum(nums)\n",
    "sum3([5, 11, 2])"
   ]
  },
  {
   "cell_type": "markdown",
   "metadata": {},
   "source": [
    "## rotate_left3\n",
    "### Given an array of ints length 3, return an array with the elements \"rotated left\" so {1, 2, 3} yields {2, 3, 1}."
   ]
  },
  {
   "cell_type": "code",
   "execution_count": 10,
   "metadata": {},
   "outputs": [
    {
     "name": "stdout",
     "output_type": "stream",
     "text": [
      "[11, 9, 5]\n"
     ]
    }
   ],
   "source": [
    "nums = [5, 11, 9]\n",
    "nums.append(nums[0])\n",
    "nums.pop(0)\n",
    "print(nums)"
   ]
  },
  {
   "cell_type": "code",
   "execution_count": 9,
   "metadata": {},
   "outputs": [
    {
     "data": {
      "text/plain": [
       "[11, 9, 5]"
      ]
     },
     "execution_count": 9,
     "metadata": {},
     "output_type": "execute_result"
    }
   ],
   "source": [
    "def rotate_left3(nums):\n",
    "  nums.append(nums[0])\n",
    "  nums.pop(0)\n",
    "  return nums\n",
    "rotate_left3([5, 11, 9])"
   ]
  },
  {
   "cell_type": "markdown",
   "metadata": {},
   "source": [
    "##  reverse3\n",
    "### Given an array of ints length 3, return a new array with the elements in reverse order, so {1, 2, 3} becomes {3, 2, 1}."
   ]
  },
  {
   "cell_type": "code",
   "execution_count": 12,
   "metadata": {},
   "outputs": [
    {
     "name": "stdout",
     "output_type": "stream",
     "text": [
      "[9, 11, 5]\n"
     ]
    }
   ],
   "source": [
    "nums = [5, 11, 9]\n",
    "nums.reverse()\n",
    "print(nums)"
   ]
  },
  {
   "cell_type": "code",
   "execution_count": 11,
   "metadata": {},
   "outputs": [
    {
     "data": {
      "text/plain": [
       "[9, 11, 5]"
      ]
     },
     "execution_count": 11,
     "metadata": {},
     "output_type": "execute_result"
    }
   ],
   "source": [
    "def reverse3(nums):\n",
    "  nums.reverse()\n",
    "  return nums\n",
    "reverse3([5, 11, 9])"
   ]
  },
  {
   "cell_type": "markdown",
   "metadata": {},
   "source": [
    "## max_end3\n",
    "### Given an array of ints length 3, figure out which is larger, the first or last element in the array, and set all the other elements to be that value. Return the changed array."
   ]
  },
  {
   "cell_type": "code",
   "execution_count": 14,
   "metadata": {},
   "outputs": [
    {
     "name": "stdout",
     "output_type": "stream",
     "text": [
      "[11, 11, 11]\n"
     ]
    }
   ],
   "source": [
    "nums = [11, 5, 9]\n",
    "if nums[0]>=nums[-1]:\n",
    "    nums[1]=nums[0]\n",
    "    nums[2]=nums[0]\n",
    "    print(nums)\n",
    "    \n",
    "elif nums[-1]>=nums[0]:\n",
    "    nums[0]=nums[-1]\n",
    "    nums[1]=nums[-1]\n",
    "    print(nums)"
   ]
  },
  {
   "cell_type": "code",
   "execution_count": 13,
   "metadata": {},
   "outputs": [
    {
     "data": {
      "text/plain": [
       "[11, 11, 11]"
      ]
     },
     "execution_count": 13,
     "metadata": {},
     "output_type": "execute_result"
    }
   ],
   "source": [
    "def max_end3(nums):\n",
    "  if nums[0]>=nums[-1]:\n",
    "    nums[1]=nums[0]\n",
    "    nums[2]=nums[0]\n",
    "    return nums\n",
    "  elif nums[-1]>=nums[0]:\n",
    "    nums[0]=nums[-1]\n",
    "    nums[1]=nums[-1]\n",
    "    return nums\n",
    "max_end3([11, 5, 9])"
   ]
  },
  {
   "cell_type": "markdown",
   "metadata": {},
   "source": [
    "## sum2\n",
    "### Given an array of ints, return the sum of the first 2 elements in the array. If the array length is less than 2, just sum up the elements that exist, returning 0 if the array is length 0."
   ]
  },
  {
   "cell_type": "code",
   "execution_count": 16,
   "metadata": {},
   "outputs": [
    {
     "name": "stdout",
     "output_type": "stream",
     "text": [
      "2\n"
     ]
    }
   ],
   "source": [
    "nums = [1, 1, 1, 1]\n",
    "if len(nums)==0:\n",
    "    print(0)\n",
    "elif len(nums) <=2:\n",
    "    print(sum(nums))\n",
    "else:\n",
    "    print(sum(nums[0:2]))"
   ]
  },
  {
   "cell_type": "code",
   "execution_count": 15,
   "metadata": {},
   "outputs": [
    {
     "data": {
      "text/plain": [
       "2"
      ]
     },
     "execution_count": 15,
     "metadata": {},
     "output_type": "execute_result"
    }
   ],
   "source": [
    "def sum2(nums):\n",
    "  if len(nums)==0:\n",
    "    return 0\n",
    "  elif len(nums) <=2:\n",
    "    return sum(nums)\n",
    "  else:\n",
    "    return sum(nums[0:2])\n",
    "sum2([1, 1, 1, 1])"
   ]
  },
  {
   "cell_type": "markdown",
   "metadata": {},
   "source": [
    "## middle_way\n",
    "### Given 2 int arrays, a and b, each length 3, return a new array length 2 containing their middle elements."
   ]
  },
  {
   "cell_type": "code",
   "execution_count": 24,
   "metadata": {},
   "outputs": [
    {
     "name": "stdout",
     "output_type": "stream",
     "text": [
      "[2, 4]\n"
     ]
    }
   ],
   "source": [
    "a = [5, 2, 9]\n",
    "b = [1, 4, 5]\n",
    "print(list((a[1],b[1])))"
   ]
  },
  {
   "cell_type": "code",
   "execution_count": 17,
   "metadata": {},
   "outputs": [
    {
     "data": {
      "text/plain": [
       "[2, 4]"
      ]
     },
     "execution_count": 17,
     "metadata": {},
     "output_type": "execute_result"
    }
   ],
   "source": [
    "def middle_way(a, b):\n",
    "  return list((a[1],b[1]))\n",
    "middle_way([5, 2, 9], [1, 4, 5])"
   ]
  },
  {
   "cell_type": "markdown",
   "metadata": {},
   "source": [
    "## make_ends\n",
    "### Given an array of ints, return a new array length 2 containing the first and last elements from the original array. The original array will be length 1 or more."
   ]
  },
  {
   "cell_type": "code",
   "execution_count": 21,
   "metadata": {},
   "outputs": [
    {
     "name": "stdout",
     "output_type": "stream",
     "text": [
      "[7, 2]\n"
     ]
    }
   ],
   "source": [
    "nums = [7, 4, 6, 2]\n",
    "print(list((nums[0],nums[-1])))"
   ]
  },
  {
   "cell_type": "code",
   "execution_count": 20,
   "metadata": {},
   "outputs": [
    {
     "data": {
      "text/plain": [
       "[7, 2]"
      ]
     },
     "execution_count": 20,
     "metadata": {},
     "output_type": "execute_result"
    }
   ],
   "source": [
    "def make_ends(nums):\n",
    "  return list((nums[0],nums[-1]))\n",
    "make_ends([7, 4, 6, 2])"
   ]
  },
  {
   "cell_type": "markdown",
   "metadata": {},
   "source": [
    "## has23\n",
    "### Given an int array length 2, return True if it contains a 2 or a 3."
   ]
  },
  {
   "cell_type": "code",
   "execution_count": 26,
   "metadata": {},
   "outputs": [
    {
     "name": "stdout",
     "output_type": "stream",
     "text": [
      "True\n"
     ]
    }
   ],
   "source": [
    "nums = [4, 3]\n",
    "if nums[0] == 2 or nums[1] == 2 :\n",
    "    print(True)\n",
    "elif (nums[0] == 3 or nums[1] == 3):\n",
    "    print(True)\n",
    "else:\n",
    "    print(False)"
   ]
  },
  {
   "cell_type": "code",
   "execution_count": 25,
   "metadata": {},
   "outputs": [
    {
     "data": {
      "text/plain": [
       "True"
      ]
     },
     "execution_count": 25,
     "metadata": {},
     "output_type": "execute_result"
    }
   ],
   "source": [
    "def has23(nums):\n",
    "  if nums[0] == 2 or nums[1] == 2 :\n",
    "    return True\n",
    "  elif (nums[0] == 3 or nums[1] == 3):\n",
    "    return True\n",
    "  else:\n",
    "    return False\n",
    "has23([4, 3])"
   ]
  },
  {
   "cell_type": "code",
   "execution_count": null,
   "metadata": {},
   "outputs": [],
   "source": []
  }
 ],
 "metadata": {
  "kernelspec": {
   "display_name": "Python 3",
   "language": "python",
   "name": "python3"
  },
  "language_info": {
   "codemirror_mode": {
    "name": "ipython",
    "version": 3
   },
   "file_extension": ".py",
   "mimetype": "text/x-python",
   "name": "python",
   "nbconvert_exporter": "python",
   "pygments_lexer": "ipython3",
   "version": "3.8.5"
  }
 },
 "nbformat": 4,
 "nbformat_minor": 4
}
