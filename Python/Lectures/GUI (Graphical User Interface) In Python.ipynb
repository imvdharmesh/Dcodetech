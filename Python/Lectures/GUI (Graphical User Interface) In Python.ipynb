{
 "cells": [
  {
   "cell_type": "raw",
   "id": "25dd1d33",
   "metadata": {},
   "source": [
    "Date - 22/05/2021  09:15 AM to 11:30 AM"
   ]
  },
  {
   "cell_type": "markdown",
   "id": "6e944b9e",
   "metadata": {},
   "source": [
    "## GUI In Python"
   ]
  },
  {
   "cell_type": "code",
   "execution_count": 1,
   "id": "59f89d43",
   "metadata": {},
   "outputs": [
    {
     "name": "stdout",
     "output_type": "stream",
     "text": [
      "Collecting tk\n",
      "  Downloading tk-0.1.0-py3-none-any.whl (3.9 kB)\n",
      "Installing collected packages: tk\n",
      "Successfully installed tk-0.1.0\n"
     ]
    }
   ],
   "source": [
    "!pip install tk  #installing tkinter library"
   ]
  },
  {
   "cell_type": "markdown",
   "id": "ddf84c19",
   "metadata": {},
   "source": [
    "### Creating Empty Window"
   ]
  },
  {
   "cell_type": "code",
   "execution_count": 2,
   "id": "a4c118de",
   "metadata": {},
   "outputs": [],
   "source": [
    "from tkinter import *             # importing tkinter library\n",
    "win = Tk()                        # creating object of tkinter\n",
    "win.title(\"My First Window\")      # creating title of window\n",
    "win.geometry(\"200x300\")           # setting size of the window\n",
    "win.mainloop()                    # creating tkinter window"
   ]
  },
  {
   "cell_type": "markdown",
   "id": "62e04dba",
   "metadata": {},
   "source": [
    "### Button"
   ]
  },
  {
   "cell_type": "code",
   "execution_count": 4,
   "id": "198dd03d",
   "metadata": {},
   "outputs": [],
   "source": [
    "from tkinter import *\n",
    "win = Tk()\n",
    "win.title(\"My Button\")\n",
    "\n",
    "button = Button(win, text = \"Click Me\", fg = \"red\", bg = 'green')\n",
    "button.place(x = 90, y = 110)\n",
    "\n",
    "win.geometry(\"400x200\")\n",
    "win.mainloop()"
   ]
  },
  {
   "cell_type": "markdown",
   "id": "8b862e70",
   "metadata": {},
   "source": [
    "### Label"
   ]
  },
  {
   "cell_type": "code",
   "execution_count": 9,
   "id": "4927772a",
   "metadata": {},
   "outputs": [],
   "source": [
    "from tkinter import *\n",
    "win = Tk()\n",
    "win.title(\"My Label\")\n",
    "\n",
    "lbl = Label(win, text = \"I am a label\", fg = \"red\", font = (\"Helvetica\",18))\n",
    "lbl.place(x = 110, y = 80)\n",
    "\n",
    "win.geometry(\"300x200\")\n",
    "win.mainloop()"
   ]
  },
  {
   "cell_type": "markdown",
   "id": "3c3bc41f",
   "metadata": {},
   "source": [
    "### Entry"
   ]
  },
  {
   "cell_type": "code",
   "execution_count": 13,
   "id": "d51e59ba",
   "metadata": {},
   "outputs": [],
   "source": [
    "from tkinter import *\n",
    "win = Tk()\n",
    "win.title(\"My Entry box\")\n",
    "entry = Entry(win, text = \"This is a entry box\", bg = \"yellow\")\n",
    "entry.place(x=90,y=100)\n",
    "win.geometry(\"250x200\")\n",
    "win.mainloop()"
   ]
  },
  {
   "cell_type": "markdown",
   "id": "0234985e",
   "metadata": {},
   "source": [
    "### Action on Button"
   ]
  },
  {
   "cell_type": "code",
   "execution_count": 15,
   "id": "5ed1d13f",
   "metadata": {},
   "outputs": [
    {
     "name": "stdout",
     "output_type": "stream",
     "text": [
      "you clicked !\n",
      "you clicked !\n",
      "you clicked !\n",
      "you clicked !\n",
      "you clicked !\n",
      "you clicked !\n"
     ]
    }
   ],
   "source": [
    "from tkinter import *\n",
    "win = Tk()\n",
    "win.title(\"Action Button\")\n",
    "\n",
    "def click_me():\n",
    "    print(\"you clicked !\")\n",
    "    \n",
    "btn = Button(win, text = \"Click Here\", command = click_me)\n",
    "btn.place(x=50,y=60)\n",
    "\n",
    "win.geometry(\"300x350\")\n",
    "win.mainloop()"
   ]
  },
  {
   "cell_type": "markdown",
   "id": "d8877aef",
   "metadata": {},
   "source": [
    "### Listbox"
   ]
  },
  {
   "cell_type": "code",
   "execution_count": 22,
   "id": "eda5bf18",
   "metadata": {},
   "outputs": [],
   "source": [
    "from tkinter import *\n",
    "win = Tk()\n",
    "win.title(\"My list box\")\n",
    "\n",
    "data = ['one','two','three','four']\n",
    "\n",
    "lb = Listbox(win, selectmode = 'multiple')\n",
    "for i in data:\n",
    "    lb.insert(END,i)\n",
    "lb.place(x=90,y=95)\n",
    "\n",
    "win.geometry(\"300x350\")\n",
    "win.mainloop()"
   ]
  },
  {
   "cell_type": "markdown",
   "id": "29222d97",
   "metadata": {},
   "source": [
    "### Combobox"
   ]
  },
  {
   "cell_type": "code",
   "execution_count": 76,
   "id": "f6422544",
   "metadata": {},
   "outputs": [],
   "source": [
    "from tkinter import *\n",
    "from tkinter.ttk import Combobox\n",
    "win = Tk()\n",
    "win.title(\"My Combo box\")\n",
    "\n",
    "data = ['one','two','three','four']\n",
    "\n",
    "var = StringVar()\n",
    "var.set(\"one\")\n",
    "cb = Combobox(win, values = data, textvariable = var)\n",
    "cb.place(x=60,y=70)\n",
    "\n",
    "win.geometry(\"300x250\")\n",
    "win.mainloop()"
   ]
  },
  {
   "cell_type": "markdown",
   "id": "b197113e",
   "metadata": {},
   "source": [
    "### Radiobutton"
   ]
  },
  {
   "cell_type": "code",
   "execution_count": 31,
   "id": "b26694b7",
   "metadata": {},
   "outputs": [],
   "source": [
    "from tkinter import *\n",
    "win = Tk()\n",
    "win.title(\"My radio button\")\n",
    "\n",
    "var = IntVar()\n",
    "var.set(1)\n",
    "rb1 = Radiobutton(win, text = 'male', variable = var, value = 1)\n",
    "rb2 = Radiobutton(win, text = 'female', variable = var, value = 2)\n",
    "rb1.place(x=50,y=60)\n",
    "rb2.place(x=110,y=60)\n",
    "\n",
    "win.geometry(\"300x250\")\n",
    "win.mainloop()"
   ]
  },
  {
   "cell_type": "markdown",
   "id": "50bcc84e",
   "metadata": {},
   "source": [
    "### Checkbutton"
   ]
  },
  {
   "cell_type": "code",
   "execution_count": 37,
   "id": "d3fbba17",
   "metadata": {},
   "outputs": [],
   "source": [
    "from tkinter import *\n",
    "win = Tk()\n",
    "win.title(\"My Check box\")\n",
    "\n",
    "var1 = IntVar()\n",
    "var2 = IntVar()\n",
    "chb1 = Checkbutton(win, text = \"Cricket\", variable = var1)\n",
    "chb2 = Checkbutton(win, text = \"Hockey\", variable = var2)\n",
    "chb1.place(x=50,y=60)\n",
    "chb2.place(x=50,y=80)\n",
    "\n",
    "win.geometry(\"300x250\")\n",
    "win.mainloop()"
   ]
  },
  {
   "cell_type": "raw",
   "id": "e46effaf",
   "metadata": {},
   "source": []
  },
  {
   "cell_type": "raw",
   "id": "b775a93b",
   "metadata": {},
   "source": [
    "Date - 29/05/2021  09:15 AM to 11:30 AM"
   ]
  },
  {
   "cell_type": "markdown",
   "id": "3ab51689",
   "metadata": {},
   "source": [
    "### scrolledtext"
   ]
  },
  {
   "cell_type": "code",
   "execution_count": 7,
   "id": "4c7c2a5c",
   "metadata": {},
   "outputs": [],
   "source": [
    "from tkinter import *\n",
    "from tkinter import scrolledtext\n",
    "win = Tk()\n",
    "scrolledtext.ScrolledText(win, width=40, height=10).place(x=100,y=100)\n",
    "win.geometry(\"400x300\")\n",
    "win.mainloop()"
   ]
  },
  {
   "cell_type": "markdown",
   "id": "f61b8813",
   "metadata": {},
   "source": [
    "### messagebox"
   ]
  },
  {
   "cell_type": "code",
   "execution_count": 1,
   "id": "4f039a79",
   "metadata": {},
   "outputs": [],
   "source": [
    "from tkinter import *\n",
    "from tkinter import messagebox\n",
    "win = Tk()\n",
    "messagebox.showerror(\"ERROR\",\"I am a error message\")\n",
    "win.mainloop()"
   ]
  },
  {
   "cell_type": "markdown",
   "id": "da974a26",
   "metadata": {},
   "source": [
    "### Frame"
   ]
  },
  {
   "cell_type": "code",
   "execution_count": 14,
   "id": "4bc3bffc",
   "metadata": {},
   "outputs": [],
   "source": [
    "from tkinter import *\n",
    "win = Tk()\n",
    "win.title(\"Frame 001\")\n",
    "\n",
    "top_frame = Frame(win)\n",
    "top_frame.pack(side = TOP)\n",
    "\n",
    "bottom_frame = Frame(win)\n",
    "bottom_frame.pack(side = BOTTOM)\n",
    "\n",
    "left_frame = Frame(win)\n",
    "left_frame.pack(side = LEFT)\n",
    "\n",
    "right_frame = Frame(win)\n",
    "right_frame.pack(side = RIGHT)\n",
    "\n",
    "btn1 = Button(top_frame, text = 'Button1', fg='red')\n",
    "btn1.pack()\n",
    "btn2 = Button(bottom_frame, text = 'Button2', fg='blue')\n",
    "btn2.pack()\n",
    "\n",
    "btn3 = Button(left_frame, text = 'Button3', fg='green')\n",
    "btn3.pack()\n",
    "btn4 = Button(right_frame, text = 'Button4', fg='yellow')\n",
    "btn4.pack()\n",
    "\n",
    "win.geometry(\"300x300\")\n",
    "win.resizable(True,True)\n",
    "win.mainloop()"
   ]
  },
  {
   "cell_type": "markdown",
   "id": "1a162325",
   "metadata": {},
   "source": [
    "### Open New Window"
   ]
  },
  {
   "cell_type": "code",
   "execution_count": 20,
   "id": "f1918bd8",
   "metadata": {},
   "outputs": [],
   "source": [
    "from tkinter import *\n",
    "win = Tk()\n",
    "win.title(\"Main Window\")\n",
    "\n",
    "def new_window():\n",
    "    new_win = Toplevel(win)\n",
    "    new_win.title(\"New Window\")\n",
    "    new_win.geometry(\"200x150\")\n",
    "    Label(new_win, text=\"I am a new window !\").place(x=50,y=50)\n",
    "\n",
    "Button(win, text=\"Open new window\", command=new_window).place(x=80,y=60)\n",
    "win.geometry(\"250x200\")\n",
    "win.mainloop()"
   ]
  },
  {
   "cell_type": "markdown",
   "id": "2776253f",
   "metadata": {},
   "source": [
    "### Using grid method"
   ]
  },
  {
   "cell_type": "code",
   "execution_count": 34,
   "id": "964d24aa",
   "metadata": {},
   "outputs": [],
   "source": [
    "from tkinter import *\n",
    "\n",
    "win = Tk()\n",
    "win.title(\"Test\")\n",
    "\n",
    "def click():\n",
    "    print(\"you cliked me !\")\n",
    "Label(win, text=\"Hey !\").grid(row = 1, column =1, sticky ='NSEW')\n",
    "Button(win, text=\"Click Me\", command = click).grid(row = 1,column = 2, sticky ='NSEW')\n",
    "\n",
    "win.mainloop()"
   ]
  },
  {
   "cell_type": "raw",
   "id": "99969c10",
   "metadata": {},
   "source": []
  },
  {
   "cell_type": "raw",
   "id": "9171c67f",
   "metadata": {},
   "source": [
    "Date - 30/05/2021  09:15 AM to 11:30 AM"
   ]
  },
  {
   "cell_type": "markdown",
   "id": "f28ef79c",
   "metadata": {},
   "source": [
    "## GUI with Database"
   ]
  },
  {
   "cell_type": "markdown",
   "id": "3d2cd139",
   "metadata": {},
   "source": [
    "### Database"
   ]
  },
  {
   "cell_type": "code",
   "execution_count": 1,
   "id": "3ea76e26",
   "metadata": {},
   "outputs": [
    {
     "name": "stdout",
     "output_type": "stream",
     "text": [
      "Table created successfully\n",
      "MySQL Connection is Closed\n"
     ]
    }
   ],
   "source": [
    "import mysql.connector\n",
    "from mysql.connector import Error\n",
    "\n",
    "try:\n",
    "    con = mysql.connector.connect(host = \"localhost\", database = \"mywork\", user = \"root\", password = \"root\")\n",
    "    cur = con.cursor()\n",
    "    \n",
    "    create_table = \"\"\"CREATE TABLE admin(\n",
    "    id int(10) NOT NULL AUTO_INCREMENT,\n",
    "    name varchar(250) NOT NULL,\n",
    "    mail varchar(250) NOT NULL,\n",
    "    contact varchar(20) NOT NULL,\n",
    "    gender varchar(20) NOT NULL,\n",
    "    city varchar(20) NOT NULL,\n",
    "    state varchar(20) NOT NULL,\n",
    "    PRIMARY KEY(id));\"\"\"\n",
    "    \n",
    "    cur.execute(create_table)\n",
    "    print(\"Table created successfully\")\n",
    "\n",
    "except Error as e:\n",
    "    print(\"Failed to create Table\",e)\n",
    "\n",
    "finally:\n",
    "    if con.is_connected():\n",
    "        cur.close()\n",
    "        con.close()\n",
    "        print(\"MySQL Connection is Closed\")"
   ]
  },
  {
   "cell_type": "code",
   "execution_count": 4,
   "id": "37939b8b",
   "metadata": {},
   "outputs": [],
   "source": [
    "import mysql.connector as ms\n",
    "from mysql.connector import Error\n",
    "\n",
    "def login():\n",
    "    pass\n",
    "\n",
    "def register():\n",
    "    reg_name = name.get()\n",
    "    reg_mail = mail.get()\n",
    "    reg_contact = contact.get()\n",
    "    reg_gender = gen.get()\n",
    "    reg_city = ct.get()\n",
    "    reg_state = st.get()\n",
    "    \n",
    "    if reg_name=='' or reg_mail=='' or reg_contact=='' or reg_gender=='' or reg_city=='Select' or reg_state=='Select':\n",
    "        mess.set(\"Please Fill All Required Details\")\n",
    "    else:\n",
    "        try:\n",
    "            con = ms.connect(host ='localhost',database ='mywork',user ='root',password ='root')\n",
    "            cur = con.cursor()\n",
    "            \n",
    "            reg_query = \"INSERT INTO admin(name, mail, contact, gender, city, state) VALUES(%s,%s,%s,%s,%s,%s)\"\n",
    "            \n",
    "            if reg_gender ==1:\n",
    "                data = (reg_name, reg_mail, reg_contact, 'Male', reg_city, reg_state)\n",
    "            else:\n",
    "                data = (reg_name, reg_mail, reg_contact, 'Female', reg_city, reg_state)\n",
    "            print(data)\n",
    "            cur.execute(reg_query, data)\n",
    "            con.commit()\n",
    "            mess.set(\"Submitted Successfully\")\n",
    "        except Error as e:\n",
    "            mess.set(e)\n",
    "            \n",
    "def exit():\n",
    "    win.destroy()\n",
    "\n",
    "def clear():\n",
    "    name.set(\"\")\n",
    "    contact.set(\"\")\n",
    "    mail.set(\"\")\n",
    "    gen.set(1)\n",
    "    ct.set(\"Select\")\n",
    "    st.set(\"Select\")\n",
    "    mess.set('')"
   ]
  },
  {
   "cell_type": "markdown",
   "id": "40d8bcb9",
   "metadata": {},
   "source": [
    "### GUI"
   ]
  },
  {
   "cell_type": "code",
   "execution_count": 5,
   "id": "e0e2d44e",
   "metadata": {},
   "outputs": [
    {
     "name": "stdout",
     "output_type": "stream",
     "text": [
      "('Dharmesh Vishwakarma', 'dharmeshvishwakarma2000@gmail.com', '9930284588', 'Male', 'Mumbai', 'Maharashtra')\n"
     ]
    }
   ],
   "source": [
    "from tkinter import *\n",
    "from tkinter.ttk import Combobox\n",
    "win = Tk()\n",
    "win.title(\"MyAdmin\")\n",
    "\n",
    "Label(win, text = \"Registration Form\", bg = 'red').place(x=150,y=20)\n",
    "\n",
    "name = StringVar()\n",
    "Label(win, text = \"Enter Your Name :\").place(x=60,y=80)\n",
    "Entry(win, textvariable = name).place(x=180,y=80)\n",
    "\n",
    "mail = StringVar()\n",
    "Label(win, text = \"Enter Your Mail :\").place(x=60,y=120)\n",
    "Entry(win, textvariable = mail).place(x=180,y=120)\n",
    "\n",
    "contact = StringVar()\n",
    "Label(win, text = \"Enter Your Contact :\").place(x=60,y=160)\n",
    "Entry(win, textvariable = contact).place(x=180,y=160)\n",
    "\n",
    "gen = IntVar()\n",
    "gen.set(1)\n",
    "Label(win, text = \"Gender :\").place(x=60,y=200)\n",
    "Radiobutton(win, text = \"Male\", variable = gen, value = 1).place(x=160,y=200)\n",
    "Radiobutton(win, text = \"Female\", variable = gen, value = 2).place(x=240,y=200)\n",
    "\n",
    "\n",
    "ct = StringVar()\n",
    "ct.set('Select')\n",
    "Label(win, text = \"City :\").place(x=60,y=240)\n",
    "ct_lst = Combobox(win, textvariable = ct)\n",
    "ct_lst['values'] = ['Mumbai', 'Pune', 'Nagpur', 'Banglore', 'Chennai', 'Hydrabad', 'Noida']\n",
    "ct_lst.place(x=160,y=240)\n",
    "\n",
    "st = StringVar()\n",
    "st.set('Select')\n",
    "Label(win, text = \"State :\").place(x=60,y=280)\n",
    "st_lst = Combobox(win, textvariable = st)\n",
    "st_lst['values'] = ['Maharashtra', 'Karnataka', 'Tamil Nadu', 'Andra Pradesh', 'Madhya Pradesh']\n",
    "st_lst.place(x=160,y=280)\n",
    "\n",
    "mess = StringVar()\n",
    "Label(win, text = '', textvariable = mess).place(x=60,y=320)\n",
    "\n",
    "Button(win, text='Submit', bg='blue', font = (5), width = 8, command = register).place(x=60,y=350)\n",
    "Button(win, text='Clear', bg='blue', font = (5), width = 8, command = clear).place(x=160,y=350)\n",
    "Button(win, text='Exit', bg='blue', font = (5), width = 8, command = exit).place(x=260,y=350)\n",
    "\n",
    "win.geometry(\"400x400\")\n",
    "win.mainloop()"
   ]
  },
  {
   "cell_type": "code",
   "execution_count": null,
   "id": "4b71e242",
   "metadata": {},
   "outputs": [],
   "source": []
  }
 ],
 "metadata": {
  "kernelspec": {
   "display_name": "Python 3",
   "language": "python",
   "name": "python3"
  },
  "language_info": {
   "codemirror_mode": {
    "name": "ipython",
    "version": 3
   },
   "file_extension": ".py",
   "mimetype": "text/x-python",
   "name": "python",
   "nbconvert_exporter": "python",
   "pygments_lexer": "ipython3",
   "version": "3.8.8"
  }
 },
 "nbformat": 4,
 "nbformat_minor": 5
}
