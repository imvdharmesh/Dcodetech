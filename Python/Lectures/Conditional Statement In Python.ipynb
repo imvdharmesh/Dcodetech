{
 "cells": [
  {
   "cell_type": "raw",
   "metadata": {},
   "source": [
    "Date : 06/02/2021  12:15 PM to 02:15 PM"
   ]
  },
  {
   "cell_type": "markdown",
   "metadata": {},
   "source": [
    "# Conditional Statement In Python"
   ]
  },
  {
   "cell_type": "raw",
   "metadata": {},
   "source": [
    "if\n",
    "elif\n",
    "else"
   ]
  },
  {
   "cell_type": "markdown",
   "metadata": {},
   "source": [
    "### if"
   ]
  },
  {
   "cell_type": "code",
   "execution_count": 1,
   "metadata": {},
   "outputs": [
    {
     "name": "stdout",
     "output_type": "stream",
     "text": [
      "Enter any number:4\n",
      "Number is greater than 0.\n"
     ]
    }
   ],
   "source": [
    "inp_num = int(input(\"Enter any number:\"))\n",
    "if(inp_num > 0):\n",
    "    print(\"Number is greater than 0.\")"
   ]
  },
  {
   "cell_type": "code",
   "execution_count": null,
   "metadata": {},
   "outputs": [],
   "source": []
  },
  {
   "cell_type": "markdown",
   "metadata": {},
   "source": [
    "### if..else"
   ]
  },
  {
   "cell_type": "code",
   "execution_count": 3,
   "metadata": {},
   "outputs": [
    {
     "name": "stdout",
     "output_type": "stream",
     "text": [
      "Enter your age:17\n",
      "You are not eligible to vote.\n"
     ]
    }
   ],
   "source": [
    "inp_age = int(input(\"Enter your age:\"))\n",
    "if(inp_age >= 18):\n",
    "    print(\"You are eligible to vote.\")\n",
    "else:\n",
    "    print(\"You are not eligible to vote.\")"
   ]
  },
  {
   "cell_type": "code",
   "execution_count": null,
   "metadata": {},
   "outputs": [],
   "source": []
  },
  {
   "cell_type": "markdown",
   "metadata": {},
   "source": [
    "### if..elif..else"
   ]
  },
  {
   "cell_type": "code",
   "execution_count": 9,
   "metadata": {},
   "outputs": [
    {
     "name": "stdout",
     "output_type": "stream",
     "text": [
      "Enter your age:18\n",
      "Enter your country name:us\n",
      "Invalid !\n"
     ]
    }
   ],
   "source": [
    "inp_age = int(input(\"Enter your age:\"))\n",
    "inp_cntry = input(\"Enter your country name:\")\n",
    "inp_cntry = inp_cntry.lower()\n",
    "if(inp_age >= 18 and inp_cntry == 'india'):\n",
    "    print(\"You are eligible to vote.\")\n",
    "elif(inp_age < 18):\n",
    "    print(\"You are not eligible to vote.\")\n",
    "else:\n",
    "    print(\"Invalid !\")"
   ]
  },
  {
   "cell_type": "raw",
   "metadata": {},
   "source": [
    "Problem:\n",
    "\n",
    "When squirrels get together for a party, they like to have cigars. A squirrel party is successful when the number of cigars is between 40 and 60, inclusive. Unless it is the weekend, in which case there is no upper bound on the number of cigars. Return True if the party with the given values is successful, or False otherwise."
   ]
  },
  {
   "cell_type": "code",
   "execution_count": 11,
   "metadata": {},
   "outputs": [
    {
     "name": "stdout",
     "output_type": "stream",
     "text": [
      "Enter no. of cigars:40\n",
      "Enter we for weekend or wd for weekday:wd\n",
      "Party Successfull\n"
     ]
    }
   ],
   "source": [
    "c = int(input(\"Enter no. of cigars:\"))\n",
    "day = input(\"Enter we for weekend or wd for weekday:\")\n",
    "\n",
    "if(day == 'wd' and c >= 40 and c <=60):\n",
    "    print(\"Party Successfull\")\n",
    "elif(day == 'we' and c>= 40):\n",
    "    print(\"Party Successfull\")\n",
    "else:\n",
    "    print(\"Party Unsuccessfull\")"
   ]
  }
 ],
 "metadata": {
  "kernelspec": {
   "display_name": "Python 3",
   "language": "python",
   "name": "python3"
  },
  "language_info": {
   "codemirror_mode": {
    "name": "ipython",
    "version": 3
   },
   "file_extension": ".py",
   "mimetype": "text/x-python",
   "name": "python",
   "nbconvert_exporter": "python",
   "pygments_lexer": "ipython3",
   "version": "3.8.5"
  }
 },
 "nbformat": 4,
 "nbformat_minor": 4
}
