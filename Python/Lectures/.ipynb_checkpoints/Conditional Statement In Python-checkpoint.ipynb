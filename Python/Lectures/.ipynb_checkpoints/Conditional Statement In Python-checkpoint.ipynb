{
 "cells": [
  {
   "cell_type": "markdown",
   "metadata": {},
   "source": [
    "# Conditional Statement\n",
    "\n",
    "Conditional statements are the way computers can make decisions."
   ]
  },
  {
   "cell_type": "markdown",
   "metadata": {},
   "source": [
    "## if Statement\n",
    "\n",
    "An if statement is a conditional statement that runs or skips code based on whether condition is True or False."
   ]
  },
  {
   "cell_type": "code",
   "execution_count": 1,
   "metadata": {},
   "outputs": [
    {
     "name": "stdout",
     "output_type": "stream",
     "text": [
      "Enter any number:10\n",
      "Number is greater than 0.\n"
     ]
    }
   ],
   "source": [
    "inp_num = int(input(\"Enter any number:\"))\n",
    "if(inp_num > 0):\n",
    "    print(\"Number is greater than 0.\")"
   ]
  },
  {
   "cell_type": "code",
   "execution_count": 2,
   "metadata": {},
   "outputs": [
    {
     "name": "stdout",
     "output_type": "stream",
     "text": [
      "Enter the number:1\n"
     ]
    }
   ],
   "source": [
    "inp_num = int(input('Enter the number:'))\n",
    "if inp_num < 0:\n",
    "    print(\"Number is less than 0.\")"
   ]
  },
  {
   "cell_type": "markdown",
   "metadata": {},
   "source": [
    "## elif Statement\n",
    "\n",
    "An elif statement is used to check for an additional condition if the conditions in the previous clause in the if statement evaluate to False."
   ]
  },
  {
   "cell_type": "code",
   "execution_count": 3,
   "metadata": {},
   "outputs": [
    {
     "name": "stdout",
     "output_type": "stream",
     "text": [
      "Enter you age:19\n",
      "You are eligible to vote.\n"
     ]
    }
   ],
   "source": [
    "age = int(input(\"Enter you age:\"))\n",
    "if age < 18:\n",
    "    print(\"You are not eligible to vote.\")\n",
    "elif age > 18:\n",
    "    print(\"You are eligible to vote.\")"
   ]
  },
  {
   "cell_type": "markdown",
   "metadata": {},
   "source": [
    "## else Statement\n",
    "\n",
    "An else statement, which must come at the end of an \"if statement\" if used. This clause doesn't require a condition."
   ]
  },
  {
   "cell_type": "code",
   "execution_count": 4,
   "metadata": {},
   "outputs": [
    {
     "name": "stdout",
     "output_type": "stream",
     "text": [
      "Enter your age:16\n",
      "You are not eligible to vote.\n"
     ]
    }
   ],
   "source": [
    "inp_age = int(input(\"Enter your age:\"))\n",
    "if(inp_age >= 18):\n",
    "    print(\"You are eligible to vote.\")\n",
    "else:\n",
    "    print(\"You are not eligible to vote.\")"
   ]
  },
  {
   "cell_type": "markdown",
   "metadata": {},
   "source": [
    "### if..elif..else"
   ]
  },
  {
   "cell_type": "code",
   "execution_count": 5,
   "metadata": {},
   "outputs": [
    {
     "name": "stdout",
     "output_type": "stream",
     "text": [
      "Enter your age:22\n",
      "Enter your country name:India\n",
      "You are eligible to vote.\n"
     ]
    }
   ],
   "source": [
    "inp_age = int(input(\"Enter your age:\"))\n",
    "inp_cntry = input(\"Enter your country name:\")\n",
    "inp_cntry = inp_cntry.lower()\n",
    "if(inp_age >= 18 and inp_cntry == 'india'):\n",
    "    print(\"You are eligible to vote.\")\n",
    "elif(inp_age < 18):\n",
    "    print(\"You are not eligible to vote.\")\n",
    "else:\n",
    "    print(\"Invalid !\")"
   ]
  },
  {
   "cell_type": "markdown",
   "metadata": {},
   "source": [
    "## Problem:\n",
    "\n",
    "When squirrels get together for a party, they like to have cigars. A squirrel party is successful when the number of cigars is between 40 and 60, inclusive. Unless it is the weekend, in which case there is no upper bound on the number of cigars. Return True if the party with the given values is successful, or False otherwise."
   ]
  },
  {
   "cell_type": "code",
   "execution_count": 6,
   "metadata": {},
   "outputs": [
    {
     "name": "stdout",
     "output_type": "stream",
     "text": [
      "Enter no. of cigars:50\n",
      "Enter we for weekend or wd for weekday:we\n",
      "Party Successfull\n"
     ]
    }
   ],
   "source": [
    "c = int(input(\"Enter no. of cigars:\"))\n",
    "day = input(\"Enter we for weekend or wd for weekday:\")\n",
    "\n",
    "if(day == 'wd' and c >= 40 and c <=60):\n",
    "    print(\"Party Successfull\")\n",
    "elif(day == 'we' and c>= 40):\n",
    "    print(\"Party Successfull\")\n",
    "else:\n",
    "    print(\"Party Unsuccessfull\")"
   ]
  }
 ],
 "metadata": {
  "kernelspec": {
   "display_name": "Python 3",
   "language": "python",
   "name": "python3"
  },
  "language_info": {
   "codemirror_mode": {
    "name": "ipython",
    "version": 3
   },
   "file_extension": ".py",
   "mimetype": "text/x-python",
   "name": "python",
   "nbconvert_exporter": "python",
   "pygments_lexer": "ipython3",
   "version": "3.8.8"
  }
 },
 "nbformat": 4,
 "nbformat_minor": 4
}
