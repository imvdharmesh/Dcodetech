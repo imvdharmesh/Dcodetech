{
 "cells": [
  {
   "cell_type": "markdown",
   "metadata": {},
   "source": [
    "# Object Oriented Programming In Python"
   ]
  },
  {
   "cell_type": "markdown",
   "metadata": {},
   "source": [
    "OOPs, Object-Orient Programming is a programming paradigm that provides a mean of structuring program so that the properties and behaviour are bundled into a single object.\n",
    "\n",
    "Objects can be considered as real-world instances of entities like class, that contain some characteristics and behaviors specified in the class template.\n",
    "\n",
    "### Class :\n",
    "\n",
    "A user defined prototype that defines a set of attributes and methods that characterize any object of the class.\n",
    "\n",
    "The attributes are (class variables and instance variables) & methods are (some set of rules, behaviors or functions).\n",
    "\n",
    "### Object :\n",
    "\n",
    "An Object refers to the instance of the class, which contains the instance of the members and behaviors defined in the class.\n",
    "\n",
    "In the real world, an object is an actual entity to which a user interacts, whereas class is just the blueprint for that object\n",
    "\n",
    "#### Instance Variable\n",
    "\n",
    "An Instance variable is a variable defined in a class (i.e. a member variable), for which each instantiated object of the class has a separate copy or instance.\n",
    "\n",
    "#### Class Variable\n",
    "\n",
    "A variable which is declared inside the class but outside the constructor is called as class variable.\n",
    "\n",
    "#### Class Method\n",
    "\n",
    "A class method is a method that is bounded to the class rather than the object.\n",
    "\n",
    "#### Characteristics :\n",
    "\n",
    "* It have cls or self as an argument.\n",
    "* The class method access the class attributes or the instance attributes.\n",
    "\n",
    "#### Static Method\n",
    "\n",
    "A static method is a built-in feature where it does not recieve any referance arguments whether it is called by instance or by the class itself.\n",
    "\n",
    "#### Characteristics :\n",
    "\n",
    "* It can not have cls or self as an argument.\n",
    "* The static method can not access the class attributes or the instance attributes.\n",
    "* It can be called using class.method_name() or by object.method_name().\n",
    "\n",
    "## Features of OOPs\n",
    "\n",
    "* Inheritance\n",
    "* Encapsulation\n",
    "* Polymorphism\n",
    "* Data Abstraction\n",
    "\n",
    "### Inheritance\n",
    "\n",
    "Inheritance is the procedure in which one class inherits the attributes and methodsof another class.\n",
    "\n",
    "The class whose properties and methods are inherited is known as the Parent class.\n",
    "\n",
    "The class that inherits the properties from the parent class is the Child class.\n",
    "\n",
    "* Single Inheritance\n",
    "* Multiple Inheritance\n",
    "* Multilevel Inheritance\n",
    "* Hierarchical Inheritance\n",
    "* Hybrid Inheritance\n",
    "\n",
    "#### Single Inheritance\n",
    "\n",
    "This is a form of inheritance in which a class inherits only one Parent class.\n",
    "\n",
    "#### Multiple Inheritance\n",
    "\n",
    "An inheritance becomes multiple inheritances when a class inherits more than one parent class\n",
    "\n",
    "The child class after inheriting properties from various parent classes has access to all of their objects.\n",
    "\n",
    "#### Multilevel Inheritance\n",
    "\n",
    "In Multilevel inheritance, features of the base class and the derived class are inherited into the new derived class.\n",
    "Use super() keyword in python in multiple inheritance.\n",
    "\n",
    "#### Hierarchical Inheritance\n",
    "\n",
    "In this, various Child classes inherit a single Parent class.\n",
    "\n",
    "#### Hybridge Inheritance\n",
    "\n",
    "It consist all types of inheritance.\n",
    "\n",
    "When there is a combination of more than one form of inheritance, it is known as Hybridge Inheritance.\n",
    "\n",
    "### Encapsulation\n",
    "\n",
    "Encapsulation describe the idea of wrapping the data and the methods that work on data with in one unit.\n",
    "\n",
    "This puts restrictions on accessing the variables and the methods directly and can prevent accidental modifications of the data.\n",
    "\n",
    "* __Data Hiding:__ Encapsulation is the process of hiding unwanted information, such as restricting access to any member of an object.\n",
    "\n",
    "* __Data Binding:__ Encapsulation is the process of binding the data members and the methods together as a whole, as a class.\n",
    "\n",
    "#### Protected Members\n",
    "\n",
    "Protected members are those members of the class that can not be accessed outside the class but can be accessed with in the class & its subclass.\n",
    "\n",
    "#### Private Members\n",
    "\n",
    "Private members are similar to protected, the difference is that class members declared private should neither be accessed outside the class nor can be accessed by any class.\n",
    "\n",
    "### Polymorphism\n",
    "\n",
    "Polymorphism is composed of two words - \"poly\" which means \"many\" and \"morph\" which means \"shapes\". Therefore Polymorphism refers to something that has many shapes.\n",
    "\n",
    "### Data Abstraction\n",
    "\n",
    "Abstraction is the method of hiding unnecessary details from the necessary ones.\n",
    "\n",
    "Abstraction is used to hide the intrnal functionality of the function from the users."
   ]
  },
  {
   "cell_type": "markdown",
   "metadata": {},
   "source": [
    "#### Defining A Class"
   ]
  },
  {
   "cell_type": "code",
   "execution_count": 1,
   "metadata": {},
   "outputs": [],
   "source": [
    "class Bird:\n",
    "    pass   #class body"
   ]
  },
  {
   "cell_type": "code",
   "execution_count": 2,
   "metadata": {},
   "outputs": [
    {
     "name": "stdout",
     "output_type": "stream",
     "text": [
      "<class '__main__.Bird'>\n"
     ]
    }
   ],
   "source": [
    "print(Bird)"
   ]
  },
  {
   "cell_type": "code",
   "execution_count": 3,
   "metadata": {},
   "outputs": [],
   "source": [
    "b1 = Bird() #object 1"
   ]
  },
  {
   "cell_type": "code",
   "execution_count": 4,
   "metadata": {},
   "outputs": [],
   "source": [
    "b2 = Bird() #object 2"
   ]
  },
  {
   "cell_type": "code",
   "execution_count": 5,
   "metadata": {},
   "outputs": [
    {
     "name": "stdout",
     "output_type": "stream",
     "text": [
      "<__main__.Bird object at 0x000000C81B7DC730>\n",
      "859454687024\n"
     ]
    }
   ],
   "source": [
    "print(b1)\n",
    "print(id(b1))"
   ]
  },
  {
   "cell_type": "code",
   "execution_count": 6,
   "metadata": {},
   "outputs": [
    {
     "name": "stdout",
     "output_type": "stream",
     "text": [
      "<__main__.Bird object at 0x000000C81B7E68E0>\n",
      "859454728416\n"
     ]
    }
   ],
   "source": [
    "print(b2)\n",
    "print(id(b2))"
   ]
  },
  {
   "cell_type": "code",
   "execution_count": 7,
   "metadata": {},
   "outputs": [
    {
     "data": {
      "text/plain": [
       "False"
      ]
     },
     "execution_count": 7,
     "metadata": {},
     "output_type": "execute_result"
    }
   ],
   "source": [
    "b1==b2"
   ]
  },
  {
   "cell_type": "markdown",
   "metadata": {},
   "source": [
    "### Instance Variable"
   ]
  },
  {
   "cell_type": "markdown",
   "metadata": {},
   "source": [
    "Constructors are generally used for instantiating (register) an object, The task of the constructor is to assign (initialize) the variables (data members) of the class when the objectis created."
   ]
  },
  {
   "cell_type": "code",
   "execution_count": 8,
   "metadata": {},
   "outputs": [],
   "source": [
    "class Employee:\n",
    "    \n",
    "    def __init__(self, fname, lname, age, qualification): # instance variable\n",
    "        self.fname = fname\n",
    "        self.lname = lname\n",
    "        self.age = age\n",
    "        self.qualification = qualification\n",
    "        \n",
    "    def per_details(self):\n",
    "        print(\"First name :\",self.fname)\n",
    "        print(\"Last name :\",self.lname)\n",
    "        print(\"Age is :\",self.age)\n",
    "        \n",
    "    def qual_details(self):\n",
    "        print(\"Qualification :\",self.qualification)"
   ]
  },
  {
   "cell_type": "code",
   "execution_count": 9,
   "metadata": {},
   "outputs": [],
   "source": [
    "e1 = Employee(\"Dharmesh\",\"Vishwakarma\",21,\"BSc\")"
   ]
  },
  {
   "cell_type": "code",
   "execution_count": 10,
   "metadata": {},
   "outputs": [
    {
     "data": {
      "text/plain": [
       "'Dharmesh'"
      ]
     },
     "execution_count": 10,
     "metadata": {},
     "output_type": "execute_result"
    }
   ],
   "source": [
    "e1.fname"
   ]
  },
  {
   "cell_type": "code",
   "execution_count": 11,
   "metadata": {},
   "outputs": [
    {
     "data": {
      "text/plain": [
       "'Vishwakarma'"
      ]
     },
     "execution_count": 11,
     "metadata": {},
     "output_type": "execute_result"
    }
   ],
   "source": [
    "e1.lname"
   ]
  },
  {
   "cell_type": "code",
   "execution_count": 12,
   "metadata": {},
   "outputs": [
    {
     "data": {
      "text/plain": [
       "21"
      ]
     },
     "execution_count": 12,
     "metadata": {},
     "output_type": "execute_result"
    }
   ],
   "source": [
    "e1.age"
   ]
  },
  {
   "cell_type": "code",
   "execution_count": 13,
   "metadata": {},
   "outputs": [
    {
     "data": {
      "text/plain": [
       "'BSc'"
      ]
     },
     "execution_count": 13,
     "metadata": {},
     "output_type": "execute_result"
    }
   ],
   "source": [
    "e1.qualification"
   ]
  },
  {
   "cell_type": "code",
   "execution_count": 14,
   "metadata": {},
   "outputs": [
    {
     "name": "stdout",
     "output_type": "stream",
     "text": [
      "First name : Dharmesh\n",
      "Last name : Vishwakarma\n",
      "Age is : 21\n"
     ]
    }
   ],
   "source": [
    "e1.per_details()"
   ]
  },
  {
   "cell_type": "code",
   "execution_count": 15,
   "metadata": {},
   "outputs": [
    {
     "name": "stdout",
     "output_type": "stream",
     "text": [
      "Qualification : BSc\n"
     ]
    }
   ],
   "source": [
    "e1.qual_details()"
   ]
  },
  {
   "cell_type": "markdown",
   "metadata": {},
   "source": [
    "### Class Variable"
   ]
  },
  {
   "cell_type": "code",
   "execution_count": 20,
   "metadata": {},
   "outputs": [],
   "source": [
    "class PayRoll:\n",
    "    increment_rate = 2  # class variable\n",
    "    def __init__(self, fname, lname, salary):\n",
    "        self.fname = fname\n",
    "        self.lname = lname\n",
    "        self.salary = salary\n",
    "        \n",
    "    def data(self):\n",
    "        print(\"Data is {} {} {}\".format(self.fname,self.lname,self.salary))\n",
    "        \n",
    "    def raise_salary(self):\n",
    "        self.salary *= self.increment_rate"
   ]
  },
  {
   "cell_type": "code",
   "execution_count": 21,
   "metadata": {},
   "outputs": [],
   "source": [
    "p1 = PayRoll(\"Dharmesh\", \"Vishwakarma\", 1000)"
   ]
  },
  {
   "cell_type": "code",
   "execution_count": 22,
   "metadata": {},
   "outputs": [
    {
     "data": {
      "text/plain": [
       "'Dharmesh'"
      ]
     },
     "execution_count": 22,
     "metadata": {},
     "output_type": "execute_result"
    }
   ],
   "source": [
    "p1.fname"
   ]
  },
  {
   "cell_type": "code",
   "execution_count": 23,
   "metadata": {},
   "outputs": [
    {
     "data": {
      "text/plain": [
       "'Vishwakarma'"
      ]
     },
     "execution_count": 23,
     "metadata": {},
     "output_type": "execute_result"
    }
   ],
   "source": [
    "p1.lname"
   ]
  },
  {
   "cell_type": "code",
   "execution_count": 24,
   "metadata": {},
   "outputs": [
    {
     "data": {
      "text/plain": [
       "1000"
      ]
     },
     "execution_count": 24,
     "metadata": {},
     "output_type": "execute_result"
    }
   ],
   "source": [
    "p1.salary"
   ]
  },
  {
   "cell_type": "code",
   "execution_count": 25,
   "metadata": {},
   "outputs": [
    {
     "name": "stdout",
     "output_type": "stream",
     "text": [
      "Data is Dharmesh Vishwakarma 1000\n"
     ]
    }
   ],
   "source": [
    "p1.data()"
   ]
  },
  {
   "cell_type": "code",
   "execution_count": 26,
   "metadata": {},
   "outputs": [],
   "source": [
    "p1.raise_salary()"
   ]
  },
  {
   "cell_type": "code",
   "execution_count": 27,
   "metadata": {},
   "outputs": [
    {
     "name": "stdout",
     "output_type": "stream",
     "text": [
      "Data is Dharmesh Vishwakarma 2000\n"
     ]
    }
   ],
   "source": [
    "p1.data()"
   ]
  },
  {
   "cell_type": "code",
   "execution_count": 30,
   "metadata": {},
   "outputs": [],
   "source": [
    "p2 = PayRoll(\"Test\", \"Demo\", 5000)"
   ]
  },
  {
   "cell_type": "code",
   "execution_count": 31,
   "metadata": {},
   "outputs": [
    {
     "name": "stdout",
     "output_type": "stream",
     "text": [
      "Data is Test Demo 5000\n"
     ]
    }
   ],
   "source": [
    "p2.data()"
   ]
  },
  {
   "cell_type": "code",
   "execution_count": 32,
   "metadata": {},
   "outputs": [],
   "source": [
    "p2.increment_rate = 3  # increment rate 3 for p2"
   ]
  },
  {
   "cell_type": "code",
   "execution_count": 33,
   "metadata": {},
   "outputs": [
    {
     "name": "stdout",
     "output_type": "stream",
     "text": [
      "Data is Test Demo 5000\n"
     ]
    }
   ],
   "source": [
    "p2.data()"
   ]
  },
  {
   "cell_type": "code",
   "execution_count": 34,
   "metadata": {},
   "outputs": [],
   "source": [
    "p2.raise_salary()"
   ]
  },
  {
   "cell_type": "code",
   "execution_count": 35,
   "metadata": {},
   "outputs": [
    {
     "data": {
      "text/plain": [
       "15000"
      ]
     },
     "execution_count": 35,
     "metadata": {},
     "output_type": "execute_result"
    }
   ],
   "source": [
    "p2.salary"
   ]
  },
  {
   "cell_type": "code",
   "execution_count": 36,
   "metadata": {},
   "outputs": [
    {
     "name": "stdout",
     "output_type": "stream",
     "text": [
      "Data is Test Demo 15000\n"
     ]
    }
   ],
   "source": [
    "p2.data()"
   ]
  },
  {
   "cell_type": "markdown",
   "metadata": {},
   "source": [
    "### Class Method"
   ]
  },
  {
   "cell_type": "code",
   "execution_count": 57,
   "metadata": {},
   "outputs": [],
   "source": [
    "class EmpExample:\n",
    "    raise_amount = 2   #class variable\n",
    "    \n",
    "    def __init__(self, fname, lname, pay):\n",
    "        self.fname = fname\n",
    "        self.lname = lname\n",
    "        self.pay = pay\n",
    "        \n",
    "    def full_name(self):\n",
    "        print(\"Full Name :\",self.fname,self.lname)\n",
    "        \n",
    "    def apply_raise_amount(self):\n",
    "        self.pay = self.pay*self.raise_amount\n",
    "    \n",
    "    @classmethod\n",
    "    def set_raise_amount(cls, amount):\n",
    "        cls.raise_amount = amount"
   ]
  },
  {
   "cell_type": "code",
   "execution_count": 58,
   "metadata": {},
   "outputs": [],
   "source": [
    "e1 = EmpExample(\"Dharmesh\",\"Vishwakarma\",2000)"
   ]
  },
  {
   "cell_type": "code",
   "execution_count": 59,
   "metadata": {},
   "outputs": [
    {
     "data": {
      "text/plain": [
       "('Dharmesh', 'Vishwakarma', 2000, 2)"
      ]
     },
     "execution_count": 59,
     "metadata": {},
     "output_type": "execute_result"
    }
   ],
   "source": [
    "e1.fname, e1.lname, e1.pay, e1.raise_amount"
   ]
  },
  {
   "cell_type": "code",
   "execution_count": 60,
   "metadata": {},
   "outputs": [
    {
     "name": "stdout",
     "output_type": "stream",
     "text": [
      "Full Name : Dharmesh Vishwakarma\n"
     ]
    }
   ],
   "source": [
    "e1.full_name()"
   ]
  },
  {
   "cell_type": "code",
   "execution_count": 61,
   "metadata": {},
   "outputs": [],
   "source": [
    "e1.set_raise_amount(3)"
   ]
  },
  {
   "cell_type": "code",
   "execution_count": 62,
   "metadata": {},
   "outputs": [
    {
     "data": {
      "text/plain": [
       "3"
      ]
     },
     "execution_count": 62,
     "metadata": {},
     "output_type": "execute_result"
    }
   ],
   "source": [
    "e1.raise_amount"
   ]
  },
  {
   "cell_type": "code",
   "execution_count": 63,
   "metadata": {},
   "outputs": [],
   "source": [
    "e2 = EmpExample(\"Ram\",\"M\",1000)"
   ]
  },
  {
   "cell_type": "code",
   "execution_count": 64,
   "metadata": {},
   "outputs": [
    {
     "data": {
      "text/plain": [
       "3"
      ]
     },
     "execution_count": 64,
     "metadata": {},
     "output_type": "execute_result"
    }
   ],
   "source": [
    "e2.raise_amount"
   ]
  },
  {
   "cell_type": "code",
   "execution_count": 65,
   "metadata": {},
   "outputs": [],
   "source": [
    "e2.raise_amount = 5"
   ]
  },
  {
   "cell_type": "code",
   "execution_count": 66,
   "metadata": {},
   "outputs": [
    {
     "data": {
      "text/plain": [
       "5"
      ]
     },
     "execution_count": 66,
     "metadata": {},
     "output_type": "execute_result"
    }
   ],
   "source": [
    "e2.raise_amount"
   ]
  },
  {
   "cell_type": "code",
   "execution_count": 67,
   "metadata": {},
   "outputs": [
    {
     "data": {
      "text/plain": [
       "3"
      ]
     },
     "execution_count": 67,
     "metadata": {},
     "output_type": "execute_result"
    }
   ],
   "source": [
    "e1.raise_amount"
   ]
  },
  {
   "cell_type": "code",
   "execution_count": 68,
   "metadata": {},
   "outputs": [],
   "source": [
    "e1.apply_raise_amount()"
   ]
  },
  {
   "cell_type": "code",
   "execution_count": 69,
   "metadata": {},
   "outputs": [
    {
     "data": {
      "text/plain": [
       "6000"
      ]
     },
     "execution_count": 69,
     "metadata": {},
     "output_type": "execute_result"
    }
   ],
   "source": [
    "e1.pay"
   ]
  },
  {
   "cell_type": "code",
   "execution_count": 70,
   "metadata": {},
   "outputs": [],
   "source": [
    "e2.apply_raise_amount()"
   ]
  },
  {
   "cell_type": "code",
   "execution_count": 71,
   "metadata": {},
   "outputs": [
    {
     "data": {
      "text/plain": [
       "5000"
      ]
     },
     "execution_count": 71,
     "metadata": {},
     "output_type": "execute_result"
    }
   ],
   "source": [
    "e2.pay"
   ]
  },
  {
   "cell_type": "code",
   "execution_count": 80,
   "metadata": {},
   "outputs": [],
   "source": [
    "e1.set_raise_amount(7)"
   ]
  },
  {
   "cell_type": "code",
   "execution_count": 81,
   "metadata": {},
   "outputs": [
    {
     "data": {
      "text/plain": [
       "7"
      ]
     },
     "execution_count": 81,
     "metadata": {},
     "output_type": "execute_result"
    }
   ],
   "source": [
    "e1.raise_amount"
   ]
  },
  {
   "cell_type": "code",
   "execution_count": 82,
   "metadata": {},
   "outputs": [
    {
     "data": {
      "text/plain": [
       "5"
      ]
     },
     "execution_count": 82,
     "metadata": {},
     "output_type": "execute_result"
    }
   ],
   "source": [
    "e2.raise_amount"
   ]
  },
  {
   "cell_type": "code",
   "execution_count": 83,
   "metadata": {},
   "outputs": [],
   "source": [
    "e3 = EmpExample(\"F\",\"G\",10)"
   ]
  },
  {
   "cell_type": "code",
   "execution_count": 84,
   "metadata": {},
   "outputs": [
    {
     "data": {
      "text/plain": [
       "7"
      ]
     },
     "execution_count": 84,
     "metadata": {},
     "output_type": "execute_result"
    }
   ],
   "source": [
    "e3.raise_amount"
   ]
  },
  {
   "cell_type": "code",
   "execution_count": 85,
   "metadata": {},
   "outputs": [],
   "source": [
    "EmpExample.set_raise_amount(10)"
   ]
  },
  {
   "cell_type": "code",
   "execution_count": 86,
   "metadata": {},
   "outputs": [],
   "source": [
    "e4 = EmpExample(\"p\",\"O\",900)"
   ]
  },
  {
   "cell_type": "code",
   "execution_count": 87,
   "metadata": {},
   "outputs": [
    {
     "data": {
      "text/plain": [
       "10"
      ]
     },
     "execution_count": 87,
     "metadata": {},
     "output_type": "execute_result"
    }
   ],
   "source": [
    "e4.raise_amount"
   ]
  },
  {
   "cell_type": "code",
   "execution_count": 88,
   "metadata": {},
   "outputs": [
    {
     "data": {
      "text/plain": [
       "10"
      ]
     },
     "execution_count": 88,
     "metadata": {},
     "output_type": "execute_result"
    }
   ],
   "source": [
    "e3.raise_amount"
   ]
  },
  {
   "cell_type": "code",
   "execution_count": 89,
   "metadata": {},
   "outputs": [
    {
     "data": {
      "text/plain": [
       "5"
      ]
     },
     "execution_count": 89,
     "metadata": {},
     "output_type": "execute_result"
    }
   ],
   "source": [
    "e2.raise_amount"
   ]
  },
  {
   "cell_type": "code",
   "execution_count": 90,
   "metadata": {},
   "outputs": [
    {
     "data": {
      "text/plain": [
       "10"
      ]
     },
     "execution_count": 90,
     "metadata": {},
     "output_type": "execute_result"
    }
   ],
   "source": [
    "e1.raise_amount"
   ]
  },
  {
   "cell_type": "markdown",
   "metadata": {},
   "source": [
    "### Static Method"
   ]
  },
  {
   "cell_type": "code",
   "execution_count": 91,
   "metadata": {},
   "outputs": [],
   "source": [
    "class Student:\n",
    "    name = \"Steve Jobs\"\n",
    "    \n",
    "    def __init__(self, age):\n",
    "        self.age = age\n",
    "        \n",
    "    @staticmethod\n",
    "    def college_name():\n",
    "        clg_name = \"KLE\"\n",
    "        print(clg_name)"
   ]
  },
  {
   "cell_type": "code",
   "execution_count": 92,
   "metadata": {},
   "outputs": [
    {
     "name": "stdout",
     "output_type": "stream",
     "text": [
      "KLE\n"
     ]
    }
   ],
   "source": [
    "# accessing static method with class name\n",
    "\n",
    "Student.college_name()"
   ]
  },
  {
   "cell_type": "code",
   "execution_count": 93,
   "metadata": {},
   "outputs": [],
   "source": [
    "s1 = Student(33)"
   ]
  },
  {
   "cell_type": "code",
   "execution_count": 94,
   "metadata": {},
   "outputs": [
    {
     "name": "stdout",
     "output_type": "stream",
     "text": [
      "KLE\n"
     ]
    }
   ],
   "source": [
    "#accessing static method with the object name\n",
    "\n",
    "s1.college_name()"
   ]
  },
  {
   "cell_type": "code",
   "execution_count": 95,
   "metadata": {},
   "outputs": [
    {
     "data": {
      "text/plain": [
       "33"
      ]
     },
     "execution_count": 95,
     "metadata": {},
     "output_type": "execute_result"
    }
   ],
   "source": [
    "s1.age"
   ]
  },
  {
   "cell_type": "code",
   "execution_count": 96,
   "metadata": {},
   "outputs": [],
   "source": [
    "s1.age = 30"
   ]
  },
  {
   "cell_type": "code",
   "execution_count": 97,
   "metadata": {},
   "outputs": [
    {
     "data": {
      "text/plain": [
       "30"
      ]
     },
     "execution_count": 97,
     "metadata": {},
     "output_type": "execute_result"
    }
   ],
   "source": [
    "s1.age"
   ]
  },
  {
   "cell_type": "code",
   "execution_count": 98,
   "metadata": {},
   "outputs": [],
   "source": [
    "#example 2\n",
    "\n",
    "class MobileInfo:\n",
    "    \n",
    "    @staticmethod\n",
    "    def show_info(model_name, price):\n",
    "        print(\"Model Name is :\",model_name)\n",
    "        print(\"Price is :\",price)"
   ]
  },
  {
   "cell_type": "code",
   "execution_count": 99,
   "metadata": {},
   "outputs": [
    {
     "name": "stdout",
     "output_type": "stream",
     "text": [
      "Model Name is : Redmi 8\n",
      "Price is : 12000\n"
     ]
    }
   ],
   "source": [
    "MobileInfo.show_info(\"Redmi 8\",12000)"
   ]
  },
  {
   "cell_type": "code",
   "execution_count": 100,
   "metadata": {},
   "outputs": [],
   "source": [
    "m1 = MobileInfo()"
   ]
  },
  {
   "cell_type": "code",
   "execution_count": 101,
   "metadata": {},
   "outputs": [
    {
     "name": "stdout",
     "output_type": "stream",
     "text": [
      "Model Name is : Iphone X\n",
      "Price is : 30000\n"
     ]
    }
   ],
   "source": [
    "m1.show_info(\"Iphone X\",30000)"
   ]
  },
  {
   "cell_type": "markdown",
   "metadata": {},
   "source": [
    "# Inheritance"
   ]
  },
  {
   "cell_type": "markdown",
   "metadata": {},
   "source": [
    "## Single Inheritance"
   ]
  },
  {
   "cell_type": "code",
   "execution_count": 118,
   "metadata": {},
   "outputs": [],
   "source": [
    "class  Parent:\n",
    "    def can_earn(self):\n",
    "        print(\"can earn & spend\")\n",
    "        \n",
    "class Child(Parent):\n",
    "    def can_play(self):\n",
    "        print(\"can play when they are young\")"
   ]
  },
  {
   "cell_type": "code",
   "execution_count": 119,
   "metadata": {},
   "outputs": [],
   "source": [
    "p1 = Parent() # creating object of Parent class"
   ]
  },
  {
   "cell_type": "code",
   "execution_count": 120,
   "metadata": {},
   "outputs": [],
   "source": [
    "c1 = Child() # creating object of Child class"
   ]
  },
  {
   "cell_type": "code",
   "execution_count": 121,
   "metadata": {},
   "outputs": [
    {
     "name": "stdout",
     "output_type": "stream",
     "text": [
      "can earn & spend\n"
     ]
    }
   ],
   "source": [
    "p1.can_earn()"
   ]
  },
  {
   "cell_type": "code",
   "execution_count": 122,
   "metadata": {},
   "outputs": [
    {
     "name": "stdout",
     "output_type": "stream",
     "text": [
      "can earn & spend\n"
     ]
    }
   ],
   "source": [
    "c1.can_earn()"
   ]
  },
  {
   "cell_type": "code",
   "execution_count": 123,
   "metadata": {},
   "outputs": [
    {
     "name": "stdout",
     "output_type": "stream",
     "text": [
      "can play when they are young\n"
     ]
    }
   ],
   "source": [
    "c1.can_play()"
   ]
  },
  {
   "cell_type": "code",
   "execution_count": 124,
   "metadata": {},
   "outputs": [
    {
     "ename": "AttributeError",
     "evalue": "'Parent' object has no attribute 'can_play'",
     "output_type": "error",
     "traceback": [
      "\u001b[1;31m-------------------------------------------------\u001b[0m",
      "\u001b[1;31mAttributeError\u001b[0m  Traceback (most recent call last)",
      "\u001b[1;32m<ipython-input-124-0164463034ee>\u001b[0m in \u001b[0;36m<module>\u001b[1;34m\u001b[0m\n\u001b[1;32m----> 1\u001b[1;33m \u001b[0mp1\u001b[0m\u001b[1;33m.\u001b[0m\u001b[0mcan_play\u001b[0m\u001b[1;33m(\u001b[0m\u001b[1;33m)\u001b[0m\u001b[1;33m\u001b[0m\u001b[1;33m\u001b[0m\u001b[0m\n\u001b[0m",
      "\u001b[1;31mAttributeError\u001b[0m: 'Parent' object has no attribute 'can_play'"
     ]
    }
   ],
   "source": [
    "p1.can_play()"
   ]
  },
  {
   "cell_type": "code",
   "execution_count": 125,
   "metadata": {},
   "outputs": [
    {
     "name": "stdout",
     "output_type": "stream",
     "text": [
      "can play when they are young\n"
     ]
    }
   ],
   "source": [
    "c1.can_play()"
   ]
  },
  {
   "cell_type": "code",
   "execution_count": 126,
   "metadata": {},
   "outputs": [],
   "source": [
    "class Individual:\n",
    "    def __init__(self, name):\n",
    "        self.name = name\n",
    "        \n",
    "    def getName(self):\n",
    "        return self.name\n",
    "    \n",
    "    def Is_Employee(self):\n",
    "        return False\n",
    "    \n",
    "class Employee(Individual):\n",
    "    def Is_Employee(self):\n",
    "        return True"
   ]
  },
  {
   "cell_type": "code",
   "execution_count": 127,
   "metadata": {},
   "outputs": [],
   "source": [
    "ind1 = Individual(\"Dharmesh\")"
   ]
  },
  {
   "cell_type": "code",
   "execution_count": 128,
   "metadata": {},
   "outputs": [
    {
     "data": {
      "text/plain": [
       "'Dharmesh'"
      ]
     },
     "execution_count": 128,
     "metadata": {},
     "output_type": "execute_result"
    }
   ],
   "source": [
    "ind1.name"
   ]
  },
  {
   "cell_type": "code",
   "execution_count": 129,
   "metadata": {},
   "outputs": [
    {
     "data": {
      "text/plain": [
       "False"
      ]
     },
     "execution_count": 129,
     "metadata": {},
     "output_type": "execute_result"
    }
   ],
   "source": [
    "ind1.Is_Employee()"
   ]
  },
  {
   "cell_type": "code",
   "execution_count": 130,
   "metadata": {},
   "outputs": [],
   "source": [
    "e1 = Employee(ind1.name)"
   ]
  },
  {
   "cell_type": "code",
   "execution_count": 131,
   "metadata": {},
   "outputs": [
    {
     "data": {
      "text/plain": [
       "'Dharmesh'"
      ]
     },
     "execution_count": 131,
     "metadata": {},
     "output_type": "execute_result"
    }
   ],
   "source": [
    "e1.getName()"
   ]
  },
  {
   "cell_type": "code",
   "execution_count": 132,
   "metadata": {},
   "outputs": [
    {
     "data": {
      "text/plain": [
       "True"
      ]
     },
     "execution_count": 132,
     "metadata": {},
     "output_type": "execute_result"
    }
   ],
   "source": [
    "e1.Is_Employee()"
   ]
  },
  {
   "cell_type": "code",
   "execution_count": 133,
   "metadata": {},
   "outputs": [
    {
     "data": {
      "text/plain": [
       "False"
      ]
     },
     "execution_count": 133,
     "metadata": {},
     "output_type": "execute_result"
    }
   ],
   "source": [
    "ind1.Is_Employee()"
   ]
  },
  {
   "cell_type": "markdown",
   "metadata": {},
   "source": [
    "## Multiple Inheritance"
   ]
  },
  {
   "cell_type": "code",
   "execution_count": 139,
   "metadata": {},
   "outputs": [],
   "source": [
    "class Parent1:\n",
    "    def parent1_func(self):\n",
    "        print(\"This is a feature of Parent 1\")\n",
    "\n",
    "class Parent2:\n",
    "    def parent2_func(self):\n",
    "        print(\"This is a feature of Parent 2\")\n",
    "\n",
    "class Child(Parent1,Parent2):\n",
    "    def child_func(self):\n",
    "        print(\"This is a feature of Child\")"
   ]
  },
  {
   "cell_type": "code",
   "execution_count": 140,
   "metadata": {},
   "outputs": [],
   "source": [
    "p1 = Parent1()"
   ]
  },
  {
   "cell_type": "code",
   "execution_count": 141,
   "metadata": {},
   "outputs": [],
   "source": [
    "p2 = Parent2()"
   ]
  },
  {
   "cell_type": "code",
   "execution_count": 142,
   "metadata": {},
   "outputs": [],
   "source": [
    "c = Child()"
   ]
  },
  {
   "cell_type": "code",
   "execution_count": 143,
   "metadata": {},
   "outputs": [
    {
     "name": "stdout",
     "output_type": "stream",
     "text": [
      "This is a feature of Parent 1\n"
     ]
    }
   ],
   "source": [
    "c.parent1_func()"
   ]
  },
  {
   "cell_type": "code",
   "execution_count": 144,
   "metadata": {},
   "outputs": [
    {
     "name": "stdout",
     "output_type": "stream",
     "text": [
      "This is a feature of Parent 2\n"
     ]
    }
   ],
   "source": [
    "c.parent2_func()"
   ]
  },
  {
   "cell_type": "code",
   "execution_count": 145,
   "metadata": {},
   "outputs": [
    {
     "ename": "AttributeError",
     "evalue": "'Parent1' object has no attribute 'child_func'",
     "output_type": "error",
     "traceback": [
      "\u001b[1;31m-------------------------------------------------\u001b[0m",
      "\u001b[1;31mAttributeError\u001b[0m  Traceback (most recent call last)",
      "\u001b[1;32m<ipython-input-145-5e4db9e99df3>\u001b[0m in \u001b[0;36m<module>\u001b[1;34m\u001b[0m\n\u001b[1;32m----> 1\u001b[1;33m \u001b[0mp1\u001b[0m\u001b[1;33m.\u001b[0m\u001b[0mchild_func\u001b[0m\u001b[1;33m(\u001b[0m\u001b[1;33m)\u001b[0m\u001b[1;33m\u001b[0m\u001b[1;33m\u001b[0m\u001b[0m\n\u001b[0m",
      "\u001b[1;31mAttributeError\u001b[0m: 'Parent1' object has no attribute 'child_func'"
     ]
    }
   ],
   "source": [
    "p1.child_func()"
   ]
  },
  {
   "cell_type": "code",
   "execution_count": 148,
   "metadata": {},
   "outputs": [
    {
     "ename": "AttributeError",
     "evalue": "'Parent2' object has no attribute 'child_func'",
     "output_type": "error",
     "traceback": [
      "\u001b[1;31m-------------------------------------------------\u001b[0m",
      "\u001b[1;31mAttributeError\u001b[0m  Traceback (most recent call last)",
      "\u001b[1;32m<ipython-input-148-f5dfeb308f6a>\u001b[0m in \u001b[0;36m<module>\u001b[1;34m\u001b[0m\n\u001b[1;32m----> 1\u001b[1;33m \u001b[0mp2\u001b[0m\u001b[1;33m.\u001b[0m\u001b[0mchild_func\u001b[0m\u001b[1;33m(\u001b[0m\u001b[1;33m)\u001b[0m\u001b[1;33m\u001b[0m\u001b[1;33m\u001b[0m\u001b[0m\n\u001b[0m",
      "\u001b[1;31mAttributeError\u001b[0m: 'Parent2' object has no attribute 'child_func'"
     ]
    }
   ],
   "source": [
    "p2.child_func()"
   ]
  },
  {
   "cell_type": "code",
   "execution_count": 149,
   "metadata": {},
   "outputs": [
    {
     "name": "stdout",
     "output_type": "stream",
     "text": [
      "This is a feature of Child\n"
     ]
    }
   ],
   "source": [
    "c.child_func()"
   ]
  },
  {
   "cell_type": "code",
   "execution_count": 150,
   "metadata": {},
   "outputs": [],
   "source": [
    "class TeamMember:\n",
    "    def __init__(self, name, uid):\n",
    "        self.name = name\n",
    "        self.uid = uid\n",
    "\n",
    "class Worker():\n",
    "    def __init__(self, pay, job):\n",
    "        self.pay = pay\n",
    "        self.job = job\n",
    "        \n",
    "class TeamLeader(TeamMember , Worker):\n",
    "    def __init__(self, name, uid, pay, job, exp):\n",
    "        \n",
    "        # registering the constructor of base/parent class\n",
    "        TeamMember.__init__(self, name, uid)\n",
    "        Worker.__init__(self, pay, job)\n",
    "        \n",
    "        self.exp = exp\n",
    "        \n",
    "    def data(self):\n",
    "        print(\"Name is:\",self.name)\n",
    "        print(\"UID is:\",self.uid)\n",
    "        print(\"Job is:\",self.job)\n",
    "        print(\"Pay is:\",self.pay)\n",
    "        print(\"Experience is:\",self.exp)"
   ]
  },
  {
   "cell_type": "code",
   "execution_count": 151,
   "metadata": {},
   "outputs": [],
   "source": [
    "t1 = TeamLeader(\"Dharmesh\", \"Emp0011\", 1000, \"Dev\", 2)"
   ]
  },
  {
   "cell_type": "code",
   "execution_count": 152,
   "metadata": {},
   "outputs": [
    {
     "name": "stdout",
     "output_type": "stream",
     "text": [
      "Name is: Dharmesh\n",
      "UID is: Emp0011\n",
      "Job is: Dev\n",
      "Pay is: 1000\n",
      "Experience is: 2\n"
     ]
    }
   ],
   "source": [
    "t1.data()"
   ]
  },
  {
   "cell_type": "markdown",
   "metadata": {},
   "source": [
    "## Multilevel Inheritance"
   ]
  },
  {
   "cell_type": "code",
   "execution_count": 153,
   "metadata": {},
   "outputs": [],
   "source": [
    "class GrandFather:\n",
    "    def __init__(self, grandfather_name):\n",
    "        self.grandfather_name = grandfather_name\n",
    "\n",
    "class Father(GrandFather):\n",
    "    def __init__(self, father_name, grandfather_name):\n",
    "        self.father_name = father_name\n",
    "        GrandFather.__init__(self, grandfather_name)\n",
    "        \n",
    "class Son(Father):\n",
    "    def __init__(self, son_name, father_name, grandfather_name):\n",
    "        self.son_name = son_name\n",
    "        Father.__init__(self, father_name, grandfather_name)\n",
    "        \n",
    "    def data(self):\n",
    "        print(\"Grand father name is:\",self.grandfather_name)\n",
    "        print(\"Father name is:\",self.father_name)\n",
    "        print(\"Son name is:\",self.son_name)"
   ]
  },
  {
   "cell_type": "code",
   "execution_count": 154,
   "metadata": {},
   "outputs": [],
   "source": [
    "s1 = Son(\"Steve\", \"Harry\", \"John\")"
   ]
  },
  {
   "cell_type": "code",
   "execution_count": 155,
   "metadata": {},
   "outputs": [
    {
     "name": "stdout",
     "output_type": "stream",
     "text": [
      "Grand father name is: John\n",
      "Father name is: Harry\n",
      "Son name is: Steve\n"
     ]
    }
   ],
   "source": [
    "s1.data()"
   ]
  },
  {
   "cell_type": "code",
   "execution_count": 157,
   "metadata": {},
   "outputs": [],
   "source": [
    "G1 = GrandFather('Bill')"
   ]
  },
  {
   "cell_type": "code",
   "execution_count": 158,
   "metadata": {},
   "outputs": [
    {
     "data": {
      "text/plain": [
       "'Bill'"
      ]
     },
     "execution_count": 158,
     "metadata": {},
     "output_type": "execute_result"
    }
   ],
   "source": [
    "G1.grandfather_name"
   ]
  },
  {
   "cell_type": "markdown",
   "metadata": {},
   "source": [
    "### example 2"
   ]
  },
  {
   "cell_type": "markdown",
   "metadata": {},
   "source": [
    "use super() keyword in python in multilevel inheritance."
   ]
  },
  {
   "cell_type": "code",
   "execution_count": 161,
   "metadata": {},
   "outputs": [],
   "source": [
    "class CL1:\n",
    "    def __init__(self):\n",
    "        print(\"Hi! I am initialized is CL1 class \")\n",
    "        \n",
    "    def print_num(self, num):\n",
    "        print(\"Printing from CL1\",num)\n",
    "        \n",
    "class CL2(CL1):\n",
    "    def __init__(self):\n",
    "        print(\"Hi! I am initialized is CL2 class \")\n",
    "        super().__init__()\n",
    "        \n",
    "    def print_num(self,num):\n",
    "        print(\"Printing from CL2\",num)\n",
    "        super().print_num(num+1)\n",
    "        \n",
    "class CL3(CL2):\n",
    "    def __init__(self):\n",
    "        print(\"Hi! I am initialized is CL3 class \")\n",
    "        super().__init__()\n",
    "        \n",
    "    def print_num(self,num):\n",
    "        print(\"Printing from CL3\",num)\n",
    "        super().print_num(num+1)"
   ]
  },
  {
   "cell_type": "code",
   "execution_count": 162,
   "metadata": {},
   "outputs": [
    {
     "name": "stdout",
     "output_type": "stream",
     "text": [
      "Hi! I am initialized is CL3 class \n",
      "Hi! I am initialized is CL2 class \n",
      "Hi! I am initialized is CL1 class \n"
     ]
    }
   ],
   "source": [
    "obj1 = CL3()"
   ]
  },
  {
   "cell_type": "code",
   "execution_count": 163,
   "metadata": {},
   "outputs": [
    {
     "name": "stdout",
     "output_type": "stream",
     "text": [
      "Printing from CL3 10\n",
      "Printing from CL2 11\n",
      "Printing from CL1 12\n"
     ]
    }
   ],
   "source": [
    "obj1.print_num(10)"
   ]
  },
  {
   "cell_type": "code",
   "execution_count": 164,
   "metadata": {},
   "outputs": [
    {
     "name": "stdout",
     "output_type": "stream",
     "text": [
      "Hi! I am initialized is CL2 class \n",
      "Hi! I am initialized is CL1 class \n"
     ]
    }
   ],
   "source": [
    "obj2 = CL2()"
   ]
  },
  {
   "cell_type": "code",
   "execution_count": 165,
   "metadata": {},
   "outputs": [
    {
     "name": "stdout",
     "output_type": "stream",
     "text": [
      "Printing from CL2 20\n",
      "Printing from CL1 21\n"
     ]
    }
   ],
   "source": [
    "obj2.print_num(20)"
   ]
  },
  {
   "cell_type": "markdown",
   "metadata": {},
   "source": [
    "## Hierarchical Inheritance"
   ]
  },
  {
   "cell_type": "code",
   "execution_count": 166,
   "metadata": {},
   "outputs": [],
   "source": [
    "class Parent:\n",
    "    def parent_func(self):\n",
    "        print(\"This function is parent class\")\n",
    "        \n",
    "class Child1(Parent):\n",
    "    def child1_func(self):\n",
    "        print(\"This function is child 1 class\")\n",
    "\n",
    "class Child2(Parent):\n",
    "    def child2_func(self):\n",
    "        print(\"This function is child 2 class\")"
   ]
  },
  {
   "cell_type": "code",
   "execution_count": 170,
   "metadata": {},
   "outputs": [],
   "source": [
    "ch1 = Child1()"
   ]
  },
  {
   "cell_type": "code",
   "execution_count": 171,
   "metadata": {},
   "outputs": [],
   "source": [
    "ch2 = Child2()"
   ]
  },
  {
   "cell_type": "code",
   "execution_count": 173,
   "metadata": {},
   "outputs": [
    {
     "name": "stdout",
     "output_type": "stream",
     "text": [
      "This function is parent class\n"
     ]
    }
   ],
   "source": [
    "ch1.parent_func()"
   ]
  },
  {
   "cell_type": "code",
   "execution_count": 174,
   "metadata": {},
   "outputs": [
    {
     "name": "stdout",
     "output_type": "stream",
     "text": [
      "This function is parent class\n"
     ]
    }
   ],
   "source": [
    "ch2.parent_func()"
   ]
  },
  {
   "cell_type": "code",
   "execution_count": 175,
   "metadata": {},
   "outputs": [
    {
     "name": "stdout",
     "output_type": "stream",
     "text": [
      "This function is child 1 class\n"
     ]
    }
   ],
   "source": [
    "ch1.child1_func()"
   ]
  },
  {
   "cell_type": "code",
   "execution_count": 176,
   "metadata": {},
   "outputs": [
    {
     "ename": "AttributeError",
     "evalue": "'Child2' object has no attribute 'child1_func'",
     "output_type": "error",
     "traceback": [
      "\u001b[1;31m-------------------------------------------------\u001b[0m",
      "\u001b[1;31mAttributeError\u001b[0m  Traceback (most recent call last)",
      "\u001b[1;32m<ipython-input-176-e1ba228e7236>\u001b[0m in \u001b[0;36m<module>\u001b[1;34m\u001b[0m\n\u001b[1;32m----> 1\u001b[1;33m \u001b[0mch2\u001b[0m\u001b[1;33m.\u001b[0m\u001b[0mchild1_func\u001b[0m\u001b[1;33m(\u001b[0m\u001b[1;33m)\u001b[0m\u001b[1;33m\u001b[0m\u001b[1;33m\u001b[0m\u001b[0m\n\u001b[0m",
      "\u001b[1;31mAttributeError\u001b[0m: 'Child2' object has no attribute 'child1_func'"
     ]
    }
   ],
   "source": [
    "ch2.child1_func()"
   ]
  },
  {
   "cell_type": "code",
   "execution_count": 177,
   "metadata": {},
   "outputs": [
    {
     "ename": "AttributeError",
     "evalue": "'Child1' object has no attribute 'child2_func'",
     "output_type": "error",
     "traceback": [
      "\u001b[1;31m-------------------------------------------------\u001b[0m",
      "\u001b[1;31mAttributeError\u001b[0m  Traceback (most recent call last)",
      "\u001b[1;32m<ipython-input-177-10f6f779fd6a>\u001b[0m in \u001b[0;36m<module>\u001b[1;34m\u001b[0m\n\u001b[1;32m----> 1\u001b[1;33m \u001b[0mch1\u001b[0m\u001b[1;33m.\u001b[0m\u001b[0mchild2_func\u001b[0m\u001b[1;33m(\u001b[0m\u001b[1;33m)\u001b[0m\u001b[1;33m\u001b[0m\u001b[1;33m\u001b[0m\u001b[0m\n\u001b[0m",
      "\u001b[1;31mAttributeError\u001b[0m: 'Child1' object has no attribute 'child2_func'"
     ]
    }
   ],
   "source": [
    "ch1.child2_func()"
   ]
  },
  {
   "cell_type": "code",
   "execution_count": 178,
   "metadata": {},
   "outputs": [
    {
     "name": "stdout",
     "output_type": "stream",
     "text": [
      "This function is child 2 class\n"
     ]
    }
   ],
   "source": [
    "ch2.child2_func()"
   ]
  },
  {
   "cell_type": "markdown",
   "metadata": {},
   "source": [
    "## Hybridge Inheritance"
   ]
  },
  {
   "cell_type": "code",
   "execution_count": 179,
   "metadata": {},
   "outputs": [],
   "source": [
    "class School:\n",
    "    def func(self):\n",
    "        print(\"This is a function of School class \")\n",
    "        \n",
    "class Student1(School):\n",
    "    def func1(self):\n",
    "        print(\"This is a function of Student 1 class \")\n",
    "        \n",
    "class Student2(School):\n",
    "    def func2(self):\n",
    "        print(\"This is function of Student 2 class \")\n",
    "        \n",
    "class Student3(Student2, Student1):\n",
    "    def func3(self):\n",
    "        print(\"This is function of Student 3 class \")"
   ]
  },
  {
   "cell_type": "code",
   "execution_count": 180,
   "metadata": {},
   "outputs": [],
   "source": [
    "s3 = Student3()"
   ]
  },
  {
   "cell_type": "code",
   "execution_count": 181,
   "metadata": {},
   "outputs": [
    {
     "name": "stdout",
     "output_type": "stream",
     "text": [
      "This is function of Student 3 class \n"
     ]
    }
   ],
   "source": [
    "s3.func3()"
   ]
  },
  {
   "cell_type": "code",
   "execution_count": 182,
   "metadata": {},
   "outputs": [
    {
     "name": "stdout",
     "output_type": "stream",
     "text": [
      "This is function of Student 2 class \n"
     ]
    }
   ],
   "source": [
    "s3.func2()"
   ]
  },
  {
   "cell_type": "code",
   "execution_count": 183,
   "metadata": {},
   "outputs": [
    {
     "name": "stdout",
     "output_type": "stream",
     "text": [
      "This is a function of Student 1 class \n"
     ]
    }
   ],
   "source": [
    "s3.func1()"
   ]
  },
  {
   "cell_type": "code",
   "execution_count": 184,
   "metadata": {},
   "outputs": [
    {
     "name": "stdout",
     "output_type": "stream",
     "text": [
      "This is a function of School class \n"
     ]
    }
   ],
   "source": [
    "s3.func()"
   ]
  },
  {
   "cell_type": "markdown",
   "metadata": {},
   "source": [
    "## Encapsulation"
   ]
  },
  {
   "cell_type": "markdown",
   "metadata": {},
   "source": [
    "### Protected Members"
   ]
  },
  {
   "cell_type": "code",
   "execution_count": 185,
   "metadata": {},
   "outputs": [],
   "source": [
    "class Base:\n",
    "    def __init__(self):\n",
    "        self.age = 21\n",
    "        self._num = 20  # this is a protected variable\n",
    "\n",
    "class Derived(Base):\n",
    "    def __init__(self):\n",
    "        Base.__init__(self)\n",
    "        print(\"Calling the protected member of the class \")\n",
    "        print(\"Num is:\",self._num)\n",
    "        print(\"Age is:\",self.age)"
   ]
  },
  {
   "cell_type": "code",
   "execution_count": 186,
   "metadata": {},
   "outputs": [
    {
     "name": "stdout",
     "output_type": "stream",
     "text": [
      "Calling the protected member of the class \n",
      "Num is: 20\n",
      "Age is: 21\n"
     ]
    }
   ],
   "source": [
    "d1 = Derived()"
   ]
  },
  {
   "cell_type": "code",
   "execution_count": 187,
   "metadata": {},
   "outputs": [
    {
     "data": {
      "text/plain": [
       "21"
      ]
     },
     "execution_count": 187,
     "metadata": {},
     "output_type": "execute_result"
    }
   ],
   "source": [
    "d1.age"
   ]
  },
  {
   "cell_type": "code",
   "execution_count": 188,
   "metadata": {},
   "outputs": [
    {
     "ename": "AttributeError",
     "evalue": "'Derived' object has no attribute 'num'",
     "output_type": "error",
     "traceback": [
      "\u001b[1;31m-------------------------------------------------\u001b[0m",
      "\u001b[1;31mAttributeError\u001b[0m  Traceback (most recent call last)",
      "\u001b[1;32m<ipython-input-188-b63c176a540a>\u001b[0m in \u001b[0;36m<module>\u001b[1;34m\u001b[0m\n\u001b[1;32m----> 1\u001b[1;33m \u001b[0md1\u001b[0m\u001b[1;33m.\u001b[0m\u001b[0mnum\u001b[0m\u001b[1;33m\u001b[0m\u001b[1;33m\u001b[0m\u001b[0m\n\u001b[0m",
      "\u001b[1;31mAttributeError\u001b[0m: 'Derived' object has no attribute 'num'"
     ]
    }
   ],
   "source": [
    "d1.num"
   ]
  },
  {
   "cell_type": "code",
   "execution_count": 189,
   "metadata": {},
   "outputs": [
    {
     "data": {
      "text/plain": [
       "20"
      ]
     },
     "execution_count": 189,
     "metadata": {},
     "output_type": "execute_result"
    }
   ],
   "source": [
    "d1._num"
   ]
  },
  {
   "cell_type": "code",
   "execution_count": 190,
   "metadata": {},
   "outputs": [],
   "source": [
    "class Demo:\n",
    "    _name = \"Dharmesh\"  # protected data member\n",
    "    _age = 21 # protected data member\n",
    "    \n",
    "    def displaydata(self):\n",
    "        print(\"name is:\",self._name)\n",
    "        print(\"age is:\",self._age)"
   ]
  },
  {
   "cell_type": "code",
   "execution_count": 191,
   "metadata": {},
   "outputs": [],
   "source": [
    "obj = Demo()"
   ]
  },
  {
   "cell_type": "code",
   "execution_count": 192,
   "metadata": {},
   "outputs": [
    {
     "name": "stdout",
     "output_type": "stream",
     "text": [
      "name is: Dharmesh\n",
      "age is: 21\n"
     ]
    }
   ],
   "source": [
    "obj.displaydata()"
   ]
  },
  {
   "cell_type": "markdown",
   "metadata": {},
   "source": [
    "### Private Members"
   ]
  },
  {
   "cell_type": "code",
   "execution_count": 193,
   "metadata": {},
   "outputs": [],
   "source": [
    "class Base1:\n",
    "    def __init__(self):\n",
    "        self.data = \"I am public data of Base class \"\n",
    "        self.__name = \"dharmesh\"  # this is private members/variable\n",
    "        \n",
    "class Derived1(Base1):\n",
    "    def __init__(self):\n",
    "        Base1.__init__(self)\n",
    "        print(\"printing data from Base class \")\n",
    "        print(\"data is\",self.data)\n",
    "        print(\"name is\",self.__name)"
   ]
  },
  {
   "cell_type": "code",
   "execution_count": 194,
   "metadata": {},
   "outputs": [
    {
     "name": "stdout",
     "output_type": "stream",
     "text": [
      "printing data from Base class \n",
      "data is I am public data of Base class \n"
     ]
    },
    {
     "ename": "AttributeError",
     "evalue": "'Derived1' object has no attribute '_Derived1__name'",
     "output_type": "error",
     "traceback": [
      "\u001b[1;31m-------------------------------------------------\u001b[0m",
      "\u001b[1;31mAttributeError\u001b[0m  Traceback (most recent call last)",
      "\u001b[1;32m<ipython-input-194-fa590d386046>\u001b[0m in \u001b[0;36m<module>\u001b[1;34m\u001b[0m\n\u001b[1;32m----> 1\u001b[1;33m \u001b[0mdb1\u001b[0m \u001b[1;33m=\u001b[0m \u001b[0mDerived1\u001b[0m\u001b[1;33m(\u001b[0m\u001b[1;33m)\u001b[0m\u001b[1;33m\u001b[0m\u001b[1;33m\u001b[0m\u001b[0m\n\u001b[0m",
      "\u001b[1;32m<ipython-input-193-5451642ce0de>\u001b[0m in \u001b[0;36m__init__\u001b[1;34m(self)\u001b[0m\n\u001b[0;32m      9\u001b[0m         \u001b[0mprint\u001b[0m\u001b[1;33m(\u001b[0m\u001b[1;34m\"printing data from Base class \"\u001b[0m\u001b[1;33m)\u001b[0m\u001b[1;33m\u001b[0m\u001b[1;33m\u001b[0m\u001b[0m\n\u001b[0;32m     10\u001b[0m         \u001b[0mprint\u001b[0m\u001b[1;33m(\u001b[0m\u001b[1;34m\"data is\"\u001b[0m\u001b[1;33m,\u001b[0m\u001b[0mself\u001b[0m\u001b[1;33m.\u001b[0m\u001b[0mdata\u001b[0m\u001b[1;33m)\u001b[0m\u001b[1;33m\u001b[0m\u001b[1;33m\u001b[0m\u001b[0m\n\u001b[1;32m---> 11\u001b[1;33m         \u001b[0mprint\u001b[0m\u001b[1;33m(\u001b[0m\u001b[1;34m\"name is\"\u001b[0m\u001b[1;33m,\u001b[0m\u001b[0mself\u001b[0m\u001b[1;33m.\u001b[0m\u001b[0m__name\u001b[0m\u001b[1;33m)\u001b[0m\u001b[1;33m\u001b[0m\u001b[1;33m\u001b[0m\u001b[0m\n\u001b[0m",
      "\u001b[1;31mAttributeError\u001b[0m: 'Derived1' object has no attribute '_Derived1__name'"
     ]
    }
   ],
   "source": [
    "db1 = Derived1()"
   ]
  },
  {
   "cell_type": "markdown",
   "metadata": {},
   "source": [
    "## Polymorphism"
   ]
  },
  {
   "cell_type": "code",
   "execution_count": 195,
   "metadata": {},
   "outputs": [
    {
     "data": {
      "text/plain": [
       "5"
      ]
     },
     "execution_count": 195,
     "metadata": {},
     "output_type": "execute_result"
    }
   ],
   "source": [
    "len('hello')  #string"
   ]
  },
  {
   "cell_type": "code",
   "execution_count": 196,
   "metadata": {},
   "outputs": [
    {
     "data": {
      "text/plain": [
       "4"
      ]
     },
     "execution_count": 196,
     "metadata": {},
     "output_type": "execute_result"
    }
   ],
   "source": [
    "len([1,2,4,5])  #list"
   ]
  },
  {
   "cell_type": "code",
   "execution_count": 197,
   "metadata": {},
   "outputs": [
    {
     "data": {
      "text/plain": [
       "6"
      ]
     },
     "execution_count": 197,
     "metadata": {},
     "output_type": "execute_result"
    }
   ],
   "source": [
    "len((3,6,8,2,3,4))  #tuple"
   ]
  },
  {
   "cell_type": "markdown",
   "metadata": {},
   "source": [
    "### Polymorphism in OOps"
   ]
  },
  {
   "cell_type": "code",
   "execution_count": 198,
   "metadata": {},
   "outputs": [],
   "source": [
    "class India:\n",
    "    def capital(self):\n",
    "        print(\"Delhi is the Capital of India\")\n",
    "    def language(self):\n",
    "        print(\"Hindi is the National Language of India\")\n",
    "    def country_type(self):\n",
    "        print(\"India is developing country\")\n",
    "class USA:\n",
    "    def capital(self):\n",
    "        print(\"Washington DC is the Capital of USA\")\n",
    "    def language(self):\n",
    "        print(\"English is the only language of USA\")\n",
    "    def country_type(self):\n",
    "        print(\"USA is Developed Country\")"
   ]
  },
  {
   "cell_type": "code",
   "execution_count": 199,
   "metadata": {},
   "outputs": [],
   "source": [
    "ind1 = India()"
   ]
  },
  {
   "cell_type": "code",
   "execution_count": 200,
   "metadata": {},
   "outputs": [],
   "source": [
    "usa1 = USA()"
   ]
  },
  {
   "cell_type": "code",
   "execution_count": 201,
   "metadata": {},
   "outputs": [
    {
     "name": "stdout",
     "output_type": "stream",
     "text": [
      "Delhi is the Capital of India\n"
     ]
    }
   ],
   "source": [
    "ind1.capital()"
   ]
  },
  {
   "cell_type": "code",
   "execution_count": 202,
   "metadata": {},
   "outputs": [
    {
     "name": "stdout",
     "output_type": "stream",
     "text": [
      "Washington DC is the Capital of USA\n"
     ]
    }
   ],
   "source": [
    "usa1.capital()"
   ]
  },
  {
   "cell_type": "markdown",
   "metadata": {},
   "source": [
    "### Polymorphism in Inheritance"
   ]
  },
  {
   "cell_type": "code",
   "execution_count": 203,
   "metadata": {},
   "outputs": [],
   "source": [
    "class Bird:\n",
    "    def intro(self):\n",
    "        print(\"There are many type of birds\")\n",
    "    def flight(self):\n",
    "        print(\"Most birds can fly some cannot fly\")\n",
    "\n",
    "class Sparrow(Bird):\n",
    "    def flight(self):\n",
    "        print(\"Sparrow can fly\")\n",
    "\n",
    "class Ostrich(Bird):\n",
    "    def flight(self):\n",
    "        print(\"Ostrich cannot fly\")"
   ]
  },
  {
   "cell_type": "code",
   "execution_count": 204,
   "metadata": {},
   "outputs": [],
   "source": [
    "sp1 = Sparrow()"
   ]
  },
  {
   "cell_type": "code",
   "execution_count": 205,
   "metadata": {},
   "outputs": [],
   "source": [
    "os1 = Ostrich()"
   ]
  },
  {
   "cell_type": "code",
   "execution_count": 206,
   "metadata": {},
   "outputs": [
    {
     "name": "stdout",
     "output_type": "stream",
     "text": [
      "There are many type of birds\n"
     ]
    }
   ],
   "source": [
    "sp1.intro()"
   ]
  },
  {
   "cell_type": "code",
   "execution_count": 207,
   "metadata": {},
   "outputs": [
    {
     "name": "stdout",
     "output_type": "stream",
     "text": [
      "There are many type of birds\n"
     ]
    }
   ],
   "source": [
    "os1.intro()"
   ]
  },
  {
   "cell_type": "code",
   "execution_count": 208,
   "metadata": {},
   "outputs": [
    {
     "name": "stdout",
     "output_type": "stream",
     "text": [
      "Sparrow can fly\n"
     ]
    }
   ],
   "source": [
    "sp1.flight()"
   ]
  },
  {
   "cell_type": "code",
   "execution_count": 209,
   "metadata": {},
   "outputs": [
    {
     "name": "stdout",
     "output_type": "stream",
     "text": [
      "Ostrich cannot fly\n"
     ]
    }
   ],
   "source": [
    "os1.flight()"
   ]
  }
 ],
 "metadata": {
  "kernelspec": {
   "display_name": "Python 3",
   "language": "python",
   "name": "python3"
  },
  "language_info": {
   "codemirror_mode": {
    "name": "ipython",
    "version": 3
   },
   "file_extension": ".py",
   "mimetype": "text/x-python",
   "name": "python",
   "nbconvert_exporter": "python",
   "pygments_lexer": "ipython3",
   "version": "3.8.8"
  }
 },
 "nbformat": 4,
 "nbformat_minor": 4
}
