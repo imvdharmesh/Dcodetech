{
 "cells": [
  {
   "cell_type": "raw",
   "metadata": {},
   "source": [
    "Date - 04/05/2021  04:45 PM to 06:30 PM"
   ]
  },
  {
   "cell_type": "markdown",
   "metadata": {},
   "source": [
    "# Object Oriented Programming In Python"
   ]
  },
  {
   "cell_type": "raw",
   "metadata": {},
   "source": [
    "- OOP is a programming paradigm that provides a mean of structuring program so that the properties and behaviour are bundled into a single object."
   ]
  },
  {
   "cell_type": "markdown",
   "metadata": {},
   "source": [
    "### Class : "
   ]
  },
  {
   "cell_type": "raw",
   "metadata": {},
   "source": [
    "- A user defined prototype that defines a set of attributes that characterize any object of the class.\n",
    "- The attributes here are (class variables and instance variables) & methods."
   ]
  },
  {
   "cell_type": "markdown",
   "metadata": {},
   "source": [
    "### Defining A Class"
   ]
  },
  {
   "cell_type": "code",
   "execution_count": 1,
   "metadata": {},
   "outputs": [],
   "source": [
    "class Bird:\n",
    "    pass   #class body"
   ]
  },
  {
   "cell_type": "code",
   "execution_count": 2,
   "metadata": {},
   "outputs": [
    {
     "name": "stdout",
     "output_type": "stream",
     "text": [
      "<class '__main__.Bird'>\n"
     ]
    }
   ],
   "source": [
    "print(Bird)"
   ]
  },
  {
   "cell_type": "code",
   "execution_count": 3,
   "metadata": {},
   "outputs": [],
   "source": [
    "b1 = Bird() #object 1"
   ]
  },
  {
   "cell_type": "code",
   "execution_count": 4,
   "metadata": {},
   "outputs": [],
   "source": [
    "b2 = Bird() #object 2"
   ]
  },
  {
   "cell_type": "code",
   "execution_count": 6,
   "metadata": {},
   "outputs": [
    {
     "name": "stdout",
     "output_type": "stream",
     "text": [
      "<__main__.Bird object at 0x000000F9A4AD2520>\n",
      "1072209667360\n"
     ]
    }
   ],
   "source": [
    "print(b1)\n",
    "print(id(b1))"
   ]
  },
  {
   "cell_type": "code",
   "execution_count": 7,
   "metadata": {},
   "outputs": [
    {
     "name": "stdout",
     "output_type": "stream",
     "text": [
      "<__main__.Bird object at 0x000000F9A4AD21C0>\n",
      "1072209666496\n"
     ]
    }
   ],
   "source": [
    "print(b2)\n",
    "print(id(b2))"
   ]
  },
  {
   "cell_type": "code",
   "execution_count": null,
   "metadata": {},
   "outputs": [],
   "source": []
  },
  {
   "cell_type": "markdown",
   "metadata": {},
   "source": [
    "### Instance Variable"
   ]
  },
  {
   "cell_type": "raw",
   "metadata": {},
   "source": [
    "Constructors are generally used for instantiating (regiser) an object, The task of the constructor is to assign (initialize) the variables (data members) of the class when the objectis created."
   ]
  },
  {
   "cell_type": "code",
   "execution_count": 15,
   "metadata": {},
   "outputs": [],
   "source": [
    "class Employee:\n",
    "    \n",
    "    def __init__(self, fname, lname, age, qualification):\n",
    "        self.fname = fname\n",
    "        self.lname = lname\n",
    "        self.age = age\n",
    "        self.qualification = qualification\n",
    "        \n",
    "    def per_details(self):\n",
    "        print(\"First name :\",self.fname)\n",
    "        print(\"Last name :\",self.lname)\n",
    "        print(\"Age is :\",self.age)\n",
    "        \n",
    "    def qual_details(self):\n",
    "        print(\"Qualification :\",self.qualification)"
   ]
  },
  {
   "cell_type": "code",
   "execution_count": 16,
   "metadata": {},
   "outputs": [],
   "source": [
    "e1 = Employee(\"Dharmesh\",\"Vishwakarma\",21,\"BSc\")"
   ]
  },
  {
   "cell_type": "code",
   "execution_count": 17,
   "metadata": {},
   "outputs": [
    {
     "data": {
      "text/plain": [
       "'Dharmesh'"
      ]
     },
     "execution_count": 17,
     "metadata": {},
     "output_type": "execute_result"
    }
   ],
   "source": [
    "e1.fname"
   ]
  },
  {
   "cell_type": "code",
   "execution_count": 18,
   "metadata": {},
   "outputs": [
    {
     "data": {
      "text/plain": [
       "'Vishwakarma'"
      ]
     },
     "execution_count": 18,
     "metadata": {},
     "output_type": "execute_result"
    }
   ],
   "source": [
    "e1.lname"
   ]
  },
  {
   "cell_type": "code",
   "execution_count": 19,
   "metadata": {},
   "outputs": [
    {
     "data": {
      "text/plain": [
       "21"
      ]
     },
     "execution_count": 19,
     "metadata": {},
     "output_type": "execute_result"
    }
   ],
   "source": [
    "e1.age"
   ]
  },
  {
   "cell_type": "code",
   "execution_count": 20,
   "metadata": {},
   "outputs": [
    {
     "data": {
      "text/plain": [
       "'BSc'"
      ]
     },
     "execution_count": 20,
     "metadata": {},
     "output_type": "execute_result"
    }
   ],
   "source": [
    "e1.qualification"
   ]
  },
  {
   "cell_type": "code",
   "execution_count": 21,
   "metadata": {},
   "outputs": [
    {
     "name": "stdout",
     "output_type": "stream",
     "text": [
      "First name : Dharmesh\n",
      "Last name : Vishwakarma\n",
      "Age is : 21\n"
     ]
    }
   ],
   "source": [
    "e1.per_details()"
   ]
  },
  {
   "cell_type": "code",
   "execution_count": 22,
   "metadata": {},
   "outputs": [
    {
     "name": "stdout",
     "output_type": "stream",
     "text": [
      "Qualification : BSc\n"
     ]
    }
   ],
   "source": [
    "e1.qual_details()"
   ]
  },
  {
   "cell_type": "code",
   "execution_count": null,
   "metadata": {},
   "outputs": [],
   "source": []
  },
  {
   "cell_type": "markdown",
   "metadata": {},
   "source": [
    "## Class Variable\n",
    "    A variable which is declared inside the class but outside the constructor is called as class variable."
   ]
  },
  {
   "cell_type": "code",
   "execution_count": 23,
   "metadata": {},
   "outputs": [],
   "source": [
    "class PayRoll:\n",
    "    increment_rate = 2  # increment rate for raise salary\n",
    "    def __init__(self, fname, lname, salary):\n",
    "        self.fname = fname\n",
    "        self.lname = lname\n",
    "        self.salary = salary\n",
    "        \n",
    "    def data(self):\n",
    "        print(\"Data is {} {} {}\".format(self.fname,self.lname,self.salary))\n",
    "        \n",
    "    def raise_salary(self):\n",
    "        self.salary *= self.increment_rate"
   ]
  },
  {
   "cell_type": "code",
   "execution_count": 24,
   "metadata": {},
   "outputs": [],
   "source": [
    "p1 = PayRoll(\"Dharmesh\", \"Vishwakarma\", 1000)"
   ]
  },
  {
   "cell_type": "code",
   "execution_count": 25,
   "metadata": {},
   "outputs": [
    {
     "data": {
      "text/plain": [
       "'Dharmesh'"
      ]
     },
     "execution_count": 25,
     "metadata": {},
     "output_type": "execute_result"
    }
   ],
   "source": [
    "p1.fname"
   ]
  },
  {
   "cell_type": "code",
   "execution_count": 26,
   "metadata": {},
   "outputs": [
    {
     "data": {
      "text/plain": [
       "'Vishwakarma'"
      ]
     },
     "execution_count": 26,
     "metadata": {},
     "output_type": "execute_result"
    }
   ],
   "source": [
    "p1.lname"
   ]
  },
  {
   "cell_type": "code",
   "execution_count": 27,
   "metadata": {},
   "outputs": [
    {
     "data": {
      "text/plain": [
       "1000"
      ]
     },
     "execution_count": 27,
     "metadata": {},
     "output_type": "execute_result"
    }
   ],
   "source": [
    "p1.salary"
   ]
  },
  {
   "cell_type": "code",
   "execution_count": 28,
   "metadata": {},
   "outputs": [
    {
     "name": "stdout",
     "output_type": "stream",
     "text": [
      "Data is Dharmesh Vishwakarma 1000\n"
     ]
    }
   ],
   "source": [
    "p1.data()"
   ]
  },
  {
   "cell_type": "code",
   "execution_count": 29,
   "metadata": {},
   "outputs": [],
   "source": [
    "p1.raise_salary()"
   ]
  },
  {
   "cell_type": "code",
   "execution_count": 30,
   "metadata": {},
   "outputs": [
    {
     "name": "stdout",
     "output_type": "stream",
     "text": [
      "Data is Dharmesh Vishwakarma 2000\n"
     ]
    }
   ],
   "source": [
    "p1.data()"
   ]
  },
  {
   "cell_type": "code",
   "execution_count": 31,
   "metadata": {},
   "outputs": [],
   "source": [
    "p2 = PayRoll(\"Test\", \"Demo\", 5000)"
   ]
  },
  {
   "cell_type": "code",
   "execution_count": 32,
   "metadata": {},
   "outputs": [
    {
     "name": "stdout",
     "output_type": "stream",
     "text": [
      "Data is Test Demo 5000\n"
     ]
    }
   ],
   "source": [
    "p2.data()"
   ]
  },
  {
   "cell_type": "code",
   "execution_count": null,
   "metadata": {},
   "outputs": [],
   "source": []
  },
  {
   "cell_type": "code",
   "execution_count": 33,
   "metadata": {},
   "outputs": [],
   "source": [
    "p2.increment_rate = 3  # increment rate 3 for p2"
   ]
  },
  {
   "cell_type": "code",
   "execution_count": null,
   "metadata": {},
   "outputs": [],
   "source": []
  },
  {
   "cell_type": "code",
   "execution_count": 34,
   "metadata": {},
   "outputs": [
    {
     "name": "stdout",
     "output_type": "stream",
     "text": [
      "Data is Test Demo 5000\n"
     ]
    }
   ],
   "source": [
    "p2.data()"
   ]
  },
  {
   "cell_type": "code",
   "execution_count": 35,
   "metadata": {},
   "outputs": [],
   "source": [
    "p2.raise_salary()"
   ]
  },
  {
   "cell_type": "code",
   "execution_count": 36,
   "metadata": {},
   "outputs": [
    {
     "data": {
      "text/plain": [
       "15000"
      ]
     },
     "execution_count": 36,
     "metadata": {},
     "output_type": "execute_result"
    }
   ],
   "source": [
    "p2.salary"
   ]
  },
  {
   "cell_type": "code",
   "execution_count": 37,
   "metadata": {},
   "outputs": [
    {
     "name": "stdout",
     "output_type": "stream",
     "text": [
      "Data is Test Demo 15000\n"
     ]
    }
   ],
   "source": [
    "p2.data()"
   ]
  },
  {
   "cell_type": "code",
   "execution_count": null,
   "metadata": {},
   "outputs": [],
   "source": []
  },
  {
   "cell_type": "code",
   "execution_count": null,
   "metadata": {},
   "outputs": [],
   "source": []
  },
  {
   "cell_type": "raw",
   "metadata": {},
   "source": [
    "Date - 05/05/2021  04:45 PM to 06:00 PM"
   ]
  },
  {
   "cell_type": "markdown",
   "metadata": {},
   "source": [
    "## Class Method"
   ]
  },
  {
   "cell_type": "raw",
   "metadata": {},
   "source": [
    "A class method is a method that is bounded to the class rather than the object."
   ]
  },
  {
   "cell_type": "code",
   "execution_count": 58,
   "metadata": {},
   "outputs": [],
   "source": [
    "class EmpExample:\n",
    "    raise_amount = 2   #class variable\n",
    "    \n",
    "    def __init__(self, fname, lname, pay):\n",
    "        self.fname = fname\n",
    "        self.lname = lname\n",
    "        self.pay = pay\n",
    "        \n",
    "    def full_name(self):\n",
    "        print(\"Full Name :\",self.fname,self.lname)\n",
    "        \n",
    "    def apply_raise_amount(self):\n",
    "        self.pay = self.pay*self.raise_amount\n",
    "    \n",
    "    @classmethod\n",
    "    def set_raise_amount(cls, amount):\n",
    "        cls.raise_amount = amount"
   ]
  },
  {
   "cell_type": "code",
   "execution_count": 59,
   "metadata": {},
   "outputs": [],
   "source": [
    "e1 = EmpExample(\"Dharmesh\",\"Vishwakarma\",2000)"
   ]
  },
  {
   "cell_type": "code",
   "execution_count": 60,
   "metadata": {},
   "outputs": [
    {
     "data": {
      "text/plain": [
       "'Dharmesh'"
      ]
     },
     "execution_count": 60,
     "metadata": {},
     "output_type": "execute_result"
    }
   ],
   "source": [
    "e1.fname"
   ]
  },
  {
   "cell_type": "code",
   "execution_count": 61,
   "metadata": {},
   "outputs": [
    {
     "data": {
      "text/plain": [
       "'Vishwakarma'"
      ]
     },
     "execution_count": 61,
     "metadata": {},
     "output_type": "execute_result"
    }
   ],
   "source": [
    "e1.lname"
   ]
  },
  {
   "cell_type": "code",
   "execution_count": 62,
   "metadata": {},
   "outputs": [
    {
     "data": {
      "text/plain": [
       "2000"
      ]
     },
     "execution_count": 62,
     "metadata": {},
     "output_type": "execute_result"
    }
   ],
   "source": [
    "e1.pay"
   ]
  },
  {
   "cell_type": "code",
   "execution_count": 63,
   "metadata": {},
   "outputs": [
    {
     "data": {
      "text/plain": [
       "2"
      ]
     },
     "execution_count": 63,
     "metadata": {},
     "output_type": "execute_result"
    }
   ],
   "source": [
    "e1.raise_amount"
   ]
  },
  {
   "cell_type": "code",
   "execution_count": 64,
   "metadata": {},
   "outputs": [
    {
     "name": "stdout",
     "output_type": "stream",
     "text": [
      "Full Name : Dharmesh Vishwakarma\n"
     ]
    }
   ],
   "source": [
    "e1.full_name()"
   ]
  },
  {
   "cell_type": "code",
   "execution_count": 65,
   "metadata": {},
   "outputs": [],
   "source": [
    "e1.set_raise_amount(3)"
   ]
  },
  {
   "cell_type": "code",
   "execution_count": 66,
   "metadata": {},
   "outputs": [
    {
     "data": {
      "text/plain": [
       "3"
      ]
     },
     "execution_count": 66,
     "metadata": {},
     "output_type": "execute_result"
    }
   ],
   "source": [
    "e1.raise_amount"
   ]
  },
  {
   "cell_type": "code",
   "execution_count": 67,
   "metadata": {},
   "outputs": [],
   "source": [
    "e2 = EmpExample(\"Ram\",\"M\",1000)"
   ]
  },
  {
   "cell_type": "code",
   "execution_count": 68,
   "metadata": {},
   "outputs": [
    {
     "data": {
      "text/plain": [
       "3"
      ]
     },
     "execution_count": 68,
     "metadata": {},
     "output_type": "execute_result"
    }
   ],
   "source": [
    "e2.raise_amount"
   ]
  },
  {
   "cell_type": "code",
   "execution_count": 69,
   "metadata": {},
   "outputs": [],
   "source": [
    "e2.raise_amount = 6"
   ]
  },
  {
   "cell_type": "code",
   "execution_count": 70,
   "metadata": {},
   "outputs": [
    {
     "data": {
      "text/plain": [
       "6"
      ]
     },
     "execution_count": 70,
     "metadata": {},
     "output_type": "execute_result"
    }
   ],
   "source": [
    "e2.raise_amount"
   ]
  },
  {
   "cell_type": "code",
   "execution_count": 71,
   "metadata": {},
   "outputs": [
    {
     "data": {
      "text/plain": [
       "3"
      ]
     },
     "execution_count": 71,
     "metadata": {},
     "output_type": "execute_result"
    }
   ],
   "source": [
    "e1.raise_amount"
   ]
  },
  {
   "cell_type": "code",
   "execution_count": 72,
   "metadata": {},
   "outputs": [],
   "source": [
    "e1.apply_raise_amount()"
   ]
  },
  {
   "cell_type": "code",
   "execution_count": 73,
   "metadata": {},
   "outputs": [
    {
     "data": {
      "text/plain": [
       "6000"
      ]
     },
     "execution_count": 73,
     "metadata": {},
     "output_type": "execute_result"
    }
   ],
   "source": [
    "e1.pay"
   ]
  },
  {
   "cell_type": "code",
   "execution_count": 74,
   "metadata": {},
   "outputs": [],
   "source": [
    "e2.apply_raise_amount()"
   ]
  },
  {
   "cell_type": "code",
   "execution_count": 75,
   "metadata": {},
   "outputs": [
    {
     "data": {
      "text/plain": [
       "6000"
      ]
     },
     "execution_count": 75,
     "metadata": {},
     "output_type": "execute_result"
    }
   ],
   "source": [
    "e2.pay"
   ]
  },
  {
   "cell_type": "code",
   "execution_count": 76,
   "metadata": {},
   "outputs": [],
   "source": [
    "e1.set_raise_amount(5)"
   ]
  },
  {
   "cell_type": "code",
   "execution_count": 77,
   "metadata": {},
   "outputs": [
    {
     "data": {
      "text/plain": [
       "5"
      ]
     },
     "execution_count": 77,
     "metadata": {},
     "output_type": "execute_result"
    }
   ],
   "source": [
    "e1.raise_amount"
   ]
  },
  {
   "cell_type": "code",
   "execution_count": 78,
   "metadata": {},
   "outputs": [
    {
     "data": {
      "text/plain": [
       "6"
      ]
     },
     "execution_count": 78,
     "metadata": {},
     "output_type": "execute_result"
    }
   ],
   "source": [
    "e2.raise_amount"
   ]
  },
  {
   "cell_type": "code",
   "execution_count": 79,
   "metadata": {},
   "outputs": [],
   "source": [
    "e3 = EmpExample(\"F\",\"G\",10)"
   ]
  },
  {
   "cell_type": "code",
   "execution_count": 80,
   "metadata": {},
   "outputs": [
    {
     "data": {
      "text/plain": [
       "5"
      ]
     },
     "execution_count": 80,
     "metadata": {},
     "output_type": "execute_result"
    }
   ],
   "source": [
    "e3.raise_amount"
   ]
  },
  {
   "cell_type": "code",
   "execution_count": 81,
   "metadata": {},
   "outputs": [],
   "source": [
    "EmpExample.set_raise_amount(10)"
   ]
  },
  {
   "cell_type": "code",
   "execution_count": 82,
   "metadata": {},
   "outputs": [],
   "source": [
    "e4 = EmpExample(\"p\",\"O\",900)"
   ]
  },
  {
   "cell_type": "code",
   "execution_count": 83,
   "metadata": {},
   "outputs": [
    {
     "data": {
      "text/plain": [
       "10"
      ]
     },
     "execution_count": 83,
     "metadata": {},
     "output_type": "execute_result"
    }
   ],
   "source": [
    "e4.raise_amount"
   ]
  },
  {
   "cell_type": "code",
   "execution_count": 84,
   "metadata": {},
   "outputs": [
    {
     "data": {
      "text/plain": [
       "10"
      ]
     },
     "execution_count": 84,
     "metadata": {},
     "output_type": "execute_result"
    }
   ],
   "source": [
    "e3.raise_amount"
   ]
  },
  {
   "cell_type": "code",
   "execution_count": 85,
   "metadata": {},
   "outputs": [
    {
     "data": {
      "text/plain": [
       "6"
      ]
     },
     "execution_count": 85,
     "metadata": {},
     "output_type": "execute_result"
    }
   ],
   "source": [
    "e2.raise_amount"
   ]
  },
  {
   "cell_type": "code",
   "execution_count": 86,
   "metadata": {},
   "outputs": [
    {
     "data": {
      "text/plain": [
       "10"
      ]
     },
     "execution_count": 86,
     "metadata": {},
     "output_type": "execute_result"
    }
   ],
   "source": [
    "e1.raise_amount"
   ]
  },
  {
   "cell_type": "code",
   "execution_count": null,
   "metadata": {},
   "outputs": [],
   "source": []
  },
  {
   "cell_type": "markdown",
   "metadata": {},
   "source": [
    "## Static Method"
   ]
  },
  {
   "cell_type": "raw",
   "metadata": {},
   "source": [
    "A static method is a built-in feature where it does not recieve any referance arguments whether it is called by instance or by the class itself.\n",
    "\n",
    "Characteristics :\n",
    "\n",
    "=> It cannot have cls or self as an argument.\n",
    "=> The static method cannot access the class attributes or the instance attributes.\n",
    "=> It can be called using class.method_name() or by object.method_name()."
   ]
  },
  {
   "cell_type": "code",
   "execution_count": 87,
   "metadata": {},
   "outputs": [],
   "source": [
    "class Student:\n",
    "    name = \"Steve Jobs\"\n",
    "    \n",
    "    def __init__(self, age):\n",
    "        self.age = age\n",
    "        \n",
    "    @staticmethod\n",
    "    def college_name():\n",
    "        clg_name = \"KLE\"\n",
    "        print(clg_name)"
   ]
  },
  {
   "cell_type": "code",
   "execution_count": 88,
   "metadata": {},
   "outputs": [
    {
     "name": "stdout",
     "output_type": "stream",
     "text": [
      "KLE\n"
     ]
    }
   ],
   "source": [
    "# accessing static method with class name\n",
    "\n",
    "Student.college_name()"
   ]
  },
  {
   "cell_type": "code",
   "execution_count": 89,
   "metadata": {},
   "outputs": [],
   "source": [
    "s1 = Student(33)"
   ]
  },
  {
   "cell_type": "code",
   "execution_count": 90,
   "metadata": {},
   "outputs": [
    {
     "name": "stdout",
     "output_type": "stream",
     "text": [
      "KLE\n"
     ]
    }
   ],
   "source": [
    "#accessing static method with the object name\n",
    "\n",
    "s1.college_name()"
   ]
  },
  {
   "cell_type": "code",
   "execution_count": 91,
   "metadata": {},
   "outputs": [
    {
     "data": {
      "text/plain": [
       "33"
      ]
     },
     "execution_count": 91,
     "metadata": {},
     "output_type": "execute_result"
    }
   ],
   "source": [
    "s1.age"
   ]
  },
  {
   "cell_type": "code",
   "execution_count": 92,
   "metadata": {},
   "outputs": [],
   "source": [
    "s1.age = 30"
   ]
  },
  {
   "cell_type": "code",
   "execution_count": 93,
   "metadata": {},
   "outputs": [
    {
     "data": {
      "text/plain": [
       "30"
      ]
     },
     "execution_count": 93,
     "metadata": {},
     "output_type": "execute_result"
    }
   ],
   "source": [
    "s1.age"
   ]
  },
  {
   "cell_type": "code",
   "execution_count": 94,
   "metadata": {},
   "outputs": [],
   "source": [
    "#example 2\n",
    "\n",
    "class MobileInfo:\n",
    "    \n",
    "    @staticmethod\n",
    "    def show_info(model_name, price):\n",
    "        print(\"Model Name is :\",model_name)\n",
    "        print(\"Price is :\",price)"
   ]
  },
  {
   "cell_type": "code",
   "execution_count": 95,
   "metadata": {},
   "outputs": [
    {
     "name": "stdout",
     "output_type": "stream",
     "text": [
      "Model Name is : Redmi 8\n",
      "Price is : 12000\n"
     ]
    }
   ],
   "source": [
    "MobileInfo.show_info(\"Redmi 8\",12000)"
   ]
  },
  {
   "cell_type": "code",
   "execution_count": 96,
   "metadata": {},
   "outputs": [],
   "source": [
    "m1 = MobileInfo()"
   ]
  },
  {
   "cell_type": "code",
   "execution_count": 97,
   "metadata": {},
   "outputs": [
    {
     "name": "stdout",
     "output_type": "stream",
     "text": [
      "Model Name is : Iphone X\n",
      "Price is : 30000\n"
     ]
    }
   ],
   "source": [
    "m1.show_info(\"Iphone X\",30000)"
   ]
  },
  {
   "cell_type": "code",
   "execution_count": null,
   "metadata": {},
   "outputs": [],
   "source": []
  },
  {
   "cell_type": "raw",
   "metadata": {},
   "source": [
    "Date - 08/05/2021  09:15 AM to 11:30 AM"
   ]
  },
  {
   "cell_type": "markdown",
   "metadata": {},
   "source": [
    "# Inheritance"
   ]
  },
  {
   "cell_type": "raw",
   "metadata": {},
   "source": [
    "Single Inheritance\n",
    "Multiple Inheritance\n",
    "Multilevel Inheritance\n",
    "Hierarchical Inheritance\n",
    "Hybrid Inheritance"
   ]
  },
  {
   "cell_type": "markdown",
   "metadata": {},
   "source": [
    "## Single Inheritance"
   ]
  },
  {
   "cell_type": "code",
   "execution_count": 1,
   "metadata": {},
   "outputs": [],
   "source": [
    "class  Parent:\n",
    "    def can_earn(self):\n",
    "        print(\"Parent can earn & spend\")\n",
    "        \n",
    "class Child(Parent):\n",
    "    def can_play(self):\n",
    "        print(\"Child can paly when they are young\")"
   ]
  },
  {
   "cell_type": "code",
   "execution_count": 2,
   "metadata": {},
   "outputs": [],
   "source": [
    "p1 = Parent() # creating object of Parent class"
   ]
  },
  {
   "cell_type": "code",
   "execution_count": 3,
   "metadata": {},
   "outputs": [],
   "source": [
    "c1 = Child() # creating object of Child class"
   ]
  },
  {
   "cell_type": "code",
   "execution_count": 4,
   "metadata": {},
   "outputs": [
    {
     "name": "stdout",
     "output_type": "stream",
     "text": [
      "Parent can earn & spend\n"
     ]
    }
   ],
   "source": [
    "p1.can_earn()"
   ]
  },
  {
   "cell_type": "code",
   "execution_count": 5,
   "metadata": {},
   "outputs": [
    {
     "name": "stdout",
     "output_type": "stream",
     "text": [
      "Child can paly when they are young\n"
     ]
    }
   ],
   "source": [
    "c1.can_play()"
   ]
  },
  {
   "cell_type": "code",
   "execution_count": 6,
   "metadata": {},
   "outputs": [
    {
     "ename": "AttributeError",
     "evalue": "'Parent' object has no attribute 'can_play'",
     "output_type": "error",
     "traceback": [
      "\u001b[1;31m-------------------------------------------------\u001b[0m",
      "\u001b[1;31mAttributeError\u001b[0m  Traceback (most recent call last)",
      "\u001b[1;32m<ipython-input-6-0164463034ee>\u001b[0m in \u001b[0;36m<module>\u001b[1;34m\u001b[0m\n\u001b[1;32m----> 1\u001b[1;33m \u001b[0mp1\u001b[0m\u001b[1;33m.\u001b[0m\u001b[0mcan_play\u001b[0m\u001b[1;33m(\u001b[0m\u001b[1;33m)\u001b[0m\u001b[1;33m\u001b[0m\u001b[1;33m\u001b[0m\u001b[0m\n\u001b[0m",
      "\u001b[1;31mAttributeError\u001b[0m: 'Parent' object has no attribute 'can_play'"
     ]
    }
   ],
   "source": [
    "p1.can_play()"
   ]
  },
  {
   "cell_type": "code",
   "execution_count": 7,
   "metadata": {},
   "outputs": [
    {
     "name": "stdout",
     "output_type": "stream",
     "text": [
      "Child can paly when they are young\n"
     ]
    }
   ],
   "source": [
    "c1.can_play()"
   ]
  },
  {
   "cell_type": "code",
   "execution_count": null,
   "metadata": {},
   "outputs": [],
   "source": []
  },
  {
   "cell_type": "code",
   "execution_count": 18,
   "metadata": {},
   "outputs": [],
   "source": [
    "class Individual:\n",
    "    def __init__(self, name):\n",
    "        self.name = name\n",
    "        \n",
    "    def getName(self):\n",
    "        return self.name\n",
    "    \n",
    "    def Is_Employee(self):\n",
    "        return False\n",
    "    \n",
    "class Employee(Individual):\n",
    "    def Is_Employee(self):\n",
    "        return True"
   ]
  },
  {
   "cell_type": "code",
   "execution_count": 19,
   "metadata": {},
   "outputs": [],
   "source": [
    "ind1 = Individual(\"Dharmesh\")"
   ]
  },
  {
   "cell_type": "code",
   "execution_count": 20,
   "metadata": {},
   "outputs": [
    {
     "data": {
      "text/plain": [
       "'Dharmesh'"
      ]
     },
     "execution_count": 20,
     "metadata": {},
     "output_type": "execute_result"
    }
   ],
   "source": [
    "ind1.name"
   ]
  },
  {
   "cell_type": "code",
   "execution_count": 21,
   "metadata": {},
   "outputs": [
    {
     "data": {
      "text/plain": [
       "False"
      ]
     },
     "execution_count": 21,
     "metadata": {},
     "output_type": "execute_result"
    }
   ],
   "source": [
    "ind1.Is_Employee()"
   ]
  },
  {
   "cell_type": "code",
   "execution_count": 26,
   "metadata": {},
   "outputs": [],
   "source": [
    "e1 = Employee(ind1.name)"
   ]
  },
  {
   "cell_type": "code",
   "execution_count": 27,
   "metadata": {},
   "outputs": [
    {
     "data": {
      "text/plain": [
       "'Dharmesh'"
      ]
     },
     "execution_count": 27,
     "metadata": {},
     "output_type": "execute_result"
    }
   ],
   "source": [
    "e1.getName()"
   ]
  },
  {
   "cell_type": "code",
   "execution_count": 28,
   "metadata": {},
   "outputs": [
    {
     "data": {
      "text/plain": [
       "True"
      ]
     },
     "execution_count": 28,
     "metadata": {},
     "output_type": "execute_result"
    }
   ],
   "source": [
    "e1.Is_Employee()"
   ]
  },
  {
   "cell_type": "code",
   "execution_count": 29,
   "metadata": {},
   "outputs": [
    {
     "data": {
      "text/plain": [
       "False"
      ]
     },
     "execution_count": 29,
     "metadata": {},
     "output_type": "execute_result"
    }
   ],
   "source": [
    "ind1.Is_Employee()"
   ]
  },
  {
   "cell_type": "code",
   "execution_count": null,
   "metadata": {},
   "outputs": [],
   "source": []
  },
  {
   "cell_type": "markdown",
   "metadata": {},
   "source": [
    "## Multiple Inheritance"
   ]
  },
  {
   "cell_type": "code",
   "execution_count": 30,
   "metadata": {},
   "outputs": [],
   "source": [
    "class Parent:\n",
    "    def parent_func(self):\n",
    "        print(\"This is a feature of Parent\")\n",
    "\n",
    "class Child1(Parent):\n",
    "    def child1_func(self):\n",
    "        print(\"This is a feature of Child 1\")\n",
    "\n",
    "class Child2(Child1,Parent):\n",
    "    def child2_func(self):\n",
    "        print(\"This is a feature of Child 2\")"
   ]
  },
  {
   "cell_type": "code",
   "execution_count": 31,
   "metadata": {},
   "outputs": [],
   "source": [
    "p1 = Parent()"
   ]
  },
  {
   "cell_type": "code",
   "execution_count": 32,
   "metadata": {},
   "outputs": [],
   "source": [
    "c1 = Child1()"
   ]
  },
  {
   "cell_type": "code",
   "execution_count": 33,
   "metadata": {},
   "outputs": [],
   "source": [
    "c2 = Child2()"
   ]
  },
  {
   "cell_type": "code",
   "execution_count": 34,
   "metadata": {},
   "outputs": [
    {
     "name": "stdout",
     "output_type": "stream",
     "text": [
      "This is a feature of Parent\n"
     ]
    }
   ],
   "source": [
    "p1.parent_func()"
   ]
  },
  {
   "cell_type": "code",
   "execution_count": 35,
   "metadata": {},
   "outputs": [
    {
     "name": "stdout",
     "output_type": "stream",
     "text": [
      "This is a feature of Parent\n"
     ]
    }
   ],
   "source": [
    "c1.parent_func()"
   ]
  },
  {
   "cell_type": "code",
   "execution_count": 36,
   "metadata": {},
   "outputs": [
    {
     "name": "stdout",
     "output_type": "stream",
     "text": [
      "This is a feature of Parent\n"
     ]
    }
   ],
   "source": [
    "c2.parent_func()"
   ]
  },
  {
   "cell_type": "code",
   "execution_count": 37,
   "metadata": {},
   "outputs": [
    {
     "ename": "AttributeError",
     "evalue": "'Parent' object has no attribute 'child1_func'",
     "output_type": "error",
     "traceback": [
      "\u001b[1;31m-------------------------------------------------\u001b[0m",
      "\u001b[1;31mAttributeError\u001b[0m  Traceback (most recent call last)",
      "\u001b[1;32m<ipython-input-37-a4be3d3e7c30>\u001b[0m in \u001b[0;36m<module>\u001b[1;34m\u001b[0m\n\u001b[1;32m----> 1\u001b[1;33m \u001b[0mp1\u001b[0m\u001b[1;33m.\u001b[0m\u001b[0mchild1_func\u001b[0m\u001b[1;33m(\u001b[0m\u001b[1;33m)\u001b[0m\u001b[1;33m\u001b[0m\u001b[1;33m\u001b[0m\u001b[0m\n\u001b[0m",
      "\u001b[1;31mAttributeError\u001b[0m: 'Parent' object has no attribute 'child1_func'"
     ]
    }
   ],
   "source": [
    "p1.child1_func()"
   ]
  },
  {
   "cell_type": "code",
   "execution_count": 38,
   "metadata": {},
   "outputs": [
    {
     "name": "stdout",
     "output_type": "stream",
     "text": [
      "This is a feature of Child 1\n"
     ]
    }
   ],
   "source": [
    "c1.child1_func()"
   ]
  },
  {
   "cell_type": "code",
   "execution_count": 39,
   "metadata": {},
   "outputs": [
    {
     "name": "stdout",
     "output_type": "stream",
     "text": [
      "This is a feature of Child 1\n"
     ]
    }
   ],
   "source": [
    "c2.child1_func()"
   ]
  },
  {
   "cell_type": "code",
   "execution_count": 40,
   "metadata": {},
   "outputs": [
    {
     "ename": "AttributeError",
     "evalue": "'Parent' object has no attribute 'child2_func'",
     "output_type": "error",
     "traceback": [
      "\u001b[1;31m-------------------------------------------------\u001b[0m",
      "\u001b[1;31mAttributeError\u001b[0m  Traceback (most recent call last)",
      "\u001b[1;32m<ipython-input-40-51748faa39ec>\u001b[0m in \u001b[0;36m<module>\u001b[1;34m\u001b[0m\n\u001b[1;32m----> 1\u001b[1;33m \u001b[0mp1\u001b[0m\u001b[1;33m.\u001b[0m\u001b[0mchild2_func\u001b[0m\u001b[1;33m(\u001b[0m\u001b[1;33m)\u001b[0m\u001b[1;33m\u001b[0m\u001b[1;33m\u001b[0m\u001b[0m\n\u001b[0m",
      "\u001b[1;31mAttributeError\u001b[0m: 'Parent' object has no attribute 'child2_func'"
     ]
    }
   ],
   "source": [
    "p1.child2_func()"
   ]
  },
  {
   "cell_type": "code",
   "execution_count": 41,
   "metadata": {},
   "outputs": [
    {
     "ename": "AttributeError",
     "evalue": "'Child1' object has no attribute 'child2_func'",
     "output_type": "error",
     "traceback": [
      "\u001b[1;31m-------------------------------------------------\u001b[0m",
      "\u001b[1;31mAttributeError\u001b[0m  Traceback (most recent call last)",
      "\u001b[1;32m<ipython-input-41-61dc4f3737ba>\u001b[0m in \u001b[0;36m<module>\u001b[1;34m\u001b[0m\n\u001b[1;32m----> 1\u001b[1;33m \u001b[0mc1\u001b[0m\u001b[1;33m.\u001b[0m\u001b[0mchild2_func\u001b[0m\u001b[1;33m(\u001b[0m\u001b[1;33m)\u001b[0m\u001b[1;33m\u001b[0m\u001b[1;33m\u001b[0m\u001b[0m\n\u001b[0m",
      "\u001b[1;31mAttributeError\u001b[0m: 'Child1' object has no attribute 'child2_func'"
     ]
    }
   ],
   "source": [
    "c1.child2_func()"
   ]
  },
  {
   "cell_type": "code",
   "execution_count": 43,
   "metadata": {},
   "outputs": [
    {
     "name": "stdout",
     "output_type": "stream",
     "text": [
      "This is a feature of Child 2\n"
     ]
    }
   ],
   "source": [
    "c2.child2_func()"
   ]
  },
  {
   "cell_type": "code",
   "execution_count": null,
   "metadata": {},
   "outputs": [],
   "source": []
  },
  {
   "cell_type": "code",
   "execution_count": 44,
   "metadata": {},
   "outputs": [],
   "source": [
    "class TeamMember:\n",
    "    def __init__(self, name, uid):\n",
    "        self.name = name\n",
    "        self.uid = uid\n",
    "\n",
    "class Worker():\n",
    "    def __init__(self, pay, job):\n",
    "        self.pay = pay\n",
    "        self.job = job\n",
    "        \n",
    "class TeamLeader(TeamMember , Worker):\n",
    "    def __init__(self, name, uid, pay, job, exp):\n",
    "        \n",
    "        # registering the constructor of base/parent class\n",
    "        TeamMember.__init__(self, name, uid)\n",
    "        Worker.__init__(self, pay, job)\n",
    "        \n",
    "        self.exp = exp\n",
    "        \n",
    "    def data(self):\n",
    "        print(\"Name is:\",self.name)\n",
    "        print(\"UID is:\",self.uid)\n",
    "        print(\"Job is:\",self.job)\n",
    "        print(\"Pay is:\",self.pay)\n",
    "        print(\"Experience is:\",self.exp)"
   ]
  },
  {
   "cell_type": "code",
   "execution_count": 45,
   "metadata": {},
   "outputs": [],
   "source": [
    "t1 = TeamLeader(\"Dharmesh\", \"Emp0011\", 1000, \"Dev\", 2)"
   ]
  },
  {
   "cell_type": "code",
   "execution_count": 46,
   "metadata": {},
   "outputs": [
    {
     "name": "stdout",
     "output_type": "stream",
     "text": [
      "Name is: Dharmesh\n",
      "UID is: Emp0011\n",
      "Job is: Dev\n",
      "Pay is: 1000\n",
      "Experience is: 2\n"
     ]
    }
   ],
   "source": [
    "t1.data()"
   ]
  },
  {
   "cell_type": "code",
   "execution_count": null,
   "metadata": {},
   "outputs": [],
   "source": []
  },
  {
   "cell_type": "raw",
   "metadata": {},
   "source": [
    "Date - 10/05/2021  04:30 PM to 06:15 PM"
   ]
  },
  {
   "cell_type": "markdown",
   "metadata": {},
   "source": [
    "## Multilevel Inheritance"
   ]
  },
  {
   "cell_type": "code",
   "execution_count": 1,
   "metadata": {},
   "outputs": [],
   "source": [
    "class GrandFather:\n",
    "    def __init__(self, grandfather_name):\n",
    "        self.grandfather_name = grandfather_name\n",
    "\n",
    "class Father(GrandFather):\n",
    "    def __init__(self, father_name, grandfather_name):\n",
    "        self.father_name = father_name\n",
    "        GrandFather.__init__(self, grandfather_name)\n",
    "        \n",
    "class Son(Father):\n",
    "    def __init__(self, son_name, father_name, grandfather_name):\n",
    "        self.son_name = son_name\n",
    "        Father.__init__(self, father_name, grandfather_name)\n",
    "        \n",
    "    def data(self):\n",
    "        print(\"Grand father name is:\",self.grandfather_name)\n",
    "        print(\"Father name is:\",self.father_name)\n",
    "        print(\"Son name is:\",self.son_name)"
   ]
  },
  {
   "cell_type": "code",
   "execution_count": 2,
   "metadata": {},
   "outputs": [],
   "source": [
    "s1 = Son(\"Steve\", \"Harry\", \"John\")"
   ]
  },
  {
   "cell_type": "code",
   "execution_count": 3,
   "metadata": {},
   "outputs": [
    {
     "name": "stdout",
     "output_type": "stream",
     "text": [
      "Grand father name is: John\n",
      "Father name is: Harry\n",
      "Son name is: Steve\n"
     ]
    }
   ],
   "source": [
    "s1.data()"
   ]
  },
  {
   "cell_type": "markdown",
   "metadata": {},
   "source": [
    "### example 2"
   ]
  },
  {
   "cell_type": "raw",
   "metadata": {},
   "source": [
    "use super() keyword in python in multiple inheritance."
   ]
  },
  {
   "cell_type": "code",
   "execution_count": 6,
   "metadata": {},
   "outputs": [],
   "source": [
    "class CL1:\n",
    "    def __init__(self):\n",
    "        print(\"Hi! I am initialized is CL1 class \")\n",
    "        \n",
    "    def print_num(self, num):\n",
    "        print(\"Printing from CL1\",num)\n",
    "        \n",
    "class CL2(CL1):\n",
    "    def __init__(self):\n",
    "        print(\"Hi! I am initialized is CL2 class \")\n",
    "        super().__init__()\n",
    "        \n",
    "    def print_num(self,num):\n",
    "        print(\"Printing from CL2\",num)\n",
    "        super().print_num(num+1)\n",
    "        \n",
    "class CL3(CL2):\n",
    "    def __init__(self):\n",
    "        print(\"Hi! I am initialized is CL3 class \")\n",
    "        super().__init__()\n",
    "        \n",
    "    def print_num(self,num):\n",
    "        print(\"Printing from CL3\",num)\n",
    "        super().print_num(num+1)"
   ]
  },
  {
   "cell_type": "code",
   "execution_count": 7,
   "metadata": {},
   "outputs": [
    {
     "name": "stdout",
     "output_type": "stream",
     "text": [
      "Hi! I am initialized is CL3 class \n",
      "Hi! I am initialized is CL2 class \n",
      "Hi! I am initialized is CL1 class \n"
     ]
    }
   ],
   "source": [
    "obj1 = CL3()"
   ]
  },
  {
   "cell_type": "code",
   "execution_count": 8,
   "metadata": {},
   "outputs": [
    {
     "name": "stdout",
     "output_type": "stream",
     "text": [
      "Printing from CL3 10\n",
      "Printing from CL2 11\n",
      "Printing from CL1 12\n"
     ]
    }
   ],
   "source": [
    "obj1.print_num(10)"
   ]
  },
  {
   "cell_type": "code",
   "execution_count": 9,
   "metadata": {},
   "outputs": [
    {
     "name": "stdout",
     "output_type": "stream",
     "text": [
      "Hi! I am initialized is CL2 class \n",
      "Hi! I am initialized is CL1 class \n"
     ]
    }
   ],
   "source": [
    "obj2 = CL2()"
   ]
  },
  {
   "cell_type": "code",
   "execution_count": 10,
   "metadata": {},
   "outputs": [
    {
     "name": "stdout",
     "output_type": "stream",
     "text": [
      "Printing from CL2 20\n",
      "Printing from CL1 21\n"
     ]
    }
   ],
   "source": [
    "obj2.print_num(20)"
   ]
  },
  {
   "cell_type": "code",
   "execution_count": null,
   "metadata": {},
   "outputs": [],
   "source": []
  },
  {
   "cell_type": "markdown",
   "metadata": {},
   "source": [
    "## Hierarchical Inheritance"
   ]
  },
  {
   "cell_type": "code",
   "execution_count": 12,
   "metadata": {},
   "outputs": [],
   "source": [
    "class Parent:\n",
    "    def parent_func(self):\n",
    "        print(\"This function is parent class\")\n",
    "        \n",
    "class Child1(Parent):\n",
    "    def child1_func(self):\n",
    "        print(\"This function is child 1 class\")\n",
    "\n",
    "class Child2(Parent):\n",
    "    def child2_func(self):\n",
    "        print(\"This function is child 2 class\")"
   ]
  },
  {
   "cell_type": "code",
   "execution_count": 13,
   "metadata": {},
   "outputs": [],
   "source": [
    "ch2 = Child2()"
   ]
  },
  {
   "cell_type": "code",
   "execution_count": 14,
   "metadata": {},
   "outputs": [
    {
     "name": "stdout",
     "output_type": "stream",
     "text": [
      "This function is child 2 class\n"
     ]
    }
   ],
   "source": [
    "ch2.child2_func()"
   ]
  },
  {
   "cell_type": "code",
   "execution_count": 15,
   "metadata": {},
   "outputs": [
    {
     "name": "stdout",
     "output_type": "stream",
     "text": [
      "This function is parent class\n"
     ]
    }
   ],
   "source": [
    "ch2.parent_func()"
   ]
  },
  {
   "cell_type": "code",
   "execution_count": 17,
   "metadata": {},
   "outputs": [
    {
     "ename": "AttributeError",
     "evalue": "'Child2' object has no attribute 'child1_func'",
     "output_type": "error",
     "traceback": [
      "\u001b[1;31m-------------------------------------------------\u001b[0m",
      "\u001b[1;31mAttributeError\u001b[0m  Traceback (most recent call last)",
      "\u001b[1;32m<ipython-input-17-e1ba228e7236>\u001b[0m in \u001b[0;36m<module>\u001b[1;34m\u001b[0m\n\u001b[1;32m----> 1\u001b[1;33m \u001b[0mch2\u001b[0m\u001b[1;33m.\u001b[0m\u001b[0mchild1_func\u001b[0m\u001b[1;33m(\u001b[0m\u001b[1;33m)\u001b[0m\u001b[1;33m\u001b[0m\u001b[1;33m\u001b[0m\u001b[0m\n\u001b[0m",
      "\u001b[1;31mAttributeError\u001b[0m: 'Child2' object has no attribute 'child1_func'"
     ]
    }
   ],
   "source": [
    "ch2.child1_func()"
   ]
  },
  {
   "cell_type": "code",
   "execution_count": 18,
   "metadata": {},
   "outputs": [],
   "source": [
    "ch1 = Child1()"
   ]
  },
  {
   "cell_type": "code",
   "execution_count": 19,
   "metadata": {},
   "outputs": [
    {
     "name": "stdout",
     "output_type": "stream",
     "text": [
      "This function is child 1 class\n"
     ]
    }
   ],
   "source": [
    "ch1.child1_func()"
   ]
  },
  {
   "cell_type": "code",
   "execution_count": 20,
   "metadata": {},
   "outputs": [
    {
     "name": "stdout",
     "output_type": "stream",
     "text": [
      "This function is parent class\n"
     ]
    }
   ],
   "source": [
    "ch1.parent_func()"
   ]
  },
  {
   "cell_type": "code",
   "execution_count": 21,
   "metadata": {},
   "outputs": [
    {
     "ename": "AttributeError",
     "evalue": "'Child1' object has no attribute 'child2_func'",
     "output_type": "error",
     "traceback": [
      "\u001b[1;31m-------------------------------------------------\u001b[0m",
      "\u001b[1;31mAttributeError\u001b[0m  Traceback (most recent call last)",
      "\u001b[1;32m<ipython-input-21-10f6f779fd6a>\u001b[0m in \u001b[0;36m<module>\u001b[1;34m\u001b[0m\n\u001b[1;32m----> 1\u001b[1;33m \u001b[0mch1\u001b[0m\u001b[1;33m.\u001b[0m\u001b[0mchild2_func\u001b[0m\u001b[1;33m(\u001b[0m\u001b[1;33m)\u001b[0m\u001b[1;33m\u001b[0m\u001b[1;33m\u001b[0m\u001b[0m\n\u001b[0m",
      "\u001b[1;31mAttributeError\u001b[0m: 'Child1' object has no attribute 'child2_func'"
     ]
    }
   ],
   "source": [
    "ch1.child2_func()"
   ]
  },
  {
   "cell_type": "code",
   "execution_count": null,
   "metadata": {},
   "outputs": [],
   "source": []
  },
  {
   "cell_type": "raw",
   "metadata": {},
   "source": [
    "Date - 12/05/2021  04:45 PM to 06:15 PM"
   ]
  },
  {
   "cell_type": "markdown",
   "metadata": {},
   "source": [
    "## Hybridge Inheritance"
   ]
  },
  {
   "cell_type": "raw",
   "metadata": {},
   "source": [
    "It consist all types of inheritance."
   ]
  },
  {
   "cell_type": "code",
   "execution_count": 3,
   "metadata": {},
   "outputs": [],
   "source": [
    "class School:\n",
    "    def func(self):\n",
    "        print(\"This is a function of School class \")\n",
    "        \n",
    "class Student1(School):\n",
    "    def func1(self):\n",
    "        print(\"This is a function of Student 1 class \")\n",
    "        \n",
    "class Student2(School):\n",
    "    def func2(self):\n",
    "        print(\"This is function of Student 2 class \")\n",
    "        \n",
    "class Student3(Student2, Student1):\n",
    "    def func3(self):\n",
    "        print(\"This is function of Student 3 class \")"
   ]
  },
  {
   "cell_type": "code",
   "execution_count": 4,
   "metadata": {},
   "outputs": [],
   "source": [
    "s3 = Student3()"
   ]
  },
  {
   "cell_type": "code",
   "execution_count": 6,
   "metadata": {},
   "outputs": [
    {
     "name": "stdout",
     "output_type": "stream",
     "text": [
      "This is function of Student 3 class \n"
     ]
    }
   ],
   "source": [
    "s3.func3()"
   ]
  },
  {
   "cell_type": "code",
   "execution_count": 7,
   "metadata": {},
   "outputs": [
    {
     "name": "stdout",
     "output_type": "stream",
     "text": [
      "This is function of Student 2 class \n"
     ]
    }
   ],
   "source": [
    "s3.func2()"
   ]
  },
  {
   "cell_type": "code",
   "execution_count": 8,
   "metadata": {},
   "outputs": [
    {
     "name": "stdout",
     "output_type": "stream",
     "text": [
      "This is a function of Student 1 class \n"
     ]
    }
   ],
   "source": [
    "s3.func1()"
   ]
  },
  {
   "cell_type": "code",
   "execution_count": 9,
   "metadata": {},
   "outputs": [
    {
     "name": "stdout",
     "output_type": "stream",
     "text": [
      "This is a function of School class \n"
     ]
    }
   ],
   "source": [
    "s3.func()"
   ]
  },
  {
   "cell_type": "code",
   "execution_count": null,
   "metadata": {},
   "outputs": [],
   "source": []
  },
  {
   "cell_type": "markdown",
   "metadata": {},
   "source": [
    "# Encapsulation"
   ]
  },
  {
   "cell_type": "raw",
   "metadata": {},
   "source": [
    "=> Encapsulation describe the idea of wrapping the data and the methods that work on data with in one unit.\n",
    "=> This puts restrictions on accessing the variables and the methods directly and can prevent accidental modifications of the data."
   ]
  },
  {
   "cell_type": "markdown",
   "metadata": {},
   "source": [
    "## Protected Members"
   ]
  },
  {
   "cell_type": "raw",
   "metadata": {},
   "source": [
    "=> Protected members are those members of the class that cannot be accessed outside the class but can be accessed with in the class & its subclass."
   ]
  },
  {
   "cell_type": "code",
   "execution_count": 14,
   "metadata": {},
   "outputs": [],
   "source": [
    "class Base:\n",
    "    def __init__(self):\n",
    "        self.age = 21\n",
    "        self._num = 20  # this is a protected variable\n",
    "\n",
    "class Derived(Base):\n",
    "    def __init__(self):\n",
    "        Base.__init__(self)\n",
    "        print(\"Calling the protected member of the class \")\n",
    "        print(\"Num is:\",self._num)\n",
    "        print(\"Age is:\",self.age)"
   ]
  },
  {
   "cell_type": "code",
   "execution_count": 15,
   "metadata": {},
   "outputs": [
    {
     "name": "stdout",
     "output_type": "stream",
     "text": [
      "Calling the protected member of the class \n",
      "Num is: 20\n",
      "Age is: 21\n"
     ]
    }
   ],
   "source": [
    "d1 = Derived()"
   ]
  },
  {
   "cell_type": "code",
   "execution_count": 16,
   "metadata": {},
   "outputs": [
    {
     "data": {
      "text/plain": [
       "21"
      ]
     },
     "execution_count": 16,
     "metadata": {},
     "output_type": "execute_result"
    }
   ],
   "source": [
    "d1.age"
   ]
  },
  {
   "cell_type": "code",
   "execution_count": 18,
   "metadata": {},
   "outputs": [
    {
     "ename": "AttributeError",
     "evalue": "'Derived' object has no attribute 'num'",
     "output_type": "error",
     "traceback": [
      "\u001b[1;31m---------------------------------------------------------------------------\u001b[0m",
      "\u001b[1;31mAttributeError\u001b[0m                            Traceback (most recent call last)",
      "\u001b[1;32m<ipython-input-18-b63c176a540a>\u001b[0m in \u001b[0;36m<module>\u001b[1;34m\u001b[0m\n\u001b[1;32m----> 1\u001b[1;33m \u001b[0md1\u001b[0m\u001b[1;33m.\u001b[0m\u001b[0mnum\u001b[0m\u001b[1;33m\u001b[0m\u001b[1;33m\u001b[0m\u001b[0m\n\u001b[0m",
      "\u001b[1;31mAttributeError\u001b[0m: 'Derived' object has no attribute 'num'"
     ]
    }
   ],
   "source": [
    "d1.num"
   ]
  },
  {
   "cell_type": "code",
   "execution_count": 19,
   "metadata": {},
   "outputs": [
    {
     "data": {
      "text/plain": [
       "20"
      ]
     },
     "execution_count": 19,
     "metadata": {},
     "output_type": "execute_result"
    }
   ],
   "source": [
    "d1._num"
   ]
  },
  {
   "cell_type": "code",
   "execution_count": null,
   "metadata": {},
   "outputs": [],
   "source": []
  },
  {
   "cell_type": "code",
   "execution_count": 20,
   "metadata": {},
   "outputs": [],
   "source": [
    "class Demo:\n",
    "    _name = \"Dharmesh\"  # protected data member\n",
    "    _age = 21 # protected data member\n",
    "    \n",
    "    def displaydata(self):\n",
    "        print(\"name is:\",self._name)\n",
    "        print(\"age is:\",self._age)"
   ]
  },
  {
   "cell_type": "code",
   "execution_count": 21,
   "metadata": {},
   "outputs": [],
   "source": [
    "obj = Demo()"
   ]
  },
  {
   "cell_type": "code",
   "execution_count": 22,
   "metadata": {},
   "outputs": [
    {
     "name": "stdout",
     "output_type": "stream",
     "text": [
      "name is: Dharmesh\n",
      "age is: 21\n"
     ]
    }
   ],
   "source": [
    "obj.displaydata()"
   ]
  },
  {
   "cell_type": "code",
   "execution_count": null,
   "metadata": {},
   "outputs": [],
   "source": []
  },
  {
   "cell_type": "markdown",
   "metadata": {},
   "source": [
    "## Private Members"
   ]
  },
  {
   "cell_type": "raw",
   "metadata": {},
   "source": [
    "=> Private members are similar to protected, the difference is that class members declared private should neither be accessed outside the class nor can be accessed by any class."
   ]
  },
  {
   "cell_type": "code",
   "execution_count": 37,
   "metadata": {},
   "outputs": [],
   "source": [
    "class Base1:\n",
    "    def __init__(self):\n",
    "        self.data = \"I am public data of Base class \"\n",
    "        self.__name = \"dharmesh\"  # this is private members/variable\n",
    "        \n",
    "class Derived1(Base1):\n",
    "    def __init__(self):\n",
    "        Base1.__init__(self)\n",
    "        print(\"printing data from Base class \")\n",
    "        print(\"data is\",self.data)\n",
    "        print(\"name is\",self.__name)"
   ]
  },
  {
   "cell_type": "code",
   "execution_count": 38,
   "metadata": {},
   "outputs": [
    {
     "name": "stdout",
     "output_type": "stream",
     "text": [
      "printing data from Base class \n",
      "data is I am public data of Base class \n"
     ]
    },
    {
     "ename": "AttributeError",
     "evalue": "'Derived1' object has no attribute '_Derived1__name'",
     "output_type": "error",
     "traceback": [
      "\u001b[1;31m---------------------------------------------------------------------------\u001b[0m",
      "\u001b[1;31mAttributeError\u001b[0m                            Traceback (most recent call last)",
      "\u001b[1;32m<ipython-input-38-fa590d386046>\u001b[0m in \u001b[0;36m<module>\u001b[1;34m\u001b[0m\n\u001b[1;32m----> 1\u001b[1;33m \u001b[0mdb1\u001b[0m \u001b[1;33m=\u001b[0m \u001b[0mDerived1\u001b[0m\u001b[1;33m(\u001b[0m\u001b[1;33m)\u001b[0m\u001b[1;33m\u001b[0m\u001b[1;33m\u001b[0m\u001b[0m\n\u001b[0m",
      "\u001b[1;32m<ipython-input-37-5451642ce0de>\u001b[0m in \u001b[0;36m__init__\u001b[1;34m(self)\u001b[0m\n\u001b[0;32m      9\u001b[0m         \u001b[0mprint\u001b[0m\u001b[1;33m(\u001b[0m\u001b[1;34m\"printing data from Base class \"\u001b[0m\u001b[1;33m)\u001b[0m\u001b[1;33m\u001b[0m\u001b[1;33m\u001b[0m\u001b[0m\n\u001b[0;32m     10\u001b[0m         \u001b[0mprint\u001b[0m\u001b[1;33m(\u001b[0m\u001b[1;34m\"data is\"\u001b[0m\u001b[1;33m,\u001b[0m\u001b[0mself\u001b[0m\u001b[1;33m.\u001b[0m\u001b[0mdata\u001b[0m\u001b[1;33m)\u001b[0m\u001b[1;33m\u001b[0m\u001b[1;33m\u001b[0m\u001b[0m\n\u001b[1;32m---> 11\u001b[1;33m         \u001b[0mprint\u001b[0m\u001b[1;33m(\u001b[0m\u001b[1;34m\"name is\"\u001b[0m\u001b[1;33m,\u001b[0m\u001b[0mself\u001b[0m\u001b[1;33m.\u001b[0m\u001b[0m__name\u001b[0m\u001b[1;33m)\u001b[0m\u001b[1;33m\u001b[0m\u001b[1;33m\u001b[0m\u001b[0m\n\u001b[0m",
      "\u001b[1;31mAttributeError\u001b[0m: 'Derived1' object has no attribute '_Derived1__name'"
     ]
    }
   ],
   "source": [
    "db1 = Derived1()"
   ]
  },
  {
   "cell_type": "code",
   "execution_count": null,
   "metadata": {},
   "outputs": [],
   "source": []
  },
  {
   "cell_type": "raw",
   "metadata": {},
   "source": [
    "Date - 15/05/2021  09:15 AM to 11:30 AM"
   ]
  },
  {
   "cell_type": "markdown",
   "metadata": {},
   "source": [
    "## Polymorphism"
   ]
  },
  {
   "cell_type": "code",
   "execution_count": 1,
   "metadata": {},
   "outputs": [
    {
     "data": {
      "text/plain": [
       "5"
      ]
     },
     "execution_count": 1,
     "metadata": {},
     "output_type": "execute_result"
    }
   ],
   "source": [
    "len('hello')  #string"
   ]
  },
  {
   "cell_type": "code",
   "execution_count": 3,
   "metadata": {},
   "outputs": [
    {
     "data": {
      "text/plain": [
       "4"
      ]
     },
     "execution_count": 3,
     "metadata": {},
     "output_type": "execute_result"
    }
   ],
   "source": [
    "len([1,2,4,5])  #list"
   ]
  },
  {
   "cell_type": "code",
   "execution_count": 4,
   "metadata": {},
   "outputs": [
    {
     "data": {
      "text/plain": [
       "6"
      ]
     },
     "execution_count": 4,
     "metadata": {},
     "output_type": "execute_result"
    }
   ],
   "source": [
    "len((3,6,8,2,3,4))  #tuple"
   ]
  },
  {
   "cell_type": "markdown",
   "metadata": {},
   "source": [
    "### Polymorphism in OOps"
   ]
  },
  {
   "cell_type": "code",
   "execution_count": 5,
   "metadata": {},
   "outputs": [],
   "source": [
    "class India:\n",
    "    def capital(self):\n",
    "        print(\"Delhi is the Capital of India\")\n",
    "    def language(self):\n",
    "        print(\"Hindi is the National Language of India\")\n",
    "    def country_type(self):\n",
    "        print(\"India is developing country\")\n",
    "class USA:\n",
    "    def capital(self):\n",
    "        print(\"Washington DC is the Capital of USA\")\n",
    "    def language(self):\n",
    "        print(\"English is the only language of USA\")\n",
    "    def country_type(self):\n",
    "        print(\"USA is Developed Country\")"
   ]
  },
  {
   "cell_type": "code",
   "execution_count": 6,
   "metadata": {},
   "outputs": [],
   "source": [
    "ind1 = India()"
   ]
  },
  {
   "cell_type": "code",
   "execution_count": 7,
   "metadata": {},
   "outputs": [],
   "source": [
    "usa1 = USA()"
   ]
  },
  {
   "cell_type": "code",
   "execution_count": 8,
   "metadata": {},
   "outputs": [
    {
     "name": "stdout",
     "output_type": "stream",
     "text": [
      "Delhi is the Capital of India\n"
     ]
    }
   ],
   "source": [
    "ind1.capital()"
   ]
  },
  {
   "cell_type": "code",
   "execution_count": 9,
   "metadata": {},
   "outputs": [
    {
     "name": "stdout",
     "output_type": "stream",
     "text": [
      "Washington DC is the Capital of USA\n"
     ]
    }
   ],
   "source": [
    "usa1.capital()"
   ]
  },
  {
   "cell_type": "code",
   "execution_count": null,
   "metadata": {},
   "outputs": [],
   "source": []
  },
  {
   "cell_type": "markdown",
   "metadata": {},
   "source": [
    "### Polymorphism in Inheritance"
   ]
  },
  {
   "cell_type": "code",
   "execution_count": 10,
   "metadata": {},
   "outputs": [],
   "source": [
    "class Bird:\n",
    "    def intro(self):\n",
    "        print(\"There are many type of birds\")\n",
    "    def flight(self):\n",
    "        print(\"Most birds can fly some cannot fly\")\n",
    "\n",
    "class Sparrow(Bird):\n",
    "    def flight(self):\n",
    "        print(\"Sparrow can fly\")\n",
    "\n",
    "class Ostrich(Bird):\n",
    "    def flight(self):\n",
    "        print(\"Ostrich cannot fly\")"
   ]
  },
  {
   "cell_type": "code",
   "execution_count": 11,
   "metadata": {},
   "outputs": [],
   "source": [
    "sp1 = Sparrow()"
   ]
  },
  {
   "cell_type": "code",
   "execution_count": 12,
   "metadata": {},
   "outputs": [],
   "source": [
    "os1 = Ostrich()"
   ]
  },
  {
   "cell_type": "code",
   "execution_count": 13,
   "metadata": {},
   "outputs": [
    {
     "name": "stdout",
     "output_type": "stream",
     "text": [
      "There are many type of birds\n"
     ]
    }
   ],
   "source": [
    "sp1.intro()"
   ]
  },
  {
   "cell_type": "code",
   "execution_count": 14,
   "metadata": {},
   "outputs": [
    {
     "name": "stdout",
     "output_type": "stream",
     "text": [
      "There are many type of birds\n"
     ]
    }
   ],
   "source": [
    "os1.intro()"
   ]
  },
  {
   "cell_type": "code",
   "execution_count": 15,
   "metadata": {},
   "outputs": [
    {
     "name": "stdout",
     "output_type": "stream",
     "text": [
      "Sparrow can fly\n"
     ]
    }
   ],
   "source": [
    "sp1.flight()"
   ]
  },
  {
   "cell_type": "code",
   "execution_count": 16,
   "metadata": {},
   "outputs": [
    {
     "name": "stdout",
     "output_type": "stream",
     "text": [
      "Ostrich cannot fly\n"
     ]
    }
   ],
   "source": [
    "os1.flight()"
   ]
  },
  {
   "cell_type": "code",
   "execution_count": null,
   "metadata": {},
   "outputs": [],
   "source": []
  }
 ],
 "metadata": {
  "kernelspec": {
   "display_name": "Python 3",
   "language": "python",
   "name": "python3"
  },
  "language_info": {
   "codemirror_mode": {
    "name": "ipython",
    "version": 3
   },
   "file_extension": ".py",
   "mimetype": "text/x-python",
   "name": "python",
   "nbconvert_exporter": "python",
   "pygments_lexer": "ipython3",
   "version": "3.8.5"
  }
 },
 "nbformat": 4,
 "nbformat_minor": 4
}
