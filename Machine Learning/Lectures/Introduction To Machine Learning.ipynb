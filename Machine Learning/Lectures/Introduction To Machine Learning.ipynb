{
 "cells": [
  {
   "cell_type": "raw",
   "id": "f6948732-f93f-4cac-ae19-c24c87699e8e",
   "metadata": {},
   "source": [
    "Date - 02/09/2021  11:00 AM to 01:00 PM"
   ]
  },
  {
   "cell_type": "markdown",
   "id": "242b17ca-8181-4b53-a8b6-033a253b6bb9",
   "metadata": {},
   "source": [
    "## Introduction To Machine Learning\n",
    "    Machine Learning is a programming computer to optimize a performance criterion using example data or past data or past\n",
    "    experience.\n",
    "\n",
    "    Machine Learning is used when (examples):\n",
    "    \n",
    "    - Human Expertise does not exist (navigating on Mars)\n",
    "    - Humans are unable to explain their expertise(speech recognition)\n",
    "    - Solution needed to be adapted for a particular case (bio-metric)\n",
    "\n",
    "**Machine Learning Use cases**\n",
    "\n",
    "    1) Retail Industry: Market basket analysis, Customer Relationship Management\n",
    "    2) Finance: Credit Score, Fraud detection\n",
    "    3) Manufacturing: Optimization\n",
    "    4) Medicine: Mediacal Diganostic\n",
    "    5) Telecommunication: Qualtity of service optimization"
   ]
  },
  {
   "cell_type": "markdown",
   "id": "3031f7f7",
   "metadata": {},
   "source": [
    "**Machine Learning Types**\n",
    "\n",
    "    - Supervised Learning   \n",
    "    - Unsupervised Learning\n",
    "    - Reinforcement Learning"
   ]
  },
  {
   "cell_type": "markdown",
   "id": "151d367a",
   "metadata": {},
   "source": [
    "### Supervised Learning:\n",
    "\n",
    "    Supervised learning as the name suggest, it has the presence of a supervisor as a teacher.\n",
    "    \n",
    "    Supervised Learning is when we teach or train the machine using the data that is well labeled. Which means some data\n",
    "    is already tagged with correct answers.\n",
    "    \n",
    "    After that the machine is provided with a new set of examples(data) so that the supervised learning algorithm\n",
    "    analyses the training data set (set of training examples) and produces a correct outcome for labelled data.\n",
    "\n",
    "**Types of supervised learning:**\n",
    "\n",
    "**1. Regression:**\n",
    "    \n",
    "    A regression problem is when the output variable is a real value such as \"weight\",\"rupee\",\"total\" \"percentage\" etc.\n",
    "\n",
    "**2. Classification:**\n",
    "    \n",
    "    A classification problem is when the output variable is a category such as \"Male\",\"Female\", \"Red\" or \"blue\", or\n",
    "    \"disease\" or \"no disease\"\n",
    "\n",
    "**Algorithms:**\n",
    "\n",
    "    1) Linear Regression\n",
    "    2) Logistic Regression\n",
    "    3) Random Forest\n",
    "    4) Naive Bayes Classification\n",
    "    5) KNN - (K Nearest Neighbour)\n",
    "    6) Decision Tree\n",
    "    7) Support Vector Machine (SVM)"
   ]
  },
  {
   "cell_type": "markdown",
   "id": "d603f214",
   "metadata": {},
   "source": [
    "### Unsupervised Learning:\n",
    "\n",
    "    It is the training of a machine using information that is neither classified nor labelled and allowing the algorithm\n",
    "    to act on that information without guidance.\n",
    "    \n",
    "    Here the task of the machine is to group unsorted information according to similarities, patterns and difference\n",
    "    without prior training of data\n",
    "    \n",
    "    Unlike supervised learning no teacher is provided that means no training will be given to the machine. Therefore the\n",
    "    machine is restricted to find the hidden structure in unlabeled data by itself.\n",
    "    \n",
    "**Unsupervised Learning is classified into 2 types:**\n",
    "\n",
    "**1) Clustering:**\n",
    "\n",
    "    A clustering problem is where you want to discover the inherit grouping in the data, such as grouping customer by\n",
    "    purchase behaviour.\n",
    "\n",
    "**2) Association:**\n",
    "\n",
    "    A association rule learning is where you want to discover rules that describe larger population of your data.\n",
    "    Example: people that by 'X' also tends to buy 'Y'.\n",
    "    \n",
    "**Algorithms:**\n",
    "\n",
    "    1) Hierarchical clustering\n",
    "    2) K-Mean clustering\n",
    "    3) Principal Component Analysis (PCA)\n",
    "    4) Singular value Decomposition\n",
    "    5) Independent Component Analysis"
   ]
  },
  {
   "cell_type": "markdown",
   "id": "c0f6cca5",
   "metadata": {},
   "source": [
    "### Reinforcement Learning:\n",
    "\n",
    "    Reinforcement Learning (RL) is a ML training method based on dynamic programming.\n",
    "    \n",
    "    A RL which may also be referred to as agent, learns by interacting with its environment.\n",
    "    \n",
    "    The agent recieves rewards by performing correctly and penalties for performing incorrectly.\n",
    "    \n",
    "    The agent learns without intervention from a human by maximizing its penalty."
   ]
  },
  {
   "cell_type": "code",
   "execution_count": null,
   "id": "7dcdb165",
   "metadata": {},
   "outputs": [],
   "source": []
  }
 ],
 "metadata": {
  "kernelspec": {
   "display_name": "Python 3",
   "language": "python",
   "name": "python3"
  },
  "language_info": {
   "codemirror_mode": {
    "name": "ipython",
    "version": 3
   },
   "file_extension": ".py",
   "mimetype": "text/x-python",
   "name": "python",
   "nbconvert_exporter": "python",
   "pygments_lexer": "ipython3",
   "version": "3.8.8"
  }
 },
 "nbformat": 4,
 "nbformat_minor": 5
}
