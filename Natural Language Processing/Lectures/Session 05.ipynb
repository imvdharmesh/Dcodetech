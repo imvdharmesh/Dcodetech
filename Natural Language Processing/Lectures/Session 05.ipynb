{
 "cells": [
  {
   "cell_type": "raw",
   "id": "4f53352c",
   "metadata": {},
   "source": [
    "Date - 29/10/2021  11:00 AM to 01:00 PM"
   ]
  },
  {
   "cell_type": "markdown",
   "id": "6a002978",
   "metadata": {},
   "source": [
    "# Introduction To Spacy\n",
    "\n",
    "    1). Spacy is an advanced library for Natural Language Processing (NLP), typically used in building various applications\n",
    "        related to NLP.\n",
    "    2). Spacy comes with some pre-trained models that can perfom most common NLP tasks such as (tokenization, part of\n",
    "        speech (POS), lemmatization, transforming word vectors).\n",
    "    3). Spacy can deal with multiple languages and is very widely used for creating varities of applications in different\n",
    "        languages.\n",
    "        \n",
    "**Spacy Installation:**"
   ]
  },
  {
   "cell_type": "code",
   "execution_count": 1,
   "id": "70e03cef",
   "metadata": {},
   "outputs": [],
   "source": [
    "#!pip install spacy"
   ]
  },
  {
   "cell_type": "markdown",
   "id": "aa87eef9",
   "metadata": {},
   "source": [
    "**Before loading 'en_core_web_sm', install the 'en_core_web_sm' using the code below**"
   ]
  },
  {
   "cell_type": "code",
   "execution_count": 2,
   "id": "0fd09a02",
   "metadata": {},
   "outputs": [],
   "source": [
    "#!python -m spacy download en_core_web_sm"
   ]
  },
  {
   "cell_type": "code",
   "execution_count": 3,
   "id": "b7610897",
   "metadata": {},
   "outputs": [],
   "source": [
    "import spacy"
   ]
  },
  {
   "cell_type": "code",
   "execution_count": 4,
   "id": "ee4b3e27",
   "metadata": {},
   "outputs": [],
   "source": [
    "nlp = spacy.load('en_core_web_sm')"
   ]
  },
  {
   "cell_type": "code",
   "execution_count": 5,
   "id": "4274fcf3",
   "metadata": {},
   "outputs": [
    {
     "data": {
      "text/plain": [
       "<spacy.lang.en.English at 0xf0edca48e0>"
      ]
     },
     "execution_count": 5,
     "metadata": {},
     "output_type": "execute_result"
    }
   ],
   "source": [
    "nlp"
   ]
  },
  {
   "cell_type": "code",
   "execution_count": 6,
   "id": "f355a657",
   "metadata": {},
   "outputs": [
    {
     "data": {
      "text/plain": [
       "spacy.lang.en.English"
      ]
     },
     "execution_count": 6,
     "metadata": {},
     "output_type": "execute_result"
    }
   ],
   "source": [
    "type(nlp)"
   ]
  },
  {
   "cell_type": "code",
   "execution_count": 7,
   "id": "8be09ac0",
   "metadata": {},
   "outputs": [],
   "source": [
    "my_text = \"Hello I am learning Spacy.\""
   ]
  },
  {
   "cell_type": "code",
   "execution_count": 8,
   "id": "19e0f75b",
   "metadata": {},
   "outputs": [],
   "source": [
    "my_doc = nlp(my_text)"
   ]
  },
  {
   "cell_type": "code",
   "execution_count": 9,
   "id": "8b4835e3",
   "metadata": {},
   "outputs": [
    {
     "data": {
      "text/plain": [
       "Hello I am learning Spacy."
      ]
     },
     "execution_count": 9,
     "metadata": {},
     "output_type": "execute_result"
    }
   ],
   "source": [
    "my_doc"
   ]
  },
  {
   "cell_type": "code",
   "execution_count": 10,
   "id": "7fa3e652",
   "metadata": {},
   "outputs": [
    {
     "data": {
      "text/plain": [
       "spacy.tokens.doc.Doc"
      ]
     },
     "execution_count": 10,
     "metadata": {},
     "output_type": "execute_result"
    }
   ],
   "source": [
    "type(my_doc)"
   ]
  },
  {
   "cell_type": "markdown",
   "id": "58acfbd8",
   "metadata": {},
   "source": [
    "**Doc Object:**\n",
    "\n",
    "    - Doc is a sequence of token that contains not just the original text but all the result produced by Spacy model after\n",
    "      processing the text.\n",
    "    - Information such as lemma(lemmatization) of the text, the word vector of the text and so on are pre computed and\n",
    "      stored in the doc object."
   ]
  },
  {
   "cell_type": "code",
   "execution_count": 11,
   "id": "a7119b78",
   "metadata": {},
   "outputs": [
    {
     "name": "stdout",
     "output_type": "stream",
     "text": [
      "Hello I am learning Spacy.\n"
     ]
    }
   ],
   "source": [
    "print(my_doc.text)"
   ]
  },
  {
   "cell_type": "code",
   "execution_count": 12,
   "id": "ff05493d",
   "metadata": {},
   "outputs": [
    {
     "name": "stdout",
     "output_type": "stream",
     "text": [
      "Hello \t 0 \t INTJ \t 91\n",
      "I \t 6 \t PRON \t 95\n",
      "am \t 8 \t AUX \t 87\n",
      "learning \t 11 \t VERB \t 100\n",
      "Spacy \t 20 \t PROPN \t 96\n",
      ". \t 25 \t PUNCT \t 97\n"
     ]
    }
   ],
   "source": [
    "for item in my_doc:\n",
    "    print(item.text,\"\\t\",item.idx,\"\\t\",item.pos_,\"\\t\",item.pos)"
   ]
  },
  {
   "cell_type": "code",
   "execution_count": 13,
   "id": "c434b1ba",
   "metadata": {},
   "outputs": [],
   "source": [
    "data = \"\"\"My name is Dharmesh. I love travelling. I live in Mumbai\"\"\""
   ]
  },
  {
   "cell_type": "code",
   "execution_count": 14,
   "id": "abb7bc7f",
   "metadata": {},
   "outputs": [],
   "source": [
    "data_doc = nlp(data)"
   ]
  },
  {
   "cell_type": "code",
   "execution_count": 15,
   "id": "960b2d13",
   "metadata": {},
   "outputs": [
    {
     "name": "stdout",
     "output_type": "stream",
     "text": [
      "My name is Dharmesh.\n",
      "I love travelling.\n",
      "I live in Mumbai\n"
     ]
    }
   ],
   "source": [
    "for item in data_doc.sents:\n",
    "    print(item)"
   ]
  },
  {
   "cell_type": "code",
   "execution_count": 16,
   "id": "578473c9",
   "metadata": {},
   "outputs": [
    {
     "name": "stdout",
     "output_type": "stream",
     "text": [
      "My \t 0 \t PRON \t 95\n",
      "name \t 3 \t NOUN \t 92\n",
      "is \t 8 \t AUX \t 87\n",
      "Dharmesh \t 11 \t PROPN \t 96\n",
      ". \t 19 \t PUNCT \t 97\n",
      "I \t 21 \t PRON \t 95\n",
      "love \t 23 \t VERB \t 100\n",
      "travelling \t 28 \t VERB \t 100\n",
      ". \t 38 \t PUNCT \t 97\n",
      "I \t 40 \t PRON \t 95\n",
      "live \t 42 \t VERB \t 100\n",
      "in \t 47 \t ADP \t 85\n",
      "Mumbai \t 50 \t PROPN \t 96\n"
     ]
    }
   ],
   "source": [
    "for item in data_doc:\n",
    "    print(item.text,\"\\t\",item.idx,\"\\t\",item.pos_,\"\\t\",item.pos)"
   ]
  },
  {
   "cell_type": "code",
   "execution_count": 17,
   "id": "684f7628",
   "metadata": {},
   "outputs": [
    {
     "data": {
      "text/plain": [
       "'auxiliary'"
      ]
     },
     "execution_count": 17,
     "metadata": {},
     "output_type": "execute_result"
    }
   ],
   "source": [
    "spacy.explain('AUX')"
   ]
  },
  {
   "cell_type": "code",
   "execution_count": 18,
   "id": "b38b1a71",
   "metadata": {},
   "outputs": [
    {
     "data": {
      "text/plain": [
       "'adposition'"
      ]
     },
     "execution_count": 18,
     "metadata": {},
     "output_type": "execute_result"
    }
   ],
   "source": [
    "spacy.explain('ADP')"
   ]
  },
  {
   "cell_type": "code",
   "execution_count": 19,
   "id": "d2557ea8",
   "metadata": {},
   "outputs": [
    {
     "data": {
      "text/plain": [
       "'proper noun'"
      ]
     },
     "execution_count": 19,
     "metadata": {},
     "output_type": "execute_result"
    }
   ],
   "source": [
    "spacy.explain('PROPN')"
   ]
  },
  {
   "cell_type": "code",
   "execution_count": 20,
   "id": "1857dda9",
   "metadata": {},
   "outputs": [
    {
     "data": {
      "text/plain": [
       "'pronoun'"
      ]
     },
     "execution_count": 20,
     "metadata": {},
     "output_type": "execute_result"
    }
   ],
   "source": [
    "spacy.explain('PRON')"
   ]
  },
  {
   "cell_type": "markdown",
   "id": "3fdb7e3d",
   "metadata": {},
   "source": [
    "### Entity Recognition"
   ]
  },
  {
   "cell_type": "code",
   "execution_count": 21,
   "id": "e8e72287",
   "metadata": {},
   "outputs": [
    {
     "data": {
      "text/plain": [
       "My name is Dharmesh. I love travelling. I live in Mumbai"
      ]
     },
     "execution_count": 21,
     "metadata": {},
     "output_type": "execute_result"
    }
   ],
   "source": [
    "data_doc"
   ]
  },
  {
   "cell_type": "code",
   "execution_count": 22,
   "id": "684c2675",
   "metadata": {},
   "outputs": [
    {
     "name": "stdout",
     "output_type": "stream",
     "text": [
      "Dharmesh   380   PERSON\n",
      "Mumbai   384   GPE\n"
     ]
    }
   ],
   "source": [
    "for data in data_doc.ents:\n",
    "    print(data.text,\" \",data.label,\" \",data.label_)"
   ]
  },
  {
   "cell_type": "code",
   "execution_count": 23,
   "id": "17826211",
   "metadata": {},
   "outputs": [
    {
     "data": {
      "text/plain": [
       "'Countries, cities, states'"
      ]
     },
     "execution_count": 23,
     "metadata": {},
     "output_type": "execute_result"
    }
   ],
   "source": [
    "spacy.explain('GPE')"
   ]
  },
  {
   "cell_type": "code",
   "execution_count": 24,
   "id": "8c36921f",
   "metadata": {},
   "outputs": [],
   "source": [
    "text = \"\"\"Mumbai or Bombay is the capital city of the Indian state of Maharashtra. According to the United Nations, as of 2018, Mumbai was the second most populated city in India after Delhi. In the world with a population of roughly 20 million\"\"\""
   ]
  },
  {
   "cell_type": "code",
   "execution_count": 25,
   "id": "9021dd9a",
   "metadata": {},
   "outputs": [],
   "source": [
    "text_doc = nlp(text)"
   ]
  },
  {
   "cell_type": "code",
   "execution_count": 26,
   "id": "911a6a3d",
   "metadata": {},
   "outputs": [
    {
     "name": "stdout",
     "output_type": "stream",
     "text": [
      "Mumbai   GPE\n",
      "Bombay   GPE\n",
      "Indian   NORP\n",
      "Maharashtra   ORG\n",
      "the United Nations   ORG\n",
      "2018   DATE\n",
      "Mumbai   GPE\n",
      "second   ORDINAL\n",
      "India   GPE\n",
      "Delhi   GPE\n",
      "roughly 20 million   CARDINAL\n"
     ]
    }
   ],
   "source": [
    "for item in text_doc.ents:\n",
    "    print(item.text,\" \",item.label_)"
   ]
  },
  {
   "cell_type": "code",
   "execution_count": 27,
   "id": "767d90fd",
   "metadata": {},
   "outputs": [
    {
     "data": {
      "text/plain": [
       "'Nationalities or religious or political groups'"
      ]
     },
     "execution_count": 27,
     "metadata": {},
     "output_type": "execute_result"
    }
   ],
   "source": [
    "spacy.explain('NORP')"
   ]
  },
  {
   "cell_type": "code",
   "execution_count": 28,
   "id": "0dd4fe16",
   "metadata": {},
   "outputs": [
    {
     "data": {
      "text/plain": [
       "'Numerals that do not fall under another type'"
      ]
     },
     "execution_count": 28,
     "metadata": {},
     "output_type": "execute_result"
    }
   ],
   "source": [
    "spacy.explain('CARDINAL')"
   ]
  },
  {
   "cell_type": "markdown",
   "id": "2a709e30",
   "metadata": {},
   "source": [
    "### Stopwords"
   ]
  },
  {
   "cell_type": "code",
   "execution_count": 29,
   "id": "2e11b178",
   "metadata": {},
   "outputs": [],
   "source": [
    "data1 = \"\"\"The economic situtation of the country is on the edge, as the stock market crashed causing \\nloss of million of dollars. Citizens who had their main investment in the share market are facing great loss\\nMany Companies might layoff thousand of people to reduce labour cost\"\"\""
   ]
  },
  {
   "cell_type": "code",
   "execution_count": 30,
   "id": "4f36ab34",
   "metadata": {},
   "outputs": [],
   "source": [
    "data_doc1 = nlp(data1)"
   ]
  },
  {
   "cell_type": "code",
   "execution_count": 31,
   "id": "214e9671",
   "metadata": {},
   "outputs": [
    {
     "name": "stdout",
     "output_type": "stream",
     "text": [
      "The : : True\n",
      "economic : : False\n",
      "situtation : : False\n",
      "of : : True\n",
      "the : : True\n",
      "country : : False\n",
      "is : : True\n",
      "on : : True\n",
      "the : : True\n",
      "edge : : False\n",
      ", : : False\n",
      "as : : True\n",
      "the : : True\n",
      "stock : : False\n",
      "market : : False\n",
      "crashed : : False\n",
      "causing : : False\n",
      "\n",
      " : : False\n",
      "loss : : False\n",
      "of : : True\n",
      "million : : False\n",
      "of : : True\n",
      "dollars : : False\n",
      ". : : False\n",
      "Citizens : : False\n",
      "who : : True\n",
      "had : : True\n",
      "their : : True\n",
      "main : : False\n",
      "investment : : False\n",
      "in : : True\n",
      "the : : True\n",
      "share : : False\n",
      "market : : False\n",
      "are : : True\n",
      "facing : : False\n",
      "great : : False\n",
      "loss : : False\n",
      "\n",
      " : : False\n",
      "Many : : True\n",
      "Companies : : False\n",
      "might : : True\n",
      "layoff : : False\n",
      "thousand : : False\n",
      "of : : True\n",
      "people : : False\n",
      "to : : True\n",
      "reduce : : False\n",
      "labour : : False\n",
      "cost : : False\n"
     ]
    }
   ],
   "source": [
    "for item in data_doc1:\n",
    "    print(item,\": :\",item.is_stop)"
   ]
  },
  {
   "cell_type": "markdown",
   "id": "82235555",
   "metadata": {},
   "source": [
    "### Punctuation"
   ]
  },
  {
   "cell_type": "code",
   "execution_count": 32,
   "id": "f0af8cdc",
   "metadata": {},
   "outputs": [
    {
     "name": "stdout",
     "output_type": "stream",
     "text": [
      "The : : False\n",
      "economic : : False\n",
      "situtation : : False\n",
      "of : : False\n",
      "the : : False\n",
      "country : : False\n",
      "is : : False\n",
      "on : : False\n",
      "the : : False\n",
      "edge : : False\n",
      ", : : True\n",
      "as : : False\n",
      "the : : False\n",
      "stock : : False\n",
      "market : : False\n",
      "crashed : : False\n",
      "causing : : False\n",
      "\n",
      " : : False\n",
      "loss : : False\n",
      "of : : False\n",
      "million : : False\n",
      "of : : False\n",
      "dollars : : False\n",
      ". : : True\n",
      "Citizens : : False\n",
      "who : : False\n",
      "had : : False\n",
      "their : : False\n",
      "main : : False\n",
      "investment : : False\n",
      "in : : False\n",
      "the : : False\n",
      "share : : False\n",
      "market : : False\n",
      "are : : False\n",
      "facing : : False\n",
      "great : : False\n",
      "loss : : False\n",
      "\n",
      " : : False\n",
      "Many : : False\n",
      "Companies : : False\n",
      "might : : False\n",
      "layoff : : False\n",
      "thousand : : False\n",
      "of : : False\n",
      "people : : False\n",
      "to : : False\n",
      "reduce : : False\n",
      "labour : : False\n",
      "cost : : False\n"
     ]
    }
   ],
   "source": [
    "for item in data_doc1:\n",
    "    print(item,\": :\",item.is_punct)"
   ]
  },
  {
   "cell_type": "markdown",
   "id": "c9cb84eb",
   "metadata": {},
   "source": [
    "### Removing Stopwords & Punctuations"
   ]
  },
  {
   "cell_type": "code",
   "execution_count": 33,
   "id": "31b657da",
   "metadata": {},
   "outputs": [],
   "source": [
    "def rm_stop_punc(text):\n",
    "    text_doc = nlp(text)\n",
    "    cleaned_data = [item for item in text_doc if not item.is_stop and not item.is_punct]\n",
    "    return cleaned_data"
   ]
  },
  {
   "cell_type": "code",
   "execution_count": 34,
   "id": "8dae7824",
   "metadata": {},
   "outputs": [
    {
     "data": {
      "text/plain": [
       "[economic,\n",
       " situtation,\n",
       " country,\n",
       " edge,\n",
       " stock,\n",
       " market,\n",
       " crashed,\n",
       " causing,\n",
       " ,\n",
       " loss,\n",
       " million,\n",
       " dollars,\n",
       " Citizens,\n",
       " main,\n",
       " investment,\n",
       " share,\n",
       " market,\n",
       " facing,\n",
       " great,\n",
       " loss,\n",
       " ,\n",
       " Companies,\n",
       " layoff,\n",
       " thousand,\n",
       " people,\n",
       " reduce,\n",
       " labour,\n",
       " cost]"
      ]
     },
     "execution_count": 34,
     "metadata": {},
     "output_type": "execute_result"
    }
   ],
   "source": [
    "rm_stop_punc(data1)"
   ]
  },
  {
   "cell_type": "markdown",
   "id": "d50575ce",
   "metadata": {},
   "source": [
    "### Display Fancy Words"
   ]
  },
  {
   "cell_type": "code",
   "execution_count": 35,
   "id": "33ecfa8b",
   "metadata": {},
   "outputs": [],
   "source": [
    "from spacy import displacy"
   ]
  },
  {
   "cell_type": "code",
   "execution_count": 36,
   "id": "a54ed2ee",
   "metadata": {},
   "outputs": [
    {
     "data": {
      "text/html": [
       "<span class=\"tex2jax_ignore\"><div class=\"entities\" style=\"line-height: 2.5; direction: ltr\">The economic situtation of the country is on the edge, as the stock market crashed causing </br>loss of \n",
       "<mark class=\"entity\" style=\"background: #e4e7d2; padding: 0.45em 0.6em; margin: 0 0.25em; line-height: 1; border-radius: 0.35em;\">\n",
       "    million of dollars\n",
       "    <span style=\"font-size: 0.8em; font-weight: bold; line-height: 1; border-radius: 0.35em; vertical-align: middle; margin-left: 0.5rem\">MONEY</span>\n",
       "</mark>\n",
       ". \n",
       "<mark class=\"entity\" style=\"background: #7aecec; padding: 0.45em 0.6em; margin: 0 0.25em; line-height: 1; border-radius: 0.35em;\">\n",
       "    Citizens\n",
       "    <span style=\"font-size: 0.8em; font-weight: bold; line-height: 1; border-radius: 0.35em; vertical-align: middle; margin-left: 0.5rem\">ORG</span>\n",
       "</mark>\n",
       " who had their main investment in the share market are facing great loss</br>Many Companies might layoff \n",
       "<mark class=\"entity\" style=\"background: #e4e7d2; padding: 0.45em 0.6em; margin: 0 0.25em; line-height: 1; border-radius: 0.35em;\">\n",
       "    thousand\n",
       "    <span style=\"font-size: 0.8em; font-weight: bold; line-height: 1; border-radius: 0.35em; vertical-align: middle; margin-left: 0.5rem\">CARDINAL</span>\n",
       "</mark>\n",
       " of people to reduce labour cost</div></span>"
      ],
      "text/plain": [
       "<IPython.core.display.HTML object>"
      ]
     },
     "metadata": {},
     "output_type": "display_data"
    }
   ],
   "source": [
    "displacy.render(data_doc1,style='ent' ,jupyter=True)"
   ]
  },
  {
   "cell_type": "code",
   "execution_count": 37,
   "id": "4bfb14ae",
   "metadata": {},
   "outputs": [
    {
     "data": {
      "text/html": [
       "<span class=\"tex2jax_ignore\"><div class=\"entities\" style=\"line-height: 2.5; direction: ltr\">\n",
       "<mark class=\"entity\" style=\"background: #feca74; padding: 0.45em 0.6em; margin: 0 0.25em; line-height: 1; border-radius: 0.35em;\">\n",
       "    Mumbai\n",
       "    <span style=\"font-size: 0.8em; font-weight: bold; line-height: 1; border-radius: 0.35em; vertical-align: middle; margin-left: 0.5rem\">GPE</span>\n",
       "</mark>\n",
       " or \n",
       "<mark class=\"entity\" style=\"background: #feca74; padding: 0.45em 0.6em; margin: 0 0.25em; line-height: 1; border-radius: 0.35em;\">\n",
       "    Bombay\n",
       "    <span style=\"font-size: 0.8em; font-weight: bold; line-height: 1; border-radius: 0.35em; vertical-align: middle; margin-left: 0.5rem\">GPE</span>\n",
       "</mark>\n",
       " is the capital city of the \n",
       "<mark class=\"entity\" style=\"background: #c887fb; padding: 0.45em 0.6em; margin: 0 0.25em; line-height: 1; border-radius: 0.35em;\">\n",
       "    Indian\n",
       "    <span style=\"font-size: 0.8em; font-weight: bold; line-height: 1; border-radius: 0.35em; vertical-align: middle; margin-left: 0.5rem\">NORP</span>\n",
       "</mark>\n",
       " state of \n",
       "<mark class=\"entity\" style=\"background: #7aecec; padding: 0.45em 0.6em; margin: 0 0.25em; line-height: 1; border-radius: 0.35em;\">\n",
       "    Maharashtra\n",
       "    <span style=\"font-size: 0.8em; font-weight: bold; line-height: 1; border-radius: 0.35em; vertical-align: middle; margin-left: 0.5rem\">ORG</span>\n",
       "</mark>\n",
       ". According to \n",
       "<mark class=\"entity\" style=\"background: #7aecec; padding: 0.45em 0.6em; margin: 0 0.25em; line-height: 1; border-radius: 0.35em;\">\n",
       "    the United Nations\n",
       "    <span style=\"font-size: 0.8em; font-weight: bold; line-height: 1; border-radius: 0.35em; vertical-align: middle; margin-left: 0.5rem\">ORG</span>\n",
       "</mark>\n",
       ", as of \n",
       "<mark class=\"entity\" style=\"background: #bfe1d9; padding: 0.45em 0.6em; margin: 0 0.25em; line-height: 1; border-radius: 0.35em;\">\n",
       "    2018\n",
       "    <span style=\"font-size: 0.8em; font-weight: bold; line-height: 1; border-radius: 0.35em; vertical-align: middle; margin-left: 0.5rem\">DATE</span>\n",
       "</mark>\n",
       ", \n",
       "<mark class=\"entity\" style=\"background: #feca74; padding: 0.45em 0.6em; margin: 0 0.25em; line-height: 1; border-radius: 0.35em;\">\n",
       "    Mumbai\n",
       "    <span style=\"font-size: 0.8em; font-weight: bold; line-height: 1; border-radius: 0.35em; vertical-align: middle; margin-left: 0.5rem\">GPE</span>\n",
       "</mark>\n",
       " was the \n",
       "<mark class=\"entity\" style=\"background: #e4e7d2; padding: 0.45em 0.6em; margin: 0 0.25em; line-height: 1; border-radius: 0.35em;\">\n",
       "    second\n",
       "    <span style=\"font-size: 0.8em; font-weight: bold; line-height: 1; border-radius: 0.35em; vertical-align: middle; margin-left: 0.5rem\">ORDINAL</span>\n",
       "</mark>\n",
       " most populated city in \n",
       "<mark class=\"entity\" style=\"background: #feca74; padding: 0.45em 0.6em; margin: 0 0.25em; line-height: 1; border-radius: 0.35em;\">\n",
       "    India\n",
       "    <span style=\"font-size: 0.8em; font-weight: bold; line-height: 1; border-radius: 0.35em; vertical-align: middle; margin-left: 0.5rem\">GPE</span>\n",
       "</mark>\n",
       " after \n",
       "<mark class=\"entity\" style=\"background: #feca74; padding: 0.45em 0.6em; margin: 0 0.25em; line-height: 1; border-radius: 0.35em;\">\n",
       "    Delhi\n",
       "    <span style=\"font-size: 0.8em; font-weight: bold; line-height: 1; border-radius: 0.35em; vertical-align: middle; margin-left: 0.5rem\">GPE</span>\n",
       "</mark>\n",
       ". In the world with a population of \n",
       "<mark class=\"entity\" style=\"background: #e4e7d2; padding: 0.45em 0.6em; margin: 0 0.25em; line-height: 1; border-radius: 0.35em;\">\n",
       "    roughly 20 million\n",
       "    <span style=\"font-size: 0.8em; font-weight: bold; line-height: 1; border-radius: 0.35em; vertical-align: middle; margin-left: 0.5rem\">CARDINAL</span>\n",
       "</mark>\n",
       "</div></span>"
      ],
      "text/plain": [
       "<IPython.core.display.HTML object>"
      ]
     },
     "metadata": {},
     "output_type": "display_data"
    }
   ],
   "source": [
    "displacy.render(text_doc,style='ent' ,jupyter=True)"
   ]
  },
  {
   "cell_type": "markdown",
   "id": "2dd02b82",
   "metadata": {},
   "source": [
    "### Lemmatization"
   ]
  },
  {
   "cell_type": "code",
   "execution_count": 38,
   "id": "77b6d387",
   "metadata": {},
   "outputs": [
    {
     "name": "stdout",
     "output_type": "stream",
     "text": [
      "The   the\n",
      "economic   economic\n",
      "situtation   situtation\n",
      "of   of\n",
      "the   the\n",
      "country   country\n",
      "is   be\n",
      "on   on\n",
      "the   the\n",
      "edge   edge\n",
      ",   ,\n",
      "as   as\n",
      "the   the\n",
      "stock   stock\n",
      "market   market\n",
      "crashed   crash\n",
      "causing   cause\n",
      "\n",
      "   \n",
      "\n",
      "loss   loss\n",
      "of   of\n",
      "million   million\n",
      "of   of\n",
      "dollars   dollar\n",
      ".   .\n",
      "Citizens   citizen\n",
      "who   who\n",
      "had   have\n",
      "their   their\n",
      "main   main\n",
      "investment   investment\n",
      "in   in\n",
      "the   the\n",
      "share   share\n",
      "market   market\n",
      "are   be\n",
      "facing   face\n",
      "great   great\n",
      "loss   loss\n",
      "\n",
      "   \n",
      "\n",
      "Many   many\n",
      "Companies   Companies\n",
      "might   might\n",
      "layoff   layoff\n",
      "thousand   thousand\n",
      "of   of\n",
      "people   people\n",
      "to   to\n",
      "reduce   reduce\n",
      "labour   labour\n",
      "cost   cost\n"
     ]
    }
   ],
   "source": [
    "for item in data_doc1:\n",
    "    print(item,\" \",item.lemma_)"
   ]
  },
  {
   "cell_type": "markdown",
   "id": "a6eaf1aa",
   "metadata": {},
   "source": [
    "### Some Spacial Data\n",
    "\n",
    "    is_alpha : Return True if the given token is a alphabet\n",
    "    is_ascii : Return True if the token belong to ascii character\n",
    "    is_digit : Return True if the token is a number (0-9)\n",
    "    is_lower : Return True if the token is a lower case alphabet\n",
    "    is_space : Return True if token is a space\n",
    "    is_bracket : return true if token is a bracket\n",
    "    is_quote : Return True if token has quotation mark\n",
    "    like_url : return true if token is in url format\n",
    "    like_num : Return True if token is a number\n",
    "    like_email : Return True if token is in a email format"
   ]
  },
  {
   "cell_type": "code",
   "execution_count": 39,
   "id": "95e9386a",
   "metadata": {},
   "outputs": [],
   "source": [
    "emp_txt = \"\"\"name: test age: 25 email: test@gmail.com, name: alpha age: 32 email: alpha@yahoo.com, name: beta age: 29 email: beta@hotmail.com\"\"\""
   ]
  },
  {
   "cell_type": "code",
   "execution_count": 40,
   "id": "a54bee2a",
   "metadata": {},
   "outputs": [
    {
     "data": {
      "text/plain": [
       "'name: test age: 25 email: test@gmail.com, name: alpha age: 32 email: alpha@yahoo.com, name: beta age: 29 email: beta@hotmail.com'"
      ]
     },
     "execution_count": 40,
     "metadata": {},
     "output_type": "execute_result"
    }
   ],
   "source": [
    "emp_txt"
   ]
  },
  {
   "cell_type": "code",
   "execution_count": 41,
   "id": "49e2708e",
   "metadata": {},
   "outputs": [],
   "source": [
    "emp_doc = nlp(emp_txt)"
   ]
  },
  {
   "cell_type": "code",
   "execution_count": 42,
   "id": "6c21640f",
   "metadata": {},
   "outputs": [
    {
     "name": "stdout",
     "output_type": "stream",
     "text": [
      "25\n",
      "32\n",
      "29\n"
     ]
    }
   ],
   "source": [
    "for item in emp_doc:\n",
    "    if item.like_num:\n",
    "        print(item)"
   ]
  },
  {
   "cell_type": "code",
   "execution_count": 43,
   "id": "cfcee7fb",
   "metadata": {},
   "outputs": [
    {
     "name": "stdout",
     "output_type": "stream",
     "text": [
      "test@gmail.com\n",
      "alpha@yahoo.com\n",
      "beta@hotmail.com\n"
     ]
    }
   ],
   "source": [
    "for item in emp_doc:\n",
    "    if item.like_email:\n",
    "        print(item)"
   ]
  },
  {
   "cell_type": "markdown",
   "id": "493368b2",
   "metadata": {},
   "source": [
    "### Removing Other Type of Words"
   ]
  },
  {
   "cell_type": "code",
   "execution_count": 44,
   "id": "0b37f052",
   "metadata": {},
   "outputs": [
    {
     "data": {
      "text/plain": [
       "'other'"
      ]
     },
     "execution_count": 44,
     "metadata": {},
     "output_type": "execute_result"
    }
   ],
   "source": [
    "spacy.explain('X')"
   ]
  },
  {
   "cell_type": "code",
   "execution_count": 45,
   "id": "5fb0ea80",
   "metadata": {},
   "outputs": [],
   "source": [
    "raw_data = \"\"\"I liked the movies etc The movie had good direction The movie was amazing i.e. \\nThe movie was average direction was not bad The cinematography was nice i.e.\\nThe movie was a bit lengthy otherwise fantastic etc etc\"\"\""
   ]
  },
  {
   "cell_type": "code",
   "execution_count": 46,
   "id": "b2b25a4f",
   "metadata": {},
   "outputs": [
    {
     "data": {
      "text/plain": [
       "'I liked the movies etc The movie had good direction The movie was amazing i.e. \\nThe movie was average direction was not bad The cinematography was nice i.e.\\nThe movie was a bit lengthy otherwise fantastic etc etc'"
      ]
     },
     "execution_count": 46,
     "metadata": {},
     "output_type": "execute_result"
    }
   ],
   "source": [
    "raw_data"
   ]
  },
  {
   "cell_type": "code",
   "execution_count": 47,
   "id": "35702dd6",
   "metadata": {},
   "outputs": [],
   "source": [
    "raw_data_doc = nlp(raw_data)"
   ]
  },
  {
   "cell_type": "code",
   "execution_count": 48,
   "id": "d7a89341",
   "metadata": {},
   "outputs": [
    {
     "name": "stdout",
     "output_type": "stream",
     "text": [
      "etc\n",
      "i.e.\n",
      "i.e.\n",
      "etc\n",
      "etc\n"
     ]
    }
   ],
   "source": [
    "for item in raw_data_doc:\n",
    "    if item.pos_ == 'X':\n",
    "        print(item)"
   ]
  },
  {
   "cell_type": "code",
   "execution_count": 49,
   "id": "71fa38e3",
   "metadata": {},
   "outputs": [],
   "source": [
    "cleaned_data = [item for item in raw_data_doc if item.pos_ != 'X']"
   ]
  },
  {
   "cell_type": "code",
   "execution_count": 50,
   "id": "dc1089f9",
   "metadata": {},
   "outputs": [
    {
     "data": {
      "text/plain": [
       "[I,\n",
       " liked,\n",
       " the,\n",
       " movies,\n",
       " The,\n",
       " movie,\n",
       " had,\n",
       " good,\n",
       " direction,\n",
       " The,\n",
       " movie,\n",
       " was,\n",
       " amazing,\n",
       " ,\n",
       " The,\n",
       " movie,\n",
       " was,\n",
       " average,\n",
       " direction,\n",
       " was,\n",
       " not,\n",
       " bad,\n",
       " The,\n",
       " cinematography,\n",
       " was,\n",
       " nice,\n",
       " ,\n",
       " The,\n",
       " movie,\n",
       " was,\n",
       " a,\n",
       " bit,\n",
       " lengthy,\n",
       " otherwise,\n",
       " fantastic]"
      ]
     },
     "execution_count": 50,
     "metadata": {},
     "output_type": "execute_result"
    }
   ],
   "source": [
    "cleaned_data"
   ]
  },
  {
   "cell_type": "code",
   "execution_count": 51,
   "id": "b71d8627",
   "metadata": {
    "scrolled": true
   },
   "outputs": [
    {
     "data": {
      "text/html": [
       "<span class=\"tex2jax_ignore\"><svg xmlns=\"http://www.w3.org/2000/svg\" xmlns:xlink=\"http://www.w3.org/1999/xlink\" xml:lang=\"en\" id=\"fa79681c7e0d46219c1bebcaeb47b6b0-0\" class=\"displacy\" width=\"1975\" height=\"224.5\" direction=\"ltr\" style=\"max-width: none; height: 224.5px; color: #000000; background: #ffffff; font-family: Arial; direction: ltr\">\n",
       "<text class=\"displacy-token\" fill=\"currentColor\" text-anchor=\"middle\" y=\"134.5\">\n",
       "    <tspan class=\"displacy-word\" fill=\"currentColor\" x=\"50\">My</tspan>\n",
       "    <tspan class=\"displacy-tag\" dy=\"2em\" fill=\"currentColor\" x=\"50\">PRON</tspan>\n",
       "</text>\n",
       "\n",
       "<text class=\"displacy-token\" fill=\"currentColor\" text-anchor=\"middle\" y=\"134.5\">\n",
       "    <tspan class=\"displacy-word\" fill=\"currentColor\" x=\"225\">name</tspan>\n",
       "    <tspan class=\"displacy-tag\" dy=\"2em\" fill=\"currentColor\" x=\"225\">NOUN</tspan>\n",
       "</text>\n",
       "\n",
       "<text class=\"displacy-token\" fill=\"currentColor\" text-anchor=\"middle\" y=\"134.5\">\n",
       "    <tspan class=\"displacy-word\" fill=\"currentColor\" x=\"400\">is</tspan>\n",
       "    <tspan class=\"displacy-tag\" dy=\"2em\" fill=\"currentColor\" x=\"400\">AUX</tspan>\n",
       "</text>\n",
       "\n",
       "<text class=\"displacy-token\" fill=\"currentColor\" text-anchor=\"middle\" y=\"134.5\">\n",
       "    <tspan class=\"displacy-word\" fill=\"currentColor\" x=\"575\">Dharmesh.</tspan>\n",
       "    <tspan class=\"displacy-tag\" dy=\"2em\" fill=\"currentColor\" x=\"575\">PROPN</tspan>\n",
       "</text>\n",
       "\n",
       "<text class=\"displacy-token\" fill=\"currentColor\" text-anchor=\"middle\" y=\"134.5\">\n",
       "    <tspan class=\"displacy-word\" fill=\"currentColor\" x=\"750\">I</tspan>\n",
       "    <tspan class=\"displacy-tag\" dy=\"2em\" fill=\"currentColor\" x=\"750\">PRON</tspan>\n",
       "</text>\n",
       "\n",
       "<text class=\"displacy-token\" fill=\"currentColor\" text-anchor=\"middle\" y=\"134.5\">\n",
       "    <tspan class=\"displacy-word\" fill=\"currentColor\" x=\"925\">love</tspan>\n",
       "    <tspan class=\"displacy-tag\" dy=\"2em\" fill=\"currentColor\" x=\"925\">VERB</tspan>\n",
       "</text>\n",
       "\n",
       "<text class=\"displacy-token\" fill=\"currentColor\" text-anchor=\"middle\" y=\"134.5\">\n",
       "    <tspan class=\"displacy-word\" fill=\"currentColor\" x=\"1100\">travelling.</tspan>\n",
       "    <tspan class=\"displacy-tag\" dy=\"2em\" fill=\"currentColor\" x=\"1100\">VERB</tspan>\n",
       "</text>\n",
       "\n",
       "<text class=\"displacy-token\" fill=\"currentColor\" text-anchor=\"middle\" y=\"134.5\">\n",
       "    <tspan class=\"displacy-word\" fill=\"currentColor\" x=\"1275\">I</tspan>\n",
       "    <tspan class=\"displacy-tag\" dy=\"2em\" fill=\"currentColor\" x=\"1275\">PRON</tspan>\n",
       "</text>\n",
       "\n",
       "<text class=\"displacy-token\" fill=\"currentColor\" text-anchor=\"middle\" y=\"134.5\">\n",
       "    <tspan class=\"displacy-word\" fill=\"currentColor\" x=\"1450\">live</tspan>\n",
       "    <tspan class=\"displacy-tag\" dy=\"2em\" fill=\"currentColor\" x=\"1450\">VERB</tspan>\n",
       "</text>\n",
       "\n",
       "<text class=\"displacy-token\" fill=\"currentColor\" text-anchor=\"middle\" y=\"134.5\">\n",
       "    <tspan class=\"displacy-word\" fill=\"currentColor\" x=\"1625\">in</tspan>\n",
       "    <tspan class=\"displacy-tag\" dy=\"2em\" fill=\"currentColor\" x=\"1625\">ADP</tspan>\n",
       "</text>\n",
       "\n",
       "<text class=\"displacy-token\" fill=\"currentColor\" text-anchor=\"middle\" y=\"134.5\">\n",
       "    <tspan class=\"displacy-word\" fill=\"currentColor\" x=\"1800\">Mumbai</tspan>\n",
       "    <tspan class=\"displacy-tag\" dy=\"2em\" fill=\"currentColor\" x=\"1800\">PROPN</tspan>\n",
       "</text>\n",
       "\n",
       "<g class=\"displacy-arrow\">\n",
       "    <path class=\"displacy-arc\" id=\"arrow-fa79681c7e0d46219c1bebcaeb47b6b0-0-0\" stroke-width=\"2px\" d=\"M70,89.5 C70,2.0 225.0,2.0 225.0,89.5\" fill=\"none\" stroke=\"currentColor\"/>\n",
       "    <text dy=\"1.25em\" style=\"font-size: 0.8em; letter-spacing: 1px\">\n",
       "        <textPath xlink:href=\"#arrow-fa79681c7e0d46219c1bebcaeb47b6b0-0-0\" class=\"displacy-label\" startOffset=\"50%\" side=\"left\" fill=\"currentColor\" text-anchor=\"middle\">poss</textPath>\n",
       "    </text>\n",
       "    <path class=\"displacy-arrowhead\" d=\"M70,91.5 L62,79.5 78,79.5\" fill=\"currentColor\"/>\n",
       "</g>\n",
       "\n",
       "<g class=\"displacy-arrow\">\n",
       "    <path class=\"displacy-arc\" id=\"arrow-fa79681c7e0d46219c1bebcaeb47b6b0-0-1\" stroke-width=\"2px\" d=\"M245,89.5 C245,2.0 400.0,2.0 400.0,89.5\" fill=\"none\" stroke=\"currentColor\"/>\n",
       "    <text dy=\"1.25em\" style=\"font-size: 0.8em; letter-spacing: 1px\">\n",
       "        <textPath xlink:href=\"#arrow-fa79681c7e0d46219c1bebcaeb47b6b0-0-1\" class=\"displacy-label\" startOffset=\"50%\" side=\"left\" fill=\"currentColor\" text-anchor=\"middle\">nsubj</textPath>\n",
       "    </text>\n",
       "    <path class=\"displacy-arrowhead\" d=\"M245,91.5 L237,79.5 253,79.5\" fill=\"currentColor\"/>\n",
       "</g>\n",
       "\n",
       "<g class=\"displacy-arrow\">\n",
       "    <path class=\"displacy-arc\" id=\"arrow-fa79681c7e0d46219c1bebcaeb47b6b0-0-2\" stroke-width=\"2px\" d=\"M420,89.5 C420,2.0 575.0,2.0 575.0,89.5\" fill=\"none\" stroke=\"currentColor\"/>\n",
       "    <text dy=\"1.25em\" style=\"font-size: 0.8em; letter-spacing: 1px\">\n",
       "        <textPath xlink:href=\"#arrow-fa79681c7e0d46219c1bebcaeb47b6b0-0-2\" class=\"displacy-label\" startOffset=\"50%\" side=\"left\" fill=\"currentColor\" text-anchor=\"middle\">attr</textPath>\n",
       "    </text>\n",
       "    <path class=\"displacy-arrowhead\" d=\"M575.0,91.5 L583.0,79.5 567.0,79.5\" fill=\"currentColor\"/>\n",
       "</g>\n",
       "\n",
       "<g class=\"displacy-arrow\">\n",
       "    <path class=\"displacy-arc\" id=\"arrow-fa79681c7e0d46219c1bebcaeb47b6b0-0-3\" stroke-width=\"2px\" d=\"M770,89.5 C770,2.0 925.0,2.0 925.0,89.5\" fill=\"none\" stroke=\"currentColor\"/>\n",
       "    <text dy=\"1.25em\" style=\"font-size: 0.8em; letter-spacing: 1px\">\n",
       "        <textPath xlink:href=\"#arrow-fa79681c7e0d46219c1bebcaeb47b6b0-0-3\" class=\"displacy-label\" startOffset=\"50%\" side=\"left\" fill=\"currentColor\" text-anchor=\"middle\">nsubj</textPath>\n",
       "    </text>\n",
       "    <path class=\"displacy-arrowhead\" d=\"M770,91.5 L762,79.5 778,79.5\" fill=\"currentColor\"/>\n",
       "</g>\n",
       "\n",
       "<g class=\"displacy-arrow\">\n",
       "    <path class=\"displacy-arc\" id=\"arrow-fa79681c7e0d46219c1bebcaeb47b6b0-0-4\" stroke-width=\"2px\" d=\"M945,89.5 C945,2.0 1100.0,2.0 1100.0,89.5\" fill=\"none\" stroke=\"currentColor\"/>\n",
       "    <text dy=\"1.25em\" style=\"font-size: 0.8em; letter-spacing: 1px\">\n",
       "        <textPath xlink:href=\"#arrow-fa79681c7e0d46219c1bebcaeb47b6b0-0-4\" class=\"displacy-label\" startOffset=\"50%\" side=\"left\" fill=\"currentColor\" text-anchor=\"middle\">xcomp</textPath>\n",
       "    </text>\n",
       "    <path class=\"displacy-arrowhead\" d=\"M1100.0,91.5 L1108.0,79.5 1092.0,79.5\" fill=\"currentColor\"/>\n",
       "</g>\n",
       "\n",
       "<g class=\"displacy-arrow\">\n",
       "    <path class=\"displacy-arc\" id=\"arrow-fa79681c7e0d46219c1bebcaeb47b6b0-0-5\" stroke-width=\"2px\" d=\"M1295,89.5 C1295,2.0 1450.0,2.0 1450.0,89.5\" fill=\"none\" stroke=\"currentColor\"/>\n",
       "    <text dy=\"1.25em\" style=\"font-size: 0.8em; letter-spacing: 1px\">\n",
       "        <textPath xlink:href=\"#arrow-fa79681c7e0d46219c1bebcaeb47b6b0-0-5\" class=\"displacy-label\" startOffset=\"50%\" side=\"left\" fill=\"currentColor\" text-anchor=\"middle\">nsubj</textPath>\n",
       "    </text>\n",
       "    <path class=\"displacy-arrowhead\" d=\"M1295,91.5 L1287,79.5 1303,79.5\" fill=\"currentColor\"/>\n",
       "</g>\n",
       "\n",
       "<g class=\"displacy-arrow\">\n",
       "    <path class=\"displacy-arc\" id=\"arrow-fa79681c7e0d46219c1bebcaeb47b6b0-0-6\" stroke-width=\"2px\" d=\"M1470,89.5 C1470,2.0 1625.0,2.0 1625.0,89.5\" fill=\"none\" stroke=\"currentColor\"/>\n",
       "    <text dy=\"1.25em\" style=\"font-size: 0.8em; letter-spacing: 1px\">\n",
       "        <textPath xlink:href=\"#arrow-fa79681c7e0d46219c1bebcaeb47b6b0-0-6\" class=\"displacy-label\" startOffset=\"50%\" side=\"left\" fill=\"currentColor\" text-anchor=\"middle\">prep</textPath>\n",
       "    </text>\n",
       "    <path class=\"displacy-arrowhead\" d=\"M1625.0,91.5 L1633.0,79.5 1617.0,79.5\" fill=\"currentColor\"/>\n",
       "</g>\n",
       "\n",
       "<g class=\"displacy-arrow\">\n",
       "    <path class=\"displacy-arc\" id=\"arrow-fa79681c7e0d46219c1bebcaeb47b6b0-0-7\" stroke-width=\"2px\" d=\"M1645,89.5 C1645,2.0 1800.0,2.0 1800.0,89.5\" fill=\"none\" stroke=\"currentColor\"/>\n",
       "    <text dy=\"1.25em\" style=\"font-size: 0.8em; letter-spacing: 1px\">\n",
       "        <textPath xlink:href=\"#arrow-fa79681c7e0d46219c1bebcaeb47b6b0-0-7\" class=\"displacy-label\" startOffset=\"50%\" side=\"left\" fill=\"currentColor\" text-anchor=\"middle\">pobj</textPath>\n",
       "    </text>\n",
       "    <path class=\"displacy-arrowhead\" d=\"M1800.0,91.5 L1808.0,79.5 1792.0,79.5\" fill=\"currentColor\"/>\n",
       "</g>\n",
       "</svg></span>"
      ],
      "text/plain": [
       "<IPython.core.display.HTML object>"
      ]
     },
     "metadata": {},
     "output_type": "display_data"
    }
   ],
   "source": [
    "displacy.render(data_doc, style='dep', jupyter=True)"
   ]
  },
  {
   "cell_type": "code",
   "execution_count": 52,
   "id": "516c1871",
   "metadata": {},
   "outputs": [
    {
     "data": {
      "text/html": [
       "<span class=\"tex2jax_ignore\"><div class=\"entities\" style=\"line-height: 2.5; direction: ltr\">My name is \n",
       "<mark class=\"entity\" style=\"background: #aa9cfc; padding: 0.45em 0.6em; margin: 0 0.25em; line-height: 1; border-radius: 0.35em;\">\n",
       "    Dharmesh\n",
       "    <span style=\"font-size: 0.8em; font-weight: bold; line-height: 1; border-radius: 0.35em; vertical-align: middle; margin-left: 0.5rem\">PERSON</span>\n",
       "</mark>\n",
       ". I love travelling. I live in \n",
       "<mark class=\"entity\" style=\"background: #feca74; padding: 0.45em 0.6em; margin: 0 0.25em; line-height: 1; border-radius: 0.35em;\">\n",
       "    Mumbai\n",
       "    <span style=\"font-size: 0.8em; font-weight: bold; line-height: 1; border-radius: 0.35em; vertical-align: middle; margin-left: 0.5rem\">GPE</span>\n",
       "</mark>\n",
       "</div></span>"
      ],
      "text/plain": [
       "<IPython.core.display.HTML object>"
      ]
     },
     "metadata": {},
     "output_type": "display_data"
    }
   ],
   "source": [
    "displacy.render(data_doc, style='ent', jupyter=True)"
   ]
  }
 ],
 "metadata": {
  "kernelspec": {
   "display_name": "Python 3",
   "language": "python",
   "name": "python3"
  },
  "language_info": {
   "codemirror_mode": {
    "name": "ipython",
    "version": 3
   },
   "file_extension": ".py",
   "mimetype": "text/x-python",
   "name": "python",
   "nbconvert_exporter": "python",
   "pygments_lexer": "ipython3",
   "version": "3.8.8"
  }
 },
 "nbformat": 4,
 "nbformat_minor": 5
}
