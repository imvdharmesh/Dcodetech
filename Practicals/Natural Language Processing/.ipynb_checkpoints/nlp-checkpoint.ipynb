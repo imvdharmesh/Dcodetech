{
 "cells": [
  {
   "cell_type": "code",
   "execution_count": 1,
   "id": "f88b6b49",
   "metadata": {},
   "outputs": [
    {
     "name": "stdout",
     "output_type": "stream",
     "text": [
      "Requirement already satisfied: nltk in f:\\anaconda3\\lib\\site-packages (3.6.1)\n",
      "Requirement already satisfied: click in f:\\anaconda3\\lib\\site-packages (from nltk) (7.1.2)\n",
      "Requirement already satisfied: regex in f:\\anaconda3\\lib\\site-packages (from nltk) (2021.4.4)\n",
      "Requirement already satisfied: joblib in f:\\anaconda3\\lib\\site-packages (from nltk) (1.0.1)\n",
      "Requirement already satisfied: tqdm in f:\\anaconda3\\lib\\site-packages (from nltk) (4.59.0)\n"
     ]
    }
   ],
   "source": [
    "# to install nltk\n",
    "\n",
    "!pip install nltk"
   ]
  },
  {
   "cell_type": "code",
   "execution_count": 2,
   "id": "2323c280",
   "metadata": {},
   "outputs": [],
   "source": [
    "# to import nltk\n",
    "\n",
    "import nltk"
   ]
  },
  {
   "cell_type": "code",
   "execution_count": 3,
   "id": "453add06",
   "metadata": {},
   "outputs": [],
   "source": [
    "text = \"Mumbai or Bombay is the capital city of the Indian state of Maharashtra. According to the United Nations, as of 2018, Mumbai was the second most populated city in India after Delhi. In the world with a population of roughly 20 million.\""
   ]
  },
  {
   "cell_type": "code",
   "execution_count": 4,
   "id": "48079568",
   "metadata": {},
   "outputs": [
    {
     "data": {
      "text/plain": [
       "'Mumbai or Bombay is the capital city of the Indian state of Maharashtra. According to the United Nations, as of 2018, Mumbai was the second most populated city in India after Delhi. In the world with a population of roughly 20 million.'"
      ]
     },
     "execution_count": 4,
     "metadata": {},
     "output_type": "execute_result"
    }
   ],
   "source": [
    "text"
   ]
  },
  {
   "cell_type": "code",
   "execution_count": 6,
   "id": "4ba79ebc",
   "metadata": {},
   "outputs": [],
   "source": [
    "sentence = nltk.sent_tokenize(text)"
   ]
  },
  {
   "cell_type": "code",
   "execution_count": 7,
   "id": "fe8a1a5e",
   "metadata": {},
   "outputs": [
    {
     "data": {
      "text/plain": [
       "['Mumbai or Bombay is the capital city of the Indian state of Maharashtra.',\n",
       " 'According to the United Nations, as of 2018, Mumbai was the second most populated city in India after Delhi.',\n",
       " 'In the world with a population of roughly 20 million.']"
      ]
     },
     "execution_count": 7,
     "metadata": {},
     "output_type": "execute_result"
    }
   ],
   "source": [
    "sentence"
   ]
  },
  {
   "cell_type": "code",
   "execution_count": 10,
   "id": "723cab34",
   "metadata": {},
   "outputs": [
    {
     "name": "stdout",
     "output_type": "stream",
     "text": [
      "Mumbai or Bombay is the capital city of the Indian state of Maharashtra. \n",
      "\n",
      "According to the United Nations, as of 2018, Mumbai was the second most populated city in India after Delhi. \n",
      "\n",
      "In the world with a population of roughly 20 million. \n",
      "\n"
     ]
    }
   ],
   "source": [
    "for sents in sentence:\n",
    "    print(sents,\"\\n\")"
   ]
  },
  {
   "cell_type": "code",
   "execution_count": 12,
   "id": "1cb7b53a",
   "metadata": {},
   "outputs": [],
   "source": [
    "words = nltk.word_tokenize(sentence[0])"
   ]
  },
  {
   "cell_type": "code",
   "execution_count": 14,
   "id": "2970b88a",
   "metadata": {},
   "outputs": [
    {
     "data": {
      "text/plain": [
       "['Mumbai',\n",
       " 'or',\n",
       " 'Bombay',\n",
       " 'is',\n",
       " 'the',\n",
       " 'capital',\n",
       " 'city',\n",
       " 'of',\n",
       " 'the',\n",
       " 'Indian',\n",
       " 'state',\n",
       " 'of',\n",
       " 'Maharashtra',\n",
       " '.']"
      ]
     },
     "execution_count": 14,
     "metadata": {},
     "output_type": "execute_result"
    }
   ],
   "source": [
    "words"
   ]
  },
  {
   "cell_type": "code",
   "execution_count": 15,
   "id": "ad1980ae",
   "metadata": {},
   "outputs": [
    {
     "name": "stdout",
     "output_type": "stream",
     "text": [
      "Mumbai\n",
      "or\n",
      "Bombay\n",
      "is\n",
      "the\n",
      "capital\n",
      "city\n",
      "of\n",
      "the\n",
      "Indian\n",
      "state\n",
      "of\n",
      "Maharashtra\n",
      ".\n"
     ]
    }
   ],
   "source": [
    "for word in words:\n",
    "    print(word)"
   ]
  },
  {
   "cell_type": "code",
   "execution_count": 20,
   "id": "61dbbd1b",
   "metadata": {},
   "outputs": [
    {
     "name": "stdout",
     "output_type": "stream",
     "text": [
      "Mumbai\n",
      "or\n",
      "Bombay\n",
      "is\n",
      "the\n",
      "capital\n",
      "city\n",
      "of\n",
      "the\n",
      "Indian\n",
      "state\n",
      "of\n",
      "Maharashtra\n",
      ".\n",
      "{'Mumbai': 1, 'or': 1, 'Bombay': 1, 'is': 1, 'the': 2, 'capital': 1, 'city': 1, 'of': 2, 'Indian': 1, 'state': 1, 'Maharashtra': 1, '.': 1}\n"
     ]
    }
   ],
   "source": [
    "d = {}\n",
    "for word in words:\n",
    "    print(word)\n",
    "    if word in d.keys():\n",
    "        d[word] += 1\n",
    "    else:\n",
    "        d[word] = 1\n",
    "print(d)"
   ]
  },
  {
   "cell_type": "code",
   "execution_count": 21,
   "id": "fb04f621",
   "metadata": {},
   "outputs": [
    {
     "data": {
      "text/plain": [
       "['Natural', 'Language', 'Processing']"
      ]
     },
     "execution_count": 21,
     "metadata": {},
     "output_type": "execute_result"
    }
   ],
   "source": [
    "\"Natural Language Processing\".split()"
   ]
  },
  {
   "cell_type": "code",
   "execution_count": 22,
   "id": "b1f65cf9",
   "metadata": {},
   "outputs": [
    {
     "data": {
      "text/plain": [
       "['This', 'is', 'a', 'cat']"
      ]
     },
     "execution_count": 22,
     "metadata": {},
     "output_type": "execute_result"
    }
   ],
   "source": [
    "\"This is a cat\".split()"
   ]
  },
  {
   "cell_type": "code",
   "execution_count": 23,
   "id": "4b18704c",
   "metadata": {},
   "outputs": [
    {
     "data": {
      "text/plain": [
       "['This', 'is', 'a,', 'cat.']"
      ]
     },
     "execution_count": 23,
     "metadata": {},
     "output_type": "execute_result"
    }
   ],
   "source": [
    "\"This is a, cat.\".split()"
   ]
  },
  {
   "cell_type": "code",
   "execution_count": 24,
   "id": "fd582937",
   "metadata": {},
   "outputs": [
    {
     "data": {
      "text/plain": [
       "'Mumbai or Bombay is the capital city of the Indian state of Maharashtra. According to the United Nations, as of 2018, Mumbai was the second most populated city in India after Delhi. In the world with a population of roughly 20 million.'"
      ]
     },
     "execution_count": 24,
     "metadata": {},
     "output_type": "execute_result"
    }
   ],
   "source": [
    "text"
   ]
  },
  {
   "cell_type": "code",
   "execution_count": 25,
   "id": "ddf05f5c",
   "metadata": {},
   "outputs": [],
   "source": [
    "import re"
   ]
  },
  {
   "cell_type": "code",
   "execution_count": 28,
   "id": "327690c6",
   "metadata": {},
   "outputs": [
    {
     "data": {
      "text/plain": [
       "['Mumbai',\n",
       " 'or',\n",
       " 'Bombay',\n",
       " 'is',\n",
       " 'the',\n",
       " 'capital',\n",
       " 'city',\n",
       " 'of',\n",
       " 'the',\n",
       " 'Indian',\n",
       " 'state',\n",
       " 'of',\n",
       " 'Maharashtra',\n",
       " 'According',\n",
       " 'to',\n",
       " 'the',\n",
       " 'United',\n",
       " 'Nations',\n",
       " 'as',\n",
       " 'of',\n",
       " '2018',\n",
       " 'Mumbai',\n",
       " 'was',\n",
       " 'the',\n",
       " 'second',\n",
       " 'most',\n",
       " 'populated',\n",
       " 'city',\n",
       " 'in',\n",
       " 'India',\n",
       " 'after',\n",
       " 'Delhi',\n",
       " 'In',\n",
       " 'the',\n",
       " 'world',\n",
       " 'with',\n",
       " 'a',\n",
       " 'population',\n",
       " 'of',\n",
       " 'roughly',\n",
       " '20',\n",
       " 'million']"
      ]
     },
     "execution_count": 28,
     "metadata": {},
     "output_type": "execute_result"
    }
   ],
   "source": [
    "re.findall('[\\w]+', text)"
   ]
  },
  {
   "cell_type": "code",
   "execution_count": 42,
   "id": "2444cbf8",
   "metadata": {},
   "outputs": [
    {
     "data": {
      "text/plain": [
       "['Mumbai or Bombay is the capital city of the Indian state of Maharashtra',\n",
       " ' According to the United Nations',\n",
       " ' as of 2018',\n",
       " ' Mumbai was the second most populated city in India after Delhi',\n",
       " ' In the world with a population of roughly 20 million',\n",
       " '']"
      ]
     },
     "execution_count": 42,
     "metadata": {},
     "output_type": "execute_result"
    }
   ],
   "source": [
    "re.compile(r'[,.]+').split(text)"
   ]
  },
  {
   "cell_type": "code",
   "execution_count": 46,
   "id": "0c039afb",
   "metadata": {},
   "outputs": [],
   "source": [
    "from nltk.tokenize import word_tokenize"
   ]
  },
  {
   "cell_type": "code",
   "execution_count": 47,
   "id": "590ebe14",
   "metadata": {},
   "outputs": [
    {
     "data": {
      "text/plain": [
       "['Mumbai',\n",
       " 'or',\n",
       " 'Bombay',\n",
       " 'is',\n",
       " 'the',\n",
       " 'capital',\n",
       " 'city',\n",
       " 'of',\n",
       " 'the',\n",
       " 'Indian',\n",
       " 'state',\n",
       " 'of',\n",
       " 'Maharashtra',\n",
       " '.',\n",
       " 'According',\n",
       " 'to',\n",
       " 'the',\n",
       " 'United',\n",
       " 'Nations',\n",
       " ',',\n",
       " 'as',\n",
       " 'of',\n",
       " '2018',\n",
       " ',',\n",
       " 'Mumbai',\n",
       " 'was',\n",
       " 'the',\n",
       " 'second',\n",
       " 'most',\n",
       " 'populated',\n",
       " 'city',\n",
       " 'in',\n",
       " 'India',\n",
       " 'after',\n",
       " 'Delhi',\n",
       " '.',\n",
       " 'In',\n",
       " 'the',\n",
       " 'world',\n",
       " 'with',\n",
       " 'a',\n",
       " 'population',\n",
       " 'of',\n",
       " 'roughly',\n",
       " '20',\n",
       " 'million',\n",
       " '.']"
      ]
     },
     "execution_count": 47,
     "metadata": {},
     "output_type": "execute_result"
    }
   ],
   "source": [
    "word_tokenize(text)"
   ]
  },
  {
   "cell_type": "code",
   "execution_count": 48,
   "id": "f5ac9563",
   "metadata": {},
   "outputs": [],
   "source": [
    "from nltk.tokenize import sent_tokenize"
   ]
  },
  {
   "cell_type": "code",
   "execution_count": 49,
   "id": "d8c8af35",
   "metadata": {},
   "outputs": [
    {
     "data": {
      "text/plain": [
       "['Mumbai or Bombay is the capital city of the Indian state of Maharashtra.',\n",
       " 'According to the United Nations, as of 2018, Mumbai was the second most populated city in India after Delhi.',\n",
       " 'In the world with a population of roughly 20 million.']"
      ]
     },
     "execution_count": 49,
     "metadata": {},
     "output_type": "execute_result"
    }
   ],
   "source": [
    "sent_tokenize(text)"
   ]
  },
  {
   "cell_type": "code",
   "execution_count": 50,
   "id": "08cddd91",
   "metadata": {},
   "outputs": [],
   "source": [
    "from nltk.tokenize import RegexpTokenizer"
   ]
  },
  {
   "cell_type": "code",
   "execution_count": 64,
   "id": "3ef26c3b",
   "metadata": {},
   "outputs": [
    {
     "data": {
      "text/plain": [
       "['Mumbai',\n",
       " 'or',\n",
       " 'Bombay',\n",
       " 'is',\n",
       " 'the',\n",
       " 'capital',\n",
       " 'city',\n",
       " 'of',\n",
       " 'the',\n",
       " 'Indian',\n",
       " 'state',\n",
       " 'of',\n",
       " 'Maharashtra',\n",
       " 'According',\n",
       " 'to',\n",
       " 'the',\n",
       " 'United',\n",
       " 'Nations',\n",
       " 'as',\n",
       " 'of',\n",
       " '2018',\n",
       " 'Mumbai',\n",
       " 'was',\n",
       " 'the',\n",
       " 'second',\n",
       " 'most',\n",
       " 'populated',\n",
       " 'city',\n",
       " 'in',\n",
       " 'India',\n",
       " 'after',\n",
       " 'Delhi',\n",
       " 'In',\n",
       " 'the',\n",
       " 'world',\n",
       " 'with',\n",
       " 'a',\n",
       " 'population',\n",
       " 'of',\n",
       " 'roughly',\n",
       " '20',\n",
       " 'million']"
      ]
     },
     "execution_count": 64,
     "metadata": {},
     "output_type": "execute_result"
    }
   ],
   "source": [
    "RegexpTokenizer('\\w+').tokenize(text)"
   ]
  },
  {
   "cell_type": "code",
   "execution_count": 65,
   "id": "21693bfd",
   "metadata": {},
   "outputs": [
    {
     "data": {
      "text/plain": [
       "['Mumbai',\n",
       " 'or',\n",
       " 'Bombay',\n",
       " 'is',\n",
       " 'the',\n",
       " 'capital',\n",
       " 'city',\n",
       " 'of',\n",
       " 'the',\n",
       " 'Indian',\n",
       " 'state',\n",
       " 'of',\n",
       " 'Maharashtra',\n",
       " 'According',\n",
       " 'to',\n",
       " 'the',\n",
       " 'United',\n",
       " 'Nations',\n",
       " 'as',\n",
       " 'of',\n",
       " '2018',\n",
       " 'Mumbai',\n",
       " 'was',\n",
       " 'the',\n",
       " 'second',\n",
       " 'most',\n",
       " 'populated',\n",
       " 'city',\n",
       " 'in',\n",
       " 'India',\n",
       " 'after',\n",
       " 'Delhi',\n",
       " 'In',\n",
       " 'the',\n",
       " 'world',\n",
       " 'with',\n",
       " 'a',\n",
       " 'population',\n",
       " 'of',\n",
       " 'roughly',\n",
       " '20',\n",
       " 'million']"
      ]
     },
     "execution_count": 65,
     "metadata": {},
     "output_type": "execute_result"
    }
   ],
   "source": [
    "re.findall('\\w+', text)"
   ]
  },
  {
   "cell_type": "code",
   "execution_count": 67,
   "id": "40be7a60",
   "metadata": {},
   "outputs": [],
   "source": [
    "# white spcae tokenization\n",
    "\n",
    "from nltk.tokenize import WhitespaceTokenizer"
   ]
  },
  {
   "cell_type": "code",
   "execution_count": 73,
   "id": "e84994b1",
   "metadata": {},
   "outputs": [
    {
     "data": {
      "text/plain": [
       "'Mumbai or Bombay is the capital city of the Indian state of Maharashtra. According to the United Nations, as of 2018, Mumbai was the second most populated city in India after Delhi. In the world with a population of roughly 20 million.'"
      ]
     },
     "execution_count": 73,
     "metadata": {},
     "output_type": "execute_result"
    }
   ],
   "source": [
    "text"
   ]
  },
  {
   "cell_type": "code",
   "execution_count": 74,
   "id": "30fc3338",
   "metadata": {},
   "outputs": [
    {
     "data": {
      "text/plain": [
       "'Mumbai or Bombay is the capital city of the Indian state of Maharashtra\\n According to the United Nations, as of 2018, Mumbai was the second most populated city in India after Delhi\\n In the world with a population of roughly 20 million\\n'"
      ]
     },
     "execution_count": 74,
     "metadata": {},
     "output_type": "execute_result"
    }
   ],
   "source": [
    "text.replace('.','\\n')"
   ]
  },
  {
   "cell_type": "code",
   "execution_count": 75,
   "id": "beac074c",
   "metadata": {},
   "outputs": [
    {
     "data": {
      "text/plain": [
       "['Mumbai',\n",
       " 'or',\n",
       " 'Bombay',\n",
       " 'is',\n",
       " 'the',\n",
       " 'capital',\n",
       " 'city',\n",
       " 'of',\n",
       " 'the',\n",
       " 'Indian',\n",
       " 'state',\n",
       " 'of',\n",
       " 'Maharashtra',\n",
       " 'According',\n",
       " 'to',\n",
       " 'the',\n",
       " 'United',\n",
       " 'Nations,',\n",
       " 'as',\n",
       " 'of',\n",
       " '2018,',\n",
       " 'Mumbai',\n",
       " 'was',\n",
       " 'the',\n",
       " 'second',\n",
       " 'most',\n",
       " 'populated',\n",
       " 'city',\n",
       " 'in',\n",
       " 'India',\n",
       " 'after',\n",
       " 'Delhi',\n",
       " 'In',\n",
       " 'the',\n",
       " 'world',\n",
       " 'with',\n",
       " 'a',\n",
       " 'population',\n",
       " 'of',\n",
       " 'roughly',\n",
       " '20',\n",
       " 'million']"
      ]
     },
     "execution_count": 75,
     "metadata": {},
     "output_type": "execute_result"
    }
   ],
   "source": [
    "WhitespaceTokenizer().tokenize(text.replace('.','\\n'))"
   ]
  },
  {
   "cell_type": "code",
   "execution_count": 76,
   "id": "fbaa26f9",
   "metadata": {},
   "outputs": [],
   "source": [
    "import pandas as pd"
   ]
  },
  {
   "cell_type": "code",
   "execution_count": 77,
   "id": "6e6ee060",
   "metadata": {},
   "outputs": [
    {
     "data": {
      "text/plain": [
       "'Mumbai or Bombay is the capital city of the Indian state of Maharashtra. According to the United Nations, as of 2018, Mumbai was the second most populated city in India after Delhi. In the world with a population of roughly 20 million.'"
      ]
     },
     "execution_count": 77,
     "metadata": {},
     "output_type": "execute_result"
    }
   ],
   "source": [
    "text"
   ]
  },
  {
   "cell_type": "code",
   "execution_count": 78,
   "id": "23557815",
   "metadata": {},
   "outputs": [
    {
     "data": {
      "text/html": [
       "<div>\n",
       "<style scoped>\n",
       "    .dataframe tbody tr th:only-of-type {\n",
       "        vertical-align: middle;\n",
       "    }\n",
       "\n",
       "    .dataframe tbody tr th {\n",
       "        vertical-align: top;\n",
       "    }\n",
       "\n",
       "    .dataframe thead th {\n",
       "        text-align: right;\n",
       "    }\n",
       "</style>\n",
       "<table border=\"1\" class=\"dataframe\">\n",
       "  <thead>\n",
       "    <tr style=\"text-align: right;\">\n",
       "      <th></th>\n",
       "      <th>sentence</th>\n",
       "    </tr>\n",
       "  </thead>\n",
       "  <tbody>\n",
       "    <tr>\n",
       "      <th>0</th>\n",
       "      <td>Mumbai or Bombay is the capital city of the In...</td>\n",
       "    </tr>\n",
       "    <tr>\n",
       "      <th>1</th>\n",
       "      <td>According to the United Nations, as of 2018, ...</td>\n",
       "    </tr>\n",
       "    <tr>\n",
       "      <th>2</th>\n",
       "      <td>In the world with a population of roughly 20 ...</td>\n",
       "    </tr>\n",
       "    <tr>\n",
       "      <th>3</th>\n",
       "      <td></td>\n",
       "    </tr>\n",
       "  </tbody>\n",
       "</table>\n",
       "</div>"
      ],
      "text/plain": [
       "                                            sentence\n",
       "0  Mumbai or Bombay is the capital city of the In...\n",
       "1   According to the United Nations, as of 2018, ...\n",
       "2   In the world with a population of roughly 20 ...\n",
       "3                                                   "
      ]
     },
     "execution_count": 78,
     "metadata": {},
     "output_type": "execute_result"
    }
   ],
   "source": [
    "df = pd.DataFrame({\n",
    "    'sentence':text.split('.')\n",
    "})\n",
    "df"
   ]
  },
  {
   "cell_type": "code",
   "execution_count": 86,
   "id": "c9767338",
   "metadata": {},
   "outputs": [],
   "source": [
    "df.drop(index=[3], inplace=True)"
   ]
  },
  {
   "cell_type": "code",
   "execution_count": 87,
   "id": "204f882a",
   "metadata": {},
   "outputs": [
    {
     "data": {
      "text/html": [
       "<div>\n",
       "<style scoped>\n",
       "    .dataframe tbody tr th:only-of-type {\n",
       "        vertical-align: middle;\n",
       "    }\n",
       "\n",
       "    .dataframe tbody tr th {\n",
       "        vertical-align: top;\n",
       "    }\n",
       "\n",
       "    .dataframe thead th {\n",
       "        text-align: right;\n",
       "    }\n",
       "</style>\n",
       "<table border=\"1\" class=\"dataframe\">\n",
       "  <thead>\n",
       "    <tr style=\"text-align: right;\">\n",
       "      <th></th>\n",
       "      <th>sentence</th>\n",
       "    </tr>\n",
       "  </thead>\n",
       "  <tbody>\n",
       "    <tr>\n",
       "      <th>0</th>\n",
       "      <td>Mumbai or Bombay is the capital city of the In...</td>\n",
       "    </tr>\n",
       "    <tr>\n",
       "      <th>1</th>\n",
       "      <td>According to the United Nations, as of 2018, ...</td>\n",
       "    </tr>\n",
       "    <tr>\n",
       "      <th>2</th>\n",
       "      <td>In the world with a population of roughly 20 ...</td>\n",
       "    </tr>\n",
       "  </tbody>\n",
       "</table>\n",
       "</div>"
      ],
      "text/plain": [
       "                                            sentence\n",
       "0  Mumbai or Bombay is the capital city of the In...\n",
       "1   According to the United Nations, as of 2018, ...\n",
       "2   In the world with a population of roughly 20 ..."
      ]
     },
     "execution_count": 87,
     "metadata": {},
     "output_type": "execute_result"
    }
   ],
   "source": [
    "df"
   ]
  },
  {
   "cell_type": "code",
   "execution_count": 88,
   "id": "a7cd67ce",
   "metadata": {},
   "outputs": [],
   "source": [
    "df['tokenize'] = df['sentence'].apply( lambda x : word_tokenize(x))"
   ]
  },
  {
   "cell_type": "code",
   "execution_count": 92,
   "id": "cc53053d",
   "metadata": {},
   "outputs": [
    {
     "data": {
      "text/html": [
       "<div>\n",
       "<style scoped>\n",
       "    .dataframe tbody tr th:only-of-type {\n",
       "        vertical-align: middle;\n",
       "    }\n",
       "\n",
       "    .dataframe tbody tr th {\n",
       "        vertical-align: top;\n",
       "    }\n",
       "\n",
       "    .dataframe thead th {\n",
       "        text-align: right;\n",
       "    }\n",
       "</style>\n",
       "<table border=\"1\" class=\"dataframe\">\n",
       "  <thead>\n",
       "    <tr style=\"text-align: right;\">\n",
       "      <th></th>\n",
       "      <th>sentence</th>\n",
       "      <th>tokenize</th>\n",
       "    </tr>\n",
       "  </thead>\n",
       "  <tbody>\n",
       "    <tr>\n",
       "      <th>0</th>\n",
       "      <td>Mumbai or Bombay is the capital city of the In...</td>\n",
       "      <td>[Mumbai, or, Bombay, is, the, capital, city, o...</td>\n",
       "    </tr>\n",
       "    <tr>\n",
       "      <th>1</th>\n",
       "      <td>According to the United Nations, as of 2018, ...</td>\n",
       "      <td>[According, to, the, United, Nations, ,, as, o...</td>\n",
       "    </tr>\n",
       "    <tr>\n",
       "      <th>2</th>\n",
       "      <td>In the world with a population of roughly 20 ...</td>\n",
       "      <td>[In, the, world, with, a, population, of, roug...</td>\n",
       "    </tr>\n",
       "  </tbody>\n",
       "</table>\n",
       "</div>"
      ],
      "text/plain": [
       "                                            sentence  \\\n",
       "0  Mumbai or Bombay is the capital city of the In...   \n",
       "1   According to the United Nations, as of 2018, ...   \n",
       "2   In the world with a population of roughly 20 ...   \n",
       "\n",
       "                                            tokenize  \n",
       "0  [Mumbai, or, Bombay, is, the, capital, city, o...  \n",
       "1  [According, to, the, United, Nations, ,, as, o...  \n",
       "2  [In, the, world, with, a, population, of, roug...  "
      ]
     },
     "execution_count": 92,
     "metadata": {},
     "output_type": "execute_result"
    }
   ],
   "source": [
    "df"
   ]
  },
  {
   "cell_type": "code",
   "execution_count": 93,
   "id": "c3d1aa69",
   "metadata": {},
   "outputs": [
    {
     "data": {
      "text/plain": [
       "0    [Mumbai, or, Bombay, is, the, capital, city, o...\n",
       "1    [According, to, the, United, Nations, ,, as, o...\n",
       "2    [In, the, world, with, a, population, of, roug...\n",
       "Name: tokenize, dtype: object"
      ]
     },
     "execution_count": 93,
     "metadata": {},
     "output_type": "execute_result"
    }
   ],
   "source": [
    "df['tokenize']"
   ]
  },
  {
   "cell_type": "code",
   "execution_count": 94,
   "id": "164d20cd",
   "metadata": {},
   "outputs": [
    {
     "data": {
      "text/plain": [
       "['Mumbai',\n",
       " 'or',\n",
       " 'Bombay',\n",
       " 'is',\n",
       " 'the',\n",
       " 'capital',\n",
       " 'city',\n",
       " 'of',\n",
       " 'the',\n",
       " 'Indian',\n",
       " 'state',\n",
       " 'of',\n",
       " 'Maharashtra']"
      ]
     },
     "execution_count": 94,
     "metadata": {},
     "output_type": "execute_result"
    }
   ],
   "source": [
    "df['tokenize'][0]"
   ]
  },
  {
   "cell_type": "code",
   "execution_count": null,
   "id": "00fdd141",
   "metadata": {},
   "outputs": [],
   "source": []
  }
 ],
 "metadata": {
  "kernelspec": {
   "display_name": "Python 3",
   "language": "python",
   "name": "python3"
  },
  "language_info": {
   "codemirror_mode": {
    "name": "ipython",
    "version": 3
   },
   "file_extension": ".py",
   "mimetype": "text/x-python",
   "name": "python",
   "nbconvert_exporter": "python",
   "pygments_lexer": "ipython3",
   "version": "3.8.8"
  }
 },
 "nbformat": 4,
 "nbformat_minor": 5
}
