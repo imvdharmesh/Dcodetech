{
 "cells": [
  {
   "cell_type": "markdown",
   "id": "f3345ebd",
   "metadata": {},
   "source": [
    "### porter stemmer algorithm"
   ]
  },
  {
   "cell_type": "code",
   "execution_count": 22,
   "id": "b316e9f0",
   "metadata": {},
   "outputs": [],
   "source": [
    "from nltk.stem import PorterStemmer"
   ]
  },
  {
   "cell_type": "code",
   "execution_count": 23,
   "id": "e9a4d3ea",
   "metadata": {},
   "outputs": [],
   "source": [
    "ps = PorterStemmer()"
   ]
  },
  {
   "cell_type": "code",
   "execution_count": 24,
   "id": "a824fc24",
   "metadata": {},
   "outputs": [],
   "source": [
    "text = ['universe','university','universal','universities']"
   ]
  },
  {
   "cell_type": "code",
   "execution_count": 25,
   "id": "2552b1fb",
   "metadata": {},
   "outputs": [
    {
     "data": {
      "text/plain": [
       "['univers', 'univers', 'univers', 'univers']"
      ]
     },
     "execution_count": 25,
     "metadata": {},
     "output_type": "execute_result"
    }
   ],
   "source": [
    "[ps.stem(item) for item in text]"
   ]
  },
  {
   "cell_type": "code",
   "execution_count": 26,
   "id": "c5ab746a",
   "metadata": {},
   "outputs": [],
   "source": [
    "words = ['generous','generate','generously','generation']"
   ]
  },
  {
   "cell_type": "code",
   "execution_count": 27,
   "id": "ad0d83bb",
   "metadata": {},
   "outputs": [
    {
     "data": {
      "text/plain": [
       "['generous gener', 'generate gener', 'generously gener', 'generation gener']"
      ]
     },
     "execution_count": 27,
     "metadata": {},
     "output_type": "execute_result"
    }
   ],
   "source": [
    "[item+\" \"+ps.stem(item) for item in words]"
   ]
  },
  {
   "cell_type": "code",
   "execution_count": 28,
   "id": "4615a10d",
   "metadata": {},
   "outputs": [],
   "source": [
    "text1 = ['program','programmers','programming','programs']"
   ]
  },
  {
   "cell_type": "code",
   "execution_count": 29,
   "id": "b33e4496",
   "metadata": {},
   "outputs": [
    {
     "data": {
      "text/plain": [
       "['program', 'programm', 'program', 'program']"
      ]
     },
     "execution_count": 29,
     "metadata": {},
     "output_type": "execute_result"
    }
   ],
   "source": [
    "[ps.stem(item) for item in text1]"
   ]
  },
  {
   "cell_type": "code",
   "execution_count": 30,
   "id": "8af0547e",
   "metadata": {},
   "outputs": [],
   "source": [
    "sentence = \"Provision Maximum multiple owned caring on go gone going was this\""
   ]
  },
  {
   "cell_type": "code",
   "execution_count": 31,
   "id": "824a99ab",
   "metadata": {},
   "outputs": [
    {
     "data": {
      "text/plain": [
       "['Provision provis',\n",
       " 'Maximum maximum',\n",
       " 'multiple multipl',\n",
       " 'owned own',\n",
       " 'caring care',\n",
       " 'on on',\n",
       " 'go go',\n",
       " 'gone gone',\n",
       " 'going go',\n",
       " 'was wa',\n",
       " 'this thi']"
      ]
     },
     "execution_count": 31,
     "metadata": {},
     "output_type": "execute_result"
    }
   ],
   "source": [
    "[item+\" \"+ps.stem(item) for item in sentence.split()]"
   ]
  },
  {
   "cell_type": "markdown",
   "id": "97834ac2",
   "metadata": {},
   "source": [
    "### snowball stemmer algorithm"
   ]
  },
  {
   "cell_type": "code",
   "execution_count": 32,
   "id": "bb101b7e",
   "metadata": {},
   "outputs": [],
   "source": [
    "from nltk.stem import SnowballStemmer"
   ]
  },
  {
   "cell_type": "code",
   "execution_count": 33,
   "id": "6dc8c453",
   "metadata": {},
   "outputs": [],
   "source": [
    "sbs = SnowballStemmer(language='english')"
   ]
  },
  {
   "cell_type": "code",
   "execution_count": 34,
   "id": "fa0b091a",
   "metadata": {},
   "outputs": [
    {
     "data": {
      "text/plain": [
       "['univers', 'univers', 'univers', 'univers']"
      ]
     },
     "execution_count": 34,
     "metadata": {},
     "output_type": "execute_result"
    }
   ],
   "source": [
    "[sbs.stem(item) for item in text]"
   ]
  },
  {
   "cell_type": "code",
   "execution_count": 35,
   "id": "3bb3bec3",
   "metadata": {},
   "outputs": [
    {
     "data": {
      "text/plain": [
       "['program', 'programm', 'program', 'program']"
      ]
     },
     "execution_count": 35,
     "metadata": {},
     "output_type": "execute_result"
    }
   ],
   "source": [
    "[sbs.stem(item) for item in text1]"
   ]
  },
  {
   "cell_type": "code",
   "execution_count": 36,
   "id": "fd62c0bc",
   "metadata": {},
   "outputs": [
    {
     "data": {
      "text/plain": [
       "['Provision provis',\n",
       " 'Maximum maximum',\n",
       " 'multiple multipl',\n",
       " 'owned own',\n",
       " 'caring care',\n",
       " 'on on',\n",
       " 'go go',\n",
       " 'gone gone',\n",
       " 'going go',\n",
       " 'was was',\n",
       " 'this this']"
      ]
     },
     "execution_count": 36,
     "metadata": {},
     "output_type": "execute_result"
    }
   ],
   "source": [
    "[item+\" \"+sbs.stem(item) for item in sentence.split()]"
   ]
  },
  {
   "cell_type": "markdown",
   "id": "31754769",
   "metadata": {},
   "source": [
    "### lancaster stemmer algorithm"
   ]
  },
  {
   "cell_type": "code",
   "execution_count": 37,
   "id": "db1d99ce",
   "metadata": {},
   "outputs": [],
   "source": [
    "from nltk.stem import LancasterStemmer"
   ]
  },
  {
   "cell_type": "code",
   "execution_count": 38,
   "id": "1e9f6d2a",
   "metadata": {},
   "outputs": [],
   "source": [
    "lan = LancasterStemmer()"
   ]
  },
  {
   "cell_type": "code",
   "execution_count": 39,
   "id": "bbc3c27a",
   "metadata": {},
   "outputs": [
    {
     "data": {
      "text/plain": [
       "['universe univers',\n",
       " 'university univers',\n",
       " 'universal univers',\n",
       " 'universities univers']"
      ]
     },
     "execution_count": 39,
     "metadata": {},
     "output_type": "execute_result"
    }
   ],
   "source": [
    "[item+\" \"+lan.stem(item) for item in text]"
   ]
  },
  {
   "cell_type": "code",
   "execution_count": 40,
   "id": "7f3c9a38",
   "metadata": {},
   "outputs": [
    {
     "data": {
      "text/plain": [
       "['program program',\n",
       " 'programmers program',\n",
       " 'programming program',\n",
       " 'programs program']"
      ]
     },
     "execution_count": 40,
     "metadata": {},
     "output_type": "execute_result"
    }
   ],
   "source": [
    "[item+\" \"+lan.stem(item) for item in text1]"
   ]
  },
  {
   "cell_type": "code",
   "execution_count": 41,
   "id": "0360ab15",
   "metadata": {},
   "outputs": [
    {
     "data": {
      "text/plain": [
       "['generous gen', 'generate gen', 'generously gen', 'generation gen']"
      ]
     },
     "execution_count": 41,
     "metadata": {},
     "output_type": "execute_result"
    }
   ],
   "source": [
    "[item+\" \"+lan.stem(item) for item in words]"
   ]
  },
  {
   "cell_type": "code",
   "execution_count": 42,
   "id": "b1046e88",
   "metadata": {},
   "outputs": [
    {
     "data": {
      "text/plain": [
       "['Provision provid',\n",
       " 'Maximum maxim',\n",
       " 'multiple multipl',\n",
       " 'owned own',\n",
       " 'caring car',\n",
       " 'on on',\n",
       " 'go go',\n",
       " 'gone gon',\n",
       " 'going going',\n",
       " 'was was',\n",
       " 'this thi']"
      ]
     },
     "execution_count": 42,
     "metadata": {},
     "output_type": "execute_result"
    }
   ],
   "source": [
    "[item+\" \"+lan.stem(item) for item in sentence.split()]"
   ]
  },
  {
   "cell_type": "code",
   "execution_count": 43,
   "id": "d421a451",
   "metadata": {},
   "outputs": [
    {
     "data": {
      "text/plain": [
       "'care'"
      ]
     },
     "execution_count": 43,
     "metadata": {},
     "output_type": "execute_result"
    }
   ],
   "source": [
    "ps.stem('caring')"
   ]
  },
  {
   "cell_type": "code",
   "execution_count": 44,
   "id": "42d6116b",
   "metadata": {},
   "outputs": [
    {
     "data": {
      "text/plain": [
       "'care'"
      ]
     },
     "execution_count": 44,
     "metadata": {},
     "output_type": "execute_result"
    }
   ],
   "source": [
    "sbs.stem('caring')"
   ]
  },
  {
   "cell_type": "code",
   "execution_count": 45,
   "id": "95bce051",
   "metadata": {},
   "outputs": [
    {
     "data": {
      "text/plain": [
       "'car'"
      ]
     },
     "execution_count": 45,
     "metadata": {},
     "output_type": "execute_result"
    }
   ],
   "source": [
    "lan.stem('caring')"
   ]
  },
  {
   "cell_type": "markdown",
   "id": "2042120b",
   "metadata": {},
   "source": [
    "### word lemmatizer"
   ]
  },
  {
   "cell_type": "code",
   "execution_count": 46,
   "id": "d0b3953b",
   "metadata": {},
   "outputs": [],
   "source": [
    "from nltk.stem import WordNetLemmatizer"
   ]
  },
  {
   "cell_type": "code",
   "execution_count": 47,
   "id": "cb88a4a5",
   "metadata": {},
   "outputs": [],
   "source": [
    "wl = WordNetLemmatizer()"
   ]
  },
  {
   "cell_type": "code",
   "execution_count": 49,
   "id": "6e30a051",
   "metadata": {},
   "outputs": [
    {
     "data": {
      "text/plain": [
       "['universe universe',\n",
       " 'university university',\n",
       " 'universal universal',\n",
       " 'universities university']"
      ]
     },
     "execution_count": 49,
     "metadata": {},
     "output_type": "execute_result"
    }
   ],
   "source": [
    "[item+\" \"+wl.lemmatize(item) for item in text]"
   ]
  },
  {
   "cell_type": "code",
   "execution_count": 50,
   "id": "15457dd4",
   "metadata": {},
   "outputs": [
    {
     "data": {
      "text/plain": [
       "['program program',\n",
       " 'programmers programmer',\n",
       " 'programming programming',\n",
       " 'programs program']"
      ]
     },
     "execution_count": 50,
     "metadata": {},
     "output_type": "execute_result"
    }
   ],
   "source": [
    "[item+\" \"+wl.lemmatize(item) for item in text1]"
   ]
  },
  {
   "cell_type": "code",
   "execution_count": 51,
   "id": "d04cc0f4",
   "metadata": {},
   "outputs": [
    {
     "data": {
      "text/plain": [
       "['generous generous',\n",
       " 'generate generate',\n",
       " 'generously generously',\n",
       " 'generation generation']"
      ]
     },
     "execution_count": 51,
     "metadata": {},
     "output_type": "execute_result"
    }
   ],
   "source": [
    "[item+\" \"+wl.lemmatize(item) for item in words]"
   ]
  },
  {
   "cell_type": "code",
   "execution_count": 52,
   "id": "b0fdacf7",
   "metadata": {},
   "outputs": [
    {
     "data": {
      "text/plain": [
       "['Provision Provision',\n",
       " 'Maximum Maximum',\n",
       " 'multiple multiple',\n",
       " 'owned owned',\n",
       " 'caring caring',\n",
       " 'on on',\n",
       " 'go go',\n",
       " 'gone gone',\n",
       " 'going going',\n",
       " 'was wa',\n",
       " 'this this']"
      ]
     },
     "execution_count": 52,
     "metadata": {},
     "output_type": "execute_result"
    }
   ],
   "source": [
    "[item+\" \"+wl.lemmatize(item) for item in sentence.split()]"
   ]
  },
  {
   "cell_type": "markdown",
   "id": "70dfd3c7",
   "metadata": {},
   "source": [
    "### sentence lemmatizer"
   ]
  },
  {
   "cell_type": "code",
   "execution_count": 53,
   "id": "986bc3d1",
   "metadata": {},
   "outputs": [],
   "source": [
    "from nltk.stem import WordNetLemmatizer"
   ]
  },
  {
   "cell_type": "code",
   "execution_count": 54,
   "id": "11987eb1",
   "metadata": {},
   "outputs": [],
   "source": [
    "wnl = WordNetLemmatizer()"
   ]
  },
  {
   "cell_type": "code",
   "execution_count": 60,
   "id": "cddcedb7",
   "metadata": {},
   "outputs": [
    {
     "data": {
      "text/plain": [
       "'Provision Maximum multiple owned caring on go gone going wa this'"
      ]
     },
     "execution_count": 60,
     "metadata": {},
     "output_type": "execute_result"
    }
   ],
   "source": [
    "' '.join([wl.lemmatize(item) for item in sentence.split()])"
   ]
  },
  {
   "cell_type": "code",
   "execution_count": 61,
   "id": "b69f02c1",
   "metadata": {},
   "outputs": [],
   "source": [
    "sentence1 = \"The striped bats are hanging on their feet for best\""
   ]
  },
  {
   "cell_type": "code",
   "execution_count": 62,
   "id": "77b64fad",
   "metadata": {},
   "outputs": [
    {
     "data": {
      "text/plain": [
       "'Provision Maximum multiple owned caring on go gone going wa this'"
      ]
     },
     "execution_count": 62,
     "metadata": {},
     "output_type": "execute_result"
    }
   ],
   "source": [
    "' '.join([wl.lemmatize(item) for item in sentence.split()])"
   ]
  }
 ],
 "metadata": {
  "kernelspec": {
   "display_name": "Python 3",
   "language": "python",
   "name": "python3"
  },
  "language_info": {
   "codemirror_mode": {
    "name": "ipython",
    "version": 3
   },
   "file_extension": ".py",
   "mimetype": "text/x-python",
   "name": "python",
   "nbconvert_exporter": "python",
   "pygments_lexer": "ipython3",
   "version": "3.8.8"
  }
 },
 "nbformat": 4,
 "nbformat_minor": 5
}
