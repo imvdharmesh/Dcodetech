{
 "cells": [
  {
   "cell_type": "code",
   "execution_count": 2,
   "id": "b92ed02c",
   "metadata": {},
   "outputs": [],
   "source": [
    "from tkinter import *\n",
    "from PIL import Image,ImageTk"
   ]
  },
  {
   "cell_type": "code",
   "execution_count": 3,
   "id": "03fc7815",
   "metadata": {},
   "outputs": [],
   "source": [
    "#Create an instance of tkinter frame\n",
    "win = Tk()\n",
    "#Set the geometry\n",
    "win.geometry(\"750x550\")\n",
    "#Load the image\n",
    "img= Image.open(\"dharmesh.jpeg\")\n",
    "#Convert To photoimage\n",
    "tkimage= ImageTk.PhotoImage(img)\n",
    "#Display the Image\n",
    "label=Label(win,image=tkimage)\n",
    "label.pack()\n",
    "win.mainloop()"
   ]
  },
  {
   "cell_type": "code",
   "execution_count": null,
   "id": "758614b8",
   "metadata": {},
   "outputs": [],
   "source": []
  }
 ],
 "metadata": {
  "kernelspec": {
   "display_name": "Python 3",
   "language": "python",
   "name": "python3"
  },
  "language_info": {
   "codemirror_mode": {
    "name": "ipython",
    "version": 3
   },
   "file_extension": ".py",
   "mimetype": "text/x-python",
   "name": "python",
   "nbconvert_exporter": "python",
   "pygments_lexer": "ipython3",
   "version": "3.8.8"
  }
 },
 "nbformat": 4,
 "nbformat_minor": 5
}
