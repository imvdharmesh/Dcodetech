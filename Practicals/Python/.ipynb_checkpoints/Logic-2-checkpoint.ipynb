{
 "cells": [
  {
   "cell_type": "markdown",
   "metadata": {},
   "source": [
    "# Medium boolean logic puzzles -- if else and or not."
   ]
  },
  {
   "cell_type": "markdown",
   "metadata": {},
   "source": [
    "## make_bricks\n",
    "### We want to make a row of bricks that is goal inches long. We have a number of small bricks (1 inch each) and big bricks (5 inches each). Return True if it is possible to make the goal by choosing from the given bricks. This is a little harder than it looks and can be done without any loops. "
   ]
  },
  {
   "cell_type": "code",
   "execution_count": 4,
   "metadata": {},
   "outputs": [
    {
     "name": "stdout",
     "output_type": "stream",
     "text": [
      "3\n",
      "1\n",
      "8\n",
      "True\n"
     ]
    }
   ],
   "source": [
    "small = int(input())\n",
    "big = int(input())\n",
    "goal = int(input())\n",
    "if goal> small+big*5:\n",
    "    print(False)\n",
    "elif goal % 5 > small:\n",
    "    print(False)\n",
    "else:\n",
    "    print(True)"
   ]
  },
  {
   "cell_type": "code",
   "execution_count": 1,
   "metadata": {},
   "outputs": [
    {
     "data": {
      "text/plain": [
       "True"
      ]
     },
     "execution_count": 1,
     "metadata": {},
     "output_type": "execute_result"
    }
   ],
   "source": [
    "def make_bricks(small, big, goal):\n",
    "  if goal> small+big*5:\n",
    "    return False\n",
    "  elif goal % 5 > small:\n",
    "    return False\n",
    "  else:\n",
    "    return True\n",
    "make_bricks(3, 1, 8)"
   ]
  },
  {
   "cell_type": "markdown",
   "metadata": {},
   "source": [
    "## lone_sum\n",
    "### Given 3 int values, a b c, return their sum. However, if one of the values is the same as another of the values, it does not count towards the sum."
   ]
  },
  {
   "cell_type": "code",
   "execution_count": 7,
   "metadata": {},
   "outputs": [
    {
     "name": "stdout",
     "output_type": "stream",
     "text": [
      "1\n",
      "2\n",
      "3\n",
      "6\n"
     ]
    }
   ],
   "source": [
    "a = int(input())\n",
    "b = int(input())\n",
    "c = int(input())\n",
    "if a==b and b==c and a==c:\n",
    "    print(0)\n",
    "elif a==b:\n",
    "    print(c)\n",
    "elif a==c:\n",
    "    print(b)\n",
    "elif b==c:\n",
    "    print(a)\n",
    "else:\n",
    "    print(a+b+c)"
   ]
  },
  {
   "cell_type": "code",
   "execution_count": 8,
   "metadata": {},
   "outputs": [
    {
     "data": {
      "text/plain": [
       "6"
      ]
     },
     "execution_count": 8,
     "metadata": {},
     "output_type": "execute_result"
    }
   ],
   "source": [
    "def lone_sum(a, b, c):\n",
    "  if a==b and b==c and a==c:\n",
    "    return 0\n",
    "  elif a==b:\n",
    "    return c\n",
    "  elif a==c:\n",
    "    return b\n",
    "  elif b==c:\n",
    "    return a\n",
    "  else:\n",
    "    return a+b+c\n",
    "lone_sum(1, 2, 3)"
   ]
  },
  {
   "cell_type": "markdown",
   "metadata": {},
   "source": [
    "## lucky_sum\n",
    "### Given 3 int values, a b c, return their sum. However, if one of the values is 13 then it does not count towards the sum and values to its right do not count. So for example, if b is 13, then both b and c do not count."
   ]
  },
  {
   "cell_type": "code",
   "execution_count": 11,
   "metadata": {},
   "outputs": [
    {
     "name": "stdout",
     "output_type": "stream",
     "text": [
      "1\n",
      "2\n",
      "3\n",
      "6\n"
     ]
    }
   ],
   "source": [
    "a = int(input())\n",
    "b = int(input())\n",
    "c = int(input())\n",
    "if a==13:\n",
    "    print(0)\n",
    "elif b==13:\n",
    "    print(a)\n",
    "elif c==13:\n",
    "    print(a+b)\n",
    "else:\n",
    "    print(a+b+c)"
   ]
  },
  {
   "cell_type": "code",
   "execution_count": 12,
   "metadata": {},
   "outputs": [
    {
     "data": {
      "text/plain": [
       "1"
      ]
     },
     "execution_count": 12,
     "metadata": {},
     "output_type": "execute_result"
    }
   ],
   "source": [
    "def lucky_sum(a, b, c):\n",
    "  if a==13:\n",
    "    return 0\n",
    "  elif b==13:\n",
    "    return a\n",
    "  elif c==13:\n",
    "    return a+b\n",
    "  else:\n",
    "    return a+b+c\n",
    "lucky_sum(1, 13, 3)"
   ]
  },
  {
   "cell_type": "markdown",
   "metadata": {},
   "source": [
    "## no_teen_sum\n",
    "### Given 3 int values, a b c, return their sum. However, if any of the values is a teen -- in the range 13..19 inclusive -- then that value counts as 0, except 15 and 16 do not count as a teens. Write a separate helper \"def fix_teen(n):\"that takes in an int value and returns that value fixed for the teen rule. In this way, you avoid repeating the teen code 3 times (i.e. \"decomposition\"). Define the helper below and at the same indent level as the main no_teen_sum()."
   ]
  },
  {
   "cell_type": "code",
   "execution_count": 7,
   "metadata": {},
   "outputs": [
    {
     "name": "stdout",
     "output_type": "stream",
     "text": [
      "1\n",
      "2\n",
      "3\n",
      "6\n"
     ]
    }
   ],
   "source": [
    "def fix_teen(n):\n",
    "  if n>=13 and n<=19:\n",
    "    if n==15 or n==16:\n",
    "      return n\n",
    "    else:\n",
    "      return 0\n",
    "  else:\n",
    "    return n\n",
    "a = int(input())\n",
    "b = int(input())\n",
    "c = int(input())\n",
    "a1=fix_teen(a)\n",
    "b1=fix_teen(b)\n",
    "c1=fix_teen(c)\n",
    "print(a1+b1+c1)"
   ]
  },
  {
   "cell_type": "code",
   "execution_count": 6,
   "metadata": {},
   "outputs": [
    {
     "data": {
      "text/plain": [
       "6"
      ]
     },
     "execution_count": 6,
     "metadata": {},
     "output_type": "execute_result"
    }
   ],
   "source": [
    "def fix_teen(n):\n",
    "  if n>=13 and n<=19:\n",
    "    if n==15 or n==16:\n",
    "      return n\n",
    "    else:\n",
    "      return 0\n",
    "  else:\n",
    "    return n\n",
    "    \n",
    "def no_teen_sum(a, b, c):\n",
    "  a1=fix_teen(a)\n",
    "  b1=fix_teen(b)\n",
    "  c1=fix_teen(c)\n",
    "  return a1+b1+c1\n",
    "no_teen_sum(1, 2, 3)"
   ]
  },
  {
   "cell_type": "markdown",
   "metadata": {},
   "source": [
    "## round_sum\n",
    "### For this problem, we'll round an int value up to the next multiple of 10 if its rightmost digit is 5 or more, so 15 rounds up to 20. Alternately, round down to the previous multiple of 10 if its rightmost digit is less than 5, so 12 rounds down to 10. Given 3 ints, a b c, return the sum of their rounded values. To avoid code repetition, write a separate helper \"def round10(num):\" and call it 3 times. Write the helper entirely below and at the same indent level as round_sum()."
   ]
  },
  {
   "cell_type": "code",
   "execution_count": 9,
   "metadata": {},
   "outputs": [
    {
     "name": "stdout",
     "output_type": "stream",
     "text": [
      "16\n",
      "17\n",
      "18\n",
      "60\n"
     ]
    }
   ],
   "source": [
    "def round10(num): \n",
    "  if num % 10 >= 5:\n",
    "    return num // 10 * 10 + 10\n",
    "  elif num % 10 < 5:\n",
    "    return num // 10 * 10\n",
    "  else:\n",
    "    return num\n",
    "\n",
    "a = int(input())\n",
    "b = int(input())\n",
    "c = int(input())\n",
    "a1=round10(a)\n",
    "b1=round10(b)\n",
    "c1=round10(c)\n",
    "print(a1+b1+c1)"
   ]
  },
  {
   "cell_type": "code",
   "execution_count": 8,
   "metadata": {},
   "outputs": [
    {
     "data": {
      "text/plain": [
       "60"
      ]
     },
     "execution_count": 8,
     "metadata": {},
     "output_type": "execute_result"
    }
   ],
   "source": [
    "def round10(num): \n",
    "  if num % 10 >= 5:\n",
    "    return num // 10 * 10 + 10\n",
    "  elif num % 10 < 5:\n",
    "    return num // 10 * 10\n",
    "  else:\n",
    "    return num\n",
    "  \n",
    "def round_sum(a, b, c):\n",
    "  a1=round10(a)\n",
    "  b1=round10(b)\n",
    "  c1=round10(c)\n",
    "  return a1+b1+c1\n",
    "  \n",
    "round_sum(16, 17, 18)"
   ]
  },
  {
   "cell_type": "markdown",
   "metadata": {},
   "source": [
    "## close_far\n",
    "### Given three ints, a b c, return True if one of b or c is \"close\" (differing from a by at most 1), while the other is \"far\", differing from both other values by 2 or more. Note: abs(num) computes the absolute value of a number."
   ]
  },
  {
   "cell_type": "code",
   "execution_count": 11,
   "metadata": {},
   "outputs": [
    {
     "name": "stdout",
     "output_type": "stream",
     "text": [
      "1\n",
      "2\n",
      "3\n",
      "False\n"
     ]
    }
   ],
   "source": [
    "a = int(input())\n",
    "b = int(input())\n",
    "c = int(input())\n",
    "if abs(a-b) <=1 and abs(a-c) >= 2 and abs(b-c) >= 2:\n",
    "    print(True)\n",
    "elif abs(a-c) <=1 and abs(a-b) >= 2 and abs(b-c) >= 2:\n",
    "    print(True)\n",
    "else:\n",
    "    print(False)"
   ]
  },
  {
   "cell_type": "code",
   "execution_count": 10,
   "metadata": {},
   "outputs": [
    {
     "data": {
      "text/plain": [
       "True"
      ]
     },
     "execution_count": 10,
     "metadata": {},
     "output_type": "execute_result"
    }
   ],
   "source": [
    "def close_far(a, b, c):\n",
    "  if abs(a-b) <=1 and abs(a-c) >= 2 and abs(b-c) >= 2:\n",
    "    return True\n",
    "  elif abs(a-c) <=1 and abs(a-b) >= 2 and abs(b-c) >= 2:\n",
    "    return True\n",
    "  else:\n",
    "    return False\n",
    "close_far(1, 2, 10)"
   ]
  },
  {
   "cell_type": "markdown",
   "metadata": {},
   "source": [
    "## make_chocolate\n",
    "### We want make a package of goal kilos of chocolate. We have small bars (1 kilo each) and big bars (5 kilos each). Return the number of small bars to use, assuming we always use big bars before small bars. Return -1 if it can't be done."
   ]
  },
  {
   "cell_type": "raw",
   "metadata": {},
   "source": [
    "make_chocolate(4, 1, 9) → 4\n",
    "make_chocolate(4, 1, 10) → -1\n",
    "make_chocolate(4, 1, 7) → 2"
   ]
  },
  {
   "cell_type": "code",
   "execution_count": 4,
   "metadata": {},
   "outputs": [
    {
     "name": "stdout",
     "output_type": "stream",
     "text": [
      "2\n"
     ]
    }
   ],
   "source": [
    "sm = 4\n",
    "bg = 1\n",
    "gl = 7\n",
    "\n",
    "if gl > sm+bg*5:\n",
    "    print(-1)\n",
    "else:\n",
    "    print(gl-bg*5)"
   ]
  },
  {
   "cell_type": "code",
   "execution_count": null,
   "metadata": {},
   "outputs": [],
   "source": []
  }
 ],
 "metadata": {
  "kernelspec": {
   "display_name": "Python 3",
   "language": "python",
   "name": "python3"
  },
  "language_info": {
   "codemirror_mode": {
    "name": "ipython",
    "version": 3
   },
   "file_extension": ".py",
   "mimetype": "text/x-python",
   "name": "python",
   "nbconvert_exporter": "python",
   "pygments_lexer": "ipython3",
   "version": "3.8.5"
  }
 },
 "nbformat": 4,
 "nbformat_minor": 4
}
