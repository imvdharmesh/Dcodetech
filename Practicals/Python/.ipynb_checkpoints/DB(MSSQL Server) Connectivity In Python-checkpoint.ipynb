{
 "cells": [
  {
   "cell_type": "code",
   "execution_count": 22,
   "id": "4de4624c",
   "metadata": {},
   "outputs": [],
   "source": [
    "#!pip install pyodbc"
   ]
  },
  {
   "cell_type": "code",
   "execution_count": 1,
   "id": "38d9b632",
   "metadata": {},
   "outputs": [],
   "source": [
    "import pyodbc"
   ]
  },
  {
   "cell_type": "code",
   "execution_count": 7,
   "id": "a992fb84",
   "metadata": {},
   "outputs": [
    {
     "name": "stdout",
     "output_type": "stream",
     "text": [
      "(1, 'dharmesh', 'dharmesh123', 'dharmesh123@gmail.com.com', 'Dharmesh Vishwakarma', 'Admin')\n",
      "(2, 'shraddha', 'shraddha1', 'shraddha@gmail.com', 'Shraddha Hajare', 'User')\n",
      "(3, 'imvdharmesh', 'hidharmesh', 'dharmeshvishwakarma2000@gmail.com', 'Vishwakarma Dharmesh', 'User')\n",
      "(4, 'admin', 'admin123', 'dharmeshvishwakarma2000@gmail.com', 'Admin Admin', 'Admin')\n",
      "(1007, 'dharmesh', 'dharmesh123', 'dharmeshvishwakarma2000@gmail.com', 'Dharmesh Vishwakarma', 'User')\n"
     ]
    }
   ],
   "source": [
    "conn = pyodbc.connect('Driver={SQL Server};'\n",
    "                      'Server=DHARMESH;'\n",
    "                      'Database=MyBookStore;'\n",
    "                      'Trusted_Connection= yes;')\n",
    "cur = conn.cursor()\n",
    "res = cur.execute('SELECT * FROM tblUsers;')\n",
    "\n",
    "for data in res:\n",
    "    print(data)\n",
    "    \n",
    "cur.close()\n",
    "conn.close()"
   ]
  },
  {
   "cell_type": "code",
   "execution_count": 8,
   "id": "9634beb5",
   "metadata": {},
   "outputs": [
    {
     "ename": "ProgrammingError",
     "evalue": "Attempt to use a closed cursor.",
     "output_type": "error",
     "traceback": [
      "\u001b[1;31m-------------------------------------------------\u001b[0m",
      "\u001b[1;31mProgrammingError\u001b[0mTraceback (most recent call last)",
      "\u001b[1;32m<ipython-input-8-b185cea6fd9b>\u001b[0m in \u001b[0;36m<module>\u001b[1;34m\u001b[0m\n\u001b[1;32m----> 1\u001b[1;33m \u001b[1;32mfor\u001b[0m \u001b[0mdata\u001b[0m \u001b[1;32min\u001b[0m \u001b[0mres\u001b[0m\u001b[1;33m:\u001b[0m\u001b[1;33m\u001b[0m\u001b[1;33m\u001b[0m\u001b[0m\n\u001b[0m\u001b[0;32m      2\u001b[0m     \u001b[0mprint\u001b[0m\u001b[1;33m(\u001b[0m\u001b[0mdata\u001b[0m\u001b[1;33m)\u001b[0m\u001b[1;33m\u001b[0m\u001b[1;33m\u001b[0m\u001b[0m\n",
      "\u001b[1;31mProgrammingError\u001b[0m: Attempt to use a closed cursor."
     ]
    }
   ],
   "source": [
    "for data in res:\n",
    "    print(data)"
   ]
  },
  {
   "cell_type": "code",
   "execution_count": null,
   "id": "6eedd17e",
   "metadata": {},
   "outputs": [],
   "source": []
  }
 ],
 "metadata": {
  "kernelspec": {
   "display_name": "Python 3",
   "language": "python",
   "name": "python3"
  },
  "language_info": {
   "codemirror_mode": {
    "name": "ipython",
    "version": 3
   },
   "file_extension": ".py",
   "mimetype": "text/x-python",
   "name": "python",
   "nbconvert_exporter": "python",
   "pygments_lexer": "ipython3",
   "version": "3.8.8"
  }
 },
 "nbformat": 4,
 "nbformat_minor": 5
}
