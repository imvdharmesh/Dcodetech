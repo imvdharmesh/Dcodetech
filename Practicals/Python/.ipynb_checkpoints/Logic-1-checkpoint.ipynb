{
 "cells": [
  {
   "cell_type": "markdown",
   "metadata": {},
   "source": [
    "# Basic boolean logic puzzles -- if else and or not."
   ]
  },
  {
   "cell_type": "markdown",
   "metadata": {},
   "source": [
    "## cigar_party\n",
    "### When squirrels get together for a party, they like to have cigars. A squirrel party is successful when the number of cigars is between 40 and 60, inclusive. Unless it is the weekend, in which case there is no upper bound on the number of cigars. Return True if the party with the given values is successful, or False otherwise."
   ]
  },
  {
   "cell_type": "code",
   "execution_count": 55,
   "metadata": {},
   "outputs": [
    {
     "name": "stdout",
     "output_type": "stream",
     "text": [
      "30\n",
      "wd\n",
      "False\n"
     ]
    }
   ],
   "source": [
    "cig = int(input())\n",
    "day = input()\n",
    "if(day == 'wd' and cig >=40 and cig<=60):\n",
    "    print(\"True\")\n",
    "elif(day == 'we' and cig >=40):\n",
    "    print(\"True\")\n",
    "else:\n",
    "    print(\"False\")"
   ]
  },
  {
   "cell_type": "code",
   "execution_count": 53,
   "metadata": {},
   "outputs": [
    {
     "data": {
      "text/plain": [
       "False"
      ]
     },
     "execution_count": 53,
     "metadata": {},
     "output_type": "execute_result"
    }
   ],
   "source": [
    "def cigar_party(cigars, is_weekend):\n",
    "  if(is_weekend == False and cigars >=40 and cigars <=60):\n",
    "    return True\n",
    "  elif(is_weekend == True and cigars >=40):\n",
    "    return True\n",
    "  else:\n",
    "    return False\n",
    "cigar_party(30,False)"
   ]
  },
  {
   "cell_type": "markdown",
   "metadata": {},
   "source": [
    "## date_fashion\n",
    "### You and your date are trying to get a table at a restaurant. The parameter \"you\" is the stylishness of your clothes, in the range 0..10, and \"date\" is the stylishness of your date's clothes. The result getting the table is encoded as an int value with 0=no, 1=maybe, 2=yes. If either of you is very stylish, 8 or more, then the result is 2 (yes). With the exception that if either of you has style of 2 or less, then the result is 0 (no). Otherwise the result is 1 (maybe). "
   ]
  },
  {
   "cell_type": "code",
   "execution_count": 59,
   "metadata": {},
   "outputs": [
    {
     "name": "stdout",
     "output_type": "stream",
     "text": [
      "5\n",
      "5\n",
      "1 maybe\n"
     ]
    }
   ],
   "source": [
    "you = int(input())\n",
    "date = int(input())\n",
    "if(you >= 8 and date > 2) or (you > 2 and date >= 8):\n",
    "    print(\"2 yes\")\n",
    "elif(you <= 2 or date <= 2):\n",
    "    print(\"0 no\")\n",
    "else:\n",
    "    print(\"1 maybe\") "
   ]
  },
  {
   "cell_type": "code",
   "execution_count": 58,
   "metadata": {},
   "outputs": [
    {
     "data": {
      "text/plain": [
       "2"
      ]
     },
     "execution_count": 58,
     "metadata": {},
     "output_type": "execute_result"
    }
   ],
   "source": [
    "def date_fashion(you, date):\n",
    "  if(you >= 8 and date > 2) or (you > 2 and date >= 8):\n",
    "    return 2\n",
    "  elif you <= 2 or date <= 2:\n",
    "    return 0\n",
    "  else:\n",
    "    return 1\n",
    "date_fashion(5, 10)"
   ]
  },
  {
   "cell_type": "markdown",
   "metadata": {},
   "source": [
    "## squirrel_play\n",
    "### The squirrels in Palo Alto spend most of the day playing. In particular, they play if the temperature is between 60 and 90 (inclusive). Unless it is summer, then the upper limit is 100 instead of 90. Given an int temperature and a boolean is_summer, return True if the squirrels play and False otherwise."
   ]
  },
  {
   "cell_type": "code",
   "execution_count": 65,
   "metadata": {},
   "outputs": [
    {
     "name": "stdout",
     "output_type": "stream",
     "text": [
      "70\n",
      "no\n",
      "Play\n"
     ]
    }
   ],
   "source": [
    "temp = int(input())\n",
    "is_sum = input()\n",
    "if(is_sum == 'no' and temp >= 60 and temp <= 90):\n",
    "    print(\"Play\")\n",
    "elif(is_sum == 'yes' and temp >= 60 and temp <= 100):\n",
    "    print(\"Play\")\n",
    "else:\n",
    "    print(\"Not to Play\")"
   ]
  },
  {
   "cell_type": "code",
   "execution_count": 66,
   "metadata": {},
   "outputs": [
    {
     "data": {
      "text/plain": [
       "True"
      ]
     },
     "execution_count": 66,
     "metadata": {},
     "output_type": "execute_result"
    }
   ],
   "source": [
    "def squirrel_play(temp, is_summer):\n",
    "  if(is_summer == False and temp >= 60 and temp <= 90):\n",
    "    return True\n",
    "  elif(is_summer == True and temp >= 60 and temp <= 100):\n",
    "    return True\n",
    "  else:\n",
    "    return False\n",
    "squirrel_play(70, False)"
   ]
  },
  {
   "cell_type": "markdown",
   "metadata": {},
   "source": [
    "## caught_speeding\n",
    "### You are driving a little too fast, and a police officer stops you. Write code to compute the result, encoded as an int value: 0=no ticket, 1=small ticket, 2=big ticket. If speed is 60 or less, the result is 0. If speed is between 61 and 80 inclusive, the result is 1. If speed is 81 or more, the result is 2. Unless it is your birthday -- on that day, your speed can be 5 higher in all cases."
   ]
  },
  {
   "cell_type": "code",
   "execution_count": 71,
   "metadata": {},
   "outputs": [
    {
     "name": "stdout",
     "output_type": "stream",
     "text": [
      "65\n",
      "yes\n",
      "no ticket\n"
     ]
    }
   ],
   "source": [
    "speed = int(input())\n",
    "is_birthday = input()\n",
    "if is_birthday == 'no':\n",
    "    if speed <= 60:\n",
    "        print(\"no ticket\")\n",
    "    elif speed >= 61 and speed <=80:\n",
    "        print(\"small ticket\")\n",
    "    else:\n",
    "        print(\"big ticket\")\n",
    "elif is_birthday == 'yes':\n",
    "    if speed <= 65:\n",
    "        print(\"no ticket\")\n",
    "    elif speed >= 66 and speed <=85:\n",
    "        print(\"small ticket\")\n",
    "    else:\n",
    "        print(\"big ticket\")"
   ]
  },
  {
   "cell_type": "code",
   "execution_count": 69,
   "metadata": {},
   "outputs": [
    {
     "data": {
      "text/plain": [
       "0"
      ]
     },
     "execution_count": 69,
     "metadata": {},
     "output_type": "execute_result"
    }
   ],
   "source": [
    "def caught_speeding(speed, is_birthday):\n",
    "  if is_birthday == False:\n",
    "    if speed <= 60:\n",
    "      return 0\n",
    "    elif speed >= 61 and speed <=80:\n",
    "      return 1\n",
    "    else:\n",
    "      return 2\n",
    "  elif is_birthday == True:\n",
    "    if speed <= 65:\n",
    "      return 0\n",
    "    elif speed >= 66 and speed <=85:\n",
    "      return 1\n",
    "    else:\n",
    "      return 2\n",
    "caught_speeding(65, True)"
   ]
  },
  {
   "cell_type": "markdown",
   "metadata": {},
   "source": [
    "## sorta_sum\n",
    "### Given 2 ints, a and b, return their sum. However, sums in the range 10..19 inclusive, are forbidden, so in that case just return 20."
   ]
  },
  {
   "cell_type": "code",
   "execution_count": 2,
   "metadata": {},
   "outputs": [
    {
     "name": "stdin",
     "output_type": "stream",
     "text": [
      "Number 1: 9\n",
      "Number 2: 0\n"
     ]
    },
    {
     "name": "stdout",
     "output_type": "stream",
     "text": [
      "9\n"
     ]
    }
   ],
   "source": [
    "num1 = int(input(\"Number 1:\"))\n",
    "num2 = int(input(\"Number 2:\"))\n",
    "res = num1 + num2\n",
    "\n",
    "if(res >= 10 and res <= 19):\n",
    "    print(20)\n",
    "else:\n",
    "    print(res)"
   ]
  },
  {
   "cell_type": "code",
   "execution_count": 6,
   "metadata": {},
   "outputs": [
    {
     "data": {
      "text/plain": [
       "21"
      ]
     },
     "execution_count": 6,
     "metadata": {},
     "output_type": "execute_result"
    }
   ],
   "source": [
    "def sort_sum(a, b):\n",
    "    res = a + b\n",
    "    if(res >= 10 and res <= 19):\n",
    "        return 20\n",
    "    else:\n",
    "        return res\n",
    "\n",
    "sort_sum(10,11)"
   ]
  },
  {
   "cell_type": "markdown",
   "metadata": {},
   "source": [
    "## alarm_ clock\n",
    "### Given a day of the week encoded as 0=Sun, 1=Mon, 2=Tue, ...6=Sat, and a boolean indicating if we are on vacation, return a string of the form \"7:00\" indicating when the alarm clock should ring. Weekdays, the alarm should be \"7:00\" and on the weekend it should be \"10:00\". Unless we are on vacation -- then on weekdays it should be \"10:00\" and weekends it should be \"off\"."
   ]
  },
  {
   "cell_type": "code",
   "execution_count": 42,
   "metadata": {},
   "outputs": [
    {
     "name": "stdout",
     "output_type": "stream",
     "text": [
      "Enter between 0-6:1\n",
      "yes for vacation otherwise no:no\n",
      "7:00\n"
     ]
    }
   ],
   "source": [
    "day = int(input(\"Enter between 0-6:\"))\n",
    "vac = input(\"yes for vacation otherwise no:\")\n",
    "if(vac == 'no'):\n",
    "    if(day == 1 or day == 2 or day == 3 or day == 4 or day == 5):\n",
    "        print(\"7:00\")\n",
    "    elif(day == 0 or day == 6):\n",
    "        print(\"10:00\")\n",
    "elif(vac == 'yes'):\n",
    "    if(day == 1 or day == 2 or day == 3 or day == 4 or day == 5):\n",
    "        print(\"10:00\")\n",
    "    elif(day == 0 or day == 6):\n",
    "        print(\"off\")"
   ]
  },
  {
   "cell_type": "code",
   "execution_count": 41,
   "metadata": {},
   "outputs": [
    {
     "data": {
      "text/plain": [
       "'7:00'"
      ]
     },
     "execution_count": 41,
     "metadata": {},
     "output_type": "execute_result"
    }
   ],
   "source": [
    "def alarm_clock(day, vacation):\n",
    "  if(vacation == False):\n",
    "    if(day == 1 or day == 2 or day == 3 or day == 4 or day == 5):\n",
    "      return \"7:00\"\n",
    "    elif(day == 0 or day == 6):\n",
    "      return \"10:00\"\n",
    "  elif(vacation == True):\n",
    "    if(day == 1 or day == 2 or day == 3 or day == 4 or day == 5):\n",
    "      return \"10:00\"\n",
    "    elif(day == 0 or day == 6):\n",
    "      return \"off\"\n",
    "alarm_clock(1,False)"
   ]
  },
  {
   "cell_type": "markdown",
   "metadata": {},
   "source": [
    "## love6\n",
    "### The number 6 is a truly great number. Given two int values, a and b, return True if either one is 6. Or if their sum or difference is 6. Note: the function abs(num) computes the absolute value of a number."
   ]
  },
  {
   "cell_type": "code",
   "execution_count": 16,
   "metadata": {},
   "outputs": [
    {
     "name": "stdout",
     "output_type": "stream",
     "text": [
      "4\n",
      "4\n",
      "False\n"
     ]
    }
   ],
   "source": [
    "a = int(input())\n",
    "b = int(input())\n",
    "s = a+b\n",
    "d = a-b\n",
    "if(a == 6 or b == 6 or s == 6 or abs(d) == 6):\n",
    "    print(\"True\")\n",
    "else:\n",
    "    print(\"False\")"
   ]
  },
  {
   "cell_type": "code",
   "execution_count": 43,
   "metadata": {},
   "outputs": [
    {
     "data": {
      "text/plain": [
       "True"
      ]
     },
     "execution_count": 43,
     "metadata": {},
     "output_type": "execute_result"
    }
   ],
   "source": [
    "def love6(a, b):\n",
    "  s = a+b\n",
    "  d = a-b\n",
    "  if(a == 6 or b == 6 or s == 6 or abs(d) == 6):\n",
    "    return True\n",
    "  else:\n",
    "    return False\n",
    "love6(6,4)"
   ]
  },
  {
   "cell_type": "markdown",
   "metadata": {},
   "source": [
    "## in1to10\n",
    "### Given a number n, return True if n is in the range 1..10, inclusive. Unless outside_mode is True, in which case return True if the number is less or equal to 1, or greater or equal to 10."
   ]
  },
  {
   "cell_type": "code",
   "execution_count": 40,
   "metadata": {},
   "outputs": [
    {
     "name": "stdout",
     "output_type": "stream",
     "text": [
      "11\n",
      "yes\n",
      "True\n"
     ]
    }
   ],
   "source": [
    "n = int(input())\n",
    "outside_mode = input()\n",
    "if(n in range(1,11) and outside_mode == 'no'):\n",
    "    print(\"True\")\n",
    "elif(outside_mode == 'yes'):\n",
    "    if(n<=1 or n>=10):\n",
    "        print(\"True\")\n",
    "    else:\n",
    "        print(\"False\")\n",
    "else:\n",
    "    print(\"False\")"
   ]
  },
  {
   "cell_type": "code",
   "execution_count": 35,
   "metadata": {},
   "outputs": [
    {
     "data": {
      "text/plain": [
       "True"
      ]
     },
     "execution_count": 35,
     "metadata": {},
     "output_type": "execute_result"
    }
   ],
   "source": [
    "def in1to10(n, outside_mode):\n",
    "    if n in range(1,11) and outside_mode == False:\n",
    "        return True\n",
    "    elif(outside_mode == True):\n",
    "        if(n<=1 or n>=10):\n",
    "            return True\n",
    "        else:\n",
    "            return False\n",
    "    else:\n",
    "        return False\n",
    "in1to10(11,True)"
   ]
  },
  {
   "cell_type": "markdown",
   "metadata": {},
   "source": [
    "##  near_ten\n",
    "### Given a non-negative number \"num\", return True if num is within 2 of a multiple of 10. Note: (a % b) is the remainder of dividing a by b, so (7 % 5) is 2. "
   ]
  },
  {
   "cell_type": "code",
   "execution_count": 51,
   "metadata": {},
   "outputs": [
    {
     "name": "stdout",
     "output_type": "stream",
     "text": [
      "17\n",
      "False\n"
     ]
    }
   ],
   "source": [
    "num = int(input())\n",
    "if(num%10==0 or num%10 <= 2 or num%10 >=8):\n",
    "    print(True)\n",
    "else:\n",
    "    print(False)"
   ]
  },
  {
   "cell_type": "code",
   "execution_count": 49,
   "metadata": {},
   "outputs": [
    {
     "data": {
      "text/plain": [
       "False"
      ]
     },
     "execution_count": 49,
     "metadata": {},
     "output_type": "execute_result"
    }
   ],
   "source": [
    "def near_ten(num):\n",
    "  if(num%10==0 or num%10 <= 2 or num%10 >=8):\n",
    "    return True\n",
    "  else:\n",
    "    return False\n",
    "near_ten(17)"
   ]
  },
  {
   "cell_type": "code",
   "execution_count": null,
   "metadata": {},
   "outputs": [],
   "source": []
  }
 ],
 "metadata": {
  "kernelspec": {
   "display_name": "Python 3",
   "language": "python",
   "name": "python3"
  },
  "language_info": {
   "codemirror_mode": {
    "name": "ipython",
    "version": 3
   },
   "file_extension": ".py",
   "mimetype": "text/x-python",
   "name": "python",
   "nbconvert_exporter": "python",
   "pygments_lexer": "ipython3",
   "version": "3.8.5"
  }
 },
 "nbformat": 4,
 "nbformat_minor": 4
}
