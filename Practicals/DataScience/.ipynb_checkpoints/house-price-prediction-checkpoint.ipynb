{
 "cells": [
  {
   "cell_type": "markdown",
   "id": "731e95d2",
   "metadata": {},
   "source": [
    "## House Price Prediction"
   ]
  },
  {
   "cell_type": "code",
   "execution_count": 1,
   "id": "33bbe0f9",
   "metadata": {},
   "outputs": [],
   "source": [
    "import numpy as np\n",
    "import pandas as pd\n",
    "import matplotlib.pyplot as plt\n",
    "import seaborn as sns\n",
    "\n",
    "import warnings\n",
    "warnings.filterwarnings('ignore')"
   ]
  },
  {
   "cell_type": "code",
   "execution_count": 2,
   "id": "76064080",
   "metadata": {},
   "outputs": [],
   "source": [
    "df = pd.read_csv('Housing.csv')"
   ]
  },
  {
   "cell_type": "code",
   "execution_count": 3,
   "id": "444c7a22",
   "metadata": {},
   "outputs": [
    {
     "data": {
      "text/html": [
       "<div>\n",
       "<style scoped>\n",
       "    .dataframe tbody tr th:only-of-type {\n",
       "        vertical-align: middle;\n",
       "    }\n",
       "\n",
       "    .dataframe tbody tr th {\n",
       "        vertical-align: top;\n",
       "    }\n",
       "\n",
       "    .dataframe thead th {\n",
       "        text-align: right;\n",
       "    }\n",
       "</style>\n",
       "<table border=\"1\" class=\"dataframe\">\n",
       "  <thead>\n",
       "    <tr style=\"text-align: right;\">\n",
       "      <th></th>\n",
       "      <th>price</th>\n",
       "      <th>area</th>\n",
       "      <th>bedrooms</th>\n",
       "      <th>bathrooms</th>\n",
       "      <th>stories</th>\n",
       "      <th>mainroad</th>\n",
       "      <th>guestroom</th>\n",
       "      <th>basement</th>\n",
       "      <th>hotwaterheating</th>\n",
       "      <th>airconditioning</th>\n",
       "      <th>parking</th>\n",
       "      <th>prefarea</th>\n",
       "      <th>furnishingstatus</th>\n",
       "    </tr>\n",
       "  </thead>\n",
       "  <tbody>\n",
       "    <tr>\n",
       "      <th>0</th>\n",
       "      <td>13300000</td>\n",
       "      <td>7420</td>\n",
       "      <td>4</td>\n",
       "      <td>2</td>\n",
       "      <td>3</td>\n",
       "      <td>yes</td>\n",
       "      <td>no</td>\n",
       "      <td>no</td>\n",
       "      <td>no</td>\n",
       "      <td>yes</td>\n",
       "      <td>2</td>\n",
       "      <td>yes</td>\n",
       "      <td>furnished</td>\n",
       "    </tr>\n",
       "    <tr>\n",
       "      <th>1</th>\n",
       "      <td>12250000</td>\n",
       "      <td>8960</td>\n",
       "      <td>4</td>\n",
       "      <td>4</td>\n",
       "      <td>4</td>\n",
       "      <td>yes</td>\n",
       "      <td>no</td>\n",
       "      <td>no</td>\n",
       "      <td>no</td>\n",
       "      <td>yes</td>\n",
       "      <td>3</td>\n",
       "      <td>no</td>\n",
       "      <td>furnished</td>\n",
       "    </tr>\n",
       "    <tr>\n",
       "      <th>2</th>\n",
       "      <td>12250000</td>\n",
       "      <td>9960</td>\n",
       "      <td>3</td>\n",
       "      <td>2</td>\n",
       "      <td>2</td>\n",
       "      <td>yes</td>\n",
       "      <td>no</td>\n",
       "      <td>yes</td>\n",
       "      <td>no</td>\n",
       "      <td>no</td>\n",
       "      <td>2</td>\n",
       "      <td>yes</td>\n",
       "      <td>semi-furnished</td>\n",
       "    </tr>\n",
       "    <tr>\n",
       "      <th>3</th>\n",
       "      <td>12215000</td>\n",
       "      <td>7500</td>\n",
       "      <td>4</td>\n",
       "      <td>2</td>\n",
       "      <td>2</td>\n",
       "      <td>yes</td>\n",
       "      <td>no</td>\n",
       "      <td>yes</td>\n",
       "      <td>no</td>\n",
       "      <td>yes</td>\n",
       "      <td>3</td>\n",
       "      <td>yes</td>\n",
       "      <td>furnished</td>\n",
       "    </tr>\n",
       "    <tr>\n",
       "      <th>4</th>\n",
       "      <td>11410000</td>\n",
       "      <td>7420</td>\n",
       "      <td>4</td>\n",
       "      <td>1</td>\n",
       "      <td>2</td>\n",
       "      <td>yes</td>\n",
       "      <td>yes</td>\n",
       "      <td>yes</td>\n",
       "      <td>no</td>\n",
       "      <td>yes</td>\n",
       "      <td>2</td>\n",
       "      <td>no</td>\n",
       "      <td>furnished</td>\n",
       "    </tr>\n",
       "  </tbody>\n",
       "</table>\n",
       "</div>"
      ],
      "text/plain": [
       "      price  area  bedrooms  bathrooms  stories mainroad guestroom basement  \\\n",
       "0  13300000  7420         4          2        3      yes        no       no   \n",
       "1  12250000  8960         4          4        4      yes        no       no   \n",
       "2  12250000  9960         3          2        2      yes        no      yes   \n",
       "3  12215000  7500         4          2        2      yes        no      yes   \n",
       "4  11410000  7420         4          1        2      yes       yes      yes   \n",
       "\n",
       "  hotwaterheating airconditioning  parking prefarea furnishingstatus  \n",
       "0              no             yes        2      yes        furnished  \n",
       "1              no             yes        3       no        furnished  \n",
       "2              no              no        2      yes   semi-furnished  \n",
       "3              no             yes        3      yes        furnished  \n",
       "4              no             yes        2       no        furnished  "
      ]
     },
     "execution_count": 3,
     "metadata": {},
     "output_type": "execute_result"
    }
   ],
   "source": [
    "df.head()"
   ]
  },
  {
   "cell_type": "code",
   "execution_count": 4,
   "id": "7ff3c052",
   "metadata": {},
   "outputs": [
    {
     "name": "stdout",
     "output_type": "stream",
     "text": [
      "<class 'pandas.core.frame.DataFrame'>\n",
      "RangeIndex: 545 entries, 0 to 544\n",
      "Data columns (total 13 columns):\n",
      " #   Column            Non-Null Count  Dtype \n",
      "---  ------            --------------  ----- \n",
      " 0   price             545 non-null    int64 \n",
      " 1   area              545 non-null    int64 \n",
      " 2   bedrooms          545 non-null    int64 \n",
      " 3   bathrooms         545 non-null    int64 \n",
      " 4   stories           545 non-null    int64 \n",
      " 5   mainroad          545 non-null    object\n",
      " 6   guestroom         545 non-null    object\n",
      " 7   basement          545 non-null    object\n",
      " 8   hotwaterheating   545 non-null    object\n",
      " 9   airconditioning   545 non-null    object\n",
      " 10  parking           545 non-null    int64 \n",
      " 11  prefarea          545 non-null    object\n",
      " 12  furnishingstatus  545 non-null    object\n",
      "dtypes: int64(6), object(7)\n",
      "memory usage: 55.5+ KB\n"
     ]
    }
   ],
   "source": [
    "df.info()"
   ]
  },
  {
   "cell_type": "code",
   "execution_count": 5,
   "id": "e2c0f9b2",
   "metadata": {},
   "outputs": [
    {
     "data": {
      "text/html": [
       "<div>\n",
       "<style scoped>\n",
       "    .dataframe tbody tr th:only-of-type {\n",
       "        vertical-align: middle;\n",
       "    }\n",
       "\n",
       "    .dataframe tbody tr th {\n",
       "        vertical-align: top;\n",
       "    }\n",
       "\n",
       "    .dataframe thead th {\n",
       "        text-align: right;\n",
       "    }\n",
       "</style>\n",
       "<table border=\"1\" class=\"dataframe\">\n",
       "  <thead>\n",
       "    <tr style=\"text-align: right;\">\n",
       "      <th></th>\n",
       "      <th>price</th>\n",
       "      <th>area</th>\n",
       "      <th>bedrooms</th>\n",
       "      <th>bathrooms</th>\n",
       "      <th>stories</th>\n",
       "      <th>parking</th>\n",
       "    </tr>\n",
       "  </thead>\n",
       "  <tbody>\n",
       "    <tr>\n",
       "      <th>count</th>\n",
       "      <td>5.450000e+02</td>\n",
       "      <td>545.000000</td>\n",
       "      <td>545.000000</td>\n",
       "      <td>545.000000</td>\n",
       "      <td>545.000000</td>\n",
       "      <td>545.000000</td>\n",
       "    </tr>\n",
       "    <tr>\n",
       "      <th>mean</th>\n",
       "      <td>4.766729e+06</td>\n",
       "      <td>5150.541284</td>\n",
       "      <td>2.965138</td>\n",
       "      <td>1.286239</td>\n",
       "      <td>1.805505</td>\n",
       "      <td>0.693578</td>\n",
       "    </tr>\n",
       "    <tr>\n",
       "      <th>std</th>\n",
       "      <td>1.870440e+06</td>\n",
       "      <td>2170.141023</td>\n",
       "      <td>0.738064</td>\n",
       "      <td>0.502470</td>\n",
       "      <td>0.867492</td>\n",
       "      <td>0.861586</td>\n",
       "    </tr>\n",
       "    <tr>\n",
       "      <th>min</th>\n",
       "      <td>1.750000e+06</td>\n",
       "      <td>1650.000000</td>\n",
       "      <td>1.000000</td>\n",
       "      <td>1.000000</td>\n",
       "      <td>1.000000</td>\n",
       "      <td>0.000000</td>\n",
       "    </tr>\n",
       "    <tr>\n",
       "      <th>25%</th>\n",
       "      <td>3.430000e+06</td>\n",
       "      <td>3600.000000</td>\n",
       "      <td>2.000000</td>\n",
       "      <td>1.000000</td>\n",
       "      <td>1.000000</td>\n",
       "      <td>0.000000</td>\n",
       "    </tr>\n",
       "    <tr>\n",
       "      <th>50%</th>\n",
       "      <td>4.340000e+06</td>\n",
       "      <td>4600.000000</td>\n",
       "      <td>3.000000</td>\n",
       "      <td>1.000000</td>\n",
       "      <td>2.000000</td>\n",
       "      <td>0.000000</td>\n",
       "    </tr>\n",
       "    <tr>\n",
       "      <th>75%</th>\n",
       "      <td>5.740000e+06</td>\n",
       "      <td>6360.000000</td>\n",
       "      <td>3.000000</td>\n",
       "      <td>2.000000</td>\n",
       "      <td>2.000000</td>\n",
       "      <td>1.000000</td>\n",
       "    </tr>\n",
       "    <tr>\n",
       "      <th>max</th>\n",
       "      <td>1.330000e+07</td>\n",
       "      <td>16200.000000</td>\n",
       "      <td>6.000000</td>\n",
       "      <td>4.000000</td>\n",
       "      <td>4.000000</td>\n",
       "      <td>3.000000</td>\n",
       "    </tr>\n",
       "  </tbody>\n",
       "</table>\n",
       "</div>"
      ],
      "text/plain": [
       "              price          area    bedrooms   bathrooms     stories  \\\n",
       "count  5.450000e+02    545.000000  545.000000  545.000000  545.000000   \n",
       "mean   4.766729e+06   5150.541284    2.965138    1.286239    1.805505   \n",
       "std    1.870440e+06   2170.141023    0.738064    0.502470    0.867492   \n",
       "min    1.750000e+06   1650.000000    1.000000    1.000000    1.000000   \n",
       "25%    3.430000e+06   3600.000000    2.000000    1.000000    1.000000   \n",
       "50%    4.340000e+06   4600.000000    3.000000    1.000000    2.000000   \n",
       "75%    5.740000e+06   6360.000000    3.000000    2.000000    2.000000   \n",
       "max    1.330000e+07  16200.000000    6.000000    4.000000    4.000000   \n",
       "\n",
       "          parking  \n",
       "count  545.000000  \n",
       "mean     0.693578  \n",
       "std      0.861586  \n",
       "min      0.000000  \n",
       "25%      0.000000  \n",
       "50%      0.000000  \n",
       "75%      1.000000  \n",
       "max      3.000000  "
      ]
     },
     "execution_count": 5,
     "metadata": {},
     "output_type": "execute_result"
    }
   ],
   "source": [
    "df.describe()"
   ]
  },
  {
   "cell_type": "code",
   "execution_count": 12,
   "id": "e8f7339a",
   "metadata": {},
   "outputs": [
    {
     "data": {
      "text/plain": [
       "<AxesSubplot:xlabel='bedrooms', ylabel='count'>"
      ]
     },
     "execution_count": 12,
     "metadata": {},
     "output_type": "execute_result"
    },
    {
     "data": {
      "image/png": "[encoded data removed]",
      "text/plain": [
       "<Figure size 432x288 with 1 Axes>"
      ]
     },
     "metadata": {
      "needs_background": "light"
     },
     "output_type": "display_data"
    }
   ],
   "source": [
    "sns.countplot(df['bedrooms'])"
   ]
  },
  {
   "cell_type": "code",
   "execution_count": 13,
   "id": "bd6e2745",
   "metadata": {},
   "outputs": [
    {
     "data": {
      "text/plain": [
       "<AxesSubplot:xlabel='bathrooms', ylabel='count'>"
      ]
     },
     "execution_count": 13,
     "metadata": {},
     "output_type": "execute_result"
    },
    {
     "data": {
      "image/png": "[encoded data removed]",
      "text/plain": [
       "<Figure size 432x288 with 1 Axes>"
      ]
     },
     "metadata": {
      "needs_background": "light"
     },
     "output_type": "display_data"
    }
   ],
   "source": [
    "sns.countplot(df['bathrooms'])"
   ]
  },
  {
   "cell_type": "code",
   "execution_count": 14,
   "id": "77684dce",
   "metadata": {},
   "outputs": [
    {
     "data": {
      "text/plain": [
       "<AxesSubplot:xlabel='stories', ylabel='count'>"
      ]
     },
     "execution_count": 14,
     "metadata": {},
     "output_type": "execute_result"
    },
    {
     "data": {
      "image/png": "[encoded data removed]",
      "text/plain": [
       "<Figure size 432x288 with 1 Axes>"
      ]
     },
     "metadata": {
      "needs_background": "light"
     },
     "output_type": "display_data"
    }
   ],
   "source": [
    "sns.countplot(df['stories'])"
   ]
  },
  {
   "cell_type": "code",
   "execution_count": 15,
   "id": "f1da7987",
   "metadata": {},
   "outputs": [
    {
     "data": {
      "text/plain": [
       "<AxesSubplot:xlabel='mainroad', ylabel='count'>"
      ]
     },
     "execution_count": 15,
     "metadata": {},
     "output_type": "execute_result"
    },
    {
     "data": {
      "image/png": "[encoded data removed]",
      "text/plain": [
       "<Figure size 432x288 with 1 Axes>"
      ]
     },
     "metadata": {
      "needs_background": "light"
     },
     "output_type": "display_data"
    }
   ],
   "source": [
    "sns.countplot(df[\"mainroad\"])"
   ]
  },
  {
   "cell_type": "code",
   "execution_count": 16,
   "id": "b3a45fc0",
   "metadata": {},
   "outputs": [
    {
     "data": {
      "text/plain": [
       "<AxesSubplot:xlabel='guestroom', ylabel='count'>"
      ]
     },
     "execution_count": 16,
     "metadata": {},
     "output_type": "execute_result"
    },
    {
     "data": {
      "image/png": "[encoded data removed]",
      "text/plain": [
       "<Figure size 432x288 with 1 Axes>"
      ]
     },
     "metadata": {
      "needs_background": "light"
     },
     "output_type": "display_data"
    }
   ],
   "source": [
    "sns.countplot(df['guestroom'])"
   ]
  },
  {
   "cell_type": "code",
   "execution_count": 17,
   "id": "9d3eca5b",
   "metadata": {},
   "outputs": [
    {
     "data": {
      "text/plain": [
       "<AxesSubplot:xlabel='basement', ylabel='count'>"
      ]
     },
     "execution_count": 17,
     "metadata": {},
     "output_type": "execute_result"
    },
    {
     "data": {
      "image/png": "[encoded data removed]",
      "text/plain": [
       "<Figure size 432x288 with 1 Axes>"
      ]
     },
     "metadata": {
      "needs_background": "light"
     },
     "output_type": "display_data"
    }
   ],
   "source": [
    "sns.countplot(df['basement'])"
   ]
  },
  {
   "cell_type": "code",
   "execution_count": 18,
   "id": "23f7fdad",
   "metadata": {},
   "outputs": [
    {
     "data": {
      "text/plain": [
       "<AxesSubplot:xlabel='hotwaterheating', ylabel='count'>"
      ]
     },
     "execution_count": 18,
     "metadata": {},
     "output_type": "execute_result"
    },
    {
     "data": {
      "image/png": "[encoded data removed]",
      "text/plain": [
       "<Figure size 432x288 with 1 Axes>"
      ]
     },
     "metadata": {
      "needs_background": "light"
     },
     "output_type": "display_data"
    }
   ],
   "source": [
    "sns.countplot(df['hotwaterheating'])"
   ]
  },
  {
   "cell_type": "code",
   "execution_count": 19,
   "id": "884b7288",
   "metadata": {},
   "outputs": [
    {
     "data": {
      "text/plain": [
       "<AxesSubplot:xlabel='airconditioning', ylabel='count'>"
      ]
     },
     "execution_count": 19,
     "metadata": {},
     "output_type": "execute_result"
    },
    {
     "data": {
      "image/png": "[encoded data removed]",
      "text/plain": [
       "<Figure size 432x288 with 1 Axes>"
      ]
     },
     "metadata": {
      "needs_background": "light"
     },
     "output_type": "display_data"
    }
   ],
   "source": [
    "sns.countplot(df['airconditioning'])"
   ]
  },
  {
   "cell_type": "code",
   "execution_count": 20,
   "id": "8a0eb443",
   "metadata": {},
   "outputs": [
    {
     "data": {
      "text/plain": [
       "<AxesSubplot:xlabel='parking', ylabel='count'>"
      ]
     },
     "execution_count": 20,
     "metadata": {},
     "output_type": "execute_result"
    },
    {
     "data": {
      "image/png": "[encoded data removed]",
      "text/plain": [
       "<Figure size 432x288 with 1 Axes>"
      ]
     },
     "metadata": {
      "needs_background": "light"
     },
     "output_type": "display_data"
    }
   ],
   "source": [
    "sns.countplot(df['parking'])"
   ]
  },
  {
   "cell_type": "code",
   "execution_count": 21,
   "id": "b278f1c5",
   "metadata": {},
   "outputs": [
    {
     "data": {
      "text/plain": [
       "<AxesSubplot:xlabel='prefarea', ylabel='count'>"
      ]
     },
     "execution_count": 21,
     "metadata": {},
     "output_type": "execute_result"
    },
    {
     "data": {
      "image/png": "[encoded data removed]",
      "text/plain": [
       "<Figure size 432x288 with 1 Axes>"
      ]
     },
     "metadata": {
      "needs_background": "light"
     },
     "output_type": "display_data"
    }
   ],
   "source": [
    "sns.countplot(df['prefarea'])"
   ]
  },
  {
   "cell_type": "code",
   "execution_count": 22,
   "id": "96f9717e",
   "metadata": {},
   "outputs": [
    {
     "data": {
      "text/plain": [
       "<AxesSubplot:xlabel='furnishingstatus', ylabel='count'>"
      ]
     },
     "execution_count": 22,
     "metadata": {},
     "output_type": "execute_result"
    },
    {
     "data": {
      "image/png": "[encoded data removed]",
      "text/plain": [
       "<Figure size 432x288 with 1 Axes>"
      ]
     },
     "metadata": {
      "needs_background": "light"
     },
     "output_type": "display_data"
    }
   ],
   "source": [
    "sns.countplot(df['furnishingstatus'])"
   ]
  },
  {
   "cell_type": "code",
   "execution_count": 23,
   "id": "0b4778b5",
   "metadata": {},
   "outputs": [
    {
     "data": {
      "text/plain": [
       "<AxesSubplot:xlabel='area', ylabel='price'>"
      ]
     },
     "execution_count": 23,
     "metadata": {},
     "output_type": "execute_result"
    },
    {
     "data": {
      "image/png": "[encoded data removed]",
      "text/plain": [
       "<Figure size 432x288 with 1 Axes>"
      ]
     },
     "metadata": {
      "needs_background": "light"
     },
     "output_type": "display_data"
    }
   ],
   "source": [
    "sns.scatterplot(x='area', y='price', data=df)"
   ]
  },
  {
   "cell_type": "code",
   "execution_count": 24,
   "id": "1eaf39e7",
   "metadata": {},
   "outputs": [
    {
     "data": {
      "text/plain": [
       "<AxesSubplot:xlabel='price', ylabel='Count'>"
      ]
     },
     "execution_count": 24,
     "metadata": {},
     "output_type": "execute_result"
    },
    {
     "data": {
      "image/png": "[encoded data removed]",
      "text/plain": [
       "<Figure size 432x288 with 1 Axes>"
      ]
     },
     "metadata": {
      "needs_background": "light"
     },
     "output_type": "display_data"
    }
   ],
   "source": [
    "sns.histplot(df['price'])"
   ]
  },
  {
   "cell_type": "code",
   "execution_count": 25,
   "id": "6c851932",
   "metadata": {},
   "outputs": [
    {
     "data": {
      "text/plain": [
       "<AxesSubplot:xlabel='area', ylabel='Count'>"
      ]
     },
     "execution_count": 25,
     "metadata": {},
     "output_type": "execute_result"
    },
    {
     "data": {
      "image/png": "[encoded data removed]",
      "text/plain": [
       "<Figure size 432x288 with 1 Axes>"
      ]
     },
     "metadata": {
      "needs_background": "light"
     },
     "output_type": "display_data"
    }
   ],
   "source": [
    "sns.histplot(df['area'])"
   ]
  },
  {
   "cell_type": "code",
   "execution_count": 36,
   "id": "e6111af7",
   "metadata": {},
   "outputs": [
    {
     "data": {
      "text/plain": [
       "<AxesSubplot:xlabel='price'>"
      ]
     },
     "execution_count": 36,
     "metadata": {},
     "output_type": "execute_result"
    },
    {
     "data": {
      "image/png": "[encoded data removed]",
      "text/plain": [
       "<Figure size 432x288 with 1 Axes>"
      ]
     },
     "metadata": {
      "needs_background": "light"
     },
     "output_type": "display_data"
    }
   ],
   "source": [
    "sns.boxplot(df['price'])"
   ]
  },
  {
   "cell_type": "code",
   "execution_count": 37,
   "id": "96f23288",
   "metadata": {},
   "outputs": [
    {
     "data": {
      "text/plain": [
       "<AxesSubplot:xlabel='area'>"
      ]
     },
     "execution_count": 37,
     "metadata": {},
     "output_type": "execute_result"
    },
    {
     "data": {
      "image/png": "[encoded data removed]",
      "text/plain": [
       "<Figure size 432x288 with 1 Axes>"
      ]
     },
     "metadata": {
      "needs_background": "light"
     },
     "output_type": "display_data"
    }
   ],
   "source": [
    "sns.boxplot(df['area'])"
   ]
  },
  {
   "cell_type": "code",
   "execution_count": 38,
   "id": "430cca9c",
   "metadata": {},
   "outputs": [
    {
     "data": {
      "text/plain": [
       "<AxesSubplot:xlabel='area', ylabel='price'>"
      ]
     },
     "execution_count": 38,
     "metadata": {},
     "output_type": "execute_result"
    },
    {
     "data": {
      "image/png": "[encoded data removed]",
      "text/plain": [
       "<Figure size 432x288 with 1 Axes>"
      ]
     },
     "metadata": {
      "needs_background": "light"
     },
     "output_type": "display_data"
    }
   ],
   "source": [
    "sns.regplot(x='area', y='price', data=df)"
   ]
  },
  {
   "cell_type": "code",
   "execution_count": 41,
   "id": "6c2891d9",
   "metadata": {},
   "outputs": [
    {
     "data": {
      "text/plain": [
       "<AxesSubplot:xlabel='bedrooms', ylabel='price'>"
      ]
     },
     "execution_count": 41,
     "metadata": {},
     "output_type": "execute_result"
    },
    {
     "data": {
      "image/png": "[encoded data removed]",
      "text/plain": [
       "<Figure size 432x288 with 1 Axes>"
      ]
     },
     "metadata": {
      "needs_background": "light"
     },
     "output_type": "display_data"
    }
   ],
   "source": [
    "sns.barplot(x='bedrooms', y='price', data=df)"
   ]
  },
  {
   "cell_type": "code",
   "execution_count": 43,
   "id": "fba5f415",
   "metadata": {},
   "outputs": [
    {
     "data": {
      "text/plain": [
       "<AxesSubplot:xlabel='bathrooms', ylabel='price'>"
      ]
     },
     "execution_count": 43,
     "metadata": {},
     "output_type": "execute_result"
    },
    {
     "data": {
      "image/png": "[encoded data removed]",
      "text/plain": [
       "<Figure size 432x288 with 1 Axes>"
      ]
     },
     "metadata": {
      "needs_background": "light"
     },
     "output_type": "display_data"
    }
   ],
   "source": [
    "sns.barplot(x='bathrooms', y='price', data=df)"
   ]
  },
  {
   "cell_type": "code",
   "execution_count": 46,
   "id": "11a5367a",
   "metadata": {},
   "outputs": [
    {
     "data": {
      "text/plain": [
       "<AxesSubplot:xlabel='stories', ylabel='price'>"
      ]
     },
     "execution_count": 46,
     "metadata": {},
     "output_type": "execute_result"
    },
    {
     "data": {
      "image/png": "[encoded data removed]",
      "text/plain": [
       "<Figure size 432x288 with 1 Axes>"
      ]
     },
     "metadata": {
      "needs_background": "light"
     },
     "output_type": "display_data"
    }
   ],
   "source": [
    "sns.barplot(x='stories', y='price', data=df) "
   ]
  },
  {
   "cell_type": "code",
   "execution_count": 47,
   "id": "bb788a88",
   "metadata": {},
   "outputs": [
    {
     "data": {
      "text/plain": [
       "<AxesSubplot:xlabel='mainroad', ylabel='price'>"
      ]
     },
     "execution_count": 47,
     "metadata": {},
     "output_type": "execute_result"
    },
    {
     "data": {
      "image/png": "[encoded data removed]",
      "text/plain": [
       "<Figure size 432x288 with 1 Axes>"
      ]
     },
     "metadata": {
      "needs_background": "light"
     },
     "output_type": "display_data"
    }
   ],
   "source": [
    "sns.barplot(x='mainroad', y='price', data=df)"
   ]
  },
  {
   "cell_type": "code",
   "execution_count": 48,
   "id": "b2a86e7a",
   "metadata": {},
   "outputs": [
    {
     "data": {
      "text/plain": [
       "<AxesSubplot:xlabel='guestroom', ylabel='price'>"
      ]
     },
     "execution_count": 48,
     "metadata": {},
     "output_type": "execute_result"
    },
    {
     "data": {
      "image/png": "[encoded data removed]",
      "text/plain": [
       "<Figure size 432x288 with 1 Axes>"
      ]
     },
     "metadata": {
      "needs_background": "light"
     },
     "output_type": "display_data"
    }
   ],
   "source": [
    "sns.barplot(x='guestroom', y='price', data=df)"
   ]
  },
  {
   "cell_type": "code",
   "execution_count": 49,
   "id": "74827ac8",
   "metadata": {},
   "outputs": [
    {
     "data": {
      "text/plain": [
       "<AxesSubplot:xlabel='basement', ylabel='price'>"
      ]
     },
     "execution_count": 49,
     "metadata": {},
     "output_type": "execute_result"
    },
    {
     "data": {
      "image/png": "[encoded data removed]",
      "text/plain": [
       "<Figure size 432x288 with 1 Axes>"
      ]
     },
     "metadata": {
      "needs_background": "light"
     },
     "output_type": "display_data"
    }
   ],
   "source": [
    "sns.barplot(x='basement', y='price', data=df)"
   ]
  },
  {
   "cell_type": "code",
   "execution_count": 51,
   "id": "aa21421a",
   "metadata": {},
   "outputs": [
    {
     "data": {
      "text/plain": [
       "<AxesSubplot:xlabel='hotwaterheating', ylabel='price'>"
      ]
     },
     "execution_count": 51,
     "metadata": {},
     "output_type": "execute_result"
    },
    {
     "data": {
      "image/png": "[encoded data removed]",
      "text/plain": [
       "<Figure size 432x288 with 1 Axes>"
      ]
     },
     "metadata": {
      "needs_background": "light"
     },
     "output_type": "display_data"
    }
   ],
   "source": [
    "sns.barplot(x='hotwaterheating', y='price', data=df)"
   ]
  },
  {
   "cell_type": "code",
   "execution_count": 52,
   "id": "2346cafa",
   "metadata": {},
   "outputs": [
    {
     "data": {
      "text/plain": [
       "<AxesSubplot:xlabel='airconditioning', ylabel='price'>"
      ]
     },
     "execution_count": 52,
     "metadata": {},
     "output_type": "execute_result"
    },
    {
     "data": {
      "image/png": "[encoded data removed]",
      "text/plain": [
       "<Figure size 432x288 with 1 Axes>"
      ]
     },
     "metadata": {
      "needs_background": "light"
     },
     "output_type": "display_data"
    }
   ],
   "source": [
    "sns.barplot(x='airconditioning', y='price', data=df)"
   ]
  },
  {
   "cell_type": "code",
   "execution_count": 53,
   "id": "65fda5c6",
   "metadata": {},
   "outputs": [
    {
     "data": {
      "text/plain": [
       "<AxesSubplot:xlabel='parking', ylabel='price'>"
      ]
     },
     "execution_count": 53,
     "metadata": {},
     "output_type": "execute_result"
    },
    {
     "data": {
      "image/png": "[encoded data removed]",
      "text/plain": [
       "<Figure size 432x288 with 1 Axes>"
      ]
     },
     "metadata": {
      "needs_background": "light"
     },
     "output_type": "display_data"
    }
   ],
   "source": [
    "sns.barplot(x='parking', y='price', data=df)"
   ]
  },
  {
   "cell_type": "code",
   "execution_count": 54,
   "id": "7338854a",
   "metadata": {},
   "outputs": [
    {
     "data": {
      "text/plain": [
       "<AxesSubplot:xlabel='prefarea', ylabel='price'>"
      ]
     },
     "execution_count": 54,
     "metadata": {},
     "output_type": "execute_result"
    },
    {
     "data": {
      "image/png": "[encoded data removed]",
      "text/plain": [
       "<Figure size 432x288 with 1 Axes>"
      ]
     },
     "metadata": {
      "needs_background": "light"
     },
     "output_type": "display_data"
    }
   ],
   "source": [
    "sns.barplot(x='prefarea', y='price', data=df)"
   ]
  },
  {
   "cell_type": "code",
   "execution_count": 55,
   "id": "1d9e6ab2",
   "metadata": {},
   "outputs": [
    {
     "data": {
      "text/plain": [
       "<AxesSubplot:xlabel='furnishingstatus', ylabel='price'>"
      ]
     },
     "execution_count": 55,
     "metadata": {},
     "output_type": "execute_result"
    },
    {
     "data": {
      "image/png": "[encoded data removed]",
      "text/plain": [
       "<Figure size 432x288 with 1 Axes>"
      ]
     },
     "metadata": {
      "needs_background": "light"
     },
     "output_type": "display_data"
    }
   ],
   "source": [
    "sns.barplot(x='furnishingstatus', y='price', data=df)"
   ]
  },
  {
   "cell_type": "code",
   "execution_count": 56,
   "id": "95b90392",
   "metadata": {},
   "outputs": [
    {
     "data": {
      "text/plain": [
       "<seaborn.axisgrid.PairGrid at 0xe8b9d808e0>"
      ]
     },
     "execution_count": 56,
     "metadata": {},
     "output_type": "execute_result"
    },
    {
     "data": {
      "image/png": "[encoded data removed]",
      "text/plain": [
       "<Figure size 1080x1080 with 42 Axes>"
      ]
     },
     "metadata": {
      "needs_background": "light"
     },
     "output_type": "display_data"
    }
   ],
   "source": [
    "sns.pairplot(df)"
   ]
  },
  {
   "cell_type": "code",
   "execution_count": 57,
   "id": "fe92e56e",
   "metadata": {},
   "outputs": [
    {
     "data": {
      "text/plain": [
       "Index(['price', 'area', 'bedrooms', 'bathrooms', 'stories', 'mainroad',\n",
       "       'guestroom', 'basement', 'hotwaterheating', 'airconditioning',\n",
       "       'parking', 'prefarea', 'furnishingstatus'],\n",
       "      dtype='object')"
      ]
     },
     "execution_count": 57,
     "metadata": {},
     "output_type": "execute_result"
    }
   ],
   "source": [
    "df.columns"
   ]
  },
  {
   "cell_type": "markdown",
   "id": "1fe0db29",
   "metadata": {},
   "source": [
    "### Input & Target Columns"
   ]
  },
  {
   "cell_type": "code",
   "execution_count": 58,
   "id": "1febe3ef",
   "metadata": {},
   "outputs": [],
   "source": [
    "input_df = df[['area', 'bedrooms', 'bathrooms', 'stories', 'mainroad',\n",
    "       'guestroom', 'basement', 'hotwaterheating', 'airconditioning',\n",
    "       'parking', 'prefarea', 'furnishingstatus']]"
   ]
  },
  {
   "cell_type": "code",
   "execution_count": 59,
   "id": "70ee943f",
   "metadata": {},
   "outputs": [],
   "source": [
    "target_col = 'price'"
   ]
  },
  {
   "cell_type": "code",
   "execution_count": 60,
   "id": "34336483",
   "metadata": {},
   "outputs": [
    {
     "data": {
      "text/html": [
       "<div>\n",
       "<style scoped>\n",
       "    .dataframe tbody tr th:only-of-type {\n",
       "        vertical-align: middle;\n",
       "    }\n",
       "\n",
       "    .dataframe tbody tr th {\n",
       "        vertical-align: top;\n",
       "    }\n",
       "\n",
       "    .dataframe thead th {\n",
       "        text-align: right;\n",
       "    }\n",
       "</style>\n",
       "<table border=\"1\" class=\"dataframe\">\n",
       "  <thead>\n",
       "    <tr style=\"text-align: right;\">\n",
       "      <th></th>\n",
       "      <th>area</th>\n",
       "      <th>bedrooms</th>\n",
       "      <th>bathrooms</th>\n",
       "      <th>stories</th>\n",
       "      <th>mainroad</th>\n",
       "      <th>guestroom</th>\n",
       "      <th>basement</th>\n",
       "      <th>hotwaterheating</th>\n",
       "      <th>airconditioning</th>\n",
       "      <th>parking</th>\n",
       "      <th>prefarea</th>\n",
       "      <th>furnishingstatus</th>\n",
       "    </tr>\n",
       "  </thead>\n",
       "  <tbody>\n",
       "    <tr>\n",
       "      <th>0</th>\n",
       "      <td>7420</td>\n",
       "      <td>4</td>\n",
       "      <td>2</td>\n",
       "      <td>3</td>\n",
       "      <td>yes</td>\n",
       "      <td>no</td>\n",
       "      <td>no</td>\n",
       "      <td>no</td>\n",
       "      <td>yes</td>\n",
       "      <td>2</td>\n",
       "      <td>yes</td>\n",
       "      <td>furnished</td>\n",
       "    </tr>\n",
       "    <tr>\n",
       "      <th>1</th>\n",
       "      <td>8960</td>\n",
       "      <td>4</td>\n",
       "      <td>4</td>\n",
       "      <td>4</td>\n",
       "      <td>yes</td>\n",
       "      <td>no</td>\n",
       "      <td>no</td>\n",
       "      <td>no</td>\n",
       "      <td>yes</td>\n",
       "      <td>3</td>\n",
       "      <td>no</td>\n",
       "      <td>furnished</td>\n",
       "    </tr>\n",
       "    <tr>\n",
       "      <th>2</th>\n",
       "      <td>9960</td>\n",
       "      <td>3</td>\n",
       "      <td>2</td>\n",
       "      <td>2</td>\n",
       "      <td>yes</td>\n",
       "      <td>no</td>\n",
       "      <td>yes</td>\n",
       "      <td>no</td>\n",
       "      <td>no</td>\n",
       "      <td>2</td>\n",
       "      <td>yes</td>\n",
       "      <td>semi-furnished</td>\n",
       "    </tr>\n",
       "    <tr>\n",
       "      <th>3</th>\n",
       "      <td>7500</td>\n",
       "      <td>4</td>\n",
       "      <td>2</td>\n",
       "      <td>2</td>\n",
       "      <td>yes</td>\n",
       "      <td>no</td>\n",
       "      <td>yes</td>\n",
       "      <td>no</td>\n",
       "      <td>yes</td>\n",
       "      <td>3</td>\n",
       "      <td>yes</td>\n",
       "      <td>furnished</td>\n",
       "    </tr>\n",
       "    <tr>\n",
       "      <th>4</th>\n",
       "      <td>7420</td>\n",
       "      <td>4</td>\n",
       "      <td>1</td>\n",
       "      <td>2</td>\n",
       "      <td>yes</td>\n",
       "      <td>yes</td>\n",
       "      <td>yes</td>\n",
       "      <td>no</td>\n",
       "      <td>yes</td>\n",
       "      <td>2</td>\n",
       "      <td>no</td>\n",
       "      <td>furnished</td>\n",
       "    </tr>\n",
       "    <tr>\n",
       "      <th>...</th>\n",
       "      <td>...</td>\n",
       "      <td>...</td>\n",
       "      <td>...</td>\n",
       "      <td>...</td>\n",
       "      <td>...</td>\n",
       "      <td>...</td>\n",
       "      <td>...</td>\n",
       "      <td>...</td>\n",
       "      <td>...</td>\n",
       "      <td>...</td>\n",
       "      <td>...</td>\n",
       "      <td>...</td>\n",
       "    </tr>\n",
       "    <tr>\n",
       "      <th>540</th>\n",
       "      <td>3000</td>\n",
       "      <td>2</td>\n",
       "      <td>1</td>\n",
       "      <td>1</td>\n",
       "      <td>yes</td>\n",
       "      <td>no</td>\n",
       "      <td>yes</td>\n",
       "      <td>no</td>\n",
       "      <td>no</td>\n",
       "      <td>2</td>\n",
       "      <td>no</td>\n",
       "      <td>unfurnished</td>\n",
       "    </tr>\n",
       "    <tr>\n",
       "      <th>541</th>\n",
       "      <td>2400</td>\n",
       "      <td>3</td>\n",
       "      <td>1</td>\n",
       "      <td>1</td>\n",
       "      <td>no</td>\n",
       "      <td>no</td>\n",
       "      <td>no</td>\n",
       "      <td>no</td>\n",
       "      <td>no</td>\n",
       "      <td>0</td>\n",
       "      <td>no</td>\n",
       "      <td>semi-furnished</td>\n",
       "    </tr>\n",
       "    <tr>\n",
       "      <th>542</th>\n",
       "      <td>3620</td>\n",
       "      <td>2</td>\n",
       "      <td>1</td>\n",
       "      <td>1</td>\n",
       "      <td>yes</td>\n",
       "      <td>no</td>\n",
       "      <td>no</td>\n",
       "      <td>no</td>\n",
       "      <td>no</td>\n",
       "      <td>0</td>\n",
       "      <td>no</td>\n",
       "      <td>unfurnished</td>\n",
       "    </tr>\n",
       "    <tr>\n",
       "      <th>543</th>\n",
       "      <td>2910</td>\n",
       "      <td>3</td>\n",
       "      <td>1</td>\n",
       "      <td>1</td>\n",
       "      <td>no</td>\n",
       "      <td>no</td>\n",
       "      <td>no</td>\n",
       "      <td>no</td>\n",
       "      <td>no</td>\n",
       "      <td>0</td>\n",
       "      <td>no</td>\n",
       "      <td>furnished</td>\n",
       "    </tr>\n",
       "    <tr>\n",
       "      <th>544</th>\n",
       "      <td>3850</td>\n",
       "      <td>3</td>\n",
       "      <td>1</td>\n",
       "      <td>2</td>\n",
       "      <td>yes</td>\n",
       "      <td>no</td>\n",
       "      <td>no</td>\n",
       "      <td>no</td>\n",
       "      <td>no</td>\n",
       "      <td>0</td>\n",
       "      <td>no</td>\n",
       "      <td>unfurnished</td>\n",
       "    </tr>\n",
       "  </tbody>\n",
       "</table>\n",
       "<p>545 rows × 12 columns</p>\n",
       "</div>"
      ],
      "text/plain": [
       "     area  bedrooms  bathrooms  stories mainroad guestroom basement  \\\n",
       "0    7420         4          2        3      yes        no       no   \n",
       "1    8960         4          4        4      yes        no       no   \n",
       "2    9960         3          2        2      yes        no      yes   \n",
       "3    7500         4          2        2      yes        no      yes   \n",
       "4    7420         4          1        2      yes       yes      yes   \n",
       "..    ...       ...        ...      ...      ...       ...      ...   \n",
       "540  3000         2          1        1      yes        no      yes   \n",
       "541  2400         3          1        1       no        no       no   \n",
       "542  3620         2          1        1      yes        no       no   \n",
       "543  2910         3          1        1       no        no       no   \n",
       "544  3850         3          1        2      yes        no       no   \n",
       "\n",
       "    hotwaterheating airconditioning  parking prefarea furnishingstatus  \n",
       "0                no             yes        2      yes        furnished  \n",
       "1                no             yes        3       no        furnished  \n",
       "2                no              no        2      yes   semi-furnished  \n",
       "3                no             yes        3      yes        furnished  \n",
       "4                no             yes        2       no        furnished  \n",
       "..              ...             ...      ...      ...              ...  \n",
       "540              no              no        2       no      unfurnished  \n",
       "541              no              no        0       no   semi-furnished  \n",
       "542              no              no        0       no      unfurnished  \n",
       "543              no              no        0       no        furnished  \n",
       "544              no              no        0       no      unfurnished  \n",
       "\n",
       "[545 rows x 12 columns]"
      ]
     },
     "execution_count": 60,
     "metadata": {},
     "output_type": "execute_result"
    }
   ],
   "source": [
    "input_df"
   ]
  },
  {
   "cell_type": "code",
   "execution_count": 61,
   "id": "546849cc",
   "metadata": {},
   "outputs": [
    {
     "data": {
      "text/plain": [
       "0      13300000\n",
       "1      12250000\n",
       "2      12250000\n",
       "3      12215000\n",
       "4      11410000\n",
       "         ...   \n",
       "540     1820000\n",
       "541     1767150\n",
       "542     1750000\n",
       "543     1750000\n",
       "544     1750000\n",
       "Name: price, Length: 545, dtype: int64"
      ]
     },
     "execution_count": 61,
     "metadata": {},
     "output_type": "execute_result"
    }
   ],
   "source": [
    "df[target_col]"
   ]
  },
  {
   "cell_type": "markdown",
   "id": "c2791371",
   "metadata": {},
   "source": [
    "### Numeric & Categorical Columns"
   ]
  },
  {
   "cell_type": "code",
   "execution_count": 62,
   "id": "743ebe95",
   "metadata": {},
   "outputs": [],
   "source": [
    "numeric_cols = ['area', 'bedrooms', 'bathrooms', 'stories', 'parking']\n",
    "categorical_cols = ['mainroad', 'guestroom', 'basement', 'hotwaterheating', 'airconditioning', 'prefarea', 'furnishingstatus']"
   ]
  },
  {
   "cell_type": "code",
   "execution_count": 63,
   "id": "83d7e150",
   "metadata": {},
   "outputs": [
    {
     "data": {
      "text/html": [
       "<div>\n",
       "<style scoped>\n",
       "    .dataframe tbody tr th:only-of-type {\n",
       "        vertical-align: middle;\n",
       "    }\n",
       "\n",
       "    .dataframe tbody tr th {\n",
       "        vertical-align: top;\n",
       "    }\n",
       "\n",
       "    .dataframe thead th {\n",
       "        text-align: right;\n",
       "    }\n",
       "</style>\n",
       "<table border=\"1\" class=\"dataframe\">\n",
       "  <thead>\n",
       "    <tr style=\"text-align: right;\">\n",
       "      <th></th>\n",
       "      <th>area</th>\n",
       "      <th>bedrooms</th>\n",
       "      <th>bathrooms</th>\n",
       "      <th>stories</th>\n",
       "      <th>parking</th>\n",
       "    </tr>\n",
       "  </thead>\n",
       "  <tbody>\n",
       "    <tr>\n",
       "      <th>0</th>\n",
       "      <td>7420</td>\n",
       "      <td>4</td>\n",
       "      <td>2</td>\n",
       "      <td>3</td>\n",
       "      <td>2</td>\n",
       "    </tr>\n",
       "    <tr>\n",
       "      <th>1</th>\n",
       "      <td>8960</td>\n",
       "      <td>4</td>\n",
       "      <td>4</td>\n",
       "      <td>4</td>\n",
       "      <td>3</td>\n",
       "    </tr>\n",
       "    <tr>\n",
       "      <th>2</th>\n",
       "      <td>9960</td>\n",
       "      <td>3</td>\n",
       "      <td>2</td>\n",
       "      <td>2</td>\n",
       "      <td>2</td>\n",
       "    </tr>\n",
       "    <tr>\n",
       "      <th>3</th>\n",
       "      <td>7500</td>\n",
       "      <td>4</td>\n",
       "      <td>2</td>\n",
       "      <td>2</td>\n",
       "      <td>3</td>\n",
       "    </tr>\n",
       "    <tr>\n",
       "      <th>4</th>\n",
       "      <td>7420</td>\n",
       "      <td>4</td>\n",
       "      <td>1</td>\n",
       "      <td>2</td>\n",
       "      <td>2</td>\n",
       "    </tr>\n",
       "    <tr>\n",
       "      <th>...</th>\n",
       "      <td>...</td>\n",
       "      <td>...</td>\n",
       "      <td>...</td>\n",
       "      <td>...</td>\n",
       "      <td>...</td>\n",
       "    </tr>\n",
       "    <tr>\n",
       "      <th>540</th>\n",
       "      <td>3000</td>\n",
       "      <td>2</td>\n",
       "      <td>1</td>\n",
       "      <td>1</td>\n",
       "      <td>2</td>\n",
       "    </tr>\n",
       "    <tr>\n",
       "      <th>541</th>\n",
       "      <td>2400</td>\n",
       "      <td>3</td>\n",
       "      <td>1</td>\n",
       "      <td>1</td>\n",
       "      <td>0</td>\n",
       "    </tr>\n",
       "    <tr>\n",
       "      <th>542</th>\n",
       "      <td>3620</td>\n",
       "      <td>2</td>\n",
       "      <td>1</td>\n",
       "      <td>1</td>\n",
       "      <td>0</td>\n",
       "    </tr>\n",
       "    <tr>\n",
       "      <th>543</th>\n",
       "      <td>2910</td>\n",
       "      <td>3</td>\n",
       "      <td>1</td>\n",
       "      <td>1</td>\n",
       "      <td>0</td>\n",
       "    </tr>\n",
       "    <tr>\n",
       "      <th>544</th>\n",
       "      <td>3850</td>\n",
       "      <td>3</td>\n",
       "      <td>1</td>\n",
       "      <td>2</td>\n",
       "      <td>0</td>\n",
       "    </tr>\n",
       "  </tbody>\n",
       "</table>\n",
       "<p>545 rows × 5 columns</p>\n",
       "</div>"
      ],
      "text/plain": [
       "     area  bedrooms  bathrooms  stories  parking\n",
       "0    7420         4          2        3        2\n",
       "1    8960         4          4        4        3\n",
       "2    9960         3          2        2        2\n",
       "3    7500         4          2        2        3\n",
       "4    7420         4          1        2        2\n",
       "..    ...       ...        ...      ...      ...\n",
       "540  3000         2          1        1        2\n",
       "541  2400         3          1        1        0\n",
       "542  3620         2          1        1        0\n",
       "543  2910         3          1        1        0\n",
       "544  3850         3          1        2        0\n",
       "\n",
       "[545 rows x 5 columns]"
      ]
     },
     "execution_count": 63,
     "metadata": {},
     "output_type": "execute_result"
    }
   ],
   "source": [
    "input_df[numeric_cols]"
   ]
  },
  {
   "cell_type": "code",
   "execution_count": 64,
   "id": "172d953c",
   "metadata": {},
   "outputs": [
    {
     "data": {
      "text/html": [
       "<div>\n",
       "<style scoped>\n",
       "    .dataframe tbody tr th:only-of-type {\n",
       "        vertical-align: middle;\n",
       "    }\n",
       "\n",
       "    .dataframe tbody tr th {\n",
       "        vertical-align: top;\n",
       "    }\n",
       "\n",
       "    .dataframe thead th {\n",
       "        text-align: right;\n",
       "    }\n",
       "</style>\n",
       "<table border=\"1\" class=\"dataframe\">\n",
       "  <thead>\n",
       "    <tr style=\"text-align: right;\">\n",
       "      <th></th>\n",
       "      <th>mainroad</th>\n",
       "      <th>guestroom</th>\n",
       "      <th>basement</th>\n",
       "      <th>hotwaterheating</th>\n",
       "      <th>airconditioning</th>\n",
       "      <th>prefarea</th>\n",
       "      <th>furnishingstatus</th>\n",
       "    </tr>\n",
       "  </thead>\n",
       "  <tbody>\n",
       "    <tr>\n",
       "      <th>0</th>\n",
       "      <td>yes</td>\n",
       "      <td>no</td>\n",
       "      <td>no</td>\n",
       "      <td>no</td>\n",
       "      <td>yes</td>\n",
       "      <td>yes</td>\n",
       "      <td>furnished</td>\n",
       "    </tr>\n",
       "    <tr>\n",
       "      <th>1</th>\n",
       "      <td>yes</td>\n",
       "      <td>no</td>\n",
       "      <td>no</td>\n",
       "      <td>no</td>\n",
       "      <td>yes</td>\n",
       "      <td>no</td>\n",
       "      <td>furnished</td>\n",
       "    </tr>\n",
       "    <tr>\n",
       "      <th>2</th>\n",
       "      <td>yes</td>\n",
       "      <td>no</td>\n",
       "      <td>yes</td>\n",
       "      <td>no</td>\n",
       "      <td>no</td>\n",
       "      <td>yes</td>\n",
       "      <td>semi-furnished</td>\n",
       "    </tr>\n",
       "    <tr>\n",
       "      <th>3</th>\n",
       "      <td>yes</td>\n",
       "      <td>no</td>\n",
       "      <td>yes</td>\n",
       "      <td>no</td>\n",
       "      <td>yes</td>\n",
       "      <td>yes</td>\n",
       "      <td>furnished</td>\n",
       "    </tr>\n",
       "    <tr>\n",
       "      <th>4</th>\n",
       "      <td>yes</td>\n",
       "      <td>yes</td>\n",
       "      <td>yes</td>\n",
       "      <td>no</td>\n",
       "      <td>yes</td>\n",
       "      <td>no</td>\n",
       "      <td>furnished</td>\n",
       "    </tr>\n",
       "    <tr>\n",
       "      <th>...</th>\n",
       "      <td>...</td>\n",
       "      <td>...</td>\n",
       "      <td>...</td>\n",
       "      <td>...</td>\n",
       "      <td>...</td>\n",
       "      <td>...</td>\n",
       "      <td>...</td>\n",
       "    </tr>\n",
       "    <tr>\n",
       "      <th>540</th>\n",
       "      <td>yes</td>\n",
       "      <td>no</td>\n",
       "      <td>yes</td>\n",
       "      <td>no</td>\n",
       "      <td>no</td>\n",
       "      <td>no</td>\n",
       "      <td>unfurnished</td>\n",
       "    </tr>\n",
       "    <tr>\n",
       "      <th>541</th>\n",
       "      <td>no</td>\n",
       "      <td>no</td>\n",
       "      <td>no</td>\n",
       "      <td>no</td>\n",
       "      <td>no</td>\n",
       "      <td>no</td>\n",
       "      <td>semi-furnished</td>\n",
       "    </tr>\n",
       "    <tr>\n",
       "      <th>542</th>\n",
       "      <td>yes</td>\n",
       "      <td>no</td>\n",
       "      <td>no</td>\n",
       "      <td>no</td>\n",
       "      <td>no</td>\n",
       "      <td>no</td>\n",
       "      <td>unfurnished</td>\n",
       "    </tr>\n",
       "    <tr>\n",
       "      <th>543</th>\n",
       "      <td>no</td>\n",
       "      <td>no</td>\n",
       "      <td>no</td>\n",
       "      <td>no</td>\n",
       "      <td>no</td>\n",
       "      <td>no</td>\n",
       "      <td>furnished</td>\n",
       "    </tr>\n",
       "    <tr>\n",
       "      <th>544</th>\n",
       "      <td>yes</td>\n",
       "      <td>no</td>\n",
       "      <td>no</td>\n",
       "      <td>no</td>\n",
       "      <td>no</td>\n",
       "      <td>no</td>\n",
       "      <td>unfurnished</td>\n",
       "    </tr>\n",
       "  </tbody>\n",
       "</table>\n",
       "<p>545 rows × 7 columns</p>\n",
       "</div>"
      ],
      "text/plain": [
       "    mainroad guestroom basement hotwaterheating airconditioning prefarea  \\\n",
       "0        yes        no       no              no             yes      yes   \n",
       "1        yes        no       no              no             yes       no   \n",
       "2        yes        no      yes              no              no      yes   \n",
       "3        yes        no      yes              no             yes      yes   \n",
       "4        yes       yes      yes              no             yes       no   \n",
       "..       ...       ...      ...             ...             ...      ...   \n",
       "540      yes        no      yes              no              no       no   \n",
       "541       no        no       no              no              no       no   \n",
       "542      yes        no       no              no              no       no   \n",
       "543       no        no       no              no              no       no   \n",
       "544      yes        no       no              no              no       no   \n",
       "\n",
       "    furnishingstatus  \n",
       "0          furnished  \n",
       "1          furnished  \n",
       "2     semi-furnished  \n",
       "3          furnished  \n",
       "4          furnished  \n",
       "..               ...  \n",
       "540      unfurnished  \n",
       "541   semi-furnished  \n",
       "542      unfurnished  \n",
       "543        furnished  \n",
       "544      unfurnished  \n",
       "\n",
       "[545 rows x 7 columns]"
      ]
     },
     "execution_count": 64,
     "metadata": {},
     "output_type": "execute_result"
    }
   ],
   "source": [
    "input_df[categorical_cols]"
   ]
  },
  {
   "cell_type": "markdown",
   "id": "781e6cc9",
   "metadata": {},
   "source": [
    "### OneHotEncoding"
   ]
  },
  {
   "cell_type": "code",
   "execution_count": 65,
   "id": "a31c584c",
   "metadata": {},
   "outputs": [],
   "source": [
    "from sklearn.preprocessing import OneHotEncoder"
   ]
  },
  {
   "cell_type": "code",
   "execution_count": 66,
   "id": "78ec7650",
   "metadata": {},
   "outputs": [],
   "source": [
    "encoder = OneHotEncoder(sparse=False, handle_unknown='ignore')"
   ]
  },
  {
   "cell_type": "code",
   "execution_count": 67,
   "id": "c661a73d",
   "metadata": {},
   "outputs": [
    {
     "data": {
      "text/plain": [
       "OneHotEncoder(handle_unknown='ignore', sparse=False)"
      ]
     },
     "execution_count": 67,
     "metadata": {},
     "output_type": "execute_result"
    }
   ],
   "source": [
    "encoder.fit(input_df[categorical_cols])"
   ]
  },
  {
   "cell_type": "code",
   "execution_count": 68,
   "id": "e51667a7",
   "metadata": {},
   "outputs": [],
   "source": [
    "encoder_cols = list(encoder.get_feature_names(categorical_cols))"
   ]
  },
  {
   "cell_type": "code",
   "execution_count": 69,
   "id": "010551c7",
   "metadata": {},
   "outputs": [
    {
     "data": {
      "text/plain": [
       "15"
      ]
     },
     "execution_count": 69,
     "metadata": {},
     "output_type": "execute_result"
    }
   ],
   "source": [
    "len(encoder_cols)"
   ]
  },
  {
   "cell_type": "code",
   "execution_count": 70,
   "id": "1cacbcfb",
   "metadata": {},
   "outputs": [],
   "source": [
    "input_df[encoder_cols] = encoder.transform(input_df[categorical_cols])"
   ]
  },
  {
   "cell_type": "code",
   "execution_count": 71,
   "id": "ebed1b07",
   "metadata": {},
   "outputs": [
    {
     "data": {
      "text/html": [
       "<div>\n",
       "<style scoped>\n",
       "    .dataframe tbody tr th:only-of-type {\n",
       "        vertical-align: middle;\n",
       "    }\n",
       "\n",
       "    .dataframe tbody tr th {\n",
       "        vertical-align: top;\n",
       "    }\n",
       "\n",
       "    .dataframe thead th {\n",
       "        text-align: right;\n",
       "    }\n",
       "</style>\n",
       "<table border=\"1\" class=\"dataframe\">\n",
       "  <thead>\n",
       "    <tr style=\"text-align: right;\">\n",
       "      <th></th>\n",
       "      <th>area</th>\n",
       "      <th>bedrooms</th>\n",
       "      <th>bathrooms</th>\n",
       "      <th>stories</th>\n",
       "      <th>mainroad</th>\n",
       "      <th>guestroom</th>\n",
       "      <th>basement</th>\n",
       "      <th>hotwaterheating</th>\n",
       "      <th>airconditioning</th>\n",
       "      <th>parking</th>\n",
       "      <th>...</th>\n",
       "      <th>basement_yes</th>\n",
       "      <th>hotwaterheating_no</th>\n",
       "      <th>hotwaterheating_yes</th>\n",
       "      <th>airconditioning_no</th>\n",
       "      <th>airconditioning_yes</th>\n",
       "      <th>prefarea_no</th>\n",
       "      <th>prefarea_yes</th>\n",
       "      <th>furnishingstatus_furnished</th>\n",
       "      <th>furnishingstatus_semi-furnished</th>\n",
       "      <th>furnishingstatus_unfurnished</th>\n",
       "    </tr>\n",
       "  </thead>\n",
       "  <tbody>\n",
       "    <tr>\n",
       "      <th>0</th>\n",
       "      <td>7420</td>\n",
       "      <td>4</td>\n",
       "      <td>2</td>\n",
       "      <td>3</td>\n",
       "      <td>yes</td>\n",
       "      <td>no</td>\n",
       "      <td>no</td>\n",
       "      <td>no</td>\n",
       "      <td>yes</td>\n",
       "      <td>2</td>\n",
       "      <td>...</td>\n",
       "      <td>0.0</td>\n",
       "      <td>1.0</td>\n",
       "      <td>0.0</td>\n",
       "      <td>0.0</td>\n",
       "      <td>1.0</td>\n",
       "      <td>0.0</td>\n",
       "      <td>1.0</td>\n",
       "      <td>1.0</td>\n",
       "      <td>0.0</td>\n",
       "      <td>0.0</td>\n",
       "    </tr>\n",
       "    <tr>\n",
       "      <th>1</th>\n",
       "      <td>8960</td>\n",
       "      <td>4</td>\n",
       "      <td>4</td>\n",
       "      <td>4</td>\n",
       "      <td>yes</td>\n",
       "      <td>no</td>\n",
       "      <td>no</td>\n",
       "      <td>no</td>\n",
       "      <td>yes</td>\n",
       "      <td>3</td>\n",
       "      <td>...</td>\n",
       "      <td>0.0</td>\n",
       "      <td>1.0</td>\n",
       "      <td>0.0</td>\n",
       "      <td>0.0</td>\n",
       "      <td>1.0</td>\n",
       "      <td>1.0</td>\n",
       "      <td>0.0</td>\n",
       "      <td>1.0</td>\n",
       "      <td>0.0</td>\n",
       "      <td>0.0</td>\n",
       "    </tr>\n",
       "    <tr>\n",
       "      <th>2</th>\n",
       "      <td>9960</td>\n",
       "      <td>3</td>\n",
       "      <td>2</td>\n",
       "      <td>2</td>\n",
       "      <td>yes</td>\n",
       "      <td>no</td>\n",
       "      <td>yes</td>\n",
       "      <td>no</td>\n",
       "      <td>no</td>\n",
       "      <td>2</td>\n",
       "      <td>...</td>\n",
       "      <td>1.0</td>\n",
       "      <td>1.0</td>\n",
       "      <td>0.0</td>\n",
       "      <td>1.0</td>\n",
       "      <td>0.0</td>\n",
       "      <td>0.0</td>\n",
       "      <td>1.0</td>\n",
       "      <td>0.0</td>\n",
       "      <td>1.0</td>\n",
       "      <td>0.0</td>\n",
       "    </tr>\n",
       "    <tr>\n",
       "      <th>3</th>\n",
       "      <td>7500</td>\n",
       "      <td>4</td>\n",
       "      <td>2</td>\n",
       "      <td>2</td>\n",
       "      <td>yes</td>\n",
       "      <td>no</td>\n",
       "      <td>yes</td>\n",
       "      <td>no</td>\n",
       "      <td>yes</td>\n",
       "      <td>3</td>\n",
       "      <td>...</td>\n",
       "      <td>1.0</td>\n",
       "      <td>1.0</td>\n",
       "      <td>0.0</td>\n",
       "      <td>0.0</td>\n",
       "      <td>1.0</td>\n",
       "      <td>0.0</td>\n",
       "      <td>1.0</td>\n",
       "      <td>1.0</td>\n",
       "      <td>0.0</td>\n",
       "      <td>0.0</td>\n",
       "    </tr>\n",
       "    <tr>\n",
       "      <th>4</th>\n",
       "      <td>7420</td>\n",
       "      <td>4</td>\n",
       "      <td>1</td>\n",
       "      <td>2</td>\n",
       "      <td>yes</td>\n",
       "      <td>yes</td>\n",
       "      <td>yes</td>\n",
       "      <td>no</td>\n",
       "      <td>yes</td>\n",
       "      <td>2</td>\n",
       "      <td>...</td>\n",
       "      <td>1.0</td>\n",
       "      <td>1.0</td>\n",
       "      <td>0.0</td>\n",
       "      <td>0.0</td>\n",
       "      <td>1.0</td>\n",
       "      <td>1.0</td>\n",
       "      <td>0.0</td>\n",
       "      <td>1.0</td>\n",
       "      <td>0.0</td>\n",
       "      <td>0.0</td>\n",
       "    </tr>\n",
       "    <tr>\n",
       "      <th>...</th>\n",
       "      <td>...</td>\n",
       "      <td>...</td>\n",
       "      <td>...</td>\n",
       "      <td>...</td>\n",
       "      <td>...</td>\n",
       "      <td>...</td>\n",
       "      <td>...</td>\n",
       "      <td>...</td>\n",
       "      <td>...</td>\n",
       "      <td>...</td>\n",
       "      <td>...</td>\n",
       "      <td>...</td>\n",
       "      <td>...</td>\n",
       "      <td>...</td>\n",
       "      <td>...</td>\n",
       "      <td>...</td>\n",
       "      <td>...</td>\n",
       "      <td>...</td>\n",
       "      <td>...</td>\n",
       "      <td>...</td>\n",
       "      <td>...</td>\n",
       "    </tr>\n",
       "    <tr>\n",
       "      <th>540</th>\n",
       "      <td>3000</td>\n",
       "      <td>2</td>\n",
       "      <td>1</td>\n",
       "      <td>1</td>\n",
       "      <td>yes</td>\n",
       "      <td>no</td>\n",
       "      <td>yes</td>\n",
       "      <td>no</td>\n",
       "      <td>no</td>\n",
       "      <td>2</td>\n",
       "      <td>...</td>\n",
       "      <td>1.0</td>\n",
       "      <td>1.0</td>\n",
       "      <td>0.0</td>\n",
       "      <td>1.0</td>\n",
       "      <td>0.0</td>\n",
       "      <td>1.0</td>\n",
       "      <td>0.0</td>\n",
       "      <td>0.0</td>\n",
       "      <td>0.0</td>\n",
       "      <td>1.0</td>\n",
       "    </tr>\n",
       "    <tr>\n",
       "      <th>541</th>\n",
       "      <td>2400</td>\n",
       "      <td>3</td>\n",
       "      <td>1</td>\n",
       "      <td>1</td>\n",
       "      <td>no</td>\n",
       "      <td>no</td>\n",
       "      <td>no</td>\n",
       "      <td>no</td>\n",
       "      <td>no</td>\n",
       "      <td>0</td>\n",
       "      <td>...</td>\n",
       "      <td>0.0</td>\n",
       "      <td>1.0</td>\n",
       "      <td>0.0</td>\n",
       "      <td>1.0</td>\n",
       "      <td>0.0</td>\n",
       "      <td>1.0</td>\n",
       "      <td>0.0</td>\n",
       "      <td>0.0</td>\n",
       "      <td>1.0</td>\n",
       "      <td>0.0</td>\n",
       "    </tr>\n",
       "    <tr>\n",
       "      <th>542</th>\n",
       "      <td>3620</td>\n",
       "      <td>2</td>\n",
       "      <td>1</td>\n",
       "      <td>1</td>\n",
       "      <td>yes</td>\n",
       "      <td>no</td>\n",
       "      <td>no</td>\n",
       "      <td>no</td>\n",
       "      <td>no</td>\n",
       "      <td>0</td>\n",
       "      <td>...</td>\n",
       "      <td>0.0</td>\n",
       "      <td>1.0</td>\n",
       "      <td>0.0</td>\n",
       "      <td>1.0</td>\n",
       "      <td>0.0</td>\n",
       "      <td>1.0</td>\n",
       "      <td>0.0</td>\n",
       "      <td>0.0</td>\n",
       "      <td>0.0</td>\n",
       "      <td>1.0</td>\n",
       "    </tr>\n",
       "    <tr>\n",
       "      <th>543</th>\n",
       "      <td>2910</td>\n",
       "      <td>3</td>\n",
       "      <td>1</td>\n",
       "      <td>1</td>\n",
       "      <td>no</td>\n",
       "      <td>no</td>\n",
       "      <td>no</td>\n",
       "      <td>no</td>\n",
       "      <td>no</td>\n",
       "      <td>0</td>\n",
       "      <td>...</td>\n",
       "      <td>0.0</td>\n",
       "      <td>1.0</td>\n",
       "      <td>0.0</td>\n",
       "      <td>1.0</td>\n",
       "      <td>0.0</td>\n",
       "      <td>1.0</td>\n",
       "      <td>0.0</td>\n",
       "      <td>1.0</td>\n",
       "      <td>0.0</td>\n",
       "      <td>0.0</td>\n",
       "    </tr>\n",
       "    <tr>\n",
       "      <th>544</th>\n",
       "      <td>3850</td>\n",
       "      <td>3</td>\n",
       "      <td>1</td>\n",
       "      <td>2</td>\n",
       "      <td>yes</td>\n",
       "      <td>no</td>\n",
       "      <td>no</td>\n",
       "      <td>no</td>\n",
       "      <td>no</td>\n",
       "      <td>0</td>\n",
       "      <td>...</td>\n",
       "      <td>0.0</td>\n",
       "      <td>1.0</td>\n",
       "      <td>0.0</td>\n",
       "      <td>1.0</td>\n",
       "      <td>0.0</td>\n",
       "      <td>1.0</td>\n",
       "      <td>0.0</td>\n",
       "      <td>0.0</td>\n",
       "      <td>0.0</td>\n",
       "      <td>1.0</td>\n",
       "    </tr>\n",
       "  </tbody>\n",
       "</table>\n",
       "<p>545 rows × 27 columns</p>\n",
       "</div>"
      ],
      "text/plain": [
       "     area  bedrooms  bathrooms  stories mainroad guestroom basement  \\\n",
       "0    7420         4          2        3      yes        no       no   \n",
       "1    8960         4          4        4      yes        no       no   \n",
       "2    9960         3          2        2      yes        no      yes   \n",
       "3    7500         4          2        2      yes        no      yes   \n",
       "4    7420         4          1        2      yes       yes      yes   \n",
       "..    ...       ...        ...      ...      ...       ...      ...   \n",
       "540  3000         2          1        1      yes        no      yes   \n",
       "541  2400         3          1        1       no        no       no   \n",
       "542  3620         2          1        1      yes        no       no   \n",
       "543  2910         3          1        1       no        no       no   \n",
       "544  3850         3          1        2      yes        no       no   \n",
       "\n",
       "    hotwaterheating airconditioning  parking  ... basement_yes  \\\n",
       "0                no             yes        2  ...          0.0   \n",
       "1                no             yes        3  ...          0.0   \n",
       "2                no              no        2  ...          1.0   \n",
       "3                no             yes        3  ...          1.0   \n",
       "4                no             yes        2  ...          1.0   \n",
       "..              ...             ...      ...  ...          ...   \n",
       "540              no              no        2  ...          1.0   \n",
       "541              no              no        0  ...          0.0   \n",
       "542              no              no        0  ...          0.0   \n",
       "543              no              no        0  ...          0.0   \n",
       "544              no              no        0  ...          0.0   \n",
       "\n",
       "    hotwaterheating_no  hotwaterheating_yes  airconditioning_no  \\\n",
       "0                  1.0                  0.0                 0.0   \n",
       "1                  1.0                  0.0                 0.0   \n",
       "2                  1.0                  0.0                 1.0   \n",
       "3                  1.0                  0.0                 0.0   \n",
       "4                  1.0                  0.0                 0.0   \n",
       "..                 ...                  ...                 ...   \n",
       "540                1.0                  0.0                 1.0   \n",
       "541                1.0                  0.0                 1.0   \n",
       "542                1.0                  0.0                 1.0   \n",
       "543                1.0                  0.0                 1.0   \n",
       "544                1.0                  0.0                 1.0   \n",
       "\n",
       "     airconditioning_yes  prefarea_no  prefarea_yes  \\\n",
       "0                    1.0          0.0           1.0   \n",
       "1                    1.0          1.0           0.0   \n",
       "2                    0.0          0.0           1.0   \n",
       "3                    1.0          0.0           1.0   \n",
       "4                    1.0          1.0           0.0   \n",
       "..                   ...          ...           ...   \n",
       "540                  0.0          1.0           0.0   \n",
       "541                  0.0          1.0           0.0   \n",
       "542                  0.0          1.0           0.0   \n",
       "543                  0.0          1.0           0.0   \n",
       "544                  0.0          1.0           0.0   \n",
       "\n",
       "     furnishingstatus_furnished  furnishingstatus_semi-furnished  \\\n",
       "0                           1.0                              0.0   \n",
       "1                           1.0                              0.0   \n",
       "2                           0.0                              1.0   \n",
       "3                           1.0                              0.0   \n",
       "4                           1.0                              0.0   \n",
       "..                          ...                              ...   \n",
       "540                         0.0                              0.0   \n",
       "541                         0.0                              1.0   \n",
       "542                         0.0                              0.0   \n",
       "543                         1.0                              0.0   \n",
       "544                         0.0                              0.0   \n",
       "\n",
       "     furnishingstatus_unfurnished  \n",
       "0                             0.0  \n",
       "1                             0.0  \n",
       "2                             0.0  \n",
       "3                             0.0  \n",
       "4                             0.0  \n",
       "..                            ...  \n",
       "540                           1.0  \n",
       "541                           0.0  \n",
       "542                           1.0  \n",
       "543                           0.0  \n",
       "544                           1.0  \n",
       "\n",
       "[545 rows x 27 columns]"
      ]
     },
     "execution_count": 71,
     "metadata": {},
     "output_type": "execute_result"
    }
   ],
   "source": [
    "input_df"
   ]
  },
  {
   "cell_type": "markdown",
   "id": "407679a1",
   "metadata": {},
   "source": [
    "### Training & Testing Data"
   ]
  },
  {
   "cell_type": "code",
   "execution_count": 72,
   "id": "545fcff7",
   "metadata": {},
   "outputs": [],
   "source": [
    "from sklearn.model_selection import train_test_split"
   ]
  },
  {
   "cell_type": "code",
   "execution_count": 73,
   "id": "5e54cf60",
   "metadata": {},
   "outputs": [],
   "source": [
    "train_x, test_x, train_y, test_y = train_test_split(input_df[numeric_cols+encoder_cols],df[target_col],test_size=0.30)"
   ]
  },
  {
   "cell_type": "code",
   "execution_count": 74,
   "id": "a48af22e",
   "metadata": {},
   "outputs": [
    {
     "data": {
      "text/html": [
       "<div>\n",
       "<style scoped>\n",
       "    .dataframe tbody tr th:only-of-type {\n",
       "        vertical-align: middle;\n",
       "    }\n",
       "\n",
       "    .dataframe tbody tr th {\n",
       "        vertical-align: top;\n",
       "    }\n",
       "\n",
       "    .dataframe thead th {\n",
       "        text-align: right;\n",
       "    }\n",
       "</style>\n",
       "<table border=\"1\" class=\"dataframe\">\n",
       "  <thead>\n",
       "    <tr style=\"text-align: right;\">\n",
       "      <th></th>\n",
       "      <th>area</th>\n",
       "      <th>bedrooms</th>\n",
       "      <th>bathrooms</th>\n",
       "      <th>stories</th>\n",
       "      <th>parking</th>\n",
       "      <th>mainroad_no</th>\n",
       "      <th>mainroad_yes</th>\n",
       "      <th>guestroom_no</th>\n",
       "      <th>guestroom_yes</th>\n",
       "      <th>basement_no</th>\n",
       "      <th>basement_yes</th>\n",
       "      <th>hotwaterheating_no</th>\n",
       "      <th>hotwaterheating_yes</th>\n",
       "      <th>airconditioning_no</th>\n",
       "      <th>airconditioning_yes</th>\n",
       "      <th>prefarea_no</th>\n",
       "      <th>prefarea_yes</th>\n",
       "      <th>furnishingstatus_furnished</th>\n",
       "      <th>furnishingstatus_semi-furnished</th>\n",
       "      <th>furnishingstatus_unfurnished</th>\n",
       "    </tr>\n",
       "  </thead>\n",
       "  <tbody>\n",
       "    <tr>\n",
       "      <th>452</th>\n",
       "      <td>9000</td>\n",
       "      <td>3</td>\n",
       "      <td>1</td>\n",
       "      <td>2</td>\n",
       "      <td>2</td>\n",
       "      <td>0.0</td>\n",
       "      <td>1.0</td>\n",
       "      <td>1.0</td>\n",
       "      <td>0.0</td>\n",
       "      <td>1.0</td>\n",
       "      <td>0.0</td>\n",
       "      <td>1.0</td>\n",
       "      <td>0.0</td>\n",
       "      <td>1.0</td>\n",
       "      <td>0.0</td>\n",
       "      <td>1.0</td>\n",
       "      <td>0.0</td>\n",
       "      <td>0.0</td>\n",
       "      <td>1.0</td>\n",
       "      <td>0.0</td>\n",
       "    </tr>\n",
       "    <tr>\n",
       "      <th>120</th>\n",
       "      <td>6540</td>\n",
       "      <td>3</td>\n",
       "      <td>1</td>\n",
       "      <td>1</td>\n",
       "      <td>2</td>\n",
       "      <td>0.0</td>\n",
       "      <td>1.0</td>\n",
       "      <td>0.0</td>\n",
       "      <td>1.0</td>\n",
       "      <td>0.0</td>\n",
       "      <td>1.0</td>\n",
       "      <td>1.0</td>\n",
       "      <td>0.0</td>\n",
       "      <td>1.0</td>\n",
       "      <td>0.0</td>\n",
       "      <td>0.0</td>\n",
       "      <td>1.0</td>\n",
       "      <td>1.0</td>\n",
       "      <td>0.0</td>\n",
       "      <td>0.0</td>\n",
       "    </tr>\n",
       "    <tr>\n",
       "      <th>278</th>\n",
       "      <td>3400</td>\n",
       "      <td>3</td>\n",
       "      <td>1</td>\n",
       "      <td>2</td>\n",
       "      <td>2</td>\n",
       "      <td>0.0</td>\n",
       "      <td>1.0</td>\n",
       "      <td>1.0</td>\n",
       "      <td>0.0</td>\n",
       "      <td>0.0</td>\n",
       "      <td>1.0</td>\n",
       "      <td>1.0</td>\n",
       "      <td>0.0</td>\n",
       "      <td>1.0</td>\n",
       "      <td>0.0</td>\n",
       "      <td>0.0</td>\n",
       "      <td>1.0</td>\n",
       "      <td>0.0</td>\n",
       "      <td>1.0</td>\n",
       "      <td>0.0</td>\n",
       "    </tr>\n",
       "    <tr>\n",
       "      <th>341</th>\n",
       "      <td>3180</td>\n",
       "      <td>2</td>\n",
       "      <td>2</td>\n",
       "      <td>1</td>\n",
       "      <td>2</td>\n",
       "      <td>0.0</td>\n",
       "      <td>1.0</td>\n",
       "      <td>1.0</td>\n",
       "      <td>0.0</td>\n",
       "      <td>0.0</td>\n",
       "      <td>1.0</td>\n",
       "      <td>1.0</td>\n",
       "      <td>0.0</td>\n",
       "      <td>1.0</td>\n",
       "      <td>0.0</td>\n",
       "      <td>1.0</td>\n",
       "      <td>0.0</td>\n",
       "      <td>0.0</td>\n",
       "      <td>1.0</td>\n",
       "      <td>0.0</td>\n",
       "    </tr>\n",
       "    <tr>\n",
       "      <th>393</th>\n",
       "      <td>7424</td>\n",
       "      <td>3</td>\n",
       "      <td>1</td>\n",
       "      <td>1</td>\n",
       "      <td>0</td>\n",
       "      <td>1.0</td>\n",
       "      <td>0.0</td>\n",
       "      <td>1.0</td>\n",
       "      <td>0.0</td>\n",
       "      <td>1.0</td>\n",
       "      <td>0.0</td>\n",
       "      <td>1.0</td>\n",
       "      <td>0.0</td>\n",
       "      <td>1.0</td>\n",
       "      <td>0.0</td>\n",
       "      <td>1.0</td>\n",
       "      <td>0.0</td>\n",
       "      <td>0.0</td>\n",
       "      <td>0.0</td>\n",
       "      <td>1.0</td>\n",
       "    </tr>\n",
       "    <tr>\n",
       "      <th>...</th>\n",
       "      <td>...</td>\n",
       "      <td>...</td>\n",
       "      <td>...</td>\n",
       "      <td>...</td>\n",
       "      <td>...</td>\n",
       "      <td>...</td>\n",
       "      <td>...</td>\n",
       "      <td>...</td>\n",
       "      <td>...</td>\n",
       "      <td>...</td>\n",
       "      <td>...</td>\n",
       "      <td>...</td>\n",
       "      <td>...</td>\n",
       "      <td>...</td>\n",
       "      <td>...</td>\n",
       "      <td>...</td>\n",
       "      <td>...</td>\n",
       "      <td>...</td>\n",
       "      <td>...</td>\n",
       "      <td>...</td>\n",
       "    </tr>\n",
       "    <tr>\n",
       "      <th>98</th>\n",
       "      <td>6600</td>\n",
       "      <td>3</td>\n",
       "      <td>2</td>\n",
       "      <td>3</td>\n",
       "      <td>0</td>\n",
       "      <td>0.0</td>\n",
       "      <td>1.0</td>\n",
       "      <td>1.0</td>\n",
       "      <td>0.0</td>\n",
       "      <td>1.0</td>\n",
       "      <td>0.0</td>\n",
       "      <td>1.0</td>\n",
       "      <td>0.0</td>\n",
       "      <td>0.0</td>\n",
       "      <td>1.0</td>\n",
       "      <td>0.0</td>\n",
       "      <td>1.0</td>\n",
       "      <td>0.0</td>\n",
       "      <td>0.0</td>\n",
       "      <td>1.0</td>\n",
       "    </tr>\n",
       "    <tr>\n",
       "      <th>28</th>\n",
       "      <td>7950</td>\n",
       "      <td>5</td>\n",
       "      <td>2</td>\n",
       "      <td>2</td>\n",
       "      <td>2</td>\n",
       "      <td>0.0</td>\n",
       "      <td>1.0</td>\n",
       "      <td>1.0</td>\n",
       "      <td>0.0</td>\n",
       "      <td>0.0</td>\n",
       "      <td>1.0</td>\n",
       "      <td>0.0</td>\n",
       "      <td>1.0</td>\n",
       "      <td>1.0</td>\n",
       "      <td>0.0</td>\n",
       "      <td>1.0</td>\n",
       "      <td>0.0</td>\n",
       "      <td>0.0</td>\n",
       "      <td>0.0</td>\n",
       "      <td>1.0</td>\n",
       "    </tr>\n",
       "    <tr>\n",
       "      <th>518</th>\n",
       "      <td>3500</td>\n",
       "      <td>2</td>\n",
       "      <td>1</td>\n",
       "      <td>1</td>\n",
       "      <td>0</td>\n",
       "      <td>0.0</td>\n",
       "      <td>1.0</td>\n",
       "      <td>0.0</td>\n",
       "      <td>1.0</td>\n",
       "      <td>1.0</td>\n",
       "      <td>0.0</td>\n",
       "      <td>1.0</td>\n",
       "      <td>0.0</td>\n",
       "      <td>1.0</td>\n",
       "      <td>0.0</td>\n",
       "      <td>1.0</td>\n",
       "      <td>0.0</td>\n",
       "      <td>0.0</td>\n",
       "      <td>0.0</td>\n",
       "      <td>1.0</td>\n",
       "    </tr>\n",
       "    <tr>\n",
       "      <th>537</th>\n",
       "      <td>1700</td>\n",
       "      <td>3</td>\n",
       "      <td>1</td>\n",
       "      <td>2</td>\n",
       "      <td>0</td>\n",
       "      <td>0.0</td>\n",
       "      <td>1.0</td>\n",
       "      <td>1.0</td>\n",
       "      <td>0.0</td>\n",
       "      <td>1.0</td>\n",
       "      <td>0.0</td>\n",
       "      <td>1.0</td>\n",
       "      <td>0.0</td>\n",
       "      <td>1.0</td>\n",
       "      <td>0.0</td>\n",
       "      <td>1.0</td>\n",
       "      <td>0.0</td>\n",
       "      <td>0.0</td>\n",
       "      <td>0.0</td>\n",
       "      <td>1.0</td>\n",
       "    </tr>\n",
       "    <tr>\n",
       "      <th>125</th>\n",
       "      <td>15600</td>\n",
       "      <td>3</td>\n",
       "      <td>1</td>\n",
       "      <td>1</td>\n",
       "      <td>2</td>\n",
       "      <td>0.0</td>\n",
       "      <td>1.0</td>\n",
       "      <td>1.0</td>\n",
       "      <td>0.0</td>\n",
       "      <td>1.0</td>\n",
       "      <td>0.0</td>\n",
       "      <td>1.0</td>\n",
       "      <td>0.0</td>\n",
       "      <td>0.0</td>\n",
       "      <td>1.0</td>\n",
       "      <td>1.0</td>\n",
       "      <td>0.0</td>\n",
       "      <td>0.0</td>\n",
       "      <td>1.0</td>\n",
       "      <td>0.0</td>\n",
       "    </tr>\n",
       "  </tbody>\n",
       "</table>\n",
       "<p>381 rows × 20 columns</p>\n",
       "</div>"
      ],
      "text/plain": [
       "      area  bedrooms  bathrooms  stories  parking  mainroad_no  mainroad_yes  \\\n",
       "452   9000         3          1        2        2          0.0           1.0   \n",
       "120   6540         3          1        1        2          0.0           1.0   \n",
       "278   3400         3          1        2        2          0.0           1.0   \n",
       "341   3180         2          2        1        2          0.0           1.0   \n",
       "393   7424         3          1        1        0          1.0           0.0   \n",
       "..     ...       ...        ...      ...      ...          ...           ...   \n",
       "98    6600         3          2        3        0          0.0           1.0   \n",
       "28    7950         5          2        2        2          0.0           1.0   \n",
       "518   3500         2          1        1        0          0.0           1.0   \n",
       "537   1700         3          1        2        0          0.0           1.0   \n",
       "125  15600         3          1        1        2          0.0           1.0   \n",
       "\n",
       "     guestroom_no  guestroom_yes  basement_no  basement_yes  \\\n",
       "452           1.0            0.0          1.0           0.0   \n",
       "120           0.0            1.0          0.0           1.0   \n",
       "278           1.0            0.0          0.0           1.0   \n",
       "341           1.0            0.0          0.0           1.0   \n",
       "393           1.0            0.0          1.0           0.0   \n",
       "..            ...            ...          ...           ...   \n",
       "98            1.0            0.0          1.0           0.0   \n",
       "28            1.0            0.0          0.0           1.0   \n",
       "518           0.0            1.0          1.0           0.0   \n",
       "537           1.0            0.0          1.0           0.0   \n",
       "125           1.0            0.0          1.0           0.0   \n",
       "\n",
       "     hotwaterheating_no  hotwaterheating_yes  airconditioning_no  \\\n",
       "452                 1.0                  0.0                 1.0   \n",
       "120                 1.0                  0.0                 1.0   \n",
       "278                 1.0                  0.0                 1.0   \n",
       "341                 1.0                  0.0                 1.0   \n",
       "393                 1.0                  0.0                 1.0   \n",
       "..                  ...                  ...                 ...   \n",
       "98                  1.0                  0.0                 0.0   \n",
       "28                  0.0                  1.0                 1.0   \n",
       "518                 1.0                  0.0                 1.0   \n",
       "537                 1.0                  0.0                 1.0   \n",
       "125                 1.0                  0.0                 0.0   \n",
       "\n",
       "     airconditioning_yes  prefarea_no  prefarea_yes  \\\n",
       "452                  0.0          1.0           0.0   \n",
       "120                  0.0          0.0           1.0   \n",
       "278                  0.0          0.0           1.0   \n",
       "341                  0.0          1.0           0.0   \n",
       "393                  0.0          1.0           0.0   \n",
       "..                   ...          ...           ...   \n",
       "98                   1.0          0.0           1.0   \n",
       "28                   0.0          1.0           0.0   \n",
       "518                  0.0          1.0           0.0   \n",
       "537                  0.0          1.0           0.0   \n",
       "125                  1.0          1.0           0.0   \n",
       "\n",
       "     furnishingstatus_furnished  furnishingstatus_semi-furnished  \\\n",
       "452                         0.0                              1.0   \n",
       "120                         1.0                              0.0   \n",
       "278                         0.0                              1.0   \n",
       "341                         0.0                              1.0   \n",
       "393                         0.0                              0.0   \n",
       "..                          ...                              ...   \n",
       "98                          0.0                              0.0   \n",
       "28                          0.0                              0.0   \n",
       "518                         0.0                              0.0   \n",
       "537                         0.0                              0.0   \n",
       "125                         0.0                              1.0   \n",
       "\n",
       "     furnishingstatus_unfurnished  \n",
       "452                           0.0  \n",
       "120                           0.0  \n",
       "278                           0.0  \n",
       "341                           0.0  \n",
       "393                           1.0  \n",
       "..                            ...  \n",
       "98                            1.0  \n",
       "28                            1.0  \n",
       "518                           1.0  \n",
       "537                           1.0  \n",
       "125                           0.0  \n",
       "\n",
       "[381 rows x 20 columns]"
      ]
     },
     "execution_count": 74,
     "metadata": {},
     "output_type": "execute_result"
    }
   ],
   "source": [
    "train_x"
   ]
  },
  {
   "cell_type": "code",
   "execution_count": 75,
   "id": "3b33cc06",
   "metadata": {},
   "outputs": [
    {
     "data": {
      "text/plain": [
       "452    3150000\n",
       "120    5950000\n",
       "278    4277000\n",
       "341    3850000\n",
       "393    3500000\n",
       "        ...   \n",
       "98     6293000\n",
       "28     8400000\n",
       "518    2450000\n",
       "537    1890000\n",
       "125    5943000\n",
       "Name: price, Length: 381, dtype: int64"
      ]
     },
     "execution_count": 75,
     "metadata": {},
     "output_type": "execute_result"
    }
   ],
   "source": [
    "train_y"
   ]
  },
  {
   "cell_type": "code",
   "execution_count": 76,
   "id": "ba7e7902",
   "metadata": {},
   "outputs": [
    {
     "data": {
      "text/html": [
       "<div>\n",
       "<style scoped>\n",
       "    .dataframe tbody tr th:only-of-type {\n",
       "        vertical-align: middle;\n",
       "    }\n",
       "\n",
       "    .dataframe tbody tr th {\n",
       "        vertical-align: top;\n",
       "    }\n",
       "\n",
       "    .dataframe thead th {\n",
       "        text-align: right;\n",
       "    }\n",
       "</style>\n",
       "<table border=\"1\" class=\"dataframe\">\n",
       "  <thead>\n",
       "    <tr style=\"text-align: right;\">\n",
       "      <th></th>\n",
       "      <th>area</th>\n",
       "      <th>bedrooms</th>\n",
       "      <th>bathrooms</th>\n",
       "      <th>stories</th>\n",
       "      <th>parking</th>\n",
       "      <th>mainroad_no</th>\n",
       "      <th>mainroad_yes</th>\n",
       "      <th>guestroom_no</th>\n",
       "      <th>guestroom_yes</th>\n",
       "      <th>basement_no</th>\n",
       "      <th>basement_yes</th>\n",
       "      <th>hotwaterheating_no</th>\n",
       "      <th>hotwaterheating_yes</th>\n",
       "      <th>airconditioning_no</th>\n",
       "      <th>airconditioning_yes</th>\n",
       "      <th>prefarea_no</th>\n",
       "      <th>prefarea_yes</th>\n",
       "      <th>furnishingstatus_furnished</th>\n",
       "      <th>furnishingstatus_semi-furnished</th>\n",
       "      <th>furnishingstatus_unfurnished</th>\n",
       "    </tr>\n",
       "  </thead>\n",
       "  <tbody>\n",
       "    <tr>\n",
       "      <th>150</th>\n",
       "      <td>5136</td>\n",
       "      <td>3</td>\n",
       "      <td>1</td>\n",
       "      <td>2</td>\n",
       "      <td>0</td>\n",
       "      <td>0.0</td>\n",
       "      <td>1.0</td>\n",
       "      <td>0.0</td>\n",
       "      <td>1.0</td>\n",
       "      <td>0.0</td>\n",
       "      <td>1.0</td>\n",
       "      <td>1.0</td>\n",
       "      <td>0.0</td>\n",
       "      <td>0.0</td>\n",
       "      <td>1.0</td>\n",
       "      <td>0.0</td>\n",
       "      <td>1.0</td>\n",
       "      <td>0.0</td>\n",
       "      <td>0.0</td>\n",
       "      <td>1.0</td>\n",
       "    </tr>\n",
       "    <tr>\n",
       "      <th>418</th>\n",
       "      <td>3500</td>\n",
       "      <td>4</td>\n",
       "      <td>1</td>\n",
       "      <td>2</td>\n",
       "      <td>2</td>\n",
       "      <td>0.0</td>\n",
       "      <td>1.0</td>\n",
       "      <td>1.0</td>\n",
       "      <td>0.0</td>\n",
       "      <td>1.0</td>\n",
       "      <td>0.0</td>\n",
       "      <td>1.0</td>\n",
       "      <td>0.0</td>\n",
       "      <td>0.0</td>\n",
       "      <td>1.0</td>\n",
       "      <td>1.0</td>\n",
       "      <td>0.0</td>\n",
       "      <td>0.0</td>\n",
       "      <td>0.0</td>\n",
       "      <td>1.0</td>\n",
       "    </tr>\n",
       "    <tr>\n",
       "      <th>3</th>\n",
       "      <td>7500</td>\n",
       "      <td>4</td>\n",
       "      <td>2</td>\n",
       "      <td>2</td>\n",
       "      <td>3</td>\n",
       "      <td>0.0</td>\n",
       "      <td>1.0</td>\n",
       "      <td>1.0</td>\n",
       "      <td>0.0</td>\n",
       "      <td>0.0</td>\n",
       "      <td>1.0</td>\n",
       "      <td>1.0</td>\n",
       "      <td>0.0</td>\n",
       "      <td>0.0</td>\n",
       "      <td>1.0</td>\n",
       "      <td>0.0</td>\n",
       "      <td>1.0</td>\n",
       "      <td>1.0</td>\n",
       "      <td>0.0</td>\n",
       "      <td>0.0</td>\n",
       "    </tr>\n",
       "    <tr>\n",
       "      <th>486</th>\n",
       "      <td>6000</td>\n",
       "      <td>2</td>\n",
       "      <td>1</td>\n",
       "      <td>1</td>\n",
       "      <td>0</td>\n",
       "      <td>0.0</td>\n",
       "      <td>1.0</td>\n",
       "      <td>1.0</td>\n",
       "      <td>0.0</td>\n",
       "      <td>1.0</td>\n",
       "      <td>0.0</td>\n",
       "      <td>1.0</td>\n",
       "      <td>0.0</td>\n",
       "      <td>1.0</td>\n",
       "      <td>0.0</td>\n",
       "      <td>1.0</td>\n",
       "      <td>0.0</td>\n",
       "      <td>0.0</td>\n",
       "      <td>1.0</td>\n",
       "      <td>0.0</td>\n",
       "    </tr>\n",
       "    <tr>\n",
       "      <th>284</th>\n",
       "      <td>7770</td>\n",
       "      <td>2</td>\n",
       "      <td>1</td>\n",
       "      <td>1</td>\n",
       "      <td>1</td>\n",
       "      <td>0.0</td>\n",
       "      <td>1.0</td>\n",
       "      <td>1.0</td>\n",
       "      <td>0.0</td>\n",
       "      <td>1.0</td>\n",
       "      <td>0.0</td>\n",
       "      <td>1.0</td>\n",
       "      <td>0.0</td>\n",
       "      <td>1.0</td>\n",
       "      <td>0.0</td>\n",
       "      <td>1.0</td>\n",
       "      <td>0.0</td>\n",
       "      <td>1.0</td>\n",
       "      <td>0.0</td>\n",
       "      <td>0.0</td>\n",
       "    </tr>\n",
       "    <tr>\n",
       "      <th>...</th>\n",
       "      <td>...</td>\n",
       "      <td>...</td>\n",
       "      <td>...</td>\n",
       "      <td>...</td>\n",
       "      <td>...</td>\n",
       "      <td>...</td>\n",
       "      <td>...</td>\n",
       "      <td>...</td>\n",
       "      <td>...</td>\n",
       "      <td>...</td>\n",
       "      <td>...</td>\n",
       "      <td>...</td>\n",
       "      <td>...</td>\n",
       "      <td>...</td>\n",
       "      <td>...</td>\n",
       "      <td>...</td>\n",
       "      <td>...</td>\n",
       "      <td>...</td>\n",
       "      <td>...</td>\n",
       "      <td>...</td>\n",
       "    </tr>\n",
       "    <tr>\n",
       "      <th>204</th>\n",
       "      <td>4770</td>\n",
       "      <td>3</td>\n",
       "      <td>1</td>\n",
       "      <td>1</td>\n",
       "      <td>0</td>\n",
       "      <td>0.0</td>\n",
       "      <td>1.0</td>\n",
       "      <td>0.0</td>\n",
       "      <td>1.0</td>\n",
       "      <td>0.0</td>\n",
       "      <td>1.0</td>\n",
       "      <td>1.0</td>\n",
       "      <td>0.0</td>\n",
       "      <td>1.0</td>\n",
       "      <td>0.0</td>\n",
       "      <td>1.0</td>\n",
       "      <td>0.0</td>\n",
       "      <td>0.0</td>\n",
       "      <td>1.0</td>\n",
       "      <td>0.0</td>\n",
       "    </tr>\n",
       "    <tr>\n",
       "      <th>503</th>\n",
       "      <td>4000</td>\n",
       "      <td>3</td>\n",
       "      <td>1</td>\n",
       "      <td>1</td>\n",
       "      <td>0</td>\n",
       "      <td>0.0</td>\n",
       "      <td>1.0</td>\n",
       "      <td>1.0</td>\n",
       "      <td>0.0</td>\n",
       "      <td>1.0</td>\n",
       "      <td>0.0</td>\n",
       "      <td>1.0</td>\n",
       "      <td>0.0</td>\n",
       "      <td>1.0</td>\n",
       "      <td>0.0</td>\n",
       "      <td>1.0</td>\n",
       "      <td>0.0</td>\n",
       "      <td>0.0</td>\n",
       "      <td>1.0</td>\n",
       "      <td>0.0</td>\n",
       "    </tr>\n",
       "    <tr>\n",
       "      <th>241</th>\n",
       "      <td>3760</td>\n",
       "      <td>3</td>\n",
       "      <td>1</td>\n",
       "      <td>1</td>\n",
       "      <td>2</td>\n",
       "      <td>0.0</td>\n",
       "      <td>1.0</td>\n",
       "      <td>1.0</td>\n",
       "      <td>0.0</td>\n",
       "      <td>1.0</td>\n",
       "      <td>0.0</td>\n",
       "      <td>1.0</td>\n",
       "      <td>0.0</td>\n",
       "      <td>1.0</td>\n",
       "      <td>0.0</td>\n",
       "      <td>1.0</td>\n",
       "      <td>0.0</td>\n",
       "      <td>0.0</td>\n",
       "      <td>1.0</td>\n",
       "      <td>0.0</td>\n",
       "    </tr>\n",
       "    <tr>\n",
       "      <th>69</th>\n",
       "      <td>12090</td>\n",
       "      <td>4</td>\n",
       "      <td>2</td>\n",
       "      <td>2</td>\n",
       "      <td>2</td>\n",
       "      <td>0.0</td>\n",
       "      <td>1.0</td>\n",
       "      <td>1.0</td>\n",
       "      <td>0.0</td>\n",
       "      <td>1.0</td>\n",
       "      <td>0.0</td>\n",
       "      <td>1.0</td>\n",
       "      <td>0.0</td>\n",
       "      <td>1.0</td>\n",
       "      <td>0.0</td>\n",
       "      <td>0.0</td>\n",
       "      <td>1.0</td>\n",
       "      <td>1.0</td>\n",
       "      <td>0.0</td>\n",
       "      <td>0.0</td>\n",
       "    </tr>\n",
       "    <tr>\n",
       "      <th>531</th>\n",
       "      <td>5300</td>\n",
       "      <td>3</td>\n",
       "      <td>1</td>\n",
       "      <td>1</td>\n",
       "      <td>0</td>\n",
       "      <td>1.0</td>\n",
       "      <td>0.0</td>\n",
       "      <td>1.0</td>\n",
       "      <td>0.0</td>\n",
       "      <td>1.0</td>\n",
       "      <td>0.0</td>\n",
       "      <td>1.0</td>\n",
       "      <td>0.0</td>\n",
       "      <td>0.0</td>\n",
       "      <td>1.0</td>\n",
       "      <td>0.0</td>\n",
       "      <td>1.0</td>\n",
       "      <td>0.0</td>\n",
       "      <td>0.0</td>\n",
       "      <td>1.0</td>\n",
       "    </tr>\n",
       "  </tbody>\n",
       "</table>\n",
       "<p>164 rows × 20 columns</p>\n",
       "</div>"
      ],
      "text/plain": [
       "      area  bedrooms  bathrooms  stories  parking  mainroad_no  mainroad_yes  \\\n",
       "150   5136         3          1        2        0          0.0           1.0   \n",
       "418   3500         4          1        2        2          0.0           1.0   \n",
       "3     7500         4          2        2        3          0.0           1.0   \n",
       "486   6000         2          1        1        0          0.0           1.0   \n",
       "284   7770         2          1        1        1          0.0           1.0   \n",
       "..     ...       ...        ...      ...      ...          ...           ...   \n",
       "204   4770         3          1        1        0          0.0           1.0   \n",
       "503   4000         3          1        1        0          0.0           1.0   \n",
       "241   3760         3          1        1        2          0.0           1.0   \n",
       "69   12090         4          2        2        2          0.0           1.0   \n",
       "531   5300         3          1        1        0          1.0           0.0   \n",
       "\n",
       "     guestroom_no  guestroom_yes  basement_no  basement_yes  \\\n",
       "150           0.0            1.0          0.0           1.0   \n",
       "418           1.0            0.0          1.0           0.0   \n",
       "3             1.0            0.0          0.0           1.0   \n",
       "486           1.0            0.0          1.0           0.0   \n",
       "284           1.0            0.0          1.0           0.0   \n",
       "..            ...            ...          ...           ...   \n",
       "204           0.0            1.0          0.0           1.0   \n",
       "503           1.0            0.0          1.0           0.0   \n",
       "241           1.0            0.0          1.0           0.0   \n",
       "69            1.0            0.0          1.0           0.0   \n",
       "531           1.0            0.0          1.0           0.0   \n",
       "\n",
       "     hotwaterheating_no  hotwaterheating_yes  airconditioning_no  \\\n",
       "150                 1.0                  0.0                 0.0   \n",
       "418                 1.0                  0.0                 0.0   \n",
       "3                   1.0                  0.0                 0.0   \n",
       "486                 1.0                  0.0                 1.0   \n",
       "284                 1.0                  0.0                 1.0   \n",
       "..                  ...                  ...                 ...   \n",
       "204                 1.0                  0.0                 1.0   \n",
       "503                 1.0                  0.0                 1.0   \n",
       "241                 1.0                  0.0                 1.0   \n",
       "69                  1.0                  0.0                 1.0   \n",
       "531                 1.0                  0.0                 0.0   \n",
       "\n",
       "     airconditioning_yes  prefarea_no  prefarea_yes  \\\n",
       "150                  1.0          0.0           1.0   \n",
       "418                  1.0          1.0           0.0   \n",
       "3                    1.0          0.0           1.0   \n",
       "486                  0.0          1.0           0.0   \n",
       "284                  0.0          1.0           0.0   \n",
       "..                   ...          ...           ...   \n",
       "204                  0.0          1.0           0.0   \n",
       "503                  0.0          1.0           0.0   \n",
       "241                  0.0          1.0           0.0   \n",
       "69                   0.0          0.0           1.0   \n",
       "531                  1.0          0.0           1.0   \n",
       "\n",
       "     furnishingstatus_furnished  furnishingstatus_semi-furnished  \\\n",
       "150                         0.0                              0.0   \n",
       "418                         0.0                              0.0   \n",
       "3                           1.0                              0.0   \n",
       "486                         0.0                              1.0   \n",
       "284                         1.0                              0.0   \n",
       "..                          ...                              ...   \n",
       "204                         0.0                              1.0   \n",
       "503                         0.0                              1.0   \n",
       "241                         0.0                              1.0   \n",
       "69                          1.0                              0.0   \n",
       "531                         0.0                              0.0   \n",
       "\n",
       "     furnishingstatus_unfurnished  \n",
       "150                           1.0  \n",
       "418                           1.0  \n",
       "3                             0.0  \n",
       "486                           0.0  \n",
       "284                           0.0  \n",
       "..                            ...  \n",
       "204                           0.0  \n",
       "503                           0.0  \n",
       "241                           0.0  \n",
       "69                            0.0  \n",
       "531                           1.0  \n",
       "\n",
       "[164 rows x 20 columns]"
      ]
     },
     "execution_count": 76,
     "metadata": {},
     "output_type": "execute_result"
    }
   ],
   "source": [
    "test_x"
   ]
  },
  {
   "cell_type": "code",
   "execution_count": 77,
   "id": "81036239",
   "metadata": {},
   "outputs": [
    {
     "data": {
      "text/plain": [
       "150     5600000\n",
       "418     3360000\n",
       "3      12215000\n",
       "486     2870000\n",
       "284     4270000\n",
       "         ...   \n",
       "204     4900000\n",
       "503     2660000\n",
       "241     4550000\n",
       "69      6790000\n",
       "531     2233000\n",
       "Name: price, Length: 164, dtype: int64"
      ]
     },
     "execution_count": 77,
     "metadata": {},
     "output_type": "execute_result"
    }
   ],
   "source": [
    "test_y"
   ]
  },
  {
   "cell_type": "markdown",
   "id": "ccf3b9bc",
   "metadata": {},
   "source": [
    "## Linear Regression Model"
   ]
  },
  {
   "cell_type": "code",
   "execution_count": 78,
   "id": "fba671d4",
   "metadata": {},
   "outputs": [],
   "source": [
    "from sklearn.linear_model import LinearRegression"
   ]
  },
  {
   "cell_type": "code",
   "execution_count": 79,
   "id": "8ec247e9",
   "metadata": {},
   "outputs": [],
   "source": [
    "model = LinearRegression()"
   ]
  },
  {
   "cell_type": "code",
   "execution_count": 80,
   "id": "dc7a0d9e",
   "metadata": {},
   "outputs": [
    {
     "data": {
      "text/plain": [
       "LinearRegression()"
      ]
     },
     "execution_count": 80,
     "metadata": {},
     "output_type": "execute_result"
    }
   ],
   "source": [
    "model.fit(train_x, train_y)"
   ]
  },
  {
   "cell_type": "markdown",
   "id": "b7bfe020",
   "metadata": {},
   "source": [
    "### Model Prediction"
   ]
  },
  {
   "cell_type": "code",
   "execution_count": 81,
   "id": "8131ec2f",
   "metadata": {},
   "outputs": [],
   "source": [
    "train_preds = model.predict(train_x)"
   ]
  },
  {
   "cell_type": "code",
   "execution_count": 82,
   "id": "3c629ba9",
   "metadata": {},
   "outputs": [],
   "source": [
    "test_preds = model.predict(test_x)"
   ]
  },
  {
   "cell_type": "code",
   "execution_count": 83,
   "id": "6ddb0a09",
   "metadata": {
    "scrolled": true
   },
   "outputs": [
    {
     "data": {
      "text/plain": [
       "array([ 5458398.03057485,  5813190.74141892,  4925436.08390644,\n",
       "        4798076.30199059,  3332685.46952564,  2641605.59477582,\n",
       "        4420198.34899757,  6452471.86320183,  6046517.38697857,\n",
       "        2611168.41264566,  7194578.74057494,  2736752.65517476,\n",
       "        4283989.80853361,  3818407.61711266,  4191778.88432755,\n",
       "        2693216.82720621,  4122231.14231443,  4103677.45186901,\n",
       "        2802873.45101818,  7236269.24679182,  4903018.44052994,\n",
       "        8118936.8725796 ,  7206482.21117274,  5733896.03143417,\n",
       "        3963397.51294452,  3654817.55948238,  2978030.40550654,\n",
       "        3243140.18429348,  3877381.7406499 ,  3724693.92946406,\n",
       "        4007309.47168049,  3312753.26950584,  6372346.99550468,\n",
       "        5613805.43232178,  4082031.13559399,  2644177.13694876,\n",
       "        9844523.78491058,  4643338.63248674,  5401171.77015954,\n",
       "        2241322.97132806,  4986218.96516583,  3872797.01469718,\n",
       "        3797694.53451567,  3883257.3240667 ,  3271436.56585726,\n",
       "        5684773.90825432,  7960877.18800203,  4509546.07704612,\n",
       "        4732004.08444691,  4648237.60706764,  5045667.43200276,\n",
       "        3158987.06194317,  6820223.27011843,  7555281.28490566,\n",
       "        4060383.61644549,  5234924.99017114,  4391549.53271976,\n",
       "        5928755.27420738,  5825726.64478573,  3026889.70679248,\n",
       "        7187321.4280835 ,  4234022.47803854,  3367689.79350658,\n",
       "        6437699.02431838,  5274479.25175931,  3360948.97781308,\n",
       "        4451363.70804286,  5088227.15383013,  4023208.99928676,\n",
       "        4314484.14513115,  3921034.93760791,  6236796.4355266 ,\n",
       "        5839112.77091135,  6412672.39515738,  4603395.35673141,\n",
       "        6543437.26367228,  2004490.73878211,  5241389.92229245,\n",
       "        3675476.7164928 ,  3366290.52767802,  6481809.56673629,\n",
       "        5765819.54797127,  7200649.6765015 ,  5695882.74414707,\n",
       "        3448812.15329976,  3977189.7389589 ,  6377605.95482917,\n",
       "        5270156.12059303,  3220202.5836883 ,  3106822.93427797,\n",
       "        4430619.34177783,  6211099.01279532,  4443200.9429531 ,\n",
       "        3424996.59716302,  5458072.59514773,  8135738.34346413,\n",
       "        3669392.61091198,  2662298.55621157,  6693710.04235887,\n",
       "        3476642.86074612,  4627316.18854874,  5745365.0658083 ,\n",
       "        4988549.64984382,  6739932.85491048,  3835355.04741454,\n",
       "        5551883.18404441,  5029829.50079607,  4250808.25096165,\n",
       "        4006834.23447084,  4690927.84532255,  7599829.80753791,\n",
       "        3587244.68903218,  7189058.8750403 ,  5118402.79223246,\n",
       "        4040351.39130137,  6142232.61100921,  4991383.25399096,\n",
       "        4198207.84740387,  5124102.71883857,  4348426.9619559 ,\n",
       "        3665847.63469445,  2266788.04042243,  3851174.41232603,\n",
       "        5143536.94334578,  4193199.28148622,  4164726.81624566,\n",
       "        3053303.48021739,  2852446.16297744,  4732249.08477427,\n",
       "        4198207.84740387,  3191709.34083459,  7457764.4729796 ,\n",
       "        6607420.80773271,  3860540.93331793,  4375834.20940077,\n",
       "        4743162.31343207,  5188688.26075704,  4913908.93135344,\n",
       "        4199074.86490302,  4119384.41509796,  3778227.23521722,\n",
       "        4477851.40399404,  3393199.74785456,  4345423.23355669,\n",
       "        4993637.32265908,  5790718.0041114 ,  5679313.69535281,\n",
       "        3693135.23215029,  3950701.29380586,  3725660.75244619,\n",
       "        3829808.37660015,  5759179.75512766,  3278866.58967118,\n",
       "        3952585.12413315,  6830717.48797114,  6935265.83719281,\n",
       "        6329132.64410054,  3218517.70116681,  3376167.89710412,\n",
       "        3235123.80031031,  6854825.21268562,  3648408.42916728,\n",
       "        2330594.4483102 ,  6319292.10810265,  4739588.71962829,\n",
       "        4032377.62731881,  3700418.05949118,  4350265.38607224,\n",
       "        4165844.89518103,  3435558.63333931,  6408651.12852565,\n",
       "        3101371.44531845,  5354489.31918092,  2840010.15118825,\n",
       "        6627482.56586099,  2639034.05260287,  3137009.3886427 ,\n",
       "        5030182.7453296 ,  3603612.72009208,  4991020.94647192,\n",
       "        3171318.4499939 ,  4335759.15636595,  5680184.15937931,\n",
       "        3418579.14150017,  3229559.39201925,  5455625.76445547,\n",
       "        6889198.27720154,  5013918.10132257,  5382837.05776861,\n",
       "        5506357.89028601,  6539727.55708563,  4133501.99794132,\n",
       "        8890640.47444941,  3015401.23906806,  5523044.91580958,\n",
       "        3391415.70359892,  3075196.27899333,  3482123.4202026 ,\n",
       "        4970619.14169508,  3798397.21749494,  5459971.79212813,\n",
       "        5824265.46180279,  2595568.18829789,  4011225.43318449,\n",
       "        5005928.38663451,  2958159.66348927,  8242099.76663271,\n",
       "        4077479.88370372,  3831370.62502881,  4381044.49590022,\n",
       "        3581162.48416687,  7302852.00835984,  6606337.37339806,\n",
       "        2320593.56476434,  3813118.70117574,  6054941.22052514,\n",
       "        3304409.98251915,  3477130.79691415,  4547697.10968774,\n",
       "        6109497.01273351,  6461851.2704303 ,  4358992.62606141,\n",
       "        3966437.17852214,  4038514.97082007,  2949290.83882399,\n",
       "        3959439.45081628,  2719780.47683332,  5091054.13501574,\n",
       "        7963027.80710681,  3131589.8178266 ,  5107256.7407601 ,\n",
       "        3986584.78374376,  5204140.56853265,  3763842.10475086,\n",
       "        8267091.48796696,  2539597.03098115,  3138234.71236887,\n",
       "        3479543.89245648,  6690746.71989643,  4893392.0367334 ,\n",
       "        8431716.0459878 ,  6388795.96903233,  2321012.21070771,\n",
       "        4743543.62002147,  2865580.11645704,  4414663.24963489,\n",
       "        5311694.01422607,  5974077.57345706,  2849625.32574079,\n",
       "        6864325.13412917,  3403515.40054328,  3626521.75271563,\n",
       "        3211588.14046431,  7062804.92476215,  2109673.61523776,\n",
       "        7354722.02195995,  6540320.09594613,  4463799.03739104,\n",
       "        3686635.39220223,  2909717.65734227,  7010043.59544248,\n",
       "        4818540.66109809,  2747038.82386653,  5780766.2053414 ,\n",
       "        5960968.68886994,  4484446.52102195,  2983620.70377742,\n",
       "        5299088.12945763,  5117445.86806018,  2875590.04253393,\n",
       "        4950186.83697288,  7087867.39489536,  3037175.87548426,\n",
       "        6240021.51466637,  7450447.18678291,  3035553.03764184,\n",
       "        6889645.04341283,  5575788.62307207,  4136992.74757808,\n",
       "        4730071.10102285,  2986372.63492186,  2164176.70613973,\n",
       "        5167190.19094187,  3025161.87008125,  6614172.61484107,\n",
       "        7082826.97701501,  3061188.29291092,  5036796.31037124,\n",
       "        7193426.9565771 ,  7750007.01752248,  2748916.82828565,\n",
       "        5948463.89354721,  5056401.1309258 ,  6778047.95761727,\n",
       "        2644177.13694876,  6350764.05805477,  5944177.15031091,\n",
       "        5939778.96489235,  6887296.5230671 ,  4083105.11448545,\n",
       "        4096479.16275252,  5140255.67227144,  3052570.19601107,\n",
       "        2739575.33511817,  3558992.65764064,  5321249.15730815,\n",
       "        3065885.22090319,  3986029.42084551,  4088980.69790225,\n",
       "        2538291.30507788,  5172550.9540086 ,  4570414.27644389,\n",
       "        3652095.93303275,  2839864.6947276 ,  7759660.08241503,\n",
       "        3552940.71405857,  4633975.36432066,  2646491.52490441,\n",
       "        2593599.41661298,  5930328.18716994,  6225596.6112152 ,\n",
       "        2547487.15124605,  3738724.12327654,  2728887.36731831,\n",
       "        2717018.87495268,  4570056.69943528,  3511040.22108616,\n",
       "        4836753.24850371,  6248157.74669436,  6460081.97198453,\n",
       "        3601453.02228027,  8579570.65122072, 10863805.7682573 ,\n",
       "        2048457.30835723,  5995529.62040794,  6212085.63336861,\n",
       "        7680790.00876631,  3255997.8951582 ,  6661318.89843775,\n",
       "        6362372.78707405,  2870266.56921654,  3145171.22908652,\n",
       "        5686762.7934281 ,  3531334.35420611,  3311261.21946805,\n",
       "        7503314.7100994 ,  4366030.18714483,  6106784.1505501 ,\n",
       "        5328340.99487212,  7232880.4004237 ,  5187440.23777962,\n",
       "        3975975.04595451,  3901429.09058741,  5991738.32543707,\n",
       "        4460614.15262299,  6910227.24617148,  5699792.53317429,\n",
       "        4951011.93570106,  4134144.17765485,  2027634.61833861,\n",
       "        6455724.65193744,  5913344.95607609,  6856958.9741358 ,\n",
       "        3114563.07564626,  5535108.85673807,  3139610.84960169,\n",
       "        4595470.66736924,  7568613.02597151,  2740089.82981375,\n",
       "        6997357.91345923,  6229906.68321758,  3217424.76256403,\n",
       "        4660949.50242901,  3330322.26553852,  7969516.29630061,\n",
       "        5909041.86205214,  6831061.88633132,  7439679.43078274,\n",
       "        2924168.82854344,  2690258.61711044,  7618573.62230848])"
      ]
     },
     "execution_count": 83,
     "metadata": {},
     "output_type": "execute_result"
    }
   ],
   "source": [
    "train_preds"
   ]
  },
  {
   "cell_type": "code",
   "execution_count": 84,
   "id": "3773b82d",
   "metadata": {
    "scrolled": true
   },
   "outputs": [
    {
     "data": {
      "text/plain": [
       "array([5637453.28535724, 4772117.37183274, 8503497.62669826,\n",
       "       3530911.97268957, 4433463.51047375, 5216295.30414117,\n",
       "       5131672.58966326, 5564077.36538573, 4559016.15765974,\n",
       "       4705514.58398641, 7478501.89514743, 6677878.36764923,\n",
       "       5252976.81508065, 4365612.07780875, 3243140.18429348,\n",
       "       3384575.00380542, 7963896.16690931, 3723777.6356604 ,\n",
       "       4133501.99794132, 6201419.93674736, 2929618.31814558,\n",
       "       4414583.08317452, 3732983.59867553, 6235132.19245122,\n",
       "       7611565.52362792, 5355436.13497463, 2037920.78703038,\n",
       "       2190927.54632057, 4618271.94761118, 7145286.04696201,\n",
       "       3767292.66002673, 6905836.61472387, 5227039.40147023,\n",
       "       4948846.45504725, 5417565.31606888, 2662428.28479444,\n",
       "       6206903.08024722, 4659236.24253481, 4507962.46825608,\n",
       "       3376860.37728658, 2785129.81002486, 2839614.34209253,\n",
       "       3456784.46359918, 6992596.31445237, 2913741.85118293,\n",
       "       4274445.99158162, 6252306.7189661 , 3765344.69194405,\n",
       "       6170318.40325146, 3867798.92825037, 6387222.99261446,\n",
       "       4848656.43660736, 6416921.88144471, 4135259.03935385,\n",
       "       2695753.4368683 , 5714323.73102021, 4096616.31822649,\n",
       "       3610850.98990725, 6957731.67451426, 5695794.03446539,\n",
       "       3281411.5594233 , 6906436.53124165, 5073011.01315407,\n",
       "       4813779.12554654, 6485224.79226116, 8427922.43984718,\n",
       "       5471647.48390269, 3188414.71725214, 6484842.5185037 ,\n",
       "       4715695.75380937, 6289232.44866988, 9036425.40766571,\n",
       "       5151045.22745798, 4353307.63036038, 3191959.69346966,\n",
       "       5831254.9848981 , 7132414.51449929, 2747038.82386653,\n",
       "       3727335.11164096, 6088889.87516716, 5811482.5888159 ,\n",
       "       4183601.5381816 , 4738618.41749227, 5152846.31432735,\n",
       "       2678867.06630369, 3337413.31796708, 5119966.96997463,\n",
       "       6318715.73888115, 2835074.02823469, 6398578.75463647,\n",
       "       4418766.75650699, 6895159.50426046, 5217557.2501675 ,\n",
       "       6035781.00892394, 4758908.79776963, 2525886.19699332,\n",
       "       3703455.65091192, 2710876.28464971, 5941417.69080978,\n",
       "       6774420.83765678, 5147159.70581011, 3721196.67582606,\n",
       "       4702525.74667452, 7224093.70984497, 4942070.94904784,\n",
       "       4008952.77298661, 3055599.05221141, 8435094.53753236,\n",
       "       3693134.54970929, 2736752.65517476, 3938456.61987601,\n",
       "       3772430.65799502, 4728377.79594545, 3688223.25916417,\n",
       "       4457782.02631982, 4367537.5523461 , 4391619.49638332,\n",
       "       3643402.00413901, 6689082.97026027, 3586852.90874269,\n",
       "       4967596.06886465, 5792996.25554442, 3958214.74866456,\n",
       "       4216619.02852724, 3674255.42383675, 5645067.8335303 ,\n",
       "       3315575.16431386, 3145180.64674792, 4540187.28865901,\n",
       "       3544386.90278661, 4875579.15123675, 4326674.29259075,\n",
       "       5877654.50213023, 4944783.53461682, 2633890.96825698,\n",
       "       3032419.18257269, 5690898.8976016 , 7215937.53971112,\n",
       "       3809129.8149763 , 7670715.30397585, 2608175.54652754,\n",
       "       2877705.32825086, 2879855.17134826, 4268568.11119859,\n",
       "       6456042.25351503, 3709981.14677345, 5224248.10788926,\n",
       "       2685321.81171587, 4550411.84972472, 7227054.5485563 ,\n",
       "       4097634.92594834, 7485659.65659249, 4925976.47770985,\n",
       "       5473631.19832997, 7212864.82093147, 2372196.4371047 ,\n",
       "       5351191.70706812, 3191015.80308076, 5860875.06245723,\n",
       "       4010860.37968365, 3184004.13197715, 3733349.86411557,\n",
       "       8224932.06813451, 4221255.1892256 ])"
      ]
     },
     "execution_count": 84,
     "metadata": {},
     "output_type": "execute_result"
    }
   ],
   "source": [
    "test_preds"
   ]
  },
  {
   "cell_type": "markdown",
   "id": "5aaf6402",
   "metadata": {},
   "source": [
    "### Root Mean Squared Error"
   ]
  },
  {
   "cell_type": "code",
   "execution_count": 85,
   "id": "ff992970",
   "metadata": {},
   "outputs": [],
   "source": [
    "from sklearn.metrics import mean_squared_error"
   ]
  },
  {
   "cell_type": "code",
   "execution_count": 86,
   "id": "e2198da5",
   "metadata": {},
   "outputs": [
    {
     "name": "stdout",
     "output_type": "stream",
     "text": [
      "RMSE for Training: 1058271.8878132368\n"
     ]
    }
   ],
   "source": [
    "train_rmse = mean_squared_error(train_y, train_preds, squared=False)\n",
    "print(\"RMSE for Training:\",train_rmse)"
   ]
  },
  {
   "cell_type": "code",
   "execution_count": 87,
   "id": "dadb9b09",
   "metadata": {},
   "outputs": [
    {
     "name": "stdout",
     "output_type": "stream",
     "text": [
      "RMSE for Testing: 1059375.672053432\n"
     ]
    }
   ],
   "source": [
    "test_rmse = mean_squared_error(test_y, test_preds, squared=False)\n",
    "print(\"RMSE for Testing:\",test_rmse)"
   ]
  },
  {
   "cell_type": "code",
   "execution_count": 88,
   "id": "dbd65b6f",
   "metadata": {},
   "outputs": [],
   "source": [
    "weights = model.coef_"
   ]
  },
  {
   "cell_type": "code",
   "execution_count": 89,
   "id": "f5b07ca7",
   "metadata": {},
   "outputs": [
    {
     "data": {
      "text/plain": [
       "0     2.571542e+02\n",
       "1     1.674006e+05\n",
       "2     1.068422e+06\n",
       "3     3.775601e+05\n",
       "4     3.055314e+05\n",
       "5    -2.259819e+05\n",
       "6     2.259819e+05\n",
       "7    -1.579966e+05\n",
       "8     1.579966e+05\n",
       "9    -1.564271e+05\n",
       "10    1.564271e+05\n",
       "11   -4.075333e+05\n",
       "12    4.075333e+05\n",
       "13   -4.202589e+05\n",
       "14    4.202589e+05\n",
       "15   -2.971237e+05\n",
       "16    2.971237e+05\n",
       "17    1.878551e+05\n",
       "18    4.599789e+04\n",
       "19   -2.338530e+05\n",
       "Name: weight, dtype: float64"
      ]
     },
     "execution_count": 89,
     "metadata": {},
     "output_type": "execute_result"
    }
   ],
   "source": [
    "weights_df = pd.DataFrame({'columns':train_x.columns,\n",
    "                           'weight':weights})\n",
    "weights_df['weight']"
   ]
  },
  {
   "cell_type": "markdown",
   "id": "07e293d2",
   "metadata": {},
   "source": [
    "## Regression Line"
   ]
  },
  {
   "cell_type": "code",
   "execution_count": 90,
   "id": "3451a467",
   "metadata": {},
   "outputs": [
    {
     "data": {
      "image/png": "[encoded data removed]",
      "text/plain": [
       "<Figure size 1008x576 with 1 Axes>"
      ]
     },
     "metadata": {
      "needs_background": "light"
     },
     "output_type": "display_data"
    }
   ],
   "source": [
    "fig = plt.figure(figsize=(14,8))\n",
    "sns.set_context(\"talk\")\n",
    "sns.regplot(x=train_y, y=train_preds)\n",
    "plt.title(\"Training Prediction Line\")\n",
    "plt.xlabel(\"Actual Price\")\n",
    "plt.ylabel(\"Predicted Price\")\n",
    "plt.show()"
   ]
  },
  {
   "cell_type": "code",
   "execution_count": 91,
   "id": "d8fdc546",
   "metadata": {},
   "outputs": [
    {
     "data": {
      "image/png": "[encoded data removed]",
      "text/plain": [
       "<Figure size 1008x576 with 1 Axes>"
      ]
     },
     "metadata": {
      "needs_background": "light"
     },
     "output_type": "display_data"
    }
   ],
   "source": [
    "fig = plt.figure(figsize=(14,8))\n",
    "sns.set_context(\"talk\")\n",
    "sns.regplot(x=test_y, y=test_preds)\n",
    "plt.title(\"Testing Prediction Line\")\n",
    "plt.xlabel(\"Actual Price\")\n",
    "plt.ylabel(\"Predicted Price\")\n",
    "plt.show()"
   ]
  }
 ],
 "metadata": {
  "kernelspec": {
   "display_name": "Python 3 (ipykernel)",
   "language": "python",
   "name": "python3"
  },
  "language_info": {
   "codemirror_mode": {
    "name": "ipython",
    "version": 3
   },
   "file_extension": ".py",
   "mimetype": "text/x-python",
   "name": "python",
   "nbconvert_exporter": "python",
   "pygments_lexer": "ipython3",
   "version": "3.8.11"
  }
 },
 "nbformat": 4,
 "nbformat_minor": 5
}
