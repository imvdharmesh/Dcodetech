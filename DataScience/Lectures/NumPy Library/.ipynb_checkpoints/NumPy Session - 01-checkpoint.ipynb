{
 "cells": [
  {
   "cell_type": "raw",
   "id": "ec89a4df",
   "metadata": {},
   "source": [
    "Date - 19/06/2021  09:30 AM to 11:30 AM"
   ]
  },
  {
   "cell_type": "markdown",
   "id": "c0c05d50",
   "metadata": {},
   "source": [
    "# Introduction To NumPy"
   ]
  },
  {
   "cell_type": "raw",
   "id": "2cfa9d04",
   "metadata": {},
   "source": [
    "=> Numpy is a python package, it stands for Numerical Python (NumPy).\n",
    "\n",
    "=> It is a library consisting of multi-dimentional array and a collection of routines for processing these arrays."
   ]
  },
  {
   "cell_type": "markdown",
   "id": "f1f0b360",
   "metadata": {},
   "source": [
    "### Operations using NumPy"
   ]
  },
  {
   "cell_type": "raw",
   "id": "eddd39e5",
   "metadata": {},
   "source": [
    "- You can perform all mathematical and logical operations on an array.\n",
    "- Fourier Transformation and modifications of shapes can be done.\n",
    "- Operations related to Linear Algebra, you can also generate random numbers."
   ]
  },
  {
   "cell_type": "markdown",
   "id": "092d934a",
   "metadata": {},
   "source": [
    "### Installing NumPy Library"
   ]
  },
  {
   "cell_type": "code",
   "execution_count": 1,
   "id": "c664e51b",
   "metadata": {},
   "outputs": [],
   "source": [
    "!pip install numpy --quiet"
   ]
  },
  {
   "cell_type": "markdown",
   "id": "ab6a9da9",
   "metadata": {},
   "source": [
    "### Importing NumPy Library"
   ]
  },
  {
   "cell_type": "code",
   "execution_count": 1,
   "id": "166612bc",
   "metadata": {},
   "outputs": [],
   "source": [
    "import numpy as np"
   ]
  },
  {
   "cell_type": "code",
   "execution_count": 2,
   "id": "e6c88eaa",
   "metadata": {},
   "outputs": [
    {
     "data": {
      "text/plain": [
       "'1.20.1'"
      ]
     },
     "execution_count": 2,
     "metadata": {},
     "output_type": "execute_result"
    }
   ],
   "source": [
    "np.__version__"
   ]
  },
  {
   "cell_type": "markdown",
   "id": "723d7f0b",
   "metadata": {},
   "source": [
    "## NumPy - ndarray Object"
   ]
  },
  {
   "cell_type": "raw",
   "id": "b2e91bd8",
   "metadata": {},
   "source": [
    "- One of the most important object defined in Numpy is an N-dimesional array type called ndarry.\n",
    "- It describes the collection of items of the same data type.\n",
    "- Item in the collection can be accessed using zero based indexing.\n",
    "\n",
    "Syntax : np.array()"
   ]
  },
  {
   "cell_type": "raw",
   "id": "f952d77a",
   "metadata": {},
   "source": [
    "Object : An objects represents the data being put while creating the numpy array.\n",
    "\n",
    "dtype : Desired data type of array -- optional argument\n",
    "\n",
    "copy : By default true (you can allow the array to be copied) -- optional argument\n",
    "\n",
    "order: Order by column (C), order by row (F) or by any (by default) -- optional argument\n",
    "\n",
    "subok => returns an array for numpy -- optional argument\n",
    "\n",
    "ndmin => specify the minimum dimension needed for the array."
   ]
  },
  {
   "cell_type": "markdown",
   "id": "f9949c1d",
   "metadata": {},
   "source": [
    "### How To Declare NumPy Array"
   ]
  },
  {
   "cell_type": "code",
   "execution_count": 6,
   "id": "6b2c83e9",
   "metadata": {},
   "outputs": [],
   "source": [
    "my_arr1 = np.array([1, 2, 3, 4, 5])  # single dimension array"
   ]
  },
  {
   "cell_type": "code",
   "execution_count": 7,
   "id": "e925d377",
   "metadata": {},
   "outputs": [
    {
     "name": "stdout",
     "output_type": "stream",
     "text": [
      "[1 2 3 4 5]\n"
     ]
    }
   ],
   "source": [
    "print(my_arr1)"
   ]
  },
  {
   "cell_type": "code",
   "execution_count": 8,
   "id": "f19afd08",
   "metadata": {},
   "outputs": [
    {
     "data": {
      "text/plain": [
       "numpy.ndarray"
      ]
     },
     "execution_count": 8,
     "metadata": {},
     "output_type": "execute_result"
    }
   ],
   "source": [
    "type(my_arr1)"
   ]
  },
  {
   "cell_type": "code",
   "execution_count": null,
   "id": "88d703b0",
   "metadata": {},
   "outputs": [],
   "source": []
  },
  {
   "cell_type": "code",
   "execution_count": 9,
   "id": "b583f578",
   "metadata": {},
   "outputs": [],
   "source": [
    "my_arr2 = np.array([\n",
    "    [1, 2, 3],\n",
    "    [4, 5, 6]\n",
    "])  # multi dimensional array"
   ]
  },
  {
   "cell_type": "code",
   "execution_count": 10,
   "id": "54c2dc86",
   "metadata": {},
   "outputs": [
    {
     "name": "stdout",
     "output_type": "stream",
     "text": [
      "[[1 2 3]\n",
      " [4 5 6]]\n"
     ]
    }
   ],
   "source": [
    "print(my_arr2)"
   ]
  },
  {
   "cell_type": "code",
   "execution_count": null,
   "id": "3b65cfac",
   "metadata": {},
   "outputs": [],
   "source": []
  },
  {
   "cell_type": "code",
   "execution_count": 11,
   "id": "b84af906",
   "metadata": {},
   "outputs": [],
   "source": [
    "arr_c = np.array([1, 2, 3, 4], dtype=complex)  # complex datatype"
   ]
  },
  {
   "cell_type": "code",
   "execution_count": 12,
   "id": "3612783f",
   "metadata": {},
   "outputs": [
    {
     "name": "stdout",
     "output_type": "stream",
     "text": [
      "[1.+0.j 2.+0.j 3.+0.j 4.+0.j]\n"
     ]
    }
   ],
   "source": [
    "print(arr_c)"
   ]
  },
  {
   "cell_type": "code",
   "execution_count": null,
   "id": "f257fae8",
   "metadata": {},
   "outputs": [],
   "source": []
  },
  {
   "cell_type": "markdown",
   "id": "adc94276",
   "metadata": {},
   "source": [
    "### NumPy Data Types"
   ]
  },
  {
   "cell_type": "raw",
   "id": "68200c73",
   "metadata": {},
   "source": [
    "bool_ => Boolean True or False (but it stores as a byte)\n",
    "int_ => Default integer type (same as C : integer 64 or integer 32 bit)\n",
    "int8 => Byte(-128 to 127)\n",
    "int16 => Integer(-32768 to 32767)\n",
    "int32 => Integer (-2147483648 to 2147483647)\n",
    "int64 => Integer (-9223372036854775808 to 9223372036854775807)\n",
    "uint8 => Unsigned Integer (0 to 255)\n",
    "unit16 => Unsigned Integer (0 to 65535)\n",
    "unit32 => Unsigned Integer (0 to 4294967295)\n",
    "unit64 => Unsigned integer (0 to 18446744073709551615)\n",
    "float_ => Shorthand for float64\n",
    "float 16 => Half precision float: sign bit, 5 bits exponent, 10 bits mantissa\n",
    "float 32 => Single precision float: sign bit, 8 bits exponent, 23 bits\n",
    "mantissa\n",
    "float 64 => Double precision float: sign bit, 11 bits exponent, 52 bits\n",
    "mantissa\n",
    "complex_ => Shorthand for complex128.\n",
    "complex64 => Complex number, represented by two 32-bit floats\n",
    "complex128 => Complex number, represented by two 64-bit floats"
   ]
  },
  {
   "cell_type": "markdown",
   "id": "b65e9843",
   "metadata": {},
   "source": [
    "## NumPy - Array Attributes"
   ]
  },
  {
   "cell_type": "markdown",
   "id": "0c645fdb",
   "metadata": {},
   "source": [
    "### ndarray.shape :"
   ]
  },
  {
   "cell_type": "raw",
   "id": "11e0d860",
   "metadata": {},
   "source": [
    "=> This array attribute returns a tuple consisting of array dimension.\n",
    "\n",
    "=> It also be used to resize the array."
   ]
  },
  {
   "cell_type": "code",
   "execution_count": 13,
   "id": "69b6a294",
   "metadata": {},
   "outputs": [],
   "source": [
    "arr = np.array([\n",
    "    [10, 20, 30],\n",
    "    [40, 50, 60]\n",
    "])"
   ]
  },
  {
   "cell_type": "code",
   "execution_count": 14,
   "id": "fdf73f0d",
   "metadata": {},
   "outputs": [
    {
     "name": "stdout",
     "output_type": "stream",
     "text": [
      "[[10 20 30]\n",
      " [40 50 60]]\n"
     ]
    }
   ],
   "source": [
    "print(arr)"
   ]
  },
  {
   "cell_type": "code",
   "execution_count": 15,
   "id": "f465ffbd",
   "metadata": {},
   "outputs": [
    {
     "data": {
      "text/plain": [
       "(2, 3)"
      ]
     },
     "execution_count": 15,
     "metadata": {},
     "output_type": "execute_result"
    }
   ],
   "source": [
    "arr.shape"
   ]
  },
  {
   "cell_type": "code",
   "execution_count": 16,
   "id": "b755899e",
   "metadata": {},
   "outputs": [],
   "source": [
    "# resizing the array\n",
    "\n",
    "arr.shape = (3,2)"
   ]
  },
  {
   "cell_type": "code",
   "execution_count": 17,
   "id": "9c9132b5",
   "metadata": {},
   "outputs": [
    {
     "data": {
      "text/plain": [
       "array([[10, 20],\n",
       "       [30, 40],\n",
       "       [50, 60]])"
      ]
     },
     "execution_count": 17,
     "metadata": {},
     "output_type": "execute_result"
    }
   ],
   "source": [
    "arr"
   ]
  },
  {
   "cell_type": "code",
   "execution_count": 18,
   "id": "e1903719",
   "metadata": {},
   "outputs": [
    {
     "data": {
      "text/plain": [
       "(3, 2)"
      ]
     },
     "execution_count": 18,
     "metadata": {},
     "output_type": "execute_result"
    }
   ],
   "source": [
    "arr.shape"
   ]
  },
  {
   "cell_type": "markdown",
   "id": "caacbebd",
   "metadata": {},
   "source": [
    "### ndarray.ndim :"
   ]
  },
  {
   "cell_type": "raw",
   "id": "41cecb1f",
   "metadata": {},
   "source": [
    "This array attribute returns the array dimension."
   ]
  },
  {
   "cell_type": "code",
   "execution_count": 19,
   "id": "95a3281f",
   "metadata": {},
   "outputs": [
    {
     "data": {
      "text/plain": [
       "2"
      ]
     },
     "execution_count": 19,
     "metadata": {},
     "output_type": "execute_result"
    }
   ],
   "source": [
    "arr.ndim"
   ]
  },
  {
   "cell_type": "markdown",
   "id": "6b175698",
   "metadata": {},
   "source": [
    "### ndarray.itemsize"
   ]
  },
  {
   "cell_type": "raw",
   "id": "b5bc7732",
   "metadata": {},
   "source": [
    "This array attribute returns the length of each element of array in bytes."
   ]
  },
  {
   "cell_type": "code",
   "execution_count": 20,
   "id": "14e14899",
   "metadata": {
    "scrolled": true
   },
   "outputs": [
    {
     "data": {
      "text/plain": [
       "4"
      ]
     },
     "execution_count": 20,
     "metadata": {},
     "output_type": "execute_result"
    }
   ],
   "source": [
    "arr.itemsize"
   ]
  },
  {
   "cell_type": "code",
   "execution_count": 53,
   "id": "2f273ab9",
   "metadata": {},
   "outputs": [],
   "source": [
    "num = np.array([1,2,3,4,5],dtype=np.float32)\n",
    "num1 = np.array([1,2,3,4,5],dtype=np.int64)"
   ]
  },
  {
   "cell_type": "code",
   "execution_count": 54,
   "id": "832965ec",
   "metadata": {},
   "outputs": [
    {
     "data": {
      "text/plain": [
       "4"
      ]
     },
     "execution_count": 54,
     "metadata": {},
     "output_type": "execute_result"
    }
   ],
   "source": [
    "num.itemsize"
   ]
  },
  {
   "cell_type": "code",
   "execution_count": 55,
   "id": "f3fdfddd",
   "metadata": {},
   "outputs": [
    {
     "data": {
      "text/plain": [
       "8"
      ]
     },
     "execution_count": 55,
     "metadata": {},
     "output_type": "execute_result"
    }
   ],
   "source": [
    "num1.itemsize"
   ]
  },
  {
   "cell_type": "code",
   "execution_count": null,
   "id": "0e70706b",
   "metadata": {},
   "outputs": [],
   "source": []
  },
  {
   "cell_type": "markdown",
   "id": "b341096c",
   "metadata": {},
   "source": [
    "### ndarray.reshape"
   ]
  },
  {
   "cell_type": "raw",
   "id": "0de3116a",
   "metadata": {},
   "source": [
    "It is use for resizing the array shape."
   ]
  },
  {
   "cell_type": "code",
   "execution_count": 21,
   "id": "24e49f86",
   "metadata": {},
   "outputs": [],
   "source": [
    "arr = arr.reshape(2,3)"
   ]
  },
  {
   "cell_type": "code",
   "execution_count": 22,
   "id": "0034eb85",
   "metadata": {},
   "outputs": [
    {
     "name": "stdout",
     "output_type": "stream",
     "text": [
      "[[10 20 30]\n",
      " [40 50 60]]\n"
     ]
    }
   ],
   "source": [
    "print(arr)"
   ]
  },
  {
   "cell_type": "code",
   "execution_count": 23,
   "id": "d7ef83f2",
   "metadata": {},
   "outputs": [
    {
     "data": {
      "text/plain": [
       "(2, 3)"
      ]
     },
     "execution_count": 23,
     "metadata": {},
     "output_type": "execute_result"
    }
   ],
   "source": [
    "arr.shape"
   ]
  },
  {
   "cell_type": "code",
   "execution_count": null,
   "id": "3c98fa73",
   "metadata": {},
   "outputs": [],
   "source": []
  },
  {
   "cell_type": "markdown",
   "id": "e0c0a37e",
   "metadata": {},
   "source": [
    "## numpy.arange"
   ]
  },
  {
   "cell_type": "raw",
   "id": "e82c0fcb",
   "metadata": {},
   "source": [
    "This gives us an array of evenly spaced numbers."
   ]
  },
  {
   "cell_type": "code",
   "execution_count": 25,
   "id": "83b57d37",
   "metadata": {},
   "outputs": [],
   "source": [
    "num = np.arange(30)"
   ]
  },
  {
   "cell_type": "code",
   "execution_count": 26,
   "id": "f53fe829",
   "metadata": {},
   "outputs": [
    {
     "name": "stdout",
     "output_type": "stream",
     "text": [
      "[ 0  1  2  3  4  5  6  7  8  9 10 11 12 13 14 15 16 17 18 19 20 21 22 23\n",
      " 24 25 26 27 28 29]\n"
     ]
    }
   ],
   "source": [
    "print(num)"
   ]
  },
  {
   "cell_type": "code",
   "execution_count": 27,
   "id": "0359ae59",
   "metadata": {},
   "outputs": [
    {
     "data": {
      "text/plain": [
       "1"
      ]
     },
     "execution_count": 27,
     "metadata": {},
     "output_type": "execute_result"
    }
   ],
   "source": [
    "num.ndim"
   ]
  },
  {
   "cell_type": "code",
   "execution_count": 28,
   "id": "9d62d813",
   "metadata": {},
   "outputs": [
    {
     "data": {
      "text/plain": [
       "(30,)"
      ]
     },
     "execution_count": 28,
     "metadata": {},
     "output_type": "execute_result"
    }
   ],
   "source": [
    "num.shape"
   ]
  },
  {
   "cell_type": "code",
   "execution_count": 29,
   "id": "927d8d24",
   "metadata": {},
   "outputs": [],
   "source": [
    "num = num.reshape(5,6)"
   ]
  },
  {
   "cell_type": "code",
   "execution_count": 30,
   "id": "e24a6925",
   "metadata": {},
   "outputs": [
    {
     "name": "stdout",
     "output_type": "stream",
     "text": [
      "[[ 0  1  2  3  4  5]\n",
      " [ 6  7  8  9 10 11]\n",
      " [12 13 14 15 16 17]\n",
      " [18 19 20 21 22 23]\n",
      " [24 25 26 27 28 29]]\n"
     ]
    }
   ],
   "source": [
    "print(num)"
   ]
  },
  {
   "cell_type": "code",
   "execution_count": 31,
   "id": "4905c1ed",
   "metadata": {},
   "outputs": [
    {
     "data": {
      "text/plain": [
       "(5, 6)"
      ]
     },
     "execution_count": 31,
     "metadata": {},
     "output_type": "execute_result"
    }
   ],
   "source": [
    "num.shape"
   ]
  },
  {
   "cell_type": "code",
   "execution_count": 32,
   "id": "ff89f001",
   "metadata": {},
   "outputs": [
    {
     "data": {
      "text/plain": [
       "2"
      ]
     },
     "execution_count": 32,
     "metadata": {},
     "output_type": "execute_result"
    }
   ],
   "source": [
    "num.ndim"
   ]
  },
  {
   "cell_type": "code",
   "execution_count": null,
   "id": "5be4a135",
   "metadata": {},
   "outputs": [],
   "source": []
  },
  {
   "cell_type": "code",
   "execution_count": 42,
   "id": "03125670",
   "metadata": {},
   "outputs": [],
   "source": [
    "num1 = np.arange(24)"
   ]
  },
  {
   "cell_type": "code",
   "execution_count": 43,
   "id": "d7cc3197",
   "metadata": {},
   "outputs": [
    {
     "name": "stdout",
     "output_type": "stream",
     "text": [
      "[ 0  1  2  3  4  5  6  7  8  9 10 11 12 13 14 15 16 17 18 19 20 21 22 23]\n"
     ]
    }
   ],
   "source": [
    "print(num1)"
   ]
  },
  {
   "cell_type": "code",
   "execution_count": 44,
   "id": "6b25ad14",
   "metadata": {},
   "outputs": [],
   "source": [
    "num1 = num1.reshape(2,4,3)"
   ]
  },
  {
   "cell_type": "code",
   "execution_count": 45,
   "id": "766af46f",
   "metadata": {},
   "outputs": [
    {
     "name": "stdout",
     "output_type": "stream",
     "text": [
      "[[[ 0  1  2]\n",
      "  [ 3  4  5]\n",
      "  [ 6  7  8]\n",
      "  [ 9 10 11]]\n",
      "\n",
      " [[12 13 14]\n",
      "  [15 16 17]\n",
      "  [18 19 20]\n",
      "  [21 22 23]]]\n"
     ]
    }
   ],
   "source": [
    "print(num1)"
   ]
  },
  {
   "cell_type": "code",
   "execution_count": 46,
   "id": "7d4c39b2",
   "metadata": {},
   "outputs": [
    {
     "data": {
      "text/plain": [
       "3"
      ]
     },
     "execution_count": 46,
     "metadata": {},
     "output_type": "execute_result"
    }
   ],
   "source": [
    "num1.ndim"
   ]
  },
  {
   "cell_type": "code",
   "execution_count": 47,
   "id": "c3330169",
   "metadata": {},
   "outputs": [
    {
     "data": {
      "text/plain": [
       "(2, 4, 3)"
      ]
     },
     "execution_count": 47,
     "metadata": {},
     "output_type": "execute_result"
    }
   ],
   "source": [
    "num1.shape"
   ]
  },
  {
   "cell_type": "code",
   "execution_count": null,
   "id": "af525821",
   "metadata": {},
   "outputs": [],
   "source": []
  },
  {
   "cell_type": "markdown",
   "id": "4dfcbdcb",
   "metadata": {},
   "source": [
    "## numpy.empty"
   ]
  },
  {
   "cell_type": "raw",
   "id": "680c3a2a",
   "metadata": {},
   "source": [
    "It creates an uninitialized array of specified size and dtype."
   ]
  },
  {
   "cell_type": "code",
   "execution_count": 66,
   "id": "f23e70de",
   "metadata": {},
   "outputs": [],
   "source": [
    "x = np.empty([3,2], dtype=int)"
   ]
  },
  {
   "cell_type": "code",
   "execution_count": 71,
   "id": "6cb124e5",
   "metadata": {},
   "outputs": [
    {
     "name": "stdout",
     "output_type": "stream",
     "text": [
      "[[     120 26218842]\n",
      " [       0        0]\n",
      " [  131074      115]]\n"
     ]
    }
   ],
   "source": [
    "print(x)"
   ]
  },
  {
   "cell_type": "code",
   "execution_count": 72,
   "id": "11f23e17",
   "metadata": {},
   "outputs": [
    {
     "data": {
      "text/plain": [
       "(3, 2)"
      ]
     },
     "execution_count": 72,
     "metadata": {},
     "output_type": "execute_result"
    }
   ],
   "source": [
    "x.shape"
   ]
  },
  {
   "cell_type": "code",
   "execution_count": null,
   "id": "158f164e",
   "metadata": {},
   "outputs": [],
   "source": []
  },
  {
   "cell_type": "markdown",
   "id": "247b8875",
   "metadata": {},
   "source": [
    "## numpy.zeros"
   ]
  },
  {
   "cell_type": "raw",
   "id": "2f6fc9f1",
   "metadata": {},
   "source": [
    "It creates an uninitialized arrays of 0's."
   ]
  },
  {
   "cell_type": "code",
   "execution_count": 73,
   "id": "818d1554",
   "metadata": {},
   "outputs": [],
   "source": [
    "zero_arr = np.zeros([3,2],dtype=int)"
   ]
  },
  {
   "cell_type": "code",
   "execution_count": 74,
   "id": "4e90bc2d",
   "metadata": {},
   "outputs": [
    {
     "name": "stdout",
     "output_type": "stream",
     "text": [
      "[[0 0]\n",
      " [0 0]\n",
      " [0 0]]\n"
     ]
    }
   ],
   "source": [
    "print(zero_arr)"
   ]
  },
  {
   "cell_type": "code",
   "execution_count": null,
   "id": "d7658ade",
   "metadata": {},
   "outputs": [],
   "source": []
  },
  {
   "cell_type": "markdown",
   "id": "4396b23e",
   "metadata": {},
   "source": [
    "## numpy.ones"
   ]
  },
  {
   "cell_type": "code",
   "execution_count": 75,
   "id": "56e93ef6",
   "metadata": {},
   "outputs": [],
   "source": [
    "ones = np.ones([3,3],dtype=np.int8)"
   ]
  },
  {
   "cell_type": "code",
   "execution_count": 76,
   "id": "6e0769cd",
   "metadata": {},
   "outputs": [
    {
     "name": "stdout",
     "output_type": "stream",
     "text": [
      "[[1 1 1]\n",
      " [1 1 1]\n",
      " [1 1 1]]\n"
     ]
    }
   ],
   "source": [
    "print(ones)"
   ]
  },
  {
   "cell_type": "code",
   "execution_count": null,
   "id": "7175f093",
   "metadata": {},
   "outputs": [],
   "source": []
  },
  {
   "cell_type": "markdown",
   "id": "85fe68a0",
   "metadata": {},
   "source": [
    "## numpy.arange"
   ]
  },
  {
   "cell_type": "code",
   "execution_count": 77,
   "id": "de9c731d",
   "metadata": {},
   "outputs": [
    {
     "data": {
      "text/plain": [
       "array([0, 1, 2, 3, 4, 5, 6, 7, 8, 9])"
      ]
     },
     "execution_count": 77,
     "metadata": {},
     "output_type": "execute_result"
    }
   ],
   "source": [
    "np.arange(10)"
   ]
  },
  {
   "cell_type": "code",
   "execution_count": 78,
   "id": "76271ac1",
   "metadata": {},
   "outputs": [
    {
     "data": {
      "text/plain": [
       "array([0., 1., 2., 3., 4., 5., 6., 7., 8., 9.])"
      ]
     },
     "execution_count": 78,
     "metadata": {},
     "output_type": "execute_result"
    }
   ],
   "source": [
    "np.arange(10, dtype=float)"
   ]
  },
  {
   "cell_type": "code",
   "execution_count": 79,
   "id": "742994a5",
   "metadata": {},
   "outputs": [
    {
     "data": {
      "text/plain": [
       "array([10, 11, 12, 13, 14, 15, 16, 17, 18, 19, 20, 21, 22, 23, 24, 25, 26,\n",
       "       27, 28, 29])"
      ]
     },
     "execution_count": 79,
     "metadata": {},
     "output_type": "execute_result"
    }
   ],
   "source": [
    "np.arange(10,30)"
   ]
  },
  {
   "cell_type": "code",
   "execution_count": 80,
   "id": "46563357",
   "metadata": {},
   "outputs": [
    {
     "data": {
      "text/plain": [
       "array([10, 12, 14, 16, 18, 20, 22, 24, 26, 28])"
      ]
     },
     "execution_count": 80,
     "metadata": {},
     "output_type": "execute_result"
    }
   ],
   "source": [
    "np.arange(10, 30, 2)"
   ]
  }
 ],
 "metadata": {
  "kernelspec": {
   "display_name": "Python 3",
   "language": "python",
   "name": "python3"
  },
  "language_info": {
   "codemirror_mode": {
    "name": "ipython",
    "version": 3
   },
   "file_extension": ".py",
   "mimetype": "text/x-python",
   "name": "python",
   "nbconvert_exporter": "python",
   "pygments_lexer": "ipython3",
   "version": "3.8.8"
  }
 },
 "nbformat": 4,
 "nbformat_minor": 5
}
