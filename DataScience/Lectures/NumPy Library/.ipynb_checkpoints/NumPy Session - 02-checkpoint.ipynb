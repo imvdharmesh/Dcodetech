{
 "cells": [
  {
   "cell_type": "raw",
   "id": "ae94de17",
   "metadata": {},
   "source": [
    "Date - 20/06/2021  09:15 AM to 11:30 AM"
   ]
  },
  {
   "cell_type": "code",
   "execution_count": 1,
   "id": "a475b506",
   "metadata": {},
   "outputs": [],
   "source": [
    "import numpy as np"
   ]
  },
  {
   "cell_type": "markdown",
   "id": "4fb4cba6",
   "metadata": {},
   "source": [
    "## numpy.linspace"
   ]
  },
  {
   "cell_type": "code",
   "execution_count": 2,
   "id": "26a2b395",
   "metadata": {},
   "outputs": [
    {
     "data": {
      "text/plain": [
       "array([ 1.        ,  1.47368421,  1.94736842,  2.42105263,  2.89473684,\n",
       "        3.36842105,  3.84210526,  4.31578947,  4.78947368,  5.26315789,\n",
       "        5.73684211,  6.21052632,  6.68421053,  7.15789474,  7.63157895,\n",
       "        8.10526316,  8.57894737,  9.05263158,  9.52631579, 10.        ])"
      ]
     },
     "execution_count": 2,
     "metadata": {},
     "output_type": "execute_result"
    }
   ],
   "source": [
    "np.linspace(1,10,20)"
   ]
  },
  {
   "cell_type": "code",
   "execution_count": 3,
   "id": "97053509",
   "metadata": {},
   "outputs": [
    {
     "data": {
      "text/plain": [
       "(-0.47368421000000005, -0.47368421000000005)"
      ]
     },
     "execution_count": 3,
     "metadata": {},
     "output_type": "execute_result"
    }
   ],
   "source": [
    "1.-1.47368421,  1.94736842-2.42105263  # difference between values"
   ]
  },
  {
   "cell_type": "code",
   "execution_count": 4,
   "id": "496c6b54",
   "metadata": {},
   "outputs": [
    {
     "data": {
      "text/plain": [
       "(-2.36842105, -2.36842105, -2.3684210500000002, -2.3684210500000002)"
      ]
     },
     "execution_count": 4,
     "metadata": {},
     "output_type": "execute_result"
    }
   ],
   "source": [
    "1.-3.36842105, 1.47368421-3.84210526, 1.94736842-4.31578947, 2.42105263-4.78947368"
   ]
  },
  {
   "cell_type": "markdown",
   "id": "6933e0b3",
   "metadata": {},
   "source": [
    "## numpy.logspace"
   ]
  },
  {
   "cell_type": "code",
   "execution_count": 5,
   "id": "b5e7df11",
   "metadata": {},
   "outputs": [
    {
     "data": {
      "text/plain": [
       "array([1.00000000e+01, 1.77827941e+03, 3.16227766e+05, 5.62341325e+07,\n",
       "       1.00000000e+10])"
      ]
     },
     "execution_count": 5,
     "metadata": {},
     "output_type": "execute_result"
    }
   ],
   "source": [
    "np.logspace(1,10,5)"
   ]
  },
  {
   "cell_type": "code",
   "execution_count": 6,
   "id": "5388b734",
   "metadata": {},
   "outputs": [
    {
     "data": {
      "text/plain": [
       "array([   2.,    4.,    8.,   16.,   32.,   64.,  128.,  256.,  512.,\n",
       "       1024.])"
      ]
     },
     "execution_count": 6,
     "metadata": {},
     "output_type": "execute_result"
    }
   ],
   "source": [
    "np.logspace(1,10,num=10,base=2)"
   ]
  },
  {
   "cell_type": "code",
   "execution_count": 7,
   "id": "7b2f8818",
   "metadata": {},
   "outputs": [
    {
     "data": {
      "text/plain": [
       "array([3.0000e+00, 9.0000e+00, 2.7000e+01, 8.1000e+01, 2.4300e+02,\n",
       "       7.2900e+02, 2.1870e+03, 6.5610e+03, 1.9683e+04, 5.9049e+04])"
      ]
     },
     "execution_count": 7,
     "metadata": {},
     "output_type": "execute_result"
    }
   ],
   "source": [
    "np.logspace(1,10,num=10,base=3)"
   ]
  },
  {
   "cell_type": "markdown",
   "id": "2cdeba68",
   "metadata": {},
   "source": [
    "## NumPy - Indexing & Slicing Technique"
   ]
  },
  {
   "cell_type": "markdown",
   "id": "766d863c",
   "metadata": {},
   "source": [
    "### Indexing Single Dimension"
   ]
  },
  {
   "cell_type": "code",
   "execution_count": 8,
   "id": "489784b0",
   "metadata": {},
   "outputs": [
    {
     "data": {
      "text/plain": [
       "array([10, 11, 12, 13, 14, 15, 16, 17, 18, 19])"
      ]
     },
     "execution_count": 8,
     "metadata": {},
     "output_type": "execute_result"
    }
   ],
   "source": [
    "arr = np.arange(10, 20)\n",
    "arr"
   ]
  },
  {
   "cell_type": "code",
   "execution_count": 9,
   "id": "d7db516c",
   "metadata": {},
   "outputs": [
    {
     "data": {
      "text/plain": [
       "18"
      ]
     },
     "execution_count": 9,
     "metadata": {},
     "output_type": "execute_result"
    }
   ],
   "source": [
    "arr[8]"
   ]
  },
  {
   "cell_type": "code",
   "execution_count": 10,
   "id": "29015a31",
   "metadata": {},
   "outputs": [
    {
     "data": {
      "text/plain": [
       "15"
      ]
     },
     "execution_count": 10,
     "metadata": {},
     "output_type": "execute_result"
    }
   ],
   "source": [
    "arr[5]"
   ]
  },
  {
   "cell_type": "markdown",
   "id": "32d062dd",
   "metadata": {},
   "source": [
    "### Slicing Single Dimension"
   ]
  },
  {
   "cell_type": "code",
   "execution_count": 11,
   "id": "da017b69",
   "metadata": {},
   "outputs": [
    {
     "data": {
      "text/plain": [
       "array([13, 14, 15, 16])"
      ]
     },
     "execution_count": 11,
     "metadata": {},
     "output_type": "execute_result"
    }
   ],
   "source": [
    "arr[3:7]"
   ]
  },
  {
   "cell_type": "code",
   "execution_count": 12,
   "id": "830ef995",
   "metadata": {},
   "outputs": [
    {
     "data": {
      "text/plain": [
       "array([12, 14, 16])"
      ]
     },
     "execution_count": 12,
     "metadata": {},
     "output_type": "execute_result"
    }
   ],
   "source": [
    "arr[2:7:2]"
   ]
  },
  {
   "cell_type": "markdown",
   "id": "f9a569d9",
   "metadata": {},
   "source": [
    "### Indexing Multi Dimension"
   ]
  },
  {
   "cell_type": "code",
   "execution_count": 13,
   "id": "95ad20b4",
   "metadata": {},
   "outputs": [
    {
     "data": {
      "text/plain": [
       "array([[10, 20, 30],\n",
       "       [40, 50, 60],\n",
       "       [70, 80, 90]])"
      ]
     },
     "execution_count": 13,
     "metadata": {},
     "output_type": "execute_result"
    }
   ],
   "source": [
    "ndarr = np.array([\n",
    "    [10, 20, 30],\n",
    "    [40, 50, 60],\n",
    "    [70, 80, 90]\n",
    "])\n",
    "\n",
    "ndarr"
   ]
  },
  {
   "cell_type": "code",
   "execution_count": 14,
   "id": "6cfa1137",
   "metadata": {},
   "outputs": [
    {
     "data": {
      "text/plain": [
       "array([40, 50, 60])"
      ]
     },
     "execution_count": 14,
     "metadata": {},
     "output_type": "execute_result"
    }
   ],
   "source": [
    "ndarr[1]"
   ]
  },
  {
   "cell_type": "code",
   "execution_count": 15,
   "id": "b5602f56",
   "metadata": {},
   "outputs": [
    {
     "data": {
      "text/plain": [
       "60"
      ]
     },
     "execution_count": 15,
     "metadata": {},
     "output_type": "execute_result"
    }
   ],
   "source": [
    "ndarr[1][2]"
   ]
  },
  {
   "cell_type": "markdown",
   "id": "66c85329",
   "metadata": {},
   "source": [
    "### Slicing Multi Dimension"
   ]
  },
  {
   "cell_type": "code",
   "execution_count": 16,
   "id": "bbb65200",
   "metadata": {},
   "outputs": [
    {
     "data": {
      "text/plain": [
       "array([[10, 20, 30],\n",
       "       [40, 50, 60]])"
      ]
     },
     "execution_count": 16,
     "metadata": {},
     "output_type": "execute_result"
    }
   ],
   "source": [
    "ndarr[0:2]"
   ]
  },
  {
   "cell_type": "code",
   "execution_count": 17,
   "id": "e1b2d607",
   "metadata": {},
   "outputs": [
    {
     "data": {
      "text/plain": [
       "array([20, 50])"
      ]
     },
     "execution_count": 17,
     "metadata": {},
     "output_type": "execute_result"
    }
   ],
   "source": [
    "ndarr[0:2,1]"
   ]
  },
  {
   "cell_type": "code",
   "execution_count": 18,
   "id": "a3bc2704",
   "metadata": {},
   "outputs": [
    {
     "data": {
      "text/plain": [
       "array([[20, 30],\n",
       "       [50, 60]])"
      ]
     },
     "execution_count": 18,
     "metadata": {},
     "output_type": "execute_result"
    }
   ],
   "source": [
    "ndarr[0:2,1:3]"
   ]
  },
  {
   "cell_type": "code",
   "execution_count": 19,
   "id": "15b17f70",
   "metadata": {},
   "outputs": [
    {
     "data": {
      "text/plain": [
       "array([[10, 30],\n",
       "       [40, 60]])"
      ]
     },
     "execution_count": 19,
     "metadata": {},
     "output_type": "execute_result"
    }
   ],
   "source": [
    "ndarr[0:2,0:3:2]"
   ]
  },
  {
   "cell_type": "markdown",
   "id": "4d342161",
   "metadata": {},
   "source": [
    "###  Only Columns"
   ]
  },
  {
   "cell_type": "code",
   "execution_count": 20,
   "id": "65d9179e",
   "metadata": {},
   "outputs": [
    {
     "data": {
      "text/plain": [
       "array([[20],\n",
       "       [50],\n",
       "       [80]])"
      ]
     },
     "execution_count": 20,
     "metadata": {},
     "output_type": "execute_result"
    }
   ],
   "source": [
    "ndarr[0:3,1:2]"
   ]
  },
  {
   "cell_type": "markdown",
   "id": "67320c81",
   "metadata": {},
   "source": [
    "## numpy.diag"
   ]
  },
  {
   "cell_type": "code",
   "execution_count": 21,
   "id": "e4de2e68",
   "metadata": {},
   "outputs": [
    {
     "data": {
      "text/plain": [
       "array([[100, 110, 120],\n",
       "       [130, 140, 150],\n",
       "       [160, 170, 180]])"
      ]
     },
     "execution_count": 21,
     "metadata": {},
     "output_type": "execute_result"
    }
   ],
   "source": [
    "arr1 = np.arange(100,190,10).reshape(3,3)\n",
    "arr1"
   ]
  },
  {
   "cell_type": "code",
   "execution_count": 22,
   "id": "3272fb4c",
   "metadata": {},
   "outputs": [
    {
     "data": {
      "text/plain": [
       "array([100, 140, 180])"
      ]
     },
     "execution_count": 22,
     "metadata": {},
     "output_type": "execute_result"
    }
   ],
   "source": [
    "np.diag(arr1)"
   ]
  },
  {
   "cell_type": "markdown",
   "id": "7b9850a2",
   "metadata": {},
   "source": [
    "## To Check Condition For A Value In Array"
   ]
  },
  {
   "cell_type": "code",
   "execution_count": 23,
   "id": "2529b312",
   "metadata": {},
   "outputs": [
    {
     "data": {
      "text/plain": [
       "array([[100, 110, 120],\n",
       "       [130, 140, 150],\n",
       "       [160, 170, 180]])"
      ]
     },
     "execution_count": 23,
     "metadata": {},
     "output_type": "execute_result"
    }
   ],
   "source": [
    "arr1"
   ]
  },
  {
   "cell_type": "code",
   "execution_count": 26,
   "id": "8264aa41",
   "metadata": {},
   "outputs": [
    {
     "data": {
      "text/plain": [
       "array([[False, False, False],\n",
       "       [False,  True,  True],\n",
       "       [ True,  True,  True]])"
      ]
     },
     "execution_count": 26,
     "metadata": {},
     "output_type": "execute_result"
    }
   ],
   "source": [
    "arr1 > 130"
   ]
  },
  {
   "cell_type": "code",
   "execution_count": 27,
   "id": "1df4cc4d",
   "metadata": {},
   "outputs": [
    {
     "data": {
      "text/plain": [
       "array([140, 150, 160, 170, 180])"
      ]
     },
     "execution_count": 27,
     "metadata": {},
     "output_type": "execute_result"
    }
   ],
   "source": [
    "arr1[arr1 > 130]"
   ]
  },
  {
   "cell_type": "markdown",
   "id": "f4414ed3",
   "metadata": {},
   "source": [
    "## Broadcasting"
   ]
  },
  {
   "cell_type": "raw",
   "id": "218c8978",
   "metadata": {},
   "source": [
    "You can use any arithmetic operators inside the array for performing operations."
   ]
  },
  {
   "cell_type": "markdown",
   "id": "a9d85ee1",
   "metadata": {},
   "source": [
    "### Single Dimensional Arrays"
   ]
  },
  {
   "cell_type": "code",
   "execution_count": 28,
   "id": "8e922218",
   "metadata": {},
   "outputs": [
    {
     "data": {
      "text/plain": [
       "(array([1, 2, 3, 4]), array([10, 20, 30, 40]))"
      ]
     },
     "execution_count": 28,
     "metadata": {},
     "output_type": "execute_result"
    }
   ],
   "source": [
    "a1 = np.array([1, 2, 3, 4])\n",
    "b1 = np.array([10, 20, 30, 40])\n",
    "\n",
    "a1, b1"
   ]
  },
  {
   "cell_type": "code",
   "execution_count": 29,
   "id": "ecb19bf9",
   "metadata": {},
   "outputs": [
    {
     "data": {
      "text/plain": [
       "array([11, 22, 33, 44])"
      ]
     },
     "execution_count": 29,
     "metadata": {},
     "output_type": "execute_result"
    }
   ],
   "source": [
    "a1 + b1"
   ]
  },
  {
   "cell_type": "code",
   "execution_count": 30,
   "id": "97f95819",
   "metadata": {},
   "outputs": [
    {
     "data": {
      "text/plain": [
       "array([ -9, -18, -27, -36])"
      ]
     },
     "execution_count": 30,
     "metadata": {},
     "output_type": "execute_result"
    }
   ],
   "source": [
    "a1 - b1"
   ]
  },
  {
   "cell_type": "code",
   "execution_count": 33,
   "id": "5fc08211",
   "metadata": {},
   "outputs": [
    {
     "data": {
      "text/plain": [
       "array([ 10,  40,  90, 160])"
      ]
     },
     "execution_count": 33,
     "metadata": {},
     "output_type": "execute_result"
    }
   ],
   "source": [
    "a1 * b1"
   ]
  },
  {
   "cell_type": "code",
   "execution_count": 35,
   "id": "e4c35a6f",
   "metadata": {},
   "outputs": [
    {
     "data": {
      "text/plain": [
       "array([0.1, 0.1, 0.1, 0.1])"
      ]
     },
     "execution_count": 35,
     "metadata": {},
     "output_type": "execute_result"
    }
   ],
   "source": [
    "a1 / b1"
   ]
  },
  {
   "cell_type": "markdown",
   "id": "7c220b38",
   "metadata": {},
   "source": [
    "### Multi Dimensional Arrrays"
   ]
  },
  {
   "cell_type": "code",
   "execution_count": 36,
   "id": "874d6df5",
   "metadata": {},
   "outputs": [
    {
     "data": {
      "text/plain": [
       "array([[ 0.,  0.,  0.],\n",
       "       [10., 10., 10.],\n",
       "       [20., 20., 20.],\n",
       "       [30., 30., 30.]])"
      ]
     },
     "execution_count": 36,
     "metadata": {},
     "output_type": "execute_result"
    }
   ],
   "source": [
    "m1 = np.array([\n",
    "    [0.0, 0.0, 0.0],\n",
    "    [10.0, 10.0, 10.0],\n",
    "    [20.0, 20.0, 20.0],\n",
    "    [30.0, 30.0, 30.0]\n",
    "])\n",
    "\n",
    "m1"
   ]
  },
  {
   "cell_type": "code",
   "execution_count": 37,
   "id": "2a15f309",
   "metadata": {},
   "outputs": [
    {
     "data": {
      "text/plain": [
       "array([1., 2., 3.])"
      ]
     },
     "execution_count": 37,
     "metadata": {},
     "output_type": "execute_result"
    }
   ],
   "source": [
    "m2 = np.array([1.0, 2.0, 3.0])\n",
    "\n",
    "m2"
   ]
  },
  {
   "cell_type": "code",
   "execution_count": 38,
   "id": "2d25cb80",
   "metadata": {},
   "outputs": [
    {
     "data": {
      "text/plain": [
       "array([[ 1.,  2.,  3.],\n",
       "       [11., 12., 13.],\n",
       "       [21., 22., 23.],\n",
       "       [31., 32., 33.]])"
      ]
     },
     "execution_count": 38,
     "metadata": {},
     "output_type": "execute_result"
    }
   ],
   "source": [
    "m1 + m2"
   ]
  },
  {
   "cell_type": "code",
   "execution_count": 39,
   "id": "1cb6fb8b",
   "metadata": {},
   "outputs": [
    {
     "data": {
      "text/plain": [
       "array([[-1., -2., -3.],\n",
       "       [ 9.,  8.,  7.],\n",
       "       [19., 18., 17.],\n",
       "       [29., 28., 27.]])"
      ]
     },
     "execution_count": 39,
     "metadata": {},
     "output_type": "execute_result"
    }
   ],
   "source": [
    "m1 - m2"
   ]
  },
  {
   "cell_type": "code",
   "execution_count": 40,
   "id": "7ba2a2fd",
   "metadata": {},
   "outputs": [
    {
     "data": {
      "text/plain": [
       "array([[ 0.,  0.,  0.],\n",
       "       [10., 20., 30.],\n",
       "       [20., 40., 60.],\n",
       "       [30., 60., 90.]])"
      ]
     },
     "execution_count": 40,
     "metadata": {},
     "output_type": "execute_result"
    }
   ],
   "source": [
    "m1 * m2"
   ]
  },
  {
   "cell_type": "code",
   "execution_count": 41,
   "id": "a3b3384e",
   "metadata": {},
   "outputs": [
    {
     "data": {
      "text/plain": [
       "array([[ 0.        ,  0.        ,  0.        ],\n",
       "       [10.        ,  5.        ,  3.33333333],\n",
       "       [20.        , 10.        ,  6.66666667],\n",
       "       [30.        , 15.        , 10.        ]])"
      ]
     },
     "execution_count": 41,
     "metadata": {},
     "output_type": "execute_result"
    }
   ],
   "source": [
    "m1  / m2"
   ]
  },
  {
   "cell_type": "code",
   "execution_count": 42,
   "id": "35d4da2a",
   "metadata": {},
   "outputs": [
    {
     "data": {
      "text/plain": [
       "array([[ 0.,  0.,  0.],\n",
       "       [20., 20., 20.],\n",
       "       [40., 40., 40.],\n",
       "       [60., 60., 60.]])"
      ]
     },
     "execution_count": 42,
     "metadata": {},
     "output_type": "execute_result"
    }
   ],
   "source": [
    "m1 + m1"
   ]
  },
  {
   "cell_type": "code",
   "execution_count": 43,
   "id": "181503f7",
   "metadata": {},
   "outputs": [
    {
     "data": {
      "text/plain": [
       "array([[0., 0., 0.],\n",
       "       [0., 0., 0.],\n",
       "       [0., 0., 0.],\n",
       "       [0., 0., 0.]])"
      ]
     },
     "execution_count": 43,
     "metadata": {},
     "output_type": "execute_result"
    }
   ],
   "source": [
    "m1 - m1"
   ]
  },
  {
   "cell_type": "code",
   "execution_count": 44,
   "id": "964728b6",
   "metadata": {},
   "outputs": [
    {
     "data": {
      "text/plain": [
       "array([[  0.,   0.,   0.],\n",
       "       [100., 100., 100.],\n",
       "       [400., 400., 400.],\n",
       "       [900., 900., 900.]])"
      ]
     },
     "execution_count": 44,
     "metadata": {},
     "output_type": "execute_result"
    }
   ],
   "source": [
    "m1 * m1"
   ]
  },
  {
   "cell_type": "code",
   "execution_count": 45,
   "id": "5c4a00a0",
   "metadata": {},
   "outputs": [
    {
     "name": "stderr",
     "output_type": "stream",
     "text": [
      "<ipython-input-45-b8e16df1d8ef>:1: RuntimeWarning: invalid value encountered in true_divide\n",
      "  m1 / m1\n"
     ]
    },
    {
     "data": {
      "text/plain": [
       "array([[nan, nan, nan],\n",
       "       [ 1.,  1.,  1.],\n",
       "       [ 1.,  1.,  1.],\n",
       "       [ 1.,  1.,  1.]])"
      ]
     },
     "execution_count": 45,
     "metadata": {},
     "output_type": "execute_result"
    }
   ],
   "source": [
    "m1 / m1"
   ]
  },
  {
   "cell_type": "markdown",
   "id": "ae32dd59",
   "metadata": {},
   "source": [
    "## Iterating Into An Array"
   ]
  },
  {
   "cell_type": "code",
   "execution_count": 46,
   "id": "c491f12a",
   "metadata": {},
   "outputs": [
    {
     "data": {
      "text/plain": [
       "array([[ 0,  5, 10, 15],\n",
       "       [20, 25, 30, 35],\n",
       "       [40, 45, 50, 55]])"
      ]
     },
     "execution_count": 46,
     "metadata": {},
     "output_type": "execute_result"
    }
   ],
   "source": [
    "arr = np.arange(0,60,5).reshape(3,4)\n",
    "arr"
   ]
  },
  {
   "cell_type": "markdown",
   "id": "9ea3e97f",
   "metadata": {},
   "source": [
    "### numpy.nditer"
   ]
  },
  {
   "cell_type": "code",
   "execution_count": 47,
   "id": "43b45f29",
   "metadata": {},
   "outputs": [
    {
     "name": "stdout",
     "output_type": "stream",
     "text": [
      "0\n",
      "5\n",
      "10\n",
      "15\n",
      "20\n",
      "25\n",
      "30\n",
      "35\n",
      "40\n",
      "45\n",
      "50\n",
      "55\n"
     ]
    }
   ],
   "source": [
    "for item in np.nditer(arr):\n",
    "    print(item)"
   ]
  },
  {
   "cell_type": "markdown",
   "id": "e5189cef",
   "metadata": {},
   "source": [
    "## NumPy Array Manipulation :"
   ]
  },
  {
   "cell_type": "raw",
   "id": "f5ac99c9",
   "metadata": {},
   "source": [
    "reshape => Gives a new shape to an array without changing the data.\n",
    "\n",
    "flat    => A 1-D iterator over array.\n",
    "\n",
    "flatten => Returns a copy of the array collapsed in 1-D.\n",
    "\n",
    "ravel   => Returns a continuous flattend array."
   ]
  },
  {
   "cell_type": "code",
   "execution_count": 48,
   "id": "8191ec94",
   "metadata": {},
   "outputs": [
    {
     "data": {
      "text/plain": [
       "array([0, 1, 2, 3, 4, 5, 6, 7])"
      ]
     },
     "execution_count": 48,
     "metadata": {},
     "output_type": "execute_result"
    }
   ],
   "source": [
    "a = np.arange(8)\n",
    "a"
   ]
  },
  {
   "cell_type": "markdown",
   "id": "77587f04",
   "metadata": {},
   "source": [
    "#### ndarray.reshape"
   ]
  },
  {
   "cell_type": "code",
   "execution_count": 49,
   "id": "b024b160",
   "metadata": {},
   "outputs": [
    {
     "data": {
      "text/plain": [
       "array([[0, 1],\n",
       "       [2, 3],\n",
       "       [4, 5],\n",
       "       [6, 7]])"
      ]
     },
     "execution_count": 49,
     "metadata": {},
     "output_type": "execute_result"
    }
   ],
   "source": [
    "a.reshape(4,2)"
   ]
  },
  {
   "cell_type": "code",
   "execution_count": 50,
   "id": "65be8534",
   "metadata": {},
   "outputs": [
    {
     "data": {
      "text/plain": [
       "array([[0, 1],\n",
       "       [2, 3],\n",
       "       [4, 5],\n",
       "       [6, 7]])"
      ]
     },
     "execution_count": 50,
     "metadata": {},
     "output_type": "execute_result"
    }
   ],
   "source": [
    "np.arange(8).reshape(4,2)"
   ]
  },
  {
   "cell_type": "markdown",
   "id": "922e5de6",
   "metadata": {},
   "source": [
    "#### ndarray.flat"
   ]
  },
  {
   "cell_type": "code",
   "execution_count": 51,
   "id": "f3dc3b67",
   "metadata": {},
   "outputs": [],
   "source": [
    "arr = np.arange(10,18).reshape(4,2)"
   ]
  },
  {
   "cell_type": "code",
   "execution_count": 52,
   "id": "a5a462a3",
   "metadata": {},
   "outputs": [
    {
     "data": {
      "text/plain": [
       "13"
      ]
     },
     "execution_count": 52,
     "metadata": {},
     "output_type": "execute_result"
    }
   ],
   "source": [
    "arr.flat[3]"
   ]
  },
  {
   "cell_type": "markdown",
   "id": "5906f80f",
   "metadata": {},
   "source": [
    "#### ndarray.flatten"
   ]
  },
  {
   "cell_type": "raw",
   "id": "9a4e2058",
   "metadata": {},
   "source": [
    "This converts multi dimensional array to single dimensional."
   ]
  },
  {
   "cell_type": "code",
   "execution_count": 53,
   "id": "e1ceabab",
   "metadata": {},
   "outputs": [
    {
     "data": {
      "text/plain": [
       "array([10, 11, 12, 13, 14, 15, 16, 17])"
      ]
     },
     "execution_count": 53,
     "metadata": {},
     "output_type": "execute_result"
    }
   ],
   "source": [
    "arr.flatten()"
   ]
  },
  {
   "cell_type": "markdown",
   "id": "771b5b45",
   "metadata": {},
   "source": [
    "#### ndarray.ravel"
   ]
  },
  {
   "cell_type": "code",
   "execution_count": 54,
   "id": "d0361903",
   "metadata": {},
   "outputs": [],
   "source": [
    "arr = np.arange(10,18).reshape(4,2)"
   ]
  },
  {
   "cell_type": "code",
   "execution_count": 55,
   "id": "da9b9c61",
   "metadata": {},
   "outputs": [
    {
     "data": {
      "text/plain": [
       "array([10, 11, 12, 13, 14, 15, 16, 17])"
      ]
     },
     "execution_count": 55,
     "metadata": {},
     "output_type": "execute_result"
    }
   ],
   "source": [
    "arr.ravel()"
   ]
  },
  {
   "cell_type": "markdown",
   "id": "8af47b0e",
   "metadata": {},
   "source": [
    "### Transpose"
   ]
  },
  {
   "cell_type": "code",
   "execution_count": 56,
   "id": "627e7e71",
   "metadata": {},
   "outputs": [
    {
     "data": {
      "text/plain": [
       "array([[ 0,  1,  2,  3],\n",
       "       [ 4,  5,  6,  7],\n",
       "       [ 8,  9, 10, 11]])"
      ]
     },
     "execution_count": 56,
     "metadata": {},
     "output_type": "execute_result"
    }
   ],
   "source": [
    "arr = np.arange(12).reshape(3,4)\n",
    "arr"
   ]
  },
  {
   "cell_type": "markdown",
   "id": "5af81eaa",
   "metadata": {},
   "source": [
    "### numpy.transpose"
   ]
  },
  {
   "cell_type": "code",
   "execution_count": 57,
   "id": "8aada9b9",
   "metadata": {},
   "outputs": [
    {
     "data": {
      "text/plain": [
       "array([[ 0,  4,  8],\n",
       "       [ 1,  5,  9],\n",
       "       [ 2,  6, 10],\n",
       "       [ 3,  7, 11]])"
      ]
     },
     "execution_count": 57,
     "metadata": {},
     "output_type": "execute_result"
    }
   ],
   "source": [
    "np.transpose(arr)"
   ]
  },
  {
   "cell_type": "code",
   "execution_count": null,
   "id": "0e89ab9e",
   "metadata": {},
   "outputs": [],
   "source": []
  }
 ],
 "metadata": {
  "kernelspec": {
   "display_name": "Python 3",
   "language": "python",
   "name": "python3"
  },
  "language_info": {
   "codemirror_mode": {
    "name": "ipython",
    "version": 3
   },
   "file_extension": ".py",
   "mimetype": "text/x-python",
   "name": "python",
   "nbconvert_exporter": "python",
   "pygments_lexer": "ipython3",
   "version": "3.8.8"
  }
 },
 "nbformat": 4,
 "nbformat_minor": 5
}
