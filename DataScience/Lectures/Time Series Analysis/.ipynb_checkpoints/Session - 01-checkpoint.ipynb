{
 "cells": [
  {
   "cell_type": "raw",
   "id": "0b013829",
   "metadata": {},
   "source": [
    "Date - 02/08/2021  11:00 AM to 01:15 PM"
   ]
  },
  {
   "cell_type": "markdown",
   "id": "fa4b89cc",
   "metadata": {},
   "source": [
    "# Time Series Analysis"
   ]
  },
  {
   "cell_type": "raw",
   "id": "86a56bf5",
   "metadata": {},
   "source": [
    "Time Series is an important form (type) of data in many different fields (Stock market, Physics, Neuro Science,), Any Data that changes with the change in time comes under the category of time series analysis.\n",
    "=> Time Series can be irregular without any fixed unit of time or offset."
   ]
  },
  {
   "cell_type": "code",
   "execution_count": 1,
   "id": "4b9b9151",
   "metadata": {},
   "outputs": [],
   "source": [
    "from datetime import datetime"
   ]
  },
  {
   "cell_type": "code",
   "execution_count": 2,
   "id": "d6f8957d",
   "metadata": {},
   "outputs": [],
   "source": [
    "now = datetime.now()  #current date time"
   ]
  },
  {
   "cell_type": "code",
   "execution_count": 3,
   "id": "41f683be",
   "metadata": {},
   "outputs": [
    {
     "name": "stdout",
     "output_type": "stream",
     "text": [
      "2021-08-29 11:37:05.077699\n"
     ]
    }
   ],
   "source": [
    "print(now)"
   ]
  },
  {
   "cell_type": "code",
   "execution_count": 4,
   "id": "b9239fb1",
   "metadata": {},
   "outputs": [
    {
     "data": {
      "text/plain": [
       "2021"
      ]
     },
     "execution_count": 4,
     "metadata": {},
     "output_type": "execute_result"
    }
   ],
   "source": [
    "now.year"
   ]
  },
  {
   "cell_type": "code",
   "execution_count": 5,
   "id": "56784ba0",
   "metadata": {},
   "outputs": [
    {
     "data": {
      "text/plain": [
       "8"
      ]
     },
     "execution_count": 5,
     "metadata": {},
     "output_type": "execute_result"
    }
   ],
   "source": [
    "now.month"
   ]
  },
  {
   "cell_type": "code",
   "execution_count": 6,
   "id": "736970c2",
   "metadata": {},
   "outputs": [
    {
     "data": {
      "text/plain": [
       "29"
      ]
     },
     "execution_count": 6,
     "metadata": {},
     "output_type": "execute_result"
    }
   ],
   "source": [
    "now.day"
   ]
  },
  {
   "cell_type": "code",
   "execution_count": 7,
   "id": "30daccc8",
   "metadata": {},
   "outputs": [
    {
     "data": {
      "text/plain": [
       "11"
      ]
     },
     "execution_count": 7,
     "metadata": {},
     "output_type": "execute_result"
    }
   ],
   "source": [
    "now.hour"
   ]
  },
  {
   "cell_type": "code",
   "execution_count": 8,
   "id": "0eb80656",
   "metadata": {},
   "outputs": [
    {
     "data": {
      "text/plain": [
       "37"
      ]
     },
     "execution_count": 8,
     "metadata": {},
     "output_type": "execute_result"
    }
   ],
   "source": [
    "now.minute"
   ]
  },
  {
   "cell_type": "code",
   "execution_count": 9,
   "id": "3368dc98",
   "metadata": {},
   "outputs": [
    {
     "data": {
      "text/plain": [
       "5"
      ]
     },
     "execution_count": 9,
     "metadata": {},
     "output_type": "execute_result"
    }
   ],
   "source": [
    "now.second"
   ]
  },
  {
   "cell_type": "code",
   "execution_count": 10,
   "id": "64832b2f",
   "metadata": {},
   "outputs": [
    {
     "data": {
      "text/plain": [
       "6"
      ]
     },
     "execution_count": 10,
     "metadata": {},
     "output_type": "execute_result"
    }
   ],
   "source": [
    "now.weekday()"
   ]
  },
  {
   "cell_type": "markdown",
   "id": "5fca17ae",
   "metadata": {},
   "source": [
    "### Difference Between Two Dates"
   ]
  },
  {
   "cell_type": "code",
   "execution_count": 11,
   "id": "78b15568",
   "metadata": {},
   "outputs": [],
   "source": [
    "delta = datetime(2011,1,7) - datetime(2008,6,24,8,15)"
   ]
  },
  {
   "cell_type": "code",
   "execution_count": 12,
   "id": "c04479ba",
   "metadata": {},
   "outputs": [
    {
     "data": {
      "text/plain": [
       "datetime.timedelta(days=926, seconds=56700)"
      ]
     },
     "execution_count": 12,
     "metadata": {},
     "output_type": "execute_result"
    }
   ],
   "source": [
    "delta"
   ]
  },
  {
   "cell_type": "code",
   "execution_count": 13,
   "id": "6c462d47",
   "metadata": {},
   "outputs": [
    {
     "data": {
      "text/plain": [
       "926"
      ]
     },
     "execution_count": 13,
     "metadata": {},
     "output_type": "execute_result"
    }
   ],
   "source": [
    "delta.days"
   ]
  },
  {
   "cell_type": "code",
   "execution_count": 14,
   "id": "21c06a99",
   "metadata": {},
   "outputs": [
    {
     "data": {
      "text/plain": [
       "56700"
      ]
     },
     "execution_count": 14,
     "metadata": {},
     "output_type": "execute_result"
    }
   ],
   "source": [
    "delta.seconds"
   ]
  },
  {
   "cell_type": "markdown",
   "id": "b0b24f24",
   "metadata": {},
   "source": [
    "### Conversion Between String & Datetime"
   ]
  },
  {
   "cell_type": "code",
   "execution_count": 16,
   "id": "a92c24d3",
   "metadata": {},
   "outputs": [],
   "source": [
    "stamp = datetime(2021,1,15)"
   ]
  },
  {
   "cell_type": "code",
   "execution_count": 17,
   "id": "3593a014",
   "metadata": {},
   "outputs": [
    {
     "data": {
      "text/plain": [
       "datetime.datetime(2021, 1, 15, 0, 0)"
      ]
     },
     "execution_count": 17,
     "metadata": {},
     "output_type": "execute_result"
    }
   ],
   "source": [
    "stamp"
   ]
  },
  {
   "cell_type": "code",
   "execution_count": 18,
   "id": "ba06a11a",
   "metadata": {},
   "outputs": [
    {
     "data": {
      "text/plain": [
       "datetime.datetime"
      ]
     },
     "execution_count": 18,
     "metadata": {},
     "output_type": "execute_result"
    }
   ],
   "source": [
    "type(stamp)"
   ]
  },
  {
   "cell_type": "code",
   "execution_count": 19,
   "id": "0fc0a806",
   "metadata": {},
   "outputs": [
    {
     "data": {
      "text/plain": [
       "'2021-01-15 00:00:00'"
      ]
     },
     "execution_count": 19,
     "metadata": {},
     "output_type": "execute_result"
    }
   ],
   "source": [
    "str(stamp)"
   ]
  },
  {
   "cell_type": "code",
   "execution_count": 20,
   "id": "344569b8",
   "metadata": {},
   "outputs": [
    {
     "data": {
      "text/plain": [
       "'2021-01-15'"
      ]
     },
     "execution_count": 20,
     "metadata": {},
     "output_type": "execute_result"
    }
   ],
   "source": [
    "stamp.strftime('%Y-%m-%d')"
   ]
  },
  {
   "cell_type": "raw",
   "id": "2e2f580f",
   "metadata": {},
   "source": [
    "%Y - Four digit year\n",
    "%y - Two digit year\n",
    "%m - Two digit month [01 - 12]\n",
    "%d - Two digit day [01 - 31]\n",
    "%H - Hour(24 hour clock) [00 -23]\n",
    "%I - Hour(12 hour clock) [01 - 12]\n",
    "%M - Two digit minutes [00 - 59]\n",
    "%S - Second [00-60]\n",
    "%w - Weekday as an integer [0(monday).....6]\n",
    "%b - "
   ]
  },
  {
   "cell_type": "code",
   "execution_count": null,
   "id": "fbb690d6",
   "metadata": {},
   "outputs": [],
   "source": []
  },
  {
   "cell_type": "code",
   "execution_count": 21,
   "id": "91eface9",
   "metadata": {},
   "outputs": [],
   "source": [
    "val = '2011-02-22'"
   ]
  },
  {
   "cell_type": "code",
   "execution_count": 22,
   "id": "a7b12ab0",
   "metadata": {},
   "outputs": [
    {
     "data": {
      "text/plain": [
       "str"
      ]
     },
     "execution_count": 22,
     "metadata": {},
     "output_type": "execute_result"
    }
   ],
   "source": [
    "type(val)"
   ]
  },
  {
   "cell_type": "code",
   "execution_count": 23,
   "id": "08aa889a",
   "metadata": {},
   "outputs": [],
   "source": [
    "val2 = datetime.strptime(val, '%Y-%m-%d')"
   ]
  },
  {
   "cell_type": "code",
   "execution_count": 24,
   "id": "186c2251",
   "metadata": {},
   "outputs": [
    {
     "data": {
      "text/plain": [
       "datetime.datetime"
      ]
     },
     "execution_count": 24,
     "metadata": {},
     "output_type": "execute_result"
    }
   ],
   "source": [
    "type(val2)"
   ]
  },
  {
   "cell_type": "code",
   "execution_count": 25,
   "id": "bd3b2e90",
   "metadata": {},
   "outputs": [
    {
     "name": "stdout",
     "output_type": "stream",
     "text": [
      "2011-02-22 00:00:00\n"
     ]
    }
   ],
   "source": [
    "print(val2)"
   ]
  },
  {
   "cell_type": "code",
   "execution_count": 27,
   "id": "a1cd396c",
   "metadata": {},
   "outputs": [],
   "source": [
    "mydates = ['08/01/1993', '11/11/2000', '29/12/1999', '20/10/2003']"
   ]
  },
  {
   "cell_type": "code",
   "execution_count": 28,
   "id": "bc11d9ef",
   "metadata": {},
   "outputs": [
    {
     "data": {
      "text/plain": [
       "[datetime.datetime(1993, 1, 8, 0, 0),\n",
       " datetime.datetime(2000, 11, 11, 0, 0),\n",
       " datetime.datetime(1999, 12, 29, 0, 0),\n",
       " datetime.datetime(2003, 10, 20, 0, 0)]"
      ]
     },
     "execution_count": 28,
     "metadata": {},
     "output_type": "execute_result"
    }
   ],
   "source": [
    "[datetime.strptime(items, '%d/%m/%Y') for items in mydates]"
   ]
  },
  {
   "cell_type": "markdown",
   "id": "49132843",
   "metadata": {},
   "source": [
    "### Time Series Basics"
   ]
  },
  {
   "cell_type": "code",
   "execution_count": 29,
   "id": "35790a53",
   "metadata": {},
   "outputs": [],
   "source": [
    "from datetime import datetime"
   ]
  },
  {
   "cell_type": "code",
   "execution_count": 30,
   "id": "a6c4f97b",
   "metadata": {},
   "outputs": [],
   "source": [
    "import numpy as np\n",
    "import pandas as pd"
   ]
  },
  {
   "cell_type": "code",
   "execution_count": 31,
   "id": "2dbb634b",
   "metadata": {},
   "outputs": [],
   "source": [
    "dates = [\n",
    "    datetime(2011,1,2),\n",
    "    datetime(2011,1,5),\n",
    "    datetime(2011,1,7),\n",
    "    datetime(2011,1,8),\n",
    "    datetime(2011,1,10),\n",
    "    datetime(2011,1,12)\n",
    "]"
   ]
  },
  {
   "cell_type": "code",
   "execution_count": 32,
   "id": "e385b1f5",
   "metadata": {},
   "outputs": [
    {
     "data": {
      "text/plain": [
       "[datetime.datetime(2011, 1, 2, 0, 0),\n",
       " datetime.datetime(2011, 1, 5, 0, 0),\n",
       " datetime.datetime(2011, 1, 7, 0, 0),\n",
       " datetime.datetime(2011, 1, 8, 0, 0),\n",
       " datetime.datetime(2011, 1, 10, 0, 0),\n",
       " datetime.datetime(2011, 1, 12, 0, 0)]"
      ]
     },
     "execution_count": 32,
     "metadata": {},
     "output_type": "execute_result"
    }
   ],
   "source": [
    "dates"
   ]
  },
  {
   "cell_type": "code",
   "execution_count": 33,
   "id": "88385e8e",
   "metadata": {},
   "outputs": [],
   "source": [
    "mydata = pd.Series(np.random.randn(6), index=dates)"
   ]
  },
  {
   "cell_type": "code",
   "execution_count": 34,
   "id": "1288ad39",
   "metadata": {},
   "outputs": [
    {
     "data": {
      "text/plain": [
       "2011-01-02    1.233810\n",
       "2011-01-05   -0.407618\n",
       "2011-01-07    0.827317\n",
       "2011-01-08    0.177934\n",
       "2011-01-10    1.797158\n",
       "2011-01-12    0.284199\n",
       "dtype: float64"
      ]
     },
     "execution_count": 34,
     "metadata": {},
     "output_type": "execute_result"
    }
   ],
   "source": [
    "mydata"
   ]
  },
  {
   "cell_type": "code",
   "execution_count": 35,
   "id": "4a99271e",
   "metadata": {},
   "outputs": [
    {
     "data": {
      "text/plain": [
       "DatetimeIndex(['2011-01-02', '2011-01-05', '2011-01-07', '2011-01-08',\n",
       "               '2011-01-10', '2011-01-12'],\n",
       "              dtype='datetime64[ns]', freq=None)"
      ]
     },
     "execution_count": 35,
     "metadata": {},
     "output_type": "execute_result"
    }
   ],
   "source": [
    "mydata.index"
   ]
  },
  {
   "cell_type": "code",
   "execution_count": 36,
   "id": "9cf2ef83",
   "metadata": {},
   "outputs": [],
   "source": [
    "stamp = mydata.index[0]"
   ]
  },
  {
   "cell_type": "code",
   "execution_count": 37,
   "id": "3e0ea0da",
   "metadata": {},
   "outputs": [
    {
     "data": {
      "text/plain": [
       "Timestamp('2011-01-02 00:00:00')"
      ]
     },
     "execution_count": 37,
     "metadata": {},
     "output_type": "execute_result"
    }
   ],
   "source": [
    "stamp"
   ]
  },
  {
   "cell_type": "markdown",
   "id": "9b6d7fb9",
   "metadata": {},
   "source": [
    "### Date In Ranges"
   ]
  },
  {
   "cell_type": "code",
   "execution_count": 38,
   "id": "4aaa5597",
   "metadata": {},
   "outputs": [],
   "source": [
    "new_data = pd.Series(np.random.randn(1000), index = pd.date_range('1/1/2000', periods=1000))"
   ]
  },
  {
   "cell_type": "code",
   "execution_count": 39,
   "id": "103b00f0",
   "metadata": {},
   "outputs": [
    {
     "data": {
      "text/plain": [
       "2000-01-01    0.671538\n",
       "2000-01-02   -1.276110\n",
       "2000-01-03    1.744786\n",
       "2000-01-04   -0.751776\n",
       "2000-01-05    0.371181\n",
       "                ...   \n",
       "2002-09-22   -1.191767\n",
       "2002-09-23   -2.337083\n",
       "2002-09-24   -2.567123\n",
       "2002-09-25    1.813506\n",
       "2002-09-26    0.387842\n",
       "Freq: D, Length: 1000, dtype: float64"
      ]
     },
     "execution_count": 39,
     "metadata": {},
     "output_type": "execute_result"
    }
   ],
   "source": [
    "new_data"
   ]
  },
  {
   "cell_type": "code",
   "execution_count": 40,
   "id": "fc2e3cc7",
   "metadata": {},
   "outputs": [
    {
     "data": {
      "text/plain": [
       "2001-01-01    1.078913\n",
       "2001-01-02   -1.052649\n",
       "2001-01-03    0.442674\n",
       "2001-01-04   -1.247425\n",
       "2001-01-05   -1.211514\n",
       "                ...   \n",
       "2001-12-27   -0.404476\n",
       "2001-12-28   -0.298643\n",
       "2001-12-29    0.799250\n",
       "2001-12-30   -2.018111\n",
       "2001-12-31   -0.438433\n",
       "Freq: D, Length: 365, dtype: float64"
      ]
     },
     "execution_count": 40,
     "metadata": {},
     "output_type": "execute_result"
    }
   ],
   "source": [
    "new_data['2001']    #accessing the data for a specific year"
   ]
  },
  {
   "cell_type": "code",
   "execution_count": 41,
   "id": "575a7398",
   "metadata": {},
   "outputs": [
    {
     "data": {
      "text/plain": [
       "2001-08-01   -1.813966\n",
       "2001-08-02   -1.272773\n",
       "2001-08-03   -0.645350\n",
       "2001-08-04    0.273595\n",
       "2001-08-05    0.798017\n",
       "2001-08-06    1.276604\n",
       "2001-08-07   -0.916876\n",
       "2001-08-08   -0.508906\n",
       "2001-08-09    1.566892\n",
       "2001-08-10   -0.004668\n",
       "2001-08-11   -1.157110\n",
       "2001-08-12    0.457742\n",
       "2001-08-13    0.372233\n",
       "2001-08-14   -0.995497\n",
       "2001-08-15   -0.257684\n",
       "2001-08-16    0.603903\n",
       "2001-08-17    0.687846\n",
       "2001-08-18   -0.208216\n",
       "2001-08-19    0.955867\n",
       "2001-08-20   -0.314610\n",
       "2001-08-21    1.204304\n",
       "2001-08-22    0.705509\n",
       "2001-08-23   -1.785096\n",
       "2001-08-24    0.850538\n",
       "2001-08-25    0.304874\n",
       "2001-08-26   -0.656865\n",
       "2001-08-27    0.204307\n",
       "2001-08-28   -1.683764\n",
       "2001-08-29   -0.332371\n",
       "2001-08-30   -0.363662\n",
       "2001-08-31   -0.351054\n",
       "Freq: D, dtype: float64"
      ]
     },
     "execution_count": 41,
     "metadata": {},
     "output_type": "execute_result"
    }
   ],
   "source": [
    "new_data['2001-08']    #accessing the data for a specific month of year"
   ]
  },
  {
   "cell_type": "code",
   "execution_count": 42,
   "id": "45509bff",
   "metadata": {},
   "outputs": [
    {
     "data": {
      "text/plain": [
       "2001-08-01   -1.813966\n",
       "2001-08-02   -1.272773\n",
       "2001-08-03   -0.645350\n",
       "2001-08-04    0.273595\n",
       "2001-08-05    0.798017\n",
       "2001-08-06    1.276604\n",
       "2001-08-07   -0.916876\n",
       "2001-08-08   -0.508906\n",
       "2001-08-09    1.566892\n",
       "2001-08-10   -0.004668\n",
       "2001-08-11   -1.157110\n",
       "2001-08-12    0.457742\n",
       "2001-08-13    0.372233\n",
       "2001-08-14   -0.995497\n",
       "2001-08-15   -0.257684\n",
       "Freq: D, dtype: float64"
      ]
     },
     "execution_count": 42,
     "metadata": {},
     "output_type": "execute_result"
    }
   ],
   "source": [
    "new_data['2001-08-01':'2001-08-15']    #accessing between days"
   ]
  },
  {
   "cell_type": "markdown",
   "id": "b6946803",
   "metadata": {},
   "source": [
    "### Specific Weekdays"
   ]
  },
  {
   "cell_type": "code",
   "execution_count": 43,
   "id": "610fd42d",
   "metadata": {},
   "outputs": [],
   "source": [
    "dates = pd.date_range('1/1/2000', periods=100, freq='W-WED')"
   ]
  },
  {
   "cell_type": "code",
   "execution_count": 44,
   "id": "8816b593",
   "metadata": {},
   "outputs": [
    {
     "data": {
      "text/plain": [
       "DatetimeIndex(['2000-01-05', '2000-01-12', '2000-01-19', '2000-01-26',\n",
       "               '2000-02-02', '2000-02-09', '2000-02-16', '2000-02-23',\n",
       "               '2000-03-01', '2000-03-08', '2000-03-15', '2000-03-22',\n",
       "               '2000-03-29', '2000-04-05', '2000-04-12', '2000-04-19',\n",
       "               '2000-04-26', '2000-05-03', '2000-05-10', '2000-05-17',\n",
       "               '2000-05-24', '2000-05-31', '2000-06-07', '2000-06-14',\n",
       "               '2000-06-21', '2000-06-28', '2000-07-05', '2000-07-12',\n",
       "               '2000-07-19', '2000-07-26', '2000-08-02', '2000-08-09',\n",
       "               '2000-08-16', '2000-08-23', '2000-08-30', '2000-09-06',\n",
       "               '2000-09-13', '2000-09-20', '2000-09-27', '2000-10-04',\n",
       "               '2000-10-11', '2000-10-18', '2000-10-25', '2000-11-01',\n",
       "               '2000-11-08', '2000-11-15', '2000-11-22', '2000-11-29',\n",
       "               '2000-12-06', '2000-12-13', '2000-12-20', '2000-12-27',\n",
       "               '2001-01-03', '2001-01-10', '2001-01-17', '2001-01-24',\n",
       "               '2001-01-31', '2001-02-07', '2001-02-14', '2001-02-21',\n",
       "               '2001-02-28', '2001-03-07', '2001-03-14', '2001-03-21',\n",
       "               '2001-03-28', '2001-04-04', '2001-04-11', '2001-04-18',\n",
       "               '2001-04-25', '2001-05-02', '2001-05-09', '2001-05-16',\n",
       "               '2001-05-23', '2001-05-30', '2001-06-06', '2001-06-13',\n",
       "               '2001-06-20', '2001-06-27', '2001-07-04', '2001-07-11',\n",
       "               '2001-07-18', '2001-07-25', '2001-08-01', '2001-08-08',\n",
       "               '2001-08-15', '2001-08-22', '2001-08-29', '2001-09-05',\n",
       "               '2001-09-12', '2001-09-19', '2001-09-26', '2001-10-03',\n",
       "               '2001-10-10', '2001-10-17', '2001-10-24', '2001-10-31',\n",
       "               '2001-11-07', '2001-11-14', '2001-11-21', '2001-11-28'],\n",
       "              dtype='datetime64[ns]', freq='W-WED')"
      ]
     },
     "execution_count": 44,
     "metadata": {},
     "output_type": "execute_result"
    }
   ],
   "source": [
    "dates"
   ]
  },
  {
   "cell_type": "markdown",
   "id": "59caa15c",
   "metadata": {},
   "source": [
    "### Time Series With Duplicate Dates"
   ]
  },
  {
   "cell_type": "code",
   "execution_count": 45,
   "id": "eee36e80",
   "metadata": {},
   "outputs": [],
   "source": [
    "dates = pd.DatetimeIndex(['1/1/2000','1,2,2000','1,2,2000','1,2,2000','1-3-2000'])"
   ]
  },
  {
   "cell_type": "code",
   "execution_count": 46,
   "id": "6f4375cc",
   "metadata": {},
   "outputs": [],
   "source": [
    "dup_ser = pd.Series(np.arange(5), index=dates)"
   ]
  },
  {
   "cell_type": "code",
   "execution_count": 47,
   "id": "c2c7f9f3",
   "metadata": {},
   "outputs": [
    {
     "data": {
      "text/plain": [
       "2000-01-01    0\n",
       "2000-01-02    1\n",
       "2000-01-02    2\n",
       "2000-01-02    3\n",
       "2000-01-03    4\n",
       "dtype: int32"
      ]
     },
     "execution_count": 47,
     "metadata": {},
     "output_type": "execute_result"
    }
   ],
   "source": [
    "dup_ser"
   ]
  },
  {
   "cell_type": "code",
   "execution_count": 48,
   "id": "8db50495",
   "metadata": {},
   "outputs": [
    {
     "data": {
      "text/plain": [
       "False"
      ]
     },
     "execution_count": 48,
     "metadata": {},
     "output_type": "execute_result"
    }
   ],
   "source": [
    "dup_ser.index.is_unique"
   ]
  },
  {
   "cell_type": "code",
   "execution_count": 49,
   "id": "3e61adb1",
   "metadata": {},
   "outputs": [
    {
     "data": {
      "text/plain": [
       "2000-01-02    1\n",
       "2000-01-02    2\n",
       "2000-01-02    3\n",
       "dtype: int32"
      ]
     },
     "execution_count": 49,
     "metadata": {},
     "output_type": "execute_result"
    }
   ],
   "source": [
    "dup_ser['2000-01-02']"
   ]
  },
  {
   "cell_type": "code",
   "execution_count": 50,
   "id": "a760830b",
   "metadata": {},
   "outputs": [],
   "source": [
    "grouped = dup_ser.groupby(level=0)"
   ]
  },
  {
   "cell_type": "code",
   "execution_count": 51,
   "id": "2e075a0d",
   "metadata": {},
   "outputs": [
    {
     "data": {
      "text/plain": [
       "2000-01-01    0\n",
       "2000-01-02    2\n",
       "2000-01-03    4\n",
       "dtype: int32"
      ]
     },
     "execution_count": 51,
     "metadata": {},
     "output_type": "execute_result"
    }
   ],
   "source": [
    "grouped.mean()"
   ]
  },
  {
   "cell_type": "code",
   "execution_count": 52,
   "id": "bb878153",
   "metadata": {},
   "outputs": [
    {
     "data": {
      "text/plain": [
       "2000-01-01    0\n",
       "2000-01-02    6\n",
       "2000-01-03    4\n",
       "dtype: int32"
      ]
     },
     "execution_count": 52,
     "metadata": {},
     "output_type": "execute_result"
    }
   ],
   "source": [
    "grouped.sum()"
   ]
  },
  {
   "cell_type": "markdown",
   "id": "995d87bc",
   "metadata": {},
   "source": [
    "### String Month To Number Month"
   ]
  },
  {
   "cell_type": "code",
   "execution_count": 53,
   "id": "1238f28e",
   "metadata": {},
   "outputs": [
    {
     "data": {
      "text/plain": [
       "datetime.datetime(2000, 1, 1, 0, 0)"
      ]
     },
     "execution_count": 53,
     "metadata": {},
     "output_type": "execute_result"
    }
   ],
   "source": [
    "datetime.strptime('Jan 01 2000','%b %d %Y')"
   ]
  },
  {
   "cell_type": "code",
   "execution_count": 54,
   "id": "7a407196",
   "metadata": {},
   "outputs": [
    {
     "data": {
      "text/plain": [
       "datetime.datetime(2000, 2, 1, 0, 0)"
      ]
     },
     "execution_count": 54,
     "metadata": {},
     "output_type": "execute_result"
    }
   ],
   "source": [
    "datetime.strptime('01-Feb-2000','%d-%b-%Y')"
   ]
  },
  {
   "cell_type": "code",
   "execution_count": 56,
   "id": "3530518a",
   "metadata": {},
   "outputs": [
    {
     "data": {
      "text/plain": [
       "Timestamp('2000-03-01 00:00:00')"
      ]
     },
     "execution_count": 56,
     "metadata": {},
     "output_type": "execute_result"
    }
   ],
   "source": [
    "pd.to_datetime('01-mar-2000')"
   ]
  }
 ],
 "metadata": {
  "kernelspec": {
   "display_name": "Python 3",
   "language": "python",
   "name": "python3"
  },
  "language_info": {
   "codemirror_mode": {
    "name": "ipython",
    "version": 3
   },
   "file_extension": ".py",
   "mimetype": "text/x-python",
   "name": "python",
   "nbconvert_exporter": "python",
   "pygments_lexer": "ipython3",
   "version": "3.8.8"
  }
 },
 "nbformat": 4,
 "nbformat_minor": 5
}
