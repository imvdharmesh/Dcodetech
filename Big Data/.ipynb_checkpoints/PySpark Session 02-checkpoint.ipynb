{
 "cells": [
  {
   "cell_type": "markdown",
   "id": "7ad38c66",
   "metadata": {},
   "source": [
    "# Resilient Distributed Dataset (RDD)\n",
    "\n",
    "RDD (Resilient Distributed Dataset) is a fundamental building block of Pyspark which is fault tolerant, immutable distributed collection of objects.\n",
    "\n",
    "Once you create a record in an RDD you cannot change it. Each record in RDD is divided into logical partition which can be computed on different node of cluster."
   ]
  },
  {
   "cell_type": "markdown",
   "id": "3c020e11",
   "metadata": {},
   "source": [
    "<img src='https://i0.wp.com/sparkbyexamples.com/wp-content/uploads/2020/08/rdd-creation.png?resize=768%2C477&ssl=1' />"
   ]
  },
  {
   "cell_type": "markdown",
   "id": "b1538716",
   "metadata": {},
   "source": [
    "## Creatiing Spark Session"
   ]
  },
  {
   "cell_type": "code",
   "execution_count": 1,
   "id": "aafe2a21",
   "metadata": {},
   "outputs": [],
   "source": [
    "import pyspark\n",
    "from pyspark.sql import SparkSession"
   ]
  },
  {
   "cell_type": "code",
   "execution_count": 2,
   "id": "6fbf4ac0",
   "metadata": {},
   "outputs": [],
   "source": [
    "import findspark\n",
    "findspark.init()"
   ]
  },
  {
   "cell_type": "code",
   "execution_count": 3,
   "id": "8fc81d42",
   "metadata": {},
   "outputs": [],
   "source": [
    "spark = SparkSession.builder.appName('Session 2').getOrCreate()"
   ]
  },
  {
   "cell_type": "code",
   "execution_count": 4,
   "id": "b312317a",
   "metadata": {},
   "outputs": [
    {
     "data": {
      "text/html": [
       "\n",
       "            <div>\n",
       "                <p><b>SparkSession - in-memory</b></p>\n",
       "                \n",
       "        <div>\n",
       "            <p><b>SparkContext</b></p>\n",
       "\n",
       "            <p><a href=\"http://bookmarks.com:4040\">Spark UI</a></p>\n",
       "\n",
       "            <dl>\n",
       "              <dt>Version</dt>\n",
       "                <dd><code>v3.2.1</code></dd>\n",
       "              <dt>Master</dt>\n",
       "                <dd><code>local[*]</code></dd>\n",
       "              <dt>AppName</dt>\n",
       "                <dd><code>Session 2</code></dd>\n",
       "            </dl>\n",
       "        </div>\n",
       "        \n",
       "            </div>\n",
       "        "
      ],
      "text/plain": [
       "<pyspark.sql.session.SparkSession at 0xe4ff103988>"
      ]
     },
     "execution_count": 4,
     "metadata": {},
     "output_type": "execute_result"
    }
   ],
   "source": [
    "spark"
   ]
  },
  {
   "cell_type": "markdown",
   "id": "09e63cb1",
   "metadata": {},
   "source": [
    "## Creating RDD"
   ]
  },
  {
   "cell_type": "code",
   "execution_count": 5,
   "id": "20288144",
   "metadata": {},
   "outputs": [],
   "source": [
    "data = [23, 45, 67, 86, 78, 3, 4, 5, 6, 10, 11, 12, 23, 45, 67, 10]"
   ]
  },
  {
   "cell_type": "code",
   "execution_count": 6,
   "id": "5965a1a2",
   "metadata": {},
   "outputs": [],
   "source": [
    "rdd1 = spark.sparkContext.parallelize(data)"
   ]
  },
  {
   "cell_type": "code",
   "execution_count": 7,
   "id": "dc4a48ea",
   "metadata": {},
   "outputs": [
    {
     "data": {
      "text/plain": [
       "ParallelCollectionRDD[0] at readRDDFromFile at PythonRDD.scala:274"
      ]
     },
     "execution_count": 7,
     "metadata": {},
     "output_type": "execute_result"
    }
   ],
   "source": [
    "rdd1"
   ]
  },
  {
   "cell_type": "code",
   "execution_count": 8,
   "id": "3efa606b",
   "metadata": {},
   "outputs": [
    {
     "data": {
      "text/plain": [
       "pyspark.rdd.RDD"
      ]
     },
     "execution_count": 8,
     "metadata": {},
     "output_type": "execute_result"
    }
   ],
   "source": [
    "type(rdd1)"
   ]
  },
  {
   "cell_type": "code",
   "execution_count": 9,
   "id": "a137d43b",
   "metadata": {},
   "outputs": [
    {
     "data": {
      "text/plain": [
       "[23, 45, 67, 86, 78, 3, 4, 5, 6, 10, 11, 12, 23, 45, 67, 10]"
      ]
     },
     "execution_count": 9,
     "metadata": {},
     "output_type": "execute_result"
    }
   ],
   "source": [
    "rdd1.collect()"
   ]
  },
  {
   "cell_type": "code",
   "execution_count": 11,
   "id": "9323188b",
   "metadata": {},
   "outputs": [
    {
     "data": {
      "text/plain": [
       "16"
      ]
     },
     "execution_count": 11,
     "metadata": {},
     "output_type": "execute_result"
    }
   ],
   "source": [
    "rdd1.count()"
   ]
  },
  {
   "cell_type": "code",
   "execution_count": 13,
   "id": "70cf6e87",
   "metadata": {},
   "outputs": [
    {
     "name": "stdout",
     "output_type": "stream",
     "text": [
      "23\n",
      "45\n",
      "67\n",
      "86\n",
      "78\n",
      "3\n",
      "4\n",
      "5\n",
      "6\n",
      "10\n",
      "11\n",
      "12\n",
      "23\n",
      "45\n",
      "67\n",
      "10\n"
     ]
    }
   ],
   "source": [
    "for val in rdd1.collect():\n",
    "    print(val)"
   ]
  },
  {
   "cell_type": "code",
   "execution_count": 15,
   "id": "a40a91fa",
   "metadata": {},
   "outputs": [
    {
     "data": {
      "text/plain": [
       "[4, 12, 45, 5, 86, 78, 6, 10, 23, 67, 3, 11]"
      ]
     },
     "execution_count": 15,
     "metadata": {},
     "output_type": "execute_result"
    }
   ],
   "source": [
    "rdd1.distinct().collect()"
   ]
  },
  {
   "cell_type": "code",
   "execution_count": 16,
   "id": "8961239f",
   "metadata": {},
   "outputs": [
    {
     "data": {
      "text/plain": [
       "12"
      ]
     },
     "execution_count": 16,
     "metadata": {},
     "output_type": "execute_result"
    }
   ],
   "source": [
    "rdd1.distinct().count()"
   ]
  },
  {
   "cell_type": "code",
   "execution_count": 19,
   "id": "0892b593",
   "metadata": {},
   "outputs": [
    {
     "data": {
      "text/plain": [
       "[23, 45, 67, 86, 78, 3, 4, 5, 6, 10, 11, 12, 23, 45, 67, 10]"
      ]
     },
     "execution_count": 19,
     "metadata": {},
     "output_type": "execute_result"
    }
   ],
   "source": [
    "rdd1.collect()"
   ]
  },
  {
   "cell_type": "code",
   "execution_count": 21,
   "id": "c1dc6d47",
   "metadata": {},
   "outputs": [
    {
     "data": {
      "text/plain": [
       "23"
      ]
     },
     "execution_count": 21,
     "metadata": {},
     "output_type": "execute_result"
    }
   ],
   "source": [
    "rdd1.first()"
   ]
  },
  {
   "cell_type": "code",
   "execution_count": 22,
   "id": "c9daf8e8",
   "metadata": {},
   "outputs": [
    {
     "data": {
      "text/plain": [
       "[23, 45, 67, 86, 78]"
      ]
     },
     "execution_count": 22,
     "metadata": {},
     "output_type": "execute_result"
    }
   ],
   "source": [
    "rdd1.take(5)"
   ]
  },
  {
   "cell_type": "markdown",
   "id": "61412ec4",
   "metadata": {},
   "source": [
    "### Filter"
   ]
  },
  {
   "cell_type": "code",
   "execution_count": 23,
   "id": "6f68d4d8",
   "metadata": {},
   "outputs": [
    {
     "data": {
      "text/plain": [
       "[3, 4, 5, 6, 10, 11, 12, 10]"
      ]
     },
     "execution_count": 23,
     "metadata": {},
     "output_type": "execute_result"
    }
   ],
   "source": [
    "rdd1.filter(lambda x : x<=20).collect()"
   ]
  },
  {
   "cell_type": "markdown",
   "id": "7d123246",
   "metadata": {},
   "source": [
    "### Reduce"
   ]
  },
  {
   "cell_type": "code",
   "execution_count": 26,
   "id": "565a3be4",
   "metadata": {},
   "outputs": [
    {
     "data": {
      "text/plain": [
       "495"
      ]
     },
     "execution_count": 26,
     "metadata": {},
     "output_type": "execute_result"
    }
   ],
   "source": [
    "rdd1.reduce(lambda x,y : x+y)"
   ]
  },
  {
   "cell_type": "code",
   "execution_count": 30,
   "id": "9dfadff0",
   "metadata": {},
   "outputs": [],
   "source": [
    "# rdd1.saveAsTextFile('dataset/rdd1.txt')"
   ]
  },
  {
   "cell_type": "markdown",
   "id": "d6b49d24",
   "metadata": {},
   "source": [
    "### Map"
   ]
  },
  {
   "cell_type": "code",
   "execution_count": 31,
   "id": "f089eeac",
   "metadata": {},
   "outputs": [],
   "source": [
    "rdd2 = spark.sparkContext.parallelize([1, 2, 3, 4, 5])"
   ]
  },
  {
   "cell_type": "code",
   "execution_count": 32,
   "id": "592c0dae",
   "metadata": {},
   "outputs": [
    {
     "data": {
      "text/plain": [
       "ParallelCollectionRDD[33] at readRDDFromFile at PythonRDD.scala:274"
      ]
     },
     "execution_count": 32,
     "metadata": {},
     "output_type": "execute_result"
    }
   ],
   "source": [
    "rdd2"
   ]
  },
  {
   "cell_type": "code",
   "execution_count": 33,
   "id": "b68cae44",
   "metadata": {},
   "outputs": [
    {
     "data": {
      "text/plain": [
       "[1, 2, 3, 4, 5]"
      ]
     },
     "execution_count": 33,
     "metadata": {},
     "output_type": "execute_result"
    }
   ],
   "source": [
    "rdd2.collect()"
   ]
  },
  {
   "cell_type": "code",
   "execution_count": 34,
   "id": "a36f923d",
   "metadata": {},
   "outputs": [
    {
     "data": {
      "text/plain": [
       "[3, 6, 9, 12, 15]"
      ]
     },
     "execution_count": 34,
     "metadata": {},
     "output_type": "execute_result"
    }
   ],
   "source": [
    "rdd2.map(lambda x: x*3).collect()"
   ]
  },
  {
   "cell_type": "markdown",
   "id": "82efd48b",
   "metadata": {},
   "source": [
    "### Union"
   ]
  },
  {
   "cell_type": "code",
   "execution_count": 35,
   "id": "58247691",
   "metadata": {},
   "outputs": [],
   "source": [
    "rdd3 = spark.sparkContext.parallelize([2, 4, 5, 6, 7, 8, 9])"
   ]
  },
  {
   "cell_type": "code",
   "execution_count": 36,
   "id": "4b083aca",
   "metadata": {},
   "outputs": [
    {
     "data": {
      "text/plain": [
       "[2, 4, 5, 6, 7, 8, 9]"
      ]
     },
     "execution_count": 36,
     "metadata": {},
     "output_type": "execute_result"
    }
   ],
   "source": [
    "rdd3.collect()"
   ]
  },
  {
   "cell_type": "code",
   "execution_count": 37,
   "id": "ba2d25c0",
   "metadata": {},
   "outputs": [],
   "source": [
    "union1 = rdd3.filter(lambda x : x%2 == 0)\n",
    "union2 = rdd3.filter(lambda x : x%3 == 0)"
   ]
  },
  {
   "cell_type": "code",
   "execution_count": 38,
   "id": "c2f80b8b",
   "metadata": {},
   "outputs": [
    {
     "data": {
      "text/plain": [
       "[2, 4, 6, 8]"
      ]
     },
     "execution_count": 38,
     "metadata": {},
     "output_type": "execute_result"
    }
   ],
   "source": [
    "union1.collect()"
   ]
  },
  {
   "cell_type": "code",
   "execution_count": 39,
   "id": "280c82eb",
   "metadata": {},
   "outputs": [
    {
     "data": {
      "text/plain": [
       "[6, 9]"
      ]
     },
     "execution_count": 39,
     "metadata": {},
     "output_type": "execute_result"
    }
   ],
   "source": [
    "union2.collect()"
   ]
  },
  {
   "cell_type": "code",
   "execution_count": 40,
   "id": "9aa46f9a",
   "metadata": {},
   "outputs": [],
   "source": [
    "final_union = union1.union(union2)"
   ]
  },
  {
   "cell_type": "code",
   "execution_count": 41,
   "id": "09972102",
   "metadata": {},
   "outputs": [
    {
     "data": {
      "text/plain": [
       "[2, 4, 6, 8, 6, 9]"
      ]
     },
     "execution_count": 41,
     "metadata": {},
     "output_type": "execute_result"
    }
   ],
   "source": [
    "final_union.collect()"
   ]
  },
  {
   "cell_type": "markdown",
   "id": "e1739095",
   "metadata": {},
   "source": [
    "### Matrix"
   ]
  },
  {
   "cell_type": "code",
   "execution_count": 42,
   "id": "9e8c6d12",
   "metadata": {},
   "outputs": [],
   "source": [
    "from pyspark.mllib.linalg import Matrix, Matrices"
   ]
  },
  {
   "cell_type": "code",
   "execution_count": 43,
   "id": "2401d8ca",
   "metadata": {},
   "outputs": [],
   "source": [
    "data = [10, 20, 30, 40, 50, 60]"
   ]
  },
  {
   "cell_type": "code",
   "execution_count": 44,
   "id": "3076bf1a",
   "metadata": {},
   "outputs": [],
   "source": [
    "matrix = Matrices.dense(3, 2, data)"
   ]
  },
  {
   "cell_type": "code",
   "execution_count": 45,
   "id": "6d7641da",
   "metadata": {},
   "outputs": [
    {
     "data": {
      "text/plain": [
       "DenseMatrix(3, 2, [10.0, 20.0, 30.0, 40.0, 50.0, 60.0], False)"
      ]
     },
     "execution_count": 45,
     "metadata": {},
     "output_type": "execute_result"
    }
   ],
   "source": [
    "matrix"
   ]
  },
  {
   "cell_type": "code",
   "execution_count": 46,
   "id": "966bf785",
   "metadata": {},
   "outputs": [
    {
     "data": {
      "text/plain": [
       "pyspark.mllib.linalg.DenseMatrix"
      ]
     },
     "execution_count": 46,
     "metadata": {},
     "output_type": "execute_result"
    }
   ],
   "source": [
    "type(matrix)"
   ]
  },
  {
   "cell_type": "code",
   "execution_count": 47,
   "id": "154556fa",
   "metadata": {},
   "outputs": [
    {
     "data": {
      "text/plain": [
       "array([10., 20., 30., 40., 50., 60.])"
      ]
     },
     "execution_count": 47,
     "metadata": {},
     "output_type": "execute_result"
    }
   ],
   "source": [
    "matrix.values"
   ]
  },
  {
   "cell_type": "code",
   "execution_count": 48,
   "id": "29b96e60",
   "metadata": {},
   "outputs": [
    {
     "name": "stdout",
     "output_type": "stream",
     "text": [
      "DenseMatrix([[10., 40.],\n",
      "             [20., 50.],\n",
      "             [30., 60.]])\n"
     ]
    }
   ],
   "source": [
    "print(matrix)"
   ]
  },
  {
   "cell_type": "markdown",
   "id": "896d0696",
   "metadata": {},
   "source": [
    "### Flatmap\n",
    "\n",
    "It returns seperate value for each element in RDD"
   ]
  },
  {
   "cell_type": "code",
   "execution_count": 53,
   "id": "2365f023",
   "metadata": {},
   "outputs": [],
   "source": [
    "rdd4 = spark.sparkContext.parallelize(['Hey there', 'This is RDD Session in PySpark'])"
   ]
  },
  {
   "cell_type": "code",
   "execution_count": 54,
   "id": "80b80d95",
   "metadata": {},
   "outputs": [
    {
     "data": {
      "text/plain": [
       "ParallelCollectionRDD[41] at readRDDFromFile at PythonRDD.scala:274"
      ]
     },
     "execution_count": 54,
     "metadata": {},
     "output_type": "execute_result"
    }
   ],
   "source": [
    "rdd4"
   ]
  },
  {
   "cell_type": "code",
   "execution_count": 55,
   "id": "ae354a54",
   "metadata": {},
   "outputs": [
    {
     "data": {
      "text/plain": [
       "['Hey there', 'This is RDD Session in PySpark']"
      ]
     },
     "execution_count": 55,
     "metadata": {},
     "output_type": "execute_result"
    }
   ],
   "source": [
    "rdd4.collect()"
   ]
  },
  {
   "cell_type": "code",
   "execution_count": 56,
   "id": "dac880f9",
   "metadata": {},
   "outputs": [
    {
     "data": {
      "text/plain": [
       "['Hey', 'there', 'This', 'is', 'RDD', 'Session', 'in', 'PySpark']"
      ]
     },
     "execution_count": 56,
     "metadata": {},
     "output_type": "execute_result"
    }
   ],
   "source": [
    "rdd4.flatMap(lambda x : x.split(' ')).collect()"
   ]
  },
  {
   "cell_type": "markdown",
   "id": "1273a1e5",
   "metadata": {},
   "source": [
    "### ReduceByKey\n",
    "\n",
    "It performs multiple parallel process for each key in the data and combines the value for same key.\n",
    "\n",
    "It uses lambda to perfrom task."
   ]
  },
  {
   "cell_type": "code",
   "execution_count": 57,
   "id": "ef53def9",
   "metadata": {},
   "outputs": [],
   "source": [
    "marks = [('Punit', 55), ('Salam', 70), ('Dharmesh', 80), ('Rohan', 80), ('Mayuri', 55), ('Sumit', 90)]"
   ]
  },
  {
   "cell_type": "code",
   "execution_count": 58,
   "id": "c0fff435",
   "metadata": {},
   "outputs": [
    {
     "data": {
      "text/plain": [
       "[('Punit', 55),\n",
       " ('Salam', 70),\n",
       " ('Dharmesh', 80),\n",
       " ('Rohan', 80),\n",
       " ('Mayuri', 55),\n",
       " ('Sumit', 90)]"
      ]
     },
     "execution_count": 58,
     "metadata": {},
     "output_type": "execute_result"
    }
   ],
   "source": [
    "marks"
   ]
  },
  {
   "cell_type": "code",
   "execution_count": 61,
   "id": "1d4f8a08",
   "metadata": {},
   "outputs": [],
   "source": [
    "rdd5 = spark.sparkContext.parallelize(marks+marks)"
   ]
  },
  {
   "cell_type": "code",
   "execution_count": 62,
   "id": "65ff5c83",
   "metadata": {},
   "outputs": [
    {
     "data": {
      "text/plain": [
       "[('Punit', 55),\n",
       " ('Salam', 70),\n",
       " ('Dharmesh', 80),\n",
       " ('Rohan', 80),\n",
       " ('Mayuri', 55),\n",
       " ('Sumit', 90),\n",
       " ('Punit', 55),\n",
       " ('Salam', 70),\n",
       " ('Dharmesh', 80),\n",
       " ('Rohan', 80),\n",
       " ('Mayuri', 55),\n",
       " ('Sumit', 90)]"
      ]
     },
     "execution_count": 62,
     "metadata": {},
     "output_type": "execute_result"
    }
   ],
   "source": [
    "rdd5.collect()"
   ]
  },
  {
   "cell_type": "code",
   "execution_count": 63,
   "id": "2470d992",
   "metadata": {},
   "outputs": [
    {
     "data": {
      "text/plain": [
       "[('Rohan', 160),\n",
       " ('Punit', 110),\n",
       " ('Salam', 140),\n",
       " ('Dharmesh', 160),\n",
       " ('Mayuri', 110),\n",
       " ('Sumit', 180)]"
      ]
     },
     "execution_count": 63,
     "metadata": {},
     "output_type": "execute_result"
    }
   ],
   "source": [
    "rdd5.reduceByKey(lambda x,y :x+y).collect()"
   ]
  },
  {
   "cell_type": "markdown",
   "id": "597f6663",
   "metadata": {},
   "source": [
    "### SortByKey"
   ]
  },
  {
   "cell_type": "code",
   "execution_count": 64,
   "id": "bfa870a0",
   "metadata": {},
   "outputs": [
    {
     "data": {
      "text/plain": [
       "[('Dharmesh', 80),\n",
       " ('Dharmesh', 80),\n",
       " ('Mayuri', 55),\n",
       " ('Mayuri', 55),\n",
       " ('Punit', 55),\n",
       " ('Punit', 55),\n",
       " ('Rohan', 80),\n",
       " ('Rohan', 80),\n",
       " ('Salam', 70),\n",
       " ('Salam', 70),\n",
       " ('Sumit', 90),\n",
       " ('Sumit', 90)]"
      ]
     },
     "execution_count": 64,
     "metadata": {},
     "output_type": "execute_result"
    }
   ],
   "source": [
    "rdd5.sortByKey().collect()"
   ]
  },
  {
   "cell_type": "code",
   "execution_count": 65,
   "id": "ddd1b6d3",
   "metadata": {},
   "outputs": [
    {
     "data": {
      "text/plain": [
       "[('Sumit', 90),\n",
       " ('Sumit', 90),\n",
       " ('Salam', 70),\n",
       " ('Salam', 70),\n",
       " ('Rohan', 80),\n",
       " ('Rohan', 80),\n",
       " ('Punit', 55),\n",
       " ('Punit', 55),\n",
       " ('Mayuri', 55),\n",
       " ('Mayuri', 55),\n",
       " ('Dharmesh', 80),\n",
       " ('Dharmesh', 80)]"
      ]
     },
     "execution_count": 65,
     "metadata": {},
     "output_type": "execute_result"
    }
   ],
   "source": [
    "rdd5.sortByKey(ascending=False).collect()"
   ]
  },
  {
   "cell_type": "markdown",
   "id": "9a6d346e",
   "metadata": {},
   "source": [
    "### GroupByKey"
   ]
  },
  {
   "cell_type": "code",
   "execution_count": 66,
   "id": "a47ddbcf",
   "metadata": {},
   "outputs": [
    {
     "data": {
      "text/plain": [
       "[('Punit', 55),\n",
       " ('Salam', 70),\n",
       " ('Dharmesh', 80),\n",
       " ('Rohan', 80),\n",
       " ('Mayuri', 55),\n",
       " ('Sumit', 90),\n",
       " ('Punit', 55),\n",
       " ('Salam', 70),\n",
       " ('Dharmesh', 80),\n",
       " ('Rohan', 80),\n",
       " ('Mayuri', 55),\n",
       " ('Sumit', 90)]"
      ]
     },
     "execution_count": 66,
     "metadata": {},
     "output_type": "execute_result"
    }
   ],
   "source": [
    "rdd5.collect()"
   ]
  },
  {
   "cell_type": "code",
   "execution_count": 68,
   "id": "07e33f8b",
   "metadata": {},
   "outputs": [],
   "source": [
    "res = rdd5.groupByKey().collect()"
   ]
  },
  {
   "cell_type": "code",
   "execution_count": 70,
   "id": "f9c4f2af",
   "metadata": {},
   "outputs": [
    {
     "name": "stdout",
     "output_type": "stream",
     "text": [
      "Rohan [80, 80]\n",
      "Punit [55, 55]\n",
      "Salam [70, 70]\n",
      "Dharmesh [80, 80]\n",
      "Mayuri [55, 55]\n",
      "Sumit [90, 90]\n"
     ]
    }
   ],
   "source": [
    "for key,val in res:\n",
    "    print(key, list(val))"
   ]
  },
  {
   "cell_type": "markdown",
   "id": "94b71c83",
   "metadata": {},
   "source": [
    "### CountByKey"
   ]
  },
  {
   "cell_type": "code",
   "execution_count": 71,
   "id": "cd37cc55",
   "metadata": {},
   "outputs": [],
   "source": [
    "count = rdd5.countByKey().items()"
   ]
  },
  {
   "cell_type": "code",
   "execution_count": 72,
   "id": "a21fd963",
   "metadata": {},
   "outputs": [
    {
     "name": "stdout",
     "output_type": "stream",
     "text": [
      "Punit 2\n",
      "Salam 2\n",
      "Dharmesh 2\n",
      "Rohan 2\n",
      "Mayuri 2\n",
      "Sumit 2\n"
     ]
    }
   ],
   "source": [
    "for k,v in count:\n",
    "    print(k,v)"
   ]
  },
  {
   "cell_type": "markdown",
   "id": "6ac20cab",
   "metadata": {},
   "source": [
    "### Empty RDD"
   ]
  },
  {
   "cell_type": "code",
   "execution_count": 73,
   "id": "d99a8c48",
   "metadata": {},
   "outputs": [],
   "source": [
    "empty = spark.sparkContext.emptyRDD()"
   ]
  },
  {
   "cell_type": "code",
   "execution_count": 75,
   "id": "f1d61e27",
   "metadata": {},
   "outputs": [
    {
     "data": {
      "text/plain": [
       "[]"
      ]
     },
     "execution_count": 75,
     "metadata": {},
     "output_type": "execute_result"
    }
   ],
   "source": [
    "empty.collect()"
   ]
  },
  {
   "cell_type": "markdown",
   "id": "7a439d3e",
   "metadata": {},
   "source": [
    "### Aggregations"
   ]
  },
  {
   "cell_type": "code",
   "execution_count": 76,
   "id": "a7aedc44",
   "metadata": {},
   "outputs": [],
   "source": [
    "data = [6, 7, 8, 9, 98, 87, 66, 54, 33, 54]"
   ]
  },
  {
   "cell_type": "code",
   "execution_count": 77,
   "id": "9c23b426",
   "metadata": {},
   "outputs": [],
   "source": [
    "rdd6 = spark.sparkContext.parallelize(data, 5)"
   ]
  },
  {
   "cell_type": "code",
   "execution_count": 80,
   "id": "c2bc6bf9",
   "metadata": {},
   "outputs": [
    {
     "data": {
      "text/plain": [
       "5"
      ]
     },
     "execution_count": 80,
     "metadata": {},
     "output_type": "execute_result"
    }
   ],
   "source": [
    "rdd6.getNumPartitions()"
   ]
  },
  {
   "cell_type": "code",
   "execution_count": 81,
   "id": "25a87cda",
   "metadata": {},
   "outputs": [
    {
     "data": {
      "text/plain": [
       "6"
      ]
     },
     "execution_count": 81,
     "metadata": {},
     "output_type": "execute_result"
    }
   ],
   "source": [
    "rdd6.min()"
   ]
  },
  {
   "cell_type": "code",
   "execution_count": 82,
   "id": "c2aaf4cf",
   "metadata": {},
   "outputs": [
    {
     "data": {
      "text/plain": [
       "98"
      ]
     },
     "execution_count": 82,
     "metadata": {},
     "output_type": "execute_result"
    }
   ],
   "source": [
    "rdd6.max()"
   ]
  },
  {
   "cell_type": "code",
   "execution_count": 83,
   "id": "2614c480",
   "metadata": {},
   "outputs": [
    {
     "data": {
      "text/plain": [
       "422"
      ]
     },
     "execution_count": 83,
     "metadata": {},
     "output_type": "execute_result"
    }
   ],
   "source": [
    "rdd6.sum()"
   ]
  },
  {
   "cell_type": "code",
   "execution_count": 85,
   "id": "509e8e0f",
   "metadata": {},
   "outputs": [
    {
     "data": {
      "text/plain": [
       "[6, 7, 8, 9, 98, 87, 66, 54, 33, 54]"
      ]
     },
     "execution_count": 85,
     "metadata": {},
     "output_type": "execute_result"
    }
   ],
   "source": [
    "rdd6.collect()"
   ]
  },
  {
   "cell_type": "markdown",
   "id": "25cf9acc",
   "metadata": {},
   "source": [
    "### DataFrame"
   ]
  },
  {
   "cell_type": "code",
   "execution_count": 86,
   "id": "004a1beb",
   "metadata": {},
   "outputs": [
    {
     "data": {
      "text/plain": [
       "[('Punit', 55),\n",
       " ('Salam', 70),\n",
       " ('Dharmesh', 80),\n",
       " ('Rohan', 80),\n",
       " ('Mayuri', 55),\n",
       " ('Sumit', 90),\n",
       " ('Punit', 55),\n",
       " ('Salam', 70),\n",
       " ('Dharmesh', 80),\n",
       " ('Rohan', 80),\n",
       " ('Mayuri', 55),\n",
       " ('Sumit', 90)]"
      ]
     },
     "execution_count": 86,
     "metadata": {},
     "output_type": "execute_result"
    }
   ],
   "source": [
    "rdd5.collect()"
   ]
  },
  {
   "cell_type": "code",
   "execution_count": 87,
   "id": "52bce1fb",
   "metadata": {},
   "outputs": [],
   "source": [
    "cols_name = ['Name', 'Marks']"
   ]
  },
  {
   "cell_type": "code",
   "execution_count": 88,
   "id": "73332b8b",
   "metadata": {},
   "outputs": [],
   "source": [
    "marks_df = rdd5.toDF(cols_name)"
   ]
  },
  {
   "cell_type": "code",
   "execution_count": 89,
   "id": "15f40797",
   "metadata": {},
   "outputs": [
    {
     "name": "stdout",
     "output_type": "stream",
     "text": [
      "+--------+-----+\n",
      "|    Name|Marks|\n",
      "+--------+-----+\n",
      "|   Punit|   55|\n",
      "|   Salam|   70|\n",
      "|Dharmesh|   80|\n",
      "|   Rohan|   80|\n",
      "|  Mayuri|   55|\n",
      "|   Sumit|   90|\n",
      "|   Punit|   55|\n",
      "|   Salam|   70|\n",
      "|Dharmesh|   80|\n",
      "|   Rohan|   80|\n",
      "|  Mayuri|   55|\n",
      "|   Sumit|   90|\n",
      "+--------+-----+\n",
      "\n"
     ]
    }
   ],
   "source": [
    "marks_df.show()"
   ]
  },
  {
   "cell_type": "code",
   "execution_count": 90,
   "id": "bc9d63c3",
   "metadata": {},
   "outputs": [],
   "source": [
    "from pyspark.sql import Row"
   ]
  },
  {
   "cell_type": "code",
   "execution_count": 91,
   "id": "0b8a5096",
   "metadata": {},
   "outputs": [],
   "source": [
    "col = ['Data']"
   ]
  },
  {
   "cell_type": "code",
   "execution_count": 92,
   "id": "c78f2cd9",
   "metadata": {},
   "outputs": [],
   "source": [
    "row = Row('Data')"
   ]
  },
  {
   "cell_type": "code",
   "execution_count": 93,
   "id": "c1268c82",
   "metadata": {},
   "outputs": [],
   "source": [
    "res = rdd6.map(row).toDF()"
   ]
  },
  {
   "cell_type": "code",
   "execution_count": 94,
   "id": "927cdd95",
   "metadata": {},
   "outputs": [
    {
     "name": "stdout",
     "output_type": "stream",
     "text": [
      "+----+\n",
      "|Data|\n",
      "+----+\n",
      "|   6|\n",
      "|   7|\n",
      "|   8|\n",
      "|   9|\n",
      "|  98|\n",
      "|  87|\n",
      "|  66|\n",
      "|  54|\n",
      "|  33|\n",
      "|  54|\n",
      "+----+\n",
      "\n"
     ]
    }
   ],
   "source": [
    "res.show()"
   ]
  }
 ],
 "metadata": {
  "kernelspec": {
   "display_name": "Python 3 (ipykernel)",
   "language": "python",
   "name": "python3"
  },
  "language_info": {
   "codemirror_mode": {
    "name": "ipython",
    "version": 3
   },
   "file_extension": ".py",
   "mimetype": "text/x-python",
   "name": "python",
   "nbconvert_exporter": "python",
   "pygments_lexer": "ipython3",
   "version": "3.7.9"
  }
 },
 "nbformat": 4,
 "nbformat_minor": 5
}
