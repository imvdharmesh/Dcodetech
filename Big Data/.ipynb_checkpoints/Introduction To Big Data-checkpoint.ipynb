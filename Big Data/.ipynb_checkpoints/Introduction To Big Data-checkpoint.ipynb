{
 "cells": [
  {
   "cell_type": "markdown",
   "id": "8c81c9db",
   "metadata": {},
   "source": [
    "# Introduction To Big Data"
   ]
  },
  {
   "cell_type": "markdown",
   "id": "9dc23591",
   "metadata": {},
   "source": [
    "Big Data is a term that describes the large volume of data.\n",
    "\n",
    "Big Data is Data whose scale, distribution, diversity and timeliness requires the use of new technical architecture and analytics to enable insight that unlock new source or business values."
   ]
  },
  {
   "cell_type": "markdown",
   "id": "e14bb37f",
   "metadata": {},
   "source": [
    "## Characteristic of Big Data\n",
    "\n",
    "1) Volume : Scale of data.\n",
    "\n",
    "2) Velocity : Speed of data.\n",
    "\n",
    "3) Variety : different forms of data\n",
    "\n",
    "4) Veracity : uncertainty\n",
    "\n",
    "5) Value: \n",
    "\n",
    "**Volume :** 2.5 Quitillion.\n",
    "\n",
    "**Variety :**\n",
    "\n",
    "1) Structured : Database (MySQL, Oracle, Postgres, AWS Dynamo, Mongo), Spreadsheet.\n",
    "\n",
    "2) Semi Structured: CSV, XML, Text File, JSON, Web pages.\n",
    "\n",
    "3) Un Structured: Images, Videos, Multi media\n",
    "\n",
    "**Velocity :** 900 Million photos on facebook, 600 Million tweets on twitter.\n",
    "\n",
    "**Veracity :** Uncertainity of data. ie poor quality data, unclean data."
   ]
  },
  {
   "cell_type": "markdown",
   "id": "3fc79434",
   "metadata": {},
   "source": [
    "### Storing Big Data\n",
    "\n",
    "NoSQL => Mongo DB\n",
    "\n",
    "Graph => Graph DB\n",
    "\n",
    "Hadoop File System => hadoop\n",
    "\n",
    "HBase\n",
    "\n",
    "Hive"
   ]
  },
  {
   "cell_type": "markdown",
   "id": "92f39262",
   "metadata": {},
   "source": [
    "## Big Data Architecture\n",
    "\n",
    "<img src='https://cdn.educba.com/academy/wp-content/uploads/2019/09/Big-Data-Architecutre.png' />"
   ]
  },
  {
   "cell_type": "markdown",
   "id": "5f53fdfa",
   "metadata": {},
   "source": [
    "## How Big Data Analytics work\n",
    "\n",
    "### 1) Storage :\n",
    "\n",
    "To process huge amount of data we 1st need to store it.\n",
    "\n",
    "**Tools :** Red Shift, Glue, Quick Sight, EMR\n",
    "\n",
    "### 2) Process :\n",
    "\n",
    "To process huge amount of data which traditional system are not capable of processing.\n",
    "\n",
    "**Tools :** Lake Foramtion, AWS Snowflake"
   ]
  }
 ],
 "metadata": {
  "kernelspec": {
   "display_name": "Python 3 (ipykernel)",
   "language": "python",
   "name": "python3"
  },
  "language_info": {
   "codemirror_mode": {
    "name": "ipython",
    "version": 3
   },
   "file_extension": ".py",
   "mimetype": "text/x-python",
   "name": "python",
   "nbconvert_exporter": "python",
   "pygments_lexer": "ipython3",
   "version": "3.7.9"
  }
 },
 "nbformat": 4,
 "nbformat_minor": 5
}
