{
 "cells": [
  {
   "cell_type": "markdown",
   "id": "8c81c9db",
   "metadata": {},
   "source": [
    "# Introduction To Big Data"
   ]
  },
  {
   "cell_type": "markdown",
   "id": "9dc23591",
   "metadata": {},
   "source": [
    "Big Data is Data whose scale, distribution, diversity and timeliness requires the use of new technical architecture and analytics to enable insight that unlock new source or business values."
   ]
  },
  {
   "cell_type": "markdown",
   "id": "e14bb37f",
   "metadata": {},
   "source": [
    "## Characteristic of Big Data\n",
    "\n",
    "1) Volume : Scale\n",
    "\n",
    "2) Velocity : streaming\n",
    "\n",
    "3) Variety : different forms\n",
    "\n",
    "4) Veracity : uncertainty\n",
    "\n",
    "5) Value\n",
    "\n",
    "**Variety :**\n",
    "\n",
    "1) Structured : Database (MySQL, Oracle, Postgres, AWS Dynamo, Mongo), Spreadsheet.\n",
    "\n",
    "2) Semi Structured: XML, Text File, JSON, Web pages.\n",
    "\n",
    "3) Un Structured: Images, Videos, Multi media"
   ]
  },
  {
   "cell_type": "markdown",
   "id": "3fc79434",
   "metadata": {},
   "source": [
    "### Storing Big Data\n",
    "\n",
    "NoSQL => Mongo DB\n",
    "\n",
    "Graph => Graph DB\n",
    "\n",
    "Hadoop File System => hadoop\n",
    "\n",
    "HBase\n",
    "\n",
    "Hive"
   ]
  },
  {
   "cell_type": "markdown",
   "id": "92f39262",
   "metadata": {},
   "source": [
    "## Big Data Architecture\n",
    "\n",
    "<img src='https://cdn.educba.com/academy/wp-content/uploads/2019/09/Big-Data-Architecutre.png' />"
   ]
  },
  {
   "cell_type": "markdown",
   "id": "5f53fdfa",
   "metadata": {},
   "source": [
    "## How Big Data Analytics work\n",
    "\n",
    "**1) Storage -->** Red Shift, Glue, Quick Sight, EMR\n",
    "\n",
    "**2) Processing -->** Lake Foramtion, AWS Snowflake"
   ]
  }
 ],
 "metadata": {
  "kernelspec": {
   "display_name": "Python 3",
   "language": "python",
   "name": "python3"
  },
  "language_info": {
   "codemirror_mode": {
    "name": "ipython",
    "version": 3
   },
   "file_extension": ".py",
   "mimetype": "text/x-python",
   "name": "python",
   "nbconvert_exporter": "python",
   "pygments_lexer": "ipython3",
   "version": "3.8.8"
  }
 },
 "nbformat": 4,
 "nbformat_minor": 5
}
