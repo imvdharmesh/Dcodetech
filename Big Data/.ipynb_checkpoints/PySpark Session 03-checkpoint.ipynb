{
 "cells": [
  {
   "cell_type": "markdown",
   "id": "cdb5d326",
   "metadata": {},
   "source": [
    "# Machine Learning\n",
    "\n",
    "MLlib is Spark’s machine learning (ML) library. Its goal is to make practical machine learning scalable and easy.\n",
    "\n",
    "At a high level, it provides tools such as:\n",
    "\n",
    "**ML Algorithms:** Common learning algorithms such as classification, regression, clustering, and collaborative filtering.\n",
    "\n",
    "**Featurization:** Feature extraction, transformation, dimensionality reduction, and selection.\n",
    "\n",
    "**Pipelines:** Tools for constructing, evaluating, and tuning ML Pipelines.\n",
    "\n",
    "**Persistence:** Saving and load algorithms, models, and Pipelines.\n",
    "\n",
    "**Utilities:** Linear algebra, statistics, data handling, etc."
   ]
  },
  {
   "cell_type": "code",
   "execution_count": 1,
   "id": "352e953d",
   "metadata": {},
   "outputs": [],
   "source": [
    "import pyspark"
   ]
  },
  {
   "cell_type": "code",
   "execution_count": 2,
   "id": "34c8a35c",
   "metadata": {},
   "outputs": [],
   "source": [
    "import findspark"
   ]
  },
  {
   "cell_type": "code",
   "execution_count": 3,
   "id": "341650e4",
   "metadata": {},
   "outputs": [],
   "source": [
    "findspark.init()"
   ]
  },
  {
   "cell_type": "code",
   "execution_count": 4,
   "id": "ca1c1d3e",
   "metadata": {},
   "outputs": [],
   "source": [
    "from pyspark.sql import SparkSession"
   ]
  },
  {
   "cell_type": "code",
   "execution_count": 5,
   "id": "834e3bea",
   "metadata": {},
   "outputs": [],
   "source": [
    "spark = SparkSession.builder.appName('Session 3').getOrCreate()"
   ]
  },
  {
   "cell_type": "code",
   "execution_count": 6,
   "id": "c2038d8f",
   "metadata": {},
   "outputs": [
    {
     "data": {
      "text/html": [
       "\n",
       "            <div>\n",
       "                <p><b>SparkSession - in-memory</b></p>\n",
       "                \n",
       "        <div>\n",
       "            <p><b>SparkContext</b></p>\n",
       "\n",
       "            <p><a href=\"http://bookmarks.com:4040\">Spark UI</a></p>\n",
       "\n",
       "            <dl>\n",
       "              <dt>Version</dt>\n",
       "                <dd><code>v3.2.1</code></dd>\n",
       "              <dt>Master</dt>\n",
       "                <dd><code>local[*]</code></dd>\n",
       "              <dt>AppName</dt>\n",
       "                <dd><code>Session 3</code></dd>\n",
       "            </dl>\n",
       "        </div>\n",
       "        \n",
       "            </div>\n",
       "        "
      ],
      "text/plain": [
       "<pyspark.sql.session.SparkSession at 0x2d09807248>"
      ]
     },
     "execution_count": 6,
     "metadata": {},
     "output_type": "execute_result"
    }
   ],
   "source": [
    "spark"
   ]
  },
  {
   "cell_type": "code",
   "execution_count": 8,
   "id": "4356b62c",
   "metadata": {},
   "outputs": [],
   "source": [
    "df = spark.read.csv('dataset/test1.csv', header=True, inferSchema=True)"
   ]
  },
  {
   "cell_type": "code",
   "execution_count": 9,
   "id": "9df6a2d7",
   "metadata": {},
   "outputs": [
    {
     "name": "stdout",
     "output_type": "stream",
     "text": [
      "+---------+---+----------+------+\n",
      "|     Name|age|Experience|Salary|\n",
      "+---------+---+----------+------+\n",
      "|    Krish| 31|        10| 30000|\n",
      "|Sudhanshu| 30|         8| 25000|\n",
      "|    Sunny| 29|         4| 20000|\n",
      "|     Paul| 24|         3| 20000|\n",
      "|   Harsha| 21|         1| 15000|\n",
      "|  Shubham| 23|         2| 18000|\n",
      "+---------+---+----------+------+\n",
      "\n"
     ]
    }
   ],
   "source": [
    "df.show()"
   ]
  },
  {
   "cell_type": "code",
   "execution_count": 10,
   "id": "a01e121b",
   "metadata": {},
   "outputs": [
    {
     "name": "stdout",
     "output_type": "stream",
     "text": [
      "root\n",
      " |-- Name: string (nullable = true)\n",
      " |-- age: integer (nullable = true)\n",
      " |-- Experience: integer (nullable = true)\n",
      " |-- Salary: integer (nullable = true)\n",
      "\n"
     ]
    }
   ],
   "source": [
    "df.printSchema()"
   ]
  },
  {
   "cell_type": "code",
   "execution_count": 11,
   "id": "63e5aa74",
   "metadata": {},
   "outputs": [],
   "source": [
    "from pyspark.ml.feature import VectorAssembler"
   ]
  },
  {
   "cell_type": "code",
   "execution_count": 12,
   "id": "57a7a339",
   "metadata": {},
   "outputs": [],
   "source": [
    "assembler = VectorAssembler(inputCols=['age', 'Experience'], outputCol='Independent Feature')"
   ]
  },
  {
   "cell_type": "code",
   "execution_count": 13,
   "id": "8496b794",
   "metadata": {},
   "outputs": [],
   "source": [
    "assembler_df = assembler.transform(df)"
   ]
  },
  {
   "cell_type": "code",
   "execution_count": 14,
   "id": "625fa40b",
   "metadata": {},
   "outputs": [
    {
     "name": "stdout",
     "output_type": "stream",
     "text": [
      "+---------+---+----------+------+-------------------+\n",
      "|     Name|age|Experience|Salary|Independent Feature|\n",
      "+---------+---+----------+------+-------------------+\n",
      "|    Krish| 31|        10| 30000|        [31.0,10.0]|\n",
      "|Sudhanshu| 30|         8| 25000|         [30.0,8.0]|\n",
      "|    Sunny| 29|         4| 20000|         [29.0,4.0]|\n",
      "|     Paul| 24|         3| 20000|         [24.0,3.0]|\n",
      "|   Harsha| 21|         1| 15000|         [21.0,1.0]|\n",
      "|  Shubham| 23|         2| 18000|         [23.0,2.0]|\n",
      "+---------+---+----------+------+-------------------+\n",
      "\n"
     ]
    }
   ],
   "source": [
    "assembler_df.show()"
   ]
  },
  {
   "cell_type": "code",
   "execution_count": 15,
   "id": "9d03283f",
   "metadata": {},
   "outputs": [
    {
     "name": "stdout",
     "output_type": "stream",
     "text": [
      "root\n",
      " |-- Name: string (nullable = true)\n",
      " |-- age: integer (nullable = true)\n",
      " |-- Experience: integer (nullable = true)\n",
      " |-- Salary: integer (nullable = true)\n",
      " |-- Independent Feature: vector (nullable = true)\n",
      "\n"
     ]
    }
   ],
   "source": [
    "assembler_df.printSchema()"
   ]
  },
  {
   "cell_type": "code",
   "execution_count": 16,
   "id": "c4e1b204",
   "metadata": {},
   "outputs": [],
   "source": [
    "final_df = assembler_df.select(['Independent Feature', 'Salary'])"
   ]
  },
  {
   "cell_type": "code",
   "execution_count": 17,
   "id": "94b2041a",
   "metadata": {},
   "outputs": [
    {
     "name": "stdout",
     "output_type": "stream",
     "text": [
      "+-------------------+------+\n",
      "|Independent Feature|Salary|\n",
      "+-------------------+------+\n",
      "|        [31.0,10.0]| 30000|\n",
      "|         [30.0,8.0]| 25000|\n",
      "|         [29.0,4.0]| 20000|\n",
      "|         [24.0,3.0]| 20000|\n",
      "|         [21.0,1.0]| 15000|\n",
      "|         [23.0,2.0]| 18000|\n",
      "+-------------------+------+\n",
      "\n"
     ]
    }
   ],
   "source": [
    "final_df.show()"
   ]
  },
  {
   "cell_type": "code",
   "execution_count": 56,
   "id": "1ceb5655",
   "metadata": {},
   "outputs": [],
   "source": [
    "train_df, test_df = final_df.randomSplit([0.70, 0.30])"
   ]
  },
  {
   "cell_type": "code",
   "execution_count": 57,
   "id": "b925ba96",
   "metadata": {},
   "outputs": [
    {
     "name": "stdout",
     "output_type": "stream",
     "text": [
      "+-------------------+------+\n",
      "|Independent Feature|Salary|\n",
      "+-------------------+------+\n",
      "|         [21.0,1.0]| 15000|\n",
      "|         [23.0,2.0]| 18000|\n",
      "|         [24.0,3.0]| 20000|\n",
      "|         [29.0,4.0]| 20000|\n",
      "|         [30.0,8.0]| 25000|\n",
      "+-------------------+------+\n",
      "\n"
     ]
    }
   ],
   "source": [
    "train_df.show()"
   ]
  },
  {
   "cell_type": "code",
   "execution_count": 58,
   "id": "1b26116e",
   "metadata": {},
   "outputs": [
    {
     "name": "stdout",
     "output_type": "stream",
     "text": [
      "+-------------------+------+\n",
      "|Independent Feature|Salary|\n",
      "+-------------------+------+\n",
      "|        [31.0,10.0]| 30000|\n",
      "+-------------------+------+\n",
      "\n"
     ]
    }
   ],
   "source": [
    "test_df.show()"
   ]
  },
  {
   "cell_type": "code",
   "execution_count": 59,
   "id": "d0018f39",
   "metadata": {},
   "outputs": [],
   "source": [
    "from pyspark.ml.regression import LinearRegression"
   ]
  },
  {
   "cell_type": "code",
   "execution_count": 60,
   "id": "be205463",
   "metadata": {},
   "outputs": [],
   "source": [
    "model = LinearRegression(featuresCol='Independent Feature', labelCol='Salary')\n",
    "model = model.fit(train_df)"
   ]
  },
  {
   "cell_type": "code",
   "execution_count": 61,
   "id": "741adfb2",
   "metadata": {},
   "outputs": [
    {
     "data": {
      "text/plain": [
       "DenseVector([28.4757, 1271.3568])"
      ]
     },
     "execution_count": 61,
     "metadata": {},
     "output_type": "execute_result"
    }
   ],
   "source": [
    "model.coefficients"
   ]
  },
  {
   "cell_type": "code",
   "execution_count": 62,
   "id": "68acaf81",
   "metadata": {},
   "outputs": [
    {
     "data": {
      "text/plain": [
       "14299.832495812996"
      ]
     },
     "execution_count": 62,
     "metadata": {},
     "output_type": "execute_result"
    }
   ],
   "source": [
    "model.intercept"
   ]
  },
  {
   "cell_type": "code",
   "execution_count": 63,
   "id": "b2340b66",
   "metadata": {},
   "outputs": [],
   "source": [
    "result = model.evaluate(test_df)"
   ]
  },
  {
   "cell_type": "code",
   "execution_count": 64,
   "id": "43219ebe",
   "metadata": {},
   "outputs": [
    {
     "name": "stderr",
     "output_type": "stream",
     "text": [
      "f:\\dcodetech\\pgp\\lib\\site-packages\\pyspark\\sql\\context.py:127: FutureWarning: Deprecated in 3.0.0. Use SparkSession.builder.getOrCreate() instead.\n",
      "  FutureWarning\n"
     ]
    },
    {
     "name": "stdout",
     "output_type": "stream",
     "text": [
      "+-------------------+------+------------------+\n",
      "|Independent Feature|Salary|        prediction|\n",
      "+-------------------+------+------------------+\n",
      "|        [31.0,10.0]| 30000|27896.147403685147|\n",
      "+-------------------+------+------------------+\n",
      "\n"
     ]
    }
   ],
   "source": [
    "result.predictions.show()"
   ]
  },
  {
   "cell_type": "code",
   "execution_count": 65,
   "id": "7c8208ce",
   "metadata": {},
   "outputs": [
    {
     "data": {
      "text/plain": [
       "4426195.747020748"
      ]
     },
     "execution_count": 65,
     "metadata": {},
     "output_type": "execute_result"
    }
   ],
   "source": [
    "result.meanSquaredError"
   ]
  },
  {
   "cell_type": "code",
   "execution_count": 66,
   "id": "259470b4",
   "metadata": {},
   "outputs": [
    {
     "data": {
      "text/plain": [
       "2103.852596314853"
      ]
     },
     "execution_count": 66,
     "metadata": {},
     "output_type": "execute_result"
    }
   ],
   "source": [
    "result.meanAbsoluteError"
   ]
  },
  {
   "cell_type": "code",
   "execution_count": 67,
   "id": "ddd31a8f",
   "metadata": {},
   "outputs": [
    {
     "data": {
      "text/plain": [
       "2103.852596314853"
      ]
     },
     "execution_count": 67,
     "metadata": {},
     "output_type": "execute_result"
    }
   ],
   "source": [
    "result.rootMeanSquaredError"
   ]
  },
  {
   "cell_type": "code",
   "execution_count": 69,
   "id": "7780d972",
   "metadata": {},
   "outputs": [
    {
     "name": "stderr",
     "output_type": "stream",
     "text": [
      "f:\\dcodetech\\pgp\\lib\\site-packages\\pyspark\\sql\\context.py:127: FutureWarning: Deprecated in 3.0.0. Use SparkSession.builder.getOrCreate() instead.\n",
      "  FutureWarning\n"
     ]
    },
    {
     "name": "stdout",
     "output_type": "stream",
     "text": [
      "+-------------------+------+------------------+\n",
      "|Independent Feature|Salary|        prediction|\n",
      "+-------------------+------+------------------+\n",
      "|         [21.0,1.0]| 15000|16169.179229480775|\n",
      "|         [23.0,2.0]| 18000|17497.487437185944|\n",
      "|         [24.0,3.0]| 20000|18797.319932998347|\n",
      "|         [29.0,4.0]| 20000| 20211.05527638182|\n",
      "|         [30.0,8.0]| 25000|25324.958123953118|\n",
      "+-------------------+------+------------------+\n",
      "\n"
     ]
    }
   ],
   "source": [
    "model.evaluate(train_df).predictions.show()"
   ]
  }
 ],
 "metadata": {
  "kernelspec": {
   "display_name": "Python 3 (ipykernel)",
   "language": "python",
   "name": "python3"
  },
  "language_info": {
   "codemirror_mode": {
    "name": "ipython",
    "version": 3
   },
   "file_extension": ".py",
   "mimetype": "text/x-python",
   "name": "python",
   "nbconvert_exporter": "python",
   "pygments_lexer": "ipython3",
   "version": "3.7.9"
  }
 },
 "nbformat": 4,
 "nbformat_minor": 5
}
