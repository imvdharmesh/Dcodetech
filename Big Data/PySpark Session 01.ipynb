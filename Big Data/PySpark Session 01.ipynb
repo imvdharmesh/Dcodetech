{
 "cells": [
  {
   "cell_type": "markdown",
   "id": "421fee9f",
   "metadata": {},
   "source": [
    "# Introduction To PySpark\n",
    "\n",
    "PySpark is an interface for Apache Spark in Python.\n",
    "\n",
    "It not only allows you to write Spark applications using Python APIs, but also provides the PySpark shell for interactively analyzing your data in a distributed environment.\n",
    "\n",
    "PySpark supports most of Spark’s features such as Spark SQL, DataFrame, Streaming, MLlib (Machine Learning) and Spark Core."
   ]
  },
  {
   "cell_type": "markdown",
   "id": "afa35eb0",
   "metadata": {},
   "source": [
    "<img src=\"https://spark.apache.org/docs/latest/api/python/_images/pyspark-components.png\" />"
   ]
  },
  {
   "cell_type": "markdown",
   "id": "f55f4aa2",
   "metadata": {},
   "source": [
    "## Spark SQL and DataFrame\n",
    "\n",
    "Spark SQL is a Spark module for structured data processing. It provides a programming abstraction called DataFrame and can also act as distributed SQL query engine.\n",
    "\n",
    "### pandas API on Spark\n",
    "\n",
    "pandas API on Spark allows you to scale your pandas workload out. With this package, you can:\n",
    "\n",
    "Be immediately productive with Spark, with no learning curve, if you are already familiar with pandas.\n",
    "\n",
    "Have a single codebase that works both with pandas (tests, smaller datasets) and with Spark (distributed datasets).\n",
    "\n",
    "Switch to pandas API and PySpark API contexts easily without any overhead.\n",
    "\n",
    "## Streaming\n",
    "\n",
    "Running on top of Spark, the streaming feature in Apache Spark enables powerful interactive and analytical applications across both streaming and historical data, while inheriting Spark’s ease of use and fault tolerance characteristics.\n",
    "\n",
    "## MLlib\n",
    "\n",
    "Built on top of Spark, MLlib is a scalable machine learning library that provides a uniform set of high-level APIs that help users create and tune practical machine learning pipelines.\n",
    "\n",
    "## Spark Core\n",
    "\n",
    "Spark Core is the underlying general execution engine for the Spark platform that all other functionality is built on top of. It provides an RDD (Resilient Distributed Dataset) and in-memory computing capabilities"
   ]
  },
  {
   "cell_type": "markdown",
   "id": "01a733c2",
   "metadata": {},
   "source": [
    "### Installation"
   ]
  },
  {
   "cell_type": "code",
   "execution_count": 1,
   "id": "7cfb33f1",
   "metadata": {},
   "outputs": [],
   "source": [
    "# !pip install pyspark"
   ]
  },
  {
   "cell_type": "code",
   "execution_count": 2,
   "id": "123c6a38",
   "metadata": {},
   "outputs": [],
   "source": [
    "import pyspark"
   ]
  },
  {
   "cell_type": "code",
   "execution_count": 3,
   "id": "1493978e",
   "metadata": {},
   "outputs": [],
   "source": [
    "import findspark"
   ]
  },
  {
   "cell_type": "code",
   "execution_count": 4,
   "id": "04810f8f",
   "metadata": {},
   "outputs": [],
   "source": [
    "from pyspark.sql import SparkSession"
   ]
  },
  {
   "cell_type": "code",
   "execution_count": 5,
   "id": "d14acef8",
   "metadata": {},
   "outputs": [
    {
     "data": {
      "text/plain": [
       "'f:\\\\dcodetech\\\\pgp\\\\lib\\\\site-packages\\\\pyspark'"
      ]
     },
     "execution_count": 5,
     "metadata": {},
     "output_type": "execute_result"
    }
   ],
   "source": [
    "findspark.init()\n",
    "findspark.find()"
   ]
  },
  {
   "cell_type": "markdown",
   "id": "ad484042",
   "metadata": {},
   "source": [
    "### Creating Spark Session"
   ]
  },
  {
   "cell_type": "code",
   "execution_count": 6,
   "id": "80c6dbfd",
   "metadata": {},
   "outputs": [],
   "source": [
    "spark = SparkSession.builder.appName('Session 01').getOrCreate()"
   ]
  },
  {
   "cell_type": "code",
   "execution_count": 7,
   "id": "b9801b51",
   "metadata": {},
   "outputs": [
    {
     "data": {
      "text/html": [
       "\n",
       "            <div>\n",
       "                <p><b>SparkSession - in-memory</b></p>\n",
       "                \n",
       "        <div>\n",
       "            <p><b>SparkContext</b></p>\n",
       "\n",
       "            <p><a href=\"http://bookmarks.com:4040\">Spark UI</a></p>\n",
       "\n",
       "            <dl>\n",
       "              <dt>Version</dt>\n",
       "                <dd><code>v3.2.1</code></dd>\n",
       "              <dt>Master</dt>\n",
       "                <dd><code>local[*]</code></dd>\n",
       "              <dt>AppName</dt>\n",
       "                <dd><code>Session 01</code></dd>\n",
       "            </dl>\n",
       "        </div>\n",
       "        \n",
       "            </div>\n",
       "        "
      ],
      "text/plain": [
       "<pyspark.sql.session.SparkSession at 0xd645117288>"
      ]
     },
     "execution_count": 7,
     "metadata": {},
     "output_type": "execute_result"
    }
   ],
   "source": [
    "spark"
   ]
  },
  {
   "cell_type": "markdown",
   "id": "43c90f27",
   "metadata": {},
   "source": [
    "## Read Data From PySpark"
   ]
  },
  {
   "cell_type": "code",
   "execution_count": 8,
   "id": "a2d420c7",
   "metadata": {},
   "outputs": [
    {
     "name": "stdout",
     "output_type": "stream",
     "text": [
      "+---------+---+----------+------+\n",
      "|      _c0|_c1|       _c2|   _c3|\n",
      "+---------+---+----------+------+\n",
      "|     Name|age|Experience|Salary|\n",
      "|    Krish| 31|        10| 30000|\n",
      "|Sudhanshu| 30|         8| 25000|\n",
      "|    Sunny| 29|         4| 20000|\n",
      "|     Paul| 24|         3| 20000|\n",
      "|   Harsha| 21|         1| 15000|\n",
      "|  Shubham| 23|         2| 18000|\n",
      "+---------+---+----------+------+\n",
      "\n"
     ]
    }
   ],
   "source": [
    "df = spark.read.csv('dataset/test1.csv')\n",
    "df.show()"
   ]
  },
  {
   "cell_type": "markdown",
   "id": "315527a1",
   "metadata": {},
   "source": [
    "### Using Header"
   ]
  },
  {
   "cell_type": "code",
   "execution_count": 9,
   "id": "9908642a",
   "metadata": {},
   "outputs": [
    {
     "name": "stdout",
     "output_type": "stream",
     "text": [
      "+---------+---+----------+------+\n",
      "|     Name|age|Experience|Salary|\n",
      "+---------+---+----------+------+\n",
      "|    Krish| 31|        10| 30000|\n",
      "|Sudhanshu| 30|         8| 25000|\n",
      "|    Sunny| 29|         4| 20000|\n",
      "|     Paul| 24|         3| 20000|\n",
      "|   Harsha| 21|         1| 15000|\n",
      "|  Shubham| 23|         2| 18000|\n",
      "+---------+---+----------+------+\n",
      "\n"
     ]
    }
   ],
   "source": [
    "df = spark.read.csv('dataset/test1.csv', header=True)\n",
    "df.show()"
   ]
  },
  {
   "cell_type": "code",
   "execution_count": 10,
   "id": "67295432",
   "metadata": {},
   "outputs": [
    {
     "name": "stdout",
     "output_type": "stream",
     "text": [
      "root\n",
      " |-- Name: string (nullable = true)\n",
      " |-- age: string (nullable = true)\n",
      " |-- Experience: string (nullable = true)\n",
      " |-- Salary: string (nullable = true)\n",
      "\n"
     ]
    }
   ],
   "source": [
    "df.printSchema()"
   ]
  },
  {
   "cell_type": "markdown",
   "id": "1a6546be",
   "metadata": {},
   "source": [
    "### Using inferSchema"
   ]
  },
  {
   "cell_type": "code",
   "execution_count": 11,
   "id": "db252a4d",
   "metadata": {},
   "outputs": [
    {
     "name": "stdout",
     "output_type": "stream",
     "text": [
      "+---------+---+----------+------+\n",
      "|     Name|age|Experience|Salary|\n",
      "+---------+---+----------+------+\n",
      "|    Krish| 31|        10| 30000|\n",
      "|Sudhanshu| 30|         8| 25000|\n",
      "|    Sunny| 29|         4| 20000|\n",
      "|     Paul| 24|         3| 20000|\n",
      "|   Harsha| 21|         1| 15000|\n",
      "|  Shubham| 23|         2| 18000|\n",
      "+---------+---+----------+------+\n",
      "\n"
     ]
    }
   ],
   "source": [
    "df = spark.read.csv('dataset/test1.csv', header=True, inferSchema=True)\n",
    "df.show()"
   ]
  },
  {
   "cell_type": "code",
   "execution_count": 12,
   "id": "c7414ee9",
   "metadata": {},
   "outputs": [
    {
     "name": "stdout",
     "output_type": "stream",
     "text": [
      "root\n",
      " |-- Name: string (nullable = true)\n",
      " |-- age: integer (nullable = true)\n",
      " |-- Experience: integer (nullable = true)\n",
      " |-- Salary: integer (nullable = true)\n",
      "\n"
     ]
    }
   ],
   "source": [
    "df.printSchema()"
   ]
  },
  {
   "cell_type": "code",
   "execution_count": 13,
   "id": "0ca4ccb4",
   "metadata": {},
   "outputs": [
    {
     "data": {
      "text/plain": [
       "pyspark.sql.dataframe.DataFrame"
      ]
     },
     "execution_count": 13,
     "metadata": {},
     "output_type": "execute_result"
    }
   ],
   "source": [
    "type(df)"
   ]
  },
  {
   "cell_type": "code",
   "execution_count": 14,
   "id": "f25aff7f",
   "metadata": {},
   "outputs": [
    {
     "data": {
      "text/plain": [
       "DataFrame[Name: string, age: int, Experience: int, Salary: int]"
      ]
     },
     "execution_count": 14,
     "metadata": {},
     "output_type": "execute_result"
    }
   ],
   "source": [
    "df"
   ]
  },
  {
   "cell_type": "code",
   "execution_count": 15,
   "id": "c0183e7c",
   "metadata": {},
   "outputs": [
    {
     "data": {
      "text/plain": [
       "Row(Name='Krish', age=31, Experience=10, Salary=30000)"
      ]
     },
     "execution_count": 15,
     "metadata": {},
     "output_type": "execute_result"
    }
   ],
   "source": [
    "df.head()"
   ]
  },
  {
   "cell_type": "code",
   "execution_count": 17,
   "id": "79dd2b02",
   "metadata": {},
   "outputs": [
    {
     "data": {
      "text/plain": [
       "[Row(Name='Harsha', age=21, Experience=1, Salary=15000),\n",
       " Row(Name='Shubham', age=23, Experience=2, Salary=18000)]"
      ]
     },
     "execution_count": 17,
     "metadata": {},
     "output_type": "execute_result"
    }
   ],
   "source": [
    "df.tail(2)"
   ]
  },
  {
   "cell_type": "code",
   "execution_count": 18,
   "id": "8dbc52cc",
   "metadata": {
    "scrolled": true
   },
   "outputs": [
    {
     "name": "stdout",
     "output_type": "stream",
     "text": [
      "+---------+---+----------+------+\n",
      "|     Name|age|Experience|Salary|\n",
      "+---------+---+----------+------+\n",
      "|    Krish| 31|        10| 30000|\n",
      "|Sudhanshu| 30|         8| 25000|\n",
      "|    Sunny| 29|         4| 20000|\n",
      "|     Paul| 24|         3| 20000|\n",
      "|   Harsha| 21|         1| 15000|\n",
      "|  Shubham| 23|         2| 18000|\n",
      "+---------+---+----------+------+\n",
      "\n"
     ]
    }
   ],
   "source": [
    "df.show()"
   ]
  },
  {
   "cell_type": "code",
   "execution_count": 22,
   "id": "759fb8da",
   "metadata": {},
   "outputs": [
    {
     "data": {
      "text/plain": [
       "[('Name', 'string'), ('age', 'int'), ('Experience', 'int'), ('Salary', 'int')]"
      ]
     },
     "execution_count": 22,
     "metadata": {},
     "output_type": "execute_result"
    }
   ],
   "source": [
    "df.dtypes"
   ]
  },
  {
   "cell_type": "code",
   "execution_count": 24,
   "id": "44e7d472",
   "metadata": {},
   "outputs": [
    {
     "name": "stdout",
     "output_type": "stream",
     "text": [
      "+-------+------+------------------+-----------------+------------------+\n",
      "|summary|  Name|               age|       Experience|            Salary|\n",
      "+-------+------+------------------+-----------------+------------------+\n",
      "|  count|     6|                 6|                6|                 6|\n",
      "|   mean|  null|26.333333333333332|4.666666666666667|21333.333333333332|\n",
      "| stddev|  null| 4.179314138308661|3.559026084010437| 5354.126134736337|\n",
      "|    min|Harsha|                21|                1|             15000|\n",
      "|    max| Sunny|                31|               10|             30000|\n",
      "+-------+------+------------------+-----------------+------------------+\n",
      "\n"
     ]
    }
   ],
   "source": [
    "df.describe().show()"
   ]
  },
  {
   "cell_type": "markdown",
   "id": "ba905d20",
   "metadata": {},
   "source": [
    "### Select"
   ]
  },
  {
   "cell_type": "code",
   "execution_count": 19,
   "id": "c9133fa2",
   "metadata": {},
   "outputs": [
    {
     "data": {
      "text/plain": [
       "DataFrame[Name: string]"
      ]
     },
     "execution_count": 19,
     "metadata": {},
     "output_type": "execute_result"
    }
   ],
   "source": [
    "df.select('Name')"
   ]
  },
  {
   "cell_type": "code",
   "execution_count": 20,
   "id": "0348e897",
   "metadata": {},
   "outputs": [
    {
     "name": "stdout",
     "output_type": "stream",
     "text": [
      "+---------+\n",
      "|     Name|\n",
      "+---------+\n",
      "|    Krish|\n",
      "|Sudhanshu|\n",
      "|    Sunny|\n",
      "|     Paul|\n",
      "|   Harsha|\n",
      "|  Shubham|\n",
      "+---------+\n",
      "\n"
     ]
    }
   ],
   "source": [
    "df.select('Name').show()"
   ]
  },
  {
   "cell_type": "code",
   "execution_count": 21,
   "id": "fab66391",
   "metadata": {},
   "outputs": [
    {
     "name": "stdout",
     "output_type": "stream",
     "text": [
      "+---------+---+\n",
      "|     Name|Age|\n",
      "+---------+---+\n",
      "|    Krish| 31|\n",
      "|Sudhanshu| 30|\n",
      "|    Sunny| 29|\n",
      "|     Paul| 24|\n",
      "|   Harsha| 21|\n",
      "|  Shubham| 23|\n",
      "+---------+---+\n",
      "\n"
     ]
    }
   ],
   "source": [
    "df.select(['Name','Age']).show()"
   ]
  },
  {
   "cell_type": "markdown",
   "id": "69313a8d",
   "metadata": {},
   "source": [
    "### Where"
   ]
  },
  {
   "cell_type": "code",
   "execution_count": 41,
   "id": "667fd4b7",
   "metadata": {},
   "outputs": [
    {
     "name": "stdout",
     "output_type": "stream",
     "text": [
      "+---------+---+----------+------+\n",
      "|     Name|age|Experience|Salary|\n",
      "+---------+---+----------+------+\n",
      "|Sudhanshu| 30|         8| 25000|\n",
      "|    Sunny| 29|         4| 20000|\n",
      "|     Paul| 24|         3| 20000|\n",
      "|   Harsha| 21|         1| 15000|\n",
      "|  Shubham| 23|         2| 18000|\n",
      "+---------+---+----------+------+\n",
      "\n"
     ]
    }
   ],
   "source": [
    "df.where(df.Name != 'Krish').show()"
   ]
  },
  {
   "cell_type": "code",
   "execution_count": 42,
   "id": "aa2dcb17",
   "metadata": {},
   "outputs": [
    {
     "name": "stdout",
     "output_type": "stream",
     "text": [
      "+---------+---+----------+------+\n",
      "|     Name|age|Experience|Salary|\n",
      "+---------+---+----------+------+\n",
      "|    Krish| 31|        10| 30000|\n",
      "|Sudhanshu| 30|         8| 25000|\n",
      "|    Sunny| 29|         4| 20000|\n",
      "|     Paul| 24|         3| 20000|\n",
      "+---------+---+----------+------+\n",
      "\n"
     ]
    }
   ],
   "source": [
    "df.where((df.age >= 24) & (df.Experience >= 3)).show()"
   ]
  },
  {
   "cell_type": "markdown",
   "id": "6da14d30",
   "metadata": {},
   "source": [
    "### Add a Column"
   ]
  },
  {
   "cell_type": "code",
   "execution_count": 27,
   "id": "c23b577e",
   "metadata": {},
   "outputs": [],
   "source": [
    "df = df.withColumn('Exp After 5 Years', df['Experience']+5)"
   ]
  },
  {
   "cell_type": "code",
   "execution_count": 28,
   "id": "c815b697",
   "metadata": {},
   "outputs": [
    {
     "name": "stdout",
     "output_type": "stream",
     "text": [
      "+---------+---+----------+------+-----------------+\n",
      "|     Name|age|Experience|Salary|Exp After 5 Years|\n",
      "+---------+---+----------+------+-----------------+\n",
      "|    Krish| 31|        10| 30000|               15|\n",
      "|Sudhanshu| 30|         8| 25000|               13|\n",
      "|    Sunny| 29|         4| 20000|                9|\n",
      "|     Paul| 24|         3| 20000|                8|\n",
      "|   Harsha| 21|         1| 15000|                6|\n",
      "|  Shubham| 23|         2| 18000|                7|\n",
      "+---------+---+----------+------+-----------------+\n",
      "\n"
     ]
    }
   ],
   "source": [
    "df.show()"
   ]
  },
  {
   "cell_type": "markdown",
   "id": "6929d580",
   "metadata": {},
   "source": [
    "### Drop a Column"
   ]
  },
  {
   "cell_type": "code",
   "execution_count": 29,
   "id": "60db0f19",
   "metadata": {},
   "outputs": [],
   "source": [
    "df = df.drop('Exp After 5 Years')"
   ]
  },
  {
   "cell_type": "code",
   "execution_count": 30,
   "id": "37545425",
   "metadata": {},
   "outputs": [
    {
     "name": "stdout",
     "output_type": "stream",
     "text": [
      "+---------+---+----------+------+\n",
      "|     Name|age|Experience|Salary|\n",
      "+---------+---+----------+------+\n",
      "|    Krish| 31|        10| 30000|\n",
      "|Sudhanshu| 30|         8| 25000|\n",
      "|    Sunny| 29|         4| 20000|\n",
      "|     Paul| 24|         3| 20000|\n",
      "|   Harsha| 21|         1| 15000|\n",
      "|  Shubham| 23|         2| 18000|\n",
      "+---------+---+----------+------+\n",
      "\n"
     ]
    }
   ],
   "source": [
    "df.show()"
   ]
  },
  {
   "cell_type": "markdown",
   "id": "2dfd2c18",
   "metadata": {},
   "source": [
    "### Rename a Column"
   ]
  },
  {
   "cell_type": "code",
   "execution_count": 31,
   "id": "1e39b1f5",
   "metadata": {},
   "outputs": [
    {
     "name": "stdout",
     "output_type": "stream",
     "text": [
      "+---------+---+---+------+\n",
      "|     Name|age|Exp|Salary|\n",
      "+---------+---+---+------+\n",
      "|    Krish| 31| 10| 30000|\n",
      "|Sudhanshu| 30|  8| 25000|\n",
      "|    Sunny| 29|  4| 20000|\n",
      "|     Paul| 24|  3| 20000|\n",
      "|   Harsha| 21|  1| 15000|\n",
      "|  Shubham| 23|  2| 18000|\n",
      "+---------+---+---+------+\n",
      "\n"
     ]
    }
   ],
   "source": [
    "df.withColumnRenamed('Experience','Exp').show()"
   ]
  },
  {
   "cell_type": "code",
   "execution_count": 32,
   "id": "d77bcbdf",
   "metadata": {},
   "outputs": [],
   "source": [
    "from pyspark.sql.functions import lit"
   ]
  },
  {
   "cell_type": "markdown",
   "id": "f0efb1fe",
   "metadata": {},
   "source": [
    "### Filter"
   ]
  },
  {
   "cell_type": "code",
   "execution_count": 33,
   "id": "da7df95a",
   "metadata": {},
   "outputs": [
    {
     "name": "stdout",
     "output_type": "stream",
     "text": [
      "+-----+---+----------+------+\n",
      "| Name|age|Experience|Salary|\n",
      "+-----+---+----------+------+\n",
      "|Krish| 31|        10| 30000|\n",
      "+-----+---+----------+------+\n",
      "\n"
     ]
    }
   ],
   "source": [
    "df.filter(df['Name'] == 'Krish').show()"
   ]
  },
  {
   "cell_type": "markdown",
   "id": "4325454a",
   "metadata": {},
   "source": [
    "### Replace"
   ]
  },
  {
   "cell_type": "code",
   "execution_count": 34,
   "id": "d674f816",
   "metadata": {},
   "outputs": [
    {
     "name": "stdout",
     "output_type": "stream",
     "text": [
      "+---------+---+----------+------+\n",
      "|     Name|age|Experience|Salary|\n",
      "+---------+---+----------+------+\n",
      "| Dharmesh| 31|        10| 30000|\n",
      "|Sudhanshu| 30|         8| 25000|\n",
      "|    Sunny| 29|         4| 20000|\n",
      "|     Paul| 24|         3| 20000|\n",
      "|   Harsha| 21|         1| 15000|\n",
      "|  Shubham| 23|         2| 18000|\n",
      "+---------+---+----------+------+\n",
      "\n"
     ]
    }
   ],
   "source": [
    "df.replace('Krish','Dharmesh').show()"
   ]
  },
  {
   "cell_type": "markdown",
   "id": "1a7daeac",
   "metadata": {},
   "source": [
    "### Creating a DataFrame"
   ]
  },
  {
   "cell_type": "code",
   "execution_count": 35,
   "id": "153d5003",
   "metadata": {},
   "outputs": [],
   "source": [
    "cols = ['Name','age','Experience','Salary']"
   ]
  },
  {
   "cell_type": "code",
   "execution_count": 37,
   "id": "3505859a",
   "metadata": {},
   "outputs": [],
   "source": [
    "new_df = spark.createDataFrame([('Test', 29, 5, 40000)], cols)"
   ]
  },
  {
   "cell_type": "code",
   "execution_count": 38,
   "id": "6ecf267b",
   "metadata": {},
   "outputs": [
    {
     "name": "stdout",
     "output_type": "stream",
     "text": [
      "+----+---+----------+------+\n",
      "|Name|age|Experience|Salary|\n",
      "+----+---+----------+------+\n",
      "|Test| 29|         5| 40000|\n",
      "+----+---+----------+------+\n",
      "\n"
     ]
    }
   ],
   "source": [
    "new_df.show()"
   ]
  },
  {
   "cell_type": "markdown",
   "id": "157945bf",
   "metadata": {},
   "source": [
    "### Union"
   ]
  },
  {
   "cell_type": "code",
   "execution_count": 39,
   "id": "6962eadf",
   "metadata": {},
   "outputs": [],
   "source": [
    "df_u = df.union(new_df)"
   ]
  },
  {
   "cell_type": "code",
   "execution_count": 40,
   "id": "fc5f589e",
   "metadata": {},
   "outputs": [
    {
     "name": "stdout",
     "output_type": "stream",
     "text": [
      "+---------+---+----------+------+\n",
      "|     Name|age|Experience|Salary|\n",
      "+---------+---+----------+------+\n",
      "|    Krish| 31|        10| 30000|\n",
      "|Sudhanshu| 30|         8| 25000|\n",
      "|    Sunny| 29|         4| 20000|\n",
      "|     Paul| 24|         3| 20000|\n",
      "|   Harsha| 21|         1| 15000|\n",
      "|  Shubham| 23|         2| 18000|\n",
      "|     Test| 29|         5| 40000|\n",
      "+---------+---+----------+------+\n",
      "\n"
     ]
    }
   ],
   "source": [
    "df_u.show()"
   ]
  },
  {
   "cell_type": "markdown",
   "id": "08ba1517",
   "metadata": {},
   "source": [
    "## Handling Missing Values"
   ]
  },
  {
   "cell_type": "code",
   "execution_count": 43,
   "id": "13fe8e64",
   "metadata": {},
   "outputs": [],
   "source": [
    "df_spark = spark.read.csv('dataset/test2.csv', header=True, inferSchema=True)"
   ]
  },
  {
   "cell_type": "code",
   "execution_count": 44,
   "id": "75b341da",
   "metadata": {},
   "outputs": [
    {
     "name": "stdout",
     "output_type": "stream",
     "text": [
      "+--------+----+----------+------+\n",
      "|    Name| Age|Experience|Salary|\n",
      "+--------+----+----------+------+\n",
      "|Dharmesh|  22|         3|  5000|\n",
      "|  Mahesh|  23|         2|  4500|\n",
      "|  Akshay|  24|         3|  4000|\n",
      "|   Salam|  25|         1|  3800|\n",
      "|  Mayuri|  23|         2|  3000|\n",
      "|  Nilesh|null|      null|  4800|\n",
      "|    null|  25|         5|  6000|\n",
      "|    null|  26|      null|  null|\n",
      "+--------+----+----------+------+\n",
      "\n"
     ]
    }
   ],
   "source": [
    "df_spark.show()"
   ]
  },
  {
   "cell_type": "markdown",
   "id": "67658a27",
   "metadata": {},
   "source": [
    "### Drop null Values"
   ]
  },
  {
   "cell_type": "code",
   "execution_count": 46,
   "id": "da30673c",
   "metadata": {},
   "outputs": [
    {
     "name": "stdout",
     "output_type": "stream",
     "text": [
      "+--------+---+----------+------+\n",
      "|    Name|Age|Experience|Salary|\n",
      "+--------+---+----------+------+\n",
      "|Dharmesh| 22|         3|  5000|\n",
      "|  Mahesh| 23|         2|  4500|\n",
      "|  Akshay| 24|         3|  4000|\n",
      "|   Salam| 25|         1|  3800|\n",
      "|  Mayuri| 23|         2|  3000|\n",
      "+--------+---+----------+------+\n",
      "\n"
     ]
    }
   ],
   "source": [
    "df_spark.na.drop().show()"
   ]
  },
  {
   "cell_type": "markdown",
   "id": "d6e70c95",
   "metadata": {},
   "source": [
    "### Using how"
   ]
  },
  {
   "cell_type": "code",
   "execution_count": 47,
   "id": "fc6c6add",
   "metadata": {},
   "outputs": [
    {
     "name": "stdout",
     "output_type": "stream",
     "text": [
      "+--------+---+----------+------+\n",
      "|    Name|Age|Experience|Salary|\n",
      "+--------+---+----------+------+\n",
      "|Dharmesh| 22|         3|  5000|\n",
      "|  Mahesh| 23|         2|  4500|\n",
      "|  Akshay| 24|         3|  4000|\n",
      "|   Salam| 25|         1|  3800|\n",
      "|  Mayuri| 23|         2|  3000|\n",
      "+--------+---+----------+------+\n",
      "\n"
     ]
    }
   ],
   "source": [
    "df_spark.na.drop(how='any').show()"
   ]
  },
  {
   "cell_type": "code",
   "execution_count": 48,
   "id": "56b9a851",
   "metadata": {},
   "outputs": [
    {
     "name": "stdout",
     "output_type": "stream",
     "text": [
      "+--------+----+----------+------+\n",
      "|    Name| Age|Experience|Salary|\n",
      "+--------+----+----------+------+\n",
      "|Dharmesh|  22|         3|  5000|\n",
      "|  Mahesh|  23|         2|  4500|\n",
      "|  Akshay|  24|         3|  4000|\n",
      "|   Salam|  25|         1|  3800|\n",
      "|  Mayuri|  23|         2|  3000|\n",
      "|  Nilesh|null|      null|  4800|\n",
      "|    null|  25|         5|  6000|\n",
      "|    null|  26|      null|  null|\n",
      "+--------+----+----------+------+\n",
      "\n"
     ]
    }
   ],
   "source": [
    "df_spark.na.drop(how='all').show()"
   ]
  },
  {
   "cell_type": "markdown",
   "id": "4548b5ca",
   "metadata": {},
   "source": [
    "### Using thresh"
   ]
  },
  {
   "cell_type": "code",
   "execution_count": 50,
   "id": "5d5b0e18",
   "metadata": {},
   "outputs": [
    {
     "name": "stdout",
     "output_type": "stream",
     "text": [
      "+--------+---+----------+------+\n",
      "|    Name|Age|Experience|Salary|\n",
      "+--------+---+----------+------+\n",
      "|Dharmesh| 22|         3|  5000|\n",
      "|  Mahesh| 23|         2|  4500|\n",
      "|  Akshay| 24|         3|  4000|\n",
      "|   Salam| 25|         1|  3800|\n",
      "|  Mayuri| 23|         2|  3000|\n",
      "|    null| 25|         5|  6000|\n",
      "+--------+---+----------+------+\n",
      "\n"
     ]
    }
   ],
   "source": [
    "df_spark.na.drop(thresh=3).show()"
   ]
  },
  {
   "cell_type": "code",
   "execution_count": 52,
   "id": "739aa470",
   "metadata": {},
   "outputs": [
    {
     "name": "stdout",
     "output_type": "stream",
     "text": [
      "+--------+---+----------+------+\n",
      "|    Name|Age|Experience|Salary|\n",
      "+--------+---+----------+------+\n",
      "|Dharmesh| 22|         3|  5000|\n",
      "|  Mahesh| 23|         2|  4500|\n",
      "|  Akshay| 24|         3|  4000|\n",
      "|   Salam| 25|         1|  3800|\n",
      "|  Mayuri| 23|         2|  3000|\n",
      "|    null| 25|         5|  6000|\n",
      "+--------+---+----------+------+\n",
      "\n"
     ]
    }
   ],
   "source": [
    "df_spark.na.drop(how='all', thresh=3).show()"
   ]
  },
  {
   "cell_type": "code",
   "execution_count": 53,
   "id": "fb95864f",
   "metadata": {},
   "outputs": [
    {
     "name": "stdout",
     "output_type": "stream",
     "text": [
      "+--------+---+----------+------+\n",
      "|    Name|Age|Experience|Salary|\n",
      "+--------+---+----------+------+\n",
      "|Dharmesh| 22|         3|  5000|\n",
      "|  Mahesh| 23|         2|  4500|\n",
      "|  Akshay| 24|         3|  4000|\n",
      "|   Salam| 25|         1|  3800|\n",
      "|  Mayuri| 23|         2|  3000|\n",
      "|    null| 25|         5|  6000|\n",
      "+--------+---+----------+------+\n",
      "\n"
     ]
    }
   ],
   "source": [
    "df_spark.na.drop(how='any', thresh=3).show()"
   ]
  },
  {
   "cell_type": "markdown",
   "id": "54f72355",
   "metadata": {},
   "source": [
    "### Using Subset"
   ]
  },
  {
   "cell_type": "code",
   "execution_count": 54,
   "id": "fc4ae5db",
   "metadata": {},
   "outputs": [
    {
     "name": "stdout",
     "output_type": "stream",
     "text": [
      "+--------+---+----------+------+\n",
      "|    Name|Age|Experience|Salary|\n",
      "+--------+---+----------+------+\n",
      "|Dharmesh| 22|         3|  5000|\n",
      "|  Mahesh| 23|         2|  4500|\n",
      "|  Akshay| 24|         3|  4000|\n",
      "|   Salam| 25|         1|  3800|\n",
      "|  Mayuri| 23|         2|  3000|\n",
      "|    null| 25|         5|  6000|\n",
      "|    null| 26|      null|  null|\n",
      "+--------+---+----------+------+\n",
      "\n"
     ]
    }
   ],
   "source": [
    "df_spark.na.drop(subset=['Age']).show()"
   ]
  },
  {
   "cell_type": "code",
   "execution_count": 63,
   "id": "7ffcd5b6",
   "metadata": {},
   "outputs": [
    {
     "name": "stdout",
     "output_type": "stream",
     "text": [
      "+--------+---+----------+------+\n",
      "|    Name|Age|Experience|Salary|\n",
      "+--------+---+----------+------+\n",
      "|Dharmesh| 22|         3|  5000|\n",
      "|  Mahesh| 23|         2|  4500|\n",
      "|  Akshay| 24|         3|  4000|\n",
      "|   Salam| 25|         1|  3800|\n",
      "|  Mayuri| 23|         2|  3000|\n",
      "|    null| 25|         5|  6000|\n",
      "+--------+---+----------+------+\n",
      "\n"
     ]
    }
   ],
   "source": [
    "df_spark.na.drop(how='all', thresh=2, subset=['Age','Experience']).show()"
   ]
  },
  {
   "cell_type": "code",
   "execution_count": 64,
   "id": "b698604c",
   "metadata": {},
   "outputs": [
    {
     "name": "stdout",
     "output_type": "stream",
     "text": [
      "+--------+---+----------+------+\n",
      "|    Name|Age|Experience|Salary|\n",
      "+--------+---+----------+------+\n",
      "|Dharmesh| 22|         3|  5000|\n",
      "|  Mahesh| 23|         2|  4500|\n",
      "|  Akshay| 24|         3|  4000|\n",
      "|   Salam| 25|         1|  3800|\n",
      "|  Mayuri| 23|         2|  3000|\n",
      "|    null| 25|         5|  6000|\n",
      "+--------+---+----------+------+\n",
      "\n"
     ]
    }
   ],
   "source": [
    "df_spark.na.drop(how='any', thresh=2, subset=['Age', 'Experience']).show()"
   ]
  },
  {
   "cell_type": "markdown",
   "id": "a9bd939d",
   "metadata": {},
   "source": [
    "### Fill null Values"
   ]
  },
  {
   "cell_type": "code",
   "execution_count": 66,
   "id": "0e5b1c2c",
   "metadata": {},
   "outputs": [],
   "source": [
    "df_spark = spark.read.csv('dataset/test2.csv', header=True)"
   ]
  },
  {
   "cell_type": "code",
   "execution_count": 68,
   "id": "0ba89c0a",
   "metadata": {},
   "outputs": [
    {
     "name": "stdout",
     "output_type": "stream",
     "text": [
      "+--------+-------+----------+-------+\n",
      "|    Name|    Age|Experience| Salary|\n",
      "+--------+-------+----------+-------+\n",
      "|Dharmesh|     22|         3|   5000|\n",
      "|  Mahesh|     23|         2|   4500|\n",
      "|  Akshay|     24|         3|   4000|\n",
      "|   Salam|     25|         1|   3800|\n",
      "|  Mayuri|     23|         2|   3000|\n",
      "|  Nilesh|Missing|   Missing|   4800|\n",
      "| Missing|     25|         5|   6000|\n",
      "| Missing|     26|   Missing|Missing|\n",
      "+--------+-------+----------+-------+\n",
      "\n"
     ]
    }
   ],
   "source": [
    "df_spark.na.fill(value='Missing').show()"
   ]
  },
  {
   "cell_type": "code",
   "execution_count": 69,
   "id": "6703e937",
   "metadata": {},
   "outputs": [
    {
     "name": "stdout",
     "output_type": "stream",
     "text": [
      "+--------+----+----------+-------+\n",
      "|    Name| Age|Experience| Salary|\n",
      "+--------+----+----------+-------+\n",
      "|Dharmesh|  22|         3|   5000|\n",
      "|  Mahesh|  23|         2|   4500|\n",
      "|  Akshay|  24|         3|   4000|\n",
      "|   Salam|  25|         1|   3800|\n",
      "|  Mayuri|  23|         2|   3000|\n",
      "|  Nilesh|null|   Missing|   4800|\n",
      "|    null|  25|         5|   6000|\n",
      "|    null|  26|   Missing|Missing|\n",
      "+--------+----+----------+-------+\n",
      "\n"
     ]
    }
   ],
   "source": [
    "df_spark.na.fill(value='Missing', subset=['Experience','Salary']).show()"
   ]
  },
  {
   "cell_type": "code",
   "execution_count": 71,
   "id": "82bf2997",
   "metadata": {},
   "outputs": [
    {
     "name": "stdout",
     "output_type": "stream",
     "text": [
      "+---------+---+----------+------+\n",
      "|     Name|age|Experience|Salary|\n",
      "+---------+---+----------+------+\n",
      "|    Krish| 31|        10| 30000|\n",
      "|Sudhanshu| 30|         8| 25000|\n",
      "|    Sunny| 29|         4| 20000|\n",
      "|     Paul| 24|         3| 20000|\n",
      "|   Harsha| 21|         1| 15000|\n",
      "|  Shubham| 23|         2| 18000|\n",
      "+---------+---+----------+------+\n",
      "\n"
     ]
    }
   ],
   "source": [
    "df.show()"
   ]
  },
  {
   "cell_type": "markdown",
   "id": "6e881a2c",
   "metadata": {},
   "source": [
    "## Filter Data"
   ]
  },
  {
   "cell_type": "code",
   "execution_count": 72,
   "id": "d42355bb",
   "metadata": {},
   "outputs": [
    {
     "name": "stdout",
     "output_type": "stream",
     "text": [
      "+-------+---+----------+------+\n",
      "|   Name|age|Experience|Salary|\n",
      "+-------+---+----------+------+\n",
      "| Harsha| 21|         1| 15000|\n",
      "|Shubham| 23|         2| 18000|\n",
      "+-------+---+----------+------+\n",
      "\n"
     ]
    }
   ],
   "source": [
    "df.filter('Salary < 20000').show()"
   ]
  },
  {
   "cell_type": "code",
   "execution_count": 74,
   "id": "0dc35e42",
   "metadata": {},
   "outputs": [
    {
     "name": "stdout",
     "output_type": "stream",
     "text": [
      "+-------+---+----------+------+\n",
      "|   Name|age|Experience|Salary|\n",
      "+-------+---+----------+------+\n",
      "| Harsha| 21|         1| 15000|\n",
      "|Shubham| 23|         2| 18000|\n",
      "+-------+---+----------+------+\n",
      "\n"
     ]
    }
   ],
   "source": [
    "df.filter(df['Salary'] < 20000).show()"
   ]
  },
  {
   "cell_type": "code",
   "execution_count": 75,
   "id": "fb1af7ce",
   "metadata": {},
   "outputs": [
    {
     "name": "stdout",
     "output_type": "stream",
     "text": [
      "+-------+---+\n",
      "|   Name|age|\n",
      "+-------+---+\n",
      "| Harsha| 21|\n",
      "|Shubham| 23|\n",
      "+-------+---+\n",
      "\n"
     ]
    }
   ],
   "source": [
    "df.filter('Salary < 20000').select(['Name','age']).show()"
   ]
  },
  {
   "cell_type": "code",
   "execution_count": 77,
   "id": "aaa400bc",
   "metadata": {},
   "outputs": [
    {
     "name": "stdout",
     "output_type": "stream",
     "text": [
      "+---------+---+----------+------+\n",
      "|     Name|age|Experience|Salary|\n",
      "+---------+---+----------+------+\n",
      "|    Krish| 31|        10| 30000|\n",
      "|Sudhanshu| 30|         8| 25000|\n",
      "|    Sunny| 29|         4| 20000|\n",
      "|     Paul| 24|         3| 20000|\n",
      "|   Harsha| 21|         1| 15000|\n",
      "|  Shubham| 23|         2| 18000|\n",
      "+---------+---+----------+------+\n",
      "\n"
     ]
    }
   ],
   "source": [
    "df.show()"
   ]
  },
  {
   "cell_type": "code",
   "execution_count": 79,
   "id": "d8fdd403",
   "metadata": {},
   "outputs": [
    {
     "name": "stdout",
     "output_type": "stream",
     "text": [
      "+---------+---+----------+------+\n",
      "|     Name|age|Experience|Salary|\n",
      "+---------+---+----------+------+\n",
      "|    Krish| 31|        10| 30000|\n",
      "|Sudhanshu| 30|         8| 25000|\n",
      "|     Paul| 24|         3| 20000|\n",
      "|   Harsha| 21|         1| 15000|\n",
      "|  Shubham| 23|         2| 18000|\n",
      "+---------+---+----------+------+\n",
      "\n"
     ]
    }
   ],
   "source": [
    "df.filter((df['Salary'] >= 25000) | (df['age'] <= 25)).show()"
   ]
  },
  {
   "cell_type": "code",
   "execution_count": 80,
   "id": "546febb2",
   "metadata": {},
   "outputs": [
    {
     "name": "stdout",
     "output_type": "stream",
     "text": [
      "+---------+---+----------+------+\n",
      "|     Name|age|Experience|Salary|\n",
      "+---------+---+----------+------+\n",
      "|    Krish| 31|        10| 30000|\n",
      "|Sudhanshu| 30|         8| 25000|\n",
      "+---------+---+----------+------+\n",
      "\n"
     ]
    }
   ],
   "source": [
    "df.filter((df['age'] > 24) & (df['Salary'] >= 25000)).show()"
   ]
  },
  {
   "cell_type": "markdown",
   "id": "42b694f3",
   "metadata": {},
   "source": [
    "## GroupBY"
   ]
  },
  {
   "cell_type": "code",
   "execution_count": 81,
   "id": "b538722d",
   "metadata": {},
   "outputs": [],
   "source": [
    "df_spark = spark.read.csv('dataset/test3.csv', header=True, inferSchema=True)"
   ]
  },
  {
   "cell_type": "code",
   "execution_count": 83,
   "id": "86206ac9",
   "metadata": {},
   "outputs": [
    {
     "name": "stdout",
     "output_type": "stream",
     "text": [
      "+---------+------------+------+\n",
      "|     Name| Departments|salary|\n",
      "+---------+------------+------+\n",
      "|    Krish|Data Science| 10000|\n",
      "|    Krish|         IOT|  5000|\n",
      "|   Mahesh|    Big Data|  4000|\n",
      "|    Krish|    Big Data|  4000|\n",
      "|   Mahesh|Data Science|  3000|\n",
      "|Sudhanshu|Data Science| 20000|\n",
      "|Sudhanshu|         IOT| 10000|\n",
      "|Sudhanshu|    Big Data|  5000|\n",
      "|    Sunny|Data Science| 10000|\n",
      "|    Sunny|    Big Data|  2000|\n",
      "+---------+------------+------+\n",
      "\n"
     ]
    }
   ],
   "source": [
    "df_spark.show()"
   ]
  },
  {
   "cell_type": "code",
   "execution_count": 84,
   "id": "89f01d44",
   "metadata": {},
   "outputs": [
    {
     "name": "stdout",
     "output_type": "stream",
     "text": [
      "root\n",
      " |-- Name: string (nullable = true)\n",
      " |-- Departments: string (nullable = true)\n",
      " |-- salary: integer (nullable = true)\n",
      "\n"
     ]
    }
   ],
   "source": [
    "df_spark.printSchema()"
   ]
  },
  {
   "cell_type": "code",
   "execution_count": 85,
   "id": "ff79afd0",
   "metadata": {},
   "outputs": [
    {
     "name": "stdout",
     "output_type": "stream",
     "text": [
      "+------------+-----------+\n",
      "| Departments|sum(salary)|\n",
      "+------------+-----------+\n",
      "|         IOT|      15000|\n",
      "|    Big Data|      15000|\n",
      "|Data Science|      43000|\n",
      "+------------+-----------+\n",
      "\n"
     ]
    }
   ],
   "source": [
    "df_spark.groupBy('Departments').sum().show()"
   ]
  },
  {
   "cell_type": "code",
   "execution_count": 86,
   "id": "b74e585a",
   "metadata": {},
   "outputs": [
    {
     "name": "stdout",
     "output_type": "stream",
     "text": [
      "+------------+-----------+\n",
      "| Departments|avg(salary)|\n",
      "+------------+-----------+\n",
      "|         IOT|     7500.0|\n",
      "|    Big Data|     3750.0|\n",
      "|Data Science|    10750.0|\n",
      "+------------+-----------+\n",
      "\n"
     ]
    }
   ],
   "source": [
    "df_spark.groupBy('Departments').avg().show()"
   ]
  },
  {
   "cell_type": "code",
   "execution_count": 87,
   "id": "bcd9ba3a",
   "metadata": {},
   "outputs": [
    {
     "name": "stdout",
     "output_type": "stream",
     "text": [
      "+------------+-----+\n",
      "| Departments|count|\n",
      "+------------+-----+\n",
      "|         IOT|    2|\n",
      "|    Big Data|    4|\n",
      "|Data Science|    4|\n",
      "+------------+-----+\n",
      "\n"
     ]
    }
   ],
   "source": [
    "df_spark.groupBy('Departments').count().show()"
   ]
  },
  {
   "cell_type": "code",
   "execution_count": 88,
   "id": "ecf6bc1a",
   "metadata": {},
   "outputs": [
    {
     "name": "stdout",
     "output_type": "stream",
     "text": [
      "+---------+------------+------+\n",
      "|     Name| Departments|salary|\n",
      "+---------+------------+------+\n",
      "|    Krish|Data Science| 10000|\n",
      "|    Krish|         IOT|  5000|\n",
      "|   Mahesh|    Big Data|  4000|\n",
      "|    Krish|    Big Data|  4000|\n",
      "|   Mahesh|Data Science|  3000|\n",
      "|Sudhanshu|Data Science| 20000|\n",
      "|Sudhanshu|         IOT| 10000|\n",
      "|Sudhanshu|    Big Data|  5000|\n",
      "|    Sunny|Data Science| 10000|\n",
      "|    Sunny|    Big Data|  2000|\n",
      "+---------+------------+------+\n",
      "\n"
     ]
    }
   ],
   "source": [
    "df_spark.show()"
   ]
  },
  {
   "cell_type": "code",
   "execution_count": 89,
   "id": "40d77fce",
   "metadata": {},
   "outputs": [],
   "source": [
    "from pyspark.sql import functions as f"
   ]
  },
  {
   "cell_type": "code",
   "execution_count": 92,
   "id": "2839d28f",
   "metadata": {},
   "outputs": [
    {
     "name": "stdout",
     "output_type": "stream",
     "text": [
      "+---------+-----------+-----------+\n",
      "|     Name|min(Salary)|max(Salary)|\n",
      "+---------+-----------+-----------+\n",
      "|Sudhanshu|       5000|      20000|\n",
      "|    Sunny|       2000|      10000|\n",
      "|    Krish|       4000|      10000|\n",
      "|   Mahesh|       3000|       4000|\n",
      "+---------+-----------+-----------+\n",
      "\n"
     ]
    }
   ],
   "source": [
    "df_spark.groupBy('Name').agg(f.min('Salary'), f.max('Salary')).show()"
   ]
  },
  {
   "cell_type": "markdown",
   "id": "25d6ec21",
   "metadata": {},
   "source": [
    "## Sorting"
   ]
  },
  {
   "cell_type": "code",
   "execution_count": 95,
   "id": "dc08058d",
   "metadata": {},
   "outputs": [
    {
     "name": "stdout",
     "output_type": "stream",
     "text": [
      "+---------+------------+------+\n",
      "|     Name| Departments|salary|\n",
      "+---------+------------+------+\n",
      "|    Sunny|    Big Data|  2000|\n",
      "|   Mahesh|Data Science|  3000|\n",
      "|   Mahesh|    Big Data|  4000|\n",
      "|    Krish|    Big Data|  4000|\n",
      "|    Krish|         IOT|  5000|\n",
      "|Sudhanshu|    Big Data|  5000|\n",
      "|    Krish|Data Science| 10000|\n",
      "|    Sunny|Data Science| 10000|\n",
      "|Sudhanshu|         IOT| 10000|\n",
      "|Sudhanshu|Data Science| 20000|\n",
      "+---------+------------+------+\n",
      "\n"
     ]
    }
   ],
   "source": [
    "df_spark.sort('Salary').show()"
   ]
  },
  {
   "cell_type": "code",
   "execution_count": 105,
   "id": "4cbcee91",
   "metadata": {},
   "outputs": [
    {
     "name": "stdout",
     "output_type": "stream",
     "text": [
      "+---------+------------+------+\n",
      "|     Name| Departments|salary|\n",
      "+---------+------------+------+\n",
      "|Sudhanshu|Data Science| 20000|\n",
      "|Sudhanshu|         IOT| 10000|\n",
      "|    Krish|Data Science| 10000|\n",
      "|    Sunny|Data Science| 10000|\n",
      "|    Krish|         IOT|  5000|\n",
      "|Sudhanshu|    Big Data|  5000|\n",
      "|    Krish|    Big Data|  4000|\n",
      "|   Mahesh|    Big Data|  4000|\n",
      "|   Mahesh|Data Science|  3000|\n",
      "|    Sunny|    Big Data|  2000|\n",
      "+---------+------------+------+\n",
      "\n"
     ]
    }
   ],
   "source": [
    "df_spark.sort(df_spark.salary.desc()).show()"
   ]
  },
  {
   "cell_type": "code",
   "execution_count": 108,
   "id": "b7c92931",
   "metadata": {},
   "outputs": [
    {
     "name": "stdout",
     "output_type": "stream",
     "text": [
      "+---------+------------+------+\n",
      "|     Name| Departments|salary|\n",
      "+---------+------------+------+\n",
      "|Sudhanshu|Data Science| 20000|\n",
      "|Sudhanshu|         IOT| 10000|\n",
      "|    Krish|Data Science| 10000|\n",
      "|    Sunny|Data Science| 10000|\n",
      "|    Krish|         IOT|  5000|\n",
      "|Sudhanshu|    Big Data|  5000|\n",
      "|    Krish|    Big Data|  4000|\n",
      "|   Mahesh|    Big Data|  4000|\n",
      "|   Mahesh|Data Science|  3000|\n",
      "|    Sunny|    Big Data|  2000|\n",
      "+---------+------------+------+\n",
      "\n"
     ]
    }
   ],
   "source": [
    "df_spark.sort('Salary', ascending=False).show()"
   ]
  },
  {
   "cell_type": "markdown",
   "id": "77f24c3d",
   "metadata": {},
   "source": [
    "### OrderBY"
   ]
  },
  {
   "cell_type": "code",
   "execution_count": 109,
   "id": "1a32bb2a",
   "metadata": {},
   "outputs": [
    {
     "name": "stdout",
     "output_type": "stream",
     "text": [
      "+---------+------------+------+\n",
      "|     Name| Departments|salary|\n",
      "+---------+------------+------+\n",
      "|    Sunny|    Big Data|  2000|\n",
      "|   Mahesh|Data Science|  3000|\n",
      "|   Mahesh|    Big Data|  4000|\n",
      "|    Krish|    Big Data|  4000|\n",
      "|    Krish|         IOT|  5000|\n",
      "|Sudhanshu|    Big Data|  5000|\n",
      "|    Krish|Data Science| 10000|\n",
      "|    Sunny|Data Science| 10000|\n",
      "|Sudhanshu|         IOT| 10000|\n",
      "|Sudhanshu|Data Science| 20000|\n",
      "+---------+------------+------+\n",
      "\n"
     ]
    }
   ],
   "source": [
    "df_spark.orderBy('Salary').show()"
   ]
  },
  {
   "cell_type": "code",
   "execution_count": 110,
   "id": "c0bb94f8",
   "metadata": {},
   "outputs": [
    {
     "name": "stdout",
     "output_type": "stream",
     "text": [
      "+---------+------------+------+\n",
      "|     Name| Departments|salary|\n",
      "+---------+------------+------+\n",
      "|Sudhanshu|Data Science| 20000|\n",
      "|Sudhanshu|         IOT| 10000|\n",
      "|    Krish|Data Science| 10000|\n",
      "|    Sunny|Data Science| 10000|\n",
      "|    Krish|         IOT|  5000|\n",
      "|Sudhanshu|    Big Data|  5000|\n",
      "|    Krish|    Big Data|  4000|\n",
      "|   Mahesh|    Big Data|  4000|\n",
      "|   Mahesh|Data Science|  3000|\n",
      "|    Sunny|    Big Data|  2000|\n",
      "+---------+------------+------+\n",
      "\n"
     ]
    }
   ],
   "source": [
    "df_spark.orderBy(df_spark['Salary'].desc()).show()"
   ]
  },
  {
   "cell_type": "code",
   "execution_count": 111,
   "id": "f358aeb1",
   "metadata": {},
   "outputs": [
    {
     "name": "stdout",
     "output_type": "stream",
     "text": [
      "+---------+------------+------+\n",
      "|     Name| Departments|salary|\n",
      "+---------+------------+------+\n",
      "|Sudhanshu|Data Science| 20000|\n",
      "|    Krish|Data Science| 10000|\n",
      "|Sudhanshu|         IOT| 10000|\n",
      "|    Sunny|Data Science| 10000|\n",
      "|    Krish|         IOT|  5000|\n",
      "|Sudhanshu|    Big Data|  5000|\n",
      "|    Krish|    Big Data|  4000|\n",
      "|   Mahesh|    Big Data|  4000|\n",
      "|   Mahesh|Data Science|  3000|\n",
      "|    Sunny|    Big Data|  2000|\n",
      "+---------+------------+------+\n",
      "\n"
     ]
    }
   ],
   "source": [
    "df_spark.orderBy(df_spark['Salary'].desc(), df_spark['Name']).show()"
   ]
  }
 ],
 "metadata": {
  "kernelspec": {
   "display_name": "Python 3 (ipykernel)",
   "language": "python",
   "name": "python3"
  },
  "language_info": {
   "codemirror_mode": {
    "name": "ipython",
    "version": 3
   },
   "file_extension": ".py",
   "mimetype": "text/x-python",
   "name": "python",
   "nbconvert_exporter": "python",
   "pygments_lexer": "ipython3",
   "version": "3.7.9"
  }
 },
 "nbformat": 4,
 "nbformat_minor": 5
}
