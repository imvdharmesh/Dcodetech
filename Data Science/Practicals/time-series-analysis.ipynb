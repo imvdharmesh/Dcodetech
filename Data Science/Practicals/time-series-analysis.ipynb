{
 "cells": [
  {
   "cell_type": "code",
   "execution_count": 1,
   "id": "1c2e5b38-416f-415b-a514-051276bca8d6",
   "metadata": {
    "tags": []
   },
   "outputs": [],
   "source": [
    "from datetime import datetime"
   ]
  },
  {
   "cell_type": "code",
   "execution_count": 2,
   "id": "19391dbb-d32a-491f-a113-4ca1592f2cff",
   "metadata": {},
   "outputs": [],
   "source": [
    "now = datetime.now()"
   ]
  },
  {
   "cell_type": "code",
   "execution_count": 3,
   "id": "537d0cf4-4133-4772-9cce-a71ff0dbc548",
   "metadata": {},
   "outputs": [
    {
     "data": {
      "text/plain": [
       "datetime.datetime(2021, 8, 3, 11, 4, 22, 876134)"
      ]
     },
     "execution_count": 3,
     "metadata": {},
     "output_type": "execute_result"
    }
   ],
   "source": [
    "now"
   ]
  },
  {
   "cell_type": "code",
   "execution_count": 4,
   "id": "eaa4c11d-b197-4826-8d1d-c5e46dfee677",
   "metadata": {},
   "outputs": [
    {
     "data": {
      "text/plain": [
       "2021"
      ]
     },
     "execution_count": 4,
     "metadata": {},
     "output_type": "execute_result"
    }
   ],
   "source": [
    "now.year"
   ]
  },
  {
   "cell_type": "code",
   "execution_count": 5,
   "id": "d5473a8d-9b7d-42a9-b12c-285b22450e0e",
   "metadata": {},
   "outputs": [
    {
     "data": {
      "text/plain": [
       "8"
      ]
     },
     "execution_count": 5,
     "metadata": {},
     "output_type": "execute_result"
    }
   ],
   "source": [
    "now.month"
   ]
  },
  {
   "cell_type": "code",
   "execution_count": 6,
   "id": "74beb7d5-1f90-4ff6-9e29-0f290c0b39cd",
   "metadata": {},
   "outputs": [
    {
     "data": {
      "text/plain": [
       "3"
      ]
     },
     "execution_count": 6,
     "metadata": {},
     "output_type": "execute_result"
    }
   ],
   "source": [
    "now.day"
   ]
  },
  {
   "cell_type": "code",
   "execution_count": 7,
   "id": "45d9fcc9-4345-4285-be62-0d0b2e3c99fc",
   "metadata": {},
   "outputs": [
    {
     "data": {
      "text/plain": [
       "1"
      ]
     },
     "execution_count": 7,
     "metadata": {},
     "output_type": "execute_result"
    }
   ],
   "source": [
    "now.weekday()"
   ]
  },
  {
   "cell_type": "code",
   "execution_count": 8,
   "id": "37b70dda-f16a-46a3-8a37-299df3377269",
   "metadata": {},
   "outputs": [
    {
     "data": {
      "text/plain": [
       "11"
      ]
     },
     "execution_count": 8,
     "metadata": {},
     "output_type": "execute_result"
    }
   ],
   "source": [
    "now.hour"
   ]
  },
  {
   "cell_type": "code",
   "execution_count": 9,
   "id": "1f0c40a3-9a5c-4283-a680-f4f506ae5aba",
   "metadata": {},
   "outputs": [
    {
     "data": {
      "text/plain": [
       "4"
      ]
     },
     "execution_count": 9,
     "metadata": {},
     "output_type": "execute_result"
    }
   ],
   "source": [
    "now.minute"
   ]
  },
  {
   "cell_type": "code",
   "execution_count": 10,
   "id": "52e04e86-b60b-42ce-a4a5-7ebd37cea5db",
   "metadata": {},
   "outputs": [
    {
     "data": {
      "text/plain": [
       "22"
      ]
     },
     "execution_count": 10,
     "metadata": {},
     "output_type": "execute_result"
    }
   ],
   "source": [
    "now.second"
   ]
  },
  {
   "cell_type": "code",
   "execution_count": 14,
   "id": "48bc60b5-c61e-4fe1-81db-f2bedfabb622",
   "metadata": {},
   "outputs": [
    {
     "data": {
      "text/plain": [
       "datetime.timedelta(days=31)"
      ]
     },
     "execution_count": 14,
     "metadata": {},
     "output_type": "execute_result"
    }
   ],
   "source": [
    "datetime(2021,8,1) - datetime(2021,7,1)"
   ]
  },
  {
   "cell_type": "code",
   "execution_count": 15,
   "id": "a2c7b6cc-0c54-4074-87d8-c7fb81267404",
   "metadata": {},
   "outputs": [
    {
     "data": {
      "text/plain": [
       "datetime.timedelta(days=33, seconds=39862, microseconds=876134)"
      ]
     },
     "execution_count": 15,
     "metadata": {},
     "output_type": "execute_result"
    }
   ],
   "source": [
    "now - datetime(2021,7,1)"
   ]
  },
  {
   "cell_type": "code",
   "execution_count": 16,
   "id": "60add89a-384c-4b2d-9392-fea03168547e",
   "metadata": {},
   "outputs": [],
   "source": [
    "stamp = datetime(2021,8,3)"
   ]
  },
  {
   "cell_type": "code",
   "execution_count": 17,
   "id": "695f0ae0-dea5-484d-b3a4-8603586fa4bf",
   "metadata": {},
   "outputs": [
    {
     "data": {
      "text/plain": [
       "datetime.datetime(2021, 8, 3, 0, 0)"
      ]
     },
     "execution_count": 17,
     "metadata": {},
     "output_type": "execute_result"
    }
   ],
   "source": [
    "stamp"
   ]
  },
  {
   "cell_type": "code",
   "execution_count": 18,
   "id": "176dad72-f0b6-4550-8405-b084a2125a85",
   "metadata": {},
   "outputs": [
    {
     "data": {
      "text/plain": [
       "datetime.datetime"
      ]
     },
     "execution_count": 18,
     "metadata": {},
     "output_type": "execute_result"
    }
   ],
   "source": [
    "type(stamp)"
   ]
  },
  {
   "cell_type": "code",
   "execution_count": 19,
   "id": "4b2da863-1d97-4320-9d25-5895430633f9",
   "metadata": {},
   "outputs": [
    {
     "data": {
      "text/plain": [
       "'2021-08-03 00:00:00'"
      ]
     },
     "execution_count": 19,
     "metadata": {},
     "output_type": "execute_result"
    }
   ],
   "source": [
    "str(stamp)"
   ]
  },
  {
   "cell_type": "code",
   "execution_count": 20,
   "id": "5b0f976f-c415-4bec-aadc-e6d95b0ee6e0",
   "metadata": {},
   "outputs": [
    {
     "data": {
      "text/plain": [
       "'2021/08/03'"
      ]
     },
     "execution_count": 20,
     "metadata": {},
     "output_type": "execute_result"
    }
   ],
   "source": [
    "stamp.strftime('%Y/%m/%d')"
   ]
  },
  {
   "cell_type": "code",
   "execution_count": 21,
   "id": "6cde985b-ae40-4c8d-a64d-c6fbcc74f760",
   "metadata": {},
   "outputs": [],
   "source": [
    "date = '2021/08/03'"
   ]
  },
  {
   "cell_type": "code",
   "execution_count": 22,
   "id": "ae50b8c3-4557-447d-9d88-57d6f55780ab",
   "metadata": {},
   "outputs": [
    {
     "data": {
      "text/plain": [
       "str"
      ]
     },
     "execution_count": 22,
     "metadata": {},
     "output_type": "execute_result"
    }
   ],
   "source": [
    "type(date)"
   ]
  },
  {
   "cell_type": "code",
   "execution_count": 27,
   "id": "9327128e-6dcd-4ad5-9697-fcd373dcce4d",
   "metadata": {},
   "outputs": [],
   "source": [
    "val = datetime.strptime(date,'%Y/%m/%d')"
   ]
  },
  {
   "cell_type": "code",
   "execution_count": 28,
   "id": "6240237f-0a14-435d-9328-e88d224399d0",
   "metadata": {},
   "outputs": [
    {
     "data": {
      "text/plain": [
       "datetime.datetime(2021, 8, 3, 0, 0)"
      ]
     },
     "execution_count": 28,
     "metadata": {},
     "output_type": "execute_result"
    }
   ],
   "source": [
    "val"
   ]
  },
  {
   "cell_type": "code",
   "execution_count": 29,
   "id": "04c00cec-952e-400e-8965-01401a091182",
   "metadata": {},
   "outputs": [
    {
     "data": {
      "text/plain": [
       "datetime.datetime"
      ]
     },
     "execution_count": 29,
     "metadata": {},
     "output_type": "execute_result"
    }
   ],
   "source": [
    "type(val)"
   ]
  },
  {
   "cell_type": "markdown",
   "id": "6a2ce0ea-ca3f-42ce-890d-c05a7ba6e63a",
   "metadata": {},
   "source": [
    "### Time Series Basics"
   ]
  },
  {
   "cell_type": "code",
   "execution_count": 30,
   "id": "065770ba-37a4-4bbf-ba28-1f0456db55c5",
   "metadata": {},
   "outputs": [],
   "source": [
    "from datetime import datetime"
   ]
  },
  {
   "cell_type": "code",
   "execution_count": 31,
   "id": "4368ad29-3bf8-4661-a89c-11e4bb4c5045",
   "metadata": {},
   "outputs": [],
   "source": [
    "import numpy as np\n",
    "import pandas as pd"
   ]
  },
  {
   "cell_type": "code",
   "execution_count": 32,
   "id": "a4c7943b-4bd3-4eeb-9098-045068a7dee4",
   "metadata": {},
   "outputs": [],
   "source": [
    "dates = [\n",
    "    datetime(2011,1,2),\n",
    "    datetime(2011,1,5),\n",
    "    datetime(2011,1,7),\n",
    "    datetime(2011,1,8),\n",
    "    datetime(2011,1,10),\n",
    "    datetime(2011,1,12)\n",
    "]"
   ]
  },
  {
   "cell_type": "code",
   "execution_count": 33,
   "id": "af750bab-d186-4354-8f4f-ae0661f9cd5e",
   "metadata": {},
   "outputs": [
    {
     "data": {
      "text/plain": [
       "[datetime.datetime(2011, 1, 2, 0, 0),\n",
       " datetime.datetime(2011, 1, 5, 0, 0),\n",
       " datetime.datetime(2011, 1, 7, 0, 0),\n",
       " datetime.datetime(2011, 1, 8, 0, 0),\n",
       " datetime.datetime(2011, 1, 10, 0, 0),\n",
       " datetime.datetime(2011, 1, 12, 0, 0)]"
      ]
     },
     "execution_count": 33,
     "metadata": {},
     "output_type": "execute_result"
    }
   ],
   "source": [
    "dates"
   ]
  },
  {
   "cell_type": "code",
   "execution_count": 35,
   "id": "8d0c78e7-5d0c-441c-a42b-b7261528db80",
   "metadata": {},
   "outputs": [],
   "source": [
    "mydata = pd.Series(np.random.randn(6), index=dates)"
   ]
  },
  {
   "cell_type": "code",
   "execution_count": 36,
   "id": "d21effc0-0287-434b-ae72-788dbcafa474",
   "metadata": {},
   "outputs": [
    {
     "data": {
      "text/plain": [
       "2011-01-02    0.995051\n",
       "2011-01-05    0.279404\n",
       "2011-01-07   -0.623865\n",
       "2011-01-08   -2.125518\n",
       "2011-01-10   -2.797975\n",
       "2011-01-12    1.109437\n",
       "dtype: float64"
      ]
     },
     "execution_count": 36,
     "metadata": {},
     "output_type": "execute_result"
    }
   ],
   "source": [
    "mydata"
   ]
  },
  {
   "cell_type": "code",
   "execution_count": 37,
   "id": "d9ec90c4-920f-4ddb-a453-072dbe16104d",
   "metadata": {},
   "outputs": [
    {
     "data": {
      "text/plain": [
       "DatetimeIndex(['2011-01-02', '2011-01-05', '2011-01-07', '2011-01-08',\n",
       "               '2011-01-10', '2011-01-12'],\n",
       "              dtype='datetime64[ns]', freq=None)"
      ]
     },
     "execution_count": 37,
     "metadata": {},
     "output_type": "execute_result"
    }
   ],
   "source": [
    "mydata.index"
   ]
  },
  {
   "cell_type": "code",
   "execution_count": 40,
   "id": "3d9e011d-fbb8-4512-8af0-ad768eb6acfb",
   "metadata": {},
   "outputs": [],
   "source": [
    "s1 = mydata.index[0]"
   ]
  },
  {
   "cell_type": "code",
   "execution_count": 41,
   "id": "f0c8b98b-3b37-49df-8cd8-d13176f9f222",
   "metadata": {},
   "outputs": [
    {
     "data": {
      "text/plain": [
       "(Timestamp('2011-01-02 00:00:00'), pandas._libs.tslibs.timestamps.Timestamp)"
      ]
     },
     "execution_count": 41,
     "metadata": {},
     "output_type": "execute_result"
    }
   ],
   "source": [
    "s1, type(s1)"
   ]
  },
  {
   "cell_type": "markdown",
   "id": "ae244941-ccb4-468b-a866-e405f8571323",
   "metadata": {},
   "source": [
    "### Date in ranges"
   ]
  },
  {
   "cell_type": "code",
   "execution_count": 42,
   "id": "b76c6ef8-cca0-414b-9b01-d51944535bdf",
   "metadata": {},
   "outputs": [],
   "source": [
    "new_data = pd.Series(np.random.randn(1000), index=pd.date_range('2000/1/1', periods=1000))"
   ]
  },
  {
   "cell_type": "code",
   "execution_count": 43,
   "id": "c6719bf5-6bd4-48d0-8e9b-196a967d73f8",
   "metadata": {},
   "outputs": [
    {
     "data": {
      "text/plain": [
       "2000-01-01   -1.236019\n",
       "2000-01-02    2.439309\n",
       "2000-01-03    0.153056\n",
       "2000-01-04   -1.874414\n",
       "2000-01-05    0.312639\n",
       "                ...   \n",
       "2002-09-22   -0.159458\n",
       "2002-09-23   -0.152317\n",
       "2002-09-24    0.431503\n",
       "2002-09-25   -0.112576\n",
       "2002-09-26   -0.477521\n",
       "Freq: D, Length: 1000, dtype: float64"
      ]
     },
     "execution_count": 43,
     "metadata": {},
     "output_type": "execute_result"
    }
   ],
   "source": [
    "new_data"
   ]
  },
  {
   "cell_type": "code",
   "execution_count": 46,
   "id": "5ed557b4-ee09-4ba1-b2ed-4b3ba9b46857",
   "metadata": {},
   "outputs": [
    {
     "data": {
      "text/plain": [
       "2000-01-01   -1.236019\n",
       "2000-01-02    2.439309\n",
       "2000-01-03    0.153056\n",
       "2000-01-04   -1.874414\n",
       "2000-01-05    0.312639\n",
       "                ...   \n",
       "2000-12-27    1.136380\n",
       "2000-12-28    0.293401\n",
       "2000-12-29   -2.677170\n",
       "2000-12-30    0.460661\n",
       "2000-12-31    1.003269\n",
       "Freq: D, Length: 366, dtype: float64"
      ]
     },
     "execution_count": 46,
     "metadata": {},
     "output_type": "execute_result"
    }
   ],
   "source": [
    "new_data['2000']"
   ]
  },
  {
   "cell_type": "code",
   "execution_count": 49,
   "id": "c13533b2-1291-4175-bddd-dcea245b8f52",
   "metadata": {},
   "outputs": [
    {
     "data": {
      "text/plain": [
       "2000-01-01   -1.236019\n",
       "2000-01-02    2.439309\n",
       "2000-01-03    0.153056\n",
       "2000-01-04   -1.874414\n",
       "2000-01-05    0.312639\n",
       "2000-01-06    0.424507\n",
       "2000-01-07   -0.748528\n",
       "2000-01-08   -1.134759\n",
       "2000-01-09    0.524742\n",
       "2000-01-10   -1.221097\n",
       "2000-01-11    0.253991\n",
       "2000-01-12    0.929604\n",
       "2000-01-13   -0.920841\n",
       "2000-01-14    0.220839\n",
       "2000-01-15   -1.209428\n",
       "2000-01-16    1.710014\n",
       "2000-01-17   -0.695357\n",
       "2000-01-18    1.009397\n",
       "2000-01-19    1.306962\n",
       "2000-01-20    1.021342\n",
       "2000-01-21   -0.339383\n",
       "2000-01-22   -0.627578\n",
       "2000-01-23   -0.266654\n",
       "2000-01-24   -0.023681\n",
       "2000-01-25   -0.862767\n",
       "2000-01-26    0.479647\n",
       "2000-01-27   -0.099032\n",
       "2000-01-28    0.759705\n",
       "2000-01-29    0.408301\n",
       "2000-01-30    0.337598\n",
       "2000-01-31    0.520955\n",
       "Freq: D, dtype: float64"
      ]
     },
     "execution_count": 49,
     "metadata": {},
     "output_type": "execute_result"
    }
   ],
   "source": [
    "new_data['2000-01']"
   ]
  },
  {
   "cell_type": "code",
   "execution_count": 51,
   "id": "74931baf-990a-4dc4-8b4b-b9b2afcc1780",
   "metadata": {},
   "outputs": [
    {
     "data": {
      "text/plain": [
       "2000-01-01   -1.236019\n",
       "2000-01-02    2.439309\n",
       "2000-01-03    0.153056\n",
       "2000-01-04   -1.874414\n",
       "2000-01-05    0.312639\n",
       "                ...   \n",
       "2001-01-27    0.045466\n",
       "2001-01-28    1.028059\n",
       "2001-01-29    0.390696\n",
       "2001-01-30    0.485344\n",
       "2001-01-31   -2.410616\n",
       "Freq: D, Length: 397, dtype: float64"
      ]
     },
     "execution_count": 51,
     "metadata": {},
     "output_type": "execute_result"
    }
   ],
   "source": [
    "new_data['2000-01':'2001-01']"
   ]
  },
  {
   "cell_type": "code",
   "execution_count": 52,
   "id": "ee08b868-1dcf-49f2-afb8-54c6949da542",
   "metadata": {},
   "outputs": [
    {
     "data": {
      "text/plain": [
       "2000-03-01    0.618554\n",
       "2000-03-02   -1.144467\n",
       "2000-03-03   -0.037416\n",
       "2000-03-04    0.696291\n",
       "2000-03-05    1.695051\n",
       "                ...   \n",
       "2000-05-27   -1.890901\n",
       "2000-05-28   -0.125960\n",
       "2000-05-29   -0.461890\n",
       "2000-05-30    0.502895\n",
       "2000-05-31    2.127614\n",
       "Freq: D, Length: 92, dtype: float64"
      ]
     },
     "execution_count": 52,
     "metadata": {},
     "output_type": "execute_result"
    }
   ],
   "source": [
    "new_data['2000-03-01':'2000-05-31']"
   ]
  },
  {
   "cell_type": "code",
   "execution_count": 58,
   "id": "b027c5c3-6e27-48bc-b748-82dd9f7fca68",
   "metadata": {},
   "outputs": [],
   "source": [
    "week_data = pd.date_range('1/1/2000', periods=100, freq='W')"
   ]
  },
  {
   "cell_type": "code",
   "execution_count": 59,
   "id": "aeb7d7a4-b163-4c57-928c-a8ffa3ddcc6b",
   "metadata": {},
   "outputs": [
    {
     "data": {
      "text/plain": [
       "DatetimeIndex(['2000-01-02', '2000-01-09', '2000-01-16', '2000-01-23',\n",
       "               '2000-01-30', '2000-02-06', '2000-02-13', '2000-02-20',\n",
       "               '2000-02-27', '2000-03-05', '2000-03-12', '2000-03-19',\n",
       "               '2000-03-26', '2000-04-02', '2000-04-09', '2000-04-16',\n",
       "               '2000-04-23', '2000-04-30', '2000-05-07', '2000-05-14',\n",
       "               '2000-05-21', '2000-05-28', '2000-06-04', '2000-06-11',\n",
       "               '2000-06-18', '2000-06-25', '2000-07-02', '2000-07-09',\n",
       "               '2000-07-16', '2000-07-23', '2000-07-30', '2000-08-06',\n",
       "               '2000-08-13', '2000-08-20', '2000-08-27', '2000-09-03',\n",
       "               '2000-09-10', '2000-09-17', '2000-09-24', '2000-10-01',\n",
       "               '2000-10-08', '2000-10-15', '2000-10-22', '2000-10-29',\n",
       "               '2000-11-05', '2000-11-12', '2000-11-19', '2000-11-26',\n",
       "               '2000-12-03', '2000-12-10', '2000-12-17', '2000-12-24',\n",
       "               '2000-12-31', '2001-01-07', '2001-01-14', '2001-01-21',\n",
       "               '2001-01-28', '2001-02-04', '2001-02-11', '2001-02-18',\n",
       "               '2001-02-25', '2001-03-04', '2001-03-11', '2001-03-18',\n",
       "               '2001-03-25', '2001-04-01', '2001-04-08', '2001-04-15',\n",
       "               '2001-04-22', '2001-04-29', '2001-05-06', '2001-05-13',\n",
       "               '2001-05-20', '2001-05-27', '2001-06-03', '2001-06-10',\n",
       "               '2001-06-17', '2001-06-24', '2001-07-01', '2001-07-08',\n",
       "               '2001-07-15', '2001-07-22', '2001-07-29', '2001-08-05',\n",
       "               '2001-08-12', '2001-08-19', '2001-08-26', '2001-09-02',\n",
       "               '2001-09-09', '2001-09-16', '2001-09-23', '2001-09-30',\n",
       "               '2001-10-07', '2001-10-14', '2001-10-21', '2001-10-28',\n",
       "               '2001-11-04', '2001-11-11', '2001-11-18', '2001-11-25'],\n",
       "              dtype='datetime64[ns]', freq='W-SUN')"
      ]
     },
     "execution_count": 59,
     "metadata": {},
     "output_type": "execute_result"
    }
   ],
   "source": [
    "week_data"
   ]
  },
  {
   "cell_type": "code",
   "execution_count": 60,
   "id": "a37b5e1a-af67-4021-9639-129254056ade",
   "metadata": {},
   "outputs": [
    {
     "data": {
      "text/plain": [
       "datetime.datetime(2000, 1, 2, 0, 0)"
      ]
     },
     "execution_count": 60,
     "metadata": {},
     "output_type": "execute_result"
    }
   ],
   "source": [
    "datetime.strptime('2000-jan-02','%Y-%b-%d')"
   ]
  },
  {
   "cell_type": "code",
   "execution_count": 61,
   "id": "16c6302c-1b79-417a-a408-04b1c34d4334",
   "metadata": {},
   "outputs": [
    {
     "data": {
      "text/plain": [
       "Timestamp('2021-08-02 00:00:00')"
      ]
     },
     "execution_count": 61,
     "metadata": {},
     "output_type": "execute_result"
    }
   ],
   "source": [
    "pd.to_datetime('02-aug-2021')"
   ]
  }
 ],
 "metadata": {
  "kernelspec": {
   "display_name": "Python 3",
   "language": "python",
   "name": "python3"
  },
  "language_info": {
   "codemirror_mode": {
    "name": "ipython",
    "version": 3
   },
   "file_extension": ".py",
   "mimetype": "text/x-python",
   "name": "python",
   "nbconvert_exporter": "python",
   "pygments_lexer": "ipython3",
   "version": "3.8.8"
  }
 },
 "nbformat": 4,
 "nbformat_minor": 5
}
