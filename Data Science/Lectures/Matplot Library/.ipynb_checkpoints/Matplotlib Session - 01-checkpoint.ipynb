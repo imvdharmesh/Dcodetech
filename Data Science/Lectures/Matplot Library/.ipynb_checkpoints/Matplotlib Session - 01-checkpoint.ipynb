{
 "cells": [
  {
   "cell_type": "raw",
   "id": "89e22b3a-8cf6-4850-92f1-b11b10a3d6ff",
   "metadata": {},
   "source": [
    "Date - 16/08/2021  11:00 AM to 01:00 PM"
   ]
  },
  {
   "cell_type": "markdown",
   "id": "bbc0d5f0",
   "metadata": {},
   "source": [
    "## Matplotlib Library\n",
    "    Matplotlib is one of the most popular Python Package used for Data Visualization.\n",
    "    We can make cross platform 2D Plots from the data in array.\n",
    "    We can export visualization to all common formats such as PNG, JPG, PDF, GIF etc.\n",
    "    Current Matplotlib supports 3D plotting as well.\n",
    "    It was created by John Hunter in the year 2002."
   ]
  },
  {
   "cell_type": "markdown",
   "id": "3afbad78-b0d1-4c4a-8601-d3ccf28aba28",
   "metadata": {},
   "source": [
    "### Install Matplotlib Library"
   ]
  },
  {
   "cell_type": "code",
   "execution_count": 1,
   "id": "4acdc6c5-6f5b-46e5-9af4-3b7aef70ce56",
   "metadata": {},
   "outputs": [],
   "source": [
    "#!pip install matplotlib"
   ]
  },
  {
   "cell_type": "markdown",
   "id": "3b778db3-4e2d-480d-9fcd-79537faf7268",
   "metadata": {},
   "source": [
    "### Importing Matplotlib Library"
   ]
  },
  {
   "cell_type": "code",
   "execution_count": 2,
   "id": "26468806-035e-4dde-bcbb-216017069d53",
   "metadata": {},
   "outputs": [],
   "source": [
    "import matplotlib.pyplot as plt"
   ]
  },
  {
   "cell_type": "markdown",
   "id": "8084eaaa-9ec7-4141-93ba-6be49978cf66",
   "metadata": {},
   "source": [
    "### Types of Plots"
   ]
  },
  {
   "cell_type": "markdown",
   "id": "9b6e0a82",
   "metadata": {},
   "source": [
    "    Function                  Description\n",
    "\n",
    "    bar            -       Makes a Bar Plot,\n",
    "    barh           -       Makes a Horizontal Bar Plot,\n",
    "    boxplot        -       Makes a Box & a Whisker Plot,\n",
    "    hist           -       Makes a Histogram Plot,\n",
    "    hist2d         -       Makes a 2D Histogram Plot,\n",
    "    pie            -       Makes a Pie Chart,\n",
    "    plot           -       Makes a Line on the axes,\n",
    "    polar          -       Makes a Polar Plot,\n",
    "    scatter        -       Makes a Scatter Plot of X vs Y,\n",
    "    stackplot      -       Draw a Stacked area Plot,\n",
    "    stem           -       Create a Stem Plot,\n",
    "    step           -       Create a Step Plot,\n"
   ]
  },
  {
   "cell_type": "markdown",
   "id": "aa4d5eba-c9ac-41bf-9038-ee354dba3dcc",
   "metadata": {},
   "source": [
    "### Axis Function"
   ]
  },
  {
   "cell_type": "markdown",
   "id": "d77ec950",
   "metadata": {},
   "source": [
    "    axes                 -       Adds axes to the figure,\n",
    "    text                 -       Add text to the axes,\n",
    "    title                -       Set the Title of the current axes,\n",
    "    xlabel               -       Set the x-axis label,\n",
    "    xlim                 -       Set the limit of current x-axis,\n",
    "    xscale               -       Set the scaling of the x-axis,\n",
    "    xticks               -       Get or Set the x-limit of the current tick location & labels,\n",
    "    ylabel               -       Set the y-axis label,\n",
    "    ylim                 -       Set the limit of current y-axis,\n",
    "    yscale               -       Set the scaling of the y-axis,\n",
    "    yticks               -       Get or Set the y-limit of the current tick location & labels,"
   ]
  },
  {
   "cell_type": "markdown",
   "id": "a35758cb",
   "metadata": {},
   "source": [
    "##### figure():-\n",
    "    \n",
    "    A figure object is the outermost container for a Matplotlib Plot.\n",
    "    The figure object contains multiple axes objects.\n",
    "    The figure is the final graphic that may contain one or more than one axes.\n",
    "    The axes represent an individual plot."
   ]
  },
  {
   "cell_type": "markdown",
   "id": "410e6573-e281-476c-bb29-0bb1efe22247",
   "metadata": {},
   "source": [
    "### Working with Matplotlib"
   ]
  },
  {
   "cell_type": "code",
   "execution_count": 3,
   "id": "2d4762b9-38ec-4311-82bb-e1ed6e450122",
   "metadata": {},
   "outputs": [],
   "source": [
    "import numpy as np\n",
    "import pandas as pd"
   ]
  },
  {
   "cell_type": "code",
   "execution_count": 4,
   "id": "4e881358-5f55-4ade-bb56-35bc23150c9a",
   "metadata": {},
   "outputs": [],
   "source": [
    "import matplotlib.pyplot as plt"
   ]
  },
  {
   "cell_type": "code",
   "execution_count": 5,
   "id": "a9bb673c-a22d-4681-9212-e0732ac34efb",
   "metadata": {},
   "outputs": [],
   "source": [
    "x1 = np.linspace(0,10,100)"
   ]
  },
  {
   "cell_type": "markdown",
   "id": "caa05d31-1171-45c5-9783-0fcfa7946b4c",
   "metadata": {},
   "source": [
    "### Plot"
   ]
  },
  {
   "cell_type": "code",
   "execution_count": 6,
   "id": "ca0afe96-7ab0-4f7f-92b1-5e770ef64f2e",
   "metadata": {},
   "outputs": [
    {
     "data": {
      "text/plain": [
       "[<matplotlib.lines.Line2D at 0xf4afd1be20>]"
      ]
     },
     "execution_count": 6,
     "metadata": {},
     "output_type": "execute_result"
    },
    {
     "data": {
      "image/png": "[encoded data removed]",
      "text/plain": [
       "<Figure size 432x288 with 1 Axes>"
      ]
     },
     "metadata": {
      "needs_background": "light"
     },
     "output_type": "display_data"
    }
   ],
   "source": [
    "fig = plt.figure()\n",
    "plt.plot(x1, np.sin(x1), '.')\n",
    "plt.plot(x1, np.cos(x1), '--')"
   ]
  },
  {
   "cell_type": "code",
   "execution_count": 7,
   "id": "2acf826d-6d66-43cf-a15e-915777f34061",
   "metadata": {},
   "outputs": [],
   "source": [
    "import math"
   ]
  },
  {
   "cell_type": "code",
   "execution_count": 8,
   "id": "bbffafab-dde2-440d-a5cc-13a09ece8197",
   "metadata": {},
   "outputs": [
    {
     "data": {
      "text/plain": [
       "array([0.  , 0.05, 0.1 , 0.15, 0.2 , 0.25, 0.3 , 0.35, 0.4 , 0.45, 0.5 ,\n",
       "       0.55, 0.6 , 0.65, 0.7 , 0.75, 0.8 , 0.85, 0.9 , 0.95, 1.  , 1.05,\n",
       "       1.1 , 1.15, 1.2 , 1.25, 1.3 , 1.35, 1.4 , 1.45, 1.5 , 1.55, 1.6 ,\n",
       "       1.65, 1.7 , 1.75, 1.8 , 1.85, 1.9 , 1.95, 2.  , 2.05, 2.1 , 2.15,\n",
       "       2.2 , 2.25, 2.3 , 2.35, 2.4 , 2.45, 2.5 , 2.55, 2.6 , 2.65, 2.7 ,\n",
       "       2.75, 2.8 , 2.85, 2.9 , 2.95, 3.  , 3.05, 3.1 , 3.15, 3.2 , 3.25,\n",
       "       3.3 , 3.35, 3.4 , 3.45, 3.5 , 3.55, 3.6 , 3.65, 3.7 , 3.75, 3.8 ,\n",
       "       3.85, 3.9 , 3.95, 4.  , 4.05, 4.1 , 4.15, 4.2 , 4.25, 4.3 , 4.35,\n",
       "       4.4 , 4.45, 4.5 , 4.55, 4.6 , 4.65, 4.7 , 4.75, 4.8 , 4.85, 4.9 ,\n",
       "       4.95, 5.  , 5.05, 5.1 , 5.15, 5.2 , 5.25, 5.3 , 5.35, 5.4 , 5.45,\n",
       "       5.5 , 5.55, 5.6 , 5.65, 5.7 , 5.75, 5.8 , 5.85, 5.9 , 5.95, 6.  ,\n",
       "       6.05, 6.1 , 6.15, 6.2 , 6.25])"
      ]
     },
     "execution_count": 8,
     "metadata": {},
     "output_type": "execute_result"
    }
   ],
   "source": [
    "x = np.arange(0, math.pi*2, 0.05)\n",
    "x"
   ]
  },
  {
   "cell_type": "code",
   "execution_count": 9,
   "id": "1b444f19-4c58-4b87-bd89-5588e29dcab9",
   "metadata": {},
   "outputs": [
    {
     "data": {
      "text/plain": [
       "array([ 0.        ,  0.04997917,  0.09983342,  0.14943813,  0.19866933,\n",
       "        0.24740396,  0.29552021,  0.34289781,  0.38941834,  0.43496553,\n",
       "        0.47942554,  0.52268723,  0.56464247,  0.60518641,  0.64421769,\n",
       "        0.68163876,  0.71735609,  0.75128041,  0.78332691,  0.8134155 ,\n",
       "        0.84147098,  0.86742323,  0.89120736,  0.91276394,  0.93203909,\n",
       "        0.94898462,  0.96355819,  0.97572336,  0.98544973,  0.99271299,\n",
       "        0.99749499,  0.99978376,  0.9995736 ,  0.99686503,  0.99166481,\n",
       "        0.98398595,  0.97384763,  0.9612752 ,  0.94630009,  0.92895972,\n",
       "        0.90929743,  0.88736237,  0.86320937,  0.83689879,  0.8084964 ,\n",
       "        0.7780732 ,  0.74570521,  0.71147335,  0.67546318,  0.6377647 ,\n",
       "        0.59847214,  0.55768372,  0.51550137,  0.47203054,  0.42737988,\n",
       "        0.38166099,  0.33498815,  0.28747801,  0.23924933,  0.19042265,\n",
       "        0.14112001,  0.09146464,  0.04158066, -0.00840725, -0.05837414,\n",
       "       -0.10819513, -0.15774569, -0.20690197, -0.2555411 , -0.30354151,\n",
       "       -0.35078323, -0.39714817, -0.44252044, -0.48678665, -0.52983614,\n",
       "       -0.57156132, -0.61185789, -0.65062514, -0.68776616, -0.72318812,\n",
       "       -0.7568025 , -0.78852525, -0.81827711, -0.8459837 , -0.87157577,\n",
       "       -0.89498936, -0.91616594, -0.93505258, -0.95160207, -0.96577306,\n",
       "       -0.97753012, -0.98684386, -0.993691  , -0.99805444, -0.99992326,\n",
       "       -0.99929279, -0.99616461, -0.99054654, -0.98245261, -0.97190307,\n",
       "       -0.95892427, -0.94354867, -0.92581468, -0.90576664, -0.88345466,\n",
       "       -0.85893449, -0.83226744, -0.80352016, -0.77276449, -0.74007731,\n",
       "       -0.70554033, -0.66923986, -0.63126664, -0.59171558, -0.55068554,\n",
       "       -0.50827908, -0.46460218, -0.41976402, -0.37387666, -0.32705481,\n",
       "       -0.2794155 , -0.23107779, -0.1821625 , -0.13279191, -0.0830894 ,\n",
       "       -0.03317922])"
      ]
     },
     "execution_count": 9,
     "metadata": {},
     "output_type": "execute_result"
    }
   ],
   "source": [
    "y = np.sin(x)\n",
    "y"
   ]
  },
  {
   "cell_type": "code",
   "execution_count": 11,
   "id": "f832c666-c08b-4c7f-a6e1-a881bbd18f2a",
   "metadata": {},
   "outputs": [
    {
     "data": {
      "text/plain": [
       "Text(0.5, 1.0, 'Sine Plot')"
      ]
     },
     "execution_count": 11,
     "metadata": {},
     "output_type": "execute_result"
    },
    {
     "data": {
      "image/png": "[encoded data removed]",
      "text/plain": [
       "<Figure size 432x288 with 1 Axes>"
      ]
     },
     "metadata": {
      "needs_background": "light"
     },
     "output_type": "display_data"
    }
   ],
   "source": [
    "plt.plot(x, y)\n",
    "plt.xlabel('Angel')\n",
    "plt.ylabel('Sine')\n",
    "plt.title('Sine Plot')"
   ]
  },
  {
   "cell_type": "markdown",
   "id": "d74666dc",
   "metadata": {},
   "source": [
    "**Colour Code:**\n",
    "    \n",
    "    r,g,b,c,m,y,k,w\n",
    "\n",
    "**Design:**\n",
    "    \n",
    "    -\n",
    "    --\n",
    "    -.\n",
    "    .\n",
    "    ,\n",
    "    o\n",
    "    ^\n",
    "    v\n",
    "    <\n",
    "    >\n",
    "    s\n",
    "    +\n",
    "    x\n",
    "    D\n",
    "    d\n",
    "    1\n",
    "    2\n",
    "    3\n",
    "    4\n",
    "    H\n",
    "    h\n",
    "    P\n",
    "    |\n",
    "    _"
   ]
  },
  {
   "cell_type": "code",
   "execution_count": 12,
   "id": "f4ea96dc-5fea-4ce6-9a07-159c9f385f7c",
   "metadata": {},
   "outputs": [
    {
     "data": {
      "text/plain": [
       "array([-3.        , -2.79310345, -2.5862069 , -2.37931034, -2.17241379,\n",
       "       -1.96551724, -1.75862069, -1.55172414, -1.34482759, -1.13793103,\n",
       "       -0.93103448, -0.72413793, -0.51724138, -0.31034483, -0.10344828,\n",
       "        0.10344828,  0.31034483,  0.51724138,  0.72413793,  0.93103448,\n",
       "        1.13793103,  1.34482759,  1.55172414,  1.75862069,  1.96551724,\n",
       "        2.17241379,  2.37931034,  2.5862069 ,  2.79310345,  3.        ])"
      ]
     },
     "execution_count": 12,
     "metadata": {},
     "output_type": "execute_result"
    }
   ],
   "source": [
    "x = np.linspace(-3, 3, 30)\n",
    "x"
   ]
  },
  {
   "cell_type": "code",
   "execution_count": 13,
   "id": "e21e4eca-fbaf-457a-84ac-b72ba0de5004",
   "metadata": {},
   "outputs": [
    {
     "data": {
      "text/plain": [
       "array([9.        , 7.80142687, 6.68846611, 5.66111772, 4.71938169,\n",
       "       3.86325803, 3.09274673, 2.4078478 , 1.80856124, 1.29488704,\n",
       "       0.86682521, 0.52437574, 0.26753864, 0.09631391, 0.01070155,\n",
       "       0.01070155, 0.09631391, 0.26753864, 0.52437574, 0.86682521,\n",
       "       1.29488704, 1.80856124, 2.4078478 , 3.09274673, 3.86325803,\n",
       "       4.71938169, 5.66111772, 6.68846611, 7.80142687, 9.        ])"
      ]
     },
     "execution_count": 13,
     "metadata": {},
     "output_type": "execute_result"
    }
   ],
   "source": [
    "y = x ** 2\n",
    "y"
   ]
  },
  {
   "cell_type": "code",
   "execution_count": 14,
   "id": "f03fe167-dfe4-4c48-86bc-905ca96ebe4a",
   "metadata": {},
   "outputs": [
    {
     "data": {
      "image/png": "[encoded data removed]",
      "text/plain": [
       "<Figure size 432x288 with 1 Axes>"
      ]
     },
     "metadata": {
      "needs_background": "light"
     },
     "output_type": "display_data"
    }
   ],
   "source": [
    "plt.plot(x, y, 'rd')\n",
    "plt.xlabel('X-Axis')\n",
    "plt.ylabel('Y-Axis')\n",
    "plt.show()"
   ]
  },
  {
   "cell_type": "code",
   "execution_count": 15,
   "id": "a2f207d6-f486-4f07-886f-2b3f12777a10",
   "metadata": {},
   "outputs": [],
   "source": [
    "y = [1,4,9,16,25,36,49,64]\n",
    "x1 = [1,16,30,42,55,68,77,88]\n",
    "x2 = [1,6,12,18,28,40,52,65]"
   ]
  },
  {
   "cell_type": "code",
   "execution_count": 16,
   "id": "15e6b33a-fd63-451c-a318-625292f503bc",
   "metadata": {},
   "outputs": [
    {
     "data": {
      "image/png": "[encoded data removed]",
      "text/plain": [
       "<Figure size 864x360 with 1 Axes>"
      ]
     },
     "metadata": {
      "needs_background": "light"
     },
     "output_type": "display_data"
    }
   ],
   "source": [
    "f = plt.figure()\n",
    "f.set_figwidth(12)\n",
    "f.set_figheight(5)\n",
    "plt.plot(x1, y, 'ys-')\n",
    "plt.plot(x2, y, 'go--')\n",
    "plt.legend(['Tv','Mobile'])\n",
    "plt.title('Ads Effect On Sales')\n",
    "plt.xlabel('Medium')\n",
    "plt.ylabel('Sales')\n",
    "plt.show()"
   ]
  },
  {
   "cell_type": "markdown",
   "id": "1d5ef680-065e-4fd5-a2fc-db91eabb72d7",
   "metadata": {},
   "source": [
    "### Save A Figure"
   ]
  },
  {
   "cell_type": "code",
   "execution_count": 17,
   "id": "b1929dd4-c133-403a-be8c-a2fc4168c87a",
   "metadata": {},
   "outputs": [],
   "source": [
    "f.savefig('ads.png')"
   ]
  },
  {
   "cell_type": "code",
   "execution_count": 18,
   "id": "82bdac4f-c341-4924-b94e-68d90bd5ad96",
   "metadata": {},
   "outputs": [
    {
     "data": {
      "text/plain": [
       "array([0.        , 0.02020202, 0.04040404, 0.06060606, 0.08080808,\n",
       "       0.1010101 , 0.12121212, 0.14141414, 0.16161616, 0.18181818,\n",
       "       0.2020202 , 0.22222222, 0.24242424, 0.26262626, 0.28282828,\n",
       "       0.3030303 , 0.32323232, 0.34343434, 0.36363636, 0.38383838,\n",
       "       0.4040404 , 0.42424242, 0.44444444, 0.46464646, 0.48484848,\n",
       "       0.50505051, 0.52525253, 0.54545455, 0.56565657, 0.58585859,\n",
       "       0.60606061, 0.62626263, 0.64646465, 0.66666667, 0.68686869,\n",
       "       0.70707071, 0.72727273, 0.74747475, 0.76767677, 0.78787879,\n",
       "       0.80808081, 0.82828283, 0.84848485, 0.86868687, 0.88888889,\n",
       "       0.90909091, 0.92929293, 0.94949495, 0.96969697, 0.98989899,\n",
       "       1.01010101, 1.03030303, 1.05050505, 1.07070707, 1.09090909,\n",
       "       1.11111111, 1.13131313, 1.15151515, 1.17171717, 1.19191919,\n",
       "       1.21212121, 1.23232323, 1.25252525, 1.27272727, 1.29292929,\n",
       "       1.31313131, 1.33333333, 1.35353535, 1.37373737, 1.39393939,\n",
       "       1.41414141, 1.43434343, 1.45454545, 1.47474747, 1.49494949,\n",
       "       1.51515152, 1.53535354, 1.55555556, 1.57575758, 1.5959596 ,\n",
       "       1.61616162, 1.63636364, 1.65656566, 1.67676768, 1.6969697 ,\n",
       "       1.71717172, 1.73737374, 1.75757576, 1.77777778, 1.7979798 ,\n",
       "       1.81818182, 1.83838384, 1.85858586, 1.87878788, 1.8989899 ,\n",
       "       1.91919192, 1.93939394, 1.95959596, 1.97979798, 2.        ])"
      ]
     },
     "execution_count": 18,
     "metadata": {},
     "output_type": "execute_result"
    }
   ],
   "source": [
    "x_data = np.linspace(0,2,100)\n",
    "x_data"
   ]
  },
  {
   "cell_type": "code",
   "execution_count": 19,
   "id": "9ace6dde-5a9d-495d-a2e5-d0fdb5903db0",
   "metadata": {},
   "outputs": [
    {
     "data": {
      "image/png": "[encoded data removed]",
      "text/plain": [
       "<Figure size 432x288 with 1 Axes>"
      ]
     },
     "metadata": {
      "needs_background": "light"
     },
     "output_type": "display_data"
    }
   ],
   "source": [
    "plt.plot(x, x, label='linear')\n",
    "plt.plot(x, x**2, label='quadratic')\n",
    "plt.plot(x, x**3, label='cubic')\n",
    "plt.xlabel('X-Label')\n",
    "plt.ylabel('Y-Label')\n",
    "plt.title('Sample Plot')\n",
    "plt.legend()\n",
    "plt.show()"
   ]
  },
  {
   "cell_type": "markdown",
   "id": "ad958310-0c11-4db3-a7bb-a3014fbbe95e",
   "metadata": {},
   "source": [
    "### Subplots"
   ]
  },
  {
   "cell_type": "code",
   "execution_count": 18,
   "id": "25fcb9b7-95bb-43e1-9651-bd2bd1d185e4",
   "metadata": {},
   "outputs": [
    {
     "data": {
      "text/plain": [
       "[<matplotlib.lines.Line2D at 0x1d750b3be0>]"
      ]
     },
     "execution_count": 18,
     "metadata": {},
     "output_type": "execute_result"
    },
    {
     "data": {
      "image/png": "[encoded data removed]",
      "text/plain": [
       "<Figure size 432x288 with 2 Axes>"
      ]
     },
     "metadata": {
      "needs_background": "light"
     },
     "output_type": "display_data"
    }
   ],
   "source": [
    "plt.figure()\n",
    "plt.subplot(2,1,1)\n",
    "plt.plot(x1, np.sin(x1))\n",
    "\n",
    "plt.subplot(2,1,2)\n",
    "plt.plot(x1, np.cos(x1))"
   ]
  },
  {
   "cell_type": "code",
   "execution_count": 20,
   "id": "a40c9a4b-c1e0-4c96-b0ce-224d3975eac5",
   "metadata": {},
   "outputs": [
    {
     "data": {
      "text/plain": [
       "array([1, 2, 3, 4, 5, 6, 7, 8, 9])"
      ]
     },
     "execution_count": 20,
     "metadata": {},
     "output_type": "execute_result"
    }
   ],
   "source": [
    "x = np.arange(1,10)\n",
    "x"
   ]
  },
  {
   "cell_type": "code",
   "execution_count": 21,
   "id": "714ff21e-5c56-4f7c-95a5-811f41bbafbd",
   "metadata": {},
   "outputs": [
    {
     "data": {
      "image/png": "[encoded data removed]",
      "text/plain": [
       "<Figure size 432x288 with 4 Axes>"
      ]
     },
     "metadata": {
      "needs_background": "light"
     },
     "output_type": "display_data"
    }
   ],
   "source": [
    "fig = plt.figure()\n",
    "\n",
    "ax1 = fig.add_subplot(2,2,1)\n",
    "ax1.plot(x, x*x, 'ro-')\n",
    "ax1.set_title('Graph-A')\n",
    "\n",
    "ax2 = fig.add_subplot(2,2,2)\n",
    "ax2.plot(x, np.sin(x), 'yv-')\n",
    "ax2.set_title('Graph-B')\n",
    "\n",
    "ax3 = fig.add_subplot(2,2,3)\n",
    "ax3.plot(x, np.exp(x), 'b^-')\n",
    "ax3.set_title('Graph-C')\n",
    "\n",
    "ax4 = fig.add_subplot(2,2,4)\n",
    "ax4.plot(x, np.log10(x), 'k+-')\n",
    "ax4.set_title('Graph-D')\n",
    "\n",
    "plt.show()"
   ]
  },
  {
   "cell_type": "markdown",
   "id": "82433697-6803-4234-9dbc-cb1ffad24639",
   "metadata": {},
   "source": [
    "### Histogram"
   ]
  },
  {
   "cell_type": "code",
   "execution_count": 22,
   "id": "d5cce2e4-b694-450a-8041-cd62af28928c",
   "metadata": {},
   "outputs": [
    {
     "data": {
      "text/plain": [
       "array([ 1.67616499e+00, -8.43301140e-01, -6.76910970e-01,  2.73454821e-01,\n",
       "        8.86120785e-01, -2.99910921e-01, -4.00738554e-01, -1.31669176e-01,\n",
       "       -6.38688080e-01, -2.12082585e-01, -9.98701026e-01, -3.42409845e-01,\n",
       "        1.18703159e+00,  1.14360797e+00, -4.73773636e-01,  2.71838004e+00,\n",
       "        6.11190461e-01,  5.47417387e-03, -4.68154376e-01, -1.55966422e+00,\n",
       "        7.16636968e-01,  1.42532222e+00,  1.31545706e+00,  9.92839587e-02,\n",
       "        5.45606935e-02, -1.77187399e+00,  6.67219377e-01,  2.13376808e-01,\n",
       "        1.72532246e+00,  1.33974910e-01, -1.78723995e+00, -2.23840406e+00,\n",
       "       -8.72011817e-01, -5.53808614e-01, -3.37045113e-02, -7.73686579e-01,\n",
       "        1.21805334e+00, -1.39345458e-01,  2.00236247e-02,  1.86299086e+00,\n",
       "        1.63956182e-01, -1.43105642e+00, -4.72753281e-01,  3.85417590e-02,\n",
       "       -1.22647884e+00, -9.21117979e-02, -6.88610004e-01,  4.62726920e-01,\n",
       "       -1.06310156e+00, -5.84886181e-01,  1.87915294e-03, -4.76239661e-01,\n",
       "       -8.49393185e-01, -1.99571747e-01, -6.16592802e-01,  1.90801766e+00,\n",
       "       -9.10875135e-01,  9.70795157e-01,  8.06791175e-01,  2.90359331e-01,\n",
       "       -9.45300191e-01,  2.95288500e+00, -1.96971325e+00,  8.37415689e-01,\n",
       "        2.54666489e-02, -1.31698971e+00, -2.00747784e+00, -5.49328354e-01,\n",
       "        5.54114550e-02,  7.30000538e-01,  5.64800601e-01,  7.19964476e-01,\n",
       "        2.27821077e+00, -2.17491361e+00,  1.06133591e+00,  6.31846714e-01,\n",
       "       -1.42319280e+00, -1.40344048e-01,  4.65917278e-01, -1.42820406e+00,\n",
       "        1.43037017e+00, -1.94352544e+00, -1.86277484e+00,  7.71835235e-01,\n",
       "        7.19319018e-01, -8.44586068e-02, -1.35301173e+00, -5.45117347e-01,\n",
       "       -1.36871697e-01, -1.19749232e+00,  5.07412404e-01,  4.35047135e-01,\n",
       "        1.62488097e+00,  7.40702990e-02, -1.26979542e+00, -5.59249742e-02,\n",
       "        1.15850217e+00,  4.63893875e-01,  5.19903971e-01,  1.01163621e+00,\n",
       "        7.27333980e-01,  1.02330978e+00,  4.42244321e-01,  1.02814934e-01,\n",
       "       -7.64450280e-01,  4.68956470e-01,  1.09864740e+00,  1.09733488e+00,\n",
       "       -1.11348485e+00,  9.49002067e-01, -1.26027928e+00, -9.41431515e-01,\n",
       "       -7.57112085e-01, -5.62289784e-01,  3.94542572e-01, -5.73391039e-01,\n",
       "        1.19357892e+00, -1.64056647e-01, -1.65132426e+00, -1.58029302e+00,\n",
       "        2.89011807e-01,  1.49880861e+00,  4.82229572e-01, -2.81777757e-01,\n",
       "        1.14142385e-01,  1.14878729e+00,  9.13177085e-01, -2.68673907e-01,\n",
       "       -7.84458595e-01,  4.84643793e-01, -1.12544066e+00,  3.76321675e-01,\n",
       "       -1.55980223e-01, -1.12086425e+00,  1.30914933e+00, -7.36826335e-02,\n",
       "       -1.76125122e+00, -1.70472105e+00, -1.73940294e-01,  2.42878832e+00,\n",
       "       -8.93323404e-01,  2.04352372e+00, -1.30235593e+00,  4.55905337e-01,\n",
       "       -7.83081690e-01,  6.20633158e-01,  6.41120360e-01, -1.07474716e-01,\n",
       "        6.00350932e-01,  5.37592263e-01,  3.89338359e-01,  7.17342380e-01,\n",
       "       -7.11950465e-01,  4.09473854e-01, -2.13829661e-01, -4.49820946e-01,\n",
       "        1.51410266e-02,  6.66369278e-01, -9.59600241e-02,  3.06624101e-01,\n",
       "       -1.12199738e+00, -2.22318793e-01, -2.46486694e-01,  8.59447495e-01,\n",
       "       -1.58660934e-01, -3.90116444e-01, -2.97521770e-01,  4.98955399e-01,\n",
       "        9.82391350e-01, -8.01736674e-01, -1.18316819e+00,  1.12752797e+00,\n",
       "       -1.55422797e+00,  2.23297170e-01,  2.38866965e-02, -7.58046801e-01,\n",
       "       -8.24256931e-01,  1.38425966e+00, -2.69434936e-01,  1.35853596e+00,\n",
       "       -7.99012856e-01, -3.41130751e-01,  3.35245599e-01, -5.58598099e-02,\n",
       "       -1.03259969e+00,  1.61588892e-01,  8.78110773e-02,  1.74035300e+00,\n",
       "        1.65585050e+00, -1.13188164e+00, -1.48528960e+00, -3.04806494e-01,\n",
       "       -1.41684900e+00, -1.45411784e-01,  1.11410395e+00,  1.92017375e+00,\n",
       "        3.93227717e-01,  1.29181999e+00,  9.90927750e-01, -4.30890398e-01,\n",
       "        5.41376790e-01, -1.29279883e+00,  5.75588216e-01, -1.35808985e+00,\n",
       "        1.21988422e-01,  2.90785017e-01,  7.06648034e-02, -5.59418003e-01,\n",
       "       -2.14505843e+00,  6.04615081e-01, -1.87953899e-01, -4.15435309e-01,\n",
       "        2.78698963e-01,  2.09955027e+00, -1.03884659e-01,  1.31145596e-01,\n",
       "       -1.56972543e+00, -8.90110655e-01,  4.36310416e-01, -4.99773418e-02,\n",
       "        3.09522113e-01,  8.48146196e-01, -7.10842736e-01,  2.11699465e+00,\n",
       "       -1.35417803e+00,  1.99710771e+00, -1.26950346e-01,  1.16480141e-01,\n",
       "       -3.29550137e-01, -9.50537460e-01,  4.79450684e-01,  6.38039114e-01,\n",
       "       -1.53259346e-02,  7.05736209e-02, -9.51182044e-01,  9.41601894e-01,\n",
       "       -9.04876649e-01, -9.40469677e-02, -3.10690520e-01,  2.73694069e-01,\n",
       "       -1.62088947e-01, -1.07202101e+00, -2.38710550e-02,  5.30333550e-01,\n",
       "        4.94405967e-01, -6.48534236e-01,  5.87221939e-01, -1.24397615e+00,\n",
       "       -1.92718141e-01,  5.44933048e-01,  1.20533312e+00,  1.56609091e+00,\n",
       "        4.60469336e-01,  6.75793395e-02,  2.21557163e-01, -1.39068699e+00,\n",
       "       -8.77580954e-01,  1.45295453e+00,  1.72858394e+00,  2.94862497e-01,\n",
       "        4.38217349e-01,  1.14660072e-01, -1.71496971e+00, -1.16167335e-01,\n",
       "        1.36311168e+00,  5.47766759e-01, -6.96934862e-01,  6.06756352e-01,\n",
       "       -8.75541679e-01,  2.65938137e-01,  9.60546967e-01,  3.73271684e-01,\n",
       "        1.14167889e+00,  1.00974143e+00, -1.40598863e+00,  5.17719466e-01,\n",
       "        2.86835147e-01, -3.39239416e-01,  2.28320437e+00,  1.00880921e+00,\n",
       "       -8.64333212e-03, -7.96145223e-01,  1.83389323e-01, -6.00384867e-01,\n",
       "        9.78329523e-01, -2.54883597e-01, -6.35419928e-01, -8.53382094e-01,\n",
       "       -1.67057930e+00, -6.44967325e-01, -3.93793107e-01, -1.62911259e+00,\n",
       "        1.02723784e+00,  1.06808072e+00, -2.10343261e+00, -1.54797042e+00,\n",
       "       -5.14357932e-02, -1.04342477e+00, -2.10249487e-01,  8.62614217e-01,\n",
       "       -4.48875204e-01,  1.14180490e+00,  7.75537760e-01, -7.87834683e-01,\n",
       "       -6.46745320e-01, -6.59825274e-01, -8.53657929e-01,  4.43943466e-01,\n",
       "       -1.47702205e-01, -9.03445809e-01, -4.33601217e-01,  5.76126080e-01,\n",
       "        2.64932778e-02, -6.67524248e-01,  1.35123553e+00,  2.05520037e+00,\n",
       "       -6.45024219e-01, -1.26252825e+00, -9.19978594e-02,  8.37544242e-01,\n",
       "        3.44593065e-01, -5.68676511e-01, -8.27102571e-01, -4.21563470e-01,\n",
       "       -7.56278164e-01,  6.43210226e-02, -4.70433903e-01, -6.35299483e-01,\n",
       "       -3.23730555e-01, -3.97027303e-01,  2.08811588e-01,  1.97261263e+00,\n",
       "       -5.39024429e-01,  1.60669160e+00,  3.23403630e-01,  1.30818515e-04,\n",
       "       -1.05170680e+00, -1.04526491e+00,  4.22175614e-01,  2.59843025e-01,\n",
       "       -1.59973736e+00,  9.26267311e-01, -5.87190919e-01,  2.44015727e-01,\n",
       "        3.48185675e-01,  5.57565104e-02, -1.79550820e+00,  1.46691335e-01,\n",
       "       -2.12103717e-01,  2.96594200e-01, -5.28297934e-01,  1.06132968e+00,\n",
       "       -6.49806046e-01,  2.81899246e-01, -3.49187220e-01,  9.97198660e-01,\n",
       "       -1.37166719e+00,  8.61533149e-01, -6.09781680e-01,  3.98082912e-01,\n",
       "       -1.15101094e-01,  7.79673001e-01,  3.29290338e-01,  1.84600722e-01,\n",
       "        1.02675922e+00, -8.49759048e-01, -2.25033863e+00,  1.49346205e+00,\n",
       "       -8.74372931e-01, -4.44724700e-01,  2.47691958e-01,  4.21075351e-01,\n",
       "        2.52756369e+00, -9.64183924e-01,  3.87971354e-01,  4.81532095e-01,\n",
       "       -3.80086413e-01, -9.03434489e-01,  6.00407534e-01, -3.98186716e-02,\n",
       "       -6.92869104e-03, -3.87924831e-01, -1.88731066e+00, -4.54196213e-01,\n",
       "        2.52357902e-01, -1.23599881e+00,  6.18174568e-02,  7.70005989e-01,\n",
       "        1.22316065e+00,  4.83804597e-01, -4.95081578e-01, -7.96653815e-01,\n",
       "       -1.39713773e+00, -2.05986840e+00, -1.17428675e+00, -6.09803871e-01,\n",
       "       -7.51717002e-01,  6.96781377e-01,  7.02717686e-01,  5.32401304e-01,\n",
       "       -7.44359253e-01, -1.29132812e+00, -2.37848277e+00, -1.19156337e+00,\n",
       "        1.80171023e+00, -1.85791495e+00,  3.84495417e-01, -1.40387380e-01,\n",
       "        1.44099073e+00,  6.55082743e-01, -9.51842529e-01,  6.73520880e-01,\n",
       "        3.62929242e-01,  9.65836776e-01, -1.64450955e+00,  3.65275611e-01,\n",
       "        7.74450986e-02, -1.09957025e+00, -3.10043817e-01,  2.06572993e-02,\n",
       "       -8.51181188e-01, -1.08819965e+00,  2.59371021e-01,  1.66115912e+00,\n",
       "        6.23967529e-01, -2.02607801e+00,  8.07803098e-01,  7.80942019e-01,\n",
       "       -2.96685593e-01, -9.79956939e-01,  3.09154501e-01, -2.77982448e-01,\n",
       "       -2.18962808e-01, -9.10063501e-01, -9.99660855e-02, -1.64319648e+00,\n",
       "        2.26978377e-01,  1.54947717e+00,  7.90323682e-01,  1.14669778e+00,\n",
       "       -3.41066312e-01,  7.63598217e-01,  1.78711521e-01,  9.90851182e-01,\n",
       "        5.87289170e-01, -3.13255143e-02, -1.71201920e-01,  1.13633841e+00,\n",
       "       -1.09862568e+00,  3.58846332e-01, -2.16812691e+00, -9.80550199e-01,\n",
       "       -2.46928808e-02, -1.27224970e+00,  7.27330041e-01, -8.35041570e-01,\n",
       "        3.88638484e-01, -1.18337061e+00, -1.32972557e+00,  9.59537533e-01,\n",
       "        6.37643159e-01, -3.02497129e-01,  3.00621404e-01,  9.08806881e-01,\n",
       "        1.51572373e-01,  1.18604226e-01, -3.91826027e-01,  1.87582968e-01,\n",
       "        1.70211254e-01,  4.95787892e-03, -1.64770179e+00, -6.21322154e-01,\n",
       "        2.61557308e+00, -2.98750374e+00, -9.36626860e-01, -5.65461755e-01,\n",
       "        1.70006825e+00,  5.14875733e-01, -3.56651816e-01,  2.02651105e+00,\n",
       "       -7.53813583e-01, -3.16367455e-01,  8.39880867e-01,  5.43789416e-01,\n",
       "       -1.56410975e+00,  7.80308532e-01, -1.34139567e+00, -5.64129715e-01,\n",
       "        5.83805207e-01, -2.77007472e-02,  4.93905962e-01,  1.22742795e-01,\n",
       "       -3.34601052e-01,  1.32906827e+00,  7.36447982e-01, -6.72641971e-01,\n",
       "        1.55236922e+00, -2.60073782e-01, -3.00435925e+00, -1.82953693e+00,\n",
       "        1.84362168e+00, -1.19018881e+00, -1.43484972e-01,  4.02651881e-02,\n",
       "       -4.50019259e-01, -1.81629364e+00,  9.05224704e-02,  3.71210305e-01,\n",
       "       -1.99513516e+00,  3.26934120e-03, -2.54628972e-01, -4.13935238e-02,\n",
       "       -3.64241567e-01,  8.73868555e-01, -1.79231724e+00,  2.49360712e+00,\n",
       "        1.50301321e-02, -3.37643989e-01, -7.31322372e-01,  1.92807163e+00,\n",
       "        3.19018571e-01,  1.49652081e+00, -2.46105252e+00, -1.67542002e+00,\n",
       "        5.36697156e-01,  1.02172631e+00,  7.73791859e-01,  5.90983707e-01,\n",
       "       -1.65062317e-01,  7.37910242e-01,  3.41680453e-01, -8.68753152e-01,\n",
       "        8.38344204e-01,  2.04673497e-01, -1.06645835e-02, -8.55872744e-01,\n",
       "        7.13673253e-01, -9.98767562e-01,  9.89621367e-01,  3.96510302e-01,\n",
       "        8.94377254e-01, -5.96493279e-01, -3.15688109e-01, -2.90742553e-01,\n",
       "        1.71623047e-01, -6.20597112e-01,  1.59211683e-01, -2.62127032e-01,\n",
       "        1.45304717e+00,  1.20292690e-02, -2.03652374e+00, -7.65659383e-02,\n",
       "       -3.16993464e-01, -9.45744776e-02,  1.92998047e-01, -2.16707303e+00,\n",
       "       -4.77983625e-01,  7.46804974e-01,  7.57476729e-01,  8.57400663e-02,\n",
       "        1.20694258e-01,  4.54035222e-01,  8.19580038e-01,  8.37376981e-01,\n",
       "       -6.29849640e-01,  3.09251788e-01,  8.65118792e-01, -6.64622680e-01,\n",
       "        4.96092548e-01,  1.19790186e+00,  7.10267176e-01, -1.47637470e+00,\n",
       "        1.26062724e+00,  1.68881329e+00,  2.43665315e+00, -1.20649081e+00,\n",
       "        9.09696302e-01, -6.62793746e-01, -4.07142289e-01, -3.30494503e-01,\n",
       "        1.24555547e-01, -3.04351639e-01,  2.25519140e-01,  8.28386893e-01,\n",
       "       -6.28853234e-01, -1.37024039e+00, -1.18592205e+00,  4.51593226e-01,\n",
       "       -9.88533595e-01, -7.55042241e-01, -4.59762451e-01, -9.53117320e-01,\n",
       "        6.40751683e-01, -6.92909473e-01, -1.27861223e+00, -1.88887703e-01,\n",
       "        7.90457332e-02, -9.75231700e-01, -1.80323723e-01, -1.13584440e+00,\n",
       "        3.94024374e-01,  9.69266113e-01, -1.32762348e+00, -6.04228871e-01,\n",
       "       -5.10415051e-01, -1.40665634e+00,  2.11145670e+00,  6.27841839e-01,\n",
       "        8.33048201e-03,  1.15724283e+00,  4.76667825e-01,  7.89464447e-01,\n",
       "       -9.09574696e-01,  1.11564294e+00, -5.36046018e-01, -1.49843571e+00,\n",
       "       -3.47886463e-01, -4.90957881e-01,  2.71726729e-01,  9.55584892e-01,\n",
       "       -4.76553571e-01, -5.70656660e-01, -9.51445896e-01, -3.91873346e-01,\n",
       "       -8.53364690e-01, -4.58640548e-02, -8.93070875e-01,  1.05245723e+00,\n",
       "        7.21485817e-01, -7.87638079e-01, -1.07269791e+00, -9.36745236e-01,\n",
       "        6.63238050e-01,  1.01848410e+00, -5.95912851e-02, -7.82741485e-01,\n",
       "       -3.76761617e-01, -2.49252715e-01,  1.25451632e+00, -2.51294980e-01,\n",
       "       -8.56991454e-01,  9.43188651e-01,  3.16627050e-01, -5.86398411e-01,\n",
       "        2.76034582e-01,  1.90240573e+00, -1.29033625e+00, -2.30082518e-01,\n",
       "        1.20307713e+00, -1.98917884e+00, -3.94252491e-02,  1.00696785e+00,\n",
       "       -1.15041807e+00,  5.22544395e-01, -8.58862633e-01,  1.19671862e+00,\n",
       "        1.12677367e+00,  1.20748728e-02,  1.64032105e+00,  3.50318570e-01,\n",
       "       -6.15023275e-01,  1.35934687e+00,  1.93103885e-02,  2.00777046e+00,\n",
       "       -4.44302845e-01, -1.19522106e-01,  1.50913339e+00, -2.61124334e-01,\n",
       "       -4.61703233e-01,  3.32893382e-01,  9.56013005e-01,  5.79994115e-01,\n",
       "        2.16526184e+00, -1.19495740e-01,  1.12223947e+00,  5.04709963e-01,\n",
       "        5.93257181e-01, -1.02776229e-01, -1.70857109e-01,  8.12070350e-01,\n",
       "        1.62412384e-01,  6.80046925e-02, -1.69296694e-01, -1.88872208e-01,\n",
       "       -4.89129755e-01, -8.19778314e-01, -1.13754223e+00, -1.69605149e+00,\n",
       "        2.41521699e-01,  1.73171539e-02,  1.67121172e+00, -1.13630844e+00,\n",
       "        2.00515889e+00, -1.24163726e-01,  5.95760143e-01,  5.62474036e-01,\n",
       "       -9.56086996e-01,  6.36244266e-01,  2.37113955e-01,  6.51456924e-01,\n",
       "       -5.72775626e-01,  1.16511469e+00,  3.98262513e-01, -1.18842911e-01,\n",
       "        2.95355156e+00, -8.74309720e-01,  5.49201317e-01, -3.68794952e-01,\n",
       "       -3.05187499e-01, -1.23041284e+00,  2.72715267e-01,  1.43285632e+00,\n",
       "        4.46778282e-01,  1.38905433e+00, -2.84392310e-01, -4.80568909e-01,\n",
       "        5.22438885e-01, -3.82709005e-01,  4.06588258e-01,  1.93393494e+00,\n",
       "       -1.84836404e-01, -1.54845492e+00, -8.60122861e-01, -4.37765953e-02,\n",
       "        1.17744244e+00, -1.49334417e+00,  1.75427681e+00,  2.37302039e-01,\n",
       "        1.21321240e+00,  1.29517328e-01, -8.77329174e-01,  6.21581432e-01,\n",
       "       -5.76296584e-01, -9.68083845e-01,  1.57956619e-02,  4.08454127e-01,\n",
       "        9.49117721e-01, -8.91103856e-01, -4.05374994e-01,  8.87950015e-01,\n",
       "        3.07691198e-01,  3.68624816e-01, -4.02666700e-01, -8.27933161e-01,\n",
       "        3.12869714e-01,  6.39492696e-03,  2.93899615e-01, -2.13923176e+00,\n",
       "       -4.05753947e-01, -8.42574034e-01,  3.47435045e+00,  6.91465343e-01,\n",
       "       -7.85271718e-02,  3.19306186e-02,  1.46188567e-01,  1.27182578e+00,\n",
       "       -3.44644318e-01,  2.35996061e+00, -2.79672162e-02,  2.59900367e-01,\n",
       "        6.34493331e-01,  7.14701159e-01, -1.27631275e+00,  1.86305714e+00,\n",
       "       -6.40205124e-02,  3.13161196e-03,  8.79585088e-01,  1.61692407e+00,\n",
       "        4.48517736e-01, -5.65334742e-01,  1.23558941e+00,  2.60500359e+00,\n",
       "        6.09712979e-01, -4.30622854e-02, -9.52232351e-01, -2.97525550e-01,\n",
       "        1.48065413e-01, -1.30852365e+00, -1.35551635e+00, -2.67784165e-01,\n",
       "       -1.04577374e-01, -6.59343213e-01, -6.21057557e-01,  5.27635686e-01,\n",
       "        5.00246775e-01, -1.43337506e-01, -8.29121914e-01, -1.58137437e+00,\n",
       "        1.39969839e+00,  4.01979944e-01, -2.17123039e+00, -1.12884864e+00,\n",
       "        1.20112047e+00, -4.10991359e-01, -1.87573226e+00,  3.93702651e-01,\n",
       "        3.83538244e-01, -6.26298598e-01,  3.62368869e-01,  4.53243898e-03,\n",
       "        7.31352806e-01, -1.10851722e+00,  6.11997554e-01, -5.53918577e-01,\n",
       "       -8.03541842e-02,  5.21364979e-01, -6.06258607e-01,  2.17662065e+00,\n",
       "        7.74983773e-01,  4.90634196e-01, -1.00366863e+00,  1.34205947e+00,\n",
       "        8.60283021e-01,  7.70908680e-01, -2.37182539e-01, -7.86710520e-02,\n",
       "       -1.19967672e-01,  8.74788027e-01, -1.37294924e+00,  1.18055257e+00,\n",
       "       -1.41918656e+00, -4.52611031e-01, -6.14065862e-01,  1.39692097e+00,\n",
       "       -1.26346721e+00,  3.50223202e-01,  5.58067372e-01, -1.80409198e+00,\n",
       "       -5.15140757e-01, -1.05115405e+00, -6.64906064e-01, -5.70527391e-01,\n",
       "       -1.81002328e+00, -2.07549890e+00,  9.11951631e-01, -9.06288450e-02,\n",
       "        1.33447715e+00, -1.17502383e+00, -1.28121931e+00, -8.06984874e-01,\n",
       "       -1.01298131e+00,  1.29439611e+00,  1.04644558e+00, -3.92247556e-01,\n",
       "       -1.65318248e+00, -9.32978092e-01, -1.46434671e-01, -1.21957539e+00,\n",
       "       -1.59471610e+00, -1.07986563e-01, -1.96586632e+00,  1.41676838e+00,\n",
       "        1.54277004e-01, -1.23405522e+00, -1.43112078e+00, -1.53110855e+00,\n",
       "        5.23506739e-01,  9.77354565e-01, -6.70558213e-01, -8.12465634e-02,\n",
       "        6.60077140e-01,  9.34613500e-01,  1.39347686e+00,  2.14671426e+00,\n",
       "       -5.55768630e-01,  1.06898679e+00,  9.97390664e-01,  1.31221537e+00,\n",
       "       -7.26027146e-01, -1.40502262e+00,  8.41544377e-01, -4.32194564e-01,\n",
       "        5.81767558e-01,  3.18761591e-01,  1.35104513e-01, -4.43037177e-01,\n",
       "       -1.30911654e+00,  1.85806048e-01, -7.41121512e-02,  1.56210827e+00,\n",
       "        2.27526569e+00,  1.82291377e+00,  3.80941105e-01, -1.14900151e+00,\n",
       "        2.59255687e-01, -6.46510252e-01,  1.42857056e+00, -7.03820159e-01,\n",
       "        6.08476323e-01, -1.32226320e+00,  1.63386110e-01, -1.09794329e-01,\n",
       "       -1.55487530e+00,  5.34765803e-01,  5.62362084e-01, -7.28928935e-02,\n",
       "       -8.05823746e-01,  3.00100924e-01,  1.42759139e+00, -1.13548084e+00,\n",
       "        1.82009075e+00, -4.06701551e-01, -1.73261978e+00,  8.58314327e-01,\n",
       "        2.17948427e+00, -3.82579459e-01, -4.27068285e-01, -1.66674432e+00,\n",
       "        2.00199237e-01, -1.36049908e+00,  1.36513766e-01, -1.41455106e+00,\n",
       "       -4.89036864e-01,  4.50004111e-01, -4.06965743e-01, -8.15203056e-01,\n",
       "       -4.30232878e-02, -3.06710962e-01, -7.46339762e-01,  1.58349895e+00,\n",
       "       -3.00591108e-02, -1.90201026e+00, -3.60363769e-01,  4.12568122e-01,\n",
       "       -1.57494762e+00, -6.22580039e-01,  4.28698592e-01, -8.86825348e-01,\n",
       "       -1.12199934e+00,  1.16038007e+00,  8.98937761e-01,  4.24595867e-01,\n",
       "       -2.88819949e-01,  1.41604936e-02,  1.14483075e+00,  1.91726248e-02,\n",
       "        1.02053944e+00, -1.80829318e-01, -8.06760355e-01, -6.70709677e-01,\n",
       "       -6.57985747e-03,  3.71400764e-01, -2.54966292e-01, -1.98489184e-01,\n",
       "       -1.11928103e+00, -3.52739259e-01,  3.59056773e-01, -4.51094196e-01,\n",
       "       -7.35976571e-01, -2.27193568e-01, -9.27850526e-01,  6.40181266e-01,\n",
       "       -1.94390735e-02, -1.02036698e+00, -5.83456191e-01, -5.02582793e-01,\n",
       "        5.88162050e-01,  9.94088990e-01,  2.95073446e-01,  3.81624583e-01,\n",
       "        1.38774665e-01, -1.60951331e+00,  2.10882126e-01,  1.92448776e+00,\n",
       "       -1.53734159e+00, -2.19215206e-02, -8.67094918e-01,  3.97910140e-02,\n",
       "        1.02907131e+00,  1.24847474e+00,  1.32343388e+00,  7.29869247e-01,\n",
       "       -1.77798148e+00,  8.23711918e-01,  1.52640193e+00,  8.52297058e-01,\n",
       "        3.43964792e-01,  1.28435572e+00,  2.41646378e-01, -3.36802681e-01,\n",
       "        4.94584332e-01,  6.01396644e-01, -1.53148905e+00,  8.17896114e-03,\n",
       "       -4.07940110e-01, -6.40643647e-01, -4.91814540e-02,  3.15227216e-01,\n",
       "       -1.07805638e+00, -1.85036766e+00,  1.84944310e-01,  3.67777871e-01,\n",
       "       -1.43777580e-01,  1.00442240e+00, -1.88861808e+00, -1.24557533e+00,\n",
       "       -5.86020401e-02, -4.95276832e-01, -8.62210524e-01, -1.38114506e+00])"
      ]
     },
     "execution_count": 22,
     "metadata": {},
     "output_type": "execute_result"
    }
   ],
   "source": [
    "data = np.random.randn(1000)\n",
    "data"
   ]
  },
  {
   "cell_type": "code",
   "execution_count": 23,
   "id": "b6f1772e-5f12-4eae-bc50-f5aaf8434ebe",
   "metadata": {},
   "outputs": [
    {
     "data": {
      "image/png": "[encoded data removed]",
      "text/plain": [
       "<Figure size 432x288 with 1 Axes>"
      ]
     },
     "metadata": {
      "needs_background": "light"
     },
     "output_type": "display_data"
    }
   ],
   "source": [
    "fig = plt.figure()\n",
    "plt.hist(data, color='yellow', edgecolor='black', linewidth=2)\n",
    "plt.xlabel('X-Axis')\n",
    "plt.ylabel('Count')\n",
    "plt.title('Histogram Plot')\n",
    "plt.show()"
   ]
  }
 ],
 "metadata": {
  "kernelspec": {
   "display_name": "Python 3",
   "language": "python",
   "name": "python3"
  },
  "language_info": {
   "codemirror_mode": {
    "name": "ipython",
    "version": 3
   },
   "file_extension": ".py",
   "mimetype": "text/x-python",
   "name": "python",
   "nbconvert_exporter": "python",
   "pygments_lexer": "ipython3",
   "version": "3.8.8"
  }
 },
 "nbformat": 4,
 "nbformat_minor": 5
}
