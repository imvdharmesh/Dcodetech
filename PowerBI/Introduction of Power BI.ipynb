{
 "cells": [
  {
   "cell_type": "markdown",
   "id": "5a23647d",
   "metadata": {},
   "source": [
    "# Introduction to Power BI"
   ]
  },
  {
   "cell_type": "markdown",
   "id": "bb811898",
   "metadata": {},
   "source": [
    "## What is Power BI ?\n",
    "\n",
    "Power BI is a Business Analytics service provided by Microsoft that lets you to visualize your data and share insights within your clients and different businesses."
   ]
  },
  {
   "cell_type": "markdown",
   "id": "9b0658e4",
   "metadata": {},
   "source": [
    "## Why Power BI ?\n",
    "\n",
    "- Power BI allows you to view,analyze and visualize huge quantity of data that cannot be opened in an Excel Sheet, Power BI uses powerful compression algorithms to import and cache the data within the .PBIX file.\n",
    "\n",
    "- Power BI makes things visually appealing, it has easy drag and drop functionality with features that allows you to copy all formatting across similar visualisation.\n",
    "\n",
    "- Anyone who is familiar with Office 365 can easily connect Excel Queries, data models,and reports to Power BI, Dashboards they can quickly gather, analyze,publish and share Excel business data in a new way.\n",
    "\n",
    "- In order to analyze data from cloud, You can use Azure to analyze large volume of data and by using Azure Data Lake you can reduce the time to get insight and increase collaboration between business analysts, Data engineers and Data Scientist\n",
    "\n",
    "- It also allows you to get insight from data and turn insights into sections to take data driven business decision.\n",
    "\n",
    "- It can also fetch real time data from factory sensors and social media sources, by which you can take decision in real time."
   ]
  },
  {
   "cell_type": "markdown",
   "id": "cd52b5c1",
   "metadata": {},
   "source": [
    "## Features of Power BI :\n",
    "\n",
    "**1. Power BI Desktop:** Power BI Desktop allows you to build reports by accessing data easily. You do not need advanced report designing or query skills to build a report.\n",
    "\n",
    "**2. Stream Analytics:** From Factory sensors to social media sources Power BI supports real time analytics to make timely decisions.\n",
    "\n",
    "**3. Multiple Data Sources:** Power BI supports various sources of data such as Excel, CSV,SQL,Web files, etc to create interactive visualizations.\n",
    "\n",
    "**4. Custom Visualization:** Power BI has a rich set of libraries which are custom based libraries, that can be used to create custom visualization."
   ]
  },
  {
   "cell_type": "markdown",
   "id": "8b20816a",
   "metadata": {},
   "source": [
    "## Components of Power BI :"
   ]
  },
  {
   "cell_type": "markdown",
   "id": "08d91d6a",
   "metadata": {},
   "source": [
    "<img src='https://intellipaat.com/mediaFiles/2019/03/Components-of-Power-BI.png' />"
   ]
  },
  {
   "cell_type": "markdown",
   "id": "b570e699",
   "metadata": {},
   "source": [
    "**1.) Power Query:** Power Query is the data transformation and mash up engine. It can be downloaded as an add on for Excel or can be used as a part of Power BI desktop\n",
    "\n",
    "**2.) Power Pivot:** It is a data modelling and calculation engine. It uses Data Analysis Expression (DAX) language to model simple & complex data.\n",
    "\n",
    "**3.) Power View:** It is the data visualization component that can connect to data sources and can filter data for each data visualization element or for the entire report.\n",
    "\n",
    "**4) Power Map:** It is used to visualize geospatial data in 3D mode. Power Map works with bing map to get the best visualisation based on latitude or country state, city and street address information.\n",
    "\n",
    "**5) Power BI Desktop:** It is a development tool for Power Query. Power Pivot and Power View along with Power BI desktop you have everything undr same solution and it is easy to develop BI and analysis experience.\n",
    "\n",
    "**6) Power Q&A:** It is a natural language engine for questions and answers to your data model."
   ]
  }
 ],
 "metadata": {
  "kernelspec": {
   "display_name": "Python 3",
   "language": "python",
   "name": "python3"
  },
  "language_info": {
   "codemirror_mode": {
    "name": "ipython",
    "version": 3
   },
   "file_extension": ".py",
   "mimetype": "text/x-python",
   "name": "python",
   "nbconvert_exporter": "python",
   "pygments_lexer": "ipython3",
   "version": "3.8.8"
  }
 },
 "nbformat": 4,
 "nbformat_minor": 5
}
